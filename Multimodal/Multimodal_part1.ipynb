{
 "cells": [
  {
   "cell_type": "markdown",
   "metadata": {
    "id": "GUcflxbS_DSW"
   },
   "source": [
    "importing packages:"
   ]
  },
  {
   "cell_type": "code",
   "execution_count": 4,
   "metadata": {
    "id": "stbqg_-agp5_"
   },
   "outputs": [],
   "source": [
    "# first importing libraries\n",
    "import base64\n",
    "import requests\n",
    "import numpy as np\n",
    "import gdown\n",
    "from zipfile import ZipFile\n",
    "import gzip as gzip\n",
    "import os\n",
    "\n",
    "import torch\n",
    "from torch.utils.data import Dataset\n",
    "from torchvision import datasets\n",
    "from torchvision.transforms import ToTensor\n",
    "import matplotlib.pyplot as plt\n",
    "\n",
    "import pandas as pd\n",
    "from torchvision.io import read_image\n",
    "import re\n",
    "import cv2\n",
    "from skimage.transform import resize\n",
    "from google.colab.patches import cv2_imshow\n",
    "from tqdm import tqdm\n",
    "from torch.optim import lr_scheduler\n",
    "\n",
    "\n",
    "from __future__ import print_function\n",
    "import argparse\n",
    "import numpy  as np\n",
    "from PIL import Image\n",
    "import torch\n",
    "import torch.nn as nn\n",
    "import torch.nn.functional as F\n",
    "import torchvision\n",
    "import torch.optim as optim\n",
    "from torch.utils.data import DataLoader, Dataset\n",
    "from torch.utils.data.sampler import SubsetRandomSampler\n",
    "from torchvision import transforms\n",
    "\n",
    "import time\n",
    "import os\n",
    "import copy"
   ]
  },
  {
   "cell_type": "code",
   "execution_count": 5,
   "metadata": {
    "colab": {
     "base_uri": "https://localhost:8080/"
    },
    "id": "r2DyAJ_1ibG6",
    "outputId": "ac0cad95-6333-4418-cef4-50a5ee171423"
   },
   "outputs": [
    {
     "name": "stdout",
     "output_type": "stream",
     "text": [
      "cuda\n"
     ]
    }
   ],
   "source": [
    "device = \"cuda\" if torch.cuda.is_available() else \"cpu\"\n",
    "print(device)"
   ]
  },
  {
   "cell_type": "code",
   "execution_count": 6,
   "metadata": {
    "colab": {
     "base_uri": "https://localhost:8080/"
    },
    "id": "NH-Snd1FiewA",
    "outputId": "04a77592-98fa-4c71-83c8-993de34bffea"
   },
   "outputs": [
    {
     "name": "stdout",
     "output_type": "stream",
     "text": [
      "Looking in indexes: https://pypi.org/simple, https://us-python.pkg.dev/colab-wheels/public/simple/\n",
      "Collecting git+https://github.com/hukkelas/DSFD-Pytorch-Inference.git\n",
      "  Cloning https://github.com/hukkelas/DSFD-Pytorch-Inference.git to /tmp/pip-req-build-ipo8933n\n",
      "  Running command git clone --filter=blob:none --quiet https://github.com/hukkelas/DSFD-Pytorch-Inference.git /tmp/pip-req-build-ipo8933n\n",
      "  Resolved https://github.com/hukkelas/DSFD-Pytorch-Inference.git to commit fc1051d80936e3d7a6e34053bb5485c0a032e42e\n",
      "  Preparing metadata (setup.py) ... \u001b[?25l\u001b[?25hdone\n",
      "Requirement already satisfied: numpy in /usr/local/lib/python3.8/dist-packages (from face-detection==0.2.1) (1.21.6)\n",
      "Building wheels for collected packages: face-detection\n",
      "  Building wheel for face-detection (setup.py) ... \u001b[?25l\u001b[?25hdone\n",
      "  Created wheel for face-detection: filename=face_detection-0.2.1-py3-none-any.whl size=29707 sha256=3554a414c1353ea521675a1032ba6b293d847233df804ba94c9e050d84a63e8e\n",
      "  Stored in directory: /tmp/pip-ephem-wheel-cache-jm6p7fx_/wheels/57/d0/53/55657e0e64121cb64c10829c2f29bb3703afd0dcee55416e51\n",
      "Successfully built face-detection\n",
      "Installing collected packages: face-detection\n",
      "Successfully installed face-detection-0.2.1\n"
     ]
    }
   ],
   "source": [
    "!pip install git+https://github.com/hukkelas/DSFD-Pytorch-Inference.git\n",
    "import face_detection"
   ]
  },
  {
   "cell_type": "code",
   "execution_count": 7,
   "metadata": {
    "colab": {
     "base_uri": "https://localhost:8080/"
    },
    "id": "yinLjPiCiiaY",
    "outputId": "ca697267-7987-4007-d84f-d31174edaf64"
   },
   "outputs": [
    {
     "name": "stdout",
     "output_type": "stream",
     "text": [
      "Cloning into 'MSCTD'...\n",
      "remote: Enumerating objects: 1217, done.\u001b[K\n",
      "remote: Counting objects: 100% (27/27), done.\u001b[K\n",
      "remote: Compressing objects: 100% (23/23), done.\u001b[K\n",
      "remote: Total 1217 (delta 13), reused 7 (delta 3), pack-reused 1190\u001b[K\n",
      "Receiving objects: 100% (1217/1217), 102.24 MiB | 11.58 MiB/s, done.\n",
      "Resolving deltas: 100% (616/616), done.\n",
      "Updating files: 100% (934/934), done.\n"
     ]
    }
   ],
   "source": [
    "!git clone https://github.com/XL2248/MSCTD.git"
   ]
  },
  {
   "cell_type": "code",
   "execution_count": 8,
   "metadata": {
    "colab": {
     "base_uri": "https://localhost:8080/"
    },
    "id": "0tAMxeJpikv1",
    "outputId": "35f25834-7a9c-44ae-9aac-8e3df186b834"
   },
   "outputs": [
    {
     "name": "stdout",
     "output_type": "stream",
     "text": [
      "Mounted at /content/gdrive\n"
     ]
    }
   ],
   "source": [
    "from google.colab import drive\n",
    "drive.mount('/content/gdrive') # we use google drive to load files and save models there! so change path files based on your own data and run the code!"
   ]
  },
  {
   "cell_type": "markdown",
   "metadata": {
    "id": "G7BgXGIL_Iwy"
   },
   "source": [
    "Here we provide enough code snippets to form the input matrices for models used but we used the saved ones from previous phases:"
   ]
  },
  {
   "cell_type": "code",
   "execution_count": 9,
   "metadata": {
    "colab": {
     "base_uri": "https://localhost:8080/"
    },
    "id": "GLGshVolinof",
    "outputId": "d5400547-16fc-4f49-a413-42b61962bc65"
   },
   "outputs": [
    {
     "name": "stdout",
     "output_type": "stream",
     "text": [
      "rm: cannot remove '/content/gdrive/MyDrive/Phase_0_images': No such file or directory\n"
     ]
    }
   ],
   "source": [
    "!rm -r /content/gdrive/MyDrive/Phase_0_images"
   ]
  },
  {
   "cell_type": "code",
   "execution_count": null,
   "metadata": {
    "id": "6ZB9lu2dishE"
   },
   "outputs": [],
   "source": [
    "def donwload_to_file(grdive_path,file_name,output_path):\n",
    "  \"\"\"\n",
    "  function for downloading zip files from google drive and save it to desired path on colab\n",
    "\n",
    "  inputs:\n",
    "    grdive_path: path of file we want to download (url should be in export=download format)\n",
    "    file_name: name of file we want to download\n",
    "    output_path:path we extract data into\n",
    "  outputs:\n",
    "    we dont have any output!\n",
    "\n",
    "  \"\"\"\n",
    "  gdown.download(grdive_path, file_name)\n",
    "  with ZipFile(file_name, 'r') as zipObj:\n",
    "    # Extract all the contents of zip file in current directory\n",
    "    zipObj.extractall(output_path)"
   ]
  },
  {
   "cell_type": "code",
   "execution_count": null,
   "metadata": {
    "id": "Q074FzWZiutT"
   },
   "outputs": [],
   "source": [
    "# for train          \n",
    "donwload_to_file('https://drive.google.com/u/0/uc?id=1GAZgPpTUBSfhne-Tp0GDkvSHuq6EMMbj&export=download','train_ende.zip','/content/gdrive/MyDrive/Phase_0_images')\n",
    "# renaming train folder name (it's train_ende) to just train so it is more consistent with other folders names\n",
    "os.rename('/content/gdrive/MyDrive/Phase_0_images/train_ende','/content/gdrive/MyDrive/Phase_0_images/train')\n",
    "\n",
    "# for validation     https://drive.google.com/u/0/uc?id=12HM8uVNjFg-HRZ15ADue4oLGFAYQwvTA&export=download\n",
    "donwload_to_file('https://drive.google.com/u/0/uc?id=12HM8uVNjFg-HRZ15ADue4oLGFAYQwvTA&export=download','dev.zip','/content/gdrive/MyDrive/Phase_0_images')\n",
    "\n",
    "# for test\n",
    "donwload_to_file('https://drive.google.com/u/0/uc?id=1B9ZFmSTqfTMaqJ15nQDrRNLqBvo-B39W&export=download','test.zip','/content/gdrive/MyDrive/Phase_0_images')"
   ]
  },
  {
   "cell_type": "code",
   "execution_count": null,
   "metadata": {
    "id": "hgoiNswQixrO"
   },
   "outputs": [],
   "source": [
    "model_vgg_trained =torchvision.models.vgg16(pretrained=True)\n",
    "for param in model_vgg_trained.parameters():\n",
    "    param.requires_grad = False\n",
    "\n",
    "# Parameters of newly constructed modules have requires_grad=True by default\n",
    "model_vgg_trained.classifier[6] = nn.Linear(4096, 3) # we have 3 output class\n",
    "model_vgg_trained = model_vgg_trained.to(device)\n",
    "if device == 'cpu':\n",
    "  model_vgg_trained.load_state_dict(torch.load('/content/gdrive/MyDrive/Phase_1_models/vgg_trained/gdrivemodel_vgg_trained_weights.pth',map_location=torch.device('cpu')))\n",
    "else:\n",
    "  model_vgg_trained.load_state_dict(torch.load('/content/gdrive/MyDrive/Phase_1_models/vgg_trained/gdrivemodel_vgg_trained_weights.pth'))\n",
    "model_vgg_trained.eval()"
   ]
  },
  {
   "cell_type": "code",
   "execution_count": null,
   "metadata": {
    "id": "ZQBcYzaFi5v1"
   },
   "outputs": [],
   "source": [
    "print(model_vgg_trained)"
   ]
  },
  {
   "cell_type": "code",
   "execution_count": null,
   "metadata": {
    "id": "M95d0GwAi8No"
   },
   "outputs": [],
   "source": [
    "model_resnet_trained= torchvision.models.resnet50(pretrained=True)\n",
    "\n",
    "# Parameters of newly constructed modules have requires_grad=True by default\n",
    "num_ftrs = model_resnet_trained.fc.in_features\n",
    "model_resnet_trained.fc = nn.Linear(num_ftrs, 3) # we have 10 output class\n",
    "\n",
    "model_resnet_trained= model_resnet_trained.to(device)\n",
    "if device == 'cpu':\n",
    "  model_resnet_trained.load_state_dict(torch.load('/content/gdrive/MyDrive/Phase_1_models/resnet_trained',map_location=torch.device('cpu')))\n",
    "else:\n",
    "  model_resnet_trained.load_state_dict(torch.load('/content/gdrive/MyDrive/Phase_1_models/resnet_trained'))\n",
    "model_resnet_trained.eval()"
   ]
  },
  {
   "cell_type": "code",
   "execution_count": 10,
   "metadata": {
    "id": "ASeAzZeq8kC0"
   },
   "outputs": [],
   "source": [
    "class MSTCDDate(Dataset):\n",
    "  \"\"\"\n",
    "  data loader class for getting data but one image (and it corresponding dialogue and label at a time)\n",
    "  inputs:\n",
    "    image_path: folder path of image data\n",
    "    txt_path: folder path of txt data\n",
    "    language: language type(english,german,...)\n",
    "    mode: train,test,validation \n",
    "    image_format: jpg,png,...\n",
    "    sclae: upscaling or downscaling image\n",
    "    transform: transformation we want to apply on data\n",
    "    target_transform: transformation we want to apply on labels\n",
    "\n",
    "\n",
    "\n",
    "  \"\"\"\n",
    "   \n",
    "\n",
    "  def __init__(self,image_path,txt_path,language,mode,image_format,scale, transform=None, target_transform=None):\n",
    "     \n",
    "      text_loader = language + '_' + mode + '.txt'\n",
    "      sentiment_loader = 'sentiment_' + mode+'.txt'\n",
    "      index_file = 'image_index_' + mode + '.txt'\n",
    "      self.image_path = image_path\n",
    "      self.transform = transform\n",
    "      self.target_transform = target_transform\n",
    "      self.mode = mode\n",
    "      self.image_format = image_format\n",
    "      self.scale = scale\n",
    "      for file_names in os.scandir(txt_path):\n",
    "        name_file = os.path.basename(file_names)\n",
    "        if name_file == text_loader:\n",
    "          with open(file_names.path) as f:\n",
    "            self.text_file = [line.rstrip('\\n') for line in f]\n",
    "        if name_file == sentiment_loader:\n",
    "          with open(file_names.path) as f:\n",
    "            self.sentiment_file = [line.rstrip('\\n') for line in f]\n",
    "        if name_file == index_file:\n",
    "          with open(file_names.path) as f:\n",
    "            self.index_file = [line.rstrip('\\n') for line in f]\n",
    "\n",
    "  def __len__(self):\n",
    "      return len(self.text_file)\n",
    "\n",
    "  def __getitem__(self, idx):\n",
    "      image_path_complete = self.image_path + '/' + self.mode + '/'\n",
    "      text_file_chosen = self.text_file[idx]\n",
    "      sentiment_chosen = int(self.sentiment_file[idx])\n",
    "      temp_image = cv2.imread(image_path_complete+str(idx)+ '.' + self.image_format)\n",
    "      n1,n2,n3 = np.shape(temp_image)\n",
    "      if self.scale != 1:\n",
    "        image = resize(temp_image,[int(n1/self.scale),int(n2/self.scale)], anti_aliasing=True)\n",
    "      else:\n",
    "        image = temp_image\n",
    "      if self.transform:\n",
    "          image = self.transform(image)\n",
    "      if self.target_transform:\n",
    "          label = self.target_transform(sentiment_chosen)\n",
    "      return  text_file_chosen,sentiment_chosen,image"
   ]
  },
  {
   "cell_type": "code",
   "execution_count": null,
   "metadata": {
    "id": "Uln4O8wsi-S-"
   },
   "outputs": [],
   "source": [
    "print(model_resnet_trained)"
   ]
  },
  {
   "cell_type": "code",
   "execution_count": 8,
   "metadata": {
    "colab": {
     "base_uri": "https://localhost:8080/",
     "height": 87,
     "referenced_widgets": [
      "35f0b1ae7ddd44fea5c5057f1584a61f",
      "2978d75cb3dc4bbf9ce26be6e21aa686",
      "ee00e5a33f9b403eae1d69d301d0c3c8",
      "eaa990966b6545b086ffadbd744f5eaf",
      "0f7ddd7136cb4cfd8d96e5ddc04b29bb",
      "9c38dfe2d8c2413ca71ec9546b5bd9bb",
      "61ff190b59384779aaefb0feb01f0cec",
      "4fb84155b5ef43b88c7307c6d551c005",
      "760aa57f39ca4580bfb0a2aaaf9ee8b0",
      "67bf4099f9da4f9ca67ec4bfc160a9dc",
      "0a4592ae820f48c4b703b48325d39294"
     ]
    },
    "id": "DBR9xrMfjAeJ",
    "outputId": "c81e2575-c8e3-489a-ee9d-5718e7311ef8"
   },
   "outputs": [
    {
     "name": "stderr",
     "output_type": "stream",
     "text": [
      "Downloading: \"https://folk.ntnu.no/haakohu/RetinaFace_mobilenet025.pth\" to /root/.cache/torch/hub/checkpoints/RetinaFace_mobilenet025.pth\n"
     ]
    },
    {
     "data": {
      "application/vnd.jupyter.widget-view+json": {
       "model_id": "35f0b1ae7ddd44fea5c5057f1584a61f",
       "version_major": 2,
       "version_minor": 0
      },
      "text/plain": [
       "  0%|          | 0.00/1.71M [00:00<?, ?B/s]"
      ]
     },
     "metadata": {},
     "output_type": "display_data"
    }
   ],
   "source": [
    "detector_mobilenet = face_detection.build_detector(\"RetinaNetMobileNetV1\", confidence_threshold=.7, nms_iou_threshold=.3)"
   ]
  },
  {
   "cell_type": "code",
   "execution_count": null,
   "metadata": {
    "id": "ITs5L52LjCwW"
   },
   "outputs": [],
   "source": [
    "data_train = MSTCDDate('/content/gdrive/MyDrive/Phase_0_images','/content/MSCTD/MSCTD_data/ende','english','train','jpg',1)\n",
    "a=data_train"
   ]
  },
  {
   "cell_type": "code",
   "execution_count": null,
   "metadata": {
    "id": "5RqDrdsYjEgu"
   },
   "outputs": [],
   "source": [
    "data_val = MSTCDDate('/content/gdrive/MyDrive/Phase_0_images/dev','/content/MSCTD/MSCTD_data/ende','english','dev','jpg',1)"
   ]
  },
  {
   "cell_type": "code",
   "execution_count": null,
   "metadata": {
    "id": "t4sGzbuEjHtv"
   },
   "outputs": [],
   "source": [
    "data_test = MSTCDDate('/content/gdrive/MyDrive/Phase_0_images/test','/content/MSCTD/MSCTD_data/ende','english','test','jpg',1)"
   ]
  },
  {
   "cell_type": "code",
   "execution_count": null,
   "metadata": {
    "id": "-zYCMmiejJMv"
   },
   "outputs": [],
   "source": [
    "transformation_resnet= transforms.Compose([transforms.ToTensor(),transforms.Normalize((0.5,), (0.5,))])\n",
    "transformation_vgg= transforms.Compose([transforms.ToTensor(),transforms.Resize((50,100)),transforms.Normalize((0.485, 0.456, 0.406), (0.229, 0.224, 0.225))])"
   ]
  },
  {
   "cell_type": "code",
   "execution_count": null,
   "metadata": {
    "id": "VWrTZtRjjOCP"
   },
   "outputs": [],
   "source": [
    "sentiment_list = []\n",
    "inp=torch.zeros(len(data_train),7*3+1)\n",
    "counter = 0\n",
    "for i in tqdm(range(len(data_train)), total = len(data_train), desc=\"extracting faces... \"):\n",
    "  help=[]\n",
    "  text_file_chosen,sentiment_chosen,image = data_train[i] # loading file\n",
    "  imagep=image[:,:,[2,1,0]]\n",
    "  image1=torch.unsqueeze(transformation_vgg(imagep),0)\n",
    "  image1=image1.to(device)\n",
    "  with torch.no_grad():\n",
    "    image_out=model_vgg_trained(image1)\n",
    "  #image2=torch.unsqueeze(transformation_resnet(image),0)\n",
    "  #image2=image2.to(device)\n",
    "  face_all = detector_mobilenet.detect(image)\n",
    "  inp[i,0]=len(face_all)\n",
    "  c=0\n",
    "  for xmin,ymin,xmax,ymax,confidence in face_all:\n",
    "    if c>=6:\n",
    "      break;\n",
    "    if xmin < 0 :\n",
    "      xmin = 0\n",
    "    if ymin < 0:\n",
    "      ymin = 0\n",
    "    sentiment_list.append(sentiment_chosen)\n",
    "    temp = image[int(ymin): int(ymax),int(xmin):int(xmax),:]\n",
    "    temp = resize(temp,[int(100),int(75)], anti_aliasing=True)\n",
    "    temp = temp[:,:,[2,1,0]]\n",
    "    temp = torch.unsqueeze(transformation_resnet(temp),0)\n",
    "    temp = temp.float()\n",
    "    temp=temp.to(device)\n",
    "    with torch.no_grad():\n",
    "      face=model_resnet_trained(temp)\n",
    "    inp[i,c+1:c+4]=face\n",
    "    c+=1\n",
    "  inp[i,-4:-1]=image_out  \n",
    "  counter = counter + 1"
   ]
  },
  {
   "cell_type": "code",
   "execution_count": null,
   "metadata": {
    "id": "QGroARK-jQPy"
   },
   "outputs": [],
   "source": [
    "import pickle\n",
    "with open(\"/content/sample_data/inp\", \"wb\") as fp:   #Pickling\n",
    "  pickle.dump(inp, fp)\n",
    "with open(\"/content/sample_data/sentiment_list\", \"wb\") as fp:   #Pickling\n",
    "  pickle.dump(sentiment_list, fp)\n"
   ]
  },
  {
   "cell_type": "code",
   "execution_count": null,
   "metadata": {
    "id": "VPe8Q-JzjSqB"
   },
   "outputs": [],
   "source": [
    "#for validation\n",
    "sentiment_list_v = []\n",
    "inp_v=torch.zeros(len(data_val),7*3+1)\n",
    "counter = 0\n",
    "for i in tqdm(range(len(data_val)), total = len(data_val), desc=\"extracting faces... \"):\n",
    "  text_file_chosen,sentiment_chosen,image = data_val[i] # loading file\n",
    "  imagep=image[:,:,[2,1,0]]\n",
    "  image1=torch.unsqueeze(transformation_vgg(imagep),0)\n",
    "  image1=image1.to(device)\n",
    "  with torch.no_grad():\n",
    "    image_out=model_vgg_trained(image1)\n",
    "  #image2=torch.unsqueeze(transformation_resnet(image),0)\n",
    "  #image2=image2.to(device)\n",
    "  face_all = detector_mobilenet.detect(image)\n",
    "  inp_v[i,0]=len(face_all)\n",
    "  c=0\n",
    "  for xmin,ymin,xmax,ymax,confidence in face_all:\n",
    "    if c>=6:\n",
    "      break;\n",
    "    if xmin < 0 :\n",
    "      xmin = 0\n",
    "    if ymin < 0:\n",
    "      ymin = 0\n",
    "    sentiment_list_v.append(sentiment_chosen)\n",
    "    temp = image[int(ymin): int(ymax),int(xmin):int(xmax),:]\n",
    "    temp = resize(temp,[int(100),int(75)], anti_aliasing=True)\n",
    "    temp = temp[:,:,[2,1,0]]\n",
    "    temp = torch.unsqueeze(transformation_resnet(temp),0)\n",
    "    temp = temp.float()\n",
    "    temp=temp.to(device)\n",
    "    with torch.no_grad():\n",
    "      face=model_resnet_trained(temp)\n",
    "    inp_v[i,c+1:c+4]=face\n",
    "    c+=1\n",
    "  inp_v[i,-4:-1]=image_out  \n",
    "  counter = counter + 1"
   ]
  },
  {
   "cell_type": "code",
   "execution_count": null,
   "metadata": {
    "id": "4q61oYC8jT97"
   },
   "outputs": [],
   "source": [
    "import pickle\n",
    "with open(\"/content/gdrive/MyDrive/inp_v\", \"wb\") as fp:   #Pickling\n",
    "  pickle.dump(inp_v, fp)\n",
    "with open(\"/content/gdrive/MyDrive/sentiment_list_v\", \"wb\") as fp:   #Pickling\n",
    "  pickle.dump(sentiment_list_v, fp)"
   ]
  },
  {
   "cell_type": "code",
   "execution_count": null,
   "metadata": {
    "id": "TLIMYV9LkMb7"
   },
   "outputs": [],
   "source": [
    "# for test\n",
    "sentiment_list_t = []\n",
    "inp_t=torch.zeros(len(data_test),7*3+1)\n",
    "counter = 0\n",
    "for i in tqdm(range(len(data_test)), total = len(data_test), desc=\"extracting faces... \"):\n",
    "  text_file_chosen,sentiment_chosen,image = data_test[i] # loading file\n",
    "  imagep=image[:,:,[2,1,0]]\n",
    "  image1=torch.unsqueeze(transformation_vgg(imagep),0)\n",
    "  image1=image1.to(device)\n",
    "  with torch.no_grad():\n",
    "    image_out=model_vgg_trained(image1)\n",
    "  #image2=torch.unsqueeze(transformation_resnet(image),0)\n",
    "  #image2=image2.to(device)\n",
    "  face_all = detector_mobilenet.detect(image)\n",
    "  inp_t[i,0]=len(face_all)\n",
    "  c=0\n",
    "  for xmin,ymin,xmax,ymax,confidence in face_all:\n",
    "    if c>=6:\n",
    "      break;\n",
    "    if xmin < 0 :\n",
    "      xmin = 0\n",
    "    if ymin < 0:\n",
    "      ymin = 0\n",
    "    sentiment_list_t.append(sentiment_chosen)\n",
    "    temp = image[int(ymin): int(ymax),int(xmin):int(xmax),:]\n",
    "    temp = resize(temp,[int(100),int(75)], anti_aliasing=True)\n",
    "    temp = temp[:,:,[2,1,0]]\n",
    "    temp = torch.unsqueeze(transformation_resnet(temp),0)\n",
    "    temp = temp.float()\n",
    "    temp=temp.to(device)\n",
    "    with torch.no_grad():\n",
    "      face=model_resnet_trained(temp)\n",
    "    inp_t[i,c+1:c+4]=face\n",
    "    c+=1\n",
    "  inp_t[i,-4:-1]=image_out  \n",
    "  counter = counter + 1"
   ]
  },
  {
   "cell_type": "code",
   "execution_count": null,
   "metadata": {
    "id": "TyOFb-K0kO75"
   },
   "outputs": [],
   "source": [
    "import pickle\n",
    "with open(\"/content/gdrive/MyDrive/inp_t\", \"wb\") as fp:   #Pickling\n",
    "  pickle.dump(inp_t, fp)\n",
    "with open(\"/content/gdrive/MyDrive/sentiment_list_t\", \"wb\") as fp:   #Pickling\n",
    "  pickle.dump(sentiment_list_t, fp)"
   ]
  },
  {
   "cell_type": "markdown",
   "metadata": {
    "id": "SAMfjpNc_owa"
   },
   "source": [
    "Here are the code snippets to load the saved matrices. we use these data in the following:"
   ]
  },
  {
   "cell_type": "code",
   "execution_count": 170,
   "metadata": {
    "id": "PU2dNFR5jLRN"
   },
   "outputs": [],
   "source": [
    "with open('/content/MSCTD/MSCTD_data/ende/sentiment_train.txt') as f:\n",
    "  sentiment_train = [int(line.rstrip('\\n')) for line in f]\n",
    "with open('/content/MSCTD/MSCTD_data/ende/sentiment_dev.txt') as f:\n",
    "  sentiment_dev = [int(line.rstrip('\\n')) for line in f]\n",
    "with open('/content/MSCTD/MSCTD_data/ende/sentiment_test.txt') as f:\n",
    "  sentiment_test = [int(line.rstrip('\\n')) for line in f]"
   ]
  },
  {
   "cell_type": "code",
   "execution_count": 155,
   "metadata": {
    "id": "sSyZ2u7ajRc-"
   },
   "outputs": [],
   "source": [
    "import pickle\n",
    "with open(\"/content/gdrive/MyDrive/phase3/train1/sentiment_list\", \"rb\") as fp:   #Pickling\n",
    "  sentiment_list =  pickle.load(fp)\n",
    "with open(\"/content/gdrive/MyDrive/phase3/train1/inp\", \"rb\") as fp:   #Pickling\n",
    "  inp = pickle.load(fp)"
   ]
  },
  {
   "cell_type": "code",
   "execution_count": 156,
   "metadata": {
    "id": "6Jx6iXI8j1Yl"
   },
   "outputs": [],
   "source": [
    "with open(\"/content/gdrive/MyDrive/phase3/dev1/sentiment_list_v\", \"rb\") as fp:   #Pickling\n",
    "  sentiment_list_v =  pickle.load(fp)\n",
    "with open(\"/content/gdrive/MyDrive/phase3/dev1/inp_v\", \"rb\") as fp:   #Pickling\n",
    "  inp_v = pickle.load(fp)"
   ]
  },
  {
   "cell_type": "code",
   "execution_count": 157,
   "metadata": {
    "id": "rTrZWifGkRDC"
   },
   "outputs": [],
   "source": [
    "with open(\"/content/gdrive/MyDrive/phase3/test1/sentiment_list_t\", \"rb\") as fp:   #Pickling\n",
    "  sentiment_list_t =  pickle.load(fp)\n",
    "with open(\"/content/gdrive/MyDrive/phase3/test1/inp_t\", \"rb\") as fp:   #Pickling\n",
    "  inp_t = pickle.load(fp)"
   ]
  },
  {
   "cell_type": "code",
   "execution_count": 158,
   "metadata": {
    "id": "5YZRB8wCkUmH"
   },
   "outputs": [],
   "source": [
    "class comb_Dataset(Dataset):\n",
    "    def __init__(self,inp,labels):\n",
    "        self.inp = inp\n",
    "        self.lables = labels\n",
    "\n",
    "    def __len__(self):\n",
    "        return len(self.lables)\n",
    "\n",
    "    def __getitem__(self,idx):\n",
    "        if torch.is_tensor(idx):\n",
    "            idx = idx.tolist()\n",
    "        inp = self.inp[idx]\n",
    "        lables = self.lables[idx]\n",
    "        return inp,lables"
   ]
  },
  {
   "cell_type": "markdown",
   "metadata": {
    "id": "ZN0MvhJj_5R2"
   },
   "source": [
    "here we provide two different datasets and data loader. the one with -i in the end refers to the matices which contains only the faces features. the other one contains both the image and faces features"
   ]
  },
  {
   "cell_type": "code",
   "execution_count": 171,
   "metadata": {
    "id": "eAL2WaBykXEM"
   },
   "outputs": [],
   "source": [
    "batch_size = 64\n",
    "train_dataset= comb_Dataset(inp=inp,labels=sentiment_train)\n",
    "train_loader= DataLoader(train_dataset,batch_size=batch_size,shuffle = True)\n",
    "\n"
   ]
  },
  {
   "cell_type": "code",
   "execution_count": 172,
   "metadata": {
    "id": "QJZ79_qE9Zmz"
   },
   "outputs": [],
   "source": [
    "batch_size = 64\n",
    "train_dataset_i= comb_Dataset(inp=inp[:,:-3],labels=sentiment_train)\n",
    "train_loader_i= DataLoader(train_dataset_i,batch_size=batch_size,shuffle = True)\n"
   ]
  },
  {
   "cell_type": "code",
   "execution_count": 173,
   "metadata": {
    "id": "-LErH0RNkZOx"
   },
   "outputs": [],
   "source": [
    "val_dataset = comb_Dataset(inp=inp_v,  labels=sentiment_dev)\n",
    "val_loader=   DataLoader(val_dataset,batch_size=batch_size,shuffle = False)"
   ]
  },
  {
   "cell_type": "code",
   "execution_count": 174,
   "metadata": {
    "id": "7BKixzqr9j8k"
   },
   "outputs": [],
   "source": [
    "val_dataset_i = comb_Dataset(inp=inp_v[:,:-3],  labels=sentiment_dev)\n",
    "val_loader_i=   DataLoader(val_dataset_i,batch_size=batch_size,shuffle = False)"
   ]
  },
  {
   "cell_type": "code",
   "execution_count": 175,
   "metadata": {
    "id": "5ziElFD9kfFn"
   },
   "outputs": [],
   "source": [
    "test_dataset = comb_Dataset(inp=inp_t,  labels=sentiment_test)\n",
    "test_loader= DataLoader(test_dataset,batch_size=64,shuffle = False)"
   ]
  },
  {
   "cell_type": "code",
   "execution_count": 176,
   "metadata": {
    "id": "0yLkJDrd9rcm"
   },
   "outputs": [],
   "source": [
    "test_dataset_i = comb_Dataset(inp=inp_t[:,:-3],  labels=sentiment_test)\n",
    "test_loader_i= DataLoader(test_dataset_i,batch_size=64,shuffle = False)"
   ]
  },
  {
   "cell_type": "markdown",
   "metadata": {
    "id": "AWAFyngzATgV"
   },
   "source": [
    "here we form a MLP to classify data with both the image and faces features:"
   ]
  },
  {
   "cell_type": "code",
   "execution_count": 165,
   "metadata": {
    "id": "ThdW8jYrkgOG"
   },
   "outputs": [],
   "source": [
    "import torch.nn as nn\n",
    "import torch.nn.functional as F\n",
    "\n",
    "\n",
    "class Net(nn.Module):\n",
    "  def __init__(self):\n",
    "    super(Net, self).__init__()\n",
    "    self.layers=nn.Sequential(\n",
    "        nn.Linear(3*(6+1)+1,64),\n",
    "        nn.ReLU(),\n",
    "        nn.Linear(64,16),\n",
    "        nn.ReLU(),\n",
    "        nn.Linear(16,32),\n",
    "        nn.ReLU(),\n",
    "        nn.Linear(32,8),\n",
    "        nn.ReLU(),\n",
    "        nn.Linear(8,64),\n",
    "        nn.ReLU(),\n",
    "        nn.Linear(64,16),\n",
    "        nn.ReLU(),\n",
    "        nn.Linear(16,32),\n",
    "        nn.ReLU(),\n",
    "        nn.Linear(32,8),\n",
    "        nn.ReLU(),\n",
    "        nn.Linear(8,64),\n",
    "        nn.ReLU(),\n",
    "        nn.Linear(64,16),\n",
    "        nn.ReLU(),\n",
    "        nn.Linear(16,32),\n",
    "        nn.ReLU(),\n",
    "        nn.Linear(32,8),\n",
    "        nn.ReLU(),\n",
    "        nn.Linear(8,3)\n",
    "        )\n",
    "  def forward(self, x):\n",
    "    return self.layers(x)\n",
    "\n",
    "\n",
    "net = Net()"
   ]
  },
  {
   "cell_type": "code",
   "execution_count": 166,
   "metadata": {
    "colab": {
     "base_uri": "https://localhost:8080/"
    },
    "id": "WyRzTQS5kjij",
    "outputId": "05c63fee-09fd-4732-c069-437e23ebf535"
   },
   "outputs": [
    {
     "data": {
      "text/plain": [
       "Net(\n",
       "  (layers): Sequential(\n",
       "    (0): Linear(in_features=22, out_features=64, bias=True)\n",
       "    (1): ReLU()\n",
       "    (2): Linear(in_features=64, out_features=16, bias=True)\n",
       "    (3): ReLU()\n",
       "    (4): Linear(in_features=16, out_features=32, bias=True)\n",
       "    (5): ReLU()\n",
       "    (6): Linear(in_features=32, out_features=8, bias=True)\n",
       "    (7): ReLU()\n",
       "    (8): Linear(in_features=8, out_features=64, bias=True)\n",
       "    (9): ReLU()\n",
       "    (10): Linear(in_features=64, out_features=16, bias=True)\n",
       "    (11): ReLU()\n",
       "    (12): Linear(in_features=16, out_features=32, bias=True)\n",
       "    (13): ReLU()\n",
       "    (14): Linear(in_features=32, out_features=8, bias=True)\n",
       "    (15): ReLU()\n",
       "    (16): Linear(in_features=8, out_features=64, bias=True)\n",
       "    (17): ReLU()\n",
       "    (18): Linear(in_features=64, out_features=16, bias=True)\n",
       "    (19): ReLU()\n",
       "    (20): Linear(in_features=16, out_features=32, bias=True)\n",
       "    (21): ReLU()\n",
       "    (22): Linear(in_features=32, out_features=8, bias=True)\n",
       "    (23): ReLU()\n",
       "    (24): Linear(in_features=8, out_features=3, bias=True)\n",
       "  )\n",
       ")"
      ]
     },
     "execution_count": 166,
     "metadata": {},
     "output_type": "execute_result"
    }
   ],
   "source": [
    "net= net.to(device)\n",
    "if device == 'cpu':\n",
    "  net.load_state_dict(torch.load('/content/gdrive/MyDrive/phase3/comb_trained',map_location=torch.device('cpu')))\n",
    "else:\n",
    "  net.load_state_dict(torch.load('/content/gdrive/MyDrive/phase3/comb_trained'))\n",
    "net.eval()"
   ]
  },
  {
   "cell_type": "markdown",
   "metadata": {
    "id": "hpKww5MyAgul"
   },
   "source": [
    "net1 forms a MLP model for only the faces' features"
   ]
  },
  {
   "cell_type": "code",
   "execution_count": 180,
   "metadata": {
    "id": "rwOGSNCDwFo6"
   },
   "outputs": [],
   "source": [
    "import torch.nn as nn\n",
    "import torch.nn.functional as F\n",
    "\n",
    "\n",
    "class Net1(nn.Module):\n",
    "  def __init__(self):\n",
    "    super(Net1, self).__init__()\n",
    "    self.layers=nn.Sequential(\n",
    "        nn.Linear(3*(6)+1,64),\n",
    "        nn.ReLU(),\n",
    "        nn.Linear(64,16),\n",
    "        nn.ReLU(),\n",
    "        nn.Linear(16,32),\n",
    "        nn.ReLU(),\n",
    "        nn.Linear(32,8),\n",
    "        nn.ReLU(),\n",
    "        nn.Linear(8,64),\n",
    "        nn.ReLU(),\n",
    "        nn.Linear(64,16),\n",
    "        nn.ReLU(),\n",
    "        nn.Linear(16,32),\n",
    "        nn.ReLU(),\n",
    "        nn.Linear(32,8),\n",
    "        nn.ReLU(),\n",
    "        nn.Linear(8,64),\n",
    "        nn.ReLU(),\n",
    "        nn.Linear(64,16),\n",
    "        nn.ReLU(),\n",
    "        nn.Linear(16,32),\n",
    "        nn.ReLU(),\n",
    "        nn.Linear(32,8),\n",
    "        nn.ReLU(),\n",
    "        nn.Linear(8,3)\n",
    "        )\n",
    "  def forward(self, x):\n",
    "    return self.layers(x)\n",
    "\n",
    "\n",
    "net1 = Net1()"
   ]
  },
  {
   "cell_type": "markdown",
   "metadata": {
    "id": "DVl3-I1xApjX"
   },
   "source": [
    "this is the train loop"
   ]
  },
  {
   "cell_type": "code",
   "execution_count": 168,
   "metadata": {
    "id": "EucZ6io6xhBA"
   },
   "outputs": [],
   "source": [
    "def train_model_manual(model, criterion, optimizer,scheduler,val_beark,data_loader_train,data_loader_val,len_train,len_val, num_epochs=25):\n",
    "\n",
    "  train_acc = []\n",
    "  train_loss = []\n",
    "  test_acc = []\n",
    "  test_loss = []\n",
    "  since = time.time()\n",
    "\n",
    "  best_model_wts = copy.deepcopy(model.state_dict())\n",
    "  best_acc = 0.0\n",
    "  best_loss = 100000000000\n",
    "  counter_val_beark = 0\n",
    "  for epoch in range(num_epochs):\n",
    "    ### Training\n",
    "    model.train()\n",
    "    loss_train = 0\n",
    "    acc_train = 0\n",
    "    counter = 1\n",
    "    for batch,label in tqdm(data_loader_train, total=len(data_loader_train), desc=\"training... \"):\n",
    "      # 1. Forward pass\n",
    "      batch = batch.to(device)\n",
    "      label = label.to(device)\n",
    "      outputs = model(batch) # model outputs raw logits \n",
    "      _, preds = torch.max(outputs, 1)\n",
    "\n",
    "      # print(y_logits)\n",
    "      # 2. Calculate loss and accuracy\n",
    "      counter = counter + 1\n",
    "      loss = criterion(outputs, label)\n",
    "      acc_train += torch.sum(preds == label.data)\n",
    "      loss_train = loss_train + loss\n",
    "      # 3. Optimizer zero grad\n",
    "      optimizer.zero_grad()\n",
    "\n",
    "      # 4. Loss backwards\n",
    "      loss.backward()\n",
    "\n",
    "      # 5. Optimizer step\n",
    "      optimizer.step()\n",
    "    loss_train = loss_train/20240*100\n",
    "    acc_train = acc_train/20240*100\n",
    "    train_acc.append(acc_train)\n",
    "    train_loss.append(loss_train)\n",
    "    scheduler.step()\n",
    "    ### Testing\n",
    "    loss_test = 0\n",
    "    acc_test = 0\n",
    "    counter = 1\n",
    "    model.eval()\n",
    "    with torch.inference_mode():\n",
    "      for batch,label in tqdm(data_loader_val, total=len(data_loader_val), desc=\"Validating... \"):\n",
    "      # 1. Forward pass\n",
    "        batch = batch.to(device)\n",
    "        label = label.to(device)\n",
    "        output = model(batch) # model outputs raw logits \n",
    "        _, preds = torch.max(output, 1)\n",
    "        loss_test= criterion(output, label.data)\n",
    "        acc_test += torch.sum(preds == label.data)\n",
    "      loss_test = loss_test/5063*100\n",
    "      acc_test = acc_test/5063*100\n",
    "      test_loss.append(loss_test)\n",
    "      test_acc.append(acc_test)\n",
    "    if acc_test > best_acc:\n",
    "                best_acc = acc_test\n",
    "                best_model_wts = copy.deepcopy(model.state_dict())\n",
    "    if loss_test <= best_loss:\n",
    "                best_loss = loss_test\n",
    "                counter_val_beark = 0\n",
    "    if loss_test > best_loss:\n",
    "                counter_val_beark = counter_val_beark + 1\n",
    "                if (counter_val_beark > val_beark):\n",
    "                  print(f\"early stopping happend!\")\n",
    "                  break;\n",
    "\n",
    "    # Print out what's happening\n",
    "    if epoch % 1 == 0:\n",
    "      print(f\"Epoch: {epoch} | Loss: {loss_train:.5f}, Acc: {acc_train:.2f}% | Test Loss: {loss_test:.5f}, Test Acc: {acc_test:.2f}%\") \n",
    "  time_elapsed = time.time() - since\n",
    "  print(f'Training complete in {time_elapsed // 60:.0f}m {time_elapsed % 60:.0f}s')\n",
    "  print(f'Best val Acc: {best_acc:4f}')\n",
    "\n",
    "  # load best model weights\n",
    "  model.load_state_dict(best_model_wts)\n",
    "  return model,best_loss,best_acc"
   ]
  },
  {
   "cell_type": "markdown",
   "metadata": {
    "id": "O2uqeLsbAs9r"
   },
   "source": [
    "here we train the net model which classifies both the image and the faces data"
   ]
  },
  {
   "cell_type": "code",
   "execution_count": 177,
   "metadata": {
    "colab": {
     "base_uri": "https://localhost:8080/"
    },
    "id": "UutSRmjL-BNA",
    "outputId": "d322f651-2c93-4ccb-c71e-fc9e386805ac"
   },
   "outputs": [
    {
     "name": "stderr",
     "output_type": "stream",
     "text": [
      "training... : 100%|██████████| 317/317 [00:02<00:00, 112.47it/s]\n",
      "Validating... : 100%|██████████| 80/80 [00:00<00:00, 582.17it/s]\n"
     ]
    },
    {
     "name": "stdout",
     "output_type": "stream",
     "text": [
      "Epoch: 0 | Loss: 1.69799, Acc: 39.97% | Test Loss: 0.02078, Test Acc: 37.51%\n"
     ]
    },
    {
     "name": "stderr",
     "output_type": "stream",
     "text": [
      "training... : 100%|██████████| 317/317 [00:01<00:00, 161.14it/s]\n",
      "Validating... : 100%|██████████| 80/80 [00:00<00:00, 901.63it/s]\n"
     ]
    },
    {
     "name": "stdout",
     "output_type": "stream",
     "text": [
      "Epoch: 1 | Loss: 1.69694, Acc: 39.92% | Test Loss: 0.02050, Test Acc: 37.21%\n"
     ]
    },
    {
     "name": "stderr",
     "output_type": "stream",
     "text": [
      "training... : 100%|██████████| 317/317 [00:01<00:00, 171.62it/s]\n",
      "Validating... : 100%|██████████| 80/80 [00:00<00:00, 945.16it/s]\n"
     ]
    },
    {
     "name": "stdout",
     "output_type": "stream",
     "text": [
      "Epoch: 2 | Loss: 1.69681, Acc: 40.29% | Test Loss: 0.02054, Test Acc: 37.27%\n"
     ]
    },
    {
     "name": "stderr",
     "output_type": "stream",
     "text": [
      "training... : 100%|██████████| 317/317 [00:01<00:00, 167.87it/s]\n",
      "Validating... : 100%|██████████| 80/80 [00:00<00:00, 964.86it/s]\n"
     ]
    },
    {
     "name": "stdout",
     "output_type": "stream",
     "text": [
      "Epoch: 3 | Loss: 1.69603, Acc: 40.05% | Test Loss: 0.02077, Test Acc: 37.80%\n"
     ]
    },
    {
     "name": "stderr",
     "output_type": "stream",
     "text": [
      "training... : 100%|██████████| 317/317 [00:01<00:00, 167.22it/s]\n",
      "Validating... : 100%|██████████| 80/80 [00:00<00:00, 919.62it/s]\n"
     ]
    },
    {
     "name": "stdout",
     "output_type": "stream",
     "text": [
      "Epoch: 4 | Loss: 1.69655, Acc: 40.18% | Test Loss: 0.02076, Test Acc: 37.19%\n"
     ]
    },
    {
     "name": "stderr",
     "output_type": "stream",
     "text": [
      "training... : 100%|██████████| 317/317 [00:01<00:00, 168.42it/s]\n",
      "Validating... : 100%|██████████| 80/80 [00:00<00:00, 888.20it/s]\n"
     ]
    },
    {
     "name": "stdout",
     "output_type": "stream",
     "text": [
      "Epoch: 5 | Loss: 1.69574, Acc: 40.42% | Test Loss: 0.02096, Test Acc: 37.69%\n"
     ]
    },
    {
     "name": "stderr",
     "output_type": "stream",
     "text": [
      "training... : 100%|██████████| 317/317 [00:02<00:00, 128.80it/s]\n",
      "Validating... : 100%|██████████| 80/80 [00:00<00:00, 684.71it/s]\n"
     ]
    },
    {
     "name": "stdout",
     "output_type": "stream",
     "text": [
      "Epoch: 6 | Loss: 1.69615, Acc: 40.36% | Test Loss: 0.02059, Test Acc: 37.29%\n"
     ]
    },
    {
     "name": "stderr",
     "output_type": "stream",
     "text": [
      "training... : 100%|██████████| 317/317 [00:02<00:00, 114.80it/s]\n",
      "Validating... : 100%|██████████| 80/80 [00:00<00:00, 576.07it/s]\n"
     ]
    },
    {
     "name": "stdout",
     "output_type": "stream",
     "text": [
      "Epoch: 7 | Loss: 1.69511, Acc: 40.48% | Test Loss: 0.02121, Test Acc: 37.78%\n"
     ]
    },
    {
     "name": "stderr",
     "output_type": "stream",
     "text": [
      "training... : 100%|██████████| 317/317 [00:01<00:00, 163.26it/s]\n",
      "Validating... : 100%|██████████| 80/80 [00:00<00:00, 959.24it/s]\n"
     ]
    },
    {
     "name": "stdout",
     "output_type": "stream",
     "text": [
      "Epoch: 8 | Loss: 1.69483, Acc: 40.42% | Test Loss: 0.02097, Test Acc: 37.05%\n"
     ]
    },
    {
     "name": "stderr",
     "output_type": "stream",
     "text": [
      "training... : 100%|██████████| 317/317 [00:01<00:00, 169.00it/s]\n",
      "Validating... : 100%|██████████| 80/80 [00:00<00:00, 909.82it/s]\n"
     ]
    },
    {
     "name": "stdout",
     "output_type": "stream",
     "text": [
      "Epoch: 9 | Loss: 1.69728, Acc: 40.25% | Test Loss: 0.02116, Test Acc: 37.37%\n"
     ]
    },
    {
     "name": "stderr",
     "output_type": "stream",
     "text": [
      "training... : 100%|██████████| 317/317 [00:01<00:00, 171.34it/s]\n",
      "Validating... : 100%|██████████| 80/80 [00:00<00:00, 988.45it/s]\n"
     ]
    },
    {
     "name": "stdout",
     "output_type": "stream",
     "text": [
      "Epoch: 10 | Loss: 1.69464, Acc: 40.61% | Test Loss: 0.02113, Test Acc: 37.88%\n"
     ]
    },
    {
     "name": "stderr",
     "output_type": "stream",
     "text": [
      "training... : 100%|██████████| 317/317 [00:01<00:00, 170.42it/s]\n",
      "Validating... : 100%|██████████| 80/80 [00:00<00:00, 959.37it/s]\n"
     ]
    },
    {
     "name": "stdout",
     "output_type": "stream",
     "text": [
      "Epoch: 11 | Loss: 1.69467, Acc: 40.81% | Test Loss: 0.02109, Test Acc: 37.94%\n"
     ]
    },
    {
     "name": "stderr",
     "output_type": "stream",
     "text": [
      "training... : 100%|██████████| 317/317 [00:01<00:00, 168.49it/s]\n",
      "Validating... : 100%|██████████| 80/80 [00:00<00:00, 997.86it/s]\n"
     ]
    },
    {
     "name": "stdout",
     "output_type": "stream",
     "text": [
      "Epoch: 12 | Loss: 1.69424, Acc: 40.69% | Test Loss: 0.02098, Test Acc: 37.45%\n"
     ]
    },
    {
     "name": "stderr",
     "output_type": "stream",
     "text": [
      "training... : 100%|██████████| 317/317 [00:02<00:00, 123.90it/s]\n",
      "Validating... : 100%|██████████| 80/80 [00:00<00:00, 675.65it/s]\n"
     ]
    },
    {
     "name": "stdout",
     "output_type": "stream",
     "text": [
      "Epoch: 13 | Loss: 1.69423, Acc: 40.58% | Test Loss: 0.02096, Test Acc: 37.53%\n"
     ]
    },
    {
     "name": "stderr",
     "output_type": "stream",
     "text": [
      "training... : 100%|██████████| 317/317 [00:02<00:00, 109.66it/s]\n",
      "Validating... : 100%|██████████| 80/80 [00:00<00:00, 643.84it/s]\n"
     ]
    },
    {
     "name": "stdout",
     "output_type": "stream",
     "text": [
      "Epoch: 14 | Loss: 1.69382, Acc: 40.72% | Test Loss: 0.02099, Test Acc: 37.45%\n"
     ]
    },
    {
     "name": "stderr",
     "output_type": "stream",
     "text": [
      "training... : 100%|██████████| 317/317 [00:01<00:00, 170.88it/s]\n",
      "Validating... : 100%|██████████| 80/80 [00:00<00:00, 1020.06it/s]\n"
     ]
    },
    {
     "name": "stdout",
     "output_type": "stream",
     "text": [
      "Epoch: 15 | Loss: 1.69394, Acc: 40.69% | Test Loss: 0.02100, Test Acc: 37.39%\n"
     ]
    },
    {
     "name": "stderr",
     "output_type": "stream",
     "text": [
      "training... : 100%|██████████| 317/317 [00:01<00:00, 172.11it/s]\n",
      "Validating... : 100%|██████████| 80/80 [00:00<00:00, 1008.75it/s]\n"
     ]
    },
    {
     "name": "stdout",
     "output_type": "stream",
     "text": [
      "Epoch: 16 | Loss: 1.69370, Acc: 40.70% | Test Loss: 0.02105, Test Acc: 37.82%\n"
     ]
    },
    {
     "name": "stderr",
     "output_type": "stream",
     "text": [
      "training... : 100%|██████████| 317/317 [00:01<00:00, 168.58it/s]\n",
      "Validating... : 100%|██████████| 80/80 [00:00<00:00, 975.30it/s]\n"
     ]
    },
    {
     "name": "stdout",
     "output_type": "stream",
     "text": [
      "Epoch: 17 | Loss: 1.69382, Acc: 40.69% | Test Loss: 0.02102, Test Acc: 37.43%\n"
     ]
    },
    {
     "name": "stderr",
     "output_type": "stream",
     "text": [
      "training... : 100%|██████████| 317/317 [00:01<00:00, 172.01it/s]\n",
      "Validating... : 100%|██████████| 80/80 [00:00<00:00, 869.39it/s]\n"
     ]
    },
    {
     "name": "stdout",
     "output_type": "stream",
     "text": [
      "Epoch: 18 | Loss: 1.69339, Acc: 40.74% | Test Loss: 0.02104, Test Acc: 37.39%\n"
     ]
    },
    {
     "name": "stderr",
     "output_type": "stream",
     "text": [
      "training... : 100%|██████████| 317/317 [00:01<00:00, 169.57it/s]\n",
      "Validating... : 100%|██████████| 80/80 [00:00<00:00, 921.73it/s]\n"
     ]
    },
    {
     "name": "stdout",
     "output_type": "stream",
     "text": [
      "Epoch: 19 | Loss: 1.69353, Acc: 40.79% | Test Loss: 0.02107, Test Acc: 37.86%\n"
     ]
    },
    {
     "name": "stderr",
     "output_type": "stream",
     "text": [
      "training... : 100%|██████████| 317/317 [00:02<00:00, 124.45it/s]\n",
      "Validating... : 100%|██████████| 80/80 [00:00<00:00, 635.50it/s]\n"
     ]
    },
    {
     "name": "stdout",
     "output_type": "stream",
     "text": [
      "Epoch: 20 | Loss: 1.69338, Acc: 40.81% | Test Loss: 0.02107, Test Acc: 37.88%\n"
     ]
    },
    {
     "name": "stderr",
     "output_type": "stream",
     "text": [
      "training... : 100%|██████████| 317/317 [00:02<00:00, 111.39it/s]\n",
      "Validating... : 100%|██████████| 80/80 [00:00<00:00, 1019.12it/s]\n"
     ]
    },
    {
     "name": "stdout",
     "output_type": "stream",
     "text": [
      "Epoch: 21 | Loss: 1.69307, Acc: 40.76% | Test Loss: 0.02106, Test Acc: 37.84%\n"
     ]
    },
    {
     "name": "stderr",
     "output_type": "stream",
     "text": [
      "training... : 100%|██████████| 317/317 [00:01<00:00, 169.58it/s]\n",
      "Validating... : 100%|██████████| 80/80 [00:00<00:00, 907.43it/s]\n"
     ]
    },
    {
     "name": "stdout",
     "output_type": "stream",
     "text": [
      "early stopping happend!\n",
      "Training complete in 0m 52s\n",
      "Best val Acc: 37.941933\n"
     ]
    }
   ],
   "source": [
    "criterion = nn.CrossEntropyLoss()\n",
    "\n",
    "# Observe that only parameters of final layer are being optimized as\n",
    "# opposed to before.\n",
    "optimizer= optim.Adam(net.parameters(), lr=0.001)\n",
    "# Decay LR by a factor of 0.5 every 20 epochs\n",
    "exp_lr_scheduler = lr_scheduler.StepLR(optimizer, step_size=10, gamma=0.1)\n",
    "\n",
    "net = net.to(device)\n",
    "model_comb_trained,best_loss,best_acc = train_model_manual(net, criterion, optimizer,exp_lr_scheduler,20,train_loader,val_loader,len(train_loader),len(val_loader),num_epochs=100)"
   ]
  },
  {
   "cell_type": "markdown",
   "metadata": {
    "id": "PBreOpX2A0FC"
   },
   "source": [
    "here we train the net1 model which contains faces' features:"
   ]
  },
  {
   "cell_type": "code",
   "execution_count": 181,
   "metadata": {
    "colab": {
     "base_uri": "https://localhost:8080/"
    },
    "id": "mQILx1ZBxjfp",
    "outputId": "f3258eb5-3c48-41c2-b449-c809fb2dc6d9"
   },
   "outputs": [
    {
     "name": "stderr",
     "output_type": "stream",
     "text": [
      "training... : 100%|██████████| 317/317 [00:05<00:00, 60.22it/s]\n",
      "Validating... : 100%|██████████| 80/80 [00:00<00:00, 563.23it/s]\n"
     ]
    },
    {
     "name": "stdout",
     "output_type": "stream",
     "text": [
      "Epoch: 0 | Loss: 1.70638, Acc: 38.11% | Test Loss: 0.02173, Test Acc: 36.30%\n"
     ]
    },
    {
     "name": "stderr",
     "output_type": "stream",
     "text": [
      "training... : 100%|██████████| 317/317 [00:03<00:00, 104.17it/s]\n",
      "Validating... : 100%|██████████| 80/80 [00:00<00:00, 543.56it/s]\n"
     ]
    },
    {
     "name": "stdout",
     "output_type": "stream",
     "text": [
      "Epoch: 1 | Loss: 1.70219, Acc: 38.73% | Test Loss: 0.02187, Test Acc: 36.11%\n"
     ]
    },
    {
     "name": "stderr",
     "output_type": "stream",
     "text": [
      "training... : 100%|██████████| 317/317 [00:02<00:00, 109.09it/s]\n",
      "Validating... : 100%|██████████| 80/80 [00:00<00:00, 612.74it/s]\n"
     ]
    },
    {
     "name": "stdout",
     "output_type": "stream",
     "text": [
      "Epoch: 2 | Loss: 1.70131, Acc: 38.69% | Test Loss: 0.02074, Test Acc: 36.28%\n"
     ]
    },
    {
     "name": "stderr",
     "output_type": "stream",
     "text": [
      "training... : 100%|██████████| 317/317 [00:02<00:00, 145.67it/s]\n",
      "Validating... : 100%|██████████| 80/80 [00:00<00:00, 897.96it/s]\n"
     ]
    },
    {
     "name": "stdout",
     "output_type": "stream",
     "text": [
      "Epoch: 3 | Loss: 1.70059, Acc: 39.39% | Test Loss: 0.02102, Test Acc: 37.31%\n"
     ]
    },
    {
     "name": "stderr",
     "output_type": "stream",
     "text": [
      "training... : 100%|██████████| 317/317 [00:02<00:00, 137.12it/s]\n",
      "Validating... : 100%|██████████| 80/80 [00:00<00:00, 617.79it/s]\n"
     ]
    },
    {
     "name": "stdout",
     "output_type": "stream",
     "text": [
      "Epoch: 4 | Loss: 1.69946, Acc: 39.93% | Test Loss: 0.02126, Test Acc: 37.35%\n"
     ]
    },
    {
     "name": "stderr",
     "output_type": "stream",
     "text": [
      "training... : 100%|██████████| 317/317 [00:02<00:00, 115.29it/s]\n",
      "Validating... : 100%|██████████| 80/80 [00:00<00:00, 570.66it/s]\n"
     ]
    },
    {
     "name": "stdout",
     "output_type": "stream",
     "text": [
      "Epoch: 5 | Loss: 1.69919, Acc: 40.08% | Test Loss: 0.02001, Test Acc: 37.15%\n"
     ]
    },
    {
     "name": "stderr",
     "output_type": "stream",
     "text": [
      "training... : 100%|██████████| 317/317 [00:02<00:00, 141.73it/s]\n",
      "Validating... : 100%|██████████| 80/80 [00:00<00:00, 888.59it/s]\n"
     ]
    },
    {
     "name": "stdout",
     "output_type": "stream",
     "text": [
      "Epoch: 6 | Loss: 1.69980, Acc: 39.92% | Test Loss: 0.02129, Test Acc: 37.39%\n"
     ]
    },
    {
     "name": "stderr",
     "output_type": "stream",
     "text": [
      "training... : 100%|██████████| 317/317 [00:01<00:00, 168.78it/s]\n",
      "Validating... : 100%|██████████| 80/80 [00:00<00:00, 972.88it/s]\n"
     ]
    },
    {
     "name": "stdout",
     "output_type": "stream",
     "text": [
      "Epoch: 7 | Loss: 1.69939, Acc: 40.00% | Test Loss: 0.02092, Test Acc: 37.23%\n"
     ]
    },
    {
     "name": "stderr",
     "output_type": "stream",
     "text": [
      "training... : 100%|██████████| 317/317 [00:01<00:00, 167.74it/s]\n",
      "Validating... : 100%|██████████| 80/80 [00:00<00:00, 990.47it/s]\n"
     ]
    },
    {
     "name": "stdout",
     "output_type": "stream",
     "text": [
      "Epoch: 8 | Loss: 1.69909, Acc: 40.05% | Test Loss: 0.02051, Test Acc: 37.35%\n"
     ]
    },
    {
     "name": "stderr",
     "output_type": "stream",
     "text": [
      "training... : 100%|██████████| 317/317 [00:01<00:00, 169.74it/s]\n",
      "Validating... : 100%|██████████| 80/80 [00:00<00:00, 928.78it/s]\n"
     ]
    },
    {
     "name": "stdout",
     "output_type": "stream",
     "text": [
      "Epoch: 9 | Loss: 1.69897, Acc: 40.19% | Test Loss: 0.02007, Test Acc: 37.39%\n"
     ]
    },
    {
     "name": "stderr",
     "output_type": "stream",
     "text": [
      "training... : 100%|██████████| 317/317 [00:01<00:00, 168.84it/s]\n",
      "Validating... : 100%|██████████| 80/80 [00:00<00:00, 971.56it/s]\n"
     ]
    },
    {
     "name": "stdout",
     "output_type": "stream",
     "text": [
      "Epoch: 10 | Loss: 1.69919, Acc: 40.16% | Test Loss: 0.02060, Test Acc: 37.31%\n"
     ]
    },
    {
     "name": "stderr",
     "output_type": "stream",
     "text": [
      "training... : 100%|██████████| 317/317 [00:02<00:00, 133.00it/s]\n",
      "Validating... : 100%|██████████| 80/80 [00:00<00:00, 639.89it/s]\n"
     ]
    },
    {
     "name": "stdout",
     "output_type": "stream",
     "text": [
      "Epoch: 11 | Loss: 1.69880, Acc: 40.16% | Test Loss: 0.02102, Test Acc: 37.49%\n"
     ]
    },
    {
     "name": "stderr",
     "output_type": "stream",
     "text": [
      "training... : 100%|██████████| 317/317 [00:02<00:00, 111.68it/s]\n",
      "Validating... : 100%|██████████| 80/80 [00:00<00:00, 567.70it/s]\n"
     ]
    },
    {
     "name": "stdout",
     "output_type": "stream",
     "text": [
      "Epoch: 12 | Loss: 1.69887, Acc: 40.14% | Test Loss: 0.02076, Test Acc: 37.49%\n"
     ]
    },
    {
     "name": "stderr",
     "output_type": "stream",
     "text": [
      "training... : 100%|██████████| 317/317 [00:02<00:00, 151.89it/s]\n",
      "Validating... : 100%|██████████| 80/80 [00:00<00:00, 912.06it/s]\n"
     ]
    },
    {
     "name": "stdout",
     "output_type": "stream",
     "text": [
      "Epoch: 13 | Loss: 1.69836, Acc: 40.11% | Test Loss: 0.02019, Test Acc: 37.19%\n"
     ]
    },
    {
     "name": "stderr",
     "output_type": "stream",
     "text": [
      "training... : 100%|██████████| 317/317 [00:01<00:00, 164.66it/s]\n",
      "Validating... : 100%|██████████| 80/80 [00:00<00:00, 937.53it/s]\n"
     ]
    },
    {
     "name": "stdout",
     "output_type": "stream",
     "text": [
      "Epoch: 14 | Loss: 1.69823, Acc: 40.17% | Test Loss: 0.02052, Test Acc: 37.21%\n"
     ]
    },
    {
     "name": "stderr",
     "output_type": "stream",
     "text": [
      "training... : 100%|██████████| 317/317 [00:01<00:00, 167.95it/s]\n",
      "Validating... : 100%|██████████| 80/80 [00:00<00:00, 974.77it/s]\n"
     ]
    },
    {
     "name": "stdout",
     "output_type": "stream",
     "text": [
      "Epoch: 15 | Loss: 1.69844, Acc: 40.01% | Test Loss: 0.01992, Test Acc: 36.44%\n"
     ]
    },
    {
     "name": "stderr",
     "output_type": "stream",
     "text": [
      "training... : 100%|██████████| 317/317 [00:01<00:00, 163.87it/s]\n",
      "Validating... : 100%|██████████| 80/80 [00:00<00:00, 931.41it/s]\n"
     ]
    },
    {
     "name": "stdout",
     "output_type": "stream",
     "text": [
      "Epoch: 16 | Loss: 1.69861, Acc: 40.11% | Test Loss: 0.02072, Test Acc: 36.90%\n"
     ]
    },
    {
     "name": "stderr",
     "output_type": "stream",
     "text": [
      "training... : 100%|██████████| 317/317 [00:01<00:00, 164.43it/s]\n",
      "Validating... : 100%|██████████| 80/80 [00:00<00:00, 929.77it/s]\n"
     ]
    },
    {
     "name": "stdout",
     "output_type": "stream",
     "text": [
      "Epoch: 17 | Loss: 1.69778, Acc: 40.18% | Test Loss: 0.02139, Test Acc: 37.07%\n"
     ]
    },
    {
     "name": "stderr",
     "output_type": "stream",
     "text": [
      "training... : 100%|██████████| 317/317 [00:02<00:00, 125.55it/s]\n",
      "Validating... : 100%|██████████| 80/80 [00:00<00:00, 603.53it/s]\n"
     ]
    },
    {
     "name": "stdout",
     "output_type": "stream",
     "text": [
      "Epoch: 18 | Loss: 1.69814, Acc: 40.23% | Test Loss: 0.02075, Test Acc: 36.97%\n"
     ]
    },
    {
     "name": "stderr",
     "output_type": "stream",
     "text": [
      "training... : 100%|██████████| 317/317 [00:02<00:00, 108.97it/s]\n",
      "Validating... : 100%|██████████| 80/80 [00:00<00:00, 745.18it/s]\n"
     ]
    },
    {
     "name": "stdout",
     "output_type": "stream",
     "text": [
      "Epoch: 19 | Loss: 1.69772, Acc: 40.31% | Test Loss: 0.02123, Test Acc: 36.93%\n"
     ]
    },
    {
     "name": "stderr",
     "output_type": "stream",
     "text": [
      "training... : 100%|██████████| 317/317 [00:01<00:00, 167.15it/s]\n",
      "Validating... : 100%|██████████| 80/80 [00:00<00:00, 967.95it/s]\n"
     ]
    },
    {
     "name": "stdout",
     "output_type": "stream",
     "text": [
      "Epoch: 20 | Loss: 1.69823, Acc: 40.23% | Test Loss: 0.02080, Test Acc: 36.93%\n"
     ]
    },
    {
     "name": "stderr",
     "output_type": "stream",
     "text": [
      "training... : 100%|██████████| 317/317 [00:01<00:00, 164.95it/s]\n",
      "Validating... : 100%|██████████| 80/80 [00:00<00:00, 957.11it/s]\n"
     ]
    },
    {
     "name": "stdout",
     "output_type": "stream",
     "text": [
      "Epoch: 21 | Loss: 1.69799, Acc: 40.13% | Test Loss: 0.02040, Test Acc: 37.25%\n"
     ]
    },
    {
     "name": "stderr",
     "output_type": "stream",
     "text": [
      "training... : 100%|██████████| 317/317 [00:01<00:00, 162.34it/s]\n",
      "Validating... : 100%|██████████| 80/80 [00:00<00:00, 961.15it/s]\n"
     ]
    },
    {
     "name": "stdout",
     "output_type": "stream",
     "text": [
      "Epoch: 22 | Loss: 1.69719, Acc: 40.14% | Test Loss: 0.02037, Test Acc: 37.11%\n"
     ]
    },
    {
     "name": "stderr",
     "output_type": "stream",
     "text": [
      "training... : 100%|██████████| 317/317 [00:01<00:00, 164.17it/s]\n",
      "Validating... : 100%|██████████| 80/80 [00:00<00:00, 939.64it/s]\n"
     ]
    },
    {
     "name": "stdout",
     "output_type": "stream",
     "text": [
      "Epoch: 23 | Loss: 1.69817, Acc: 40.33% | Test Loss: 0.02103, Test Acc: 37.45%\n"
     ]
    },
    {
     "name": "stderr",
     "output_type": "stream",
     "text": [
      "training... : 100%|██████████| 317/317 [00:01<00:00, 160.20it/s]\n",
      "Validating... : 100%|██████████| 80/80 [00:00<00:00, 627.12it/s]\n"
     ]
    },
    {
     "name": "stdout",
     "output_type": "stream",
     "text": [
      "Epoch: 24 | Loss: 1.69790, Acc: 40.13% | Test Loss: 0.02096, Test Acc: 37.23%\n"
     ]
    },
    {
     "name": "stderr",
     "output_type": "stream",
     "text": [
      "training... : 100%|██████████| 317/317 [00:02<00:00, 122.05it/s]\n",
      "Validating... : 100%|██████████| 80/80 [00:00<00:00, 686.01it/s]\n"
     ]
    },
    {
     "name": "stdout",
     "output_type": "stream",
     "text": [
      "Epoch: 25 | Loss: 1.69703, Acc: 40.32% | Test Loss: 0.02033, Test Acc: 36.68%\n"
     ]
    },
    {
     "name": "stderr",
     "output_type": "stream",
     "text": [
      "training... : 100%|██████████| 317/317 [00:02<00:00, 113.70it/s]\n",
      "Validating... : 100%|██████████| 80/80 [00:00<00:00, 988.86it/s]\n"
     ]
    },
    {
     "name": "stdout",
     "output_type": "stream",
     "text": [
      "Epoch: 26 | Loss: 1.69715, Acc: 40.35% | Test Loss: 0.02101, Test Acc: 37.11%\n"
     ]
    },
    {
     "name": "stderr",
     "output_type": "stream",
     "text": [
      "training... : 100%|██████████| 317/317 [00:01<00:00, 167.12it/s]\n",
      "Validating... : 100%|██████████| 80/80 [00:00<00:00, 912.07it/s]\n"
     ]
    },
    {
     "name": "stdout",
     "output_type": "stream",
     "text": [
      "Epoch: 27 | Loss: 1.69669, Acc: 40.46% | Test Loss: 0.02123, Test Acc: 36.84%\n"
     ]
    },
    {
     "name": "stderr",
     "output_type": "stream",
     "text": [
      "training... : 100%|██████████| 317/317 [00:01<00:00, 169.96it/s]\n",
      "Validating... : 100%|██████████| 80/80 [00:00<00:00, 971.85it/s]\n"
     ]
    },
    {
     "name": "stdout",
     "output_type": "stream",
     "text": [
      "Epoch: 28 | Loss: 1.69693, Acc: 40.48% | Test Loss: 0.02075, Test Acc: 37.13%\n"
     ]
    },
    {
     "name": "stderr",
     "output_type": "stream",
     "text": [
      "training... : 100%|██████████| 317/317 [00:01<00:00, 167.49it/s]\n",
      "Validating... : 100%|██████████| 80/80 [00:00<00:00, 970.10it/s]\n"
     ]
    },
    {
     "name": "stdout",
     "output_type": "stream",
     "text": [
      "Epoch: 29 | Loss: 1.69699, Acc: 40.21% | Test Loss: 0.02127, Test Acc: 37.21%\n"
     ]
    },
    {
     "name": "stderr",
     "output_type": "stream",
     "text": [
      "training... : 100%|██████████| 317/317 [00:01<00:00, 167.97it/s]\n",
      "Validating... : 100%|██████████| 80/80 [00:00<00:00, 976.85it/s]\n"
     ]
    },
    {
     "name": "stdout",
     "output_type": "stream",
     "text": [
      "Epoch: 30 | Loss: 1.69709, Acc: 40.22% | Test Loss: 0.02054, Test Acc: 37.09%\n"
     ]
    },
    {
     "name": "stderr",
     "output_type": "stream",
     "text": [
      "training... : 100%|██████████| 317/317 [00:01<00:00, 161.13it/s]\n",
      "Validating... : 100%|██████████| 80/80 [00:00<00:00, 665.44it/s]\n"
     ]
    },
    {
     "name": "stdout",
     "output_type": "stream",
     "text": [
      "Epoch: 31 | Loss: 1.69694, Acc: 40.22% | Test Loss: 0.02017, Test Acc: 36.32%\n"
     ]
    },
    {
     "name": "stderr",
     "output_type": "stream",
     "text": [
      "training... : 100%|██████████| 317/317 [00:02<00:00, 120.18it/s]\n",
      "Validating... : 100%|██████████| 80/80 [00:00<00:00, 631.98it/s]\n"
     ]
    },
    {
     "name": "stdout",
     "output_type": "stream",
     "text": [
      "Epoch: 32 | Loss: 1.69655, Acc: 40.40% | Test Loss: 0.02122, Test Acc: 37.43%\n"
     ]
    },
    {
     "name": "stderr",
     "output_type": "stream",
     "text": [
      "training... : 100%|██████████| 317/317 [00:02<00:00, 117.48it/s]\n",
      "Validating... : 100%|██████████| 80/80 [00:00<00:00, 961.75it/s]\n"
     ]
    },
    {
     "name": "stdout",
     "output_type": "stream",
     "text": [
      "Epoch: 33 | Loss: 1.69670, Acc: 40.44% | Test Loss: 0.02118, Test Acc: 37.17%\n"
     ]
    },
    {
     "name": "stderr",
     "output_type": "stream",
     "text": [
      "training... : 100%|██████████| 317/317 [00:01<00:00, 171.19it/s]\n",
      "Validating... : 100%|██████████| 80/80 [00:00<00:00, 989.19it/s]\n"
     ]
    },
    {
     "name": "stdout",
     "output_type": "stream",
     "text": [
      "Epoch: 34 | Loss: 1.69633, Acc: 40.37% | Test Loss: 0.02043, Test Acc: 36.90%\n"
     ]
    },
    {
     "name": "stderr",
     "output_type": "stream",
     "text": [
      "training... : 100%|██████████| 317/317 [00:01<00:00, 171.76it/s]\n",
      "Validating... : 100%|██████████| 80/80 [00:00<00:00, 1008.38it/s]\n"
     ]
    },
    {
     "name": "stdout",
     "output_type": "stream",
     "text": [
      "Epoch: 35 | Loss: 1.69680, Acc: 40.45% | Test Loss: 0.02121, Test Acc: 36.56%\n"
     ]
    },
    {
     "name": "stderr",
     "output_type": "stream",
     "text": [
      "training... : 100%|██████████| 317/317 [00:01<00:00, 167.79it/s]\n",
      "Validating... : 100%|██████████| 80/80 [00:00<00:00, 967.24it/s]\n"
     ]
    },
    {
     "name": "stdout",
     "output_type": "stream",
     "text": [
      "early stopping happend!\n",
      "Training complete in 1m 29s\n",
      "Best val Acc: 37.487656\n"
     ]
    }
   ],
   "source": [
    "criterion = nn.CrossEntropyLoss()\n",
    "\n",
    "# Observe that only parameters of final layer are being optimized as\n",
    "# opposed to before.\n",
    "optimizer= optim.Adam(net1.parameters(), lr=0.001)\n",
    "# Decay LR by a factor of 0.5 every 20 epochs\n",
    "exp_lr_scheduler = lr_scheduler.StepLR(optimizer, step_size=100, gamma=0.1)\n",
    "\n",
    "net1 = net1.to(device)\n",
    "model_face_trained,best_loss,best_acc = train_model_manual(net1, criterion, optimizer,exp_lr_scheduler,20,train_loader_i,val_loader_i,len(train_loader_i),len(val_loader_i),num_epochs=100)"
   ]
  },
  {
   "cell_type": "markdown",
   "metadata": {
    "id": "v9n_dCMuA87a"
   },
   "source": [
    "now we evaluate the models: first we do the train data:\n",
    "\n",
    "first: image+faces:"
   ]
  },
  {
   "cell_type": "code",
   "execution_count": 183,
   "metadata": {
    "colab": {
     "base_uri": "https://localhost:8080/"
    },
    "id": "ZJM4dd1pwPfB",
    "outputId": "8c785370-e7ca-421a-9157-ab0cec073e29"
   },
   "outputs": [
    {
     "name": "stderr",
     "output_type": "stream",
     "text": [
      "Testing... : 100%|██████████| 317/317 [00:02<00:00, 145.39it/s]"
     ]
    },
    {
     "name": "stdout",
     "output_type": "stream",
     "text": [
      "\n",
      "\n",
      "accuracy on train data = 0.4068181812763214\n"
     ]
    },
    {
     "name": "stderr",
     "output_type": "stream",
     "text": [
      "\n"
     ]
    }
   ],
   "source": [
    "model_comb_trained.eval()\n",
    "acc_test = 0\n",
    "prob_train_comb=torch.tensor([]).to(device)\n",
    "label_train_comb=torch.tensor([]).to(device)\n",
    "with torch.inference_mode():\n",
    "  for batch,label in tqdm(train_loader, total=len(train_loader), desc=\"Testing... \"):\n",
    "  # 1. Forward pass\n",
    "    batch = batch.to(device)\n",
    "    label = label.to(device)\n",
    "    output = model_comb_trained(batch) # model outputs raw logits \n",
    "    _, preds = torch.max(output, 1)\n",
    "    prob_train_comb=torch.cat((prob_train_comb,preds))\n",
    "    label_train_comb=torch.cat((label_train_comb,label))\n",
    "    acc_test += torch.sum(preds == label.data)\n",
    "print(\"\\n\")\n",
    "print(f'accuracy on train data = {acc_test/len(train_dataset)}')"
   ]
  },
  {
   "cell_type": "markdown",
   "metadata": {
    "id": "CjcsSHqoBGaA"
   },
   "source": [
    "second:faces"
   ]
  },
  {
   "cell_type": "code",
   "execution_count": 185,
   "metadata": {
    "colab": {
     "base_uri": "https://localhost:8080/"
    },
    "id": "hAr1wvz4G-KM",
    "outputId": "ba38ba30-40f4-4c47-f550-c0d0fbd9b44a"
   },
   "outputs": [
    {
     "name": "stderr",
     "output_type": "stream",
     "text": [
      "Testing... : 100%|██████████| 317/317 [00:00<00:00, 326.83it/s]"
     ]
    },
    {
     "name": "stdout",
     "output_type": "stream",
     "text": [
      "\n",
      "\n",
      "accuracy on train data = 0.40271738171577454\n"
     ]
    },
    {
     "name": "stderr",
     "output_type": "stream",
     "text": [
      "\n"
     ]
    }
   ],
   "source": [
    "model_face_trained.eval()\n",
    "acc_test = 0\n",
    "prob_train=torch.tensor([]).to(device)\n",
    "label_train=torch.tensor([]).to(device)\n",
    "with torch.inference_mode():\n",
    "  for batch,label in tqdm(train_loader_i, total=len(train_loader_i), desc=\"Testing... \"):\n",
    "  # 1. Forward pass\n",
    "    batch = batch.to(device)\n",
    "    label = label.to(device)\n",
    "    output = model_face_trained(batch) # model outputs raw logits \n",
    "    _, preds = torch.max(output, 1)\n",
    "    prob_train=torch.cat((prob_train,preds))\n",
    "    label_train=torch.cat((label_train,preds))\n",
    "    acc_test += torch.sum(preds == label.data)\n",
    "print(\"\\n\")\n",
    "print(f'accuracy on train data = {acc_test/len(train_dataset)}')"
   ]
  },
  {
   "cell_type": "markdown",
   "metadata": {
    "id": "YCZ5ESMmBIc4"
   },
   "source": [
    "now we do the same for validation:\n",
    "\n",
    "first:image+faces:"
   ]
  },
  {
   "cell_type": "code",
   "execution_count": null,
   "metadata": {
    "colab": {
     "base_uri": "https://localhost:8080/"
    },
    "id": "JXBIoZ6qwRAB",
    "outputId": "5cd38338-271a-4837-baff-63906334b74d"
   },
   "outputs": [
    {
     "name": "stderr",
     "output_type": "stream",
     "text": [
      "Testing... : 100%|██████████| 80/80 [00:00<00:00, 1010.47it/s]"
     ]
    },
    {
     "name": "stdout",
     "output_type": "stream",
     "text": [
      "\n",
      "\n",
      "accuracy on test data = 0.3798143267631531\n"
     ]
    },
    {
     "name": "stderr",
     "output_type": "stream",
     "text": [
      "\n"
     ]
    }
   ],
   "source": [
    "model_comb_trained.eval()\n",
    "acc_test = 0\n",
    "prob_val=torch.tensor([]).to(device)\n",
    "label_val=torch.tensor([]).to(device)\n",
    "with torch.inference_mode():\n",
    "  for batch,label in tqdm(val_loader, total=len(val_loader), desc=\"Testing... \"):\n",
    "  # 1. Forward pass\n",
    "    batch = batch.to(device)\n",
    "    label = label.to(device)\n",
    "    output = model_comb_trained(batch) # model outputs raw logits \n",
    "    _, preds = torch.max(output, 1)\n",
    "    prob_val=torch.cat((prob_val,preds))\n",
    "    label_val=torch.cat((label_val,preds))\n",
    "    acc_test += torch.sum(preds == label.data)\n",
    "print(\"\\n\")\n",
    "print(f'accuracy on val data = {acc_test/len(val_dataset)}')"
   ]
  },
  {
   "cell_type": "markdown",
   "metadata": {
    "id": "chMrOX8rEYt6"
   },
   "source": [
    "second:face"
   ]
  },
  {
   "cell_type": "code",
   "execution_count": 190,
   "metadata": {
    "colab": {
     "base_uri": "https://localhost:8080/"
    },
    "id": "wuhEQ1YmHg11",
    "outputId": "4ac2f573-e126-4636-e9b9-51f01ee828f8"
   },
   "outputs": [
    {
     "name": "stderr",
     "output_type": "stream",
     "text": [
      "Testing... : 100%|██████████| 80/80 [00:00<00:00, 285.07it/s]"
     ]
    },
    {
     "name": "stdout",
     "output_type": "stream",
     "text": [
      "\n",
      "\n",
      "accuracy on val data = 0.37487655878067017\n"
     ]
    },
    {
     "name": "stderr",
     "output_type": "stream",
     "text": [
      "\n"
     ]
    }
   ],
   "source": [
    "model_face_trained.eval()\n",
    "acc_test = 0\n",
    "prob_val=torch.tensor([]).to(device)\n",
    "label_val=torch.tensor([]).to(device)\n",
    "with torch.inference_mode():\n",
    "  for batch,label in tqdm(val_loader_i, total=len(val_loader_i), desc=\"Testing... \"):\n",
    "  # 1. Forward pass\n",
    "    batch = batch.to(device)\n",
    "    label = label.to(device)\n",
    "    output = model_face_trained(batch) # model outputs raw logits \n",
    "    _, preds = torch.max(output, 1)\n",
    "    prob_val=torch.cat((prob_val,preds))\n",
    "    label_val=torch.cat((label_val,preds))\n",
    "    acc_test += torch.sum(preds == label.data)\n",
    "print(\"\\n\")\n",
    "print(f'accuracy on val data = {acc_test/len(val_dataset)}')"
   ]
  },
  {
   "cell_type": "markdown",
   "metadata": {
    "id": "73TDDv_RElJr"
   },
   "source": [
    "now we do it on test data:\n",
    "\n",
    "first: image+faces:"
   ]
  },
  {
   "cell_type": "code",
   "execution_count": 188,
   "metadata": {
    "colab": {
     "base_uri": "https://localhost:8080/"
    },
    "id": "QXmT3whswSOr",
    "outputId": "0d734256-2e16-41c2-d090-c7c6654f1821"
   },
   "outputs": [
    {
     "name": "stderr",
     "output_type": "stream",
     "text": [
      "Testing... : 100%|██████████| 80/80 [00:00<00:00, 933.15it/s]"
     ]
    },
    {
     "name": "stdout",
     "output_type": "stream",
     "text": [
      "\n",
      "\n",
      "accuracy on test data = 0.39609235525131226\n"
     ]
    },
    {
     "name": "stderr",
     "output_type": "stream",
     "text": [
      "\n"
     ]
    }
   ],
   "source": [
    "model_comb_trained.eval()\n",
    "acc_test = 0\n",
    "prob_test=torch.tensor([]).to(device)\n",
    "label_test=torch.tensor([]).to(device)\n",
    "with torch.inference_mode():\n",
    "  for batch,label in tqdm(test_loader, total=len(test_loader), desc=\"Testing... \"):\n",
    "  # 1. Forward pass\n",
    "    batch = batch.to(device)\n",
    "    label = label.to(device)\n",
    "    output = model_comb_trained(batch) # model outputs raw logits \n",
    "    _, preds = torch.max(output, 1)\n",
    "    prob_test=torch.cat((prob_test,preds))\n",
    "    label_test=torch.cat((label_test,preds))\n",
    "    acc_test += torch.sum(preds == label.data)\n",
    "print(\"\\n\")\n",
    "print(f'accuracy on test data = {acc_test/len(test_dataset)}')"
   ]
  },
  {
   "cell_type": "markdown",
   "metadata": {
    "id": "CIEB2qXaErHg"
   },
   "source": [
    "second: faces:"
   ]
  },
  {
   "cell_type": "code",
   "execution_count": 187,
   "metadata": {
    "colab": {
     "base_uri": "https://localhost:8080/"
    },
    "id": "8dhq0QZBHTjg",
    "outputId": "2f73b2ba-a875-48ec-a7f2-36075dd72010"
   },
   "outputs": [
    {
     "name": "stderr",
     "output_type": "stream",
     "text": [
      "Testing... : 100%|██████████| 80/80 [00:00<00:00, 551.94it/s]"
     ]
    },
    {
     "name": "stdout",
     "output_type": "stream",
     "text": [
      "\n",
      "\n",
      "accuracy on test data = 0.4016183018684387\n"
     ]
    },
    {
     "name": "stderr",
     "output_type": "stream",
     "text": [
      "\n"
     ]
    }
   ],
   "source": [
    "model_face_trained.eval()\n",
    "acc_test = 0\n",
    "prob_test=torch.tensor([]).to(device)\n",
    "label_test=torch.tensor([]).to(device)\n",
    "with torch.inference_mode():\n",
    "  for batch,label in tqdm(test_loader_i, total=len(test_loader_i), desc=\"Testing... \"):\n",
    "  # 1. Forward pass\n",
    "    batch = batch.to(device)\n",
    "    label = label.to(device)\n",
    "    output = model_face_trained(batch) # model outputs raw logits \n",
    "    _, preds = torch.max(output, 1)\n",
    "    prob_test=torch.cat((prob_test,preds))\n",
    "    label_test=torch.cat((label_test,preds))\n",
    "    acc_test += torch.sum(preds == label.data)\n",
    "print(\"\\n\")\n",
    "print(f'accuracy on test data = {acc_test/len(test_dataset)}')"
   ]
  },
  {
   "cell_type": "markdown",
   "metadata": {
    "id": "jcdR-Vz5Etr9"
   },
   "source": [
    "now we try to the classification using SVM.\n",
    "\n",
    "first we try to traain the model on the train data\n",
    "\n",
    "first: image + faces:"
   ]
  },
  {
   "cell_type": "code",
   "execution_count": 205,
   "metadata": {
    "colab": {
     "base_uri": "https://localhost:8080/"
    },
    "id": "e4DwzB0FIzOv",
    "outputId": "8523477d-cfcb-4f24-9b7f-5a26cef31288"
   },
   "outputs": [
    {
     "name": "stdout",
     "output_type": "stream",
     "text": [
      "svm based model accuracy = 0.47959486166007903\n"
     ]
    }
   ],
   "source": [
    "from sklearn import svm, datasets\n",
    "import sklearn.model_selection as model_selection\n",
    "from sklearn.metrics import accuracy_score\n",
    "from sklearn.metrics import f1_score\n",
    "rbf = svm.SVC(kernel='rbf', gamma=0.9, C=50).fit(inp,sentiment_train)\n",
    "svm_pred_train= rbf.predict(inp)\n",
    "acc = np.sum(svm_pred_train == sentiment_train)/len(svm_pred_train)\n",
    "print(f\"svm based model accuracy = {acc}\")"
   ]
  },
  {
   "cell_type": "markdown",
   "metadata": {
    "id": "PY5XUoHNIc4u"
   },
   "source": [
    "second : faces"
   ]
  },
  {
   "cell_type": "code",
   "execution_count": 206,
   "metadata": {
    "colab": {
     "base_uri": "https://localhost:8080/"
    },
    "id": "QgmMTQ6DK_F2",
    "outputId": "20cd827b-322e-4340-f2ac-dab236ffa8bb"
   },
   "outputs": [
    {
     "name": "stdout",
     "output_type": "stream",
     "text": [
      "svm based model accuracy = 0.42208498023715413\n"
     ]
    }
   ],
   "source": [
    "from sklearn import svm, datasets\n",
    "import sklearn.model_selection as model_selection\n",
    "from sklearn.metrics import accuracy_score\n",
    "from sklearn.metrics import f1_score\n",
    "rbf_i = svm.SVC(kernel='rbf', gamma=0.9, C=50).fit(inp[:,:-3],sentiment_train)\n",
    "svm_pred_train_i= rbf_i.predict(inp[:,:-3])\n",
    "acc = np.sum(svm_pred_train_i == sentiment_train)/len(svm_pred_train_i)\n",
    "print(f\"svm based model accuracy = {acc}\")"
   ]
  },
  {
   "cell_type": "markdown",
   "metadata": {
    "id": "wIQyGrilIhYF"
   },
   "source": [
    "now we do it on validation data:\n",
    "\n",
    "first: image+faces"
   ]
  },
  {
   "cell_type": "code",
   "execution_count": 207,
   "metadata": {
    "colab": {
     "base_uri": "https://localhost:8080/"
    },
    "id": "nicp_XbWMZ9Q",
    "outputId": "bd0abf98-2b6d-4984-e029-426e7d66faaf"
   },
   "outputs": [
    {
     "name": "stdout",
     "output_type": "stream",
     "text": [
      "svm based model accuracy = 0.3580880900651787\n"
     ]
    }
   ],
   "source": [
    "from sklearn import svm, datasets\n",
    "import sklearn.model_selection as model_selection\n",
    "from sklearn.metrics import accuracy_score\n",
    "from sklearn.metrics import f1_score\n",
    "#rbf = svm.SVC(kernel='rbf', gamma=0.5, C=10).fit(inp,sentiment_train)\n",
    "svm_pred_val= rbf.predict(inp_v)\n",
    "acc = np.sum(svm_pred_val == sentiment_dev)/len(svm_pred_val)\n",
    "print(f\"svm based model accuracy = {acc}\")"
   ]
  },
  {
   "cell_type": "markdown",
   "metadata": {
    "id": "vfZ5EaOpIn3K"
   },
   "source": [
    "second: faces"
   ]
  },
  {
   "cell_type": "code",
   "execution_count": 208,
   "metadata": {
    "colab": {
     "base_uri": "https://localhost:8080/"
    },
    "id": "1LoWv60wM0CF",
    "outputId": "b7914436-a760-4897-8c34-e55e429ebb8d"
   },
   "outputs": [
    {
     "name": "stdout",
     "output_type": "stream",
     "text": [
      "svm based model accuracy = 0.3614457831325301\n"
     ]
    }
   ],
   "source": [
    "from sklearn import svm, datasets\n",
    "import sklearn.model_selection as model_selection\n",
    "from sklearn.metrics import accuracy_score\n",
    "from sklearn.metrics import f1_score\n",
    "#rbf = svm.SVC(kernel='rbf', gamma=0.5, C=10).fit(inp_v[:,:-3],sentiment_train)\n",
    "svm_pred_val_i= rbf_i.predict(inp_v[:,:-3])\n",
    "acc = np.sum(svm_pred_val_i == sentiment_dev)/len(svm_pred_val_i)\n",
    "print(f\"svm based model accuracy = {acc}\")"
   ]
  },
  {
   "cell_type": "markdown",
   "metadata": {
    "id": "KyDCFLe0Ip9I"
   },
   "source": [
    "now we do it on test data:\n",
    "\n",
    "first: image+faces"
   ]
  },
  {
   "cell_type": "code",
   "execution_count": 209,
   "metadata": {
    "colab": {
     "base_uri": "https://localhost:8080/"
    },
    "id": "ubIko4XONFMo",
    "outputId": "01c6a00f-0cf1-4aec-c333-21bd169c6543"
   },
   "outputs": [
    {
     "name": "stdout",
     "output_type": "stream",
     "text": [
      "svm based model accuracy = 0.4043812907045589\n"
     ]
    }
   ],
   "source": [
    "from sklearn import svm, datasets\n",
    "import sklearn.model_selection as model_selection\n",
    "from sklearn.metrics import accuracy_score\n",
    "from sklearn.metrics import f1_score\n",
    "#rbf = svm.SVC(kernel='rbf', gamma=0.5, C=10).fit(inp,sentiment_train)\n",
    "svm_pred_test= rbf.predict(inp_t)\n",
    "acc = np.sum(svm_pred_test == sentiment_test)/len(svm_pred_test)\n",
    "print(f\"svm based model accuracy = {acc}\")"
   ]
  },
  {
   "cell_type": "markdown",
   "metadata": {
    "id": "Dr01HQ8eIy7d"
   },
   "source": [
    "second: faces"
   ]
  },
  {
   "cell_type": "code",
   "execution_count": 210,
   "metadata": {
    "colab": {
     "base_uri": "https://localhost:8080/"
    },
    "id": "NH-2O94dNq78",
    "outputId": "d6aa1ca2-2062-448b-84df-f13ccfcc7f85"
   },
   "outputs": [
    {
     "name": "stdout",
     "output_type": "stream",
     "text": [
      "svm based model accuracy = 0.40813104401026246\n"
     ]
    }
   ],
   "source": [
    "from sklearn import svm, datasets\n",
    "import sklearn.model_selection as model_selection\n",
    "from sklearn.metrics import accuracy_score\n",
    "from sklearn.metrics import f1_score\n",
    "#rbf = svm.SVC(kernel='rbf', gamma=0.5, C=10).fit(inp[:,:-3],sentiment_train)\n",
    "svm_pred_test_i= rbf_i.predict(inp_t[:,:-3])\n",
    "acc = np.sum(svm_pred_test_i == sentiment_test)/len(svm_pred_test)\n",
    "print(f\"svm based model accuracy = {acc}\")"
   ]
  },
  {
   "cell_type": "markdown",
   "metadata": {
    "id": "y7ac8gqDJcqS"
   },
   "source": [
    "As it apears, different approaches have rather similar results. Therefore, as we have saved the MLP model with image and faces' features, we use that as of now. "
   ]
  },
  {
   "cell_type": "markdown",
   "metadata": {
    "id": "jKQudxrBJ1zf"
   },
   "source": [
    "now we try to load the Lnguage model. first we use the GLOVE  implementation. like before, we provide enough code snippets to form the data, but we used the previously saved matrices."
   ]
  },
  {
   "cell_type": "markdown",
   "metadata": {
    "id": "ZGbJLUqpKLHi"
   },
   "source": [
    "now wwe import packeges:"
   ]
  },
  {
   "cell_type": "code",
   "execution_count": 20,
   "metadata": {
    "colab": {
     "base_uri": "https://localhost:8080/"
    },
    "id": "IakocM8rk9ED",
    "outputId": "bde9a787-f4df-4356-fa4e-6b2b38c4bfc5"
   },
   "outputs": [
    {
     "name": "stderr",
     "output_type": "stream",
     "text": [
      "[nltk_data] Downloading package stopwords to /root/nltk_data...\n",
      "[nltk_data]   Unzipping corpora/stopwords.zip.\n",
      "[nltk_data] Downloading package stopwords to /root/nltk_data...\n",
      "[nltk_data]   Package stopwords is already up-to-date!\n",
      "[nltk_data] Downloading package punkt to /root/nltk_data...\n",
      "[nltk_data]   Unzipping tokenizers/punkt.zip.\n",
      "[nltk_data] Downloading package wordnet to /root/nltk_data...\n",
      "[nltk_data] Downloading package omw-1.4 to /root/nltk_data...\n"
     ]
    },
    {
     "data": {
      "text/plain": [
       "True"
      ]
     },
     "execution_count": 20,
     "metadata": {},
     "output_type": "execute_result"
    }
   ],
   "source": [
    "# first importing libraries\n",
    "import base64\n",
    "import requests\n",
    "import numpy as np\n",
    "import gdown\n",
    "from zipfile import ZipFile\n",
    "import os\n",
    "\n",
    "import torch\n",
    "from torch.utils.data import Dataset\n",
    "from torchvision import datasets\n",
    "from torchvision.transforms import ToTensor\n",
    "import matplotlib.pyplot as plt\n",
    "\n",
    "import pandas as pd\n",
    "from torchvision.io import read_image\n",
    "import re\n",
    "import cv2\n",
    "from skimage.transform import resize\n",
    "from google.colab.patches import cv2_imshow\n",
    "from tqdm import tqdm\n",
    "from torch.optim import lr_scheduler\n",
    "\n",
    "\n",
    "from __future__ import print_function\n",
    "import argparse\n",
    "import numpy  as np\n",
    "from PIL import Image\n",
    "import torch\n",
    "import torch.nn as nn\n",
    "import torch.nn.functional as F\n",
    "import torchvision\n",
    "import torch.optim as optim\n",
    "from torch.utils.data import DataLoader, Dataset\n",
    "from torch.utils.data.sampler import SubsetRandomSampler\n",
    "from torchvision import transforms\n",
    "\n",
    "import time\n",
    "import os\n",
    "import copy\n",
    "import string\n",
    "\n",
    "from nltk.corpus import stopwords\n",
    "import nltk\n",
    "import itertools\n",
    "nltk.download('stopwords')\n",
    "import nltk \n",
    "nltk.download('stopwords')\n",
    "nltk.download ('punkt')\n",
    "nltk.download('wordnet')\n",
    "from nltk.stem import WordNetLemmatizer\n",
    "nltk.download('omw-1.4')"
   ]
  },
  {
   "cell_type": "code",
   "execution_count": 213,
   "metadata": {
    "colab": {
     "base_uri": "https://localhost:8080/"
    },
    "id": "eouEwaUMl8Nj",
    "outputId": "1639d99d-95a8-426a-a976-23e397e76360"
   },
   "outputs": [
    {
     "name": "stdout",
     "output_type": "stream",
     "text": [
      "fatal: destination path 'MSCTD' already exists and is not an empty directory.\n"
     ]
    }
   ],
   "source": [
    "!git clone https://github.com/XL2248/MSCTD.git"
   ]
  },
  {
   "cell_type": "markdown",
   "metadata": {
    "id": "aDn6SZcuKOo3"
   },
   "source": [
    "here we load the text data: "
   ]
  },
  {
   "cell_type": "code",
   "execution_count": 214,
   "metadata": {
    "id": "I-8NKNjQmJ6O"
   },
   "outputs": [],
   "source": [
    "with open('/content/MSCTD/MSCTD_data/ende/english_train.txt') as f:\n",
    "    text_file_train = [line.rstrip('\\n') for line in f]"
   ]
  },
  {
   "cell_type": "code",
   "execution_count": 215,
   "metadata": {
    "id": "Hv88_uMLmgBQ"
   },
   "outputs": [],
   "source": [
    "with open('/content/MSCTD/MSCTD_data/ende/english_dev.txt') as f:\n",
    "    text_file_dev = [line.rstrip('\\n') for line in f]"
   ]
  },
  {
   "cell_type": "code",
   "execution_count": 216,
   "metadata": {
    "id": "ZeyfmGJYo4uO"
   },
   "outputs": [],
   "source": [
    "with open('/content/MSCTD/MSCTD_data/ende/english_test.txt') as f:\n",
    "    text_file_test = [line.rstrip('\\n') for line in f]"
   ]
  },
  {
   "cell_type": "markdown",
   "metadata": {
    "id": "UPND33vGKWLb"
   },
   "source": [
    "now we remove punctuations, and stopwords; and apply lemmatization "
   ]
  },
  {
   "cell_type": "code",
   "execution_count": 217,
   "metadata": {
    "colab": {
     "base_uri": "https://localhost:8080/"
    },
    "id": "xodqclsQo7sF",
    "outputId": "9274a70b-86bf-4863-edb3-f964b47db87e"
   },
   "outputs": [
    {
     "name": "stdout",
     "output_type": "stream",
     "text": [
      "all possible punctuations = !\"#$%&'()*+,-./:;<=>?@[\\]^_`{|}~\n"
     ]
    }
   ],
   "source": [
    "print(f'all possible punctuations = {string.punctuation}')\n",
    "punc_remove = string.punctuation"
   ]
  },
  {
   "cell_type": "code",
   "execution_count": 218,
   "metadata": {
    "id": "GrvPHrddo9zq"
   },
   "outputs": [],
   "source": [
    "remove_translate = str.maketrans('', '', string.punctuation)"
   ]
  },
  {
   "cell_type": "code",
   "execution_count": 219,
   "metadata": {
    "colab": {
     "base_uri": "https://localhost:8080/"
    },
    "id": "QEGyCwYDpAIt",
    "outputId": "5e23afe1-dbe9-417f-d9c2-38789c2616db"
   },
   "outputs": [
    {
     "name": "stdout",
     "output_type": "stream",
     "text": [
      "['i', 'me', 'my', 'myself', 'we', 'our', 'ours', 'ourselves', 'you', \"you're\", \"you've\", \"you'll\", \"you'd\", 'your', 'yours', 'yourself', 'yourselves', 'he', 'him', 'his', 'himself', 'she', \"she's\", 'her', 'hers', 'herself', 'it', \"it's\", 'its', 'itself', 'they', 'them', 'their', 'theirs', 'themselves', 'what', 'which', 'who', 'whom', 'this', 'that', \"that'll\", 'these', 'those', 'am', 'is', 'are', 'was', 'were', 'be', 'been', 'being', 'have', 'has', 'had', 'having', 'do', 'does', 'did', 'doing', 'a', 'an', 'the', 'and', 'but', 'if', 'or', 'because', 'as', 'until', 'while', 'of', 'at', 'by', 'for', 'with', 'about', 'against', 'between', 'into', 'through', 'during', 'before', 'after', 'above', 'below', 'to', 'from', 'up', 'down', 'in', 'out', 'on', 'off', 'over', 'under', 'again', 'further', 'then', 'once', 'here', 'there', 'when', 'where', 'why', 'how', 'all', 'any', 'both', 'each', 'few', 'more', 'most', 'other', 'some', 'such', 'only', 'own', 'same', 'so', 'than', 'too', 'very', 's', 't', 'can', 'will', 'just', 'don', \"don't\", 'should', \"should've\", 'now', 'd', 'll', 'm', 'o', 're', 've', 'y', 'ain', 'aren', \"aren't\", 'couldn', \"couldn't\", 'didn', \"didn't\", 'doesn', \"doesn't\", 'hadn', \"hadn't\", 'hasn', \"hasn't\", 'haven', \"haven't\", 'isn', \"isn't\", 'ma', 'mightn', \"mightn't\", 'mustn', \"mustn't\", 'needn', \"needn't\", 'shan', \"shan't\", 'shouldn', \"shouldn't\", 'wasn', \"wasn't\", 'weren', \"weren't\", 'won', \"won't\", 'wouldn', \"wouldn't\"]\n",
      "False\n",
      "False\n",
      "False\n"
     ]
    }
   ],
   "source": [
    "all_stopwords= stopwords.words('english')\n",
    "chosen_stopword=[value for value in all_stopwords if value not in [\"no\",\"nor\",\"not\"]]\n",
    "print(chosen_stopword)\n",
    "print(\"no\"in chosen_stopword)\n",
    "print(\"nor\"in chosen_stopword)\n",
    "print(\"not\"in chosen_stopword)"
   ]
  },
  {
   "cell_type": "code",
   "execution_count": 220,
   "metadata": {
    "colab": {
     "base_uri": "https://localhost:8080/"
    },
    "id": "mb2X8daJpCGZ",
    "outputId": "89a10125-852e-461a-e792-f7037a66c197"
   },
   "outputs": [
    {
     "name": "stdout",
     "output_type": "stream",
     "text": [
      "He diagnosed Andy with growing pains.\n",
      "Okay. I'm confused.\n",
      "With this asshole?\n"
     ]
    }
   ],
   "source": [
    "print(text_file_dev[0])\n",
    "print(text_file_train[0])\n",
    "print(text_file_test[0])"
   ]
  },
  {
   "cell_type": "code",
   "execution_count": 221,
   "metadata": {
    "id": "qkCXeCG-nZYO"
   },
   "outputs": [],
   "source": [
    "lemmatizer=WordNetLemmatizer()"
   ]
  },
  {
   "cell_type": "markdown",
   "metadata": {
    "id": "e_9CWui9KqET"
   },
   "source": [
    "train:"
   ]
  },
  {
   "cell_type": "code",
   "execution_count": 222,
   "metadata": {
    "id": "Tr0LInmEnc7v"
   },
   "outputs": [],
   "source": [
    "all_txt_train_lem = []\n",
    "for txt in text_file_train:\n",
    "  txt = txt.translate(remove_translate)\n",
    "  txt = txt.lower()\n",
    "  txt = txt.split()\n",
    "  filtered_words = [word for word in txt if word not in stopwords.words('english')]\n",
    "  text_final = \"\"\n",
    "  lem_line=[] \n",
    "  for word in filtered_words:\n",
    "    lem_line.append(lemmatizer.lemmatize(word)) \n",
    "  for i in range(len(lem_line)):\n",
    "    text_final = text_final + lem_line[i] + \" \"\n",
    "  text_final = text_final[:-1]\n",
    "  all_txt_train_lem.append(text_final)"
   ]
  },
  {
   "cell_type": "markdown",
   "metadata": {
    "id": "5z3VWqhIKwFN"
   },
   "source": [
    "validation:"
   ]
  },
  {
   "cell_type": "code",
   "execution_count": 223,
   "metadata": {
    "id": "4fC7t9tinimg"
   },
   "outputs": [],
   "source": [
    "all_txt_dev_lem = []\n",
    "for txt in text_file_dev:\n",
    "  txt = txt.translate(remove_translate)\n",
    "  txt = txt.lower()\n",
    "  txt = txt.split()\n",
    "  filtered_words = [word for word in txt if word not in stopwords.words('english')]\n",
    "  text_final = \"\"\n",
    "  lem_line=[] \n",
    "  for word in filtered_words:\n",
    "    lem_line.append(lemmatizer.lemmatize(word)) \n",
    "  for i in range(len(lem_line)):\n",
    "    text_final = text_final + lem_line[i] + \" \"\n",
    "  text_final = text_final[:-1]\n",
    "  all_txt_dev_lem.append(text_final)"
   ]
  },
  {
   "cell_type": "markdown",
   "metadata": {
    "id": "H5FK1MPoKx9W"
   },
   "source": [
    "test:"
   ]
  },
  {
   "cell_type": "code",
   "execution_count": 224,
   "metadata": {
    "id": "HotWWqexnnDE"
   },
   "outputs": [],
   "source": [
    "all_txt_test_lem = []\n",
    "for txt in text_file_test:\n",
    "  txt = txt.translate(remove_translate)\n",
    "  txt = txt.lower()\n",
    "  txt = txt.split()\n",
    "  filtered_words = [word for word in txt if word not in stopwords.words('english')]\n",
    "  text_final = \"\"\n",
    "  lem_line=[] \n",
    "  for word in filtered_words:\n",
    "    lem_line.append(lemmatizer.lemmatize(word)) \n",
    "  for i in range(len(lem_line)):\n",
    "    text_final = text_final + lem_line[i] + \" \"\n",
    "  text_final = text_final[:-1]\n",
    "  all_txt_test_lem.append(text_final)"
   ]
  },
  {
   "cell_type": "code",
   "execution_count": 225,
   "metadata": {
    "id": "zPiAizYhnvPW"
   },
   "outputs": [],
   "source": [
    "from itertools import chain\n",
    "from tensorflow.keras.preprocessing.text import Tokenizer\n",
    "from tensorflow.keras.preprocessing.sequence import pad_sequences"
   ]
  },
  {
   "cell_type": "markdown",
   "metadata": {
    "id": "RwzdNYIrK0ER"
   },
   "source": [
    "now we tokenize\""
   ]
  },
  {
   "cell_type": "code",
   "execution_count": 226,
   "metadata": {
    "colab": {
     "base_uri": "https://localhost:8080/"
    },
    "id": "8fGLkp9vnyd_",
    "outputId": "b0ef2af0-7ea4-4551-db32-fb792a631701"
   },
   "outputs": [
    {
     "name": "stdout",
     "output_type": "stream",
     "text": [
      "number of unique word in our created vocabulary = 9154\n",
      "{'<oov>': 1, 'shr': 2, 'pia': 3, 'im': 4, 'know': 5, 'dont': 6, 'get': 7, 'like': 8, 'oh': 9, 'right': 10, 'well': 11, 'youre': 12, 'okay': 13, 'yeah': 14, 'go': 15, 'one': 16, 'got': 17, 'think': 18, 'thats': 19, 'gonna': 20, 'want': 21, 'need': 22, 'come': 23, 'look': 24, 'let': 25, 'going': 26, 'see': 27, 'good': 28, 'time': 29, 'back': 30, 'mean': 31, 'thing': 32, 'hey': 33, 'guy': 34, 'really': 35, 'say': 36, 'he': 37, 'cant': 38, 'u': 39, 'man': 40, 'take': 41, 'make': 42, 'didnt': 43, 'sorry': 44, 'something': 45, 'tell': 46, 'would': 47, 'little': 48, 'ill': 49, 'could': 50, 'way': 51, 'there': 52, 'day': 53, 'uh': 54, 'yes': 55, 'shes': 56, 'two': 57, 'ive': 58, 'never': 59, 'give': 60, 'whats': 61, 'wait': 62, 'said': 63, 'thought': 64, 'please': 65, 'much': 66, 'put': 67, 'people': 68, 'even': 69, 'love': 70, 'life': 71, 'still': 72, 'maybe': 73, 'help': 74, 'god': 75, 'year': 76, 'talk': 77, 'work': 78, 'anything': 79, 'stop': 80, 'theyre': 81, 'find': 82, 'call': 83, 'thank': 84, 'sure': 85, 'nothing': 86, 'fucking': 87, 'shit': 88, 'hell': 89, 'everything': 90, 'dad': 91, 'keep': 92, 'great': 93, 'first': 94, 'ever': 95, 'always': 96, 'told': 97, 'away': 98, 'kind': 99, 'around': 100, 'fine': 101, 'talking': 102, 'lot': 103, 'fuck': 104, 'last': 105, 'made': 106, 'minute': 107, 'bad': 108, 'house': 109, 'doesnt': 110, 'mr': 111, 'boy': 112, 'youve': 113, 'feel': 114, 'money': 115, 'car': 116, 'girl': 117, 'friend': 118, 'sir': 119, 'getting': 120, 'nice': 121, 'wanna': 122, 'big': 123, 'better': 124, 'home': 125, 'done': 126, 'long': 127, 'must': 128, 'came': 129, 'um': 130, 'today': 131, 'kid': 132, 'gotta': 133, 'believe': 134, 'hear': 135, 'listen': 136, 'new': 137, 'head': 138, 'left': 139, 'father': 140, 'show': 141, 'care': 142, 'id': 143, 'leave': 144, 'name': 145, 'night': 146, 'actually': 147, 'every': 148, 'isnt': 149, 'coming': 150, 'mom': 151, 'happened': 152, 'might': 153, 'mind': 154, 'best': 155, 'whole': 156, 'remember': 157, 'wanted': 158, 'someone': 159, 'real': 160, 'stay': 161, 'course': 162, 'thanks': 163, 'knew': 164, 'went': 165, 'old': 166, 'ask': 167, 'family': 168, 'enough': 169, 'hour': 170, 'three': 171, 'try': 172, 'next': 173, 'wasnt': 174, 'place': 175, 'else': 176, 'guess': 177, 'turn': 178, 'kill': 179, 'another': 180, 'found': 181, 'together': 182, 'pretty': 183, 'baby': 184, 'trying': 185, 'wont': 186, 'wrong': 187, 'plan': 188, 'hold': 189, 'seen': 190, 'world': 191, 'took': 192, 'hard': 193, 'hand': 194, 'job': 195, 'open': 196, 'gone': 197, 'already': 198, 'idea': 199, 'weve': 200, 'heard': 201, 'sound': 202, 'saw': 203, 'meet': 204, 'may': 205, 'youll': 206, 'start': 207, 'check': 208, 'problem': 209, 'second': 210, 'saying': 211, 'looking': 212, 'mother': 213, 'run': 214, 'crazy': 215, 'woman': 216, 'use': 217, 'room': 218, 'son': 219, 'understand': 220, 'business': 221, 'eye': 222, 'week': 223, 'huh': 224, 'watch': 225, 'play': 226, 'hit': 227, 'probably': 228, 'happen': 229, 'worry': 230, 'game': 231, 'move': 232, 'called': 233, 'phone': 234, 'dr': 235, 'five': 236, 'doctor': 237, 'live': 238, 'dead': 239, 'exactly': 240, 'word': 241, 'used': 242, 'number': 243, 'ago': 244, 'hello': 245, 'deal': 246, 'tonight': 247, 'tomorrow': 248, 'wife': 249, 'bit': 250, 'ok': 251, 'water': 252, 'happy': 253, 'youd': 254, 'story': 255, 'wouldnt': 256, 'question': 257, 'part': 258, 'hi': 259, 'making': 260, 'many': 261, 'change': 262, 'matter': 263, 'line': 264, 'morning': 265, 'lady': 266, 'everybody': 267, 'point': 268, 'stuff': 269, 'face': 270, 'everyone': 271, 'end': 272, 'yet': 273, 'supposed': 274, 'important': 275, 'bring': 276, 'lost': 277, 'thinking': 278, 'since': 279, 'fact': 280, 'brother': 281, 'gave': 282, 'die': 283, 'inside': 284, 'school': 285, 'taking': 286, 'who': 287, 'sit': 288, 'havent': 289, 'dude': 290, 'wish': 291, 'without': 292, 'also': 293, 'ready': 294, 'cut': 295, 'tried': 296, 'working': 297, 'side': 298, 'case': 299, 'ten': 300, 'late': 301, 'fun': 302, 'damn': 303, 'cause': 304, 'party': 305, 'nobody': 306, 'shut': 307, 'child': 308, 'clear': 309, 'walk': 310, 'couple': 311, 'pay': 312, 'started': 313, 'door': 314, 'phil': 315, 'set': 316, 'telling': 317, 'trust': 318, 'honey': 319, 'beautiful': 320, 'million': 321, 'whoa': 322, 'break': 323, 'four': 324, 'piece': 325, 'foot': 326, 'aint': 327, 'perfect': 328, 'month': 329, 'welcome': 330, 'person': 331, 'whatever': 332, 'fight': 333, 'body': 334, 'gun': 335, 'air': 336, 'wow': 337, 'anymore': 338, 'different': 339, 'hurt': 340, 'though': 341, 'feeling': 342, 'write': 343, 'couldnt': 344, 'read': 345, 'anyone': 346, 'fuckin': 347, 'save': 348, 'hot': 349, 'half': 350, 'stupid': 351, 'chance': 352, 'soon': 353, 'town': 354, 'police': 355, 'mike': 356, 'excuse': 357, 'wake': 358, 'sick': 359, 'girlfriend': 360, 'choice': 361, 'lose': 362, 'book': 363, 'here': 364, 'hope': 365, 'news': 366, '20': 367, 'buy': 368, 'six': 369, 'alone': 370, 'ah': 371, 'human': 372, 'stand': 373, 'leg': 374, 'cool': 375, 'shot': 376, 'past': 377, 'company': 378, 'asking': 379, 'quite': 380, 'jesus': 381, 'max': 382, 'box': 383, 'honor': 384, 'miss': 385, 'picture': 386, 'heart': 387, 'luke': 388, 'least': 389, 'card': 390, 'almost': 391, 'easy': 392, 'white': 393, 'drink': 394, 'blood': 395, 'forget': 396, '10': 397, 'high': 398, 'weekend': 399, 'eat': 400, 'asked': 401, 'funny': 402, 'moment': 403, 'pick': 404, 'husband': 405, 'ahead': 406, 'ii': 407, 'either': 408, 'video': 409, 'captain': 410, 'camera': 411, 'hate': 412, 'sophie': 413, 'race': 414, 'cop': 415, 'em': 416, 'top': 417, 'paper': 418, 'step': 419, 'dragon': 420, 'shoe': 421, 'sense': 422, 'shoot': 423, 'rule': 424, 'city': 425, 'gentleman': 426, 'rest': 427, 'bird': 428, 'art': 429, 'far': 430, 'young': 431, 'mine': 432, 'fault': 433, 'frenchie': 434, 'lee': 435, 'figure': 436, 'promise': 437, 'code': 438, '100': 439, 'team': 440, 'light': 441, 'met': 442, 'afraid': 443, 'true': 444, 'street': 445, 'wheres': 446, 'finally': 447, 'meeting': 448, 'fall': 449, 'ring': 450, 'men': 451, 'army': 452, 'hang': 453, 'leonard': 454, 'itll': 455, 'behind': 456, 'entire': 457, 'joke': 458, 'able': 459, 'cat': 460, 'ball': 461, 'wear': 462, 'kidding': 463, 'win': 464, 'bag': 465, 'worth': 466, 'mate': 467, 'awesome': 468, 'david': 469, 'station': 470, 'brought': 471, 'penny': 472, 'dinner': 473, 'plane': 474, 'weird': 475, 'waiting': 476, 'drop': 477, '30': 478, 'loved': 479, 'anyway': 480, 'future': 481, 'grand': 482, 'le': 483, 'running': 484, 'window': 485, 'drive': 486, 'lie': 487, 'finish': 488, 'mile': 489, 'wed': 490, 'truth': 491, 'killed': 492, 'dress': 493, 'tommy': 494, 'bruce': 495, 'dog': 496, 'died': 497, 'seem': 498, 'order': 499, 'pull': 500, 'sent': 501, 'movie': 502, 'mess': 503, 'lou': 504, 'master': 505, 'somebody': 506, 'watching': 507, 'possible': 508, 'close': 509, 'pas': 510, 'front': 511, 'tobey': 512, 'absolutely': 513, 'send': 514, 'war': 515, 'later': 516, 'sleep': 517, 'strange': 518, 'sweetie': 519, 'king': 520, 'hair': 521, 'reason': 522, 'patient': 523, 'sometimes': 524, 'control': 525, 'bye': 526, 'seriously': 527, 'werent': 528, 'brain': 529, 'anybody': 530, 'special': 531, 'tom': 532, 'michael': 533, 'arent': 534, 'bar': 535, 'fire': 536, 'power': 537, 'worked': 538, 'boyfriend': 539, 'fast': 540, 'death': 541, 'mistake': 542, 'busy': 543, 'daughter': 544, 'outside': 545, 'mark': 546, 'sweet': 547, 'slow': 548, 'lord': 549, 'sister': 550, 'cannot': 551, 'daddy': 552, 'sheldon': 553, 'as': 554, 'amazing': 555, 'definitely': 556, 'worried': 557, 'pain': 558, 'record': 559, 'asshole': 560, 'throw': 561, 'yo': 562, 'mouth': 563, 'speak': 564, 'office': 565, 'bunch': 566, 'early': 567, 'calling': 568, 'excited': 569, 'driver': 570, 'christmas': 571, 'starting': 572, 'alex': 573, 'catch': 574, 'happens': 575, 'dick': 576, 'john': 577, 'wedding': 578, 'hospital': 579, 'middle': 580, 'cute': 581, 'song': 582, 'goddamn': 583, 'gu': 584, 'food': 585, 'class': 586, 'seeing': 587, 'state': 588, 'till': 589, 'ground': 590, 'amy': 591, 'married': 592, 'moving': 593, 'single': 594, 'college': 595, 'bottle': 596, 'security': 597, 'touch': 598, 'lawyer': 599, 'cell': 600, 'spot': 601, 'alive': 602, 'road': 603, 'fly': 604, 'buddy': 605, 'shell': 606, 'secret': 607, 'paid': 608, 'taken': 609, 'ha': 610, 'black': 611, 'straight': 612, 'living': 613, 'obviously': 614, 'trip': 615, 'tape': 616, 'alright': 617, 'murder': 618, 'interesting': 619, 'hasnt': 620, 'happening': 621, 'tv': 622, 'christ': 623, 'playing': 624, 'thousand': 625, 'anywhere': 626, 'small': 627, 'somewhere': 628, 'full': 629, 'dream': 630, 'horse': 631, 'key': 632, 'simple': 633, 'calm': 634, 'standing': 635, 'lucky': 636, 'changed': 637, 'york': 638, 'answer': 639, 'gate': 640, 'tree': 641, 'none': 642, 'boat': 643, 'bastard': 644, 'test': 645, 'known': 646, 'pirate': 647, 'message': 648, 'listening': 649, 'coffee': 650, 'serious': 651, 'favorite': 652, 'mention': 653, 'carlos': 654, 'totally': 655, 'fit': 656, 'scared': 657, 'kept': 658, 'lunch': 659, 'enjoy': 660, 'kinda': 661, 'clean': 662, 'wouldve': 663, 'follow': 664, 'fix': 665, 'public': 666, 'jack': 667, 'caroline': 668, 'smart': 669, 'bet': 670, 'quick': 671, 'besides': 672, 'bank': 673, 'dear': 674, 'dangerous': 675, 'clothes': 676, 'hows': 677, 'american': 678, 'suspect': 679, 'sign': 680, 'giving': 681, 'date': 682, 'glad': 683, 'information': 684, 'seems': 685, 'sort': 686, 'spent': 687, 'yesterday': 688, 'broke': 689, 'fell': 690, 'charge': 691, 'beat': 692, 'truck': 693, 'seat': 694, 'decided': 695, 'puppet': 696, 'poor': 697, 'push': 698, 'bed': 699, 'caught': 700, 'safe': 701, 'mountain': 702, 'honest': 703, 'waste': 704, '1': 705, 'luck': 706, 'build': 707, 'imagine': 708, 'tough': 709, 'sell': 710, 'henry': 711, 'explain': 712, 'blue': 713, 'accident': 714, '12': 715, 'killing': 716, 'parent': 717, 'jump': 718, 'machine': 719, 'officer': 720, 'prison': 721, 'wall': 722, 'sitting': 723, 'talked': 724, 'figured': 725, 'needed': 726, 'moved': 727, 'list': 728, 'veronica': 729, 'guard': 730, 'department': 731, 'charlie': 732, 'played': 733, 'holmes': 734, 'lived': 735, 'train': 736, 'stuck': 737, 'cold': 738, 'battle': 739, 'nicky': 740, 'crap': 741, 'felt': 742, 'nick': 743, 'relationship': 744, 'larry': 745, 'jessie': 746, 'gaby': 747, 'given': 748, 'wound': 749, 'yep': 750, 'arm': 751, 'swear': 752, 'george': 753, 'shouldnt': 754, 'whether': 755, 'park': 756, 'cash': 757, 'handle': 758, 'extra': 759, 'building': 760, 'looked': 761, 'normal': 762, 'america': 763, 'missing': 764, 'green': 765, '15': 766, 'area': 767, 'han': 768, 'blow': 769, 'hole': 770, 'hmm': 771, 'holding': 772, 'theyve': 773, 'beer': 774, 'appreciate': 775, 'theyll': 776, 'pop': 777, 'report': 778, 'dino': 779, 'marshall': 780, 'red': 781, 'hearing': 782, 'smell': 783, 'email': 784, 'crime': 785, 'burn': 786, 'sword': 787, 'return': 788, 'ya': 789, 'teeth': 790, 'detective': 791, 'favor': 792, 'couch': 793, 'fucked': 794, 'wonderful': 795, 'apology': 796, 'careful': 797, 'hill': 798, 'suit': 799, 'pack': 800, 'butt': 801, 'martial': 802, 'francisco': 803, 'meant': 804, 'short': 805, 'act': 806, 'respect': 807, 'meredith': 808, 'leaving': 809, 'dollar': 810, 'weapon': 811, 'strong': 812, 'group': 813, 'pound': 814, 'ran': 815, 'memory': 816, 'taught': 817, 'bloody': 818, 'interested': 819, 'pregnant': 820, 'along': 821, 'bullet': 822, 'interest': 823, 'protect': 824, 'saving': 825, 'bull': 826, 'quiet': 827, 'surprise': 828, 'ear': 829, 'page': 830, 'lead': 831, 'pocket': 832, 'goodbye': 833, 'forward': 834, 'contact': 835, 'birthday': 836, 'logan': 837, 'seemed': 838, 'pant': 839, 'forgot': 840, 'mustve': 841, 'credit': 842, 'gift': 843, 'rich': 844, 'apparently': 845, 'hundred': 846, 'buck': 847, 'shift': 848, 'stopped': 849, 'forever': 850, 'certain': 851, 'turned': 852, 'shall': 853, 'nose': 854, 'fill': 855, 'field': 856, 'honestly': 857, 'bullshit': 858, 'apologize': 859, 'decision': 860, 'magic': 861, 'walter': 862, 'treat': 863, 'drinking': 864, 'huge': 865, 'trauma': 866, 'babe': 867, 'bigger': 868, 'san': 869, 'ronan': 870, 'quill': 871, 'according': 872, 'sea': 873, 'notice': 874, 'completely': 875, 'pressure': 876, 'clearly': 877, 'join': 878, 'apartment': 879, 'spend': 880, 'grey': 881, 'dance': 882, 'quit': 883, 'super': 884, 'putting': 885, 'ticket': 886, 'fear': 887, 'eh': 888, 'stick': 889, 'clue': 890, 'country': 891, 'count': 892, 'star': 893, 'copy': 894, 'block': 895, 'fake': 896, 'upon': 897, 'opportunity': 898, 'expecting': 899, 'using': 900, 'cost': 901, 'speed': 902, 'hat': 903, 'price': 904, 'beast': 905, 'bus': 906, 'beauty': 907, '11': 908, 'roger': 909, 'unit': 910, 'susan': 911, 'risk': 912, 'born': 913, '2': 914, 'bother': 915, 'general': 916, 'russian': 917, 'idiot': 918, 'private': 919, 'realize': 920, 'longer': 921, 'attention': 922, '50': 923, 'eating': 924, 'guilty': 925, 'bos': 926, 'ride': 927, 'ruin': 928, 'sandra': 929, 'writing': 930, 'letter': 931, 'hed': 932, 'cup': 933, 'rain': 934, 'angry': 935, 'asleep': 936, 'seven': 937, 'ship': 938, 'deserve': 939, 'radio': 940, 'grow': 941, 'sleeping': 942, 'named': 943, 'owe': 944, 'manny': 945, 'rock': 946, 'president': 947, 'tired': 948, 'unless': 949, 'sean': 950, 'sad': 951, 'fair': 952, 'paddy': 953, 'painting': 954, 'sam': 955, 'dark': 956, 'panda': 957, 'earth': 958, 'chris': 959, 'ice': 960, 'ashleigh': 961, 'bree': 962, 'tank': 963, 'floor': 964, '60': 965, 'expect': 966, 'breaking': 967, 'chest': 968, 'worst': 969, 'professional': 970, 'razor': 971, 'throwing': 972, 'flying': 973, 'billy': 974, 'fighting': 975, 'stage': 976, 'store': 977, 'simon': 978, 'lying': 979, 'bottom': 980, 'hitting': 981, 'advised': 982, 'heading': 983, 'tour': 984, 'biggest': 985, 'flight': 986, 'oleg': 987, 'twice': 988, 'island': 989, 'weight': 990, 'total': 991, 'share': 992, 'picked': 993, 'term': 994, 'main': 995, 'raise': 996, 'suck': 997, 'worse': 998, 'across': 999, 'london': 1000, 'mail': 1001, 'space': 1002, 'file': 1003, 'familiar': 1004, 'difficult': 1005, 'closer': 1006, 'carrie': 1007, 'suppose': 1008, 'ugh': 1009, 'learned': 1010, 'zou': 1011, 'monkey': 1012, 'photo': 1013, 'wild': 1014, 'scene': 1015, 'wood': 1016, 'ou': 1017, 'music': 1018, 'conversation': 1019, 'walking': 1020, 'history': 1021, 'table': 1022, 'learn': 1023, 'sake': 1024, 'upset': 1025, 'queen': 1026, 'trouble': 1027, 'helping': 1028, 'film': 1029, 'l': 1030, 'sue': 1031, 'proud': 1032, 'outta': 1033, 'harry': 1034, 'round': 1035, 'grab': 1036, 'chair': 1037, 'allowed': 1038, 'adam': 1039, 'bomb': 1040, 'orange': 1041, 'north': 1042, 'crunch': 1043, 'fresh': 1044, 'brahms': 1045, 'animal': 1046, 'doll': 1047, 'folk': 1048, 'ooh': 1049, 'bailey': 1050, 'solo': 1051, 'amazon': 1052, 'mary': 1053, 'shawn': 1054, 'kat': 1055, 'position': 1056, 'certainly': 1057, 'keeping': 1058, 'owen': 1059, 'cover': 1060, 'hanging': 1061, 'pen': 1062, 'motherfucker': 1063, 'punch': 1064, 'threw': 1065, 'knee': 1066, 'training': 1067, 'lily': 1068, 'plus': 1069, 'al': 1070, 'onto': 1071, 'major': 1072, 'player': 1073, 'watched': 1074, 'finished': 1075, 'broken': 1076, 'law': 1077, 'judge': 1078, 'driving': 1079, 'lovely': 1080, 'nut': 1081, 'blame': 1082, 'howard': 1083, 'become': 1084, '3': 1085, 'de': 1086, 'wearing': 1087, 'crew': 1088, 'wing': 1089, 'tea': 1090, 'trap': 1091, 'scofield': 1092, 'willing': 1093, 'address': 1094, 'letting': 1095, 'voice': 1096, 'fish': 1097, 'item': 1098, 'chose': 1099, 'sport': 1100, 'dancing': 1101, 'singing': 1102, 'nope': 1103, 'quickly': 1104, 'checked': 1105, 'free': 1106, 'kick': 1107, 'partner': 1108, 'action': 1109, 'barely': 1110, 'present': 1111, 'neither': 1112, 'daniel': 1113, 'mum': 1114, 'watson': 1115, 'aunt': 1116, 'stone': 1117, 'rare': 1118, 'offer': 1119, 'sky': 1120, 'artist': 1121, 'pleasure': 1122, 'gold': 1123, 'jumped': 1124, 'experience': 1125, 'polly': 1126, 'attack': 1127, 'congratulation': 1128, 'lied': 1129, 'eight': 1130, 'returned': 1131, 'rate': 1132, 'personal': 1133, 'danny': 1134, 'speech': 1135, 'hero': 1136, 'age': 1137, 'cmon': 1138, 'nowhere': 1139, 'vega': 1140, 'market': 1141, 'wonder': 1142, 'bob': 1143, 'piano': 1144, 'director': 1145, 'acting': 1146, 'itd': 1147, 'motion': 1148, 'soul': 1149, 'neck': 1150, 'agent': 1151, 'thanking': 1152, 'ricoletti': 1153, 'ruth': 1154, 'chan': 1155, 'poker': 1156, 'damien': 1157, 'fat': 1158, 'chief': 1159, 'cristina': 1160, 'shepherd': 1161, 'teach': 1162, 'bleeding': 1163, 'usually': 1164, 'wondering': 1165, 'traffic': 1166, 'built': 1167, 'service': 1168, 'guest': 1169, 'skin': 1170, 'boring': 1171, 'original': 1172, 'glass': 1173, 'form': 1174, 'hide': 1175, 'promised': 1176, 'empty': 1177, 'mitchell': 1178, 'cry': 1179, 'marriage': 1180, 'princess': 1181, 'pulled': 1182, 'site': 1183, 'passed': 1184, 'evidence': 1185, 'rescue': 1186, 'border': 1187, 'chicken': 1188, 'degree': 1189, 'appointment': 1190, 'possibly': 1191, 'study': 1192, 'visit': 1193, 'dressed': 1194, 'rob': 1195, 'engine': 1196, 'dying': 1197, 'raised': 1198, 'noise': 1199, 'strength': 1200, 'location': 1201, 'everythings': 1202, 'career': 1203, 'terrible': 1204, 'famous': 1205, 'fool': 1206, 'uncle': 1207, 'fan': 1208, 'california': 1209, 'bear': 1210, 'responsible': 1211, 'instead': 1212, 'milk': 1213, 'clock': 1214, 'travel': 1215, 'joined': 1216, 'bedroom': 1217, 'winner': 1218, 'fortune': 1219, 'keith': 1220, 'neptune': 1221, 'alarm': 1222, 'carry': 1223, 'nerve': 1224, 'santa': 1225, 'cake': 1226, 'mostly': 1227, 'source': 1228, 'arrest': 1229, 'club': 1230, 'shame': 1231, 'hoping': 1232, 'perhaps': 1233, 'blown': 1234, 'german': 1235, 'polish': 1236, 'romantic': 1237, 'covered': 1238, 'sold': 1239, 'staying': 1240, 'enemy': 1241, 'burrow': 1242, 'aye': 1243, 'lad': 1244, 'pet': 1245, 'pizza': 1246, 'kiss': 1247, 'others': 1248, 'gosh': 1249, 'french': 1250, 'bought': 1251, 'basically': 1252, 'peace': 1253, 'involved': 1254, 'somehow': 1255, 'central': 1256, 'choose': 1257, 'jay': 1258, 'near': 1259, 'split': 1260, 'messed': 1261, 'cheer': 1262, 'remind': 1263, 'energy': 1264, 'written': 1265, 'monster': 1266, 'older': 1267, 'gospel': 1268, 'buyer': 1269, 'invited': 1270, 'pump': 1271, 'tie': 1272, 'warrior': 1273, 'universe': 1274, '1000': 1275, 'marry': 1276, 'property': 1277, 'closet': 1278, 'gang': 1279, 'tall': 1280, 'saved': 1281, 'agree': 1282, 'except': 1283, 'paul': 1284, 'type': 1285, 'mixed': 1286, 'land': 1287, 'sample': 1288, 't': 1289, 'blu': 1290, 'note': 1291, 'sophia': 1292, 'olegs': 1293, 'blake': 1294, 'ethan': 1295, 'jane': 1296, '18': 1297, 'danger': 1298, 'belong': 1299, 'due': 1300, 'upstairs': 1301, 'lab': 1302, 'shooting': 1303, 'knock': 1304, 'meal': 1305, 'admit': 1306, 'embarrassing': 1307, 'ome': 1308, 'press': 1309, 'internet': 1310, 'rather': 1311, 'awkward': 1312, 'depends': 1313, 'ira': 1314, 'technically': 1315, 'image': 1316, 'operation': 1317, 'online': 1318, 'opinion': 1319, 'devil': 1320, 'proof': 1321, 'diner': 1322, 'blew': 1323, 'junior': 1324, 'prefer': 1325, 'guessing': 1326, '200': 1327, 'wine': 1328, 'vodka': 1329, 'comfortable': 1330, 'crash': 1331, 'locked': 1332, 'gas': 1333, 'failed': 1334, 'subject': 1335, 'plenty': 1336, 'faster': 1337, 'julia': 1338, 'necessary': 1339, 'beth': 1340, 'commercial': 1341, 'insane': 1342, 'immediate': 1343, 'switch': 1344, 'b': 1345, 'shoulder': 1346, 'headed': 1347, 'deep': 1348, 'prove': 1349, 'borrow': 1350, 'begin': 1351, 'within': 1352, 'track': 1353, 'wet': 1354, 'disappear': 1355, 'impressive': 1356, 'sheriff': 1357, 'cleaning': 1358, 'innocent': 1359, 'nine': 1360, 'bathroom': 1361, 'led': 1362, 'draw': 1363, 'awake': 1364, 'murderer': 1365, 'mama': 1366, 'drag': 1367, 'van': 1368, 'ow': 1369, 'spoke': 1370, 'murdered': 1371, 'whered': 1372, 'sentence': 1373, 'immediately': 1374, 'pickle': 1375, 'purse': 1376, 'dirty': 1377, 'situation': 1378, 'bee': 1379, 'solve': 1380, 'desk': 1381, 'corner': 1382, 'grace': 1383, 'stomach': 1384, 'auction': 1385, 'shop': 1386, 'asset': 1387, 'relax': 1388, 'drove': 1389, 'whac': 1390, 'pill': 1391, 'neighbor': 1392, 'rid': 1393, 'thief': 1394, 'knife': 1395, 'moon': 1396, 'piss': 1397, 'anthony': 1398, 'cask': 1399, 'double': 1400, 'mo': 1401, '6': 1402, 'mad': 1403, 'view': 1404, 'illegal': 1405, 'joking': 1406, 'zero': 1407, 'research': 1408, 'sweetheart': 1409, 'darling': 1410, 'robin': 1411, 'correct': 1412, 'brave': 1413, 'sing': 1414, 'pilot': 1415, 'oil': 1416, 'literally': 1417, 'boom': 1418, 'elevator': 1419, 'mommy': 1420, 'damage': 1421, 'powerful': 1422, 'third': 1423, 'horn': 1424, 'cancer': 1425, 'shake': 1426, 'candy': 1427, 'claire': 1428, 'airport': 1429, 'suddenly': 1430, 'fallen': 1431, 'trial': 1432, 'gay': 1433, 'freak': 1434, 'destroy': 1435, 'football': 1436, 'elbow': 1437, 'percent': 1438, 'linda': 1439, 'lamotte': 1440, 'nearly': 1441, '5': 1442, 'kragle': 1443, 'spaceship': 1444, 'tub': 1445, 'shirt': 1446, 'terminator': 1447, 'ralph': 1448, 'medal': 1449, 'investigation': 1450, 'battery': 1451, 'belongs': 1452, 'surgery': 1453, 'hadnt': 1454, 'south': 1455, 'pissed': 1456, 'pm': 1457, 'regret': 1458, 'criminal': 1459, 'laugh': 1460, 'karev': 1461, 'result': 1462, 'breath': 1463, 'surgeon': 1464, 'often': 1465, 'attractive': 1466, 'sharp': 1467, 'rude': 1468, 'prepared': 1469, 'bath': 1470, 'missed': 1471, 'hurry': 1472, 'costume': 1473, 'design': 1474, 'hardly': 1475, 'standard': 1476, 'pig': 1477, 'effect': 1478, 'grateful': 1479, 'social': 1480, 'yard': 1481, 'statement': 1482, 'broadcast': 1483, 'west': 1484, 'silly': 1485, 'whatd': 1486, 'taste': 1487, 'vehicle': 1488, 'bargain': 1489, 'repeat': 1490, 'f': 1491, 'prisoner': 1492, 'loud': 1493, 'co': 1494, 'pile': 1495, 'remain': 1496, 'tip': 1497, 'university': 1498, 'offered': 1499, 'evening': 1500, 'understood': 1501, 'benny': 1502, 'messing': 1503, 'bid': 1504, '800': 1505, 'dispatch': 1506, 'believed': 1507, 'ghost': 1508, 'female': 1509, 'killer': 1510, 'force': 1511, 'gotten': 1512, 'program': 1513, 'breathing': 1514, 'celebrity': 1515, 'lately': 1516, 'showing': 1517, 'ruby': 1518, 'sec': 1519, 'student': 1520, 'grown': 1521, 'difference': 1522, 'talent': 1523, 'afternoon': 1524, 'confession': 1525, 'loyalty': 1526, 'shed': 1527, 'holy': 1528, 'everywhere': 1529, 'lesson': 1530, 'backup': 1531, 'maam': 1532, 'employee': 1533, 'stole': 1534, 'wrapped': 1535, 'robbie': 1536, 'theft': 1537, 'wrote': 1538, 'exact': 1539, 'imagination': 1540, 'smoke': 1541, 'knocked': 1542, 'likely': 1543, 'trick': 1544, 'indeed': 1545, 'rush': 1546, 'nervous': 1547, 'loving': 1548, 'highly': 1549, 'chestnut': 1550, 'jet': 1551, 'filthy': 1552, '25': 1553, 'brilliant': 1554, 'theory': 1555, 'bite': 1556, '90': 1557, 'emergency': 1558, 'roll': 1559, 'yelling': 1560, 'affair': 1561, 'east': 1562, 'river': 1563, 'howd': 1564, 'robyn': 1565, 'rough': 1566, 'detail': 1567, 'complicated': 1568, 'mmmhmm': 1569, 'nina': 1570, 'closed': 1571, 'checking': 1572, 'truly': 1573, 'vibe': 1574, 'earned': 1575, 'defense': 1576, 'rider': 1577, 'mexican': 1578, 'whisky': 1579, 'range': 1580, '1150000': 1581, 'common': 1582, 'ike': 1583, 'drug': 1584, 'sugar': 1585, 'worker': 1586, 'turning': 1587, 'cigarette': 1588, 'ted': 1589, 'backpack': 1590, 'weather': 1591, 'francie': 1592, 'model': 1593, 'chinese': 1594, 'dating': 1595, 'whip': 1596, 'although': 1597, 'escape': 1598, 'spirit': 1599, 'village': 1600, 'm': 1601, 'cupcake': 1602, 'century': 1603, 'mob': 1604, 'resident': 1605, 'jason': 1606, 'growing': 1607, 'pure': 1608, 'edward': 1609, 'mmm': 1610, 'church': 1611, 'shouldve': 1612, 'hunter': 1613, 'jacket': 1614, 'ridiculous': 1615, 'liked': 1616, 'fixed': 1617, 'toast': 1618, 'roy': 1619, 'ifs': 1620, 'ti': 1621, 'angel': 1622, 'opening': 1623, 'bawk': 1624, 'process': 1625, 'spoon': 1626, 'steven': 1627, 'symbol': 1628, 'enter': 1629, 'bone': 1630, 'print': 1631, 'fraud': 1632, 'support': 1633, 'stopping': 1634, 'jewel': 1635, 'access': 1636, 'level': 1637, 'nancy': 1638, 'loose': 1639, 'ended': 1640, 'interview': 1641, 'spring': 1642, 'quinn': 1643, 'jacob': 1644, 'profile': 1645, 'glitch': 1646, 'earthquake': 1647, 'orb': 1648, 'lion': 1649, 'comer': 1650, 'hr': 1651, 'confused': 1652, 'angle': 1653, 'hungry': 1654, 'mix': 1655, 'progress': 1656, 'nah': 1657, 'pool': 1658, 'saturday': 1659, 'junk': 1660, 'sloan': 1661, 'arizona': 1662, 'nest': 1663, 'easily': 1664, 'survive': 1665, 'losing': 1666, 'torres': 1667, 'sat': 1668, 'heavy': 1669, 'ben': 1670, 'reputation': 1671, 'dry': 1672, 'stretch': 1673, 'jail': 1674, 'remembered': 1675, 'hunt': 1676, 'webber': 1677, 'ew': 1678, 'prepare': 1679, 'incredible': 1680, 'former': 1681, 'successful': 1682, 'whyd': 1683, 'beyond': 1684, 'champion': 1685, 'ignore': 1686, 'weak': 1687, 'introduce': 1688, 'exciting': 1689, 'shape': 1690, 'project': 1691, 'sensitive': 1692, 'planet': 1693, 'reaction': 1694, 'warn': 1695, 'map': 1696, 'sheet': 1697, 'joining': 1698, 'actress': 1699, 'direct': 1700, 'strike': 1701, 'mood': 1702, 'destroyed': 1703, 'palace': 1704, 'official': 1705, 'following': 1706, 'fried': 1707, 'stair': 1708, 'pretend': 1709, 'miracle': 1710, 'several': 1711, 'drama': 1712, 'taliban': 1713, 'hotel': 1714, 'account': 1715, 'passenger': 1716, 'package': 1717, 'expensive': 1718, 'dy': 1719, 'tower': 1720, 'rod': 1721, 'shh': 1722, 'medical': 1723, 'grade': 1724, 'doc': 1725, 'suffering': 1726, 'became': 1727, 'eventually': 1728, 'drill': 1729, 'speaking': 1730, 'wherever': 1731, 'unlike': 1732, 'apart': 1733, 'emily': 1734, 'pete': 1735, 'sun': 1736, 'grocery': 1737, 'brewster': 1738, '900': 1739, 'ford': 1740, 'exist': 1741, 'joe': 1742, 'dropping': 1743, 'leon': 1744, 'skill': 1745, 'forgive': 1746, 'sudden': 1747, 'reminder': 1748, 'arrow': 1749, 'route': 1750, 'plate': 1751, 'footage': 1752, 'disappeared': 1753, 'purpose': 1754, 'surprised': 1755, 'impressed': 1756, 'safer': 1757, 'arrived': 1758, 'golden': 1759, 'texas': 1760, 'pit': 1761, 'bridge': 1762, 'pal': 1763, 'leaf': 1764, 'planning': 1765, '500': 1766, 'stuart': 1767, 'reach': 1768, 'answering': 1769, '14': 1770, 'echolls': 1771, 'bonnie': 1772, 'slide': 1773, 'collection': 1774, 'marrying': 1775, 'knight': 1776, 'bike': 1777, 'awful': 1778, 'giant': 1779, 'frame': 1780, 'finding': 1781, 'signed': 1782, 'waited': 1783, '21': 1784, 'tt': 1785, 'beard': 1786, 'witness': 1787, 'transition': 1788, 'courage': 1789, 'aw': 1790, 'web': 1791, 'carrot': 1792, 'goodness': 1793, 'kevin': 1794, 'restaurant': 1795, 'japan': 1796, 'breakfast': 1797, '40': 1798, 'ho': 1799, 'accepted': 1800, 'scratch': 1801, 'success': 1802, 'whenever': 1803, 'ie': 1804, 'considered': 1805, 'advice': 1806, 'lincoln': 1807, 'chick': 1808, 'egg': 1809, 'dealing': 1810, 'bagel': 1811, 'brick': 1812, 'adventure': 1813, 'character': 1814, 'ate': 1815, 'altmann': 1816, 'e': 1817, 'jerk': 1818, 'allow': 1819, 'maserati': 1820, 'especially': 1821, 'however': 1822, 'stable': 1823, 'mcdonald': 1824, 'injury': 1825, 'soldier': 1826, 'fella': 1827, 'couldve': 1828, 'bro': 1829, 'dragged': 1830, 'andrew': 1831, 'breathe': 1832, 'score': 1833, 'steal': 1834, 'malt': 1835, 'mill': 1836, 'doubt': 1837, 'lock': 1838, 'happiness': 1839, 'mission': 1840, 'search': 1841, 'created': 1842, 'cowboy': 1843, 'commitment': 1844, 'cattle': 1845, 'competition': 1846, 'spare': 1847, 'halfway': 1848, 'sale': 1849, 'traveling': 1850, 'coast': 1851, 'sexy': 1852, 'recall': 1853, 'seurat': 1854, 'expert': 1855, 'drunk': 1856, 'dive': 1857, 'interpol': 1858, 'oi': 1859, 'decent': 1860, 'carbon': 1861, 'proper': 1862, 'beginning': 1863, 'southjet': 1864, '227': 1865, 'margaret': 1866, 'brace': 1867, 'gear': 1868, 'stroke': 1869, 'impact': 1870, 'kingdom': 1871, 'duty': 1872, 'polite': 1873, 'sends': 1874, 'lake': 1875, 'divorce': 1876, 'shark': 1877, 'shifu': 1878, 'lap': 1879, 'curse': 1880, 'campus': 1881, 'science': 1882, 'pear': 1883, 'sharing': 1884, 'luciano': 1885, 'mass': 1886, 'version': 1887, 'pulse': 1888, 'gentle': 1889, 'robbins': 1890, 'pad': 1891, 'discus': 1892, 'bringing': 1893, 'citizen': 1894, 'holiday': 1895, 'court': 1896, 'preston': 1897, 'pledge': 1898, 'kicked': 1899, 'march': 1900, 'julie': 1901, 'apple': 1902, 'spell': 1903, 'jexi': 1904, 'yoga': 1905, 'coach': 1906, 'performance': 1907, 'dunphy': 1908, 'system': 1909, 'garbage': 1910, 'delivery': 1911, 'government': 1912, 'fantastic': 1913, 'candle': 1914, 'fighter': 1915, 'fragment': 1916, 'ray': 1917, 'relevant': 1918, 'jungle': 1919, 'fanny': 1920, 'z': 1921, 'glitter': 1922, 'bride': 1923, 'guilt': 1924, 'obvious': 1925, 'suicide': 1926, 'collins': 1927, 'language': 1928, 'sacrifice': 1929, 'professor': 1930, 'attorney': 1931, 'howell': 1932, 'phoebe': 1933, 'prophecy': 1934, 'zap': 1935, 'wind': 1936, 'silvana': 1937, 'option': 1938, 'waffle': 1939, 'testify': 1940, 'trish': 1941, 'roland': 1942, 'board': 1943, '4': 1944, 'rollie': 1945, 'cab': 1946, 'surface': 1947, 'cutting': 1948, 'erm': 1949, 'stevie': 1950, 'jury': 1951, 'quake': 1952, 'butler': 1953, 'sand': 1954, 'noelle': 1955, 'irina': 1956, 'turbo': 1957, 'paris': 1958, 'revenge': 1959, 'sauce': 1960, 'us': 1961, 'cooking': 1962, 'roommate': 1963, 'wide': 1964, 'begging': 1965, 'vein': 1966, 'horrible': 1967, 'scary': 1968, 'bitch': 1969, 'derek': 1970, 'avery': 1971, 'comment': 1972, 'selfish': 1973, 'sniper': 1974, 'pardon': 1975, 'kepner': 1976, 'er': 1977, 'scrubbing': 1978, 'sadly': 1979, 'peg': 1980, 'toe': 1981, 'boxing': 1982, 'script': 1983, 'younger': 1984, 'shopping': 1985, 'surely': 1986, 'exploring': 1987, 'therell': 1988, 'friendly': 1989, 'guardian': 1990, 'local': 1991, 'dropped': 1992, 'material': 1993, 'suggest': 1994, 'release': 1995, 'announcement': 1996, 'nature': 1997, 'demand': 1998, 'period': 1999, 'brooklyn': 2000, 'catholic': 2001, 'flat': 2002, 'legitimate': 2003, 'post': 2004, 'armed': 2005, 'trapped': 2006, 'towards': 2007, 'wheel': 2008, 'agreed': 2009, 'con': 2010, 'smack': 2011, 'inmate': 2012, '300': 2013, 'fence': 2014, 'teddy': 2015, 'higher': 2016, 'screw': 2017, 'med': 2018, 'g': 2019, 'pipe': 2020, 'sink': 2021, 'infection': 2022, 'coordinate': 2023, 'math': 2024, 'explosion': 2025, 'burned': 2026, 'constantly': 2027, 'discovered': 2028, 'waitress': 2029, 'customer': 2030, 'vision': 2031, 'expected': 2032, 'mount': 2033, 'kisco': 2034, 'liar': 2035, 'maverick': 2036, 'cart': 2037, 'anita': 2038, 'earlier': 2039, 'lifetime': 2040, 'cheating': 2041, 'cobra': 2042, 'fancy': 2043, 'ingram': 2044, 'convinced': 2045, 'importantly': 2046, 'invite': 2047, 'low': 2048, '45': 2049, 'wealthy': 2050, 'detroit': 2051, 'tracking': 2052, 'sending': 2053, 'racing': 2054, 'british': 2055, 'comfort': 2056, 'v': 2057, 'fifth': 2058, 'located': 2059, 'fourth': 2060, 'per': 2061, 'spike': 2062, 'remaining': 2063, 'follows': 2064, 'recommendation': 2065, 'followed': 2066, 'trace': 2067, 'server': 2068, 'self': 2069, 'thrilled': 2070, 'potential': 2071, 'mentioned': 2072, 'client': 2073, 'aware': 2074, 'tragedy': 2075, '09er': 2076, 'treasure': 2077, 'teacher': 2078, 'responsibility': 2079, 'convicted': 2080, 'blowing': 2081, 'lieutenant': 2082, 'confirmed': 2083, 'senior': 2084, 'final': 2085, 'entrance': 2086, 'freaking': 2087, 'nightmare': 2088, 'clown': 2089, 'hidden': 2090, 'profession': 2091, 'vincent': 2092, 'earn': 2093, 'investment': 2094, 'sometime': 2095, 'including': 2096, 'hug': 2097, 'gia': 2098, 'flew': 2099, 'hook': 2100, 'concerned': 2101, 'bright': 2102, 'rap': 2103, 'ruined': 2104, 'victim': 2105, 'amber': 2106, 'gym': 2107, 'nail': 2108, 'wasting': 2109, 'hung': 2110, 'suspicious': 2111, 'borrowed': 2112, 'logic': 2113, 'mycroft': 2114, 'title': 2115, 'opened': 2116, 'signature': 2117, 'patch': 2118, 'shock': 2119, 'stephen': 2120, 'episode': 2121, 'shoved': 2122, 'hm': 2123, 'normally': 2124, 'threat': 2125, 'forest': 2126, 'wallet': 2127, 'managed': 2128, 'changing': 2129, 'flower': 2130, 'personality': 2131, 'match': 2132, 'summer': 2133, 'massage': 2134, 'practically': 2135, 'trophy': 2136, 'blah': 2137, 'flag': 2138, 'knowing': 2139, 'creature': 2140, 'uncomfortable': 2141, 'aneurysm': 2142, 'diamond': 2143, 'gill': 2144, 'sandwich': 2145, 'prescription': 2146, 'manner': 2147, 'pray': 2148, 'juanita': 2149, 'session': 2150, 'loosen': 2151, 'nap': 2152, 'unfortunately': 2153, 'target': 2154, 'soft': 2155, 'fired': 2156, 'renee': 2157, 'gettin': 2158, 'assistant': 2159, 'protection': 2160, 'healthy': 2161, 'express': 2162, 'everybodys': 2163, 'greg': 2164, 'accept': 2165, 'valley': 2166, 'suggestion': 2167, 'gloria': 2168, 'grandmother': 2169, 'adult': 2170, 'meaning': 2171, '80': 2172, 'lung': 2173, 'dunno': 2174, 'chop': 2175, 'desperate': 2176, 'despite': 2177, 'celebrate': 2178, 'passing': 2179, 'eve': 2180, 'dig': 2181, 'european': 2182, 'secretary': 2183, 'viking': 2184, 'occasion': 2185, 'tension': 2186, 'walt': 2187, 'w': 2188, 'estate': 2189, 'basement': 2190, 'sensor': 2191, 'wand': 2192, 'remote': 2193, 'reading': 2194, 'smile': 2195, 'calvin': 2196, 'noticed': 2197, 'internal': 2198, 'genius': 2199, 'reality': 2200, 'disappointed': 2201, 'writer': 2202, 'dwight': 2203, 'contract': 2204, 'cook': 2205, 'deny': 2206, 'invented': 2207, 'manager': 2208, 'gary': 2209, 'actual': 2210, 'privilege': 2211, 'size': 2212, 'tuesday': 2213, 'regular': 2214, 'poke': 2215, 'brush': 2216, 'hurting': 2217, 'nickys': 2218, 'bill': 2219, 'badass': 2220, 'differently': 2221, 'landed': 2222, 'staring': 2223, 'progressive': 2224, 'laying': 2225, 'lisa': 2226, 'plant': 2227, 'cv': 2228, 'wil': 2229, 'rise': 2230, 'departure': 2231, 'dump': 2232, 'fuel': 2233, 'union': 2234, 'behalf': 2235, 'buying': 2236, 'prayed': 2237, 'event': 2238, 'loss': 2239, 'dare': 2240, 'personally': 2241, 'chosen': 2242, 'scare': 2243, 'snap': 2244, 'porch': 2245, 'advantage': 2246, 'continue': 2247, 'ought': 2248, 'tiny': 2249, 'hall': 2250, 'iits': 2251, 'po': 2252, 'focus': 2253, 'bug': 2254, 'dinosaur': 2255, 'bloom': 2256, 'root': 2257, 'iron': 2258, 'wounded': 2259, 'bachelor': 2260, 'ocean': 2261, 'beach': 2262, 'largest': 2263, 'member': 2264, 'picking': 2265, 'neighborhood': 2266, 'earl': 2267, 'inform': 2268, 'exhausted': 2269, 'philip': 2270, 'happytime': 2271, 'jeez': 2272, 'whoever': 2273, 'incoming': 2274, 'smash': 2275, 'whoo': 2276, 'jimmy': 2277, 'charity': 2278, 'tenor': 2279, 'ordered': 2280, 'example': 2281, 'stevens': 2282, 'lousy': 2283, 'decide': 2284, 'emma': 2285, 'hire': 2286, 'article': 2287, 'ass': 2288, 'yikes': 2289, 'alexander': 2290, 'celia': 2291, 'caused': 2292, 'sucre': 2293, 'platoon': 2294, 'procedure': 2295, 'remove': 2296, 'cult': 2297, 'gurney': 2298, 'halloween': 2299, 'biting': 2300, 'karen': 2301, 'reminds': 2302, 'evil': 2303, 'realm': 2304, 'experiment': 2305, 'ashamed': 2306, 'wash': 2307, 'jew': 2308, 'destiny': 2309, 'crisis': 2310, 'winning': 2311, 'faith': 2312, 'camp': 2313, 'rick': 2314, 'emotion': 2315, 'roxy': 2316, 'finger': 2317, 'hornet': 2318, 'actor': 2319, 'hollywood': 2320, 'spin': 2321, 'becomes': 2322, 'shred': 2323, 'puzzle': 2324, 'identity': 2325, 'kaplan': 2326, 'billion': 2327, 'skip': 2328, 'bang': 2329, 'grant': 2330, 'indian': 2331, 'sens': 2332, 'excalibur': 2333, 'attitude': 2334, 'tribe': 2335, 'clay': 2336, 'lay': 2337, 'assume': 2338, 'solving': 2339, 'emelia': 2340, 'moriarty': 2341, 'sherlock': 2342, 'agreement': 2343, 'riding': 2344, 'somethings': 2345, 'duck': 2346, 'rose': 2347, 'chariot': 2348, 'mask': 2349, 'dang': 2350, 'reward': 2351, 'embarrassed': 2352, 'iraq': 2353, 'resistance': 2354, 'cohaagen': 2355, 'complaint': 2356, 'instruction': 2357, 'emmet': 2358, 'ye': 2359, 'superman': 2360, 'construction': 2361, 'dickens': 2362, 'cream': 2363, 'pretending': 2364, 'laketown': 2365, 'command': 2366, 'dwarf': 2367, 'coin': 2368, 'religious': 2369, 'bryn': 2370, 'fund': 2371, 'bloke': 2372, 'military': 2373, 'lip': 2374, 'comforting': 2375, 'slowly': 2376, 'ace': 2377, 'nailed': 2378, 'harder': 2379, 'yardley': 2380, 'carol': 2381, 'interviewing': 2382, 'gatsby': 2383, 'dated': 2384, 'journalist': 2385, 'dumb': 2386, 'lous': 2387, 'fhil': 2388, 'connors': 2389, 'detector': 2390, 'fed': 2391, 'grabbed': 2392, 'tunnel': 2393, 'morgan': 2394, 'satan': 2395, 'comms': 2396, 'cruise': 2397, 'natalie': 2398, 'recorded': 2399, 'dam': 2400, 'community': 2401, 'drilling': 2402, 'courtney': 2403, 'klein': 2404, 'fritz': 2405, 'waddell': 2406, 'valve': 2407, 'lambert': 2408, 'deaf': 2409, 'wreckit': 2410, 'gibson': 2411, 'helped': 2412, 'italian': 2413, 'chunk': 2414, 'ex': 2415, 'whining': 2416, 'gps': 2417, 'solar': 2418, 'woke': 2419, 'yang': 2420, 'tumor': 2421, 'observe': 2422, 'counting': 2423, 'recovery': 2424, 'prep': 2425, 'tight': 2426, 'approach': 2427, 'banker': 2428, 'impression': 2429, 'wanting': 2430, 'update': 2431, 'athlete': 2432, 'lightning': 2433, 'height': 2434, 'turkey': 2435, 'male': 2436, 'martini': 2437, 'recording': 2438, 'pussy': 2439, 'rape': 2440, 'mcdonnen': 2441, 'color': 2442, 'load': 2443, 'meat': 2444, 'delicious': 2445, 'gambling': 2446, 'performer': 2447, 'foreman': 2448, 'mermaid': 2449, 'occurred': 2450, 'ay': 2451, 'gesture': 2452, 'royal': 2453, 'tone': 2454, 'aspect': 2455, 'obit': 2456, 'vt': 2457, 'global': 2458, 'briefed': 2459, 'deadline': 2460, 'threatened': 2461, 'buzz': 2462, 'mi5': 2463, 'alert': 2464, 'confident': 2465, 'edge': 2466, 'brown': 2467, 'refuse': 2468, 'studio': 2469, 'guide': 2470, 'peed': 2471, 'phrase': 2472, 'sophies': 2473, 'tiffany': 2474, 'legit': 2475, 'courtroom': 2476, 'gimme': 2477, 'unknown': 2478, 'businessman': 2479, '104': 2480, 'kilo': 2481, 'transport': 2482, 'frank': 2483, 'boot': 2484, 'transfer': 2485, 'scarf': 2486, 'poison': 2487, 'switched': 2488, 'heat': 2489, 'awing': 2490, 'rep': 2491, 'easier': 2492, 'trash': 2493, 'legally': 2494, 'shutting': 2495, 'negative': 2496, 'experiencing': 2497, 'gorilla': 2498, 'bay': 2499, 'rizzo': 2500, 'english': 2501, 'pip': 2502, 'tick': 2503, 'recognize': 2504, 'friday': 2505, 'pot': 2506, 'monarch': 2507, 'manhattan': 2508, 'status': 2509, 'petey': 2510, 'mall': 2511, 'england': 2512, 'accent': 2513, 'legal': 2514, 'united': 2515, '180': 2516, 'finn': 2517, 'heel': 2518, 'overnight': 2519, 'eagle': 2520, 'host': 2521, 'romeo': 2522, 'channel': 2523, 'helicopter': 2524, 'mustang': 2525, 'westbound': 2526, 'stunt': 2527, 'inbox': 2528, 'gorgeous': 2529, 'bow': 2530, 'lover': 2531, 'debt': 2532, 'bounty': 2533, 'shower': 2534, 'johnny': 2535, 'approaching': 2536, '150': 2537, 'strip': 2538, 'rolling': 2539, 'entering': 2540, 'consider': 2541, 'lethal': 2542, 'marker': 2543, '185': 2544, 'pd': 2545, 'scylla': 2546, 'calendar': 2547, '24': 2548, 'los': 2549, '400': 2550, 'cardholder': 2551, 'precaution': 2552, 'ip': 2553, 'device': 2554, 'shadow': 2555, 'hack': 2556, 'agency': 2557, 'oxygen': 2558, 'linc': 2559, 'entry': 2560, 'li': 2561, 'hooked': 2562, 'chasing': 2563, 'spy': 2564, 'inspection': 2565, 'fifty': 2566, 'candidate': 2567, 'resume': 2568, 'unique': 2569, 'fifteen': 2570, 'represent': 2571, 'sponsor': 2572, 'walked': 2573, 'minor': 2574, 'monday': 2575, 'porcupine': 2576, 'boo': 2577, 'blade': 2578, 'shelly': 2579, 'texting': 2580, 'partying': 2581, 'slipped': 2582, 'therapy': 2583, 'lemon': 2584, 'delight': 2585, 'vagina': 2586, 'simply': 2587, 'weigh': 2588, 'dedicated': 2589, 'smoking': 2590, 'freaked': 2591, 'cobb': 2592, 'deck': 2593, 'delicate': 2594, 'bloodshed': 2595, 'solid': 2596, 'slept': 2597, 'boylan': 2598, 'described': 2599, 'betty': 2600, '80000': 2601, 'extremely': 2602, 'kitten': 2603, 'skirt': 2604, 'traced': 2605, 'chicago': 2606, '1200': 2607, 'otherwise': 2608, 'iive': 2609, 'baker': 2610, 'portsmouth': 2611, 'pleased': 2612, 'fond': 2613, 'desire': 2614, 'wave': 2615, 'circle': 2616, 'wished': 2617, 'error': 2618, 'observation': 2619, 'quarter': 2620, 'talented': 2621, 'upside': 2622, 'useful': 2623, 'theatre': 2624, 'rehearsal': 2625, 'hawking': 2626, 'rainbow': 2627, 'hamish': 2628, 'value': 2629, 'complaining': 2630, 'strapped': 2631, 'quote': 2632, 'humor': 2633, 'suggesting': 2634, 'setting': 2635, 'object': 2636, 'nasty': 2637, 'helmet': 2638, 'forgetting': 2639, 'sail': 2640, 'hiccup': 2641, 'anyhow': 2642, 'charles': 2643, 'hereby': 2644, 'awfully': 2645, 'eddie': 2646, 'flame': 2647, 'fruit': 2648, 'gown': 2649, 'aaron': 2650, 'butter': 2651, 'slice': 2652, 'emotional': 2653, 'ca': 2654, 'amen': 2655, 'selling': 2656, 'fantasy': 2657, 'theater': 2658, 'museum': 2659, 'condition': 2660, 'disturbed': 2661, 'bore': 2662, 'large': 2663, 'slightly': 2664, 'obsessed': 2665, 'jangle': 2666, 'interrupt': 2667, 'ease': 2668, 'forth': 2669, 'firm': 2670, 'ic': 2671, 'anyways': 2672, 'embrace': 2673, 'technology': 2674, 'slip': 2675, 'pie': 2676, 'engagement': 2677, 'engaged': 2678, 'furniture': 2679, 'lookin': 2680, 'paperwork': 2681, 'square': 2682, 'takin': 2683, 'collect': 2684, 'violence': 2685, 'cyrus': 2686, 'wise': 2687, 'specifically': 2688, 'joint': 2689, 'suffer': 2690, 'trained': 2691, 'thankful': 2692, 'trail': 2693, 'kidnapping': 2694, 'kicking': 2695, 'wee': 2696, 'beautifully': 2697, '100000': 2698, 'volume': 2699, 'oak': 2700, 'albert': 2701, 'soaking': 2702, 'describe': 2703, 'smelling': 2704, 'wax': 2705, 'nd': 2706, '980000': 2707, 'centre': 2708, 'supply': 2709, 'cone': 2710, 'bend': 2711, 'hurricane': 2712, 'swim': 2713, 'hoped': 2714, 'warrant': 2715, 'network': 2716, 'miserable': 2717, 'classic': 2718, 'yay': 2719, 'mort': 2720, 'pillow': 2721, 'mavbe': 2722, 'documentary': 2723, 'dip': 2724, 'legend': 2725, 'whod': 2726, 'eva': 2727, 'enjoyed': 2728, 'infiltrate': 2729, 'spectacle': 2730, 'birth': 2731, 'dull': 2732, 'risky': 2733, 'tender': 2734, 'directly': 2735, 'villa': 2736, 'generous': 2737, 'porpoise': 2738, 'itinerary': 2739, 'carrying': 2740, 'ultimately': 2741, 'loop': 2742, 'scrub': 2743, 'avenue': 2744, 'focused': 2745, 'demon': 2746, 'turtle': 2747, 'virgil': 2748, 'warning': 2749, 'underneath': 2750, 'greedy': 2751, 'alcoholic': 2752, 'feed': 2753, 'noodle': 2754, 'committed': 2755, 'murphy': 2756, 'custom': 2757, 'received': 2758, 'altitude': 2759, 'pulling': 2760, 'hydraulics': 2761, 'pitch': 2762, 'brake': 2763, 'booze': 2764, 'nurse': 2765, 'refrigerator': 2766, 'mayday': 2767, 'baseball': 2768, 'barry': 2769, 'blessing': 2770, '17': 2771, 'confirms': 2772, 'shy': 2773, 'jolly': 2774, 'bless': 2775, 'searching': 2776, 'nanny': 2777, 'courtesy': 2778, 'rumor': 2779, 'cole': 2780, 'privacy': 2781, 'tantrum': 2782, 'corpse': 2783, 'skull': 2784, 'swing': 2785, 'thrown': 2786, 'accomplish': 2787, 'vet': 2788, 'spoken': 2789, 'jaimie': 2790, 'cocktail': 2791, 'rat': 2792, 'teaching': 2793, 'dumpling': 2794, 'chi': 2795, 'defeat': 2796, 'chart': 2797, 'signal': 2798, 'google': 2799, 'vulnerable': 2800, 'scale': 2801, 'chapter': 2802, 'lame': 2803, 'starving': 2804, 'steam': 2805, 'hutch': 2806, 'raising': 2807, 'mm': 2808, 'nobel': 2809, 'childhood': 2810, 'prize': 2811, 'boarding': 2812, 'syrup': 2813, 'apply': 2814, 'toy': 2815, 'peter': 2816, 'cousin': 2817, 'silence': 2818, 'struggling': 2819, 'rio': 2820, 'april': 2821, 'c': 2822, 'argument': 2823, 'bladder': 2824, 'pork': 2825, 'burning': 2826, 'quest': 2827, 'seattle': 2828, 'epi': 2829, 'attending': 2830, 'assisting': 2831, 'garden': 2832, 'annie': 2833, 'magazine': 2834, 'florida': 2835, 'traditional': 2836, 'dressing': 2837, 'tf': 2838, 'ignoring': 2839, 'torturing': 2840, 'syphilis': 2841, 'operating': 2842, 'stan': 2843, 'jewish': 2844, 'guarantee': 2845, '16': 2846, 'effort': 2847, 'porter': 2848, 'salt': 2849, 'owner': 2850, 'separated': 2851, 'kay': 2852, 'jobryeth': 2853, 'elf': 2854, 'dee': 2855, 'hid': 2856, 'inspire': 2857, 'salad': 2858, 'lane': 2859, 'sack': 2860, 'natural': 2861, 'hairy': 2862, 'hobby': 2863, 'bud': 2864, 'lisp': 2865, 'smug': 2866, 'rover': 2867, 'net': 2868, 'consequence': 2869, 'thatll': 2870, 'dessert': 2871, 'sonny': 2872, 'leader': 2873, 'blast': 2874, 'tiger': 2875, 'authority': 2876, 'wipe': 2877, 'investigate': 2878, 'insurance': 2879, 'nelson': 2880, 'tacky': 2881, 'stephanie': 2882, 'fetch': 2883, 'orson': 2884, 'blackmail': 2885, 'washington': 2886, 'prop': 2887, 'philosophy': 2888, 'product': 2889, 'sentimental': 2890, 'complex': 2891, 'recent': 2892, 'h': 2893, 'metal': 2894, 'computer': 2895, 'identify': 2896, 'shredder': 2897, 'julius': 2898, 'connection': 2899, 'quid': 2900, 'quo': 2901, 'rent': 2902, 'fashion': 2903, 'settle': 2904, '70': 2905, 'eggshell': 2906, 'mouse': 2907, 'shortcut': 2908, 'perspective': 2909, 'galaxy': 2910, 'trusting': 2911, 'priya': 2912, 'suitable': 2913, 'cocaine': 2914, 'redhead': 2915, 'elliot': 2916, 'chivalric': 2917, 'enterprise': 2918, 'reached': 2919, 'carnival': 2920, 'champagne': 2921, 'trait': 2922, 'carmichael': 2923, 'assured': 2924, 'feature': 2925, 'addict': 2926, 'clever': 2927, 'occur': 2928, 'exists': 2929, 'theyd': 2930, 'bucking': 2931, 'screaming': 2932, 'ranch': 2933, 'rancher': 2934, 'jealous': 2935, 'closest': 2936, 'began': 2937, 'adrienne': 2938, 'francis': 2939, 'factory': 2940, 'direction': 2941, 'levinson': 2942, 'cow': 2943, 'andy': 2944, 'detailed': 2945, 'achieved': 2946, 'portfolio': 2947, '8': 2948, 'activated': 2949, 'robot': 2950, 'series': 2951, 'closure': 2952, 'whend': 2953, 'personnel': 2954, 'colony': 2955, 'chancellor': 2956, 'role': 2957, 'rekall': 2958, 'provide': 2959, 'tactical': 2960, 'octan': 2961, 'taco': 2962, 'fred': 2963, 'masterbuilder': 2964, 'masterbuilders': 2965, 'torture': 2966, 'cloud': 2967, 'glue': 2968, 'bat': 2969, 'acceptable': 2970, 'morrissey': 2971, 'trade': 2972, 'loaded': 2973, 'coat': 2974, 'scar': 2975, 'spilled': 2976, 'winter': 2977, 'thorin': 2978, 'gem': 2979, 'aid': 2980, 'struck': 2981, 'forced': 2982, 'secretive': 2983, 'grandfather': 2984, 'tax': 2985, 'claim': 2986, 'pin': 2987, 'uhhuh': 2988, 'statue': 2989, 'culture': 2990, 'parachute': 2991, 'strategy': 2992, 'whistler': 2993, 'priority': 2994, 'corn': 2995, 'greatest': 2996, 'et': 2997, 'orgasm': 2998, 'starter': 2999, 'gall': 3000, 'smiling': 3001, 'officially': 3002, 'stockburn': 3003, 'outlaw': 3004, 'ezekiel': 3005, 'valentine': 3006, 'yuma': 3007, 'engage': 3008, 'diego': 3009, 'saint': 3010, 'owns': 3011, 'teller': 3012, 'alice': 3013, 'squirrel': 3014, 'relieved': 3015, 'request': 3016, '82': 3017, 'gil': 3018, 'pollard': 3019, 'schedule': 3020, 'japanese': 3021, 'ashley': 3022, 'kelly': 3023, 'charming': 3024, 'passionate': 3025, 'ciao': 3026, 'berlin': 3027, 'understanding': 3028, 'oldest': 3029, 'grind': 3030, 'button': 3031, 'leak': 3032, '450': 3033, 'justice': 3034, 'distraction': 3035, 'placed': 3036, 'drago': 3037, 'screwed': 3038, 'subjugated': 3039, 'basketball': 3040, 'based': 3041, 'buffalo': 3042, 'cam': 3043, 'retreat': 3044, 'rehab': 3045, 'wednesday': 3046, 'massive': 3047, 'throat': 3048, 'whens': 3049, 'everett': 3050, 'recorder': 3051, 'grid': 3052, 'hut': 3053, 'freedom': 3054, 'ambition': 3055, 'extraction': 3056, 'regard': 3057, 'gabys': 3058, 'bobby': 3059, 'christopher': 3060, 'oceanside': 3061, 'hood': 3062, 'ridge': 3063, 'baldwin': 3064, 'fry': 3065, 'link': 3066, 'satanic': 3067, 'burnett': 3068, 'arabic': 3069, 'axe': 3070, 'ravine': 3071, '8000': 3072, 'lawrence': 3073, 'predicting': 3074, 'ollie': 3075, 'clem': 3076, 'intelligence': 3077, 'fascist': 3078, 'scrap': 3079, 'loser': 3080, 'nova': 3081, 'corp': 3082, 'gamora': 3083, 'highend': 3084, 'tightknit': 3085, 'groot': 3086, 'tuxedo': 3087, 'nitro': 3088, 'brad': 3089, 'kiwi': 3090, 'sex': 3091, 'solis': 3092, 'dab': 3093, 'pole': 3094, 'mitzvah': 3095, 'miner': 3096, 'emerson': 3097, 'billiard': 3098, 'tiffin': 3099, 'digging': 3100, 'tire': 3101, 'goat': 3102, 'cable': 3103, 'cody': 3104, 'trimble': 3105, 'shrek': 3106, 'accessory': 3107, 'spaghetti': 3108, 'swimming': 3109, 'satellite': 3110, 'flare': 3111, 'oprah': 3112, 'disneyland': 3113, 'random': 3114, 'jackson': 3115, 'psych': 3116, 'dissect': 3117, 'draining': 3118, 'suction': 3119, 'harvard': 3120, 'inappropriate': 3121, 'gallery': 3122, 'denning': 3123, 'sight': 3124, 'bog': 3125, 'uncovered': 3126, 'arthur': 3127, 'abrams': 3128, 'limit': 3129, 'theatrics': 3130, 'finishing': 3131, 'anytime': 3132, 'requires': 3133, 'jock': 3134, 'pony': 3135, 'comedian': 3136, 'degenerate': 3137, 'replaced': 3138, 'maria': 3139, 'grit': 3140, 'percentile': 3141, 'iust': 3142, 'dummy': 3143, 'heavyweight': 3144, 'superpussy': 3145, '75': 3146, 'tricky': 3147, '5000': 3148, 'individual': 3149, 'hunk': 3150, 'prime': 3151, 'rib': 3152, 'distracted': 3153, 'negotiate': 3154, 'someplace': 3155, 'observing': 3156, 'voluntary': 3157, 'chat': 3158, 'damon': 3159, 'dan': 3160, 'graphic': 3161, 'functional': 3162, 'mmhm': 3163, 'callett': 3164, 'noel': 3165, 'style': 3166, 'mapped': 3167, 'ruled': 3168, 'whove': 3169, 'questioning': 3170, 'telly': 3171, 'ukn': 3172, 'formal': 3173, 'respond': 3174, 'latest': 3175, 'relay': 3176, 'tit': 3177, 'reception': 3178, 'courier': 3179, 'plug': 3180, 'development': 3181, 'minister': 3182, 'released': 3183, 'uk': 3184, 'walker': 3185, 'pissing': 3186, 'julian': 3187, 'advising': 3188, 'award': 3189, 'insist': 3190, 'compliance': 3191, 'arrangement': 3192, 'midnight': 3193, 'nation': 3194, 'viewer': 3195, 'commence': 3196, 'eats': 3197, 'pushing': 3198, 'archive': 3199, 'pertinent': 3200, 'sparkling': 3201, 'ounce': 3202, 'wiggle': 3203, 'hopefully': 3204, 'proceed': 3205, '2005': 3206, 'vintage': 3207, 'assistance': 3208, 'held': 3209, 'anna': 3210, 'unpunished': 3211, 'monaco': 3212, 'headache': 3213, 'soup': 3214, 'musketeer': 3215, 'tied': 3216, 'smarter': 3217, 'cargo': 3218, 'hatch': 3219, 'climb': 3220, '669': 3221, 'rag': 3222, 'wasted': 3223, 'perfume': 3224, 'rack': 3225, 'cobweb': 3226, 'cleveland': 3227, 'bellick': 3228, 'popping': 3229, 'paycheck': 3230, 'oven': 3231, 'exam': 3232, 'nod': 3233, 'compromised': 3234, 'spill': 3235, 'penicillin': 3236, 'strategic': 3237, 'x': 3238, 'newer': 3239, 'funeral': 3240, 'calculated': 3241, 'dozen': 3242, 'afford': 3243, 'wrap': 3244, 'falling': 3245, 'locker': 3246, 'carroll': 3247, 'liter': 3248, 'jules': 3249, 'absurd': 3250, 'driven': 3251, 'hel': 3252, 'agera': 3253, 'rightseater': 3254, '44': 3255, '52': 3256, 'ditch': 3257, 'broom': 3258, 'supposedly': 3259, 'dinos': 3260, 'rue': 3261, 'ignorant': 3262, 'marathon': 3263, 'bum': 3264, '375': 3265, 'spread': 3266, 'silver': 3267, '94': 3268, 'en': 3269, 'lookout': 3270, 'visual': 3271, 'redneck': 3272, 'sped': 3273, 'mindblowing': 3274, 'passion': 3275, 'vengeance': 3276, 'blonde': 3277, 'youlre': 3278, 'tart': 3279, 'drift': 3280, 'laptop': 3281, 'row': 3282, 'saleen': 3283, 'stepped': 3284, 'h1': 3285, 'ops': 3286, '103': 3287, 'add': 3288, 'racer': 3289, 'donut': 3290, 'formation': 3291, 'confirm': 3292, 'scanner': 3293, 'catching': 3294, 'victory': 3295, 'angeles': 3296, 'arrival': 3297, 'path': 3298, 'content': 3299, 'anaheim': 3300, 'cluster': 3301, 'reaching': 3302, '64': 3303, 'temp': 3304, 'badge': 3305, 'whose': 3306, 'leo': 3307, 'joan': 3308, 'canada': 3309, 'investigator': 3310, 'license': 3311, '18th': 3312, 'heh': 3313, 'handling': 3314, 'threatening': 3315, 'speaks': 3316, 'legendary': 3317, 'mar': 3318, 'deputy': 3319, 'operatic': 3320, 'tweet': 3321, 'tine': 3322, 'motherinlaw': 3323, 'yearbook': 3324, 'collector': 3325, 'shine': 3326, 'valid': 3327, 'permanent': 3328, 'bail': 3329, 'hilarious': 3330, 'prank': 3331, 'designated': 3332, 'adjust': 3333, 'panty': 3334, 'upper': 3335, 'bishop': 3336, 'youlll': 3337, 'graduation': 3338, 'damned': 3339, 'memorial': 3340, 'stress': 3341, 'blind': 3342, 'monica': 3343, 'pier': 3344, 'pi': 3345, 'tablet': 3346, 'respectable': 3347, 'cent': 3348, 'posted': 3349, 'anne': 3350, 'hathaway': 3351, 'determined': 3352, '121': 3353, 'fiance': 3354, 'alibi': 3355, 'cracking': 3356, 'friendship': 3357, 'blowout': 3358, 'cared': 3359, 'protecting': 3360, 'adoption': 3361, 'disappears': 3362, 'awol': 3363, 'bench': 3364, 'disappoint': 3365, 'fridge': 3366, 'hawk': 3367, 'steel': 3368, 'sincerely': 3369, 'curious': 3370, '911': 3371, '419': 3372, 'topper': 3373, 'greek': 3374, 'cloak': 3375, 'deposit': 3376, 'frost': 3377, 'blender': 3378, 'waking': 3379, 'chickwich': 3380, 'becky': 3381, 'armonica': 3382, 'ann': 3383, 'kelmot': 3384, 'wore': 3385, 'tohn': 3386, 'fashioned': 3387, 'designed': 3388, 'miniature': 3389, 'mourning': 3390, 'dwell': 3391, 'fortunate': 3392, '93': 3393, 'stood': 3394, 'sin': 3395, 'foolishness': 3396, 'complain': 3397, 'garage': 3398, 'conclusion': 3399, 'exile': 3400, 'terribly': 3401, 'succeed': 3402, 'eager': 3403, 'predicted': 3404, 'witnessed': 3405, 'forging': 3406, 'convincing': 3407, 'circumstance': 3408, 'decency': 3409, 'wasp': 3410, 'wiping': 3411, 'sting': 3412, 'attacked': 3413, 'watering': 3414, 'blessed': 3415, 'mighty': 3416, 'tilt': 3417, 'amys': 3418, 'swan': 3419, 'yah': 3420, 'katie': 3421, 'bidding': 3422, 'ski': 3423, 'kidnapped': 3424, 'firing': 3425, 'guaranteed': 3426, 'tia': 3427, 'el': 3428, 'equally': 3429, 'formidable': 3430, 'aim': 3431, 'ol': 3432, 'photograph': 3433, 'iris': 3434, 'lemonade': 3435, 'offend': 3436, 'lone': 3437, 'pliable': 3438, 'recognition': 3439, 'cal': 3440, 'larger': 3441, 'gal': 3442, 'rogue': 3443, 'ugly': 3444, 'cutlas': 3445, 'terror': 3446, 'bellamy': 3447, 'hoist': 3448, 'gruesome': 3449, 'bold': 3450, 'chuck': 3451, 'deserves': 3452, 'ham': 3453, 'magnificent': 3454, 'sweating': 3455, 'stealing': 3456, 'milo': 3457, 'showed': 3458, 'brushing': 3459, 'annoying': 3460, 'ninety': 3461, 'maker': 3462, 'peanut': 3463, 'concern': 3464, 'ballroom': 3465, 'so': 3466, 'receive': 3467, 'divorced': 3468, 'childbirth': 3469, 'triday': 3470, 'orc': 3471, 'stormed': 3472, 'g0': 3473, 'wha': 3474, 'p': 3475, 'humanity': 3476, 'exaggerated': 3477, 'fielding': 3478, 'medicine': 3479, 'homeless': 3480, 'decides': 3481, 'rushed': 3482, 'thoughtful': 3483, 'spending': 3484, 'tomato': 3485, '1100': 3486, 'settlement': 3487, 'fairview': 3488, 'lynette': 3489, 'pamphlet': 3490, 'grating': 3491, 'cheese': 3492, 'babysitting': 3493, 'cologne': 3494, 'affection': 3495, 'ambitious': 3496, 'include': 3497, 'storage': 3498, 'corporation': 3499, 'developing': 3500, 'stressed': 3501, 'weirdo': 3502, 'sushi': 3503, 'thou': 3504, 'decline': 3505, 'exaggerating': 3506, 'smiley': 3507, 'residence': 3508, 'gordon': 3509, 'behold': 3510, 'brings': 3511, 'molested': 3512, 'tracked': 3513, 'arrested': 3514, 'sausage': 3515, 'irony': 3516, 'zoo': 3517, 'smaller': 3518, 'cooky': 3519, 'screenplay': 3520, 'spine': 3521, 'zombie': 3522, 'coupe': 3523, 'k': 3524, 'tryin': 3525, 'fucker': 3526, 'sober': 3527, 'sum': 3528, 'bacon': 3529, 'curb': 3530, 'denouncing': 3531, 'ginger': 3532, 'ak': 3533, 'shrink': 3534, 'pathetic': 3535, 'gimp': 3536, 'peek': 3537, 'molly': 3538, 'yyou': 3539, 'thug': 3540, 'tommys': 3541, 'includes': 3542, 'unarmed': 3543, 'creek': 3544, 'served': 3545, 'leonie': 3546, 'bonnet': 3547, 'wrist': 3548, 'packed': 3549, 'solemnly': 3550, 'distillery': 3551, 'twenty': 3552, 'thirty': 3553, '30000': 3554, 'coconut': 3555, 'vanilla': 3556, 'chocolate': 3557, 'carntyne': 3558, 'manchester': 3559, 'sweetness': 3560, 'coincidentally': 3561, 'dealer': 3562, 'glasgow': 3563, 'dobie': 3564, 'rhino': 3565, 'grandchild': 3566, 'reported': 3567, 'tasting': 3568, 'privileged': 3569, 'discovery': 3570, 'telephone': 3571, 'bidder': 3572, 'advance': 3573, 'civilian': 3574, 'robert': 3575, 'mv': 3576, 'attract': 3577, 'mister': 3578, 'replace': 3579, 'equipment': 3580, 'stranger': 3581, 'te': 3582, 'greatgreatgrandfather': 3583, 'nonsense': 3584, 'warren': 3585, 'activity': 3586, 'cement': 3587, 'bernadette': 3588, 'pointed': 3589, 'analogy': 3590, 'fitting': 3591, 'gravity': 3592, 'insulted': 3593, 'temporary': 3594, 'firearm': 3595, 'thinkin': 3596, 'mellow': 3597, 'poof': 3598, 'anxious': 3599, 'fort': 3600, 'sheila': 3601, 'sally': 3602, 'authentic': 3603, 'caring': 3604, 'goodbve': 3605, 'warm': 3606, 'underwear': 3607, 'whoop': 3608, 'ink': 3609, 'elton': 3610, 'thatd': 3611, 'typical': 3612, 'apologizing': 3613, 'welcoming': 3614, 'organised': 3615, 'leaflet': 3616, 'gareth': 3617, 'veteran': 3618, 'globe': 3619, 'sexist': 3620, 'marjorie': 3621, 'clive': 3622, 'dissertation': 3623, 'planned': 3624, 'blend': 3625, 'permission': 3626, 'smoked': 3627, 'taxi': 3628, 'johansson': 3629, 'adventurous': 3630, 'creative': 3631, 'amount': 3632, 'acquired': 3633, 'retirement': 3634, 'hendricks': 3635, 'managing': 3636, 'tim': 3637, 'tm': 3638, 'ia': 3639, 'telegram': 3640, 'valued': 3641, 'partnership': 3642, 'deciding': 3643, 'tune': 3644, 'poking': 3645, 'scramble': 3646, 'spying': 3647, 'ironically': 3648, 'marquis': 3649, 'toilet': 3650, 'frat': 3651, 'frightened': 3652, 'locust': 3653, 'temple': 3654, 'fairy': 3655, 'basic': 3656, 'facing': 3657, 'separate': 3658, 'bark': 3659, 'crush': 3660, 'rearview': 3661, 'hysterical': 3662, 'delighted': 3663, 'grew': 3664, 'james': 3665, 'bible': 3666, 'betray': 3667, 'cheaper': 3668, 'reverend': 3669, 'impress': 3670, 'jade': 3671, 'touched': 3672, 'toss': 3673, 'duplicate': 3674, 'meanwhile': 3675, 'lola': 3676, 'analysis': 3677, 'calhoun': 3678, 'trembling': 3679, 'instagram': 3680, 'smooth': 3681, 'needle': 3682, 'approved': 3683, 'stiff': 3684, 'fasten': 3685, 'seatbelt': 3686, 'atlanta': 3687, 'affirm': 3688, 'uncontrolled': 3689, 'declaring': 3690, 'belted': 3691, 'dumped': 3692, 'jammed': 3693, 'swelling': 3694, 'offended': 3695, 'condo': 3696, 'marked': 3697, 'mag': 3698, 'proven': 3699, 'praise': 3700, 'tragic': 3701, 'savior': 3702, 'ellen': 3703, 'conscious': 3704, 'instinct': 3705, 'evans': 3706, 'testimony': 3707, 'gum': 3708, 'inspired': 3709, 'enjoys': 3710, 'pest': 3711, 'measure': 3712, 'shire': 3713, 'painted': 3714, 'creepy': 3715, 'television': 3716, 'tube': 3717, 'chanel': 3718, 'waiter': 3719, 'architect': 3720, 'discussing': 3721, 'bust': 3722, 'conductor': 3723, 'ryans': 3724, 'gucci': 3725, 'shelf': 3726, 'distract': 3727, 'iii': 3728, 'armor': 3729, 'hinge': 3730, 'doom': 3731, 'heal': 3732, 'shook': 3733, 'yha': 3734, 'subtle': 3735, 'panel': 3736, 'golf': 3737, 'prefers': 3738, 'cape': 3739, 'crushed': 3740, 'annual': 3741, 'mitch': 3742, 'haley': 3743, 'warned': 3744, 'longterm': 3745, 'corporate': 3746, 'sprite': 3747, 'tomb': 3748, 'carried': 3749, 'moor': 3750, 'bury': 3751, 'swarm': 3752, 'yell': 3753, 'quickest': 3754, 'wicked': 3755, 'sunday': 3756, 'skiing': 3757, 'packing': 3758, 'cardboard': 3759, 'sweat': 3760, 'pea': 3761, 'eddy': 3762, 'creates': 3763, 'mercury': 3764, 'lens': 3765, 'dancer': 3766, 'cooper': 3767, 'marketing': 3768, 'campaign': 3769, 'anderson': 3770, 'youtube': 3771, 'viral': 3772, 'sensation': 3773, 'reminding': 3774, 'handing': 3775, 'realized': 3776, 'serve': 3777, 'committee': 3778, 'appropriate': 3779, 'dour': 3780, 'appearance': 3781, 'yup': 3782, 'freeze': 3783, 'bent': 3784, 'chew': 3785, 'offense': 3786, 'spouse': 3787, 'makeup': 3788, 'liver': 3789, 'splash': 3790, 'smelled': 3791, 'kissing': 3792, 'twohour': 3793, 'moody': 3794, 'vow': 3795, 'monk': 3796, 'banana': 3797, 'bubble': 3798, 'papa': 3799, 'mirror': 3800, 'taser': 3801, 'donald': 3802, 'signing': 3803, 'cleared': 3804, 'wale': 3805, '1955': 3806, 'debut': 3807, '1963': 3808, 'pavarotti': 3809, 'spoiled': 3810, 'trusted': 3811, 'stadium': 3812, 'transformed': 3813, 'suffered': 3814, 'occurs': 3815, 'appear': 3816, 'beret': 3817, 'supermarket': 3818, 'bridesmaid': 3819, 'izzie': 3820, 'ct': 3821, 'dana': 3822, 'hallucination': 3823, 'ookay': 3824, 'omalley': 3825, 'stella': 3826, 'nicu': 3827, 'vent': 3828, 'primary': 3829, 'faced': 3830, 'towel': 3831, 'exploding': 3832, 'stabilize': 3833, 'spinal': 3834, 'fracture': 3835, 'dial': 3836, 'injustice': 3837, 'foxglove': 3838, 'peck': 3839, 'pasta': 3840, 'brian': 3841, 'lonely': 3842, 'upstanding': 3843, 'diet': 3844, 'lac': 3845, 'qualified': 3846, 'apron': 3847, 'byebye': 3848, 'blouse': 3849, 'fearless': 3850, 'cough': 3851, 'intern': 3852, 'cross': 3853, 'biopsy': 3854, 'colon': 3855, 'abdomen': 3856, 'handful': 3857, 'glowinthedark': 3858, 'steve': 3859, 'andand': 3860, 'household': 3861, 'howie': 3862, 'austin': 3863, 'pupil': 3864, 'terrifying': 3865, 'serial': 3866, 'flash': 3867, 'treatment': 3868, 'complete': 3869, 'delfino': 3870, 'scavo': 3871, 'mccluskey': 3872, 'stain': 3873, 'ax': 3874, 'foul': 3875, 'lavender': 3876, 'backyard': 3877, 'larp': 3878, 'wiccan': 3879, 'companion': 3880, 'arise': 3881, 'plusthree': 3882, 'ape': 3883, 'thy': 3884, 'tongue': 3885, 'fellow': 3886, 'speaker': 3887, 'vampire': 3888, 'rea': 3889, 'rode': 3890, 'wizard': 3891, 'summoned': 3892, '16th': 3893, 'summon': 3894, 'rage': 3895, 'spoil': 3896, 'doth': 3897, 'hath': 3898, 'appeared': 3899, 'arrive': 3900, 'lit': 3901, 'strap': 3902, 'waxing': 3903, 'masturbate': 3904, 'juilliard': 3905, 'application': 3906, 'hamilton': 3907, 'pancake': 3908, 'sheer': 3909, 'precious': 3910, 'perfectly': 3911, 'deliver': 3912, 'bullock': 3913, 'luckily': 3914, 'notch': 3915, 'electronics': 3916, 'orient': 3917, 'dismissed': 3918, 'flushing': 3919, 'hong': 3920, 'kong': 3921, 'bobo': 3922, 'dai': 3923, 'lo': 3924, 'ets': 3925, 'n': 3926, 'asian': 3927, 'bo': 3928, 'fbi': 3929, 'habit': 3930, 'hip': 3931, 'emilys': 3932, 'heck': 3933, 'mclanden': 3934, 'foundation': 3935, 'anniversary': 3936, 'stronger': 3937, 'sneak': 3938, 'asks': 3939, 'heroine': 3940, 'naked': 3941, 'hormone': 3942, 'guitar': 3943, 'sleepwalking': 3944, 'pair': 3945, 'gor': 3946, 'founder': 3947, 'cherished': 3948, 'recipe': 3949, 'katherine': 3950, 'doggy': 3951, 'learns': 3952, 'sparkle': 3953, 'sont': 3954, 'attended': 3955, 'interracial': 3956, 'ban': 3957, 'lifted': 3958, 'knowledge': 3959, 'library': 3960, 'passage': 3961, 'thumb': 3962, 'expression': 3963, 'gene': 3964, 'flip': 3965, 'bombed': 3966, 'expressed': 3967, 'teapot': 3968, 'flow': 3969, 'drip': 3970, 'western': 3971, 'gangster': 3972, 'particularly': 3973, 'temper': 3974, 'fabulous': 3975, 'explosive': 3976, 'unconscious': 3977, 'cerebral': 3978, 'ucla': 3979, 'ambulance': 3980, 'plastic': 3981, 'hodges': 3982, 'representative': 3983, 'dna': 3984, 'tissue': 3985, 'lalotte': 3986, 'ad': 3987, 'fee': 3988, 'betterlooking': 3989, '101': 3990, 'loan': 3991, 'incident': 3992, 'cartridge': 3993, 'dime': 3994, 'facial': 3995, 'sixyearold': 3996, 'arlo': 3997, 'karden': 3998, 'pro': 3999, 'devries': 4000, 'naturally': 4001, 'mat': 4002, 'bra': 4003, 'necklace': 4004, 'testing': 4005, 'cried': 4006, 'tickle': 4007, 'tooth': 4008, 'gotcha': 4009, 'paranoia': 4010, 'circus': 4011, 'cancel': 4012, 'clinical': 4013, 'martinez': 4014, 'requesting': 4015, 'priest': 4016, 'installed': 4017, 'ancient': 4018, 'healing': 4019, 'maguire': 4020, 'heroin': 4021, 'carefully': 4022, 'pleasant': 4023, 'concentrate': 4024, 'lance': 4025, 'drawn': 4026, 'drew': 4027, 'translate': 4028, 'among': 4029, 'allegiance': 4030, 'enslaved': 4031, 'morgana': 4032, 'transform': 4033, 'mertin': 4034, 'mini': 4035, 'merlin': 4036, 'magical': 4037, 'humiliating': 4038, 'center': 4039, 'surrounded': 4040, 'sanctuary': 4041, 'flock': 4042, 'tulio': 4043, 'logging': 4044, 'audition': 4045, 'swallow': 4046, 'nigel': 4047, 'mimi': 4048, 'adorable': 4049, 'honeymoon': 4050, 'log': 4051, 'guidance': 4052, 'roberto': 4053, 'hovering': 4054, 'bell': 4055, 'tool': 4056, 'insult': 4057, 'lollipop': 4058, 'ahem': 4059, 'kitty': 4060, 'chemos': 4061, 'forge': 4062, 'solved': 4063, 'amaze': 4064, 'envelope': 4065, 'capable': 4066, 'eustace': 4067, 'whatsoever': 4068, 'attempting': 4069, 'acquainted': 4070, 'pose': 4071, 'somewhat': 4072, 'technique': 4073, 'chatter': 4074, 'attempt': 4075, 'vote': 4076, 'fooled': 4077, 'resource': 4078, 'needing': 4079, 'pressing': 4080, 'chute': 4081, 'pbr': 4082, 'happier': 4083, 'zoulre': 4084, 'snack': 4085, 'generation': 4086, 'represents': 4087, 'laughed': 4088, 'kin': 4089, 'farmer': 4090, 'luiz': 4091, 'collected': 4092, 'astronomy': 4093, 'portrait': 4094, '600': 4095, 'daffy': 4096, 'victoria': 4097, 'choir': 4098, 'stab': 4099, 'anxiety': 4100, 'maid': 4101, 'disease': 4102, 'recovered': 4103, 'cont': 4104, 'blocked': 4105, 'erased': 4106, 'lasseter': 4107, 'spotted': 4108, 'drone': 4109, 'iim': 4110, 'intervention': 4111, 'exercise': 4112, 'bombing': 4113, 'survivor': 4114, 'toll': 4115, 'matthias': 4116, 'fb': 4117, 'exploit': 4118, 'hauser': 4119, 'core': 4120, 'panic': 4121, 'quaid': 4122, 'succeeded': 4123, 'safety': 4124, 'yall': 4125, 'mysterious': 4126, 'frustrating': 4127, 'pow': 4128, 'stool': 4129, 'ty': 4130, 'magically': 4131, 'pink': 4132, 'cuckooland': 4133, 'impossible': 4134, 'leading': 4135, 'disappointment': 4136, 'gray': 4137, 'yellow': 4138, 'imaginative': 4139, 'wiring': 4140, 'explode': 4141, 'zima': 4142, 'dolores': 4143, 'lassie': 4144, 'nutshell': 4145, 'spider': 4146, 'tourist': 4147, 'eskimo': 4148, 'defender': 4149, 'parking': 4150, 'fur': 4151, 'recover': 4152, 'rotten': 4153, 'diaper': 4154, 'teat': 4155, 'chip': 4156, 'recovering': 4157, 'steep': 4158, 'woody': 4159, 'routine': 4160, 'bard': 4161, 'searched': 4162, 'reclaim': 4163, 'storm': 4164, 'homeland': 4165, 'whistle': 4166, 'vlad': 4167, 'prom': 4168, 'joes': 4169, 'cooler': 4170, 'lawsuit': 4171, 'youth': 4172, 'drivein': 4173, 'ironic': 4174, 'la': 4175, 'explaining': 4176, 'goingaway': 4177, 'benefit': 4178, 'assist': 4179, 'lottery': 4180, 'gap': 4181, 'wired': 4182, 'thered': 4183, 'balloon': 4184, 'bugger': 4185, 'keypad': 4186, 'passcode': 4187, 'breakin': 4188, 'turkish': 4189, 'consul': 4190, 'tabak': 4191, 'custody': 4192, 'benjamin': 4193, 'hop': 4194, 'biological': 4195, 'controlling': 4196, 'frustrate': 4197, 'uber': 4198, 'invention': 4199, 'jurassic': 4200, 'mitt': 4201, 'breast': 4202, 'sticker': 4203, 'devastated': 4204, 'distressed': 4205, 'initially': 4206, 'carved': 4207, 'lefteye': 4208, 'reckon': 4209, 'windmill': 4210, 'burro': 4211, 'jackass': 4212, 'logical': 4213, 'pa': 4214, 'mystical': 4215, 'ramon': 4216, 'harris': 4217, 'pecker': 4218, 'beg': 4219, 'gut': 4220, 'blond': 4221, 'bean': 4222, 'unnecessary': 4223, 'earp': 4224, 'wyatt': 4225, 'muscle': 4226, 'bueno': 4227, 'kim': 4228, 'kanye': 4229, 'walmart': 4230, 'peep': 4231, 'howland': 4232, 'neuron': 4233, 'doris': 4234, 'argue': 4235, 'soccer': 4236, 'gregg': 4237, 'app': 4238, 'kitchen': 4239, 'aisle': 4240, 'defend': 4241, 'donation': 4242, 'drowning': 4243, 'toothpaste': 4244, 'cappuccino': 4245, 'stud': 4246, 'gambler': 4247, 'enright': 4248, 'screening': 4249, 'hither': 4250, 'yon': 4251, 'holder': 4252, 'welles': 4253, 'commit': 4254, 'cushy': 4255, 'volunteer': 4256, 'nerd': 4257, 'unbelievable': 4258, 'tuscon': 4259, 'admirable': 4260, 'desert': 4261, 'sooner': 4262, 'cia': 4263, 'dubious': 4264, 'dermatologist': 4265, 'delacorte': 4266, 'diagnosed': 4267, 'connie': 4268, 'demented': 4269, 'physical': 4270, 'deformity': 4271, 'ashleighs': 4272, 'classy': 4273, 'confusing': 4274, 'terrence': 4275, 'steadman': 4276, 'pattern': 4277, 'sara': 4278, 'operative': 4279, 'treaty': 4280, 'initiative': 4281, 'flagpole': 4282, '13': 4283, 'combat': 4284, 'odd': 4285, 'whispering': 4286, 'trapper': 4287, 'moron': 4288, 'burst': 4289, 'wich': 4290, 'eaten': 4291, 'specific': 4292, 'attic': 4293, '2014': 4294, 'belief': 4295, 'christina': 4296, 'fusion': 4297, 'pierce': 4298, 'assumed': 4299, 'thin': 4300, 'goldberg': 4301, 'presentation': 4302, 'failing': 4303, 'comprehension': 4304, 'fluorine': 4305, 'com': 4306, 'madrid': 4307, 'playoff': 4308, 'justin': 4309, 'spreading': 4310, 'ust': 4311, 'yemen': 4312, 'artery': 4313, 'charged': 4314, 'equivalent': 4315, 'ash': 4316, 'tracker': 4317, 'contacted': 4318, 'wrench': 4319, 'crack': 4320, 'hangar': 4321, 'zip': 4322, 'frisco': 4323, 'anger': 4324, 'vault': 4325, 'merry': 4326, 'reindeer': 4327, 'tobi': 4328, 'crayon': 4329, 'mickey': 4330, 'cooperation': 4331, 'exhaustive': 4332, 'thorough': 4333, 'j': 4334, 'background': 4335, 'gazelle': 4336, 'flair': 4337, 'storytelling': 4338, 'dylan': 4339, 'bouncing': 4340, 'replacement': 4341, 'shortened': 4342, 'fay': 4343, 'shotgun': 4344, 'caller': 4345, 'subway': 4346, 'flickering': 4347, 'connect': 4348, 'radiation': 4349, 'rainmaker': 4350, '32': 4351, 'prosecution': 4352, 'inability': 4353, 'navy': 4354, 'youbut': 4355, 'fully': 4356, 'azerbaijan': 4357, 'admire': 4358, 'missile': 4359, 'shoulda': 4360, 'particular': 4361, 'fanatic': 4362, 'disk': 4363, 'nazi': 4364, 'napoleon': 4365, 'handsome': 4366, 'betrayed': 4367, 'struggle': 4368, 'average': 4369, 'icu': 4370, 'deangelo': 4371, 'religion': 4372, 'witchcraft': 4373, '1993': 4374, 'misskelley': 4375, 'witch': 4376, 'arcade': 4377, 'ta': 4378, 'ron': 4379, 'allen': 4380, 'bayou': 4381, 'crawled': 4382, 'defendant': 4383, 'verdict': 4384, 'byers': 4385, 'lucifer': 4386, 'fogleman': 4387, 'questioned': 4388, 'occult': 4389, 'echols': 4390, 'vickis': 4391, 'washing': 4392, 'polygraph': 4393, 'synopsis': 4394, 'crowley': 4395, 'region': 4396, 'waypoint': 4397, 'mikey': 4398, 'peak': 4399, 'pride': 4400, 'elizabeth': 4401, 'obrien': 4402, 'cheryl': 4403, 'kurt': 4404, 'emotionally': 4405, 'fortydollarsally': 4406, 'harrison': 4407, 'rig': 4408, 'southern': 4409, 'tsunami': 4410, 'andreas': 4411, 'tectonic': 4412, 'nevada': 4413, '26': 4414, 'hoover': 4415, 'sophisticated': 4416, 'tallest': 4417, 'acted': 4418, 'caltech': 4419, 'safest': 4420, 'listened': 4421, 'movement': 4422, 'evacuation': 4423, 'nico': 4424, 'hover': 4425, 'survived': 4426, 'louse': 4427, 'pathology': 4428, 'ovary': 4429, 'thee': 4430, 'cock': 4431, 'draft': 4432, 'xandar': 4433, 'thanos': 4434, 'kree': 4435, 'band': 4436, 'shiny': 4437, 'scum': 4438, 'captured': 4439, 'kyln': 4440, 'liquid': 4441, 'specialty': 4442, 'craft': 4443, 'senseless': 4444, 'percentage': 4445, 'twelve': 4446, 'beside': 4447, 'sakaaran': 4448, 'properly': 4449, 'qualm': 4450, 'harlan': 4451, 'dale': 4452, 'attracted': 4453, 'loeb': 4454, 'penis': 4455, 'daily': 4456, 'nsa': 4457, 'distinguished': 4458, 'shave': 4459, 'cincinnati': 4460, 'dorchen': 4461, 'subpoena': 4462, 'sliced': 4463, 'strut': 4464, 'llama': 4465, 'raped': 4466, 'shitty': 4467, 'parenting': 4468, 'kel': 4469, 'buick': 4470, 'feeding': 4471, 'parade': 4472, 'rash': 4473, 'closing': 4474, 'billboard': 4475, 'lack': 4476, 'author': 4477, 'uterus': 4478, 'explore': 4479, 'assignment': 4480, 'stem': 4481, 'dragging': 4482, 'untrustworthy': 4483, 'damaged': 4484, 'vacation': 4485, 'intimate': 4486, 'youhes': 4487, 'orthodox': 4488, 'honorary': 4489, 'rivka': 4490, 'shemshelewitz': 4491, 'channing': 4492, 'esther': 4493, 'rachael': 4494, 'tradition': 4495, 'autopsy': 4496, 'cease': 4497, 'desist': 4498, 'su': 4499, 'guacamole': 4500, 'helen': 4501, 'analyzed': 4502, 'warmed': 4503, 'worrying': 4504, 'blackleg': 4505, 'communicate': 4506, 'protocol': 4507, 'boris': 4508, 'farm': 4509, 'artillery': 4510, 'oliver': 4511, 'forgotten': 4512, 'isabel': 4513, 'messines': 4514, 'wire': 4515, 'elsas': 4516, 'mud': 4517, 'detonator': 4518, 'cabin': 4519, 'thanksgiving': 4520, 'catheter': 4521, 'cardiac': 4522, 'cath': 4523, 'kirby': 4524, 'stanley': 4525, 'zachary': 4526, 'promotion': 4527, 'vice': 4528, 'proposed': 4529, 'patrick': 4530, 'stripper': 4531, 'tiller': 4532, 'padre': 4533, 'issue': 4534, 'neuro': 4535, 'anonymous': 4536, 'harassment': 4537, 'alyssa': 4538, 'mitral': 4539, 'coercion': 4540, 'julias': 4541, 'hobo': 4542, 'oreoh': 4543, 'salmon': 4544, 'starbucks': 4545, 'tamp': 4546, 'ohio': 4547, 'kaniel': 4548, 'outis': 4549, 'prior': 4550, 'chemical': 4551, 'trucker': 4552, 'conservo': 4553, 'solution': 4554, 'drowned': 4555, 'beyonce': 4556, 'ruiz': 4557, 'jean': 4558, 'grilled': 4559, 'uncool': 4560, 'moderate': 4561, 'intake': 4562, 'aerobics': 4563, 'overweight': 4564, 'flapping': 4565, 'manatee': 4566, 'hillary': 4567, 'clinton': 4568, 'updated': 4569, 'refreshing': 4570, 'restraint': 4571, 'physically': 4572, 'slackjawed': 4573, 'cuckoo': 4574, '1ef': 4575, 'recur': 4576, 'cured': 4577, 'sexier': 4578, 'invaluable': 4579, 'freed': 4580, 'ross': 4581, 'sinus': 4582, 'mer': 4583, 'loner': 4584, 'bp': 4585, '110': 4586, 'sexual': 4587, 'brook': 4588, 'precipice': 4589, 'pointless': 4590, 'thoughtless': 4591, 'indoors': 4592, 'unmarked': 4593, 'octavia': 4594, 'lunchtime': 4595, 'exit': 4596, 'exterior': 4597, 'tailing': 4598, 'acknowledge': 4599, 'disaster': 4600, 'crooked': 4601, 'cahill': 4602, 'idle': 4603, 'louisiana': 4604, '1979': 4605, 'profound': 4606, 'ignorance': 4607, 'decreased': 4608, 'compression': 4609, 'dryang': 4610, 'criticize': 4611, 'gag': 4612, 'heave': 4613, 'jerry': 4614, 'graft': 4615, 'frankenstein': 4616, 'analyze': 4617, 'entirely': 4618, 'wildly': 4619, 'magnetism': 4620, 'rematch': 4621, 'declined': 4622, 'benson': 4623, 'shipbuilder': 4624, '1987': 4625, 'spotlight': 4626, 'faded': 4627, 'dealership': 4628, 'itch': 4629, 'bristol': 4630, 'stomp': 4631, 'chingaling': 4632, 'joey': 4633, 'nora': 4634, 'sponge': 4635, 'sandpaper': 4636, 'unfreeze': 4637, 'thati': 4638, 'thailand': 4639, '95th': 4640, 'hbo': 4641, 'videotape': 4642, 'camel': 4643, 'infinity': 4644, 'jab': 4645, 'wilbur': 4646, 'halfassed': 4647, 'yotr': 4648, 'clip': 4649, 'champ': 4650, 'mcdonnens': 4651, 'brawl': 4652, 'emerald': 4653, 'jagoff': 4654, 'camare': 4655, 'promoter': 4656, 'conference': 4657, 'commissioner': 4658, 'promoting': 4659, '1u': 4660, 'slot': 4661, 'entertainment': 4662, 'fought': 4663, 'unfulfilled': 4664, 'slacker': 4665, 'handsewn': 4666, 'stitched': 4667, 'lycra': 4668, 'sewing': 4669, 'spay': 4670, 'scaring': 4671, 'unusually': 4672, 'practical': 4673, 'maternity': 4674, 'honouring': 4675, 'sportsmanlike': 4676, 'cnn': 4677, 'fox': 4678, 'msnbc': 4679, 'jazeera': 4680, 'nhk': 4681, 'sarah': 4682, 'snatch': 4683, 'meera': 4684, 'upcoming': 4685, 'etc': 4686, 'practice': 4687, 'lorcan': 4688, 'paradigm': 4689, 'bibo': 4690, 'peppa': 4691, 'malaika': 4692, 'contingency': 4693, 'emmy': 4694, 'tranquility': 4695, 'specifies': 4696, 'handheld': 4697, 'gonzo': 4698, 'stipulation': 4699, 'fringe': 4700, 'possibility': 4701, 'workable': 4702, 'embeds': 4703, 'aq': 4704, 'radical': 4705, 'overall': 4706, 'hoax': 4707, 'blog': 4708, 'kidnap': 4709, 'networking': 4710, 'downing': 4711, 'surrounding': 4712, 'algorithm': 4713, 'uploaded': 4714, '316': 4715, 'nationwide': 4716, 'traceback': 4717, 'uninterrupted': 4718, 'oneway': 4719, 'uploads': 4720, 'isat': 4721, 'squad': 4722, 'helmetcam': 4723, 'lydia': 4724, 'ib7': 4725, 'trimmed': 4726, 'twinkle': 4727, 'downton': 4728, 'abbey': 4729, 'scotland': 4730, 'contained': 4731, 'grim': 4732, 'poll': 4733, '86': 4734, 'voter': 4735, 'rts': 4736, 'mannequin': 4737, 'blunt': 4738, 'questionable': 4739, 'popularity': 4740, 'upload': 4741, 'insurrection': 4742, 'disgraced': 4743, 'politician': 4744, 'appears': 4745, 'bankside': 4746, 'ratified': 4747, 'offence': 4748, 'beforehand': 4749, 'hardened': 4750, '4pm': 4751, 'unprecedented': 4752, 'kidnapper': 4753, 'possessing': 4754, 'complying': 4755, 'stipulated': 4756, 'acup': 4757, 'advocate': 4758, 'ryan': 4759, 'seacrest': 4760, 'kentucky': 4761, 'urinate': 4762, 'ageless': 4763, 'unicorn': 4764, 'website': 4765, '36': 4766, 'cemetery': 4767, 'appreciation': 4768, 'evian': 4769, 'fallujah': 4770, 'transporter': 4771, 'employer': 4772, 'majestic': 4773, 'inspector': 4774, 'electrical': 4775, 'presumably': 4776, 'chateau': 4777, 'cheval': 4778, 'blanc': 4779, 'label': 4780, 'euro': 4781, 'gina': 4782, '49': 4783, 'qiao': 4784, '55': 4785, 'charmer': 4786, 'deed': 4787, 'document': 4788, 'ower': 4789, 'turgin': 4790, 'authorized': 4791, 'coerced': 4792, 'voila': 4793, 'sucker': 4794, 'punched': 4795, 'bhe': 4796, 'estonian': 4797, 'rom': 4798, 'tallinn': 4799, 'vomiting': 4800, 'convulsion': 4801, 'description': 4802, 'languedoc': 4803, 'oeccitan': 4804, 'basque': 4805, 'basoue': 4806, 'aerospace': 4807, 'industry': 4808, 'tucked': 4809, 'undressed': 4810, 'complication': 4811, 'outrun': 4812, 'trigger': 4813, 'vial': 4814, 'clinic': 4815, 'jook': 4816, 'anesthetic': 4817, 'fog': 4818, 'mack': 4819, 'itdont': 4820, 'exhaustion': 4821, 'overheated': 4822, 'infirmary': 4823, 'belligerent': 4824, 'refused': 4825, 'outofcontrol': 4826, 'downand': 4827, 'execution': 4828, 'insufficient': 4829, 'theo': 4830, 'tenderness': 4831, 'kwame': 4832, 'wallwe': 4833, 'concrete': 4834, 'rizzodoes': 4835, 'evacuating': 4836, 'bwing': 4837, 'technical': 4838, 'difficulty': 4839, 'safari': 4840, 'sledgehammer': 4841, 'tensile': 4842, 'hooke': 4843, 'elasticity': 4844, 'hornthe': 4845, 'dirt': 4846, 'firepower': 4847, 'riot': 4848, 'tap': 4849, 'juicy': 4850, 'sorted': 4851, 'referring': 4852, 'sto': 4853, 'totaled': 4854, 'letterman': 4855, 'allergic': 4856, 'dgoubt': 4857, 'stayed': 4858, 'cessna': 4859, 'titanium': 4860, 'alloy': 4861, 'bodied': 4862, 'poem': 4863, 'sweeter': 4864, 'turtleneck': 4865, 'payment': 4866, 'shelby': 4867, '9': 4868, 'horsepower': 4869, '58': 4870, 'aluminum': 4871, 'hor': 4872, 'shelbys': 4873, 'ac': 4874, '260': 4875, 'cid': 4876, 'v8': 4877, 'indy': 4878, 'theoretical': 4879, '230': 4880, 'nascar': 4881, '228': 4882, 'shepperton': 4883, 'por': 4884, 'eurospec': 4885, 'ferrari': 4886, 'koenigseg2': 4887, 'r': 4888, '270': 4889, '1ard': 4890, 'educate': 4891, 'longest': 4892, 'motown': 4893, 'grasshopper': 4894, 'eta': 4895, 'jiar': 4896, 'i94': 4897, '1027': 4898, 'fangsout': 4899, 'i04': 4900, 'adamdavidtom': 4901, '4619': 4902, 'troll': 4903, 'starcrossed': 4904, 'hauling': 4905, 'dove': 4906, 'fete': 4907, 'petes': 4908, 'ticker': 4909, 'rivalry': 4910, 'hummer': 4911, 'parole': 4912, 'ipad': 4913, 'lineup': 4914, 'goch': 4915, 'sixth': 4916, 'battling': 4917, '128': 4918, 'mclaren': 4919, 'hl': 4920, 'stall': 4921, 'ointment': 4922, 'chp': 4923, 'disregard': 4924, 'deployment': 4925, '184': 4926, '162': 4927, 'gooch': 4928, '27': 4929, 'countdown': 4930, 'bugatti': 4931, 'chen': 4932, 'mendo': 4933, 'navarro': 4934, 'collar': 4935, 'cinderella': 4936, 'slipper': 4937, '130': 4938, 'smokey': 4939, 'elemento': 4940, 'toby': 4941, 'lambo': 4942, 'crystal': 4943, 'click': 4944, 'feelgoods': 4945, 'nono': 4946, '716': 4947, 'scheduled': 4948, 'separately': 4949, 'bounced': 4950, 'router': 4951, 'squatted': 4952, 'nanosecond': 4953, 'tuxhorn': 4954, 'geek': 4955, 'commodore': 4956, 'nasa': 4957, 'firewall': 4958, 'lang': 4959, 'whawhawhats': 4960, 'crowded': 4961, 'responding': 4962, 'rebooted': 4963, 'backdoor': 4964, 'oporder': 4965, 'ramification': 4966, 'donnie': 4967, 'worn': 4968, 'senator': 4969, 'dallo': 4970, 'passport': 4971, 'sonya': 4972, 'scientist': 4973, 'windfall': 4974, 'vigilance': 4975, 'kierl': 4976, 'identified': 4977, 'kierls': 4978, 'galich': 4979, 'trumanmann': 4980, 'primarily': 4981, 'issued': 4982, 'pl': 4983, 'popped': 4984, 'lexisnexis': 4985, 'violent': 4986, 'bombarded': 4987, 'myth': 4988, 'painintheass': 4989, 'projector': 4990, 'dirtypicture': 4991, 'cliche': 4992, 'lyles': 4993, 'stabilizing': 4994, 'influence': 4995, 'charmed': 4996, 'ville': 4997, 'conrad': 4998, 'murray': 4999, 'batcave': 5000, 'labeling': 5001, 'pandora': 5002, 'figuring': 5003, 'text': 5004, 'weakness': 5005, 'ringing': 5006, 'scout': 5007, 'clint': 5008, 'eastwood': 5009, 'bjuried': 5010, 'bonnies': 5011, 'pugh': 5012, 'jetson': 5013, 'educator': 5014, 'supereasy': 5015, 'clifford': 5016, 'felon': 5017, 'clooney': 5018, 'thigh': 5019, 'stake': 5020, 'bouncer': 5021, 'performed': 5022, 'medea': 5023, 'porsche': 5024, 'howdydo': 5025, 'leone': 5026, 'advisor': 5027, 'strangely': 5028, 'boating': 5029, 'stanford': 5030, 'graduated': 5031, 'takehome': 5032, 'valentina': 5033, 'screen': 5034, 'zillion': 5035, 'ripped': 5036, 'gonez0': 5037, 'posttraumatic': 5038, 'fchers': 5039, 'float': 5040, 'hiddencamera': 5041, 'fen': 5042, 'lowe': 5043, 'secondbest': 5044, 'foremost': 5045, 'asshat': 5046, 'devilles': 5047, 'vinnie': 5048, 'fiddy': 5049, 'baking': 5050, 'vmars': 5051, 'circuit': 5052, 'chichi': 5053, 'trench': 5054, 'preschool': 5055, 'imdb': 5056, 'stuffed': 5057, 'mtv': 5058, 'assuming': 5059, '115': 5060, 'arries': 5061, '131': 5062, 'sonofacongressman': 5063, 'trunk': 5064, 'establishing': 5065, 'painfully': 5066, 'anchor': 5067, 'martina': 5068, 'vascuez': 5069, 'prohibited': 5070, 'gathered': 5071, 'flatten': 5072, 'motivated': 5073, 'gist': 5074, 'manonman': 5075, 'picturing': 5076, 'pg13': 5077, 'epic': 5078, 'bliss': 5079, 'accepting': 5080, 'fennel': 5081, 'disappointing': 5082, 'squeeb': 5083, 'boston': 5084, 'unofficial': 5085, 'executionstyle': 5086, 'citywide': 5087, 'manhunt': 5088, 'tightlipped': 5089, 'nowadays': 5090, 'spenser': 5091, 'tropicana': 5092, '05': 5093, 'stokes': 5094, 'posting': 5095, 'fireman': 5096, 'tod': 5097, 'shocker': 5098, 'highbeams': 5099, 'publicist': 5100, 'spartacus': 5101, 'limo': 5102, 'atm': 5103, 'scan': 5104, 'harold': 5105, 'drivethru': 5106, 'cookiesandcream': 5107, 'combo': 5108, 'sixpiece': 5109, 'tcch': 5110, 'thursday': 5111, 'khaki': 5112, 'cubicle': 5113, 'premise': 5114, 'imim': 5115, 'confidential': 5116, 'marti': 5117, 'register': 5118, 'beckys': 5119, 'donthmm': 5120, 'cooperate': 5121, 'evan': 5122, 'frontrow': 5123, 'wwhen': 5124, 'bheb': 5125, 'sandras': 5126, 'spanking': 5127, 'rebecca': 5128, 'halfmile': 5129, 'investigating': 5130, 'brainwashed': 5131, 'suree': 5132, 'cane': 5133, 'southwest': 5134, 'madeirg': 5135, 'cigar': 5136, 'prized': 5137, 'possession': 5138, 'housekeeper': 5139, 'fictional': 5140, 'fiction': 5141, 'flay': 5142, 'sherlocksan': 5143, 'metaphysical': 5144, 'mourn': 5145, 'mourned': 5146, 'grieving': 5147, 'diogenes': 5148, 'containing': 5149, 'piqued': 5150, 'arose': 5151, 'semblance': 5152, 'poisoned': 5153, '6reat': 5154, '102': 5155, 'subcutaneously': 5156, 'umezaki': 5157, 'umezakis': 5158, 'journey': 5159, 'soot': 5160, 'attests': 5161, 'fortsmouth': 5162, 'favourable': 5163, 'hated': 5164, 'mechanic': 5165, 'raf': 5166, 'motor': 5167, 'tn': 5168, 'glove': 5169, 'punishment': 5170, 'commonplace': 5171, 'ply': 5172, 'parlour': 5173, 'elsewhere': 5174, 'deception': 5175, 'glimpsed': 5176, 'antipathy': 5177, 'unavoidable': 5178, 'damning': 5179, 'trouser': 5180, 'stonemason': 5181, 'dire': 5182, 'necessity': 5183, 'headstone': 5184, 'tames': 5185, 'munro': 5186, 'mustnt': 5187, 'drown': 5188, 'rogers': 5189, 'desperately': 5190, 'punchy': 5191, 'va': 5192, 'bellow': 5193, 'sank': 5194, 'awoke': 5195, 'goodtime': 5196, 'rousing': 5197, 'impersonation': 5198, 'offensive': 5199, 'hamill': 5200, 'officiated': 5201, 'lawful': 5202, 'wedded': 5203, 'fencing': 5204, 'outfit': 5205, 'catalog': 5206, 'fabric': 5207, 'toob125b130k': 5208, 'vogue': 5209, 'wooden': 5210, 'base': 5211, '60000': 5212, 'mcdonough': 5213, 'hesitate': 5214, 'antique': 5215, 'unorthodox': 5216, 'yolo': 5217, 'kitsch': 5218, 'hurdle': 5219, 'pneumonia': 5220, 'increment': 5221, 'sucked': 5222, 'hymen': 5223, '225': 5224, 'bisexual': 5225, '62': 5226, 'outgoing': 5227, 'imminent': 5228, 'madagascar': 5229, 'erica': 5230, 'busting': 5231, 'dissension': 5232, 'alliance': 5233, 'heavily': 5234, 'paraphrased': 5235, 'pertains': 5236, 'structure': 5237, 'metaphor': 5238, 'justify': 5239, 'neatly': 5240, 'identical': 5241, 'homework': 5242, 'active': 5243, 'lockstep': 5244, 'leadership': 5245, 'regime': 5246, 'emailing': 5247, 'goose': 5248, 'uhoh': 5249, 'recount': 5250, 'reunion': 5251, 'wyoming': 5252, 'incarcerated': 5253, 'bouquet': 5254, 'amends': 5255, 'ido': 5256, 'northeast': 5257, 'carving': 5258, 'recruit': 5259, 'clandestine': 5260, 'warfare': 5261, 'scofieldburrows': 5262, 'transit': 5263, 'arrives': 5264, 'revive': 5265, 'wilcott': 5266, 'undefeated': 5267, 'underdog': 5268, 'thethis': 5269, 'briny': 5270, 'cucumber': 5271, 'finest': 5272, 'parrot': 5273, 'booty': 5274, 'port': 5275, 'clap': 5276, 'avast': 5277, 'plague': 5278, 'geography': 5279, 'sighted': 5280, 'piracy': 5281, 'brinesoaked': 5282, 'ninth': 5283, 'bearded': 5284, 'lavish': 5285, 'untold': 5286, 'nautical': 5287, 'shiver': 5288, 'timber': 5289, 'gull': 5290, 'navel': 5291, 'banished': 5292, 'tetanus': 5293, 'swab': 5294, 'inseparable': 5295, 'serrano': 5296, 'ferocious': 5297, 'hippo': 5298, 'quicker': 5299, 'fascinating': 5300, 'ostrich': 5301, 'endurance': 5302, 'coincidence': 5303, 'exgirlfriend': 5304, 'rielding': 5305, 'inconvenient': 5306, 'jussti': 5307, 'wahwah': 5308, 'youir': 5309, 'belonged': 5310, 'tilke': 5311, 'andover': 5312, 'penn': 5313, 'nyu': 5314, '428000': 5315, 'foxtrot': 5316, 'sharon': 5317, 'condemned': 5318, 'jelly': 5319, 'mlracc': 5320, 'ruck': 5321, 'spaniel': 5322, 'tompkins': 5323, 'kane': 5324, 'academy': 5325, 'wel': 5326, 'wisconsin': 5327, 'thrice': 5328, '90t': 5329, 'iike': 5330, 'tmeven': 5331, 'klc': 5332, 'gamer': 5333, 'felicity': 5334, 'clerkship': 5335, 'ast': 5336, 'iete': 5337, 'popper': 5338, 'lease': 5339, 'thorn': 5340, 'nemesis': 5341, 'torment': 5342, 'mno': 5343, 'humility': 5344, 'dumping': 5345, 'empathetic': 5346, 'hedgehog': 5347, 'irrevocably': 5348, 'instructor': 5349, 'printed': 5350, 'health': 5351, 'extend': 5352, 'wrapping': 5353, 'pointer': 5354, 'duster': 5355, 'hardearned': 5356, 'needy': 5357, 'whiny': 5358, 'jewelry': 5359, 'ohh': 5360, 'bumping': 5361, 'yorker': 5362, 'conjugal': 5363, 'faithful': 5364, 'contractor': 5365, 'ab': 5366, 'outgrow': 5367, 'distracting': 5368, 'unload': 5369, 'haul': 5370, 'scent': 5371, 'nonexistent': 5372, 'temperamental': 5373, 'sedan': 5374, 'beige': 5375, 'interior': 5376, 'cleaned': 5377, '700': 5378, 'ending': 5379, 'revised': 5380, 'staircase': 5381, 'ht': 5382, 'gordo': 5383, 'terrified': 5384, 'widening': 5385, 'rebuilding': 5386, 'misunderstood': 5387, 'reverse': 5388, 'haha': 5389, 'bojangles': 5390, 'sammy': 5391, 'davis': 5392, 'jr': 5393, 'simone': 5394, 'doorhalfopen': 5395, 'politely': 5396, 'alternative': 5397, 'in': 5398, 'bys': 5399, 'misjudged': 5400, 'semester': 5401, 'paranoid': 5402, 'mixing': 5403, 'faut': 5404, 'heals': 5405, 'stroller': 5406, 'si': 5407, 'factos': 5408, 'pierson': 5409, 'mosley': 5410, 'conceives': 5411, 'mischief': 5412, 'falsehood': 5413, 'treated': 5414, 'parker': 5415, 'fitch': 5416, 'fabricated': 5417, 'blocking': 5418, 'unboxing': 5419, 'kielbasa': 5420, 'sherry': 5421, 'colombian': 5422, 'sher': 5423, 'bartev': 5424, 'helpful': 5425, 'il': 5426, 'iphone': 5427, 'hundredth': 5428, 'meemaw': 5429, 'bake': 5430, 'sisize': 5431, 'opt': 5432, 'handmedowns': 5433, 'bustedup': 5434, 'flatlined': 5435, 'slab': 5436, 'undead': 5437, 'vertebra': 5438, 'kudos': 5439, 'yknow': 5440, 'surprisingly': 5441, 'whilst': 5442, 'arsed': 5443, 'bedside': 5444, '70k': 5445, 'seventy': 5446, 'lifethreatening': 5447, 'walkin': 5448, 'comin': 5449, 'avante': 5450, 'mal': 5451, '155k': 5452, 'loaned': 5453, 'doorstep': 5454, 'traveled': 5455, 'baton': 5456, 'prick': 5457, '47': 5458, 'snag': 5459, 'thoroughbred': 5460, 'stallion': 5461, 'thimble': 5462, 'startin': 5463, 'ringer': 5464, 'mma': 5465, 'bein': 5466, 'ninja': 5467, 'tellin': 5468, 'skinner': 5469, 'mistaken': 5470, 'coldblooded': 5471, 'felix': 5472, 'burger': 5473, 'ththat': 5474, 'threerun': 5475, 'leukemia': 5476, 'milly': 5477, 'busted': 5478, '250000': 5479, 'keepin': 5480, 'givin': 5481, 'watchin': 5482, 'cutty': 5483, 'devious': 5484, 'killin': 5485, 'grandpa': 5486, 'pond': 5487, 'twligive': 5488, 'youra': 5489, 'cope': 5490, 'alison': 5491, 'shona': 5492, 'robbies': 5493, 'lindsay': 5494, 'cracked': 5495, 'fractured': 5496, 'socket': 5497, 'squint': 5498, 'eet': 5499, 'goddess': 5500, 'crafted': 5501, 'mairi': 5502, 'buckie': 5503, 'ave': 5504, 'primitive': 5505, 'fag': 5506, 'aboard': 5507, 'resist': 5508, 'aerial': 5509, 'fuckino': 5510, 'spicy': 5511, 'fermentation': 5512, 'breeze': 5513, 'nutty': 5514, 'wringing': 5515, 'edinburgh': 5516, 'ranger': 5517, 'fruity': 5518, 'leather': 5519, 'associated': 5520, 'psychoballs': 5521, 'leonies': 5522, 'buke': 5523, 'pass': 5524, 'grail': 5525, 'genuine': 5526, 'awexa': 5527, 'richest': 5528, 'doin': 5529, 'newly': 5530, 'financial': 5531, 'membership': 5532, 'autograph': 5533, 'quaich': 5534, 'ado': 5535, 'rory': 5536, 'mcallister': 5537, 'angus': 5538, 'unusual': 5539, '960': 5540, '960000': 5541, '980': 5542, 'lefthand': 5543, '1120000': 5544, 'moscow': 5545, 'jim': 5546, 'swap': 5547, 'molesting': 5548, 'shocking': 5549, 'policeman': 5550, 'connolly': 5551, 'braveheart': 5552, 'pouring': 5553, 'thaddeus': 5554, 'mental': 5555, 'fuckoff': 5556, 'stirling': 5557, 'negotiator': 5558, 'tadpole': 5559, 'raining': 5560, 'stalling': 5561, 'reat': 5562, 'cust': 5563, 'coz': 5564, 'semper': 5565, 'fi': 5566, 'orleans': 5567, 'alluring': 5568, 'grandparent': 5569, 'presence': 5570, 'mot': 5571, 'stark': 5572, 'shrapnel': 5573, 'subscribe': 5574, 'fascinated': 5575, 'domestic': 5576, 'cookin': 5577, 'juice': 5578, 'pause': 5579, 'chef': 5580, 'dumont': 5581, 'intense': 5582, 'emptied': 5583, 'chore': 5584, 'ourhands': 5585, 'gardener': 5586, 'mute': 5587, 'channelis': 5588, 'changeroni': 5589, 'llike': 5590, 'glenn': 5591, 'handwriting': 5592, 'rephrase': 5593, 'reassigned': 5594, 'sabbatical': 5595, 'nno': 5596, 'thatthats': 5597, 'siebert': 5598, 'removed': 5599, 'col': 5600, 'tenure': 5601, 'discharged': 5602, 'ruling': 5603, 'uninteresting': 5604, 'pointblank': 5605, 'trashing': 5606, 'chitchat': 5607, 'banged': 5608, 'harrv': 5609, 'pine': 5610, 'pee': 5611, 'publisher': 5612, 'rubv': 5613, 'susie': 5614, 'postcard': 5615, 'tease': 5616, 'compass': 5617, 'rosenthal': 5618, 'mandi': 5619, 'grounded': 5620, 'narrative': 5621, 'peeking': 5622, 'sensual': 5623, 'olympian': 5624, 'wield': 5625, 'lightsaber': 5626, 'uhwe': 5627, 'attest': 5628, 'luckiest': 5629, 'happiest': 5630, 'wholly': 5631, 'reggie': 5632, 'tidy': 5633, 'etcetera': 5634, 'management': 5635, 'entitled': 5636, 'heartless': 5637, 'frigid': 5638, 'bernie': 5639, 'commune': 5640, 'frock': 5641, 'granny': 5642, 'tangle': 5643, 'essay': 5644, 'evelyn': 5645, 'rueberstaier': 5646, 'abi': 5647, 'degrading': 5648, 'supper': 5649, 'sincerity': 5650, 'forum': 5651, 'participant': 5652, 'unappealing': 5653, 'bly': 5654, 'jones': 5655, 'pageant': 5656, 'alphabetical': 5657, 'aptitude': 5658, 'archie': 5659, 'topic': 5660, 'niche': 5661, 'rethink': 5662, 'refocus': 5663, 'invasion': 5664, 'oppression': 5665, 'demonstrate': 5666, 'communal': 5667, 'swallowed': 5668, 'jo': 5669, 'brigade': 5670, 'scupper': 5671, 'venue': 5672, 'handholding': 5673, 'africa': 5674, 'sweden': 5675, 'christel': 5676, 'finalist': 5677, 'customary': 5678, 'hipjoint': 5679, 'assembly': 5680, 'noteworthy': 5681, 'abc': 5682, 'zoned': 5683, 'downsizing': 5684, 'dotcom': 5685, 'naughton': 5686, 'mannheim': 5687, 'liees': 5688, 'dumbledore': 5689, 'bathed': 5690, 'arctic': 5691, 'latin': 5692, 'recited': 5693, 'verse': 5694, 'iites': 5695, 'motto': 5696, 'oconnell': 5697, '100yearold': 5698, 'undergo': 5699, 'candid': 5700, 'nonvital': 5701, 'publishing': 5702, 'printable': 5703, 'costly': 5704, 'cn': 5705, 'movein': 5706, '4700': 5707, 'armstrong': 5708, 'sheba': 5709, 'cramping': 5710, 'linderman': 5711, 'europe': 5712, 'oates': 5713, 'skateboard': 5714, 'oblong': 5715, 'gradual': 5716, 'fin': 5717, 'tceland': 5718, 'volcano': 5719, '2nd': 5720, 'iceland': 5721, 'ernie': 5722, 'cherry': 5723, 'homeboy': 5724, 'rodeo': 5725, 'comparison': 5726, 'lightyear': 5727, 'shout': 5728, 'rai': 5729, 'astronaut': 5730, 'floating': 5731, 'outer': 5732, 'froot': 5733, '2311': 5734, 'roble': 5735, 'carpentry': 5736, 'yip': 5737, 'wolowiiz': 5738, 'lesser': 5739, 'mario': 5740, 'consent': 5741, 'unintentionally': 5742, 'giggle': 5743, 'marvelous': 5744, 'alike': 5745, 'appleseed': 5746, 'sperm': 5747, 'revolting': 5748, 'apologized': 5749, 'fistin': 5750, 'smuggle': 5751, 'hash': 5752, 'hal': 5753, 'authorize': 5754, 'surveillance': 5755, 'kit': 5756, 'manpower': 5757, 'testy': 5758, 'hypothetically': 5759, 'gee': 5760, 'nineyearold': 5761, 'prey': 5762, 'virtuous': 5763, 'hedging': 5764, 'motorcycle': 5765, 'dealt': 5766, '425': 5767, 'trojan': 5768, 'apprentice': 5769, 'france': 5770, 'sonofabitch': 5771, 'motherfuck': 5772, 'thirtytwo': 5773, 'turner': 5774, 'monet': 5775, 'vermeer': 5776, 'completeness': 5777, 'posse': 5778, 'singsing': 5779, 'prevent': 5780, 'toad': 5781, 'atta': 5782, 'oneeyed': 5783, 'amish': 5784, 'carriage': 5785, 'brando': 5786, 'fail': 5787, 'parallel': 5788, 'stolen': 5789, 'uhh': 5790, 'predator': 5791, 'glover': 5792, 'overpaid': 5793, 'flush': 5794, 'downstairs': 5795, 'minimum': 5796, 'scrutiny': 5797, '300000': 5798, 'mortgage': 5799, 'amsterdam': 5800, 'delivers': 5801, 'chum': 5802, 'olga': 5803, 'mona': 5804, 'sculpture': 5805, 'domenic': 5806, '1887': 5807, 'mccarthy': 5808, 'rarefied': 5809, 'william': 5810, 'shatner': 5811, 'scarlett': 5812, 'wheaton': 5813, 'disorder': 5814, 'chaos': 5815, 'locomotive': 5816, 'barrier': 5817, 'prescribed': 5818, 'timmy': 5819, 'tanya': 5820, 'rifle': 5821, 'outnumbered': 5822, 'curtis': 5823, 'namgoung': 5824, 'surname': 5825, 'minsoo': 5826, 'vocabulary': 5827, 'squatting': 5828, 'kissimmee': 5829, 'thread': 5830, 'deviate': 5831, 'climbing': 5832, 'securely': 5833, 'intention': 5834, 'vertical': 5835, 'descending': 5836, '21000': 5837, 'stabilizer': 5838, 'coma': 5839, 'deana': 5840, 'knuckle': 5841, 'ratched': 5842, 'carton': 5843, 'pint': 5844, 'tuck': 5845, 'freezer': 5846, 'veal': 5847, 'cinnamon': 5848, 'bun': 5849, 'intoxication': 5850, 'initial': 5851, 'sheared': 5852, 'microscope': 5853, 'liquor': 5854, 'georgia': 5855, 'lenny': 5856, 'format': 5857, 'vicky': 5858, 'whitaker': 5859, 'guiding': 5860, 'fateful': 5861, 'seventeen': 5862, 'exwife': 5863, 'wheelchair': 5864, 'harling': 5865, 'gram': 5866, 'inverted': 5867, 'audio': 5868, 'compelling': 5869, 'cockpit': 5870, 'investigative': 5871, 'summary': 5872, '934': 5873, '942': 5874, 'pitched': 5875, 'manually': 5876, 'phoenix': 5877, 'montana': 5878, 'countryside': 5879, 'eovs': 5880, 'task': 5881, 'maintain': 5882, 'fireplace': 5883, 'craftsman': 5884, 'timid': 5885, '2ood': 5886, 'meek': 5887, 'mild': 5888, 'greta': 5889, 'behaved': 5890, 'limbo': 5891, 'eighth': 5892, 'outi': 5893, 'worldfamous': 5894, 'pity': 5895, 'thus': 5896, 'coral': 5897, 'lipstick': 5898, 'nag': 5899, 'backis': 5900, 'swore': 5901, 'smashed': 5902, 'interfere': 5903, 'sensible': 5904, '1t': 5905, 'sweeping': 5906, 'weekly': 5907, 'electric': 5908, 'williamsburg': 5909, 'booth': 5910, '350': 5911, 'poland': 5912, 'satisfied': 5913, 'yanni': 5914, 'gollum': 5915, 'l1': 5916, 'koothrappali': 5917, 'roof': 5918, 'detecting': 5919, 'friction': 5920, 'flooded': 5921, 'tina': 5922, 'cluei': 5923, 'isa': 5924, 'sefu': 5925, 'repairing': 5926, 'b52': 5927, 'dolphin': 5928, 'rickshaw': 5929, 'emperor': 5930, 'impenetrable': 5931, 'easter': 5932, 'viper': 5933, 'pan': 5934, 'lotus': 5935, 'goicha': 5936, 'wisdom': 5937, 'oogways': 5938, 'ch': 5939, 'rediscover': 5940, 'warming': 5941, 'scroll': 5942, 'thorax': 5943, 'croc': 5944, 'strongly': 5945, 'ut': 5946, 'mantis': 5947, 'noon': 5948, '2o': 5949, 'kung': 5950, 'fu': 5951, 'widow': 5952, 'freakishly': 5953, 'sizewise': 5954, '99th': 5955, 'herocon': 5956, 'mac': 5957, 'counter': 5958, 'trusty': 5959, 'steed': 5960, 'section': 5961, '22b': 5962, 'canyon': 5963, 'donna': 5964, 'duncan': 5965, 'stepson': 5966, 'digby': 5967, 'nonverbal': 5968, 'communication': 5969, 'feast': 5970, 'norph': 5971, 'ogre': 5972, 'joel': 5973, 'sphere': 5974, 'tweezer': 5975, 'nussbaum': 5976, 'institute': 5977, 'merger': 5978, 'zippin': 5979, 'season': 5980, 'norphs': 5981, 'behave': 5982, 'warlike': 5983, 'thistlewit': 5984, 'aurora': 5985, 'nightfall': 5986, 'lief': 5987, 'crushing': 5988, 'branch': 5989, 'majesty': 5990, 'dignity': 5991, 'maleficent': 5992, 'pierced': 5993, 'flesh': 5994, 'depth': 5995, 'lash': 5996, 'conall': 5997, 'extinct': 5998, 'peasant': 5999, 'conflict': 6000, 'borra': 6001, 'shield': 6002, 'underground': 6003, 'snowboard': 6004, 'emo': 6005, 'fad': 6006, 'compete': 6007, '830': 6008, 'slack': 6009, 'wachusetts': 6010, 'quash': 6011, 'rifkin': 6012, 'twisted': 6013, 'shat': 6014, 'shannon': 6015, 'zuckerberg': 6016, 'electronic': 6017, 'computerrelated': 6018, 'penelope': 6019, 'hottest': 6020, 'dj': 6021, 'remixes': 6022, 'locally': 6023, 'renowned': 6024, 'socal': 6025, 'skate': 6026, 'nextlevel': 6027, 'oversee': 6028, 'council': 6029, '6000000': 6030, 'becoming': 6031, 'announce': 6032, 'chamber': 6033, 'protein': 6034, 'starsky': 6035, 'storeski': 6036, 'selfrespect': 6037, 'pritchett': 6038, 'mombomb': 6039, 'cozy': 6040, 'jello': 6041, 'pic': 6042, 'cage': 6043, 'anticipation': 6044, 'mediated': 6045, 'olive': 6046, 'reporter': 6047, 'hubert': 6048, 'editing': 6049, 'backwoods': 6050, 'behavior': 6051, 'reflect': 6052, 'highest': 6053, 'raj': 6054, 'bitchy': 6055, 'challenging': 6056, 'climate': 6057, 'scandinavia': 6058, 'latterday': 6059, 'idris': 6060, 'elba': 6061, 'congratulating': 6062, 'poachersthey': 6063, 'tijuana': 6064, 'poaching': 6065, 'hmmwhats': 6066, 'bookish': 6067, 'syndication': 6068, 'royalty': 6069, 'scientology': 6070, 'fluff': 6071, 'awhat': 6072, 'bleached': 6073, 'groundbreaking': 6074, 'starring': 6075, 'boner': 6076, 'worldand': 6077, 'tryingtobeacop': 6078, 'copand': 6079, 'sometimesyou': 6080, 'harassing': 6081, 'daysyoure': 6082, 'extreme': 6083, 'prejudice': 6084, 'sorryit': 6085, 'menace': 6086, 'nmurders': 6087, 'bumblypants': 6088, 'alligator': 6089, 'servant': 6090, 'principal': 6091, 'cast': 6092, 'jenny': 6093, 'expuppet': 6094, 'malethree': 6095, 'fleeing': 6096, '1643': 6097, 'tasteful': 6098, 'carousel': 6099, 'arousing': 6100, 'rabbit': 6101, 'carrotis': 6102, 'trevor': 6103, 'fleshy': 6104, 'itits': 6105, 'unethical': 6106, 'inthrew': 6107, 'ezra': 6108, 'carathe': 6109, 'whatare': 6110, 'whatre': 6111, 'scratching': 6112, 'clawing': 6113, 'meand': 6114, 'carits': 6115, 'fuckingyou': 6116, 'onepartner': 6117, 'gangeven': 6118, 'fuzzy': 6119, 'iti': 6120, 'anybodys': 6121, 'rightim': 6122, 'awayim': 6123, 'jeezthis': 6124, 'slowslow': 6125, 'booked': 6126, 'bubblesyoure': 6127, 'peach': 6128, 'itlets': 6129, 'sirthis': 6130, 'terminal': 6131, 'phildont': 6132, 'piecejust': 6133, 'fleshywhy': 6134, 'wellil': 6135, 'heyhows': 6136, 'yescall': 6137, 'oki': 6138, 'wasuhthe': 6139, 'woohoolook': 6140, 'surprisedbut': 6141, 'yeahexcept': 6142, 'awaymax': 6143, 'uhmy': 6144, 'rightill': 6145, 'heyim': 6146, 'nahive': 6147, 'daymane': 6148, 'vou': 6149, 'noit': 6150, 'wellhow': 6151, 'wham': 6152, 'quy': 6153, 'ohman': 6154, 'moneyman': 6155, 'noright': 6156, 'cet': 6157, 'cooperating': 6158, 'knowyou': 6159, 'soheres': 6160, 'wh': 6161, 'cache': 6162, 'beforetrust': 6163, 'ohyes': 6164, 'manhe': 6165, 'maxi': 6166, 'donaldnew': 6167, 'now': 6168, 'imitation': 6169, 'phenomenal': 6170, 'elementary': 6171, 'opera': 6172, '29th': 6173, '1961': 6174, 'casual': 6175, 'poetic': 6176, 'positive': 6177, 'sang': 6178, 'unnatural': 6179, 'molecule': 6180, 'vibrate': 6181, 'dreamed': 6182, 'embraced': 6183, 'tibor': 6184, 'branching': 6185, 'geared': 6186, 'appeal': 6187, 'aria': 6188, 'repertoire': 6189, 'rehearsed': 6190, 'suggested': 6191, 'divide': 6192, 'saddest': 6193, 'determination': 6194, 'overstate': 6195, 'tidal': 6196, 'classical': 6197, 'disgusting': 6198, 'unthinkable': 6199, 'devote': 6200, 'italy': 6201, 'seclusion': 6202, 'itin': 6203, 'forpavarotti': 6204, 'nowfalling': 6205, 'hecaughtit': 6206, 'topheavy': 6207, 'shellys': 6208, 'eyesight': 6209, 'blinking': 6210, 'backordered': 6211, 'rely': 6212, 'puppy': 6213, 'moo': 6214, 'shu': 6215, 'duodenum': 6216, 'koothrappalis': 6217, 'synchronize': 6218, 'triumph': 6219, 'syringe': 6220, 'syrinx': 6221, '60cc': 6222, 'pinpoint': 6223, '1045': 6224, 'threaten': 6225, 'asi': 6226, 'drawing': 6227, 'artsy': 6228, 'arrange': 6229, 'popcorn': 6230, 'umbilical': 6231, 'standby': 6232, 'laurie': 6233, 'civil': 6234, 'rational': 6235, 'suited': 6236, 'bovie': 6237, 'retraction': 6238, 'transplant': 6239, 'resection': 6240, 'withstand': 6241, 'salary': 6242, 'roar': 6243, 'mentored': 6244, 'epidural': 6245, 'pinned': 6246, 'pager': 6247, 'dopamine': 6248, 'bottoming': 6249, 'pelvis': 6250, 'quadrant': 6251, 'bile': 6252, 'pancreatic': 6253, 'secretion': 6254, 'altman': 6255, 'whwhat': 6256, 'pry': 6257, 'fda': 6258, 'islet': 6259, 'aa': 6260, 'miscommunication': 6261, 'bump': 6262, 'deer': 6263, 'venison': 6264, 'freshenup': 6265, 'scott': 6266, 'branding': 6267, 'advertising': 6268, 'empowerment': 6269, '1905': 6270, 'poisonous': 6271, 'wooded': 6272, 'preserve': 6273, 'cassidy': 6274, 'gunned': 6275, 'randall': 6276, 'vine': 6277, 'creaking': 6278, 'keeper': 6279, 'discreetly': 6280, 'bankruptcy': 6281, 'twig': 6282, 'wilson': 6283, 'lamb': 6284, 'tail': 6285, 'vitals': 6286, 'survey': 6287, 'revealed': 6288, 'briskly': 6289, 'scalp': 6290, 'fellowship': 6291, 'compliment': 6292, 'umwilson': 6293, 'intestine': 6294, 'hon': 6295, 'nagamaki': 6296, 'reek': 6297, 'puke': 6298, 'miscalculated': 6299, 'alphonso': 6300, 'gallego': 6301, 'suburban': 6302, 'plead': 6303, 'alarmsand': 6304, 'scream': 6305, 'tulane': 6306, 'snaking': 6307, 'mojo': 6308, 'suture': 6309, 'franklin': 6310, 'olivia': 6311, 'examination': 6312, 'ophthalmologist': 6313, 'acuity': 6314, 'georgie': 6315, 'function': 6316, 'surgical': 6317, 'attend': 6318, 'ovarian': 6319, 'sew': 6320, 'perforation': 6321, 'knox': 6322, 'urine': 6323, 'feces': 6324, 'maybemaybe': 6325, 'ditko': 6326, 'marvel': 6327, 'richer': 6328, 'transformer': 6329, 'lasagna': 6330, 'cure': 6331, 'poisoning': 6332, 'pankauskas': 6333, 'scraped': 6334, 'goodrich': 6335, 'visible': 6336, 'equates': 6337, 'skipped': 6338, 'inept': 6339, 'phony': 6340, 'compactor': 6341, 'iv': 6342, 'talkin': 6343, 'nurturing': 6344, 'inner': 6345, 'cookbook': 6346, 'woo': 6347, 'sweep': 6348, 'ohyou': 6349, 'stressful': 6350, 'korea': 6351, 'porer': 6352, 'spied': 6353, 'folic': 6354, 'acid': 6355, 'counselor': 6356, 'sergeant': 6357, 'tackled': 6358, 'forestry': 6359, 'nagging': 6360, 'gruff': 6361, 'baggage': 6362, 'offering': 6363, 'livid': 6364, 'hacking': 6365, 'stump': 6366, 'boosting': 6367, 'oan': 6368, 'terrific': 6369, 'rhetorical': 6370, 'spermwhite': 6371, 'toyota': 6372, 'tercel': 6373, 'hex': 6374, 'towed': 6375, 'wicker': 6376, 'cosplay': 6377, 'nay': 6378, 'eric': 6379, 'animation': 6380, 'tow': 6381, 'jobreyth': 6382, 'firework': 6383, 'guinevere': 6384, 'perfection': 6385, 'underestimate': 6386, 'endowment': 6387, 'dp': 6388, 'palpable': 6389, 'furry': 6390, 'fetish': 6391, 'groundthy': 6392, 'bound': 6393, 'regeneration': 6394, 'lest': 6395, 'bolt': 6396, 'scourge': 6397, 'paintball': 6398, 'crashed': 6399, 'denizen': 6400, 'elvish': 6401, 'robe': 6402, 'pointy': 6403, 'freaky': 6404, 'larpers': 6405, 'marching': 6406, 'goh': 6407, 'nether': 6408, 'refer': 6409, 'gazed': 6410, 'visage': 6411, 'moustache': 6412, 'cruel': 6413, 'backside': 6414, 'gunther': 6415, 'avenge': 6416, 'handwritten': 6417, 'mystic': 6418, 'admitting': 6419, 'kwok': 6420, 'sealed': 6421, 'manor': 6422, 'cary': 6423, 'unleash': 6424, 'iforiune': 6425, 'covet': 6426, 'reap': 6427, 'conquest': 6428, 'matching': 6429, 'ronnys': 6430, 'await': 6431, 'rvan': 6432, 'gosling': 6433, 'distinct': 6434, 'mongolian': 6435, 'kale': 6436, 'pillar': 6437, 'ideal': 6438, 'craigslist': 6439, 'defect': 6440, 'butthole': 6441, 'hightech': 6442, 'supercomputer': 6443, 'fart': 6444, 'jh': 6445, 'furiously': 6446, 'biking': 6447, 'archimedes': 6448, 'exclamation': 6449, 'eureka': 6450, 'beaten': 6451, 'nicest': 6452, 'nip': 6453, 'playwright': 6454, 'parody': 6455, 'papi': 6456, 'quirk': 6457, 'farther': 6458, 'brochure': 6459, 'carb': 6460, 'tackle': 6461, 'supplement': 6462, 'curtain': 6463, 'realestate': 6464, 'segment': 6465, 'artistdaughter': 6466, 'midcentury': 6467, 'restroom': 6468, 'coldair': 6469, 'sweater': 6470, 'tends': 6471, 'chilly': 6472, 'blank': 6473, 'mozart': 6474, 'fugue': 6475, 'dwights': 6476, 'skydiving': 6477, 'automatically': 6478, 'buti': 6479, 'martha': 6480, 'stewart': 6481, 'wwwe': 6482, 'handled': 6483, 'snore': 6484, 'cookie': 6485, 'msg': 6486, 'chinatown': 6487, 'bursting': 6488, 'seam': 6489, 'squat': 6490, 'slave': 6491, 'tien': 6492, 'chau': 6493, 'immovable': 6494, 'sham': 6495, 'ricky': 6496, 'faul': 6497, 'venezuelan': 6498, 'trawler': 6499, 'mahjong': 6500, 'chung': 6501, 'ying': 6502, 'elli': 6503, 'irish': 6504, 'fuckedup': 6505, 'teresa': 6506, 'contrast': 6507, 'heirloom': 6508, 'highprofile': 6509, 'vanishes': 6510, 'implying': 6511, 'pr': 6512, 'bruise': 6513, 'smother': 6514, 'nondenominational': 6515, 'ton': 6516, 'maryanne': 6517, 'chelkowsky': 6518, 'squaw': 6519, '50th': 6520, 'alumnus': 6521, 'ongoing': 6522, 'snuck': 6523, 'handy': 6524, 'silent': 6525, 'seal': 6526, 'display': 6527, 'overdrive': 6528, 'acoustic': 6529, 'harness': 6530, 'safely': 6531, 'shaggy': 6532, 'sarcasm': 6533, 'collie': 6534, 'lawn': 6535, 'mower': 6536, 'roxys': 6537, 'limited': 6538, 'mashed': 6539, 'ashvaashe': 6540, 'wok': 6541, 'ashysasha': 6542, 'catering': 6543, 'shameless': 6544, 'granite': 6545, 'itthose': 6546, 'muchim': 6547, 'ohthats': 6548, 'questionsand': 6549, 'uhi': 6550, 'goin': 6551, 'slowtoo': 6552, 'ohi': 6553, 'classyby': 6554, 'hound': 6555, 'blindits': 6556, 'wellur': 6557, 'fo': 6558, 'gabybecause': 6559, 'mmno': 6560, 'wellve': 6561, 'mehes': 6562, 'wellthats': 6563, 'ohsomething': 6564, 'yesof': 6565, 'ohsweetiei': 6566, '1959': 6567, 'immigration': 6568, 'sincere': 6569, 'taky': 6570, 'kimura': 6571, '1968': 6572, '1351b': 6573, 'wrestler': 6574, 'reid': 6575, 'teen': 6576, 'neighbourhood': 6577, 'wayne': 6578, 'himits': 6579, 'seasoned': 6580, 'holistic': 6581, 'literate': 6582, 'selfknowledge': 6583, 'notation': 6584, 'fencer': 6585, 'efficiently': 6586, 'standardised': 6587, 'jkd': 6588, '1970': 6589, 'differ': 6590, 'debate': 6591, 'thers': 6592, 'correlation': 6593, 'choking': 6594, 'lebell': 6595, 'grappling': 6596, 'crescent': 6597, 'choke': 6598, 'directed': 6599, 'ingredient': 6600, 'longstreet': 6601, 'creep': 6602, 'workingclass': 6603, 'ballet': 6604, 'swinging': 6605, 'miami': 6606, 'nunchakus': 6607, 'whipping': 6608, 'outlawed': 6609, 'swung': 6610, 'rubber': 6611, 'adamant': 6612, 'counsel': 6613, 'reel': 6614, 'dipping': 6615, 'dubbing': 6616, 'oedema': 6617, 'wong': 6618, 'reassuring': 6619, 'collapse': 6620, 'frequent': 6621, 'june': 6622, 'dilemma': 6623, 'verge': 6624, 'stardom': 6625, 'raymond': 6626, 'chow': 6627, 'shredded': 6628, 'manifest': 6629, 'appliance': 6630, 'apparel': 6631, 'bowl': 6632, 'osha': 6633, 'graveyard': 6634, 'trex': 6635, 'wendy': 6636, 'yuck': 6637, 'glow': 6638, 'vartanns': 6639, 'goo': 6640, 'mangled': 6641, 'suggests': 6642, 'scope': 6643, 'portion': 6644, 'cranial': 6645, 'frag': 6646, 'ballistics': 6647, 'monthly': 6648, 'reduced': 6649, 'correctly': 6650, 'wesley': 6651, 'mailroom': 6652, 'string': 6653, 'forcefed': 6654, 'repossessed': 6655, 'bullpen': 6656, 'purchase': 6657, 'sketchbook': 6658, 'previous': 6659, 'encapsulation': 6660, 'mechanism': 6661, 'chia': 6662, 'doe': 6663, 'alley': 6664, 'glock': 6665, 'shooter': 6666, 'catherine': 6667, 'larrys': 6668, 'pennyante': 6669, 'dmv': 6670, 'burglary': 6671, 'currency': 6672, 'allknowing': 6673, 'executive': 6674, 'withdrawing': 6675, 'accessed': 6676, 'getaway': 6677, 'idpreserve': 6678, '1ll': 6679, '1111': 6680, 'approve': 6681, 'bosom': 6682, 'dodo': 6683, 'elegant': 6684, 'defy': 6685, 'pushup': 6686, 'experimental': 6687, '2148': 6688, 'highpower': 6689, 'laser': 6690, 'contradiction': 6691, 'installment': 6692, 'higgs': 6693, 'macaroni': 6694, 'knicks': 6695, 'narrowed': 6696, 'swiss': 6697, 'satin': 6698, 'wwhy': 6699, 'paint': 6700, 'frog': 6701, 'ttheyre': 6702, 'charting': 6703, 'meltdown': 6704, 'haircut': 6705, 'sniff': 6706, 'felony': 6707, 'rollsroyce': 6708, 'burt': 6709, 'reynolds': 6710, 'mannys': 6711, 'depressing': 6712, 'capandgown': 6713, 'quarterback': 6714, 'allyson': 6715, 'coolest': 6716, 'prettiest': 6717, 'accustomed': 6718, 'petition': 6719, 'ginny': 6720, 'canvas': 6721, 'voicemail': 6722, 'hindu': 6723, 'manu': 6724, 'rais': 6725, 'arguably': 6726, 'stimulate': 6727, 'analogous': 6728, 'cord': 6729, 'cutim': 6730, 'responded': 6731, 'influencemr': 6732, 'unionpop': 6733, 'bin': 6734, 'ninetynine': 6735, 'changedmr': 6736, 'grezda': 6737, 'agoi': 6738, 'livingthe': 6739, 'grinder': 6740, 'butcher': 6741, 'applebees': 6742, 'adapt': 6743, 'whoawhoawhoa': 6744, 'heyhey': 6745, 'onnow': 6746, 'christmastime': 6747, 'himall': 6748, 'albanian': 6749, 'businessdanny': 6750, 'problemdanny': 6751, 'isall': 6752, 'businessa': 6753, 'proposal': 6754, 'waseverybody': 6755, 'oint': 6756, 'enlisted': 6757, 'knowwhat': 6758, 'maureen': 6759, 'galvin': 6760, 'bamshe': 6761, 'smacked': 6762, 'thingknocked': 6763, 'detention': 6764, 'greeting': 6765, 'academician': 6766, 'kneel': 6767, 'rokas': 6768, 'danielle': 6769, 'mortes': 6770, 'milles': 6771, 'sunrise': 6772, 'risen': 6773, 'eclipse': 6774, 'halfsister': 6775, 'greed': 6776, 'entitlement': 6777, 'hollow': 6778, 'underworld': 6779, 'exhausting': 6780, 'deluded': 6781, 'kaye': 6782, 'acquaintance': 6783, 'cornerstone': 6784, 'civilized': 6785, 'society': 6786, 'slacking': 6787, 'halt': 6788, 'cornwall': 6789, 'burial': 6790, 'astrological': 6791, 'stonehenge': 6792, 'hub': 6793, 'roman': 6794, 'permitted': 6795, 'linked': 6796, 'paleolithic': 6797, 'conveyance': 6798, 'bodmin': 6799, 'duplication': 6800, 'cumbersome': 6801, 'hasten': 6802, 'wit': 6803, 'resolute': 6804, 'refrained': 6805, 'wanton': 6806, 'persevered': 6807, 'tintagel': 6808, 'guiet': 6809, 'battalion': 6810, 'expedition': 6811, 'rainforest': 6812, 'survival': 6813, 'janeiro': 6814, '1f': 6815, 'endangered': 6816, 'ecosystem': 6817, 'farming': 6818, 'snake': 6819, 'bia': 6820, 'fpick': 6821, 'wildflower': 6822, 'droppings': 6823, 'supermegadope': 6824, 'cheap': 6825, 'fave': 6826, 'untamed': 6827, 'preview': 6828, 'chopchop': 6829, 'capoeira': 6830, 'karaoke': 6831, 'crumble': 6832, 'plucking': 6833, 'gabi': 6834, 'petite': 6835, 'destruction': 6836, 'gathering': 6837, 'sunset': 6838, 'tulios': 6839, 'grove': 6840, 'flavor': 6841, 'essential': 6842, 'glorious': 6843, 'brazil': 6844, 'misunderstanding': 6845, 'goal': 6846, 'backfired': 6847, 'eduardo': 6848, 'psychoonwheels': 6849, 'medically': 6850, 'verified': 6851, 'rufus': 6852, 'wayi': 6853, 'assault': 6854, 'excitement': 6855, 'xerox': 6856, 'invading': 6857, 'invader': 6858, 'specialise': 6859, 'critical': 6860, 'inclined': 6861, 'disapproval': 6862, 'grotesque': 6863, 'receives': 6864, 'spectre': 6865, 'avenging': 6866, 'presume': 6867, 'define': 6868, 'sunny': 6869, 'contrary': 6870, 'retired': 6871, 'opposition': 6872, 'concede': 6873, 'currently': 6874, 'manly': 6875, 'illustrator': 6876, 'deduction': 6877, 'visited': 6878, 'derail': 6879, 'hudson': 6880, 'wallpaper': 6881, 'noticeable': 6882, 'shorter': 6883, 'abominable': 6884, 'lodged': 6885, 'runninq': 6886, 'immersed': 6887, 'believing': 6888, 'waistcoat': 6889, 'trance': 6890, 'user': 6891, 'alleviate': 6892, 'boredom': 6893, 'controlled': 6894, 'usage': 6895, 'fatal': 6896, 'unsolved': 6897, 'yapping': 6898, 'bravo': 6899, 'sibling': 6900, 'remained': 6901, 'substitute': 6902, 'martyr': 6903, 'invisible': 6904, 'nonetheless': 6905, 'consumption': 6906, 'abandoned': 6907, 'penniless': 6908, 'hooper': 6909, 'buried': 6910, 'substituted': 6911, 'socalled': 6912, 'conspirator': 6913, 'moriartys': 6914, 'reallife': 6915, 'ridin': 6916, 'uke': 6917, 'threetime': 6918, 'sidelined': 6919, 'thang': 6920, 'belt': 6921, 'marcia': 6922, 'failure': 6923, 'contemporary': 6924, 'matisse': 6925, 'picasso': 6926, 'clinging': 6927, 'ilulke': 6928, 'smelly': 6929, 'creating': 6930, 'anyones': 6931, 'brunch': 6932, 'astronomer': 6933, '92': 6934, '264': 6935, 'clearcut': 6936, 'miri': 6937, 'lightheaded': 6938, 'dizzy': 6939, 'nausea': 6940, '9iven': 6941, 'rethinking': 6942, 'internship': 6943, 'celebrating': 6944, 'ruthie': 6945, 'andrea': 6946, 'damiel': 6947, 'physic': 6948, 'obituary': 6949, 'sander': 6950, 'danko': 6951, 'championship': 6952, 'numberone': 6953, 'contender': 6954, 'numberoneranked': 6955, 'mounting': 6956, 'comeback': 6957, 'juke': 6958, 'pbp': 6959, 'vhoa': 6960, 'slay': 6961, 'goliath': 6962, 'rango': 6963, 'artwork': 6964, 'sourced': 6965, 'warhol': 6966, 'pat': 6967, 'passlof': 6968, 'willem': 6969, 'xooning': 6970, 'incredibly': 6971, 'diverse': 6972, 'levinsons': 6973, 'tras': 6974, 'beloved': 6975, 'immeasurable': 6976, 'celebrated': 6977, 'composed': 6978, 'production': 6979, 'shipped': 6980, 'destroying': 6981, 'fastmoving': 6982, 'supervisor': 6983, 'kissed': 6984, 'clearing': 6985, 'ee': 6986, 'eliminated': 6987, 'breach': 6988, 'fprogressive': 6989, 'momg': 6990, 'elbrot': 6991, 'echo': 6992, 'breached': 6993, 'zup': 6994, 'casualty': 6995, 'neutralize': 6996, 'wisemandesignate': 6997, 'confrontation': 6998, 'landlady': 6999, 'helo': 7000, 'handcuff': 7001, 'weirdest': 7002, 'm1': 7003, 'xia': 7004, 'hurtful': 7005, 'conspiracy': 7006, 'wildfire': 7007, 'outerspace': 7008, 'cdc': 7009, 'breakout': 7010, 'outbreak': 7011, 'escaping': 7012, 'scoot': 7013, 'quinzin': 7014, 'league': 7015, 'riofloxin': 7016, 'sleepy': 7017, 'labrat': 7018, 'cum': 7019, 'twell': 7020, 'ook': 7021, 'hola': 7022, 'airspace': 7023, 'activating': 7024, 'spearheaded': 7025, 'unidentified': 7026, 'bashed': 7027, 'antibiotic': 7028, 'rotated': 7029, 'layered': 7030, 'exhusband': 7031, 'coax': 7032, 'intact': 7033, '745': 7034, 'visiting': 7035, 'ufb': 7036, '630': 7037, 'commuter': 7038, 'boarded': 7039, '144': 7040, 'rising': 7041, 'britain': 7042, 'terrorist': 7043, 'equality': 7044, 'overpopulation': 7045, 'continuing': 7046, 'federal': 7047, 'attributed': 7048, 'carl': 7049, 'remains': 7050, '715': 7051, 'complacency': 7052, 'governor': 7053, 'reversal': 7054, 'elevated': 7055, 'doug': 7056, 'travis': 7057, 'implanted': 7058, 'douglas': 7059, 'loyal': 7060, 'ruthless': 7061, 'rulefollowing': 7062, 'gail': 7063, 'yol': 7064, 'hardhat': 7065, 'melt': 7066, 'xoulll': 7067, 'eold': 7068, 'mixup': 7069, 'weir': 7070, 'bricksburg': 7071, 'hired': 7072, 'capturing': 7073, 'whatnot': 7074, 'infinite': 7075, 'abyss': 7076, 'nothingness': 7077, 'scon': 7078, 'bangbangbangbang': 7079, 'introducing': 7080, 'doubledecker': 7081, 'dumbest': 7082, 'prof': 7083, 'urpstairs': 7084, 'supergross': 7085, 'talon': 7086, 'squid': 7087, 'fleeting': 7088, 'glimpse': 7089, 'zeppelin': 7090, 'mechanical': 7091, 'wondrous': 7092, 'poverty': 7093, 'leech': 7094, 'illiteracy': 7095, 'subwoofer': 7096, 'curckxooland': 7097, 'useless': 7098, 'forsaken': 7099, 'blilder': 7100, 'builder': 7101, 'generally': 7102, 'unskilled': 7103, 'cowardly': 7104, 'divided': 7105, 'abralam': 7106, 'iincoln': 7107, 'dingdong': 7108, 'ruhroh': 7109, 'shacuille': 7110, 'oneal': 7111, 'gigantic': 7112, 'bedoubled': 7113, 'overlook': 7114, 'marshmallow': 7115, 'skyscraper': 7116, 'fiece': 7117, 'duct': 7118, 'batspaceship': 7119, 'rainbowsparkle': 7120, 'perturbed': 7121, 'punctual': 7122, 'droids': 7123, 'checker': 7124, 'driveon': 7125, 'zour': 7126, 'dutt': 7127, 'plunder': 7128, 'relic': 7129, 'disguise': 7130, 'triggered': 7131, 'sector': 7132, 'reunite': 7133, 'accidentally': 7134, 'wandered': 7135, 'crowd': 7136, 'ordinary': 7137, 'generic': 7138, 'cluttering': 7139, 'memento': 7140, 'snooping': 7141, 'folded': 7142, 'vicks': 7143, 'gnawing': 7144, 'rabies': 7145, 'bandaid': 7146, 'spencer': 7147, 'thick': 7148, 'adulthood': 7149, 'companionship': 7150, 'ivory': 7151, 'entrepreneur': 7152, 'stare': 7153, 'luka': 7154, 'butterfly': 7155, 'spleen': 7156, 'barbara': 7157, 'parka': 7158, 'kessler': 7159, 'nonmotorcycle': 7160, 'mitten': 7161, 'restrictive': 7162, 'hospitality': 7163, 'ovum': 7164, 'regional': 7165, 'stimpy': 7166, 'proving': 7167, 'scoundrel': 7168, 'pivot': 7169, 'filled': 7170, 'unpack': 7171, 'dreaming': 7172, 'resisting': 7173, 'onesided': 7174, 'numbness': 7175, 'cactus': 7176, 'touching': 7177, 'wilkersons': 7178, 'confess': 7179, 'carlton': 7180, 'diabolical': 7181, 'lucid': 7182, 'hersch': 7183, 'herschel': 7184, 'criticism': 7185, 'skilled': 7186, 'definition': 7187, 'insanity': 7188, 'leash': 7189, 'muff': 7190, 'helpless': 7191, 'tend': 7192, 'salvage': 7193, 'bom': 7194, 'bur': 7195, 'smaug': 7196, 'wealth': 7197, 'pursued': 7198, 'bolg': 7199, 'spawn': 7200, 'azog': 7201, 'defiler': 7202, 'tauriel': 7203, 'legolas': 7204, 'hunted': 7205, 'sauron': 7206, 'dominion': 7207, 'middleearth': 7208, 'ganda': 7209, 'hardship': 7210, 'rejoice': 7211, 'gratitude': 7212, 'misplaced': 7213, 'starlight': 7214, 'lasgalen': 7215, 'hail': 7216, 'thrain': 7217, 'robber': 7218, 'robbed': 7219, 'seek': 7220, 'rebuild': 7221, 'barter': 7222, 'birthright': 7223, 'mortal': 7224, 'thunder': 7225, 'orcs': 7226, 'archer': 7227, 'bowman': 7228, 'ransom': 7229, '14th': 7230, 'obstinate': 7231, 'faithless': 7232, 'woodland': 7233, 'choosesto': 7234, 'smirking': 7235, 'hammering': 7236, 'sire': 7237, 'lowly': 7238, 'sickness': 7239, 'neednt': 7240, 'baggins': 7241, 'dining': 7242, 'turnover': 7243, 'halfmast': 7244, 'congressman': 7245, 'morley': 7246, 'netflix': 7247, 'shattering': 7248, 'depiction': 7249, 'remembering': 7250, 'haunt': 7251, 'icy': 7252, 'mist': 7253, 'headlight': 7254, 'be': 7255, 'dc': 7256, 'crumb': 7257, 'backstage': 7258, 'audience': 7259, 'focusing': 7260, 'acapulco': 7261, '2000': 7262, 'rubbermaid': 7263, 'tinas': 7264, 'assessment': 7265, 'improvement': 7266, 'shown': 7267, 'ledge': 7268, 'hhow': 7269, 'wasit': 7270, 'intangible': 7271, 'subjective': 7272, 'nnina': 7273, 'iawsuit': 7274, 'soap': 7275, 'wei': 7276, 'irma': 7277, 'innocencia': 7278, 'prudent': 7279, 'silvama': 7280, 'popular': 7281, 'jt': 7282, 'touche': 7283, 'imelda': 7284, 'maylia': 7285, 'toel': 7286, 'rum': 7287, 'coke': 7288, '10000': 7289, '200000': 7290, '50000': 7291, 'proposition': 7292, 'dodgy': 7293, 'intrude': 7294, 'sod': 7295, 'caution': 7296, '5year': 7297, 'amiss': 7298, 'administrative': 7299, 'liability': 7300, 'combine': 7301, 'roys': 7302, 'similar': 7303, 'investing': 7304, 'spandau': 7305, 'disney': 7306, 'preferable': 7307, 'cranky': 7308, 'tumble': 7309, 'shayla': 7310, 'courtnay': 7311, 'delayed': 7312, 'entered': 7313, 'tbag': 7314, 'sona': 7315, 'algeria': 7316, 'erol': 7317, 'dash': 7318, 'tbags': 7319, 'jasper': 7320, 'potts': 7321, 'mathers': 7322, 'smalltime': 7323, 'supplier': 7324, 'nephew': 7325, 'karl': 7326, 'youinterested': 7327, 'hellish': 7328, 'frustrated': 7329, 'teething': 7330, 'ownership': 7331, 'maddening': 7332, 'compile': 7333, 'neil': 7334, 'sedaka': 7335, 'chess': 7336, 'avatar': 7337, 'foreign': 7338, 'alfred': 7339, 'anthropologist': 7340, 'flood': 7341, 'remarkably': 7342, 'highachieving': 7343, 'menu': 7344, 'fright': 7345, 'passionately': 7346, 'slash': 7347, 'catcher': 7348, 'akin': 7349, 'grief': 7350, 'thankfully': 7351, 'mitigated': 7352, '1982': 7353, 'conversing': 7354, 'departing': 7355, 'starship': 7356, 'surrogate': 7357, 'consolation': 7358, '2003': 7359, 'stylish': 7360, 'eyeball': 7361, 'slick': 7362, 'sounded': 7363, 'lend': 7364, 'require': 7365, 'identification': 7366, 'madam': 7367, 'greasy': 7368, 'donkey': 7369, 'lil': 7370, 'nicked': 7371, 'biscuit': 7372, 'aiming': 7373, 'deserved': 7374, 'imported': 7375, 'fajita': 7376, 'apache': 7377, 'remedy': 7378, 'kindest': 7379, 'wisest': 7380, 'eyelash': 7381, 'utah': 7382, 'dunson': 7383, 'abner': 7384, 'doubleday': 7385, 'devising': 7386, 'tenperson': 7387, 'qi': 7388, 'nineperson': 7389, 'gluing': 7390, 'stubbies': 7391, 'turquoise': 7392, 'preacher': 7393, 'dangling': 7394, 'burnin': 7395, 'hint': 7396, 'onehour': 7397, 'susannah': 7398, 'custer': 7399, 'dashing': 7400, 'barber': 7401, 'regiment': 7402, 'tombstone': 7403, 'usual': 7404, 'tardyo': 7405, 'sneaky': 7406, 'bodyguard': 7407, 'dresser': 7408, 'twain': 7409, 'louis': 7410, 'chico': 7411, 'delilah': 7412, 'whiskey': 7413, 'rockies': 7414, 'overplay': 7415, 'stumbled': 7416, 'ultrasound': 7417, 'kardashian': 7418, 'owned': 7419, 'minorityowned': 7420, 'category': 7421, 'native': 7422, 'bummed': 7423, 'chase': 7424, 'selfinvolved': 7425, 'amir': 7426, 'organtrading': 7427, 'deport': 7428, 'fedex': 7429, 'forged': 7430, 'fortunetelling': 7431, 'scam': 7432, 'uranus': 7433, 'pippa': 7434, 'middleton': 7435, 'psychic': 7436, 'iimagine': 7437, 'lvdia': 7438, 'intelligent': 7439, 'associate': 7440, 'cognitive': 7441, 'argued': 7442, 'lilian': 7443, 'famously': 7444, 'seminal': 7445, 'textbook': 7446, 'noun': 7447, 'ahha': 7448, 'remarkable': 7449, 'feat': 7450, 'mj': 7451, 'soapbox': 7452, 'thingy': 7453, 'weston': 7454, 'exchanged': 7455, 'embroidered': 7456, 'silk': 7457, 'insensitive': 7458, 'commission': 7459, 'quotation': 7460, 'wardrobe': 7461, 'basket': 7462, 'sundries': 7463, 'cheat': 7464, 'thirsty': 7465, 'frosty': 7466, 'noncaffeinated': 7467, 'fatherson': 7468, 'derby': 7469, 'rework': 7470, 'trading': 7471, 'strolled': 7472, 'outback': 7473, 'spousal': 7474, 'corvette': 7475, 'rendering': 7476, 'shading': 7477, 'relativity': 7478, 'hydrodynamics': 7479, 'overboard': 7480, 'bathtub': 7481, 'bon': 7482, 'voyage': 7483, 'raiesh': 7484, 'funnier': 7485, 'sendoff': 7486, 'discussed': 7487, 'bflat': 7488, 'propose': 7489, 'presented': 7490, 'hardest': 7491, 'contribute': 7492, 'bordeaux': 7493, 'ukulele': 7494, 'froth': 7495, 'javiers': 7496, 'javier': 7497, 'showtime': 7498, 'zack': 7499, 'tights': 7500, 'scored': 7501, 'gameno': 7502, 'kurosawa': 7503, 'favourite': 7504, 'tucson': 7505, 'republican': 7506, 'episcopalian': 7507, 'achieve': 7508, 'hostility': 7509, 'exhilarating': 7510, 'obnoxious': 7511, 'troller': 7512, 'flanked': 7513, 'freshman': 7514, 'princeton': 7515, 'alltime': 7516, 'millstein': 7517, 'durand': 7518, 'resembles': 7519, 'yasser': 7520, 'arafat': 7521, 'vassar': 7522, 'flatchested': 7523, 'moonlight': 7524, 'flick': 7525, 'premed': 7526, 'paw': 7527, 'grenada': 7528, 'nevermind': 7529, 'ethic': 7530, 'froze': 7531, 'originally': 7532, 'existential': 7533, 'steaming': 7534, 'parked': 7535, 'intervew': 7536, 'relaxing': 7537, 'wandering': 7538, 'hagar': 7539, 'bronchitis': 7540, 'assert': 7541, 'demanding': 7542, 'screenwriter': 7543, 'sounding': 7544, 'possessive': 7545, 'encouraged': 7546, 'cellphone': 7547, 'sinister': 7548, 'delightful': 7549, 'witty': 7550, 'sings': 7551, 'nicely': 7552, 'flute': 7553, 'refers': 7554, 'professionally': 7555, 'wildest': 7556, 'masterson': 7557, 'broadway': 7558, 'bookiehes': 7559, 'eccentric': 7560, 'forcing': 7561, 'aspergers': 7562, 'modern': 7563, 'weegee': 7564, 'exhibit': 7565, 'soaked': 7566, 'beef': 7567, 'jerky': 7568, 'hampton': 7569, 'unfortunate': 7570, 'irregular': 7571, 'mole': 7572, 'chooses': 7573, 'pacing': 7574, 'carcinoma': 7575, 'limp': 7576, 'judy': 7577, 'connecticut': 7578, 'unfaithful': 7579, 'filling': 7580, 'moist': 7581, 'asterix': 7582, 'tense': 7583, 'cling': 7584, 'sneezing': 7585, 'realising': 7586, 'paying': 7587, 'firstplace': 7588, '4h': 7589, 'griffinl': 7590, 'renounced': 7591, 'dice': 7592, 'hustler': 7593, 'egyptian': 7594, 'budapest': 7595, 'modest': 7596, 'alcohol': 7597, 'havoc': 7598, 'uninhibited': 7599, 'aggressive': 7600, 'temperature': 7601, 'cloudy': 7602, 'brighter': 7603, 'rooting': 7604, 'ballad': 7605, 'machinery': 7606, 'incapable': 7607, 'muse': 7608, 'ley': 7609, 'spelling': 7610, 'rolands': 7611, 'apologise': 7612, 'appartment': 7613, 'yeslts': 7614, 'pour': 7615, 'journalism': 7616, 'spank': 7617, 'deli': 7618, 'cashier': 7619, 'louvre': 7620, 'pooping': 7621, 'steady': 7622, 'jacuzzi': 7623, 'dentist': 7624, 'truffle': 7625, 'townhouse': 7626, 'planleave': 7627, 'manfbi': 7628, 'rollingi': 7629, 'outhold': 7630, 'luckgilligan': 7631, 'likea': 7632, 'slight': 7633, 'blink': 7634, 'versus': 7635, 'lincolnhe': 7636, 'cutback': 7637, 'motel': 7638, 'hereburrows': 7639, 'confidence': 7640, 'aldo': 7641, 'posture': 7642, 'emphasis': 7643, 'donovan': 7644, 'platte': 7645, 'exsecret': 7646, 'spoonfeeding': 7647, 'discredited': 7648, 'cameraman': 7649, 'likeplay': 7650, 'thatwould': 7651, 'nowyeah': 7652, 'broker': 7653, 'environmental': 7654, 'rehabilitation': 7655, 'momentous': 7656, 'thaits': 7657, 'astrid': 7658, 'berk': 7659, 'bitter': 7660, 'itchy': 7661, 'armpit': 7662, 'timberjacks': 7663, 'avoiding': 7664, 'shining': 7665, 'yyoure': 7666, 'coil': 7667, 'calibration': 7668, 'hah': 7669, 'trapping': 7670, 'thieving': 7671, 'icespitting': 7672, 'whatfist': 7673, 'shipment': 7674, 'hostile': 7675, 'aand': 7676, 'appreciates': 7677, 'gobbers': 7678, 'oror': 7679, 'dargo': 7680, 'fist': 7681, 'stirring': 7682, 'bludvist': 7683, 'madman': 7684, 'stoick': 7685, 'rooftop': 7686, 'reasoned': 7687, 'whatwhat': 7688, 'theythey': 7689, 'scholarship': 7690, 'relative': 7691, 'seventh': 7692, 'cello': 7693, 'february': 7694, 'genuinely': 7695, 'prototype': 7696, 'darpa': 7697, 'intentional': 7698, 'obsolescence': 7699, 'xbox': 7700, 'navigation': 7701, 'schematic': 7702, 'whacs': 7703, 'overheating': 7704, 'hydrogen': 7705, 'recharge': 7706, 'nickelmetal': 7707, 'hydride': 7708, 'driveway': 7709, 'extinguisher': 7710, 'reducing': 7711, 'width': 7712, 'petco': 7713, 'fetco': 7714, 'timecop': 7715, 'bullied': 7716, 'bait': 7717, 'chemistry': 7718, 'canceled': 7719, 'sub': 7720, 'atomic': 7721, '152': 7722, 'silicon': 7723, 'memorization': 7724, 'backwards': 7725, 'texted': 7726, 'trig': 7727, 'gangsta': 7728, 'nime': 7729, '41': 7730, 'jess': 7731, 'inherently': 7732, 'seventyseven': 7733, 'lollapalooza': 7734, 'xelly': 7735, '1st': 7736, '1i': 7737, 'undo': 7738, 'pact': 7739, 'raskin': 7740, 'aclanta': 7741, 'ick': 7742, 'timeline': 7743, 'crisscross': 7744, 'isil': 7745, 'jacking': 7746, 'cnotes': 7747, 'organizing': 7748, 'rial': 7749, 'freddie': 7750, 'sane': 7751, 'sanaa': 7752, 'anticipate': 7753, 'doubling': 7754, 'di': 7755, 'runway': 7756, 'comiccon': 7757, 'seth': 7758, 'applied': 7759, 'giuseppe': 7760, 'hammer': 7761, 'magician': 7762, 'treble': 7763, 'downright': 7764, 'afunky': 7765, 'wreck': 7766, 'tipped': 7767, 'louder': 7768, 'trumpet': 7769, 'giveandtake': 7770, 'glorias': 7771, 'snoring': 7772, 'granola': 7773, 'schoolyard': 7774, 'delivered': 7775, 'sarcastically': 7776, 'tendency': 7777, 'wander': 7778, 'dairy': 7779, 'lukini': 7780, 'chalice': 7781, 'spooky': 7782, 'niece': 7783, 'fertilizing': 7784, 'monsanto': 7785, 'rental': 7786, 'mustache': 7787, 'vase': 7788, 'festive': 7789, 'weeklong': 7790, 'vermouth': 7791, 'abstract': 7792, 'christmassy': 7793, 'robust': 7794, 'judgment': 7795, 'comatose': 7796, 'imagining': 7797, 'neighbour': 7798, 'curl': 7799, 'katrina': 7800, 'phils': 7801, 'brightest': 7802, 'understatement': 7803, 'perverse': 7804, 'instantly': 7805, 'despised': 7806, 'nickname': 7807, 'rented': 7808, 'tux': 7809, 'unhappy': 7810, 'receptionist': 7811, 'bleak': 7812, 'musky': 7813, 'macho': 7814, 'jixe': 7815, 'skinny': 7816, 'connor': 7817, 'sheryl': 7818, 'loma': 7819, 'clueless': 7820, 'dictionary': 7821, 'whoopdeedo': 7822, 'cindy': 7823, 'dish': 7824, 'interviewee': 7825, 'wimp': 7826, 'margie': 7827, 'carlsen': 7828, 'riverside': 7829, 'whack': 7830, 'hillman': 7831, 'thomas': 7832, 'sleeve': 7833, 'donf': 7834, 'receipt': 7835, 'mushroom': 7836, 'guac': 7837, '43': 7838, 'growth': 7839, 'sonic': 7840, 'whyin': 7841, 'suburbsthere': 7842, 'deceptive': 7843, 'sayexactly': 7844, 'weirdbut': 7845, 'wellmaybe': 7846, 'rainy': 7847, 'fundthey': 7848, 'ohhoneypeople': 7849, 'onsay': 7850, 'lineifs': 7851, 'nt': 7852, 'nonol': 7853, 'magazinesi': 7854, 'downyouve': 7855, 'somethingwhen': 7856, 'ribbon': 7857, 'freezing': 7858, 'knowl': 7859, 'cutest': 7860, 'shawl': 7861, 'boyyou': 7862, 'wannabe': 7863, 'heredo': 7864, 'cancertoo': 7865, 'liverwent': 7866, 'encouraging': 7867, 'weeksevery': 7868, 'katherines': 7869, 'ohhey': 7870, 'bakingand': 7871, 'surewhat': 7872, 'floursugar': 7873, '57': 7874, 'twat': 7875, 'doo': 7876, 'affecting': 7877, 'liza': 7878, 'milked': 7879, 'soak': 7880, 'sive': 7881, 'samsung': 7882, 'zara': 7883, 'shareholder': 7884, 'erect': 7885, 'maloney': 7886, 'patron': 7887, 'e100': 7888, 'ro': 7889, 'alternatively': 7890, 'wat': 7891, 'crossed': 7892, 'agressive': 7893, 'harsh': 7894, 'overseeing': 7895, 'counseling': 7896, 'rusty': 7897, 'forceps': 7898, '998': 7899, 'defeated': 7900, 'expiry': 7901, 'extended': 7902, 'trombone': 7903, 'possum': 7904, 'doubledealing': 7905, 'devildog': 7906, 'reschedule': 7907, 'pappy': 7908, 'enjoying': 7909, 'craziest': 7910, 'mouthpiece': 7911, 'jersey': 7912, 'grownup': 7913, 'arlos': 7914, 'mirial': 7915, 'ethel': 7916, 'superior': 7917, 'ceiling': 7918, 'propeller': 7919, 'spinning': 7920, 'highway': 7921, 'gerrie': 7922, 'everetts': 7923, '38': 7924, 'cobradropping': 7925, 'carefree': 7926, 'sirviper': 7927, '31': 7928, 'radar': 7929, 'bunker': 7930, 'warlord': 7931, 'fentagon': 7932, 'confirmation': 7933, 'pursuing': 7934, 'produce': 7935, 'stalemate': 7936, 'rainmakerwhich': 7937, 'immense': 7938, 'national': 7939, 'significant': 7940, 'resign': 7941, 'commision': 7942, 'prosecutor': 7943, 'dismissal': 7944, 'millionaire': 7945, 'geopetrol': 7946, 'welltemirim': 7947, 'againokay': 7948, 'hiis': 7949, 'methis': 7950, 'planit': 7951, 'longman': 7952, 'adversarybaby': 7953, 'noman': 7954, 'lag': 7955, 'forcelike': 7956, 'nothanks': 7957, 'webster': 7958, 'lookguys': 7959, 'hereso': 7960, 'honestthe': 7961, 'kerosene': 7962, 'alreadyso': 7963, 'cowboysthis': 7964, 'welldirectors': 7965, 'rewritesyou': 7966, 'messy': 7967, 'russia': 7968, 'glide': 7969, 'zangezur': 7970, 'planesi': 7971, 'trainingright': 7972, 'yessirbut': 7973, 'technicallyyoure': 7974, 'airfield': 7975, 'manfinally': 7976, 'spunkyour': 7977, 'nosy': 7978, 'troubleremember': 7979, 'downmy': 7980, 'guestsplease': 7981, 'workso': 7982, 'vasquez': 7983, 'detain': 7984, 'greatgrandfathers': 7985, 'nowmankind': 7986, 'wereall': 7987, 'namebut': 7988, 'noi': 7989, 'patienti': 7990, 'reconstitute': 7991, 'intels': 7992, 'craig': 7993, 'moreyour': 7994, 'generalask': 7995, 'allan': 7996, 'clockcoming': 7997, 'herecobra': 7998, 'viperwhere': 7999, 'youman': 8000, 'annais': 8001, 'grachov': 8002, '25000': 8003, 'cajun': 8004, 'righthere': 8005, 'narrower': 8006, '20foot': 8007, 'flatter': 8008, 'nevertheless': 8009, 'playboy': 8010, 'tycoon': 8011, 'altogether': 8012, 'informacion': 8013, 'indicates': 8014, 'combina': 8015, 'tion': 8016, 'disappearance': 8017, 'organization': 8018, 'corrupt': 8019, 'concluded': 8020, 'counteract': 8021, 'teaming': 8022, 'peril': 8023, 'designing': 8024, 'resort': 8025, 'riussian': 8026, 'secure': 8027, 'visa': 8028, 'deveny': 8029, 'dearest': 8030, 'equity': 8031, 'aristocratic': 8032, 'protective': 8033, 'waverly': 8034, 'shipping': 8035, 'stupidly': 8036, 'invitation': 8037, 'bumped': 8038, 'cleansed': 8039, 'method': 8040, 'gantry': 8041, 'kgbwe': 8042, 'upright': 8043, 'generator': 8044, 'fantastically': 8045, 'unwanted': 8046, 'entertaining': 8047, 'badly': 8048, 'mummy': 8049, 'relate': 8050, 'maestro': 8051, 'modernize': 8052, 'ala': 8053, 'rudis': 8054, 'apparent': 8055, 'shortcoming': 8056, 'merged': 8057, 'oldfashioned': 8058, 'plier': 8059, 'tust': 8060, 'tfs': 8061, 'whatll': 8062, 'employment': 8063, 'secured': 8064, 'connected': 8065, 'luxurious': 8066, 'seize': 8067, 'unwell': 8068, 'assure': 8069, 'bugged': 8070, 'translation': 8071, 'coupler': 8072, 'enables': 8073, 'warhead': 8074, 'converting': 8075, 'nuclear': 8076, 'redundant': 8077, 'choosing': 8078, 'equation': 8079, 'improv': 8080, 'reed': 8081, 'pam': 8082, 'memphis': 8083, 'tonesboro': 8084, 'val': 8085, 'appointed': 8086, 'tessie': 8087, 'recanted': 8088, 'lined': 8089, 'mentally': 8090, 'retarded': 8091, 'lax': 8092, 'representing': 8093, 'salem': 8094, 'jears': 8095, 'satamic': 8096, 'scouting': 8097, 'treating': 8098, 'terry': 8099, 'stevies': 8100, 'proceeding': 8101, 'respected': 8102, 'goddamned': 8103, 'parasite': 8104, 'stated': 8105, 'tolerate': 8106, 'verbal': 8107, 'outburst': 8108, 'lloyd': 8109, 'orgy': 8110, 'concerning': 8111, 'hutcheson': 8112, 'prominently': 8113, 'bray': 8114, 'moore': 8115, 'vicki': 8116, 'worshipper': 8117, 'chanting': 8118, 'corroborate': 8119, 'se': 8120, 'jessies': 8121, 'gitchells': 8122, 'manipulation': 8123, 'gitchell': 8124, 'baptized': 8125, 'enrollment': 8126, 'columbia': 8127, 'pacific': 8128, 'flyer': 8129, 'correspondence': 8130, 'phd': 8131, 'nonaccredited': 8132, 'griffis': 8133, 'arkansas': 8134, 'arresting': 8135, 'crossexamine': 8136, 'retracted': 8137, 'suffices': 8138, 'tiein': 8139, 'conduct': 8140, 'bailiff': 8141, 'hobbs': 8142, '17th': 8143, 'videotaped': 8144, 'sewed': 8145, 'fd': 8146, 'depend': 8147, 'underlined': 8148, 'iwas': 8149, 'ilook': 8150, 'ped': 8151, 'zouve': 8152, 'aleister': 8153, 'indicated': 8154, 'significance': 8155, 'circumstantial': 8156, 'justification': 8157, 'budweiser': 8158, 'miller': 8159, '15th': 8160, '27th': 8161, 'arabian': 8162, 'melissa': 8163, 'domino': 8164, 'talus': 8165, 'voting': 8166, 'voted': 8167, 'chichal': 8168, 'tendigit': 8169, 'throttle': 8170, 'bruno': 8171, 'fput': 8172, 'nonessential': 8173, '06': 8174, 'serpropelled': 8175, 'hadcaused': 8176, 'spectacular': 8177, 'apprehension': 8178, 'absolute': 8179, 'lacking': 8180, 'magnify': 8181, 'rejoiced': 8182, 'amongst': 8183, 'believer': 8184, 'brendan': 8185, 'seamus': 8186, 'attendant': 8187, 'amanda': 8188, 'picnic': 8189, 'gross': 8190, 'defensive': 8191, 'yelled': 8192, 'occasional': 8193, 'achieving': 8194, 'erection': 8195, 'spends': 8196, 'nicer': 8197, 'apologetic': 8198, 'philosopher': 8199, 'jumble': 8200, 'penetration': 8201, 'penisvagina': 8202, 'wene': 8203, 'scented': 8204, 'runner': 8205, 'lanky': 8206, 'fielder': 8207, 'respirator': 8208, 'thethat': 8209, 'recommend': 8210, 'intolerable': 8211, 'donti': 8212, 'femur': 8213, 'deja': 8214, 'crossfire': 8215, 'cowlateral': 8216, 'sentencing': 8217, 'lightly': 8218, 'stroked': 8219, 'paintbrush': 8220, 'sarcastic': 8221, 'applauding': 8222, 'august': 8223, 'compare': 8224, 'avis': 8225, 'renting': 8226, 'surrogacy': 8227, 'lego': 8228, 'bryan': 8229, 'cooked': 8230, '77': 8231, 'scofields': 8232, 'included': 8233, 'habeas': 8234, 'rubberstamped': 8235, 'lll': 8236, 'marcus': 8237, 'rope': 8238, 'atom': 8239, 'valdivia': 8240, 'chile': 8241, 'bam': 8242, 'lasted': 8243, 'spawned': 8244, 'leveled': 8245, 'hilo': 8246, 'hawaii': 8247, 'demarcation': 8248, 'overdue': 8249, 'tug': 8250, 'maintenance': 8251, 'elgin': 8252, 'volleyball': 8253, 'camping': 8254, 'lowlevel': 8255, 'seismic': 8256, 'falco': 8257, '23': 8258, 'talco': 8259, '35': 8260, 'southeast': 8261, 'magnetic': 8262, 'havasu': 8263, 'blythe': 8264, 'laughlin': 8265, 'additional': 8266, 'lafd': 8267, 'arriving': 8268, '1430': 8269, 'prepping': 8270, 'fairly': 8271, 'underway': 8272, 'manage': 8273, 'untied': 8274, 'addition': 8275, 'skyline': 8276, 'strongest': 8277, 'riddick': 8278, 'engineering': 8279, 'picky': 8280, 'excellent': 8281, 'interrupting': 8282, 'richter': 8283, '65': 8284, '85': 8285, 'toward': 8286, 'diminish': 8287, 'independent': 8288, 'lift': 8289, 'rotary': 8290, 'pushbutton': 8291, 'nozzle': 8292, 'jts': 8293, 'shifted': 8294, 'shaking': 8295, 'aftershock': 8296, '95': 8297, 'greater': 8298, 'emphasize': 8299, 'blamed': 8300, 'coit': 8301, 'begun': 8302, 'nob': 8303, 'slang': 8304, 'coits': 8305, 'septal': 8306, 'hematoma': 8307, 'reservation': 8308, 'clems': 8309, 'wishing': 8310, 'specimen': 8311, 'cdlpledge': 8312, 'foster': 8313, 'happily': 8314, 'santo': 8315, 'idomingo': 8316, 'itm': 8317, 'indefinitely': 8318, 'mystery': 8319, '218': 8320, 'displacement': 8321, 'refugee': 8322, 'starvation': 8323, 'overcrowding': 8324, 'data': 8325, 'undeniable': 8326, 'inactivity': 8327, 'reaping': 8328, 'sown': 8329, 'chamberlain': 8330, 'dave': 8331, 'nebula': 8332, 'policy': 8333, 'occupational': 8334, 'hazard': 8335, 'machineheaded': 8336, 'transaction': 8337, 'outraged': 8338, 'farewell': 8339, 'backed': 8340, 'integrity': 8341, 'starlord': 8342, 'bearing': 8343, 'mercenary': 8344, 'ravagers': 8345, 'aholes': 8346, 'ky': 8347, 'uphold': 8348, 'raccoon': 8349, 'suitcase': 8350, 'sha': 8351, 'drax': 8352, 'sole': 8353, 'wench': 8354, 'attempted': 8355, 'smokinghot': 8356, 'rajak': 8357, 'slicing': 8358, 'apprehended': 8359, 'lower': 8360, 'politics': 8361, 'alienated': 8362, 'emptyhanded': 8363, 'aaskavariian': 8364, 'available': 8365, 'gaze': 8366, 'hopping': 8367, 'hardcore': 8368, 'joy': 8369, 'cleanse': 8370, 'console': 8371, 'carina': 8372, 'inbound': 8373, 'wary': 8374, 'rodent': 8375, 'regulation': 8376, 'tivan': 8377, 'fluid': 8378, 'establishment': 8379, 'orloni': 8380, 'batshit': 8381, 'negotiation': 8382, 'tactic': 8383, 'tortured': 8384, 'assassin': 8385, 'fonan': 8386, 'mod': 8387, 'pod': 8388, 'brag': 8389, 'blasted': 8390, 'singlehandedly': 8391, 'nondamaging': 8392, 'lunatic': 8393, 'hadron': 8394, 'enforcer': 8395, 'rocket': 8396, 'minutia': 8397, 'secondly': 8398, 'established': 8399, 'establish': 8400, 'concept': 8401, 'groots': 8402, 'yondu': 8403, 'expects': 8404, 'honorable': 8405, 'lifespan': 8406, 'reacts': 8407, 'organic': 8408, 'surge': 8409, 'ronans': 8410, 'bockxet': 8411, 'yondus': 8412, 'disable': 8413, 'dismantling': 8414, 'rocxet': 8415, 'tessica': 8416, 'introduced': 8417, 'ultimate': 8418, 'claimed': 8419, 'amazingly': 8420, 'escaped': 8421, 'shoddy': 8422, 'remorse': 8423, 'snowden': 8424, 'alexis': 8425, 'mythical': 8426, 'tact': 8427, 'chord': 8428, 'balk': 8429, 'causing': 8430, 'whereas': 8431, '2100': 8432, 'brandnew': 8433, 'proofing': 8434, 'screeching': 8435, 'vixen': 8436, 'undone': 8437, 'reset': 8438, 'youngblood': 8439, 'rip': 8440, 'lyric': 8441, 'jackofalltrades': 8442, 'ly': 8443, 'tweak': 8444, 'winkle': 8445, 'jou': 8446, 'pristine': 8447, 'doovers': 8448, 'applying': 8449, 'tourniquet': 8450, 'hating': 8451, 'admiration': 8452, 'answered': 8453, '2025326': 8454, '2025': 8455, 'comedy': 8456, 'headquarters': 8457, 'dame': 8458, 'jennifer': 8459, 'iteil': 8460, 'pauricl': 8461, 'hoa': 8462, 'andre': 8463, 'agassi': 8464, 'orchestra': 8465, 'stray': 8466, 'lecture': 8467, 'backalley': 8468, 'blowjob': 8469, 'coatcheck': 8470, 'pesky': 8471, 'doggie': 8472, 'arnold': 8473, 'chopped': 8474, 'riddle': 8475, 'thold': 8476, 'tighten': 8477, 'sexyass': 8478, 'wack': 8479, 'ai': 8480, 'motivation': 8481, 'utmost': 8482, 'kindness': 8483, 'grumpy': 8484, 'wasstp': 8485, 'selfdriving': 8486, 'bu': 8487, 'ln': 8488, 'thes': 8489, 'jerkoff': 8490, 'rad': 8491, 'fey': 8492, 'roomtemperature': 8493, 'almond': 8494, 'tangerine': 8495, 'margarita': 8496, 'apricot': 8497, '2016': 8498, 'offender': 8499, 'stryt': 8500, 'vagrant': 8501, 'horseradish': 8502, 'neckandneck': 8503, 'taboo': 8504, 'bestiality': 8505, 'rerguson': 8506, 'dispute': 8507, 'tuft': 8508, 'grooming': 8509, 'chillout': 8510, 'tent': 8511, 'comfy': 8512, 'handbook': 8513, '0': 8514, 'creat': 8515, 'retitling': 8516, 'impulse': 8517, 'misleading': 8518, 'walit': 8519, 'tylenol': 8520, 'pumped': 8521, 'narcotic': 8522, 'listener': 8523, 'therapist': 8524, 'chilling': 8525, 'ether': 8526, 'cancelled': 8527, 'boogie': 8528, 'partly': 8529, 'inventor': 8530, '2015': 8531, 'superhuman': 8532, 'sotey': 8533, 'misread': 8534, 'jincoln': 8535, '1800s': 8536, 'marilyn': 8537, 'monroe': 8538, 'extraordinary': 8539, 'miraculous': 8540, 'decoration': 8541, 'tartar': 8542, 'baptist': 8543, 'boingo': 8544, 'hotspot': 8545, '1998': 8546, 'luggage': 8547, 'ahh': 8548, 'veil': 8549, 'plaza': 8550, 'placing': 8551, 'reno': 8552, 'virgin': 8553, 'tuba': 8554, 'cue': 8555, 'escrow': 8556, 'brees': 8557, 'driveby': 8558, 'paige': 8559, 'spit': 8560, '12000': 8561, 'traumatic': 8562, 'react': 8563, 'sconce': 8564, 'doorway': 8565, 'muppets': 8566, 'boyd': 8567, 'flirting': 8568, 'marijuana': 8569, 'venture': 8570, 'capitalist': 8571, 'thicker': 8572, 'tshirts': 8573, 'shamwow': 8574, 'illegitimate': 8575, 'surrendering': 8576, 'surrendered': 8577, 'korean': 8578, 'unlikely': 8579, 'loafer': 8580, 'suede': 8581, 'paving': 8582, 'aside': 8583, 'crank': 8584, 'breatheslow': 8585, 'repair': 8586, 'incorrect': 8587, 'agitated': 8588, 'consult': 8589, 'bridal': 8590, 'boutique': 8591, 'richards': 8592, 'eeverything': 8593, 'fundraising': 8594, 'jessica': 8595, 'canteen': 8596, 'darkness': 8597, 'tiara': 8598, 'supporting': 8599, 'respecting': 8600, 'feelin': 8601, 'cheeseburger': 8602, 'mammogram': 8603, 'humiliation': 8604, 'matt': 8605, 'mexico': 8606, 'fare': 8607, 'relieve': 8608, 'elastic': 8609, 'waistband': 8610, 'irresponsible': 8611, 'lexie': 8612, 'wrecked': 8613, 'unforgivable': 8614, 'shameful': 8615, 'hangover': 8616, 'sayis': 8617, 'ar': 8618, 'imagined': 8619, 'horseback': 8620, 'dimension': 8621, 'mode': 8622, 'explored': 8623, 'unflappable': 8624, 'challenge': 8625, 'harm': 8626, 'rocking': 8627, 'physicality': 8628, 'ji': 8629, 'aberration': 8630, 'derive': 8631, 'electricity': 8632, 'ethani': 8633, 'ethanmy': 8634, 'shared': 8635, 'youl': 8636, 'sneaking': 8637, 'youi': 8638, 'toothbrush': 8639, 'lighting': 8640, 'cruising': 8641, 'automatic': 8642, 'dryer': 8643, 'booyah': 8644, 'presick': 8645, 'menachem': 8646, 'goldman': 8647, 'zz': 8648, 'topville': 8649, 'contingent': 8650, 'passover': 8651, 'hebrew': 8652, 'waist': 8653, 'bubala': 8654, 'barbarian': 8655, 'hadassa': 8656, 'shmuley': 8657, 'yiddish': 8658, 'fever': 8659, 'spiked': 8660, 'preach': 8661, 'hinda': 8662, 'fagel': 8663, 'kosher': 8664, 'rabbi': 8665, 'attendance': 8666, 'implies': 8667, 'raisin': 8668, 'memorize': 8669, 'bran': 8670, 'defending': 8671, 'poltergeist': 8672, 'operated': 8673, 'guantanamo': 8674, 'discharge': 8675, '08': 8676, 'mi': 8677, 'beckerts': 8678, 'pending': 8679, 'drbailey': 8680, 'motherbaby': 8681, 'bonding': 8682, '122s': 8683, 'packet': 8684, 'shvsashcom': 8685, 'tee': 8686, 'bong': 8687, 'chin': 8688, 'lu': 8689, 'kemberly': 8690, 'ashlin': 8691, 'hyperactive': 8692, 'starve': 8693, 'garland': 8694, 'partridgeinapeartree': 8695, 'granted': 8696, 'snowy': 8697, 'puffin': 8698, 'scatter': 8699, 'grill': 8700, 'steak': 8701, 'hypedup': 8702, 'blaming': 8703, 'pout': 8704, 'coward': 8705, 'claus': 8706, 'bingo': 8707, 'partridge': 8708, 'enlightened': 8709, 'obligated': 8710, 'frozen': 8711, 'sleigh': 8712, 'mature': 8713, 'gingerbread': 8714, 'deodorant': 8715, 'conscience': 8716, 'determine': 8717, 'alternating': 8718, 'sticking': 8719, 'lastminute': 8720, 'coordinating': 8721, 'troop': 8722, 'afghanistan': 8723, 'yhac': 8724, 'spellchecks': 8725, 'accurate': 8726, 'cardiff': 8727, 'aberdeen': 8728, 'belfast': 8729, 'oxford': 8730, 'slough': 8731, 'omne': 8732, 'bleed': 8733, 'bizarre': 8734, 'ambushed': 8735, 'bled': 8736, 'cripple': 8737, 'swoop': 8738, 'password': 8739, 'protected': 8740, 'broadcaster': 8741, 'entertain': 8742, 'indifferent': 8743, 'detached': 8744, 'silently': 8745, 'restless': 8746, 'selfentitlement': 8747, 'striking': 8748, 'empathy': 8749, 'compassion': 8750, 'blackbook': 8751, 'recruited': 8752, 'himm': 8753, 'billiards': 8754, 'australian': 8755, 'horseman': 8756, 'gunner': 8757, 'bead': 8758, 'gibraltar': 8759, 'blasting': 8760, 'shelled': 8761, 'mined': 8762, 'woodward': 8763, 'claytons': 8764, 'colin': 8765, 'moffat': 8766, 'papua': 8767, 'headhunter': 8768, 'loosened': 8769, 'girth': 8770, 'cinch': 8771, 'injured': 8772, 'darker': 8773, 'tommo': 8774, 'wiper': 8775, 'northumberland': 8776, 'fusilier': 8777, 'shuteye': 8778, 'stratum': 8779, 'demolish': 8780, 'requisition': 8781, '105': 8782, 'sunup': 8783, '0400': 8784, 'clayton': 8785, 'forgota': 8786, 'hen': 8787, 'parcel': 8788, 'firstrate': 8789, 'knitter': 8790, 'recruiting': 8791, 'sap': 8792, 'slurry': 8793, 'sinking': 8794, 'flanders': 8795, '3rd': 8796, 'canadian': 8797, 'tunnellers': 8798, 'guncotton': 8799, 'caterpillar': 8800, '70000': 8801, 'undermined': 8802, 'nonono': 8803, 'sandclay': 8804, 'seeps': 8805, 'funnel': 8806, 'manning': 8807, 'preferred': 8808, 'atrocious': 8809, 'convincingly': 8810, 'meatshapes': 8811, 'fork': 8812, 'learning': 8813, 'spirited': 8814, 'ortho': 8815, 'lunged': 8816, 'reacted': 8817, 'bothered': 8818, 'cadaver': 8819, 'insert': 8820, 'drain': 8821, 'existing': 8822, 'stripping': 8823, 'inject': 8824, 'preop': 8825, 'alaska': 8826, 'colleen': 8827, 'callie': 8828, 'ballpark': 8829, 'removing': 8830, 'aortic': 8831, 'crossclamp': 8832, 'ventricle': 8833, 'ruptured': 8834, 'naomi': 8835, 'misrepresented': 8836, 'provided': 8837, 'gamble': 8838, 'smirk': 8839, 'hierarchy': 8840, 'latter': 8841, 'uncertain': 8842, 'copper': 8843, 'guinea': 8844, 'moisha': 8845, 'boss': 8846, 'nm': 8847, 'gnu': 8848, 'umup': 8849, 'expanding': 8850, 'horizon': 8851, 'soho': 8852, 'awhile': 8853, 'landlord': 8854, 'everyones': 8855, 'pub': 8856, 'tojack': 8857, 'rita': 8858, 'bosby': 8859, 'bounce': 8860, 'fend': 8861, 'burden': 8862, 'huber': 8863, 'gabby': 8864, 'beating': 8865, 'reciprocate': 8866, '2417': 8867, 'plumber': 8868, 'loneliness': 8869, 'strained': 8870, 'falsely': 8871, 'neanderthal': 8872, 'ana': 8873, 'ason': 8874, 'vale': 8875, 'cotton': 8876, 'tremendous': 8877, 'stationery': 8878, 'prague': 8879, 'digger': 8880, 'grandson': 8881, 'lve': 8882, 'unlocked': 8883, 'hodge': 8884, 'rex': 8885, 'nanas': 8886, 'financially': 8887, 'flora': 8888, '93rd': 8889, '72': 8890, 'fyi': 8891, 'downloaded': 8892, 'saddle': 8893, 'hofstadter': 8894, 'omaha': 8895, 'healer': 8896, 'twentyfive': 8897, 'spinner': 8898, 'hydraulic': 8899, 'sal': 8900, 'transporting': 8901, 'mule': 8902, 'pitt': 8903, 'convenient': 8904, 'empire': 8905, 'bottomdollar': 8906, 'retail': 8907, 'walton': 8908, 'mutiny': 8909, 'mcqueen': 8910, 'illiterate': 8911, 'brood': 8912, 'oodie': 8913, 'philadelphia': 8914, 'realise': 8915, 'county': 8916, 'dallas': 8917, 'robs': 8918, 'celestes': 8919, 'belly': 8920, 'whoevers': 8921, 'plain': 8922, 'unneeded': 8923, 'pension': 8924, 'permian': 8925, 'bubba': 8926, 'odessa': 8927, 'chewed': 8928, 'pileup': 8929, 'multiple': 8930, 'flipped': 8931, 'intraabdominal': 8932, 'bony': 8933, 'temporal': 8934, 'centimeter': 8935, 'bargained': 8936, 'graceful': 8937, 'landing': 8938, 'fentanyl': 8939, 'pike': 8940, 'collapsed': 8941, 'dislocation': 8942, 'treadmill': 8943, 'ang': 8944, 'miguel': 8945, 'sofia': 8946, 'devine': 8947, 'hayes': 8948, 'rectory': 8949, 'childress': 8950, 'poster': 8951, 'halfcourt': 8952, 'sideline': 8953, 'phase': 8954, 'momentum': 8955, 'cramer': 8956, 'clubfeet': 8957, 'revision': 8958, 'leah': 8959, 'mmhmm': 8960, 'cuddled': 8961, 'reopen': 8962, 'shane': 8963, 'thickened': 8964, 'curry': 8965, 'organ': 8966, 'cardiothoracic': 8967, 'appendix': 8968, 'knot': 8969, 'bailing': 8970, 'dede': 8971, 'barge': 8972, 'gilbert': 8973, 'selection': 8974, 'stack': 8975, 'peru': 8976, 'consulting': 8977, 'terrain': 8978, 'sliding': 8979, 'puncture': 8980, 'spark': 8981, 'skid': 8982, 'gasoline': 8983, 'debris': 8984, 'nitrate': 8985, 'curved': 8986, 'partial': 8987, 'bellshaped': 8988, 'paramedic': 8989, 'holden': 8990, 'rigged': 8991, 'lsq': 8992, 'quebec': 8993, 'response': 8994, 'clicking': 8995, 'faked': 8996, 'wvatt': 8997, 'leblanc': 8998, 'grate': 8999, 'perimeter': 9000, 'predictable': 9001, 'avoid': 9002, 'jeep': 9003, 'patrol': 9004, 'simultaneously': 9005, 'glare': 9006, 'ist': 9007, 'juan': 9008, 'rulebook': 9009, 'retrace': 9010, 'cooperates': 9011, 'nana': 9012, 'mercy': 9013, 'doomed': 9014, 'trimming': 9015, 'numb': 9016, 'sour': 9017, 'castle': 9018, 'oreo': 9019, 'mmkay': 9020, 'dud': 9021, 'gamejumped': 9022, 'fungeon': 9023, 'dungeon': 9024, 'vanellope': 9025, 'carta': 9026, 'shuttle': 9027, 'slapped': 9028, 'cybug': 9029, 'joker': 9030, 'plugged': 9031, 'carpet': 9032, 'steamcleaned': 9033, 'lore': 9034, 'taller': 9035, 'stoop': 9036, 'staten': 9037, 'luis': 9038, 'mami': 9039, 'como': 9040, 'esta': 9041, 'gehrig': 9042, 'knob': 9043, 'pitcher': 9044, 'meth': 9045, 'powder': 9046, 'whipped': 9047, 'wharton': 9048, 'nipple': 9049, 'slap': 9050, 'cap': 9051, 'tripleshot': 9052, 'caf': 9053, 'bald': 9054, 'insecure': 9055, 'chania': 9056, 'ican': 9057, 'prosecuted': 9058, 'tightening': 9059, 'poseidon': 9060, 'crete': 9061, 'pentagon': 9062, 'naval': 9063, 'teenager': 9064, 'probable': 9065, 'lshaped': 9066, 'pistol': 9067, 'torn': 9068, 'ambient': 9069, '97': 9070, '107': 9071, 'pmi': 9072, 'develop': 9073, 'meantime': 9074, 'rightslant': 9075, 'delta': 9076, 'downloading': 9077, 'latitude': 9078, 'longitude': 9079, 'metadata': 9080, 'millimeter': 9081, 'thriving': 9082, 'livestock': 9083, 'cuyahoga': 9084, 'recently': 9085, 'crucial': 9086, 'fracking': 9087, 'scifi': 9088, 'expletive': 9089, 'toxin': 9090, 'gasbearing': 9091, 'shale': 9092, 'gallon': 9093, 'aquifer': 9094, 'conservos': 9095, 'lanyard': 9096, 'hopped': 9097, 'beretta': 9098, 'marital': 9099, 'shaft': 9100, 'krypto': 9101, 'superdog': 9102, 'sourdough': 9103, 'bread': 9104, '710': 9105, 'roleplaying': 9106, 'reserved': 9107, 'getstoned': 9108, 'stoned': 9109, 'homey': 9110, 'spray': 9111, 'weed': 9112, 'puberty': 9113, 'dusting': 9114, 'strapon': 9115, 'teased': 9116, 'attraction': 9117, 'nearby': 9118, 'sowing': 9119, 'oat': 9120, 'downsize': 9121, 'loft': 9122, 'upandcoming': 9123, 'district': 9124, 'unsettled': 9125, 'raw': 9126, 'missouri': 9127, 'twang': 9128, 'cuff': 9129, 'reliable': 9130, 'camazotz': 9131, 'bprd': 9132, 'getup': 9133, 'purple': 9134, 'ouch': 9135, 'disagree': 9136, 'ruizs': 9137, 'anung': 9138, 'nun': 9139, 'bollock': 9140, 'burnt': 9141, 'keen': 9142, 'false': 9143, 'equivalence': 9144, 'dust': 9145, 'gandalf': 9146, 'todd': 9147, 'abraham': 9148, 'undertheshirt': 9149, 'clarksonthemed': 9150, 'motif': 9151, 'purge': 9152, 'loses': 9153}\n",
      "Max length of each line = 13\n",
      "first sample = [   2   13    4 1652    3]\n"
     ]
    }
   ],
   "source": [
    "\n",
    "for i in range(len(all_txt_train_lem)):\n",
    "  all_txt_train_lem[i] =  '<shr> ' + \"\".join(all_txt_train_lem[i]) + ' <pia>'\n",
    "\n",
    "\n",
    "tokenizer = Tokenizer(oov_token='<oov>')\n",
    "tokenizer.fit_on_texts(all_txt_train_lem)\n",
    "\n",
    "\n",
    "\n",
    "\n",
    "vocab_size = len(tokenizer.word_index)+1\n",
    "print(f\"number of unique word in our created vocabulary = {vocab_size}\")\n",
    "print(tokenizer.word_index)\n",
    "\n",
    "\n",
    "\n",
    "\n",
    "\n",
    "\n",
    "tokenized_txt_train_lem = []\n",
    "MAXLEN = -1\n",
    "for i in range(len(all_txt_train_lem)):\n",
    "  tokenized = tokenizer.texts_to_sequences(all_txt_train_lem[i].split())\n",
    "  tokenized = list(chain.from_iterable(tokenized))\n",
    "  tokenized = np.asarray(tokenized)\n",
    "  if (len(tokenized) > MAXLEN):\n",
    "    MAXLEN = len(tokenized)\n",
    "  tokenized_txt_train_lem.append(tokenized)\n",
    "print(f\"Max length of each line = {MAXLEN}\")\n",
    "print(f\"first sample = {tokenized_txt_train_lem[0]}\")\n",
    "\n",
    "\n",
    "\n"
   ]
  },
  {
   "cell_type": "code",
   "execution_count": 227,
   "metadata": {
    "colab": {
     "base_uri": "https://localhost:8080/"
    },
    "id": "UtUpATaGn0x2",
    "outputId": "750a37e3-eeb5-4dae-8e43-0c62da465841"
   },
   "outputs": [
    {
     "name": "stdout",
     "output_type": "stream",
     "text": [
      "Max length of each line = 13\n",
      "first sample = [   2 4267 2944 1607  558    3]\n"
     ]
    }
   ],
   "source": [
    "for i in range(len(all_txt_dev_lem)):\n",
    "  all_txt_dev_lem[i] =  '<shr> ' + \"\".join(all_txt_dev_lem[i]) + ' <pia>'\n",
    "\n",
    "tokenized_txt_dev_lem= []\n",
    "for i in range(len(all_txt_dev_lem)):\n",
    "  tokenized = tokenizer.texts_to_sequences(all_txt_dev_lem[i].split())\n",
    "  tokenized = list(chain.from_iterable(tokenized))\n",
    "  tokenized = np.asarray(tokenized)\n",
    "  if (len(tokenized) > MAXLEN):\n",
    "    MAXLEN = len(tokenized)\n",
    "  tokenized_txt_dev_lem.append(tokenized)\n",
    "print(f\"Max length of each line = {MAXLEN}\")\n",
    "print(f\"first sample = {tokenized_txt_dev_lem[0]}\")"
   ]
  },
  {
   "cell_type": "code",
   "execution_count": 228,
   "metadata": {
    "colab": {
     "base_uri": "https://localhost:8080/"
    },
    "id": "elWb91otn4Bb",
    "outputId": "e1eb231e-393a-4cde-b07c-d44f67901aad"
   },
   "outputs": [
    {
     "name": "stdout",
     "output_type": "stream",
     "text": [
      "Max length of each line = 12\n",
      "first sample = [  2 560   3]\n"
     ]
    }
   ],
   "source": [
    "for i in range(len(all_txt_test_lem)):\n",
    "  all_txt_test_lem[i] =  '<shr> ' + \"\".join(all_txt_test_lem[i]) + ' <pia>'\n",
    "\n",
    "tokenized_txt_test_lem = []\n",
    "MAXLEN = -1\n",
    "for i in range(len(all_txt_test_lem)):\n",
    "  tokenized = tokenizer.texts_to_sequences(all_txt_test_lem[i].split())\n",
    "  tokenized = list(chain.from_iterable(tokenized))\n",
    "  tokenized = np.asarray(tokenized)\n",
    "  if (len(tokenized) > MAXLEN):\n",
    "    MAXLEN = len(tokenized)\n",
    "  tokenized_txt_test_lem.append(tokenized)\n",
    "print(f\"Max length of each line = {MAXLEN}\")\n",
    "print(f\"first sample = {tokenized_txt_test_lem[0]}\")"
   ]
  },
  {
   "cell_type": "code",
   "execution_count": 229,
   "metadata": {
    "colab": {
     "base_uri": "https://localhost:8080/"
    },
    "id": "557l-VXqn7NY",
    "outputId": "f4c3e536-ab14-4e10-c40f-2291b83b5739"
   },
   "outputs": [
    {
     "name": "stdout",
     "output_type": "stream",
     "text": [
      "Loaded 400000 word vectors.\n"
     ]
    }
   ],
   "source": [
    "# load the whole embedding into memory\n",
    "embeddings_index = dict()\n",
    "f = open('/content/gdrive/MyDrive/glove/glove.6B.50d.txt')\n",
    "for line in f:\n",
    " values = line.split()\n",
    " word = values[0]\n",
    " coefs = np.asarray(values[1:], dtype='float32')\n",
    " embeddings_index[word] = coefs\n",
    "f.close()\n",
    "print('Loaded %s word vectors.' % len(embeddings_index))"
   ]
  },
  {
   "cell_type": "code",
   "execution_count": 230,
   "metadata": {
    "id": "CROMco2dn-Xx"
   },
   "outputs": [],
   "source": [
    "# create a weight matrix for words in training docs\n",
    "embedding_matrix = np.zeros((vocab_size, 50))\n",
    "for word, i in tokenizer.word_index.items():\n",
    " embedding_vector = embeddings_index.get(word)\n",
    " if embedding_vector is not None:\n",
    "   embedding_matrix[i] = embedding_vector"
   ]
  },
  {
   "cell_type": "code",
   "execution_count": 231,
   "metadata": {
    "id": "p-62SzNCoBaW"
   },
   "outputs": [],
   "source": [
    "from numpy import array\n",
    "from numpy import asarray\n",
    "from numpy import zeros\n",
    "from keras.preprocessing.text import Tokenizer\n",
    "from keras_preprocessing.sequence import pad_sequences\n",
    "from keras.models import Sequential\n",
    "from keras.layers import Dense\n",
    "from keras.layers import Flatten\n",
    "from keras.layers import Embedding"
   ]
  },
  {
   "cell_type": "code",
   "execution_count": 232,
   "metadata": {
    "id": "UHEM0OJVoI2q"
   },
   "outputs": [],
   "source": [
    "e = Embedding(vocab_size, 50, weights=[embedding_matrix], trainable=False)"
   ]
  },
  {
   "cell_type": "markdown",
   "metadata": {
    "id": "r6ANvUOpK8Ma"
   },
   "source": [
    "here we pad the data:"
   ]
  },
  {
   "cell_type": "code",
   "execution_count": 233,
   "metadata": {
    "id": "2g2oIHdxoLOq"
   },
   "outputs": [],
   "source": [
    "padded_all_train= pad_sequences(list(tokenized_txt_train_lem), maxlen=MAXLEN, padding=\"post\")\n",
    "padded_all_dev = pad_sequences(list(tokenized_txt_dev_lem), maxlen=MAXLEN, padding=\"post\")\n",
    "padded_all_test = pad_sequences(list(tokenized_txt_test_lem), maxlen=MAXLEN, padding=\"post\")"
   ]
  },
  {
   "cell_type": "markdown",
   "metadata": {
    "id": "q183BsgRLHhL"
   },
   "source": [
    "here we load the labels:"
   ]
  },
  {
   "cell_type": "code",
   "execution_count": 234,
   "metadata": {
    "id": "w8rYLoCloPaH"
   },
   "outputs": [],
   "source": [
    "# loading sentiments\n",
    "with open('/content/MSCTD/MSCTD_data/ende/sentiment_train.txt') as f:\n",
    "  sentiment_train = [int(line.rstrip('\\n')) for line in f]\n",
    "with open('/content/MSCTD/MSCTD_data/ende/sentiment_dev.txt') as f:\n",
    "  sentiment_dev = [int(line.rstrip('\\n')) for line in f]\n",
    "with open('/content/MSCTD/MSCTD_data/ende/sentiment_test.txt') as f:\n",
    "  sentiment_test = [int(line.rstrip('\\n')) for line in f]"
   ]
  },
  {
   "cell_type": "code",
   "execution_count": 235,
   "metadata": {
    "id": "MM52584koRy3"
   },
   "outputs": [],
   "source": [
    "import tensorflow as tf\n",
    "sentiment_train_1hot= tf.convert_to_tensor(tf.keras.utils.to_categorical(np.asarray(sentiment_train)))\n",
    "sentiment_dev_1hot = tf.convert_to_tensor(tf.keras.utils.to_categorical(np.asarray(sentiment_dev)))"
   ]
  },
  {
   "cell_type": "code",
   "execution_count": 236,
   "metadata": {
    "colab": {
     "base_uri": "https://localhost:8080/"
    },
    "id": "RnejfYV0oTwf",
    "outputId": "42849a1e-883e-4137-da6e-af7f33857c3c"
   },
   "outputs": [
    {
     "data": {
      "text/plain": [
       "<tf.Tensor: shape=(3,), dtype=float32, numpy=array([1., 0., 0.], dtype=float32)>"
      ]
     },
     "execution_count": 236,
     "metadata": {},
     "output_type": "execute_result"
    }
   ],
   "source": [
    "sentiment_train_1hot[1]"
   ]
  },
  {
   "cell_type": "markdown",
   "metadata": {
    "id": "RYwVo7HeLpZS"
   },
   "source": [
    "here we form the processed train, validation and test data and save them:"
   ]
  },
  {
   "cell_type": "code",
   "execution_count": 237,
   "metadata": {
    "id": "cFWMgYUUoWQ0"
   },
   "outputs": [],
   "source": [
    "array_train = np.asarray(padded_all_train)\n",
    "array_dev = np.asarray(padded_all_dev)"
   ]
  },
  {
   "cell_type": "code",
   "execution_count": 238,
   "metadata": {
    "id": "GWWASWfjoXtK"
   },
   "outputs": [],
   "source": [
    "array_test = np.asarray(padded_all_test)"
   ]
  },
  {
   "cell_type": "code",
   "execution_count": 239,
   "metadata": {
    "id": "wbvM0XbAonbo"
   },
   "outputs": [],
   "source": [
    "import pickle\n",
    "with open(\"/content/gdrive/MyDrive/phase3/traintext/train\", \"wb\") as fp:   #Pickling\n",
    "  pickle.dump(array_train, fp)\n",
    "with open(\"/content/gdrive/MyDrive/phase3/devtext/dev\", \"wb\") as fp:   #Pickling\n",
    "  pickle.dump(array_dev, fp)\n",
    "with open(\"/content/gdrive/MyDrive/phase3/testtext/test\", \"wb\") as fp:   #Pickling\n",
    "  pickle.dump(array_test, fp)"
   ]
  },
  {
   "cell_type": "markdown",
   "metadata": {
    "id": "0nxZUkfWLxZK"
   },
   "source": [
    "here we load the saved data. we use these datas as of now:"
   ]
  },
  {
   "cell_type": "code",
   "execution_count": 240,
   "metadata": {
    "id": "hm7Fb3eqpNXd"
   },
   "outputs": [],
   "source": [
    "with open(\"/content/gdrive/MyDrive/phase3/traintext/train\", \"rb\") as fp:   #Pickling\n",
    "  array_train =  pickle.load(fp)\n",
    "with open(\"/content/gdrive/MyDrive/phase3/devtext/dev\", \"rb\") as fp:   #Pickling\n",
    "  array_dev = pickle.load(fp)\n",
    "with open(\"/content/gdrive/MyDrive/phase3/testtext/test\", \"rb\") as fp:   #Pickling\n",
    "  array_test = pickle.load(fp)"
   ]
  },
  {
   "cell_type": "code",
   "execution_count": 241,
   "metadata": {
    "colab": {
     "base_uri": "https://localhost:8080/"
    },
    "id": "_4Kh4Ym_oZLh",
    "outputId": "33fdbcf2-bc73-48a5-aacb-001dde68b5fc"
   },
   "outputs": [
    {
     "name": "stderr",
     "output_type": "stream",
     "text": [
      "WARNING:tensorflow:Layer lstm will not use cuDNN kernels since it doesn't meet the criteria. It will use a generic GPU kernel as fallback when running on GPU.\n",
      "WARNING:tensorflow:Layer lstm_1 will not use cuDNN kernels since it doesn't meet the criteria. It will use a generic GPU kernel as fallback when running on GPU.\n"
     ]
    },
    {
     "name": "stdout",
     "output_type": "stream",
     "text": [
      "Model: \"sequential\"\n",
      "_________________________________________________________________\n",
      " Layer (type)                Output Shape              Param #   \n",
      "=================================================================\n",
      " embedding_1 (Embedding)     (None, None, 50)          457700    \n",
      "                                                                 \n",
      " lstm (LSTM)                 (None, None, 64)          29440     \n",
      "                                                                 \n",
      " lstm_1 (LSTM)               (None, 16)                5184      \n",
      "                                                                 \n",
      " dense (Dense)               (None, 3)                 51        \n",
      "                                                                 \n",
      "=================================================================\n",
      "Total params: 492,375\n",
      "Trainable params: 492,375\n",
      "Non-trainable params: 0\n",
      "_________________________________________________________________\n",
      "None\n"
     ]
    }
   ],
   "source": [
    "from keras.models import Sequential\n",
    "from keras.layers import Dense, Embedding, LSTM, SpatialDropout1D,Bidirectional\n",
    "from sklearn.model_selection import train_test_split\n",
    "\n",
    "\n",
    "e = Embedding(vocab_size, 50, weights=[embedding_matrix], trainable=True)\n",
    "model3 = Sequential()\n",
    "model3.add(e)\n",
    "model3.add(LSTM(64,return_sequences=True, dropout=0.2, recurrent_dropout=0.2))\n",
    "model3.add(LSTM(16, dropout=0.2, recurrent_dropout=0.2))\n",
    "model3.add(Dense(3,activation='softmax'))\n",
    "model3.compile(loss = 'categorical_crossentropy', optimizer='adam',metrics = ['accuracy'])\n",
    "print(model3.summary())"
   ]
  },
  {
   "cell_type": "markdown",
   "metadata": {
    "id": "sVt51NcNMR-f"
   },
   "source": [
    "here we train the model:"
   ]
  },
  {
   "cell_type": "code",
   "execution_count": 245,
   "metadata": {
    "colab": {
     "base_uri": "https://localhost:8080/"
    },
    "id": "qNnm78HBoa4e",
    "outputId": "95a94c0d-3f6b-4de3-a32a-52ad2e48b176"
   },
   "outputs": [
    {
     "name": "stdout",
     "output_type": "stream",
     "text": [
      "Epoch 1/10\n",
      "317/317 [==============================] - 65s 183ms/step - loss: 0.8811 - accuracy: 0.5996 - val_loss: 0.9974 - val_accuracy: 0.5321\n",
      "Epoch 2/10\n",
      "317/317 [==============================] - 59s 185ms/step - loss: 0.8502 - accuracy: 0.6186 - val_loss: 0.9905 - val_accuracy: 0.5258\n",
      "Epoch 3/10\n",
      "317/317 [==============================] - 54s 170ms/step - loss: 0.8208 - accuracy: 0.6371 - val_loss: 1.0185 - val_accuracy: 0.5210\n",
      "Epoch 4/10\n",
      "317/317 [==============================] - 51s 160ms/step - loss: 0.7846 - accuracy: 0.6537 - val_loss: 1.0559 - val_accuracy: 0.5169\n",
      "Epoch 5/10\n",
      "317/317 [==============================] - 54s 170ms/step - loss: 0.7528 - accuracy: 0.6726 - val_loss: 1.0363 - val_accuracy: 0.5204\n",
      "Epoch 6/10\n",
      "317/317 [==============================] - 52s 165ms/step - loss: 0.7151 - accuracy: 0.6900 - val_loss: 1.0947 - val_accuracy: 0.5210\n",
      "Epoch 7/10\n",
      "317/317 [==============================] - 52s 163ms/step - loss: 0.6836 - accuracy: 0.7045 - val_loss: 1.1120 - val_accuracy: 0.5167\n",
      "Epoch 8/10\n",
      "317/317 [==============================] - 51s 161ms/step - loss: 0.6576 - accuracy: 0.7194 - val_loss: 1.1639 - val_accuracy: 0.5116\n",
      "Epoch 9/10\n",
      "317/317 [==============================] - 52s 165ms/step - loss: 0.6310 - accuracy: 0.7280 - val_loss: 1.2224 - val_accuracy: 0.5072\n",
      "Epoch 10/10\n",
      "317/317 [==============================] - 55s 173ms/step - loss: 0.6044 - accuracy: 0.7381 - val_loss: 1.2324 - val_accuracy: 0.5015\n"
     ]
    },
    {
     "data": {
      "text/plain": [
       "<keras.callbacks.History at 0x7fb10f517c70>"
      ]
     },
     "execution_count": 245,
     "metadata": {},
     "output_type": "execute_result"
    }
   ],
   "source": [
    "from tensorflow.keras.callbacks import ModelCheckpoint\n",
    "batch_size = 64\n",
    "\n",
    "mcp_save = ModelCheckpoint('/content/gdrive/MyDrive/phase3/model', save_best_only=True, monitor='val_loss', mode='min')\n",
    "\n",
    "\n",
    "\n",
    "model3.fit(array_train, sentiment_train_1hot,validation_data=(array_dev, sentiment_dev_1hot),epochs = 10, batch_size=batch_size, verbose = 1, callbacks= [mcp_save] )"
   ]
  },
  {
   "cell_type": "code",
   "execution_count": 244,
   "metadata": {
    "colab": {
     "base_uri": "https://localhost:8080/"
    },
    "id": "doYK4NjVqZ69",
    "outputId": "cdb7c91d-71e4-4acb-9d33-0c84c3ae305f"
   },
   "outputs": [
    {
     "name": "stderr",
     "output_type": "stream",
     "text": [
      "WARNING:tensorflow:Layer lstm will not use cuDNN kernels since it doesn't meet the criteria. It will use a generic GPU kernel as fallback when running on GPU.\n",
      "WARNING:tensorflow:Layer lstm_1 will not use cuDNN kernels since it doesn't meet the criteria. It will use a generic GPU kernel as fallback when running on GPU.\n"
     ]
    }
   ],
   "source": [
    "\n",
    "from keras.models import load_model\n",
    "model3 = load_model('/content/gdrive/MyDrive/phase3/model')"
   ]
  },
  {
   "cell_type": "markdown",
   "metadata": {
    "id": "if95kbbVW7KN"
   },
   "source": [
    "now we evaluate our model:"
   ]
  },
  {
   "cell_type": "code",
   "execution_count": 246,
   "metadata": {
    "colab": {
     "base_uri": "https://localhost:8080/"
    },
    "id": "1apG0tdkTSQT",
    "outputId": "a0ae8569-d101-448e-92cb-0c304bc0b943"
   },
   "outputs": [
    {
     "name": "stdout",
     "output_type": "stream",
     "text": [
      "              precision    recall  f1-score   support\n",
      "\n",
      "           0       0.78      0.75      0.77      6922\n",
      "           1       0.76      0.84      0.80      7835\n",
      "           2       0.79      0.71      0.75      5483\n",
      "\n",
      "    accuracy                           0.78     20240\n",
      "   macro avg       0.78      0.77      0.77     20240\n",
      "weighted avg       0.78      0.78      0.77     20240\n",
      "\n"
     ]
    }
   ],
   "source": [
    "from sklearn.metrics import classification_report\n",
    "y_pred_train = model3.predict(array_train, batch_size=64, verbose=0)\n",
    "y_pred_bool = np.argmax(y_pred_train, axis=1)\n",
    "print(classification_report(sentiment_train, y_pred_bool))"
   ]
  },
  {
   "cell_type": "code",
   "execution_count": 247,
   "metadata": {
    "colab": {
     "base_uri": "https://localhost:8080/"
    },
    "id": "_XiX_lZkUMT-",
    "outputId": "3089b4b4-3855-4c30-c87b-d8aecdb2685e"
   },
   "outputs": [
    {
     "name": "stdout",
     "output_type": "stream",
     "text": [
      "              precision    recall  f1-score   support\n",
      "\n",
      "           0       0.47      0.47      0.47      1777\n",
      "           1       0.52      0.61      0.56      1838\n",
      "           2       0.52      0.41      0.46      1448\n",
      "\n",
      "    accuracy                           0.50      5063\n",
      "   macro avg       0.50      0.49      0.50      5063\n",
      "weighted avg       0.50      0.50      0.50      5063\n",
      "\n"
     ]
    }
   ],
   "source": [
    "from sklearn.metrics import classification_report\n",
    "y_pred_val = model3.predict(array_dev, batch_size=64, verbose=0)\n",
    "y_pred_bool = np.argmax(y_pred_val, axis=1)\n",
    "print(classification_report(sentiment_dev, y_pred_bool))"
   ]
  },
  {
   "cell_type": "code",
   "execution_count": 249,
   "metadata": {
    "colab": {
     "base_uri": "https://localhost:8080/"
    },
    "id": "wZbLrx_yUNhy",
    "outputId": "f5a63ac8-7141-4e18-b77c-dbb2c6218f34"
   },
   "outputs": [
    {
     "name": "stdout",
     "output_type": "stream",
     "text": [
      "              precision    recall  f1-score   support\n",
      "\n",
      "           0       0.36      0.49      0.42      1298\n",
      "           1       0.60      0.58      0.59      2163\n",
      "           2       0.55      0.41      0.47      1606\n",
      "\n",
      "    accuracy                           0.51      5067\n",
      "   macro avg       0.50      0.50      0.49      5067\n",
      "weighted avg       0.52      0.51      0.51      5067\n",
      "\n"
     ]
    }
   ],
   "source": [
    "from sklearn.metrics import classification_report\n",
    "y_pred_test = model3.predict(array_test, batch_size=64, verbose=0)\n",
    "y_pred_bool = np.argmax(y_pred_test, axis=1)\n",
    "print(classification_report(sentiment_test, y_pred_bool))"
   ]
  },
  {
   "cell_type": "markdown",
   "metadata": {
    "id": "hiaTVmspXBiR"
   },
   "source": [
    "now we add the language part to the end of the image and face data:"
   ]
  },
  {
   "cell_type": "code",
   "execution_count": 139,
   "metadata": {
    "colab": {
     "base_uri": "https://localhost:8080/"
    },
    "id": "UQvEykMiVZ_f",
    "outputId": "da2160c8-989f-436d-cde0-a860980180b9"
   },
   "outputs": [
    {
     "name": "stderr",
     "output_type": "stream",
     "text": [
      "extracting faces... : 100%|██████████| 20240/20240 [00:00<00:00, 48995.80it/s]\n"
     ]
    }
   ],
   "source": [
    "combined=torch.zeros(len(inp),8*3+1)\n",
    "counter = 0\n",
    "for i in tqdm(range(len(inp)), total = len(inp), desc=\"extracting faces... \"):\n",
    "  combined[i,:-3]=inp[i]# loading file\n",
    "  combined[i,-4:-1]=torch.from_numpy(np.array(y_pred_train[i]))"
   ]
  },
  {
   "cell_type": "code",
   "execution_count": 140,
   "metadata": {
    "colab": {
     "base_uri": "https://localhost:8080/"
    },
    "id": "uftnVlRQa0G_",
    "outputId": "f640d6c6-e37b-4f02-b19f-2d77cff2a513"
   },
   "outputs": [
    {
     "name": "stderr",
     "output_type": "stream",
     "text": [
      "extracting faces... : 100%|██████████| 5063/5063 [00:00<00:00, 46418.38it/s]\n"
     ]
    }
   ],
   "source": [
    "combined_v=torch.zeros(len(inp_v),8*3+1)\n",
    "counter = 0\n",
    "for i in tqdm(range(len(inp_v)), total = len(inp_v), desc=\"extracting faces... \"):\n",
    "  combined_v[i,:-3]=inp_v[i]# loading file\n",
    "  combined_v[i,-4:-1]=torch.from_numpy(np.array(y_pred_val[i]))"
   ]
  },
  {
   "cell_type": "code",
   "execution_count": 141,
   "metadata": {
    "colab": {
     "base_uri": "https://localhost:8080/"
    },
    "id": "V75ADYgFbR7P",
    "outputId": "1a5a3db0-7fcc-42ba-dc35-13b87accf863"
   },
   "outputs": [
    {
     "name": "stderr",
     "output_type": "stream",
     "text": [
      "extracting faces... : 100%|██████████| 5067/5067 [00:00<00:00, 46837.24it/s]\n"
     ]
    }
   ],
   "source": [
    "combined_t=torch.zeros(len(inp_t),8*3+1)\n",
    "counter = 0\n",
    "for i in tqdm(range(len(inp_t)), total = len(inp_t), desc=\"extracting faces... \"):\n",
    "  combined_t[i,:-3]=inp_t[i]# loading file\n",
    "  combined_t[i,-4:-1]=torch.from_numpy(np.array(y_pred_test[i]))"
   ]
  },
  {
   "cell_type": "code",
   "execution_count": 142,
   "metadata": {
    "colab": {
     "base_uri": "https://localhost:8080/"
    },
    "id": "WcZCmhbRaAEe",
    "outputId": "0cb61673-7af0-4a40-952a-831fb0cb9c79"
   },
   "outputs": [
    {
     "name": "stdout",
     "output_type": "stream",
     "text": [
      "torch.Size([20240, 25])\n"
     ]
    }
   ],
   "source": [
    "print(combined.shape)"
   ]
  },
  {
   "cell_type": "markdown",
   "metadata": {
    "id": "uYoSGLjRYui9"
   },
   "source": [
    "here we train SVM for the newly concatenated data:\n",
    "\n",
    "first: train"
   ]
  },
  {
   "cell_type": "code",
   "execution_count": 259,
   "metadata": {
    "colab": {
     "base_uri": "https://localhost:8080/"
    },
    "id": "F1qRFgruaeD1",
    "outputId": "7bb4ff8d-c4a2-42ed-d2cb-f377b95ed6da"
   },
   "outputs": [
    {
     "name": "stdout",
     "output_type": "stream",
     "text": [
      "svm based model accuracy = 0.7905632411067194\n"
     ]
    }
   ],
   "source": [
    "from sklearn import svm, datasets\n",
    "import sklearn.model_selection as model_selection\n",
    "from sklearn.metrics import accuracy_score\n",
    "from sklearn.metrics import f1_score\n",
    "rbf2 = svm.SVC(kernel='rbf', gamma=0.5, C=50).fit(combined,sentiment_train)\n",
    "pred2_train= rbf2.predict(combined)\n",
    "acc = np.sum(pred2_train == sentiment_train)/len(pred2_train)\n",
    "print(f\"svm based model accuracy = {acc}\")"
   ]
  },
  {
   "cell_type": "markdown",
   "metadata": {
    "id": "U-NAlUZNaWY5"
   },
   "source": [
    "validation:"
   ]
  },
  {
   "cell_type": "code",
   "execution_count": 260,
   "metadata": {
    "colab": {
     "base_uri": "https://localhost:8080/"
    },
    "id": "zMnDUTkYb1ja",
    "outputId": "840fbb99-8f8e-4a95-8570-a0fcc7b74e48"
   },
   "outputs": [
    {
     "name": "stdout",
     "output_type": "stream",
     "text": [
      "svm based model accuracy = 0.5192573572980447\n"
     ]
    }
   ],
   "source": [
    "from sklearn import svm, datasets\n",
    "import sklearn.model_selection as model_selection\n",
    "from sklearn.metrics import accuracy_score\n",
    "from sklearn.metrics import f1_score\n",
    "#rbf2 = svm.SVC(kernel='rbf', gamma=0.5, C=10).fit(combined,sentiment_train)\n",
    "pred2_val= rbf2.predict(combined_v)\n",
    "acc = np.sum(pred2_val == sentiment_dev)/len(pred2_val)\n",
    "print(f\"svm based model accuracy = {acc}\")"
   ]
  },
  {
   "cell_type": "markdown",
   "metadata": {
    "id": "5IGRoF3UaYaK"
   },
   "source": [
    "test:"
   ]
  },
  {
   "cell_type": "code",
   "execution_count": 261,
   "metadata": {
    "colab": {
     "base_uri": "https://localhost:8080/"
    },
    "id": "7qEVGrbrcD66",
    "outputId": "d02251be-7aa3-4902-b8dd-4b30fa912a0a"
   },
   "outputs": [
    {
     "name": "stdout",
     "output_type": "stream",
     "text": [
      "svm based model accuracy = 0.5162818235642392\n"
     ]
    }
   ],
   "source": [
    "from sklearn import svm, datasets\n",
    "import sklearn.model_selection as model_selection\n",
    "from sklearn.metrics import accuracy_score\n",
    "from sklearn.metrics import f1_score\n",
    "#rbf2 = svm.SVC(kernel='rbf', gamma=0.5, C=10).fit(combined,sentiment_train)\n",
    "pred2_test= rbf2.predict(combined_t)\n",
    "acc = np.sum(pred2_test == sentiment_test)/len(pred2_test)\n",
    "print(f\"svm based model accuracy = {acc}\")"
   ]
  },
  {
   "cell_type": "markdown",
   "metadata": {
    "id": "316sx71Uc6bz"
   },
   "source": [
    "now we define dataset and data loader for our new data:"
   ]
  },
  {
   "cell_type": "code",
   "execution_count": 262,
   "metadata": {
    "id": "1kyYbky2d18f"
   },
   "outputs": [],
   "source": [
    "batch_size = 64\n",
    "train_dataset2= comb_Dataset(inp=combined,labels=sentiment_train)\n",
    "train_loader2= DataLoader(train_dataset2,batch_size=batch_size,shuffle = True)"
   ]
  },
  {
   "cell_type": "code",
   "execution_count": 263,
   "metadata": {
    "id": "UMYdO4eqeD8s"
   },
   "outputs": [],
   "source": [
    "batch_size = 64\n",
    "val_dataset2= comb_Dataset(inp=combined_v,labels=sentiment_dev)\n",
    "val_loader2= DataLoader(val_dataset2,batch_size=batch_size,shuffle = True)"
   ]
  },
  {
   "cell_type": "code",
   "execution_count": 264,
   "metadata": {
    "id": "i6SfAmxaeNh3"
   },
   "outputs": [],
   "source": [
    "batch_size = 64\n",
    "test_dataset2= comb_Dataset(inp=combined_t,labels=sentiment_test)\n",
    "test_loader2= DataLoader(test_dataset2,batch_size=batch_size,shuffle = True)"
   ]
  },
  {
   "cell_type": "markdown",
   "metadata": {
    "id": "4nKF8C1sdDz0"
   },
   "source": [
    "here we define a MLP classification model for our new data:"
   ]
  },
  {
   "cell_type": "code",
   "execution_count": 275,
   "metadata": {
    "id": "nsGFFPgMc0GJ"
   },
   "outputs": [],
   "source": [
    "import torch.nn as nn\n",
    "import torch.nn.functional as F\n",
    "\n",
    "\n",
    "class Net2(nn.Module):\n",
    "  def __init__(self):\n",
    "    super(Net2, self).__init__()\n",
    "    self.layers=nn.Sequential(\n",
    "        nn.Linear(3*(6+1+1)+1,64),\n",
    "        nn.ReLU(),\n",
    "        nn.Linear(64,16),\n",
    "        nn.Dropout(p=0.2),\n",
    "        nn.ReLU(),\n",
    "        nn.Dropout(p=0.2),\n",
    "        nn.Linear(16,8),\n",
    "        nn.ReLU(),\n",
    "        nn.Linear(8,3)\n",
    "    )\n",
    "  def forward(self, x):\n",
    "    return self.layers(x)\n",
    "\n",
    "\n",
    "net2 = Net2()"
   ]
  },
  {
   "cell_type": "markdown",
   "metadata": {
    "id": "D4Zo1CesdLH9"
   },
   "source": [
    "and we train that model:"
   ]
  },
  {
   "cell_type": "code",
   "execution_count": 276,
   "metadata": {
    "colab": {
     "base_uri": "https://localhost:8080/"
    },
    "id": "6sXpo2fLfP7d",
    "outputId": "24873b53-749b-443a-b657-75bdcbecd9dc"
   },
   "outputs": [
    {
     "name": "stderr",
     "output_type": "stream",
     "text": [
      "training... : 100%|██████████| 317/317 [00:00<00:00, 351.00it/s]\n",
      "Validating... : 100%|██████████| 80/80 [00:00<00:00, 1239.47it/s]\n"
     ]
    },
    {
     "name": "stdout",
     "output_type": "stream",
     "text": [
      "Epoch: 0 | Loss: 1.30917, Acc: 65.00% | Test Loss: 0.02943, Test Acc: 52.99%\n"
     ]
    },
    {
     "name": "stderr",
     "output_type": "stream",
     "text": [
      "training... : 100%|██████████| 317/317 [00:00<00:00, 338.93it/s]\n",
      "Validating... : 100%|██████████| 80/80 [00:00<00:00, 1298.19it/s]\n"
     ]
    },
    {
     "name": "stdout",
     "output_type": "stream",
     "text": [
      "Epoch: 1 | Loss: 1.14066, Acc: 70.85% | Test Loss: 0.02259, Test Acc: 53.05%\n"
     ]
    },
    {
     "name": "stderr",
     "output_type": "stream",
     "text": [
      "training... : 100%|██████████| 317/317 [00:00<00:00, 345.28it/s]\n",
      "Validating... : 100%|██████████| 80/80 [00:00<00:00, 1372.73it/s]\n"
     ]
    },
    {
     "name": "stdout",
     "output_type": "stream",
     "text": [
      "Epoch: 2 | Loss: 1.12220, Acc: 71.04% | Test Loss: 0.01441, Test Acc: 52.93%\n"
     ]
    },
    {
     "name": "stderr",
     "output_type": "stream",
     "text": [
      "training... : 100%|██████████| 317/317 [00:00<00:00, 336.14it/s]\n",
      "Validating... : 100%|██████████| 80/80 [00:00<00:00, 1134.89it/s]\n"
     ]
    },
    {
     "name": "stdout",
     "output_type": "stream",
     "text": [
      "Epoch: 3 | Loss: 1.11199, Acc: 71.32% | Test Loss: 0.01697, Test Acc: 52.99%\n"
     ]
    },
    {
     "name": "stderr",
     "output_type": "stream",
     "text": [
      "training... : 100%|██████████| 317/317 [00:00<00:00, 344.06it/s]\n",
      "Validating... : 100%|██████████| 80/80 [00:00<00:00, 1311.89it/s]\n"
     ]
    },
    {
     "name": "stdout",
     "output_type": "stream",
     "text": [
      "Epoch: 4 | Loss: 1.10760, Acc: 71.19% | Test Loss: 0.02538, Test Acc: 52.79%\n"
     ]
    },
    {
     "name": "stderr",
     "output_type": "stream",
     "text": [
      "training... : 100%|██████████| 317/317 [00:00<00:00, 340.04it/s]\n",
      "Validating... : 100%|██████████| 80/80 [00:00<00:00, 1306.94it/s]\n"
     ]
    },
    {
     "name": "stdout",
     "output_type": "stream",
     "text": [
      "Epoch: 5 | Loss: 1.10293, Acc: 71.60% | Test Loss: 0.02523, Test Acc: 52.93%\n"
     ]
    },
    {
     "name": "stderr",
     "output_type": "stream",
     "text": [
      "training... : 100%|██████████| 317/317 [00:00<00:00, 338.85it/s]\n",
      "Validating... : 100%|██████████| 80/80 [00:00<00:00, 1306.68it/s]\n"
     ]
    },
    {
     "name": "stdout",
     "output_type": "stream",
     "text": [
      "Epoch: 6 | Loss: 1.09431, Acc: 71.49% | Test Loss: 0.02925, Test Acc: 52.95%\n"
     ]
    },
    {
     "name": "stderr",
     "output_type": "stream",
     "text": [
      "training... : 100%|██████████| 317/317 [00:01<00:00, 276.53it/s]\n",
      "Validating... : 100%|██████████| 80/80 [00:00<00:00, 948.58it/s]\n"
     ]
    },
    {
     "name": "stdout",
     "output_type": "stream",
     "text": [
      "Epoch: 7 | Loss: 1.09233, Acc: 71.67% | Test Loss: 0.01731, Test Acc: 53.11%\n"
     ]
    },
    {
     "name": "stderr",
     "output_type": "stream",
     "text": [
      "training... : 100%|██████████| 317/317 [00:01<00:00, 256.06it/s]\n",
      "Validating... : 100%|██████████| 80/80 [00:00<00:00, 886.31it/s]\n"
     ]
    },
    {
     "name": "stdout",
     "output_type": "stream",
     "text": [
      "Epoch: 8 | Loss: 1.08775, Acc: 71.79% | Test Loss: 0.02600, Test Acc: 52.93%\n"
     ]
    },
    {
     "name": "stderr",
     "output_type": "stream",
     "text": [
      "training... : 100%|██████████| 317/317 [00:01<00:00, 245.54it/s]\n",
      "Validating... : 100%|██████████| 80/80 [00:00<00:00, 880.69it/s]\n"
     ]
    },
    {
     "name": "stdout",
     "output_type": "stream",
     "text": [
      "Epoch: 9 | Loss: 1.08895, Acc: 71.85% | Test Loss: 0.02184, Test Acc: 53.15%\n"
     ]
    },
    {
     "name": "stderr",
     "output_type": "stream",
     "text": [
      "training... : 100%|██████████| 317/317 [00:01<00:00, 219.41it/s]\n",
      "Validating... : 100%|██████████| 80/80 [00:00<00:00, 824.19it/s]\n"
     ]
    },
    {
     "name": "stdout",
     "output_type": "stream",
     "text": [
      "Epoch: 10 | Loss: 1.09016, Acc: 71.54% | Test Loss: 0.02757, Test Acc: 52.74%\n"
     ]
    },
    {
     "name": "stderr",
     "output_type": "stream",
     "text": [
      "training... : 100%|██████████| 317/317 [00:01<00:00, 315.51it/s]\n",
      "Validating... : 100%|██████████| 80/80 [00:00<00:00, 1280.63it/s]\n"
     ]
    },
    {
     "name": "stdout",
     "output_type": "stream",
     "text": [
      "Epoch: 11 | Loss: 1.08490, Acc: 71.66% | Test Loss: 0.02150, Test Acc: 52.91%\n"
     ]
    },
    {
     "name": "stderr",
     "output_type": "stream",
     "text": [
      "training... : 100%|██████████| 317/317 [00:00<00:00, 338.92it/s]\n",
      "Validating... : 100%|██████████| 80/80 [00:00<00:00, 1329.03it/s]\n"
     ]
    },
    {
     "name": "stdout",
     "output_type": "stream",
     "text": [
      "Epoch: 12 | Loss: 1.08402, Acc: 71.93% | Test Loss: 0.01257, Test Acc: 52.81%\n"
     ]
    },
    {
     "name": "stderr",
     "output_type": "stream",
     "text": [
      "training... : 100%|██████████| 317/317 [00:00<00:00, 340.94it/s]\n",
      "Validating... : 100%|██████████| 80/80 [00:00<00:00, 1245.86it/s]\n"
     ]
    },
    {
     "name": "stdout",
     "output_type": "stream",
     "text": [
      "Epoch: 13 | Loss: 1.08577, Acc: 71.73% | Test Loss: 0.03352, Test Acc: 52.93%\n"
     ]
    },
    {
     "name": "stderr",
     "output_type": "stream",
     "text": [
      "training... : 100%|██████████| 317/317 [00:00<00:00, 331.03it/s]\n",
      "Validating... : 100%|██████████| 80/80 [00:00<00:00, 1275.51it/s]\n"
     ]
    },
    {
     "name": "stdout",
     "output_type": "stream",
     "text": [
      "Epoch: 14 | Loss: 1.08123, Acc: 71.92% | Test Loss: 0.02593, Test Acc: 52.68%\n"
     ]
    },
    {
     "name": "stderr",
     "output_type": "stream",
     "text": [
      "training... : 100%|██████████| 317/317 [00:00<00:00, 336.37it/s]\n",
      "Validating... : 100%|██████████| 80/80 [00:00<00:00, 1253.24it/s]\n"
     ]
    },
    {
     "name": "stdout",
     "output_type": "stream",
     "text": [
      "Epoch: 15 | Loss: 1.08111, Acc: 71.84% | Test Loss: 0.02559, Test Acc: 52.85%\n"
     ]
    },
    {
     "name": "stderr",
     "output_type": "stream",
     "text": [
      "training... : 100%|██████████| 317/317 [00:00<00:00, 347.92it/s]\n",
      "Validating... : 100%|██████████| 80/80 [00:00<00:00, 1353.85it/s]\n"
     ]
    },
    {
     "name": "stdout",
     "output_type": "stream",
     "text": [
      "Epoch: 16 | Loss: 1.07702, Acc: 72.09% | Test Loss: 0.00964, Test Acc: 53.01%\n"
     ]
    },
    {
     "name": "stderr",
     "output_type": "stream",
     "text": [
      "training... : 100%|██████████| 317/317 [00:00<00:00, 340.59it/s]\n",
      "Validating... : 100%|██████████| 80/80 [00:00<00:00, 1276.90it/s]\n"
     ]
    },
    {
     "name": "stdout",
     "output_type": "stream",
     "text": [
      "Epoch: 17 | Loss: 1.07964, Acc: 71.91% | Test Loss: 0.02034, Test Acc: 52.50%\n"
     ]
    },
    {
     "name": "stderr",
     "output_type": "stream",
     "text": [
      "training... : 100%|██████████| 317/317 [00:00<00:00, 336.91it/s]\n",
      "Validating... : 100%|██████████| 80/80 [00:00<00:00, 1247.05it/s]\n"
     ]
    },
    {
     "name": "stdout",
     "output_type": "stream",
     "text": [
      "Epoch: 18 | Loss: 1.07575, Acc: 71.83% | Test Loss: 0.00789, Test Acc: 52.78%\n"
     ]
    },
    {
     "name": "stderr",
     "output_type": "stream",
     "text": [
      "training... : 100%|██████████| 317/317 [00:00<00:00, 337.43it/s]\n",
      "Validating... : 100%|██████████| 80/80 [00:00<00:00, 1294.98it/s]\n"
     ]
    },
    {
     "name": "stdout",
     "output_type": "stream",
     "text": [
      "Epoch: 19 | Loss: 1.07839, Acc: 71.75% | Test Loss: 0.03103, Test Acc: 52.79%\n"
     ]
    },
    {
     "name": "stderr",
     "output_type": "stream",
     "text": [
      "training... : 100%|██████████| 317/317 [00:00<00:00, 328.91it/s]\n",
      "Validating... : 100%|██████████| 80/80 [00:00<00:00, 916.73it/s]\n"
     ]
    },
    {
     "name": "stdout",
     "output_type": "stream",
     "text": [
      "Epoch: 20 | Loss: 1.07730, Acc: 71.85% | Test Loss: 0.01686, Test Acc: 52.78%\n"
     ]
    },
    {
     "name": "stderr",
     "output_type": "stream",
     "text": [
      "training... : 100%|██████████| 317/317 [00:01<00:00, 247.30it/s]\n",
      "Validating... : 100%|██████████| 80/80 [00:00<00:00, 937.33it/s]\n"
     ]
    },
    {
     "name": "stdout",
     "output_type": "stream",
     "text": [
      "Epoch: 21 | Loss: 1.07526, Acc: 72.05% | Test Loss: 0.01777, Test Acc: 52.48%\n"
     ]
    },
    {
     "name": "stderr",
     "output_type": "stream",
     "text": [
      "training... : 100%|██████████| 317/317 [00:01<00:00, 256.04it/s]\n",
      "Validating... : 100%|██████████| 80/80 [00:00<00:00, 915.51it/s]\n"
     ]
    },
    {
     "name": "stdout",
     "output_type": "stream",
     "text": [
      "Epoch: 22 | Loss: 1.07925, Acc: 71.84% | Test Loss: 0.01579, Test Acc: 52.64%\n"
     ]
    },
    {
     "name": "stderr",
     "output_type": "stream",
     "text": [
      "training... : 100%|██████████| 317/317 [00:01<00:00, 237.04it/s]\n",
      "Validating... : 100%|██████████| 80/80 [00:00<00:00, 706.90it/s]\n"
     ]
    },
    {
     "name": "stdout",
     "output_type": "stream",
     "text": [
      "Epoch: 23 | Loss: 1.07927, Acc: 71.87% | Test Loss: 0.00901, Test Acc: 52.48%\n"
     ]
    },
    {
     "name": "stderr",
     "output_type": "stream",
     "text": [
      "training... : 100%|██████████| 317/317 [00:01<00:00, 232.75it/s]\n",
      "Validating... : 100%|██████████| 80/80 [00:00<00:00, 1275.53it/s]\n"
     ]
    },
    {
     "name": "stdout",
     "output_type": "stream",
     "text": [
      "Epoch: 24 | Loss: 1.07842, Acc: 72.06% | Test Loss: 0.01832, Test Acc: 52.70%\n"
     ]
    },
    {
     "name": "stderr",
     "output_type": "stream",
     "text": [
      "training... : 100%|██████████| 317/317 [00:00<00:00, 337.77it/s]\n",
      "Validating... : 100%|██████████| 80/80 [00:00<00:00, 1321.45it/s]\n"
     ]
    },
    {
     "name": "stdout",
     "output_type": "stream",
     "text": [
      "Epoch: 25 | Loss: 1.07675, Acc: 72.01% | Test Loss: 0.02795, Test Acc: 52.40%\n"
     ]
    },
    {
     "name": "stderr",
     "output_type": "stream",
     "text": [
      "training... : 100%|██████████| 317/317 [00:00<00:00, 341.28it/s]\n",
      "Validating... : 100%|██████████| 80/80 [00:00<00:00, 1306.98it/s]\n"
     ]
    },
    {
     "name": "stdout",
     "output_type": "stream",
     "text": [
      "Epoch: 26 | Loss: 1.07540, Acc: 71.81% | Test Loss: 0.02054, Test Acc: 52.50%\n"
     ]
    },
    {
     "name": "stderr",
     "output_type": "stream",
     "text": [
      "training... : 100%|██████████| 317/317 [00:01<00:00, 278.41it/s]\n",
      "Validating... : 100%|██████████| 80/80 [00:00<00:00, 243.98it/s]\n"
     ]
    },
    {
     "name": "stdout",
     "output_type": "stream",
     "text": [
      "Epoch: 27 | Loss: 1.07146, Acc: 71.96% | Test Loss: 0.04204, Test Acc: 52.89%\n"
     ]
    },
    {
     "name": "stderr",
     "output_type": "stream",
     "text": [
      "training... : 100%|██████████| 317/317 [00:02<00:00, 114.41it/s]\n",
      "Validating... : 100%|██████████| 80/80 [00:00<00:00, 1252.81it/s]\n"
     ]
    },
    {
     "name": "stdout",
     "output_type": "stream",
     "text": [
      "Epoch: 28 | Loss: 1.07448, Acc: 72.04% | Test Loss: 0.02026, Test Acc: 52.40%\n"
     ]
    },
    {
     "name": "stderr",
     "output_type": "stream",
     "text": [
      "training... : 100%|██████████| 317/317 [00:00<00:00, 337.00it/s]\n",
      "Validating... : 100%|██████████| 80/80 [00:00<00:00, 1278.56it/s]\n"
     ]
    },
    {
     "name": "stdout",
     "output_type": "stream",
     "text": [
      "Epoch: 29 | Loss: 1.07242, Acc: 72.05% | Test Loss: 0.01888, Test Acc: 52.66%\n"
     ]
    },
    {
     "name": "stderr",
     "output_type": "stream",
     "text": [
      "training... : 100%|██████████| 317/317 [00:00<00:00, 338.53it/s]\n",
      "Validating... : 100%|██████████| 80/80 [00:00<00:00, 1240.47it/s]\n"
     ]
    },
    {
     "name": "stdout",
     "output_type": "stream",
     "text": [
      "Epoch: 30 | Loss: 1.07194, Acc: 71.86% | Test Loss: 0.02368, Test Acc: 52.64%\n"
     ]
    },
    {
     "name": "stderr",
     "output_type": "stream",
     "text": [
      "training... : 100%|██████████| 317/317 [00:00<00:00, 335.71it/s]\n",
      "Validating... : 100%|██████████| 80/80 [00:00<00:00, 1272.66it/s]\n"
     ]
    },
    {
     "name": "stdout",
     "output_type": "stream",
     "text": [
      "Epoch: 31 | Loss: 1.06989, Acc: 71.94% | Test Loss: 0.02400, Test Acc: 52.58%\n"
     ]
    },
    {
     "name": "stderr",
     "output_type": "stream",
     "text": [
      "training... : 100%|██████████| 317/317 [00:01<00:00, 268.20it/s]\n",
      "Validating... : 100%|██████████| 80/80 [00:00<00:00, 827.15it/s]\n"
     ]
    },
    {
     "name": "stdout",
     "output_type": "stream",
     "text": [
      "Epoch: 32 | Loss: 1.07473, Acc: 71.53% | Test Loss: 0.01856, Test Acc: 52.89%\n"
     ]
    },
    {
     "name": "stderr",
     "output_type": "stream",
     "text": [
      "training... : 100%|██████████| 317/317 [00:01<00:00, 256.82it/s]\n",
      "Validating... : 100%|██████████| 80/80 [00:00<00:00, 915.87it/s]\n"
     ]
    },
    {
     "name": "stdout",
     "output_type": "stream",
     "text": [
      "Epoch: 33 | Loss: 1.06660, Acc: 72.13% | Test Loss: 0.01414, Test Acc: 52.50%\n"
     ]
    },
    {
     "name": "stderr",
     "output_type": "stream",
     "text": [
      "training... : 100%|██████████| 317/317 [00:01<00:00, 241.07it/s]\n",
      "Validating... : 100%|██████████| 80/80 [00:00<00:00, 741.22it/s]\n"
     ]
    },
    {
     "name": "stdout",
     "output_type": "stream",
     "text": [
      "Epoch: 34 | Loss: 1.06814, Acc: 71.98% | Test Loss: 0.01906, Test Acc: 52.50%\n"
     ]
    },
    {
     "name": "stderr",
     "output_type": "stream",
     "text": [
      "training... : 100%|██████████| 317/317 [00:01<00:00, 219.90it/s]\n",
      "Validating... : 100%|██████████| 80/80 [00:00<00:00, 744.86it/s]\n"
     ]
    },
    {
     "name": "stdout",
     "output_type": "stream",
     "text": [
      "Epoch: 35 | Loss: 1.06532, Acc: 72.05% | Test Loss: 0.00875, Test Acc: 52.24%\n"
     ]
    },
    {
     "name": "stderr",
     "output_type": "stream",
     "text": [
      "training... : 100%|██████████| 317/317 [00:00<00:00, 326.91it/s]\n",
      "Validating... : 100%|██████████| 80/80 [00:00<00:00, 1230.89it/s]\n"
     ]
    },
    {
     "name": "stdout",
     "output_type": "stream",
     "text": [
      "Epoch: 36 | Loss: 1.06652, Acc: 72.19% | Test Loss: 0.01895, Test Acc: 52.36%\n"
     ]
    },
    {
     "name": "stderr",
     "output_type": "stream",
     "text": [
      "training... : 100%|██████████| 317/317 [00:00<00:00, 332.30it/s]\n",
      "Validating... : 100%|██████████| 80/80 [00:00<00:00, 1232.33it/s]\n"
     ]
    },
    {
     "name": "stdout",
     "output_type": "stream",
     "text": [
      "Epoch: 37 | Loss: 1.06647, Acc: 72.09% | Test Loss: 0.02784, Test Acc: 52.56%\n"
     ]
    },
    {
     "name": "stderr",
     "output_type": "stream",
     "text": [
      "training... : 100%|██████████| 317/317 [00:00<00:00, 331.83it/s]\n",
      "Validating... : 100%|██████████| 80/80 [00:00<00:00, 1207.06it/s]\n"
     ]
    },
    {
     "name": "stdout",
     "output_type": "stream",
     "text": [
      "Epoch: 38 | Loss: 1.06647, Acc: 72.03% | Test Loss: 0.01778, Test Acc: 52.89%\n"
     ]
    },
    {
     "name": "stderr",
     "output_type": "stream",
     "text": [
      "training... : 100%|██████████| 317/317 [00:00<00:00, 333.55it/s]\n",
      "Validating... : 100%|██████████| 80/80 [00:00<00:00, 1191.97it/s]"
     ]
    },
    {
     "name": "stdout",
     "output_type": "stream",
     "text": [
      "early stopping happend!\n",
      "Training complete in 0m 48s\n",
      "Best val Acc: 53.150307\n"
     ]
    },
    {
     "name": "stderr",
     "output_type": "stream",
     "text": [
      "\n"
     ]
    }
   ],
   "source": [
    "criterion = nn.CrossEntropyLoss()\n",
    "\n",
    "# Observe that only parameters of final layer are being optimized as\n",
    "# opposed to before.\n",
    "optimizer= optim.Adam(net2.parameters(), lr=0.001)\n",
    "# Decay LR by a factor of 0.5 every 20 epochs\n",
    "exp_lr_scheduler = lr_scheduler.StepLR(optimizer, step_size=100, gamma=0.1)\n",
    "\n",
    "net2 = net2.to(device)\n",
    "model_2_trained,best_loss2,best_acc2 = train_model_manual(net2, criterion, optimizer,exp_lr_scheduler,20,train_loader2,val_loader2,len(train_loader2),len(val_loader2),num_epochs=100)"
   ]
  },
  {
   "cell_type": "markdown",
   "metadata": {
    "id": "Y6FR_Whvde8z"
   },
   "source": [
    "now we evaluate our model:\n",
    "\n",
    "train:"
   ]
  },
  {
   "cell_type": "code",
   "execution_count": 277,
   "metadata": {
    "colab": {
     "base_uri": "https://localhost:8080/"
    },
    "id": "lYk-y9KfdtSL",
    "outputId": "73ce357a-02e2-4d70-c1a9-d32b34ff14eb"
   },
   "outputs": [
    {
     "name": "stderr",
     "output_type": "stream",
     "text": [
      "Testing... : 100%|██████████| 317/317 [00:00<00:00, 830.38it/s]"
     ]
    },
    {
     "name": "stdout",
     "output_type": "stream",
     "text": [
      "\n",
      "\n",
      "accuracy on train data = 0.7234189510345459\n"
     ]
    },
    {
     "name": "stderr",
     "output_type": "stream",
     "text": [
      "\n"
     ]
    }
   ],
   "source": [
    "model_2_trained.eval()\n",
    "acc_test = 0\n",
    "prob_train_gl=torch.tensor([]).to(device)\n",
    "label_train_gl=torch.tensor([]).to(device)\n",
    "with torch.inference_mode():\n",
    "  for batch,label in tqdm(train_loader2, total=len(train_loader2), desc=\"Testing... \"):\n",
    "  # 1. Forward pass\n",
    "    batch = batch.to(device)\n",
    "    label = label.to(device)\n",
    "    output = model_2_trained(batch) # model outputs raw logits \n",
    "    _, preds = torch.max(output, 1)\n",
    "    prob_train_gl=torch.cat((prob_train_gl,preds))\n",
    "    label_train_gl=torch.cat((label_train_gl,label))\n",
    "    acc_test += torch.sum(preds == label.data)\n",
    "print(\"\\n\")\n",
    "print(f'accuracy on train data = {acc_test/len(train_dataset2)}')"
   ]
  },
  {
   "cell_type": "code",
   "execution_count": 278,
   "metadata": {
    "colab": {
     "base_uri": "https://localhost:8080/"
    },
    "id": "Q4mqFCd3iz-4",
    "outputId": "daa9b1be-8464-4a82-dfa2-989ad066a416"
   },
   "outputs": [
    {
     "name": "stderr",
     "output_type": "stream",
     "text": [
      "Testing... : 100%|██████████| 80/80 [00:00<00:00, 1241.75it/s]"
     ]
    },
    {
     "name": "stdout",
     "output_type": "stream",
     "text": [
      "\n",
      "\n",
      "accuracy on val data = 0.5315030813217163\n"
     ]
    },
    {
     "name": "stderr",
     "output_type": "stream",
     "text": [
      "\n"
     ]
    }
   ],
   "source": [
    "model_2_trained.eval()\n",
    "acc_test = 0\n",
    "prob_val_gl=torch.tensor([]).to(device)\n",
    "label_val_gl=torch.tensor([]).to(device)\n",
    "with torch.inference_mode():\n",
    "  for batch,label in tqdm(val_loader2, total=len(val_loader2), desc=\"Testing... \"):\n",
    "  # 1. Forward pass\n",
    "    batch = batch.to(device)\n",
    "    label = label.to(device)\n",
    "    output = model_2_trained(batch) # model outputs raw logits \n",
    "    _, preds = torch.max(output, 1)\n",
    "    prob_val_gl=torch.cat((prob_val_gl,preds))\n",
    "    label_val_gl=torch.cat((label_val_gl,label))\n",
    "    acc_test += torch.sum(preds == label.data)\n",
    "print(\"\\n\")\n",
    "print(f'accuracy on val data = {acc_test/len(val_dataset2)}')"
   ]
  },
  {
   "cell_type": "markdown",
   "metadata": {
    "id": "tNM92JRIeYbJ"
   },
   "source": [
    "test:"
   ]
  },
  {
   "cell_type": "code",
   "execution_count": 279,
   "metadata": {
    "colab": {
     "base_uri": "https://localhost:8080/"
    },
    "id": "h8HKXudfjH77",
    "outputId": "28a84c81-f8e3-4c24-f66b-464275b4b01e"
   },
   "outputs": [
    {
     "name": "stderr",
     "output_type": "stream",
     "text": [
      "Testing... : 100%|██████████| 80/80 [00:00<00:00, 721.22it/s]"
     ]
    },
    {
     "name": "stdout",
     "output_type": "stream",
     "text": [
      "\n",
      "\n",
      "accuracy on test data = 0.5243733525276184\n"
     ]
    },
    {
     "name": "stderr",
     "output_type": "stream",
     "text": [
      "\n"
     ]
    }
   ],
   "source": [
    "model_2_trained.eval()\n",
    "acc_test = 0\n",
    "prob_test_gl=torch.tensor([]).to(device)\n",
    "label_test_gl=torch.tensor([]).to(device)\n",
    "with torch.inference_mode():\n",
    "  for batch,label in tqdm(test_loader2, total=len(test_loader2), desc=\"Testing... \"):\n",
    "  # 1. Forward pass\n",
    "    batch = batch.to(device)\n",
    "    label = label.to(device)\n",
    "    output = model_2_trained(batch) # model outputs raw logits \n",
    "    _, preds = torch.max(output, 1)\n",
    "    prob_test_gl=torch.cat((prob_test_gl,preds))\n",
    "    label_test_gl=torch.cat((label_test_gl,label))\n",
    "    acc_test += torch.sum(preds == label.data)\n",
    "print(\"\\n\")\n",
    "print(f'accuracy on test data = {acc_test/len(test_dataset2)}')"
   ]
  },
  {
   "cell_type": "code",
   "execution_count": 280,
   "metadata": {
    "colab": {
     "base_uri": "https://localhost:8080/",
     "height": 295
    },
    "id": "oOJaCMDqjkR7",
    "outputId": "38680d82-de7c-4ef3-c0e3-7edda39e290c"
   },
   "outputs": [
    {
     "data": {
      "image/png": "[encoded data removed]",
      "text/plain": [
       "<Figure size 432x288 with 2 Axes>"
      ]
     },
     "metadata": {
      "needs_background": "light"
     },
     "output_type": "display_data"
    }
   ],
   "source": [
    "from sklearn import metrics\n",
    "confusion_matrix = metrics.confusion_matrix(label_train_gl.cpu(), prob_train_gl.cpu())\n",
    "cm_display = metrics.ConfusionMatrixDisplay(confusion_matrix = confusion_matrix, display_labels = ['0', '1','2'])\n",
    "cm_display.plot()\n",
    "plt.title('confusion matrix for train data')\n",
    "\n",
    "plt.show()"
   ]
  },
  {
   "cell_type": "code",
   "execution_count": 282,
   "metadata": {
    "colab": {
     "base_uri": "https://localhost:8080/",
     "height": 295
    },
    "id": "ZQu1RCoFkunz",
    "outputId": "152675f4-286c-4000-abda-c176789dfdd0"
   },
   "outputs": [
    {
     "data": {
      "image/png": "[encoded data removed]",
      "text/plain": [
       "<Figure size 432x288 with 2 Axes>"
      ]
     },
     "metadata": {
      "needs_background": "light"
     },
     "output_type": "display_data"
    }
   ],
   "source": [
    "from sklearn import metrics\n",
    "confusion_matrix = metrics.confusion_matrix(label_val_gl.cpu(), prob_val_gl.cpu())\n",
    "cm_display = metrics.ConfusionMatrixDisplay(confusion_matrix = confusion_matrix, display_labels = ['0', '1','2'])\n",
    "cm_display.plot()\n",
    "plt.title('confusion matrix for val data')\n",
    "\n",
    "plt.show()"
   ]
  },
  {
   "cell_type": "code",
   "execution_count": 283,
   "metadata": {
    "colab": {
     "base_uri": "https://localhost:8080/",
     "height": 295
    },
    "id": "V5hAXf8Zk1wZ",
    "outputId": "93a08f8d-6a24-400f-e3ae-48b86c2ec45a"
   },
   "outputs": [
    {
     "data": {
      "image/png": "[encoded data removed]",
      "text/plain": [
       "<Figure size 432x288 with 2 Axes>"
      ]
     },
     "metadata": {
      "needs_background": "light"
     },
     "output_type": "display_data"
    }
   ],
   "source": [
    "from sklearn import metrics\n",
    "confusion_matrix = metrics.confusion_matrix(label_test_gl.cpu(), prob_test_gl.cpu())\n",
    "cm_display = metrics.ConfusionMatrixDisplay(confusion_matrix = confusion_matrix, display_labels = ['0', '1','2'])\n",
    "cm_display.plot()\n",
    "plt.title('confusion matrix for test data')\n",
    "\n",
    "plt.show()"
   ]
  },
  {
   "cell_type": "markdown",
   "metadata": {
    "id": "jgXu-AQFg_iN"
   },
   "source": [
    "now we try BERT model as our language model:"
   ]
  },
  {
   "cell_type": "code",
   "execution_count": 17,
   "metadata": {
    "colab": {
     "base_uri": "https://localhost:8080/"
    },
    "id": "4R9PfvMMqjC2",
    "outputId": "2c7df520-823d-46e2-f734-5dacfb66a97c"
   },
   "outputs": [
    {
     "name": "stdout",
     "output_type": "stream",
     "text": [
      "Looking in indexes: https://pypi.org/simple, https://us-python.pkg.dev/colab-wheels/public/simple/\n",
      "Requirement already satisfied: transformers in /usr/local/lib/python3.8/dist-packages (4.26.0)\n",
      "Requirement already satisfied: filelock in /usr/local/lib/python3.8/dist-packages (from transformers) (3.9.0)\n",
      "Requirement already satisfied: tokenizers!=0.11.3,<0.14,>=0.11.1 in /usr/local/lib/python3.8/dist-packages (from transformers) (0.13.2)\n",
      "Requirement already satisfied: packaging>=20.0 in /usr/local/lib/python3.8/dist-packages (from transformers) (23.0)\n",
      "Requirement already satisfied: huggingface-hub<1.0,>=0.11.0 in /usr/local/lib/python3.8/dist-packages (from transformers) (0.12.0)\n",
      "Requirement already satisfied: numpy>=1.17 in /usr/local/lib/python3.8/dist-packages (from transformers) (1.21.6)\n",
      "Requirement already satisfied: requests in /usr/local/lib/python3.8/dist-packages (from transformers) (2.25.1)\n",
      "Requirement already satisfied: pyyaml>=5.1 in /usr/local/lib/python3.8/dist-packages (from transformers) (6.0)\n",
      "Requirement already satisfied: regex!=2019.12.17 in /usr/local/lib/python3.8/dist-packages (from transformers) (2022.6.2)\n",
      "Requirement already satisfied: tqdm>=4.27 in /usr/local/lib/python3.8/dist-packages (from transformers) (4.64.1)\n",
      "Requirement already satisfied: typing-extensions>=3.7.4.3 in /usr/local/lib/python3.8/dist-packages (from huggingface-hub<1.0,>=0.11.0->transformers) (4.4.0)\n",
      "Requirement already satisfied: certifi>=2017.4.17 in /usr/local/lib/python3.8/dist-packages (from requests->transformers) (2022.12.7)\n",
      "Requirement already satisfied: urllib3<1.27,>=1.21.1 in /usr/local/lib/python3.8/dist-packages (from requests->transformers) (1.24.3)\n",
      "Requirement already satisfied: idna<3,>=2.5 in /usr/local/lib/python3.8/dist-packages (from requests->transformers) (2.10)\n",
      "Requirement already satisfied: chardet<5,>=3.0.2 in /usr/local/lib/python3.8/dist-packages (from requests->transformers) (4.0.0)\n"
     ]
    }
   ],
   "source": [
    "! pip install transformers"
   ]
  },
  {
   "cell_type": "code",
   "execution_count": 284,
   "metadata": {
    "id": "K6UWxdRmquGX"
   },
   "outputs": [],
   "source": [
    "with open('/content/MSCTD/MSCTD_data/ende/english_train.txt') as tr:\n",
    "    text_train = [line.rstrip('\\n') for line in tr]\n",
    "\n",
    "with open('/content/MSCTD/MSCTD_data/ende/english_dev.txt') as v:\n",
    "    text_val = [line.rstrip('\\n') for line in v]\n",
    "\n",
    "with open('/content/MSCTD/MSCTD_data/ende/english_test.txt') as te:\n",
    "    text_test = [line.rstrip('\\n') for line in te]"
   ]
  },
  {
   "cell_type": "code",
   "execution_count": 285,
   "metadata": {
    "colab": {
     "base_uri": "https://localhost:8080/"
    },
    "id": "68QZTBfwq0yh",
    "outputId": "bde137ea-3df1-40e8-9fb9-4a4eb617d688"
   },
   "outputs": [
    {
     "name": "stdout",
     "output_type": "stream",
     "text": [
      "all possible punctuations = !\"#$%&'()*+,-./:;<=>?@[\\]^_`{|}~\n"
     ]
    }
   ],
   "source": [
    "print(f'all possible punctuations = {string.punctuation}')\n",
    "punc_remove = string.punctuation"
   ]
  },
  {
   "cell_type": "code",
   "execution_count": 286,
   "metadata": {
    "id": "goYteYRKrAqn"
   },
   "outputs": [],
   "source": [
    "remove_translate = str.maketrans('', '', string.punctuation)"
   ]
  },
  {
   "cell_type": "code",
   "execution_count": 287,
   "metadata": {
    "colab": {
     "base_uri": "https://localhost:8080/"
    },
    "id": "LFv4a_BjrBgx",
    "outputId": "456a4c40-88b5-42ec-b964-c5325c144074"
   },
   "outputs": [
    {
     "name": "stdout",
     "output_type": "stream",
     "text": [
      "label2id: {'neutral': 0, 'negative': 1, 'positive': 2}\n",
      "id2label: {0: 'neutral', 1: 'negative', 2: 'positive'}\n"
     ]
    },
    {
     "name": "stderr",
     "output_type": "stream",
     "text": [
      "The tokenizer class you load from this checkpoint is not the same type as the class this function is called from. It may result in unexpected tokenization. \n",
      "The tokenizer class you load from this checkpoint is 'DistilBertTokenizer'. \n",
      "The class this function is called from is 'BertTokenizer'.\n",
      "You are using a model of type distilbert to instantiate a model of type bert. This is not supported for all configurations of models and can yield errors.\n"
     ]
    },
    {
     "name": "stdout",
     "output_type": "stream",
     "text": [
      "{\n",
      "  \"activation\": \"gelu\",\n",
      "  \"architectures\": [\n",
      "    \"DistilBertForMaskedLM\"\n",
      "  ],\n",
      "  \"attention_dropout\": 0.1,\n",
      "  \"attention_probs_dropout_prob\": 0.1,\n",
      "  \"classifier_dropout\": null,\n",
      "  \"dim\": 768,\n",
      "  \"dropout\": 0.1,\n",
      "  \"hidden_act\": \"gelu\",\n",
      "  \"hidden_dim\": 3072,\n",
      "  \"hidden_dropout_prob\": 0.1,\n",
      "  \"hidden_size\": 768,\n",
      "  \"id2label\": {\n",
      "    \"0\": \"neutral\",\n",
      "    \"1\": \"negative\",\n",
      "    \"2\": \"positive\"\n",
      "  },\n",
      "  \"initializer_range\": 0.02,\n",
      "  \"intermediate_size\": 3072,\n",
      "  \"label2id\": {\n",
      "    \"negative\": 1,\n",
      "    \"neutral\": 0,\n",
      "    \"positive\": 2\n",
      "  },\n",
      "  \"layer_norm_eps\": 1e-12,\n",
      "  \"max_position_embeddings\": 512,\n",
      "  \"model_type\": \"bert\",\n",
      "  \"n_heads\": 12,\n",
      "  \"n_layers\": 6,\n",
      "  \"num_attention_heads\": 12,\n",
      "  \"num_hidden_layers\": 12,\n",
      "  \"pad_token_id\": 0,\n",
      "  \"position_embedding_type\": \"absolute\",\n",
      "  \"qa_dropout\": 0.1,\n",
      "  \"seq_classif_dropout\": 0.2,\n",
      "  \"sinusoidal_pos_embds\": false,\n",
      "  \"tie_weights_\": true,\n",
      "  \"transformers_version\": \"4.26.0\",\n",
      "  \"type_vocab_size\": 2,\n",
      "  \"use_cache\": true,\n",
      "  \"vocab_size\": 30522\n",
      "}\n",
      "\n"
     ]
    }
   ],
   "source": [
    "from transformers import BertConfig, BertTokenizer,BertModel\n",
    "\n",
    "labels = [\"neutral\",\"negative\",\"positive\"]\n",
    "label2id = {label: i for i, label in enumerate(labels)}\n",
    "id2label = {v: k for k, v in label2id.items()}\n",
    "\n",
    "print(f'label2id: {label2id}')\n",
    "print(f'id2label: {id2label}')\n",
    "MODEL_NAME_OR_PATH = 'distilbert-base-uncased'\n",
    "tokenizer = BertTokenizer.from_pretrained(MODEL_NAME_OR_PATH)\n",
    "config = BertConfig.from_pretrained(\n",
    "    MODEL_NAME_OR_PATH, **{\n",
    "        'label2id': label2id,\n",
    "        'id2label': id2label,\n",
    "    })\n",
    "\n",
    "print(config.to_json_string())"
   ]
  },
  {
   "cell_type": "code",
   "execution_count": 288,
   "metadata": {
    "id": "kyF6nuAxsm6g"
   },
   "outputs": [],
   "source": [
    "from torch import nn\n",
    "class Sentiment_Bert_classifier(nn.Module):\n",
    "\n",
    "    def __init__(self, config,MODEL_NAME_OR_PATH,fine_tune):\n",
    "        super(Sentiment_Bert_classifier, self).__init__()\n",
    "\n",
    "        bert_model = BertModel.from_pretrained(MODEL_NAME_OR_PATH)\n",
    "        if (fine_tune):\n",
    "          self.bert = bert_model\n",
    "        else:\n",
    "          for param in bert_model.parameters():\n",
    "            param.requires_grad = False\n",
    "          self.bert = bert_model\n",
    "        self.dropout = nn.Dropout(config.hidden_dropout_prob)\n",
    "        self.classifier = nn.Linear(config.hidden_size, config.num_labels)\n",
    "    \n",
    "    def forward(self, input_ids, attention_mask, token_type_ids):\n",
    "        _, pooled_output = self.bert(input_ids=input_ids,attention_mask=attention_mask, token_type_ids=token_type_ids,return_dict=False)\n",
    "        \n",
    "        pooled_output = self.dropout(pooled_output)\n",
    "        logits = self.classifier(pooled_output)\n",
    "        return logits "
   ]
  },
  {
   "cell_type": "code",
   "execution_count": 289,
   "metadata": {
    "colab": {
     "base_uri": "https://localhost:8080/"
    },
    "id": "uup8ZIixsoBu",
    "outputId": "a2d772cd-6cc8-4738-9101-eb95c79182e4"
   },
   "outputs": [
    {
     "name": "stderr",
     "output_type": "stream",
     "text": [
      "You are using a model of type distilbert to instantiate a model of type bert. This is not supported for all configurations of models and can yield errors.\n",
      "Some weights of the model checkpoint at distilbert-base-uncased were not used when initializing BertModel: ['distilbert.transformer.layer.2.attention.out_lin.weight', 'vocab_layer_norm.weight', 'distilbert.transformer.layer.4.sa_layer_norm.weight', 'distilbert.transformer.layer.4.ffn.lin1.weight', 'distilbert.transformer.layer.1.ffn.lin1.bias', 'distilbert.transformer.layer.5.ffn.lin2.bias', 'distilbert.transformer.layer.5.ffn.lin1.bias', 'distilbert.transformer.layer.0.attention.out_lin.weight', 'distilbert.transformer.layer.2.attention.v_lin.weight', 'distilbert.transformer.layer.5.attention.v_lin.weight', 'distilbert.transformer.layer.3.attention.out_lin.bias', 'distilbert.transformer.layer.5.sa_layer_norm.weight', 'distilbert.transformer.layer.3.sa_layer_norm.bias', 'distilbert.transformer.layer.2.sa_layer_norm.bias', 'distilbert.transformer.layer.0.sa_layer_norm.weight', 'distilbert.embeddings.LayerNorm.bias', 'distilbert.transformer.layer.5.attention.out_lin.bias', 'distilbert.transformer.layer.4.attention.q_lin.bias', 'distilbert.transformer.layer.1.sa_layer_norm.bias', 'distilbert.embeddings.LayerNorm.weight', 'distilbert.transformer.layer.0.sa_layer_norm.bias', 'distilbert.transformer.layer.1.ffn.lin2.weight', 'distilbert.transformer.layer.3.output_layer_norm.bias', 'distilbert.transformer.layer.5.attention.v_lin.bias', 'distilbert.transformer.layer.2.ffn.lin2.weight', 'distilbert.embeddings.word_embeddings.weight', 'distilbert.transformer.layer.1.attention.q_lin.bias', 'distilbert.transformer.layer.3.output_layer_norm.weight', 'distilbert.transformer.layer.5.attention.q_lin.bias', 'distilbert.transformer.layer.0.output_layer_norm.weight', 'distilbert.transformer.layer.2.attention.out_lin.bias', 'distilbert.transformer.layer.2.attention.k_lin.bias', 'distilbert.transformer.layer.1.output_layer_norm.weight', 'distilbert.transformer.layer.1.attention.k_lin.weight', 'distilbert.transformer.layer.5.ffn.lin1.weight', 'distilbert.transformer.layer.4.attention.out_lin.bias', 'vocab_transform.bias', 'distilbert.transformer.layer.5.ffn.lin2.weight', 'distilbert.transformer.layer.3.attention.q_lin.weight', 'distilbert.transformer.layer.5.attention.q_lin.weight', 'distilbert.transformer.layer.2.ffn.lin1.bias', 'distilbert.transformer.layer.1.attention.out_lin.bias', 'distilbert.transformer.layer.3.attention.k_lin.bias', 'distilbert.transformer.layer.4.attention.v_lin.bias', 'distilbert.transformer.layer.1.attention.out_lin.weight', 'distilbert.transformer.layer.3.attention.v_lin.weight', 'distilbert.transformer.layer.3.attention.q_lin.bias', 'distilbert.transformer.layer.3.sa_layer_norm.weight', 'distilbert.transformer.layer.5.attention.k_lin.bias', 'distilbert.transformer.layer.3.attention.v_lin.bias', 'distilbert.transformer.layer.0.output_layer_norm.bias', 'distilbert.transformer.layer.0.attention.k_lin.weight', 'distilbert.transformer.layer.1.attention.k_lin.bias', 'distilbert.transformer.layer.0.attention.q_lin.weight', 'distilbert.transformer.layer.1.output_layer_norm.bias', 'distilbert.transformer.layer.2.ffn.lin1.weight', 'vocab_projector.weight', 'distilbert.transformer.layer.3.ffn.lin1.weight', 'distilbert.transformer.layer.1.sa_layer_norm.weight', 'distilbert.transformer.layer.4.attention.v_lin.weight', 'vocab_transform.weight', 'distilbert.transformer.layer.5.attention.out_lin.weight', 'distilbert.transformer.layer.4.ffn.lin2.weight', 'distilbert.transformer.layer.0.attention.out_lin.bias', 'distilbert.transformer.layer.5.sa_layer_norm.bias', 'distilbert.transformer.layer.0.attention.v_lin.bias', 'distilbert.transformer.layer.0.ffn.lin2.weight', 'distilbert.transformer.layer.1.attention.v_lin.weight', 'distilbert.transformer.layer.3.attention.k_lin.weight', 'distilbert.transformer.layer.4.output_layer_norm.bias', 'distilbert.transformer.layer.2.attention.q_lin.bias', 'distilbert.transformer.layer.2.output_layer_norm.weight', 'distilbert.transformer.layer.2.attention.q_lin.weight', 'distilbert.transformer.layer.3.ffn.lin2.weight', 'distilbert.transformer.layer.2.attention.v_lin.bias', 'distilbert.transformer.layer.3.attention.out_lin.weight', 'distilbert.transformer.layer.1.ffn.lin1.weight', 'distilbert.transformer.layer.0.attention.v_lin.weight', 'distilbert.transformer.layer.3.ffn.lin2.bias', 'distilbert.transformer.layer.0.attention.k_lin.bias', 'distilbert.transformer.layer.1.attention.q_lin.weight', 'distilbert.transformer.layer.4.attention.out_lin.weight', 'distilbert.transformer.layer.2.sa_layer_norm.weight', 'distilbert.transformer.layer.4.ffn.lin1.bias', 'distilbert.transformer.layer.4.output_layer_norm.weight', 'distilbert.transformer.layer.4.attention.q_lin.weight', 'distilbert.transformer.layer.5.output_layer_norm.weight', 'distilbert.transformer.layer.5.output_layer_norm.bias', 'distilbert.transformer.layer.4.sa_layer_norm.bias', 'distilbert.transformer.layer.2.ffn.lin2.bias', 'distilbert.transformer.layer.2.attention.k_lin.weight', 'vocab_projector.bias', 'distilbert.transformer.layer.5.attention.k_lin.weight', 'distilbert.transformer.layer.4.attention.k_lin.bias', 'distilbert.transformer.layer.0.ffn.lin1.weight', 'distilbert.transformer.layer.2.output_layer_norm.bias', 'distilbert.transformer.layer.1.ffn.lin2.bias', 'distilbert.transformer.layer.3.ffn.lin1.bias', 'distilbert.transformer.layer.0.ffn.lin2.bias', 'distilbert.transformer.layer.0.ffn.lin1.bias', 'vocab_layer_norm.bias', 'distilbert.transformer.layer.4.attention.k_lin.weight', 'distilbert.embeddings.position_embeddings.weight', 'distilbert.transformer.layer.4.ffn.lin2.bias', 'distilbert.transformer.layer.0.attention.q_lin.bias', 'distilbert.transformer.layer.1.attention.v_lin.bias']\n",
      "- This IS expected if you are initializing BertModel from the checkpoint of a model trained on another task or with another architecture (e.g. initializing a BertForSequenceClassification model from a BertForPreTraining model).\n",
      "- This IS NOT expected if you are initializing BertModel from the checkpoint of a model that you expect to be exactly identical (initializing a BertForSequenceClassification model from a BertForSequenceClassification model).\n",
      "Some weights of BertModel were not initialized from the model checkpoint at distilbert-base-uncased and are newly initialized: ['encoder.layer.1.output.LayerNorm.weight', 'encoder.layer.0.attention.output.dense.bias', 'encoder.layer.4.output.LayerNorm.bias', 'encoder.layer.7.output.LayerNorm.bias', 'encoder.layer.4.intermediate.dense.weight', 'encoder.layer.5.output.LayerNorm.bias', 'encoder.layer.3.attention.self.key.weight', 'encoder.layer.7.attention.output.LayerNorm.weight', 'encoder.layer.3.attention.self.value.weight', 'encoder.layer.1.attention.self.value.bias', 'encoder.layer.0.attention.output.LayerNorm.weight', 'encoder.layer.9.output.dense.bias', 'encoder.layer.5.output.LayerNorm.weight', 'encoder.layer.1.attention.self.key.bias', 'encoder.layer.8.output.dense.weight', 'encoder.layer.0.attention.self.key.weight', 'encoder.layer.10.attention.self.key.weight', 'encoder.layer.8.attention.self.query.weight', 'encoder.layer.8.output.dense.bias', 'encoder.layer.1.attention.self.value.weight', 'encoder.layer.4.attention.output.LayerNorm.bias', 'encoder.layer.4.intermediate.dense.bias', 'encoder.layer.0.attention.self.query.weight', 'encoder.layer.3.output.LayerNorm.weight', 'encoder.layer.5.attention.self.key.weight', 'encoder.layer.3.intermediate.dense.weight', 'encoder.layer.0.output.dense.weight', 'encoder.layer.10.attention.output.dense.weight', 'encoder.layer.9.attention.self.query.weight', 'embeddings.LayerNorm.weight', 'encoder.layer.6.attention.output.dense.weight', 'encoder.layer.1.attention.output.LayerNorm.weight', 'encoder.layer.3.attention.output.dense.weight', 'encoder.layer.4.attention.output.LayerNorm.weight', 'encoder.layer.7.attention.output.dense.bias', 'encoder.layer.9.intermediate.dense.bias', 'encoder.layer.9.output.LayerNorm.bias', 'encoder.layer.2.attention.self.query.weight', 'encoder.layer.11.attention.self.query.bias', 'encoder.layer.6.attention.self.value.weight', 'encoder.layer.7.output.dense.weight', 'encoder.layer.9.attention.output.LayerNorm.bias', 'embeddings.LayerNorm.bias', 'encoder.layer.11.output.dense.weight', 'encoder.layer.8.attention.self.value.bias', 'encoder.layer.2.output.dense.weight', 'encoder.layer.1.attention.self.query.bias', 'encoder.layer.5.attention.output.LayerNorm.bias', 'encoder.layer.9.attention.self.value.weight', 'encoder.layer.2.attention.output.dense.bias', 'encoder.layer.9.attention.self.key.bias', 'encoder.layer.2.output.LayerNorm.weight', 'encoder.layer.8.attention.self.key.bias', 'encoder.layer.9.attention.self.key.weight', 'encoder.layer.5.output.dense.weight', 'encoder.layer.10.attention.output.dense.bias', 'encoder.layer.6.attention.self.query.weight', 'encoder.layer.0.attention.output.LayerNorm.bias', 'encoder.layer.0.attention.self.query.bias', 'encoder.layer.5.attention.output.dense.weight', 'encoder.layer.3.attention.output.dense.bias', 'encoder.layer.5.attention.output.dense.bias', 'encoder.layer.6.output.dense.weight', 'encoder.layer.7.output.dense.bias', 'encoder.layer.10.attention.self.value.weight', 'encoder.layer.5.output.dense.bias', 'encoder.layer.4.output.dense.weight', 'encoder.layer.7.attention.self.key.weight', 'encoder.layer.7.intermediate.dense.weight', 'encoder.layer.10.attention.output.LayerNorm.bias', 'encoder.layer.0.attention.self.value.bias', 'encoder.layer.7.attention.self.query.bias', 'encoder.layer.11.intermediate.dense.weight', 'encoder.layer.6.intermediate.dense.weight', 'encoder.layer.1.intermediate.dense.bias', 'encoder.layer.11.attention.output.LayerNorm.bias', 'encoder.layer.1.intermediate.dense.weight', 'encoder.layer.9.intermediate.dense.weight', 'encoder.layer.6.attention.self.key.weight', 'encoder.layer.0.output.dense.bias', 'encoder.layer.4.attention.output.dense.bias', 'encoder.layer.7.attention.output.dense.weight', 'encoder.layer.0.output.LayerNorm.bias', 'encoder.layer.9.attention.output.LayerNorm.weight', 'encoder.layer.11.attention.self.key.bias', 'encoder.layer.2.attention.output.LayerNorm.bias', 'encoder.layer.1.attention.output.LayerNorm.bias', 'encoder.layer.6.attention.self.query.bias', 'encoder.layer.8.intermediate.dense.bias', 'encoder.layer.8.attention.output.LayerNorm.bias', 'encoder.layer.11.attention.self.value.weight', 'encoder.layer.11.output.LayerNorm.bias', 'encoder.layer.2.intermediate.dense.bias', 'encoder.layer.7.attention.self.value.bias', 'encoder.layer.8.output.LayerNorm.weight', 'encoder.layer.10.output.LayerNorm.weight', 'encoder.layer.4.attention.self.key.bias', 'encoder.layer.4.attention.self.query.weight', 'encoder.layer.10.output.dense.bias', 'encoder.layer.3.output.dense.bias', 'encoder.layer.10.attention.self.key.bias', 'encoder.layer.11.attention.self.query.weight', 'encoder.layer.1.attention.output.dense.bias', 'encoder.layer.8.intermediate.dense.weight', 'embeddings.position_embeddings.weight', 'encoder.layer.8.attention.self.value.weight', 'encoder.layer.3.attention.self.query.bias', 'encoder.layer.5.attention.self.query.bias', 'encoder.layer.5.attention.self.value.weight', 'encoder.layer.2.attention.self.value.weight', 'encoder.layer.3.attention.self.value.bias', 'encoder.layer.8.attention.output.dense.weight', 'encoder.layer.2.attention.self.query.bias', 'encoder.layer.11.output.dense.bias', 'encoder.layer.3.intermediate.dense.bias', 'encoder.layer.6.output.LayerNorm.bias', 'encoder.layer.6.attention.output.dense.bias', 'encoder.layer.11.attention.output.LayerNorm.weight', 'pooler.dense.bias', 'encoder.layer.5.attention.output.LayerNorm.weight', 'encoder.layer.6.attention.self.value.bias', 'encoder.layer.0.intermediate.dense.bias', 'pooler.dense.weight', 'encoder.layer.1.output.dense.weight', 'encoder.layer.1.output.dense.bias', 'encoder.layer.7.attention.self.key.bias', 'encoder.layer.9.attention.output.dense.weight', 'encoder.layer.10.attention.self.value.bias', 'encoder.layer.8.attention.output.LayerNorm.weight', 'encoder.layer.2.attention.self.key.weight', 'encoder.layer.2.attention.self.value.bias', 'encoder.layer.7.output.LayerNorm.weight', 'encoder.layer.10.attention.self.query.weight', 'encoder.layer.10.output.LayerNorm.bias', 'encoder.layer.10.attention.output.LayerNorm.weight', 'encoder.layer.2.output.dense.bias', 'encoder.layer.2.attention.output.LayerNorm.weight', 'encoder.layer.3.attention.self.key.bias', 'encoder.layer.7.intermediate.dense.bias', 'encoder.layer.9.attention.self.query.bias', 'encoder.layer.5.attention.self.query.weight', 'encoder.layer.9.attention.output.dense.bias', 'encoder.layer.11.output.LayerNorm.weight', 'encoder.layer.7.attention.self.value.weight', 'encoder.layer.7.attention.output.LayerNorm.bias', 'embeddings.token_type_embeddings.weight', 'encoder.layer.8.output.LayerNorm.bias', 'encoder.layer.0.intermediate.dense.weight', 'encoder.layer.5.attention.self.value.bias', 'encoder.layer.6.output.LayerNorm.weight', 'encoder.layer.6.attention.self.key.bias', 'encoder.layer.11.attention.output.dense.bias', 'encoder.layer.6.output.dense.bias', 'encoder.layer.5.intermediate.dense.bias', 'encoder.layer.4.attention.self.query.bias', 'encoder.layer.2.intermediate.dense.weight', 'encoder.layer.10.intermediate.dense.weight', 'encoder.layer.4.output.dense.bias', 'encoder.layer.2.attention.self.key.bias', 'encoder.layer.6.attention.output.LayerNorm.weight', 'encoder.layer.4.attention.self.value.weight', 'encoder.layer.1.output.LayerNorm.bias', 'encoder.layer.5.attention.self.key.bias', 'encoder.layer.0.attention.output.dense.weight', 'encoder.layer.11.intermediate.dense.bias', 'encoder.layer.0.attention.self.value.weight', 'encoder.layer.11.attention.self.key.weight', 'encoder.layer.0.attention.self.key.bias', 'encoder.layer.4.attention.output.dense.weight', 'encoder.layer.5.intermediate.dense.weight', 'encoder.layer.8.attention.self.query.bias', 'encoder.layer.4.attention.self.value.bias', 'encoder.layer.3.attention.output.LayerNorm.weight', 'encoder.layer.10.attention.self.query.bias', 'encoder.layer.7.attention.self.query.weight', 'encoder.layer.11.attention.self.value.bias', 'encoder.layer.1.attention.self.key.weight', 'encoder.layer.3.output.dense.weight', 'encoder.layer.4.attention.self.key.weight', 'encoder.layer.0.output.LayerNorm.weight', 'encoder.layer.1.attention.self.query.weight', 'encoder.layer.3.output.LayerNorm.bias', 'encoder.layer.10.output.dense.weight', 'encoder.layer.2.output.LayerNorm.bias', 'encoder.layer.4.output.LayerNorm.weight', 'encoder.layer.2.attention.output.dense.weight', 'encoder.layer.9.output.dense.weight', 'encoder.layer.3.attention.self.query.weight', 'encoder.layer.9.attention.self.value.bias', 'encoder.layer.8.attention.self.key.weight', 'encoder.layer.3.attention.output.LayerNorm.bias', 'encoder.layer.11.attention.output.dense.weight', 'embeddings.word_embeddings.weight', 'encoder.layer.6.attention.output.LayerNorm.bias', 'encoder.layer.8.attention.output.dense.bias', 'encoder.layer.9.output.LayerNorm.weight', 'encoder.layer.10.intermediate.dense.bias', 'encoder.layer.1.attention.output.dense.weight', 'encoder.layer.6.intermediate.dense.bias']\n",
      "You should probably TRAIN this model on a down-stream task to be able to use it for predictions and inference.\n"
     ]
    },
    {
     "name": "stdout",
     "output_type": "stream",
     "text": [
      "pt_model <class '__main__.Sentiment_Bert_classifier'>\n"
     ]
    }
   ],
   "source": [
    "pt_model = Sentiment_Bert_classifier(config=config,MODEL_NAME_OR_PATH = 'distilbert-base-uncased',fine_tune = True )\n",
    "pt_model = pt_model.to(device)\n",
    "\n",
    "print('pt_model', type(pt_model))"
   ]
  },
  {
   "cell_type": "markdown",
   "metadata": {
    "id": "HB0MSUoAhPAU"
   },
   "source": [
    "we load the model from previous phase:"
   ]
  },
  {
   "cell_type": "code",
   "execution_count": 290,
   "metadata": {
    "colab": {
     "base_uri": "https://localhost:8080/"
    },
    "id": "ubrCLDWYsr4k",
    "outputId": "86f2de14-305e-49ec-ad63-7827c1619c1b"
   },
   "outputs": [
    {
     "data": {
      "text/plain": [
       "Sentiment_Bert_classifier(\n",
       "  (bert): BertModel(\n",
       "    (embeddings): BertEmbeddings(\n",
       "      (word_embeddings): Embedding(30522, 768, padding_idx=0)\n",
       "      (position_embeddings): Embedding(512, 768)\n",
       "      (token_type_embeddings): Embedding(2, 768)\n",
       "      (LayerNorm): LayerNorm((768,), eps=1e-12, elementwise_affine=True)\n",
       "      (dropout): Dropout(p=0.1, inplace=False)\n",
       "    )\n",
       "    (encoder): BertEncoder(\n",
       "      (layer): ModuleList(\n",
       "        (0): BertLayer(\n",
       "          (attention): BertAttention(\n",
       "            (self): BertSelfAttention(\n",
       "              (query): Linear(in_features=768, out_features=768, bias=True)\n",
       "              (key): Linear(in_features=768, out_features=768, bias=True)\n",
       "              (value): Linear(in_features=768, out_features=768, bias=True)\n",
       "              (dropout): Dropout(p=0.1, inplace=False)\n",
       "            )\n",
       "            (output): BertSelfOutput(\n",
       "              (dense): Linear(in_features=768, out_features=768, bias=True)\n",
       "              (LayerNorm): LayerNorm((768,), eps=1e-12, elementwise_affine=True)\n",
       "              (dropout): Dropout(p=0.1, inplace=False)\n",
       "            )\n",
       "          )\n",
       "          (intermediate): BertIntermediate(\n",
       "            (dense): Linear(in_features=768, out_features=3072, bias=True)\n",
       "            (intermediate_act_fn): GELUActivation()\n",
       "          )\n",
       "          (output): BertOutput(\n",
       "            (dense): Linear(in_features=3072, out_features=768, bias=True)\n",
       "            (LayerNorm): LayerNorm((768,), eps=1e-12, elementwise_affine=True)\n",
       "            (dropout): Dropout(p=0.1, inplace=False)\n",
       "          )\n",
       "        )\n",
       "        (1): BertLayer(\n",
       "          (attention): BertAttention(\n",
       "            (self): BertSelfAttention(\n",
       "              (query): Linear(in_features=768, out_features=768, bias=True)\n",
       "              (key): Linear(in_features=768, out_features=768, bias=True)\n",
       "              (value): Linear(in_features=768, out_features=768, bias=True)\n",
       "              (dropout): Dropout(p=0.1, inplace=False)\n",
       "            )\n",
       "            (output): BertSelfOutput(\n",
       "              (dense): Linear(in_features=768, out_features=768, bias=True)\n",
       "              (LayerNorm): LayerNorm((768,), eps=1e-12, elementwise_affine=True)\n",
       "              (dropout): Dropout(p=0.1, inplace=False)\n",
       "            )\n",
       "          )\n",
       "          (intermediate): BertIntermediate(\n",
       "            (dense): Linear(in_features=768, out_features=3072, bias=True)\n",
       "            (intermediate_act_fn): GELUActivation()\n",
       "          )\n",
       "          (output): BertOutput(\n",
       "            (dense): Linear(in_features=3072, out_features=768, bias=True)\n",
       "            (LayerNorm): LayerNorm((768,), eps=1e-12, elementwise_affine=True)\n",
       "            (dropout): Dropout(p=0.1, inplace=False)\n",
       "          )\n",
       "        )\n",
       "        (2): BertLayer(\n",
       "          (attention): BertAttention(\n",
       "            (self): BertSelfAttention(\n",
       "              (query): Linear(in_features=768, out_features=768, bias=True)\n",
       "              (key): Linear(in_features=768, out_features=768, bias=True)\n",
       "              (value): Linear(in_features=768, out_features=768, bias=True)\n",
       "              (dropout): Dropout(p=0.1, inplace=False)\n",
       "            )\n",
       "            (output): BertSelfOutput(\n",
       "              (dense): Linear(in_features=768, out_features=768, bias=True)\n",
       "              (LayerNorm): LayerNorm((768,), eps=1e-12, elementwise_affine=True)\n",
       "              (dropout): Dropout(p=0.1, inplace=False)\n",
       "            )\n",
       "          )\n",
       "          (intermediate): BertIntermediate(\n",
       "            (dense): Linear(in_features=768, out_features=3072, bias=True)\n",
       "            (intermediate_act_fn): GELUActivation()\n",
       "          )\n",
       "          (output): BertOutput(\n",
       "            (dense): Linear(in_features=3072, out_features=768, bias=True)\n",
       "            (LayerNorm): LayerNorm((768,), eps=1e-12, elementwise_affine=True)\n",
       "            (dropout): Dropout(p=0.1, inplace=False)\n",
       "          )\n",
       "        )\n",
       "        (3): BertLayer(\n",
       "          (attention): BertAttention(\n",
       "            (self): BertSelfAttention(\n",
       "              (query): Linear(in_features=768, out_features=768, bias=True)\n",
       "              (key): Linear(in_features=768, out_features=768, bias=True)\n",
       "              (value): Linear(in_features=768, out_features=768, bias=True)\n",
       "              (dropout): Dropout(p=0.1, inplace=False)\n",
       "            )\n",
       "            (output): BertSelfOutput(\n",
       "              (dense): Linear(in_features=768, out_features=768, bias=True)\n",
       "              (LayerNorm): LayerNorm((768,), eps=1e-12, elementwise_affine=True)\n",
       "              (dropout): Dropout(p=0.1, inplace=False)\n",
       "            )\n",
       "          )\n",
       "          (intermediate): BertIntermediate(\n",
       "            (dense): Linear(in_features=768, out_features=3072, bias=True)\n",
       "            (intermediate_act_fn): GELUActivation()\n",
       "          )\n",
       "          (output): BertOutput(\n",
       "            (dense): Linear(in_features=3072, out_features=768, bias=True)\n",
       "            (LayerNorm): LayerNorm((768,), eps=1e-12, elementwise_affine=True)\n",
       "            (dropout): Dropout(p=0.1, inplace=False)\n",
       "          )\n",
       "        )\n",
       "        (4): BertLayer(\n",
       "          (attention): BertAttention(\n",
       "            (self): BertSelfAttention(\n",
       "              (query): Linear(in_features=768, out_features=768, bias=True)\n",
       "              (key): Linear(in_features=768, out_features=768, bias=True)\n",
       "              (value): Linear(in_features=768, out_features=768, bias=True)\n",
       "              (dropout): Dropout(p=0.1, inplace=False)\n",
       "            )\n",
       "            (output): BertSelfOutput(\n",
       "              (dense): Linear(in_features=768, out_features=768, bias=True)\n",
       "              (LayerNorm): LayerNorm((768,), eps=1e-12, elementwise_affine=True)\n",
       "              (dropout): Dropout(p=0.1, inplace=False)\n",
       "            )\n",
       "          )\n",
       "          (intermediate): BertIntermediate(\n",
       "            (dense): Linear(in_features=768, out_features=3072, bias=True)\n",
       "            (intermediate_act_fn): GELUActivation()\n",
       "          )\n",
       "          (output): BertOutput(\n",
       "            (dense): Linear(in_features=3072, out_features=768, bias=True)\n",
       "            (LayerNorm): LayerNorm((768,), eps=1e-12, elementwise_affine=True)\n",
       "            (dropout): Dropout(p=0.1, inplace=False)\n",
       "          )\n",
       "        )\n",
       "        (5): BertLayer(\n",
       "          (attention): BertAttention(\n",
       "            (self): BertSelfAttention(\n",
       "              (query): Linear(in_features=768, out_features=768, bias=True)\n",
       "              (key): Linear(in_features=768, out_features=768, bias=True)\n",
       "              (value): Linear(in_features=768, out_features=768, bias=True)\n",
       "              (dropout): Dropout(p=0.1, inplace=False)\n",
       "            )\n",
       "            (output): BertSelfOutput(\n",
       "              (dense): Linear(in_features=768, out_features=768, bias=True)\n",
       "              (LayerNorm): LayerNorm((768,), eps=1e-12, elementwise_affine=True)\n",
       "              (dropout): Dropout(p=0.1, inplace=False)\n",
       "            )\n",
       "          )\n",
       "          (intermediate): BertIntermediate(\n",
       "            (dense): Linear(in_features=768, out_features=3072, bias=True)\n",
       "            (intermediate_act_fn): GELUActivation()\n",
       "          )\n",
       "          (output): BertOutput(\n",
       "            (dense): Linear(in_features=3072, out_features=768, bias=True)\n",
       "            (LayerNorm): LayerNorm((768,), eps=1e-12, elementwise_affine=True)\n",
       "            (dropout): Dropout(p=0.1, inplace=False)\n",
       "          )\n",
       "        )\n",
       "        (6): BertLayer(\n",
       "          (attention): BertAttention(\n",
       "            (self): BertSelfAttention(\n",
       "              (query): Linear(in_features=768, out_features=768, bias=True)\n",
       "              (key): Linear(in_features=768, out_features=768, bias=True)\n",
       "              (value): Linear(in_features=768, out_features=768, bias=True)\n",
       "              (dropout): Dropout(p=0.1, inplace=False)\n",
       "            )\n",
       "            (output): BertSelfOutput(\n",
       "              (dense): Linear(in_features=768, out_features=768, bias=True)\n",
       "              (LayerNorm): LayerNorm((768,), eps=1e-12, elementwise_affine=True)\n",
       "              (dropout): Dropout(p=0.1, inplace=False)\n",
       "            )\n",
       "          )\n",
       "          (intermediate): BertIntermediate(\n",
       "            (dense): Linear(in_features=768, out_features=3072, bias=True)\n",
       "            (intermediate_act_fn): GELUActivation()\n",
       "          )\n",
       "          (output): BertOutput(\n",
       "            (dense): Linear(in_features=3072, out_features=768, bias=True)\n",
       "            (LayerNorm): LayerNorm((768,), eps=1e-12, elementwise_affine=True)\n",
       "            (dropout): Dropout(p=0.1, inplace=False)\n",
       "          )\n",
       "        )\n",
       "        (7): BertLayer(\n",
       "          (attention): BertAttention(\n",
       "            (self): BertSelfAttention(\n",
       "              (query): Linear(in_features=768, out_features=768, bias=True)\n",
       "              (key): Linear(in_features=768, out_features=768, bias=True)\n",
       "              (value): Linear(in_features=768, out_features=768, bias=True)\n",
       "              (dropout): Dropout(p=0.1, inplace=False)\n",
       "            )\n",
       "            (output): BertSelfOutput(\n",
       "              (dense): Linear(in_features=768, out_features=768, bias=True)\n",
       "              (LayerNorm): LayerNorm((768,), eps=1e-12, elementwise_affine=True)\n",
       "              (dropout): Dropout(p=0.1, inplace=False)\n",
       "            )\n",
       "          )\n",
       "          (intermediate): BertIntermediate(\n",
       "            (dense): Linear(in_features=768, out_features=3072, bias=True)\n",
       "            (intermediate_act_fn): GELUActivation()\n",
       "          )\n",
       "          (output): BertOutput(\n",
       "            (dense): Linear(in_features=3072, out_features=768, bias=True)\n",
       "            (LayerNorm): LayerNorm((768,), eps=1e-12, elementwise_affine=True)\n",
       "            (dropout): Dropout(p=0.1, inplace=False)\n",
       "          )\n",
       "        )\n",
       "        (8): BertLayer(\n",
       "          (attention): BertAttention(\n",
       "            (self): BertSelfAttention(\n",
       "              (query): Linear(in_features=768, out_features=768, bias=True)\n",
       "              (key): Linear(in_features=768, out_features=768, bias=True)\n",
       "              (value): Linear(in_features=768, out_features=768, bias=True)\n",
       "              (dropout): Dropout(p=0.1, inplace=False)\n",
       "            )\n",
       "            (output): BertSelfOutput(\n",
       "              (dense): Linear(in_features=768, out_features=768, bias=True)\n",
       "              (LayerNorm): LayerNorm((768,), eps=1e-12, elementwise_affine=True)\n",
       "              (dropout): Dropout(p=0.1, inplace=False)\n",
       "            )\n",
       "          )\n",
       "          (intermediate): BertIntermediate(\n",
       "            (dense): Linear(in_features=768, out_features=3072, bias=True)\n",
       "            (intermediate_act_fn): GELUActivation()\n",
       "          )\n",
       "          (output): BertOutput(\n",
       "            (dense): Linear(in_features=3072, out_features=768, bias=True)\n",
       "            (LayerNorm): LayerNorm((768,), eps=1e-12, elementwise_affine=True)\n",
       "            (dropout): Dropout(p=0.1, inplace=False)\n",
       "          )\n",
       "        )\n",
       "        (9): BertLayer(\n",
       "          (attention): BertAttention(\n",
       "            (self): BertSelfAttention(\n",
       "              (query): Linear(in_features=768, out_features=768, bias=True)\n",
       "              (key): Linear(in_features=768, out_features=768, bias=True)\n",
       "              (value): Linear(in_features=768, out_features=768, bias=True)\n",
       "              (dropout): Dropout(p=0.1, inplace=False)\n",
       "            )\n",
       "            (output): BertSelfOutput(\n",
       "              (dense): Linear(in_features=768, out_features=768, bias=True)\n",
       "              (LayerNorm): LayerNorm((768,), eps=1e-12, elementwise_affine=True)\n",
       "              (dropout): Dropout(p=0.1, inplace=False)\n",
       "            )\n",
       "          )\n",
       "          (intermediate): BertIntermediate(\n",
       "            (dense): Linear(in_features=768, out_features=3072, bias=True)\n",
       "            (intermediate_act_fn): GELUActivation()\n",
       "          )\n",
       "          (output): BertOutput(\n",
       "            (dense): Linear(in_features=3072, out_features=768, bias=True)\n",
       "            (LayerNorm): LayerNorm((768,), eps=1e-12, elementwise_affine=True)\n",
       "            (dropout): Dropout(p=0.1, inplace=False)\n",
       "          )\n",
       "        )\n",
       "        (10): BertLayer(\n",
       "          (attention): BertAttention(\n",
       "            (self): BertSelfAttention(\n",
       "              (query): Linear(in_features=768, out_features=768, bias=True)\n",
       "              (key): Linear(in_features=768, out_features=768, bias=True)\n",
       "              (value): Linear(in_features=768, out_features=768, bias=True)\n",
       "              (dropout): Dropout(p=0.1, inplace=False)\n",
       "            )\n",
       "            (output): BertSelfOutput(\n",
       "              (dense): Linear(in_features=768, out_features=768, bias=True)\n",
       "              (LayerNorm): LayerNorm((768,), eps=1e-12, elementwise_affine=True)\n",
       "              (dropout): Dropout(p=0.1, inplace=False)\n",
       "            )\n",
       "          )\n",
       "          (intermediate): BertIntermediate(\n",
       "            (dense): Linear(in_features=768, out_features=3072, bias=True)\n",
       "            (intermediate_act_fn): GELUActivation()\n",
       "          )\n",
       "          (output): BertOutput(\n",
       "            (dense): Linear(in_features=3072, out_features=768, bias=True)\n",
       "            (LayerNorm): LayerNorm((768,), eps=1e-12, elementwise_affine=True)\n",
       "            (dropout): Dropout(p=0.1, inplace=False)\n",
       "          )\n",
       "        )\n",
       "        (11): BertLayer(\n",
       "          (attention): BertAttention(\n",
       "            (self): BertSelfAttention(\n",
       "              (query): Linear(in_features=768, out_features=768, bias=True)\n",
       "              (key): Linear(in_features=768, out_features=768, bias=True)\n",
       "              (value): Linear(in_features=768, out_features=768, bias=True)\n",
       "              (dropout): Dropout(p=0.1, inplace=False)\n",
       "            )\n",
       "            (output): BertSelfOutput(\n",
       "              (dense): Linear(in_features=768, out_features=768, bias=True)\n",
       "              (LayerNorm): LayerNorm((768,), eps=1e-12, elementwise_affine=True)\n",
       "              (dropout): Dropout(p=0.1, inplace=False)\n",
       "            )\n",
       "          )\n",
       "          (intermediate): BertIntermediate(\n",
       "            (dense): Linear(in_features=768, out_features=3072, bias=True)\n",
       "            (intermediate_act_fn): GELUActivation()\n",
       "          )\n",
       "          (output): BertOutput(\n",
       "            (dense): Linear(in_features=3072, out_features=768, bias=True)\n",
       "            (LayerNorm): LayerNorm((768,), eps=1e-12, elementwise_affine=True)\n",
       "            (dropout): Dropout(p=0.1, inplace=False)\n",
       "          )\n",
       "        )\n",
       "      )\n",
       "    )\n",
       "    (pooler): BertPooler(\n",
       "      (dense): Linear(in_features=768, out_features=768, bias=True)\n",
       "      (activation): Tanh()\n",
       "    )\n",
       "  )\n",
       "  (dropout): Dropout(p=0.1, inplace=False)\n",
       "  (classifier): Linear(in_features=768, out_features=3, bias=True)\n",
       ")"
      ]
     },
     "execution_count": 290,
     "metadata": {},
     "output_type": "execute_result"
    }
   ],
   "source": [
    "pt_model= pt_model.to(device)\n",
    "if device == 'cpu':\n",
    "  pt_model.load_state_dict(torch.load('/content/gdrive/MyDrive/phase3/bert_model/pt_model_trained_with_normal_text.pth',map_location=torch.device('cpu')))\n",
    "else:\n",
    "  pt_model.load_state_dict(torch.load('/content/gdrive/MyDrive/phase3/bert_model/pt_model_trained_with_normal_text.pth'))\n",
    "pt_model.eval()"
   ]
  },
  {
   "cell_type": "markdown",
   "metadata": {
    "id": "F8ZsADymhT0q"
   },
   "source": [
    "now we load the labels:"
   ]
  },
  {
   "cell_type": "code",
   "execution_count": 291,
   "metadata": {
    "id": "H4vziFZRtE-l"
   },
   "outputs": [],
   "source": [
    "with open('/content/MSCTD/MSCTD_data/ende/sentiment_train.txt') as f:\n",
    "  sentiment_train = [int(line.rstrip('\\n')) for line in f]\n",
    "with open('/content/MSCTD/MSCTD_data/ende/sentiment_dev.txt') as f:\n",
    "  sentiment_dev = [int(line.rstrip('\\n')) for line in f]\n",
    "with open('/content/MSCTD/MSCTD_data/ende/sentiment_test.txt') as f:\n",
    "  sentiment_test = [int(line.rstrip('\\n')) for line in f]"
   ]
  },
  {
   "cell_type": "code",
   "execution_count": 292,
   "metadata": {
    "id": "r8Ozu3TMtU7D"
   },
   "outputs": [],
   "source": [
    "class sentiment_dataset(torch.utils.data.Dataset):\n",
    "\n",
    "    def __init__(self, tokenizer, text ,labels, max_len=128):\n",
    "        self.text = text\n",
    "        self.labels = labels\n",
    "        self.tokenizer = tokenizer\n",
    "        self.max_len = max_len\n",
    "\n",
    "    def __len__(self):\n",
    "        return len(self.labels)\n",
    "\n",
    "    def __getitem__(self, item):\n",
    "        text= str(self.text[item])\n",
    "\n",
    "       \n",
    "        target = self.labels[item]\n",
    "\n",
    "        encoding = self.tokenizer.encode_plus(\n",
    "            text,\n",
    "            add_special_tokens=True,\n",
    "            truncation=True,\n",
    "            max_length=self.max_len,\n",
    "            return_token_type_ids=True,\n",
    "            padding='max_length',\n",
    "            return_attention_mask=True,\n",
    "            return_tensors='pt')\n",
    "        \n",
    "        inputs = {\n",
    "            'text': text,\n",
    "            'input_ids': encoding['input_ids'].flatten(),\n",
    "            'attention_mask': encoding['attention_mask'].flatten(),\n",
    "            'token_type_ids': encoding['token_type_ids'].flatten(),\n",
    "            \n",
    "        }\n",
    "\n",
    "       \n",
    "        inputs['targets'] = torch.tensor(target, dtype=torch.long)\n",
    "        \n",
    "        return inputs"
   ]
  },
  {
   "cell_type": "code",
   "execution_count": 293,
   "metadata": {
    "colab": {
     "base_uri": "https://localhost:8080/"
    },
    "id": "sDhV2HSbtaaS",
    "outputId": "6f36ff16-a06c-4c19-d20b-a596a657122b"
   },
   "outputs": [
    {
     "name": "stderr",
     "output_type": "stream",
     "text": [
      "Some weights of the model checkpoint at distilbert-base-uncased were not used when initializing DistilBertModel: ['vocab_layer_norm.weight', 'vocab_projector.weight', 'vocab_layer_norm.bias', 'vocab_transform.weight', 'vocab_transform.bias', 'vocab_projector.bias']\n",
      "- This IS expected if you are initializing DistilBertModel from the checkpoint of a model trained on another task or with another architecture (e.g. initializing a BertForSequenceClassification model from a BertForPreTraining model).\n",
      "- This IS NOT expected if you are initializing DistilBertModel from the checkpoint of a model that you expect to be exactly identical (initializing a BertForSequenceClassification model from a BertForSequenceClassification model).\n"
     ]
    },
    {
     "data": {
      "text/plain": [
       "['she',\n",
       " 'likes',\n",
       " 'cooking',\n",
       " 'italian',\n",
       " 'because',\n",
       " 'according',\n",
       " 'to',\n",
       " 'her',\n",
       " ',']"
      ]
     },
     "execution_count": 293,
     "metadata": {},
     "output_type": "execute_result"
    }
   ],
   "source": [
    "from transformers import AutoConfig , AutoTokenizer , AutoModel\n",
    "config = AutoConfig.from_pretrained('distilbert-base-uncased')\n",
    "\n",
    "tokenizer = AutoTokenizer.from_pretrained('distilbert-base-uncased')\n",
    "\n",
    "model = AutoModel.from_pretrained('distilbert-base-uncased')\n",
    "\n",
    "\n",
    "\n",
    "\n",
    "\n",
    "tokenizer.tokenize(text_train[34])"
   ]
  },
  {
   "cell_type": "code",
   "execution_count": 294,
   "metadata": {
    "colab": {
     "base_uri": "https://localhost:8080/"
    },
    "id": "bJ11hpcCtfPt",
    "outputId": "0f4feb8a-fa6c-42e3-b69d-c13cefee3d82"
   },
   "outputs": [
    {
     "name": "stdout",
     "output_type": "stream",
     "text": [
      "maximum length = 19\n",
      "Keys: dict_keys(['input_ids', 'token_type_ids', 'attention_mask'])\n",
      "\n",
      "input_ids:\n",
      "tensor([[  101, 15624,  1012,   102,     0,     0,     0,     0,     0,     0,\n",
      "             0,     0,     0,     0,     0,     0,     0,     0,     0,     0,\n",
      "             0]])\n",
      "token_type_ids:\n",
      "tensor([[0, 0, 0, 0, 0, 0, 0, 0, 0, 0, 0, 0, 0, 0, 0, 0, 0, 0, 0, 0, 0]])\n",
      "attention_mask:\n",
      "tensor([[1, 1, 1, 1, 0, 0, 0, 0, 0, 0, 0, 0, 0, 0, 0, 0, 0, 0, 0, 0, 0]])\n"
     ]
    }
   ],
   "source": [
    "X = text_train\n",
    "len_max = 0;\n",
    "for i in range(len(X)):\n",
    "  x_temp = X[i].split()\n",
    "  if len(x_temp)>len_max:\n",
    "    len_max = len(x_temp)\n",
    "print(f\"maximum length = {len_max}\")\n",
    "# now tokenizing based of max length we find\n",
    "encoding = tokenizer.encode_plus(\n",
    "    X[32],\n",
    "    max_length=len_max+2,\n",
    "    truncation=True,\n",
    "    add_special_tokens=True, # Add '[CLS]' and '[SEP]'\n",
    "    return_token_type_ids=True,\n",
    "    return_attention_mask=True,\n",
    "    padding='max_length',\n",
    "    return_tensors='pt',  # Return PyTorch tensors\n",
    ")\n",
    "\n",
    "print(f'Keys: {encoding.keys()}\\n')\n",
    "for k in encoding.keys():\n",
    "    print(f'{k}:\\n{encoding[k]}')"
   ]
  },
  {
   "cell_type": "code",
   "execution_count": 295,
   "metadata": {
    "id": "-dvrbDR-tmzO"
   },
   "outputs": [],
   "source": [
    "Dataset_Train = sentiment_dataset(tokenizer=tokenizer,text = text_train,labels = sentiment_train)\n",
    "\n",
    "Dataset_Test = sentiment_dataset(tokenizer=tokenizer,text = text_test,labels = sentiment_test)\n",
    "\n",
    "Dataset_Val = sentiment_dataset(tokenizer=tokenizer,text = text_val,labels = sentiment_dev)"
   ]
  },
  {
   "cell_type": "code",
   "execution_count": 296,
   "metadata": {
    "id": "eU0dJgfMuAcU"
   },
   "outputs": [],
   "source": [
    "#Creating Batch\n",
    "from torch.utils.data import DataLoader\n",
    "train_data_loader= DataLoader(Dataset_Train,batch_size=16,shuffle = False)\n",
    "test_data_loader= DataLoader(Dataset_Test,batch_size=16,shuffle = False)\n",
    "valid_data_loader= DataLoader(Dataset_Val,batch_size=16,shuffle = False)"
   ]
  },
  {
   "cell_type": "code",
   "execution_count": 297,
   "metadata": {
    "colab": {
     "base_uri": "https://localhost:8080/"
    },
    "id": "TIj6ydcluCJp",
    "outputId": "8214e541-06ba-43c2-e0cf-3f53aced1f67"
   },
   "outputs": [
    {
     "name": "stdout",
     "output_type": "stream",
     "text": [
      "dict_keys(['text', 'input_ids', 'attention_mask', 'token_type_ids', 'targets'])\n",
      "[\"Okay. I'm confused.\", \"You don't care if I go to Paris with Jane,\", \"I'm sorry. I have to tell you something,\", 'I have to go.', \"I'm an accessory to murder.\", \"I think you've helped enough.\", \"Gaby, please. I can't stand this anymore.\", \"Can't we talk for a minute?\", 'To be honest,', 'Wait. What do you mean?', 'He called us down to the station and grilled US one by one.', \"Why didn't he call me down there?\", 'Good question, given this whole thing is about you.', 'What are you talking about?', 'Bree, he wants revenge. He wants to bring you down,', 'Gaby, please.']\n",
      "torch.Size([16, 128])\n",
      "tensor([ 101, 3100, 1012, 1045, 1005, 1049, 5457, 1012,  102,    0,    0,    0,\n",
      "           0,    0,    0,    0,    0,    0,    0,    0,    0,    0,    0,    0,\n",
      "           0,    0,    0,    0,    0,    0,    0,    0,    0,    0,    0,    0,\n",
      "           0,    0,    0,    0,    0,    0,    0,    0,    0,    0,    0,    0,\n",
      "           0,    0,    0,    0,    0,    0,    0,    0,    0,    0,    0,    0,\n",
      "           0,    0,    0,    0,    0,    0,    0,    0,    0,    0,    0,    0,\n",
      "           0,    0,    0,    0,    0,    0,    0,    0,    0,    0,    0,    0,\n",
      "           0,    0,    0,    0,    0,    0,    0,    0,    0,    0,    0,    0,\n",
      "           0,    0,    0,    0,    0,    0,    0,    0,    0,    0,    0,    0,\n",
      "           0,    0,    0,    0,    0,    0,    0,    0,    0,    0,    0,    0,\n",
      "           0,    0,    0,    0,    0,    0,    0,    0])\n",
      "torch.Size([16, 128])\n",
      "tensor([1, 1, 1, 1, 1, 1, 1, 1, 1, 0, 0, 0, 0, 0, 0, 0, 0, 0, 0, 0, 0, 0, 0, 0,\n",
      "        0, 0, 0, 0, 0, 0, 0, 0, 0, 0, 0, 0, 0, 0, 0, 0, 0, 0, 0, 0, 0, 0, 0, 0,\n",
      "        0, 0, 0, 0, 0, 0, 0, 0, 0, 0, 0, 0, 0, 0, 0, 0, 0, 0, 0, 0, 0, 0, 0, 0,\n",
      "        0, 0, 0, 0, 0, 0, 0, 0, 0, 0, 0, 0, 0, 0, 0, 0, 0, 0, 0, 0, 0, 0, 0, 0,\n",
      "        0, 0, 0, 0, 0, 0, 0, 0, 0, 0, 0, 0, 0, 0, 0, 0, 0, 0, 0, 0, 0, 0, 0, 0,\n",
      "        0, 0, 0, 0, 0, 0, 0, 0])\n",
      "torch.Size([16, 128])\n",
      "tensor([0, 0, 0, 0, 0, 0, 0, 0, 0, 0, 0, 0, 0, 0, 0, 0, 0, 0, 0, 0, 0, 0, 0, 0,\n",
      "        0, 0, 0, 0, 0, 0, 0, 0, 0, 0, 0, 0, 0, 0, 0, 0, 0, 0, 0, 0, 0, 0, 0, 0,\n",
      "        0, 0, 0, 0, 0, 0, 0, 0, 0, 0, 0, 0, 0, 0, 0, 0, 0, 0, 0, 0, 0, 0, 0, 0,\n",
      "        0, 0, 0, 0, 0, 0, 0, 0, 0, 0, 0, 0, 0, 0, 0, 0, 0, 0, 0, 0, 0, 0, 0, 0,\n",
      "        0, 0, 0, 0, 0, 0, 0, 0, 0, 0, 0, 0, 0, 0, 0, 0, 0, 0, 0, 0, 0, 0, 0, 0,\n",
      "        0, 0, 0, 0, 0, 0, 0, 0])\n",
      "torch.Size([16])\n",
      "tensor(0)\n"
     ]
    }
   ],
   "source": [
    "sample_data = next(iter(train_data_loader))\n",
    "\n",
    "print(sample_data.keys())\n",
    "\n",
    "print(sample_data['text'])\n",
    "print(sample_data['input_ids'].shape)\n",
    "print(sample_data['input_ids'][0, :])\n",
    "print(sample_data['attention_mask'].shape)\n",
    "print(sample_data['attention_mask'][0, :])\n",
    "print(sample_data['token_type_ids'].shape)\n",
    "print(sample_data['token_type_ids'][0, :])\n",
    "print(sample_data['targets'].shape)\n",
    "print(sample_data['targets'][0])"
   ]
  },
  {
   "cell_type": "markdown",
   "metadata": {
    "id": "3Nvy4H08hqPf"
   },
   "source": [
    "now we evaluate the loaded model:\n",
    "\n",
    "train:"
   ]
  },
  {
   "cell_type": "code",
   "execution_count": 300,
   "metadata": {
    "colab": {
     "base_uri": "https://localhost:8080/"
    },
    "id": "foriifPUnzYi",
    "outputId": "d4619926-7c5b-4704-e642-7455bafb688e"
   },
   "outputs": [
    {
     "name": "stderr",
     "output_type": "stream",
     "text": [
      "training... : 100%|██████████| 1265/1265 [02:52<00:00,  7.32it/s]\n"
     ]
    }
   ],
   "source": [
    "pt_model.eval()\n",
    "targets_train = []\n",
    "targets_predicted_train = []\n",
    "prob_train_bert=torch.tensor([]).to(device)\n",
    "with torch.inference_mode():\n",
    "  for dl in tqdm(train_data_loader, total=len(train_data_loader), desc=\"training... \"):\n",
    "  # 1. Forward pass\n",
    "    input_ids = dl['input_ids']\n",
    "    attention_mask = dl['attention_mask']\n",
    "    token_type_ids = dl['token_type_ids']\n",
    "    targets = dl['targets']\n",
    "    input_ids = input_ids.to(device)\n",
    "    attention_mask = attention_mask.to(device)\n",
    "    token_type_ids = token_type_ids.to(device)\n",
    "    targets = targets.to(device)\n",
    "    outputs = pt_model(input_ids=input_ids,attention_mask=attention_mask,token_type_ids=token_type_ids) # model outputs raw logits \n",
    "    _, preds = torch.max(outputs, 1)\n",
    "    prob_train_bert=torch.cat((prob_train_bert,outputs))\n",
    "    preds = preds.cpu().detach().numpy()\n",
    "    targets = targets.cpu().detach().numpy()\n",
    "    targets_predicted_train.append(preds)\n",
    "    targets_train.append(targets)"
   ]
  },
  {
   "cell_type": "markdown",
   "metadata": {
    "id": "scsELbZ5ioTM"
   },
   "source": [
    "validation:"
   ]
  },
  {
   "cell_type": "code",
   "execution_count": 299,
   "metadata": {
    "colab": {
     "base_uri": "https://localhost:8080/"
    },
    "id": "w6TSMVTXuufS",
    "outputId": "27f44bd6-383b-412d-8669-de8204ef43d0"
   },
   "outputs": [
    {
     "name": "stderr",
     "output_type": "stream",
     "text": [
      "Validating... : 100%|██████████| 317/317 [00:44<00:00,  7.19it/s]\n"
     ]
    }
   ],
   "source": [
    "pt_model.eval()\n",
    "targets_val = []\n",
    "targets_predicted_val= []\n",
    "prob_val_bert=torch.tensor([]).to(device)\n",
    "with torch.inference_mode():\n",
    "  for dl in tqdm(valid_data_loader, total=len(valid_data_loader), desc=\"Validating... \"):\n",
    "  # 1. Forward pass\n",
    "    input_ids = dl['input_ids']\n",
    "    attention_mask = dl['attention_mask']\n",
    "    token_type_ids = dl['token_type_ids']\n",
    "    targets = dl['targets']\n",
    "    input_ids = input_ids.to(device)\n",
    "    attention_mask = attention_mask.to(device)\n",
    "    token_type_ids = token_type_ids.to(device)\n",
    "    targets = targets.to(device)\n",
    "    outputs = pt_model(input_ids=input_ids,attention_mask=attention_mask,token_type_ids=token_type_ids) # model outputs raw logits \n",
    "    _, preds = torch.max(outputs, 1)\n",
    "    prob_val_bert=torch.cat((prob_val_bert,outputs))\n",
    "    preds = preds.cpu().detach().numpy()\n",
    "    targets = targets.cpu().detach().numpy()\n",
    "    targets_predicted_val.append(preds)\n",
    "    targets_val.append(targets)\n"
   ]
  },
  {
   "cell_type": "markdown",
   "metadata": {
    "id": "jfGHRCKBiv2S"
   },
   "source": [
    "test:"
   ]
  },
  {
   "cell_type": "code",
   "execution_count": 301,
   "metadata": {
    "colab": {
     "base_uri": "https://localhost:8080/"
    },
    "id": "GQ1wkXuKoJnM",
    "outputId": "bb4ed0ee-69a5-4661-e93b-ba4321caa65e"
   },
   "outputs": [
    {
     "name": "stderr",
     "output_type": "stream",
     "text": [
      "testing... : 100%|██████████| 317/317 [00:41<00:00,  7.58it/s]\n"
     ]
    }
   ],
   "source": [
    "pt_model.eval()\n",
    "targets_test = []\n",
    "targets_predicted_test = []\n",
    "prob_test_bert=torch.tensor([]).to(device)\n",
    "with torch.inference_mode():\n",
    "  for dl in tqdm(test_data_loader, total=len(test_data_loader), desc=\"testing... \"):\n",
    "  # 1. Forward pass\n",
    "    input_ids = dl['input_ids']\n",
    "    attention_mask = dl['attention_mask']\n",
    "    token_type_ids = dl['token_type_ids']\n",
    "    targets = dl['targets']\n",
    "    input_ids = input_ids.to(device)\n",
    "    attention_mask = attention_mask.to(device)\n",
    "    token_type_ids = token_type_ids.to(device)\n",
    "    targets = targets.to(device)\n",
    "    outputs = pt_model(input_ids=input_ids,attention_mask=attention_mask,token_type_ids=token_type_ids) # model outputs raw logits \n",
    "    _, preds = torch.max(outputs, 1)\n",
    "    prob_test_bert=torch.cat((prob_test_bert,outputs))\n",
    "    preds = preds.cpu().detach().numpy()\n",
    "    targets = targets.cpu().detach().numpy()\n",
    "    targets_predicted_test.append(preds)\n",
    "    targets_test.append(targets)"
   ]
  },
  {
   "cell_type": "code",
   "execution_count": 302,
   "metadata": {
    "id": "kb_kBOKmsbVX"
   },
   "outputs": [],
   "source": [
    "targets_predicted_train= np.concatenate(targets_predicted_train,axis = 0)\n",
    "targets_train = np.concatenate(targets_train,axis = 0)"
   ]
  },
  {
   "cell_type": "code",
   "execution_count": 303,
   "metadata": {
    "id": "80vXKollsgEf"
   },
   "outputs": [],
   "source": [
    "targets_predicted_val = np.concatenate(targets_predicted_val,axis = 0)\n",
    "targets_val = np.concatenate(targets_val,axis = 0)"
   ]
  },
  {
   "cell_type": "code",
   "execution_count": 304,
   "metadata": {
    "id": "l0ahYkABsmoQ"
   },
   "outputs": [],
   "source": [
    "targets_predicted_test = np.concatenate(targets_predicted_test,axis = 0)\n",
    "targets_test = np.concatenate(targets_test,axis = 0)"
   ]
  },
  {
   "cell_type": "code",
   "execution_count": 305,
   "metadata": {
    "id": "z80gl454vW5U"
   },
   "outputs": [],
   "source": [
    "from sklearn.datasets import make_classification\n",
    "from sklearn.metrics import accuracy_score, f1_score, precision_score, recall_score, classification_report, confusion_matrix\n",
    "\n",
    "\n",
    "from sklearn import metrics"
   ]
  },
  {
   "cell_type": "code",
   "execution_count": 306,
   "metadata": {
    "colab": {
     "base_uri": "https://localhost:8080/",
     "height": 386
    },
    "id": "CakwnLQkvZjJ",
    "outputId": "5f3582fd-3d6c-491a-d0f6-a95960b81a18"
   },
   "outputs": [
    {
     "name": "stdout",
     "output_type": "stream",
     "text": [
      "accuracy score on train data: 0.7079545454545455\n",
      "f1 score on train data: 0.7069441114518503\n",
      "precision score on train data: 0.7057446282791796\n",
      "recall score on train data: 0.7116829375653594\n"
     ]
    },
    {
     "data": {
      "text/plain": [
       "Text(0.5, 1.0, 'confusion matrix for train data')"
      ]
     },
     "execution_count": 306,
     "metadata": {},
     "output_type": "execute_result"
    },
    {
     "data": {
      "image/png": "[encoded data removed]",
      "text/plain": [
       "<Figure size 432x288 with 2 Axes>"
      ]
     },
     "metadata": {
      "needs_background": "light"
     },
     "output_type": "display_data"
    }
   ],
   "source": [
    "acc_test = accuracy_score(targets_train,targets_predicted_train)\n",
    "f1_test = f1_score(targets_train, targets_predicted_train, average=\"macro\")\n",
    "pre_test = precision_score(targets_train, targets_predicted_train, average=\"macro\")\n",
    "recall_test = recall_score(targets_train, targets_predicted_train, average=\"macro\")\n",
    "print(f\"accuracy score on train data: {acc_test}\")\n",
    "print(f\"f1 score on train data: {f1_test}\")\n",
    "print(f\"precision score on train data: {pre_test}\")\n",
    "print(f\"recall score on train data: {recall_test}\")\n",
    "confusion_matrix = metrics.confusion_matrix(targets_train, targets_predicted_train)\n",
    "\n",
    "cm_display = metrics.ConfusionMatrixDisplay(confusion_matrix = confusion_matrix, display_labels = [False, True])\n",
    "\n",
    "cm_display.plot()\n",
    "plt.title('confusion matrix for train data')"
   ]
  },
  {
   "cell_type": "code",
   "execution_count": 307,
   "metadata": {
    "colab": {
     "base_uri": "https://localhost:8080/",
     "height": 386
    },
    "id": "jRv_dkRtvb6m",
    "outputId": "ece7add5-9b10-4415-9341-cf93e73b9069"
   },
   "outputs": [
    {
     "name": "stdout",
     "output_type": "stream",
     "text": [
      "accuracy score on validation data: 0.5234050957930081\n",
      "f1 score on validation data: 0.5220989725981453\n",
      "precision score on validation data: 0.5216803796866721\n",
      "recall score on validation data: 0.5233160107740867\n"
     ]
    },
    {
     "data": {
      "text/plain": [
       "Text(0.5, 1.0, 'confusion matrix for val data')"
      ]
     },
     "execution_count": 307,
     "metadata": {},
     "output_type": "execute_result"
    },
    {
     "data": {
      "image/png": "[encoded data removed]",
      "text/plain": [
       "<Figure size 432x288 with 2 Axes>"
      ]
     },
     "metadata": {
      "needs_background": "light"
     },
     "output_type": "display_data"
    }
   ],
   "source": [
    "acc_test = accuracy_score(targets_val,targets_predicted_val)\n",
    "f1_test = f1_score(targets_val, targets_predicted_val, average=\"macro\")\n",
    "pre_test = precision_score(targets_val, targets_predicted_val, average=\"macro\")\n",
    "recall_test = recall_score(targets_val, targets_predicted_val, average=\"macro\")\n",
    "print(f\"accuracy score on validation data: {acc_test}\")\n",
    "print(f\"f1 score on validation data: {f1_test}\")\n",
    "print(f\"precision score on validation data: {pre_test}\")\n",
    "print(f\"recall score on validation data: {recall_test}\")\n",
    "confusion_matrix = metrics.confusion_matrix(targets_val, targets_predicted_val)\n",
    "\n",
    "cm_display = metrics.ConfusionMatrixDisplay(confusion_matrix = confusion_matrix, display_labels = [False, True])\n",
    "\n",
    "cm_display.plot()\n",
    "plt.title('confusion matrix for val data')"
   ]
  },
  {
   "cell_type": "code",
   "execution_count": 308,
   "metadata": {
    "colab": {
     "base_uri": "https://localhost:8080/",
     "height": 386
    },
    "id": "rL5unUMVroxw",
    "outputId": "8954a35e-279b-4a2d-f3a3-39f1bff8f385"
   },
   "outputs": [
    {
     "name": "stdout",
     "output_type": "stream",
     "text": [
      "accuracy score on test data: 0.5123347148213934\n",
      "f1 score on test data: 0.5047362258777134\n",
      "precision score on test data: 0.5091172776319263\n",
      "recall score on test data: 0.5084298098887129\n"
     ]
    },
    {
     "data": {
      "text/plain": [
       "Text(0.5, 1.0, 'confusion matrix for test data')"
      ]
     },
     "execution_count": 308,
     "metadata": {},
     "output_type": "execute_result"
    },
    {
     "data": {
      "image/png": "[encoded data removed]",
      "text/plain": [
       "<Figure size 432x288 with 2 Axes>"
      ]
     },
     "metadata": {
      "needs_background": "light"
     },
     "output_type": "display_data"
    }
   ],
   "source": [
    "acc_test = accuracy_score(targets_test,targets_predicted_test)\n",
    "f1_test = f1_score(targets_test, targets_predicted_test, average=\"macro\")\n",
    "pre_test = precision_score(targets_test, targets_predicted_test, average=\"macro\")\n",
    "recall_test = recall_score(targets_test, targets_predicted_test, average=\"macro\")\n",
    "print(f\"accuracy score on test data: {acc_test}\")\n",
    "print(f\"f1 score on test data: {f1_test}\")\n",
    "print(f\"precision score on test data: {pre_test}\")\n",
    "print(f\"recall score on test data: {recall_test}\")\n",
    "confusion_matrix = metrics.confusion_matrix(targets_test, targets_predicted_test)\n",
    "\n",
    "cm_display = metrics.ConfusionMatrixDisplay(confusion_matrix = confusion_matrix, display_labels = [False, True])\n",
    "\n",
    "cm_display.plot()\n",
    "plt.title('confusion matrix for test data')"
   ]
  },
  {
   "cell_type": "markdown",
   "metadata": {
    "id": "SunVi3FSkqTA"
   },
   "source": [
    "now we combine the BERT model "
   ]
  },
  {
   "cell_type": "code",
   "execution_count": 312,
   "metadata": {
    "colab": {
     "base_uri": "https://localhost:8080/"
    },
    "id": "RFgAB_99pf37",
    "outputId": "b0648a02-1b34-4ada-a3fd-f59a14e9713d"
   },
   "outputs": [
    {
     "name": "stderr",
     "output_type": "stream",
     "text": [
      "extracting ... : 100%|██████████| 20240/20240 [00:04<00:00, 4747.60it/s]\n"
     ]
    }
   ],
   "source": [
    "combined=torch.zeros(len(inp),8*3+1)\n",
    "counter = 0\n",
    "for i in tqdm(range(len(inp)), total = len(inp), desc=\"extracting ... \"):\n",
    "  combined[i,:-3]=inp[i]# loading file\n",
    "  combined[i,-4:-1]=torch.from_numpy(np.array(prob_train_bert[i].cpu()))"
   ]
  },
  {
   "cell_type": "code",
   "execution_count": 313,
   "metadata": {
    "colab": {
     "base_uri": "https://localhost:8080/"
    },
    "id": "0oZfzPpvpeuQ",
    "outputId": "4ab94bae-6744-45a8-cfb8-df266219fb3a"
   },
   "outputs": [
    {
     "name": "stderr",
     "output_type": "stream",
     "text": [
      "extracting... : 100%|██████████| 5063/5063 [00:01<00:00, 4387.28it/s]\n"
     ]
    }
   ],
   "source": [
    "combined_v=torch.zeros(len(inp_v),8*3+1)\n",
    "counter = 0\n",
    "for i in tqdm(range(len(inp_v)), total = len(inp_v), desc=\"extracting... \"):\n",
    "  combined_v[i,:-3]=inp_v[i]# loading file\n",
    "  combined_v[i,-4:-1]=torch.from_numpy(np.array(prob_val_bert[i].cpu()))"
   ]
  },
  {
   "cell_type": "code",
   "execution_count": 314,
   "metadata": {
    "colab": {
     "base_uri": "https://localhost:8080/"
    },
    "id": "f8CvbQn0yMwW",
    "outputId": "0f6faeaa-7670-44d3-8071-1d94f4e3b648"
   },
   "outputs": [
    {
     "name": "stderr",
     "output_type": "stream",
     "text": [
      "extracting ... : 100%|██████████| 5067/5067 [00:01<00:00, 4951.64it/s]\n"
     ]
    }
   ],
   "source": [
    "combined_t=torch.zeros(len(inp_t),8*3+1)\n",
    "counter = 0\n",
    "for i in tqdm(range(len(inp_t)), total = len(inp_t), desc=\"extracting ... \"):\n",
    "  combined_t[i,:-3]=inp_t[i]# loading file\n",
    "  combined_t[i,-4:-1]=torch.from_numpy(np.array(prob_test_bert[i].cpu()))"
   ]
  },
  {
   "cell_type": "markdown",
   "metadata": {
    "id": "seBFYe10mFpB"
   },
   "source": [
    "again we use SVM for our model:"
   ]
  },
  {
   "cell_type": "code",
   "execution_count": 315,
   "metadata": {
    "colab": {
     "base_uri": "https://localhost:8080/"
    },
    "id": "kBzPl-93t_Gx",
    "outputId": "2c224d1f-5469-4e8f-f11e-404557371a18"
   },
   "outputs": [
    {
     "name": "stdout",
     "output_type": "stream",
     "text": [
      "svm based model accuracy = 0.7905632411067194\n"
     ]
    }
   ],
   "source": [
    "from sklearn import svm, datasets\n",
    "import sklearn.model_selection as model_selection\n",
    "from sklearn.metrics import accuracy_score\n",
    "from sklearn.metrics import f1_score\n",
    "rbf3 = svm.SVC(kernel='rbf', gamma=0.5, C=50).fit(combined,sentiment_train)\n",
    "predbert_train= rbf3.predict(combined)\n",
    "acc = np.sum(predbert_train == sentiment_train)/len(predbert_train)\n",
    "print(f\"svm based model accuracy = {acc}\")"
   ]
  },
  {
   "cell_type": "code",
   "execution_count": 316,
   "metadata": {
    "colab": {
     "base_uri": "https://localhost:8080/"
    },
    "id": "16Xr6HCnt_Gy",
    "outputId": "36a3416d-8026-48f2-ea25-440b5a07cc00"
   },
   "outputs": [
    {
     "name": "stdout",
     "output_type": "stream",
     "text": [
      "svm based model accuracy = 0.5192573572980447\n"
     ]
    }
   ],
   "source": [
    "from sklearn import svm, datasets\n",
    "import sklearn.model_selection as model_selection\n",
    "from sklearn.metrics import accuracy_score\n",
    "from sklearn.metrics import f1_score\n",
    "#rbf2 = svm.SVC(kernel='rbf', gamma=0.5, C=10).fit(combined,sentiment_train)\n",
    "predbert_val= rbf3.predict(combined_v)\n",
    "acc = np.sum(predbert_val == sentiment_dev)/len(predbert_val)\n",
    "print(f\"svm based model accuracy = {acc}\")"
   ]
  },
  {
   "cell_type": "code",
   "execution_count": 317,
   "metadata": {
    "colab": {
     "base_uri": "https://localhost:8080/"
    },
    "id": "Plle_O91t_Gy",
    "outputId": "7bfc1fc3-8ad4-42a8-d76b-02bddef56a6c"
   },
   "outputs": [
    {
     "name": "stdout",
     "output_type": "stream",
     "text": [
      "svm based model accuracy = 0.5162818235642392\n"
     ]
    }
   ],
   "source": [
    "from sklearn import svm, datasets\n",
    "import sklearn.model_selection as model_selection\n",
    "from sklearn.metrics import accuracy_score\n",
    "from sklearn.metrics import f1_score\n",
    "#rbf2 = svm.SVC(kernel='rbf', gamma=0.5, C=10).fit(combined,sentiment_train)\n",
    "predbert_test= rbf3.predict(combined_t)\n",
    "acc = np.sum(predbert_test == sentiment_test)/len(predbert_test)\n",
    "print(f\"svm based model accuracy = {acc}\")"
   ]
  },
  {
   "cell_type": "markdown",
   "metadata": {
    "id": "-pAi55UaoRwK"
   },
   "source": [
    "now we train a MLP"
   ]
  },
  {
   "cell_type": "code",
   "execution_count": 318,
   "metadata": {
    "id": "-ow-XbMHt_Gz"
   },
   "outputs": [],
   "source": [
    "batch_size = 64\n",
    "train_datasetbert= comb_Dataset(inp=combined,labels=sentiment_train)\n",
    "train_loaderbert= DataLoader(train_datasetbert,batch_size=batch_size,shuffle = True)"
   ]
  },
  {
   "cell_type": "code",
   "execution_count": 319,
   "metadata": {
    "id": "y8mSZWHlt_G0"
   },
   "outputs": [],
   "source": [
    "batch_size = 64\n",
    "val_datasetbert= comb_Dataset(inp=combined_v,labels=sentiment_dev)\n",
    "val_loaderbert= DataLoader(val_datasetbert,batch_size=batch_size,shuffle = True)"
   ]
  },
  {
   "cell_type": "code",
   "execution_count": 320,
   "metadata": {
    "id": "IPuuZayMt_G0"
   },
   "outputs": [],
   "source": [
    "batch_size = 64\n",
    "test_datasetbert= comb_Dataset(inp=combined_t,labels=sentiment_test)\n",
    "test_loaderbert= DataLoader(test_datasetbert,batch_size=batch_size,shuffle = True)"
   ]
  },
  {
   "cell_type": "code",
   "execution_count": 321,
   "metadata": {
    "id": "r-YKUKB_t_G0"
   },
   "outputs": [],
   "source": [
    "import torch.nn as nn\n",
    "import torch.nn.functional as F\n",
    "\n",
    "\n",
    "class Net3(nn.Module):\n",
    "  def __init__(self):\n",
    "    super(Net3, self).__init__()\n",
    "    self.layers=nn.Sequential(\n",
    "        nn.Linear(3*(6+1+1)+1,64),\n",
    "        nn.ReLU(),\n",
    "        nn.Linear(64,16),\n",
    "        nn.Dropout(p=0.2),\n",
    "        nn.ReLU(),\n",
    "        nn.Dropout(p=0.2),\n",
    "        nn.Linear(16,8),\n",
    "        nn.ReLU(),\n",
    "        nn.Linear(8,3)\n",
    "    )\n",
    "  def forward(self, x):\n",
    "    return self.layers(x)\n",
    "\n",
    "\n",
    "net3 = Net3()"
   ]
  },
  {
   "cell_type": "code",
   "execution_count": 72,
   "metadata": {
    "colab": {
     "base_uri": "https://localhost:8080/"
    },
    "id": "XCZANEVLt_G1",
    "outputId": "092e2ae1-eb62-487f-de66-8ea7702281f1"
   },
   "outputs": [
    {
     "name": "stderr",
     "output_type": "stream",
     "text": [
      "training... : 100%|██████████| 317/317 [00:00<00:00, 399.68it/s]\n",
      "Validating... : 100%|██████████| 80/80 [00:00<00:00, 1389.23it/s]\n"
     ]
    },
    {
     "name": "stdout",
     "output_type": "stream",
     "text": [
      "Epoch: 0 | Loss: 1.33186, Acc: 66.16% | Test Loss: 0.02097, Test Acc: 52.42%\n"
     ]
    },
    {
     "name": "stderr",
     "output_type": "stream",
     "text": [
      "training... : 100%|██████████| 317/317 [00:00<00:00, 402.70it/s]\n",
      "Validating... : 100%|██████████| 80/80 [00:00<00:00, 1485.04it/s]\n"
     ]
    },
    {
     "name": "stdout",
     "output_type": "stream",
     "text": [
      "Epoch: 1 | Loss: 1.13581, Acc: 70.78% | Test Loss: 0.01552, Test Acc: 52.66%\n"
     ]
    },
    {
     "name": "stderr",
     "output_type": "stream",
     "text": [
      "training... : 100%|██████████| 317/317 [00:00<00:00, 407.89it/s]\n",
      "Validating... : 100%|██████████| 80/80 [00:00<00:00, 1369.36it/s]\n"
     ]
    },
    {
     "name": "stdout",
     "output_type": "stream",
     "text": [
      "Epoch: 2 | Loss: 1.12399, Acc: 71.13% | Test Loss: 0.02542, Test Acc: 52.66%\n"
     ]
    },
    {
     "name": "stderr",
     "output_type": "stream",
     "text": [
      "training... : 100%|██████████| 317/317 [00:00<00:00, 403.56it/s]\n",
      "Validating... : 100%|██████████| 80/80 [00:00<00:00, 1546.94it/s]\n"
     ]
    },
    {
     "name": "stdout",
     "output_type": "stream",
     "text": [
      "Epoch: 3 | Loss: 1.11373, Acc: 71.15% | Test Loss: 0.02064, Test Acc: 53.05%\n"
     ]
    },
    {
     "name": "stderr",
     "output_type": "stream",
     "text": [
      "training... : 100%|██████████| 317/317 [00:00<00:00, 399.91it/s]\n",
      "Validating... : 100%|██████████| 80/80 [00:00<00:00, 1485.87it/s]\n"
     ]
    },
    {
     "name": "stdout",
     "output_type": "stream",
     "text": [
      "Epoch: 4 | Loss: 1.11516, Acc: 71.14% | Test Loss: 0.01394, Test Acc: 52.68%\n"
     ]
    },
    {
     "name": "stderr",
     "output_type": "stream",
     "text": [
      "training... : 100%|██████████| 317/317 [00:00<00:00, 398.68it/s]\n",
      "Validating... : 100%|██████████| 80/80 [00:00<00:00, 1569.13it/s]\n"
     ]
    },
    {
     "name": "stdout",
     "output_type": "stream",
     "text": [
      "Epoch: 5 | Loss: 1.11393, Acc: 71.14% | Test Loss: 0.02773, Test Acc: 52.89%\n"
     ]
    },
    {
     "name": "stderr",
     "output_type": "stream",
     "text": [
      "training... : 100%|██████████| 317/317 [00:00<00:00, 400.23it/s]\n",
      "Validating... : 100%|██████████| 80/80 [00:00<00:00, 1495.90it/s]\n"
     ]
    },
    {
     "name": "stdout",
     "output_type": "stream",
     "text": [
      "Epoch: 6 | Loss: 1.11251, Acc: 70.96% | Test Loss: 0.01447, Test Acc: 52.78%\n"
     ]
    },
    {
     "name": "stderr",
     "output_type": "stream",
     "text": [
      "training... : 100%|██████████| 317/317 [00:00<00:00, 367.61it/s]\n",
      "Validating... : 100%|██████████| 80/80 [00:00<00:00, 1038.74it/s]\n"
     ]
    },
    {
     "name": "stdout",
     "output_type": "stream",
     "text": [
      "Epoch: 7 | Loss: 1.10242, Acc: 71.20% | Test Loss: 0.00956, Test Acc: 52.81%\n"
     ]
    },
    {
     "name": "stderr",
     "output_type": "stream",
     "text": [
      "training... : 100%|██████████| 317/317 [00:01<00:00, 299.43it/s]\n",
      "Validating... : 100%|██████████| 80/80 [00:00<00:00, 1025.35it/s]\n"
     ]
    },
    {
     "name": "stdout",
     "output_type": "stream",
     "text": [
      "Epoch: 8 | Loss: 1.10090, Acc: 71.13% | Test Loss: 0.03858, Test Acc: 52.81%\n"
     ]
    },
    {
     "name": "stderr",
     "output_type": "stream",
     "text": [
      "training... : 100%|██████████| 317/317 [00:01<00:00, 273.50it/s]\n",
      "Validating... : 100%|██████████| 80/80 [00:00<00:00, 1058.71it/s]\n"
     ]
    },
    {
     "name": "stdout",
     "output_type": "stream",
     "text": [
      "Epoch: 9 | Loss: 1.10462, Acc: 71.35% | Test Loss: 0.00733, Test Acc: 52.81%\n"
     ]
    },
    {
     "name": "stderr",
     "output_type": "stream",
     "text": [
      "training... : 100%|██████████| 317/317 [00:01<00:00, 241.50it/s]\n",
      "Validating... : 100%|██████████| 80/80 [00:00<00:00, 742.24it/s]\n"
     ]
    },
    {
     "name": "stdout",
     "output_type": "stream",
     "text": [
      "Epoch: 10 | Loss: 1.10231, Acc: 71.15% | Test Loss: 0.02290, Test Acc: 52.99%\n"
     ]
    },
    {
     "name": "stderr",
     "output_type": "stream",
     "text": [
      "training... : 100%|██████████| 317/317 [00:01<00:00, 257.95it/s]\n",
      "Validating... : 100%|██████████| 80/80 [00:00<00:00, 883.57it/s]\n"
     ]
    },
    {
     "name": "stdout",
     "output_type": "stream",
     "text": [
      "Epoch: 11 | Loss: 1.09816, Acc: 71.42% | Test Loss: 0.01614, Test Acc: 53.21%\n"
     ]
    },
    {
     "name": "stderr",
     "output_type": "stream",
     "text": [
      "training... : 100%|██████████| 317/317 [00:01<00:00, 229.65it/s]\n",
      "Validating... : 100%|██████████| 80/80 [00:00<00:00, 755.92it/s]\n"
     ]
    },
    {
     "name": "stdout",
     "output_type": "stream",
     "text": [
      "Epoch: 12 | Loss: 1.09240, Acc: 71.60% | Test Loss: 0.02938, Test Acc: 52.87%\n"
     ]
    },
    {
     "name": "stderr",
     "output_type": "stream",
     "text": [
      "training... : 100%|██████████| 317/317 [00:01<00:00, 265.74it/s]\n",
      "Validating... : 100%|██████████| 80/80 [00:00<00:00, 910.33it/s]\n"
     ]
    },
    {
     "name": "stdout",
     "output_type": "stream",
     "text": [
      "Epoch: 13 | Loss: 1.09217, Acc: 71.39% | Test Loss: 0.01727, Test Acc: 52.87%\n"
     ]
    },
    {
     "name": "stderr",
     "output_type": "stream",
     "text": [
      "training... : 100%|██████████| 317/317 [00:01<00:00, 264.38it/s]\n",
      "Validating... : 100%|██████████| 80/80 [00:00<00:00, 952.44it/s]\n"
     ]
    },
    {
     "name": "stdout",
     "output_type": "stream",
     "text": [
      "Epoch: 14 | Loss: 1.09465, Acc: 71.36% | Test Loss: 0.01985, Test Acc: 52.72%\n"
     ]
    },
    {
     "name": "stderr",
     "output_type": "stream",
     "text": [
      "training... : 100%|██████████| 317/317 [00:00<00:00, 385.99it/s]\n",
      "Validating... : 100%|██████████| 80/80 [00:00<00:00, 1363.61it/s]\n"
     ]
    },
    {
     "name": "stdout",
     "output_type": "stream",
     "text": [
      "Epoch: 15 | Loss: 1.08961, Acc: 71.30% | Test Loss: 0.02885, Test Acc: 52.91%\n"
     ]
    },
    {
     "name": "stderr",
     "output_type": "stream",
     "text": [
      "training... : 100%|██████████| 317/317 [00:00<00:00, 385.29it/s]\n",
      "Validating... : 100%|██████████| 80/80 [00:00<00:00, 1497.89it/s]\n"
     ]
    },
    {
     "name": "stdout",
     "output_type": "stream",
     "text": [
      "Epoch: 16 | Loss: 1.09115, Acc: 71.62% | Test Loss: 0.00688, Test Acc: 52.97%\n"
     ]
    },
    {
     "name": "stderr",
     "output_type": "stream",
     "text": [
      "training... : 100%|██████████| 317/317 [00:00<00:00, 398.75it/s]\n",
      "Validating... : 100%|██████████| 80/80 [00:00<00:00, 1486.08it/s]\n"
     ]
    },
    {
     "name": "stdout",
     "output_type": "stream",
     "text": [
      "Epoch: 17 | Loss: 1.09317, Acc: 71.31% | Test Loss: 0.02548, Test Acc: 52.66%\n"
     ]
    },
    {
     "name": "stderr",
     "output_type": "stream",
     "text": [
      "training... : 100%|██████████| 317/317 [00:00<00:00, 393.86it/s]\n",
      "Validating... : 100%|██████████| 80/80 [00:00<00:00, 1371.72it/s]\n"
     ]
    },
    {
     "name": "stdout",
     "output_type": "stream",
     "text": [
      "Epoch: 18 | Loss: 1.09129, Acc: 71.20% | Test Loss: 0.01591, Test Acc: 52.79%\n"
     ]
    },
    {
     "name": "stderr",
     "output_type": "stream",
     "text": [
      "training... : 100%|██████████| 317/317 [00:00<00:00, 394.03it/s]\n",
      "Validating... : 100%|██████████| 80/80 [00:00<00:00, 1445.90it/s]\n"
     ]
    },
    {
     "name": "stdout",
     "output_type": "stream",
     "text": [
      "Epoch: 19 | Loss: 1.08473, Acc: 71.50% | Test Loss: 0.01940, Test Acc: 52.87%\n"
     ]
    },
    {
     "name": "stderr",
     "output_type": "stream",
     "text": [
      "training... : 100%|██████████| 317/317 [00:01<00:00, 220.72it/s]\n",
      "Validating... : 100%|██████████| 80/80 [00:00<00:00, 849.58it/s]\n"
     ]
    },
    {
     "name": "stdout",
     "output_type": "stream",
     "text": [
      "Epoch: 20 | Loss: 1.08554, Acc: 71.42% | Test Loss: 0.01069, Test Acc: 52.76%\n"
     ]
    },
    {
     "name": "stderr",
     "output_type": "stream",
     "text": [
      "training... : 100%|██████████| 317/317 [00:01<00:00, 279.17it/s]\n",
      "Validating... : 100%|██████████| 80/80 [00:00<00:00, 991.50it/s]\n"
     ]
    },
    {
     "name": "stdout",
     "output_type": "stream",
     "text": [
      "Epoch: 21 | Loss: 1.08805, Acc: 71.43% | Test Loss: 0.01705, Test Acc: 52.64%\n"
     ]
    },
    {
     "name": "stderr",
     "output_type": "stream",
     "text": [
      "training... : 100%|██████████| 317/317 [00:01<00:00, 273.00it/s]\n",
      "Validating... : 100%|██████████| 80/80 [00:00<00:00, 510.70it/s]\n"
     ]
    },
    {
     "name": "stdout",
     "output_type": "stream",
     "text": [
      "Epoch: 22 | Loss: 1.08661, Acc: 71.42% | Test Loss: 0.01611, Test Acc: 52.91%\n"
     ]
    },
    {
     "name": "stderr",
     "output_type": "stream",
     "text": [
      "training... : 100%|██████████| 317/317 [00:02<00:00, 140.22it/s]\n",
      "Validating... : 100%|██████████| 80/80 [00:00<00:00, 462.41it/s]\n"
     ]
    },
    {
     "name": "stdout",
     "output_type": "stream",
     "text": [
      "Epoch: 23 | Loss: 1.08120, Acc: 71.56% | Test Loss: 0.01717, Test Acc: 52.99%\n"
     ]
    },
    {
     "name": "stderr",
     "output_type": "stream",
     "text": [
      "training... : 100%|██████████| 317/317 [00:02<00:00, 152.00it/s]\n",
      "Validating... : 100%|██████████| 80/80 [00:00<00:00, 622.04it/s]\n"
     ]
    },
    {
     "name": "stdout",
     "output_type": "stream",
     "text": [
      "Epoch: 24 | Loss: 1.08608, Acc: 71.71% | Test Loss: 0.02088, Test Acc: 52.89%\n"
     ]
    },
    {
     "name": "stderr",
     "output_type": "stream",
     "text": [
      "training... : 100%|██████████| 317/317 [00:01<00:00, 195.67it/s]\n",
      "Validating... : 100%|██████████| 80/80 [00:00<00:00, 898.78it/s]\n"
     ]
    },
    {
     "name": "stdout",
     "output_type": "stream",
     "text": [
      "Epoch: 25 | Loss: 1.08488, Acc: 71.58% | Test Loss: 0.02318, Test Acc: 52.91%\n"
     ]
    },
    {
     "name": "stderr",
     "output_type": "stream",
     "text": [
      "training... : 100%|██████████| 317/317 [00:00<00:00, 322.90it/s]\n",
      "Validating... : 100%|██████████| 80/80 [00:00<00:00, 1501.42it/s]\n"
     ]
    },
    {
     "name": "stdout",
     "output_type": "stream",
     "text": [
      "Epoch: 26 | Loss: 1.07838, Acc: 71.77% | Test Loss: 0.01889, Test Acc: 52.85%\n"
     ]
    },
    {
     "name": "stderr",
     "output_type": "stream",
     "text": [
      "training... : 100%|██████████| 317/317 [00:00<00:00, 398.55it/s]\n",
      "Validating... : 100%|██████████| 80/80 [00:00<00:00, 1600.02it/s]\n"
     ]
    },
    {
     "name": "stdout",
     "output_type": "stream",
     "text": [
      "Epoch: 27 | Loss: 1.08062, Acc: 71.61% | Test Loss: 0.02401, Test Acc: 52.91%\n"
     ]
    },
    {
     "name": "stderr",
     "output_type": "stream",
     "text": [
      "training... : 100%|██████████| 317/317 [00:00<00:00, 393.60it/s]\n",
      "Validating... : 100%|██████████| 80/80 [00:00<00:00, 1540.41it/s]\n"
     ]
    },
    {
     "name": "stdout",
     "output_type": "stream",
     "text": [
      "Epoch: 28 | Loss: 1.08088, Acc: 71.48% | Test Loss: 0.01679, Test Acc: 52.72%\n"
     ]
    },
    {
     "name": "stderr",
     "output_type": "stream",
     "text": [
      "training... : 100%|██████████| 317/317 [00:00<00:00, 395.51it/s]\n",
      "Validating... : 100%|██████████| 80/80 [00:00<00:00, 1489.71it/s]\n"
     ]
    },
    {
     "name": "stdout",
     "output_type": "stream",
     "text": [
      "Epoch: 29 | Loss: 1.08018, Acc: 71.50% | Test Loss: 0.02459, Test Acc: 52.64%\n"
     ]
    },
    {
     "name": "stderr",
     "output_type": "stream",
     "text": [
      "training... : 100%|██████████| 317/317 [00:00<00:00, 389.06it/s]\n",
      "Validating... : 100%|██████████| 80/80 [00:00<00:00, 1573.07it/s]\n"
     ]
    },
    {
     "name": "stdout",
     "output_type": "stream",
     "text": [
      "Epoch: 30 | Loss: 1.07907, Acc: 71.71% | Test Loss: 0.02344, Test Acc: 52.70%\n"
     ]
    },
    {
     "name": "stderr",
     "output_type": "stream",
     "text": [
      "training... : 100%|██████████| 317/317 [00:00<00:00, 391.18it/s]\n",
      "Validating... : 100%|██████████| 80/80 [00:00<00:00, 1375.48it/s]\n"
     ]
    },
    {
     "name": "stdout",
     "output_type": "stream",
     "text": [
      "Epoch: 31 | Loss: 1.08224, Acc: 71.55% | Test Loss: 0.02126, Test Acc: 52.78%\n"
     ]
    },
    {
     "name": "stderr",
     "output_type": "stream",
     "text": [
      "training... : 100%|██████████| 317/317 [00:00<00:00, 390.98it/s]\n",
      "Validating... : 100%|██████████| 80/80 [00:00<00:00, 1378.63it/s]\n"
     ]
    },
    {
     "name": "stdout",
     "output_type": "stream",
     "text": [
      "Epoch: 32 | Loss: 1.07711, Acc: 71.81% | Test Loss: 0.03234, Test Acc: 52.81%\n"
     ]
    },
    {
     "name": "stderr",
     "output_type": "stream",
     "text": [
      "training... : 100%|██████████| 317/317 [00:00<00:00, 375.29it/s]\n",
      "Validating... : 100%|██████████| 80/80 [00:00<00:00, 868.42it/s]\n"
     ]
    },
    {
     "name": "stdout",
     "output_type": "stream",
     "text": [
      "Epoch: 33 | Loss: 1.08003, Acc: 71.50% | Test Loss: 0.01631, Test Acc: 52.60%\n"
     ]
    },
    {
     "name": "stderr",
     "output_type": "stream",
     "text": [
      "training... : 100%|██████████| 317/317 [00:01<00:00, 241.18it/s]\n",
      "Validating... : 100%|██████████| 80/80 [00:00<00:00, 1028.57it/s]\n"
     ]
    },
    {
     "name": "stdout",
     "output_type": "stream",
     "text": [
      "Epoch: 34 | Loss: 1.07617, Acc: 71.46% | Test Loss: 0.01505, Test Acc: 52.64%\n"
     ]
    },
    {
     "name": "stderr",
     "output_type": "stream",
     "text": [
      "training... : 100%|██████████| 317/317 [00:01<00:00, 217.56it/s]\n",
      "Validating... : 100%|██████████| 80/80 [00:00<00:00, 478.18it/s]\n"
     ]
    },
    {
     "name": "stdout",
     "output_type": "stream",
     "text": [
      "Epoch: 35 | Loss: 1.07410, Acc: 71.67% | Test Loss: 0.02442, Test Acc: 52.62%\n"
     ]
    },
    {
     "name": "stderr",
     "output_type": "stream",
     "text": [
      "training... : 100%|██████████| 317/317 [00:01<00:00, 187.32it/s]\n",
      "Validating... : 100%|██████████| 80/80 [00:00<00:00, 436.72it/s]\n"
     ]
    },
    {
     "name": "stdout",
     "output_type": "stream",
     "text": [
      "Epoch: 36 | Loss: 1.07431, Acc: 71.76% | Test Loss: 0.01399, Test Acc: 52.68%\n"
     ]
    },
    {
     "name": "stderr",
     "output_type": "stream",
     "text": [
      "training... : 100%|██████████| 317/317 [00:01<00:00, 168.90it/s]\n",
      "Validating... : 100%|██████████| 80/80 [00:00<00:00, 439.51it/s]"
     ]
    },
    {
     "name": "stdout",
     "output_type": "stream",
     "text": [
      "early stopping happend!\n",
      "Training complete in 0m 46s\n",
      "Best val Acc: 53.209560\n"
     ]
    },
    {
     "name": "stderr",
     "output_type": "stream",
     "text": [
      "\n"
     ]
    }
   ],
   "source": [
    "criterion = nn.CrossEntropyLoss()\n",
    "\n",
    "# Observe that only parameters of final layer are being optimized as\n",
    "# opposed to before.\n",
    "optimizer= optim.Adam(net3.parameters(), lr=0.001)\n",
    "# Decay LR by a factor of 0.5 every 20 epochs\n",
    "exp_lr_scheduler = lr_scheduler.StepLR(optimizer, step_size=100, gamma=0.1)\n",
    "\n",
    "net3 = net3.to(device)\n",
    "model_bert_trained,best_lossbert,best_accbert = train_model_manual(net3, criterion, optimizer,exp_lr_scheduler,20,train_loaderbert,val_loaderbert,len(train_loaderbert),len(val_loaderbert),num_epochs=100)"
   ]
  },
  {
   "cell_type": "code",
   "execution_count": 322,
   "metadata": {
    "colab": {
     "base_uri": "https://localhost:8080/"
    },
    "id": "raQifhzmt_G1",
    "outputId": "7b5eeb0a-9383-45be-fa13-45da2dc89e50"
   },
   "outputs": [
    {
     "name": "stderr",
     "output_type": "stream",
     "text": [
      "Testing... : 100%|██████████| 317/317 [00:00<00:00, 1195.48it/s]"
     ]
    },
    {
     "name": "stdout",
     "output_type": "stream",
     "text": [
      "\n",
      "\n",
      "accuracy on train data = 0.7244564890861511\n"
     ]
    },
    {
     "name": "stderr",
     "output_type": "stream",
     "text": [
      "\n"
     ]
    }
   ],
   "source": [
    "model_bert_trained.eval()\n",
    "acc_test = 0\n",
    "prob_train=torch.tensor([]).to(device)\n",
    "label_train=torch.tensor([]).to(device)\n",
    "with torch.inference_mode():\n",
    "  for batch,label in tqdm(train_loaderbert, total=len(train_loaderbert), desc=\"Testing... \"):\n",
    "  # 1. Forward pass\n",
    "    batch = batch.to(device)\n",
    "    label = label.to(device)\n",
    "    output = model_bert_trained(batch) # model outputs raw logits \n",
    "    _, preds = torch.max(output, 1)\n",
    "    prob_train=torch.cat((prob_train,preds))\n",
    "    label_train=torch.cat((label_train,label))\n",
    "    acc_test += torch.sum(preds == label.data)\n",
    "print(\"\\n\")\n",
    "print(f'accuracy on train data = {acc_test/len(train_datasetbert)}')"
   ]
  },
  {
   "cell_type": "code",
   "execution_count": 323,
   "metadata": {
    "colab": {
     "base_uri": "https://localhost:8080/"
    },
    "id": "t1fhw_ONt_G2",
    "outputId": "997caea1-65d0-4be6-f98f-c398b280d38f"
   },
   "outputs": [
    {
     "name": "stderr",
     "output_type": "stream",
     "text": [
      "Testing... : 100%|██████████| 80/80 [00:00<00:00, 854.70it/s]"
     ]
    },
    {
     "name": "stdout",
     "output_type": "stream",
     "text": [
      "\n",
      "\n",
      "accuracy on val data = 0.5320956110954285\n"
     ]
    },
    {
     "name": "stderr",
     "output_type": "stream",
     "text": [
      "\n"
     ]
    }
   ],
   "source": [
    "model_bert_trained.eval()\n",
    "acc_test = 0\n",
    "prob_val=torch.tensor([]).to(device)\n",
    "label_val=torch.tensor([]).to(device)\n",
    "with torch.inference_mode():\n",
    "  for batch,label in tqdm(val_loaderbert, total=len(val_loaderbert), desc=\"Testing... \"):\n",
    "  # 1. Forward pass\n",
    "    batch = batch.to(device)\n",
    "    label = label.to(device)\n",
    "    output = model_bert_trained(batch) # model outputs raw logits \n",
    "    _, preds = torch.max(output, 1)\n",
    "    prob_val=torch.cat((prob_val,preds))\n",
    "    label_val=torch.cat((label_val,label))\n",
    "    acc_test += torch.sum(preds == label.data)\n",
    "print(\"\\n\")\n",
    "print(f'accuracy on val data = {acc_test/len(val_datasetbert)}')"
   ]
  },
  {
   "cell_type": "code",
   "execution_count": 324,
   "metadata": {
    "colab": {
     "base_uri": "https://localhost:8080/"
    },
    "id": "JA0oT5g5t_G3",
    "outputId": "f617180e-bd7e-41d0-f83b-a531e5fa0642"
   },
   "outputs": [
    {
     "name": "stderr",
     "output_type": "stream",
     "text": [
      "Testing... : 100%|██████████| 80/80 [00:00<00:00, 232.61it/s]"
     ]
    },
    {
     "name": "stdout",
     "output_type": "stream",
     "text": [
      "\n",
      "\n",
      "accuracy on test data = 0.5245707631111145\n"
     ]
    },
    {
     "name": "stderr",
     "output_type": "stream",
     "text": [
      "\n"
     ]
    }
   ],
   "source": [
    "model_bert_trained.eval()\n",
    "acc_test = 0\n",
    "prob_test=torch.tensor([]).to(device)\n",
    "label_test=torch.tensor([]).to(device)\n",
    "with torch.inference_mode():\n",
    "  for batch,label in tqdm(test_loaderbert, total=len(test_loaderbert), desc=\"Testing... \"):\n",
    "  # 1. Forward pass\n",
    "    batch = batch.to(device)\n",
    "    label = label.to(device)\n",
    "    output = model_bert_trained(batch) # model outputs raw logits \n",
    "    _, preds = torch.max(output, 1)\n",
    "    prob_test=torch.cat((prob_test,preds))\n",
    "    label_test=torch.cat((label_test,label))\n",
    "    acc_test += torch.sum(preds == label.data)\n",
    "print(\"\\n\")\n",
    "print(f'accuracy on test data = {acc_test/len(test_datasetbert)}')"
   ]
  },
  {
   "cell_type": "code",
   "execution_count": 325,
   "metadata": {
    "colab": {
     "base_uri": "https://localhost:8080/",
     "height": 295
    },
    "id": "JN8qaUoLt_G3",
    "outputId": "9585a1ee-ad30-4e52-ff37-11b67fd39610"
   },
   "outputs": [
    {
     "data": {
      "image/png": "[encoded data removed]",
      "text/plain": [
       "<Figure size 432x288 with 2 Axes>"
      ]
     },
     "metadata": {
      "needs_background": "light"
     },
     "output_type": "display_data"
    }
   ],
   "source": [
    "from sklearn import metrics\n",
    "confusion_matrix = metrics.confusion_matrix(label_train.cpu(), prob_train.cpu())\n",
    "cm_display = metrics.ConfusionMatrixDisplay(confusion_matrix = confusion_matrix, display_labels = ['0', '1','2'])\n",
    "cm_display.plot()\n",
    "plt.title('confusion matrix for train data')\n",
    "\n",
    "plt.show()"
   ]
  },
  {
   "cell_type": "code",
   "execution_count": 326,
   "metadata": {
    "colab": {
     "base_uri": "https://localhost:8080/"
    },
    "id": "JVh_C5XW17zF",
    "outputId": "07883372-c3af-4447-e757-b820f067b155"
   },
   "outputs": [
    {
     "name": "stdout",
     "output_type": "stream",
     "text": [
      "accuracy score on train data: 0.7244565217391304\n",
      "f1 score on train data: 0.7191035584463048\n",
      "precision score on train data: 0.7343971539453918\n",
      "recall score on train data: 0.7132120987174652\n"
     ]
    }
   ],
   "source": [
    "\n",
    "acc_test = accuracy_score(label_train.cpu(),prob_train.cpu())\n",
    "f1_test = f1_score(label_train.cpu(), prob_train.cpu(), average=\"macro\")\n",
    "pre_test = precision_score(label_train.cpu(), prob_train.cpu(), average=\"macro\")\n",
    "recall_test = recall_score(label_train.cpu(), prob_train.cpu(), average=\"macro\")\n",
    "print(f\"accuracy score on train data: {acc_test}\")\n",
    "print(f\"f1 score on train data: {f1_test}\")\n",
    "print(f\"precision score on train data: {pre_test}\")\n",
    "print(f\"recall score on train data: {recall_test}\")"
   ]
  },
  {
   "cell_type": "code",
   "execution_count": 327,
   "metadata": {
    "colab": {
     "base_uri": "https://localhost:8080/",
     "height": 295
    },
    "id": "X9bazqV2t_G4",
    "outputId": "d217d1cf-adb8-43a7-962c-9fbe7f57369a"
   },
   "outputs": [
    {
     "data": {
      "image/png": "[encoded data removed]",
      "text/plain": [
       "<Figure size 432x288 with 2 Axes>"
      ]
     },
     "metadata": {
      "needs_background": "light"
     },
     "output_type": "display_data"
    }
   ],
   "source": [
    "from sklearn import metrics\n",
    "confusion_matrix = metrics.confusion_matrix(label_val.cpu(), prob_val.cpu())\n",
    "cm_display = metrics.ConfusionMatrixDisplay(confusion_matrix = confusion_matrix, display_labels = ['0', '1','2'])\n",
    "cm_display.plot()\n",
    "plt.title('confusion matrix for val data')\n",
    "\n",
    "plt.show()"
   ]
  },
  {
   "cell_type": "code",
   "execution_count": 328,
   "metadata": {
    "colab": {
     "base_uri": "https://localhost:8080/"
    },
    "id": "CvvK8y2-3_gC",
    "outputId": "c3d278c5-e640-41a1-8e06-1f83f810734d"
   },
   "outputs": [
    {
     "name": "stdout",
     "output_type": "stream",
     "text": [
      "accuracy score on val data: 0.532095595496741\n",
      "f1 score on val data: 0.5226094630273825\n",
      "precision score on val data: 0.5362889992727636\n",
      "recall score on val data: 0.5223999770154765\n"
     ]
    }
   ],
   "source": [
    "\n",
    "acc_test = accuracy_score(label_val.cpu(),prob_val.cpu())\n",
    "f1_test = f1_score(label_val.cpu(),prob_val.cpu(), average=\"macro\")\n",
    "pre_test = precision_score(label_val.cpu(),prob_val.cpu(), average=\"macro\")\n",
    "recall_test = recall_score(label_val.cpu(),prob_val.cpu(), average=\"macro\")\n",
    "print(f\"accuracy score on val data: {acc_test}\")\n",
    "print(f\"f1 score on val data: {f1_test}\")\n",
    "print(f\"precision score on val data: {pre_test}\")\n",
    "print(f\"recall score on val data: {recall_test}\")"
   ]
  },
  {
   "cell_type": "code",
   "execution_count": 329,
   "metadata": {
    "colab": {
     "base_uri": "https://localhost:8080/",
     "height": 295
    },
    "id": "RA1cZP0Ht_G4",
    "outputId": "588ff66d-7d61-43a0-c2a9-125edb38d95b"
   },
   "outputs": [
    {
     "data": {
      "image/png": "[encoded data removed]",
      "text/plain": [
       "<Figure size 432x288 with 2 Axes>"
      ]
     },
     "metadata": {
      "needs_background": "light"
     },
     "output_type": "display_data"
    }
   ],
   "source": [
    "from sklearn import metrics\n",
    "confusion_matrix = metrics.confusion_matrix(label_test.cpu(), prob_test.cpu())\n",
    "cm_display = metrics.ConfusionMatrixDisplay(confusion_matrix = confusion_matrix, display_labels = ['0', '1','2'])\n",
    "cm_display.plot()\n",
    "plt.title('confusion matrix for test data')\n",
    "\n",
    "plt.show()"
   ]
  },
  {
   "cell_type": "code",
   "execution_count": 330,
   "metadata": {
    "colab": {
     "base_uri": "https://localhost:8080/"
    },
    "id": "5zamDOcn7plw",
    "outputId": "8da87357-869b-4192-b674-e79be6e9dad9"
   },
   "outputs": [
    {
     "name": "stdout",
     "output_type": "stream",
     "text": [
      "accuracy score on test data: 0.5245707519242155\n",
      "f1 score on test data: 0.5075196391948595\n",
      "precision score on test data: 0.5218692844471469\n",
      "recall score on test data: 0.5110568914998822\n"
     ]
    }
   ],
   "source": [
    "\n",
    "acc_test = accuracy_score(label_test.cpu(), prob_test.cpu())\n",
    "f1_test = f1_score(label_test.cpu(), prob_test.cpu(), average=\"macro\")\n",
    "pre_test = precision_score(label_test.cpu(), prob_test.cpu(), average=\"macro\")\n",
    "recall_test = recall_score(label_test.cpu(), prob_test.cpu(), average=\"macro\")\n",
    "print(f\"accuracy score on test data: {acc_test}\")\n",
    "print(f\"f1 score on test data: {f1_test}\")\n",
    "print(f\"precision score on test data: {pre_test}\")\n",
    "print(f\"recall score on test data: {recall_test}\")"
   ]
  },
  {
   "cell_type": "code",
   "execution_count": 331,
   "metadata": {
    "id": "xEn_iM1HyA3j"
   },
   "outputs": [],
   "source": [
    "torch.save(model_bert_trained.state_dict(), '/content/gdrive/MyDrive/phase3/bert_model/best/model_bert_trained.pth')"
   ]
  }
 ],
 "metadata": {
  "accelerator": "GPU",
  "colab": {
   "provenance": []
  },
  "gpuClass": "standard",
  "kernelspec": {
   "display_name": "Python 3 (ipykernel)",
   "language": "python",
   "name": "python3"
  },
  "language_info": {
   "codemirror_mode": {
    "name": "ipython",
    "version": 3
   },
   "file_extension": ".py",
   "mimetype": "text/x-python",
   "name": "python",
   "nbconvert_exporter": "python",
   "pygments_lexer": "ipython3",
   "version": "3.11.5"
  },
  "widgets": {
   "application/vnd.jupyter.widget-state+json": {
    "0a4592ae820f48c4b703b48325d39294": {
     "model_module": "@jupyter-widgets/controls",
     "model_module_version": "1.5.0",
     "model_name": "DescriptionStyleModel",
     "state": {
      "_model_module": "@jupyter-widgets/controls",
      "_model_module_version": "1.5.0",
      "_model_name": "DescriptionStyleModel",
      "_view_count": null,
      "_view_module": "@jupyter-widgets/base",
      "_view_module_version": "1.2.0",
      "_view_name": "StyleView",
      "description_width": ""
     }
    },
    "0f7ddd7136cb4cfd8d96e5ddc04b29bb": {
     "model_module": "@jupyter-widgets/base",
     "model_module_version": "1.2.0",
     "model_name": "LayoutModel",
     "state": {
      "_model_module": "@jupyter-widgets/base",
      "_model_module_version": "1.2.0",
      "_model_name": "LayoutModel",
      "_view_count": null,
      "_view_module": "@jupyter-widgets/base",
      "_view_module_version": "1.2.0",
      "_view_name": "LayoutView",
      "align_content": null,
      "align_items": null,
      "align_self": null,
      "border": null,
      "bottom": null,
      "display": null,
      "flex": null,
      "flex_flow": null,
      "grid_area": null,
      "grid_auto_columns": null,
      "grid_auto_flow": null,
      "grid_auto_rows": null,
      "grid_column": null,
      "grid_gap": null,
      "grid_row": null,
      "grid_template_areas": null,
      "grid_template_columns": null,
      "grid_template_rows": null,
      "height": null,
      "justify_content": null,
      "justify_items": null,
      "left": null,
      "margin": null,
      "max_height": null,
      "max_width": null,
      "min_height": null,
      "min_width": null,
      "object_fit": null,
      "object_position": null,
      "order": null,
      "overflow": null,
      "overflow_x": null,
      "overflow_y": null,
      "padding": null,
      "right": null,
      "top": null,
      "visibility": null,
      "width": null
     }
    },
    "2978d75cb3dc4bbf9ce26be6e21aa686": {
     "model_module": "@jupyter-widgets/controls",
     "model_module_version": "1.5.0",
     "model_name": "HTMLModel",
     "state": {
      "_dom_classes": [],
      "_model_module": "@jupyter-widgets/controls",
      "_model_module_version": "1.5.0",
      "_model_name": "HTMLModel",
      "_view_count": null,
      "_view_module": "@jupyter-widgets/controls",
      "_view_module_version": "1.5.0",
      "_view_name": "HTMLView",
      "description": "",
      "description_tooltip": null,
      "layout": "IPY_MODEL_9c38dfe2d8c2413ca71ec9546b5bd9bb",
      "placeholder": "​",
      "style": "IPY_MODEL_61ff190b59384779aaefb0feb01f0cec",
      "value": "100%"
     }
    },
    "35f0b1ae7ddd44fea5c5057f1584a61f": {
     "model_module": "@jupyter-widgets/controls",
     "model_module_version": "1.5.0",
     "model_name": "HBoxModel",
     "state": {
      "_dom_classes": [],
      "_model_module": "@jupyter-widgets/controls",
      "_model_module_version": "1.5.0",
      "_model_name": "HBoxModel",
      "_view_count": null,
      "_view_module": "@jupyter-widgets/controls",
      "_view_module_version": "1.5.0",
      "_view_name": "HBoxView",
      "box_style": "",
      "children": [
       "IPY_MODEL_2978d75cb3dc4bbf9ce26be6e21aa686",
       "IPY_MODEL_ee00e5a33f9b403eae1d69d301d0c3c8",
       "IPY_MODEL_eaa990966b6545b086ffadbd744f5eaf"
      ],
      "layout": "IPY_MODEL_0f7ddd7136cb4cfd8d96e5ddc04b29bb"
     }
    },
    "4fb84155b5ef43b88c7307c6d551c005": {
     "model_module": "@jupyter-widgets/base",
     "model_module_version": "1.2.0",
     "model_name": "LayoutModel",
     "state": {
      "_model_module": "@jupyter-widgets/base",
      "_model_module_version": "1.2.0",
      "_model_name": "LayoutModel",
      "_view_count": null,
      "_view_module": "@jupyter-widgets/base",
      "_view_module_version": "1.2.0",
      "_view_name": "LayoutView",
      "align_content": null,
      "align_items": null,
      "align_self": null,
      "border": null,
      "bottom": null,
      "display": null,
      "flex": null,
      "flex_flow": null,
      "grid_area": null,
      "grid_auto_columns": null,
      "grid_auto_flow": null,
      "grid_auto_rows": null,
      "grid_column": null,
      "grid_gap": null,
      "grid_row": null,
      "grid_template_areas": null,
      "grid_template_columns": null,
      "grid_template_rows": null,
      "height": null,
      "justify_content": null,
      "justify_items": null,
      "left": null,
      "margin": null,
      "max_height": null,
      "max_width": null,
      "min_height": null,
      "min_width": null,
      "object_fit": null,
      "object_position": null,
      "order": null,
      "overflow": null,
      "overflow_x": null,
      "overflow_y": null,
      "padding": null,
      "right": null,
      "top": null,
      "visibility": null,
      "width": null
     }
    },
    "61ff190b59384779aaefb0feb01f0cec": {
     "model_module": "@jupyter-widgets/controls",
     "model_module_version": "1.5.0",
     "model_name": "DescriptionStyleModel",
     "state": {
      "_model_module": "@jupyter-widgets/controls",
      "_model_module_version": "1.5.0",
      "_model_name": "DescriptionStyleModel",
      "_view_count": null,
      "_view_module": "@jupyter-widgets/base",
      "_view_module_version": "1.2.0",
      "_view_name": "StyleView",
      "description_width": ""
     }
    },
    "67bf4099f9da4f9ca67ec4bfc160a9dc": {
     "model_module": "@jupyter-widgets/base",
     "model_module_version": "1.2.0",
     "model_name": "LayoutModel",
     "state": {
      "_model_module": "@jupyter-widgets/base",
      "_model_module_version": "1.2.0",
      "_model_name": "LayoutModel",
      "_view_count": null,
      "_view_module": "@jupyter-widgets/base",
      "_view_module_version": "1.2.0",
      "_view_name": "LayoutView",
      "align_content": null,
      "align_items": null,
      "align_self": null,
      "border": null,
      "bottom": null,
      "display": null,
      "flex": null,
      "flex_flow": null,
      "grid_area": null,
      "grid_auto_columns": null,
      "grid_auto_flow": null,
      "grid_auto_rows": null,
      "grid_column": null,
      "grid_gap": null,
      "grid_row": null,
      "grid_template_areas": null,
      "grid_template_columns": null,
      "grid_template_rows": null,
      "height": null,
      "justify_content": null,
      "justify_items": null,
      "left": null,
      "margin": null,
      "max_height": null,
      "max_width": null,
      "min_height": null,
      "min_width": null,
      "object_fit": null,
      "object_position": null,
      "order": null,
      "overflow": null,
      "overflow_x": null,
      "overflow_y": null,
      "padding": null,
      "right": null,
      "top": null,
      "visibility": null,
      "width": null
     }
    },
    "760aa57f39ca4580bfb0a2aaaf9ee8b0": {
     "model_module": "@jupyter-widgets/controls",
     "model_module_version": "1.5.0",
     "model_name": "ProgressStyleModel",
     "state": {
      "_model_module": "@jupyter-widgets/controls",
      "_model_module_version": "1.5.0",
      "_model_name": "ProgressStyleModel",
      "_view_count": null,
      "_view_module": "@jupyter-widgets/base",
      "_view_module_version": "1.2.0",
      "_view_name": "StyleView",
      "bar_color": null,
      "description_width": ""
     }
    },
    "9c38dfe2d8c2413ca71ec9546b5bd9bb": {
     "model_module": "@jupyter-widgets/base",
     "model_module_version": "1.2.0",
     "model_name": "LayoutModel",
     "state": {
      "_model_module": "@jupyter-widgets/base",
      "_model_module_version": "1.2.0",
      "_model_name": "LayoutModel",
      "_view_count": null,
      "_view_module": "@jupyter-widgets/base",
      "_view_module_version": "1.2.0",
      "_view_name": "LayoutView",
      "align_content": null,
      "align_items": null,
      "align_self": null,
      "border": null,
      "bottom": null,
      "display": null,
      "flex": null,
      "flex_flow": null,
      "grid_area": null,
      "grid_auto_columns": null,
      "grid_auto_flow": null,
      "grid_auto_rows": null,
      "grid_column": null,
      "grid_gap": null,
      "grid_row": null,
      "grid_template_areas": null,
      "grid_template_columns": null,
      "grid_template_rows": null,
      "height": null,
      "justify_content": null,
      "justify_items": null,
      "left": null,
      "margin": null,
      "max_height": null,
      "max_width": null,
      "min_height": null,
      "min_width": null,
      "object_fit": null,
      "object_position": null,
      "order": null,
      "overflow": null,
      "overflow_x": null,
      "overflow_y": null,
      "padding": null,
      "right": null,
      "top": null,
      "visibility": null,
      "width": null
     }
    },
    "eaa990966b6545b086ffadbd744f5eaf": {
     "model_module": "@jupyter-widgets/controls",
     "model_module_version": "1.5.0",
     "model_name": "HTMLModel",
     "state": {
      "_dom_classes": [],
      "_model_module": "@jupyter-widgets/controls",
      "_model_module_version": "1.5.0",
      "_model_name": "HTMLModel",
      "_view_count": null,
      "_view_module": "@jupyter-widgets/controls",
      "_view_module_version": "1.5.0",
      "_view_name": "HTMLView",
      "description": "",
      "description_tooltip": null,
      "layout": "IPY_MODEL_67bf4099f9da4f9ca67ec4bfc160a9dc",
      "placeholder": "​",
      "style": "IPY_MODEL_0a4592ae820f48c4b703b48325d39294",
      "value": " 1.71M/1.71M [00:00&lt;00:00, 2.00MB/s]"
     }
    },
    "ee00e5a33f9b403eae1d69d301d0c3c8": {
     "model_module": "@jupyter-widgets/controls",
     "model_module_version": "1.5.0",
     "model_name": "FloatProgressModel",
     "state": {
      "_dom_classes": [],
      "_model_module": "@jupyter-widgets/controls",
      "_model_module_version": "1.5.0",
      "_model_name": "FloatProgressModel",
      "_view_count": null,
      "_view_module": "@jupyter-widgets/controls",
      "_view_module_version": "1.5.0",
      "_view_name": "ProgressView",
      "bar_style": "success",
      "description": "",
      "description_tooltip": null,
      "layout": "IPY_MODEL_4fb84155b5ef43b88c7307c6d551c005",
      "max": 1789735,
      "min": 0,
      "orientation": "horizontal",
      "style": "IPY_MODEL_760aa57f39ca4580bfb0a2aaaf9ee8b0",
      "value": 1789735
     }
    }
   }
  }
 },
 "nbformat": 4,
 "nbformat_minor": 1
}
