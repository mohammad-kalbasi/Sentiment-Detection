{
 "cells": [
  {
   "cell_type": "code",
   "execution_count": null,
   "metadata": {
    "colab": {
     "base_uri": "https://localhost:8080/"
    },
    "id": "gfGCkKxsQ2uS",
    "outputId": "8273096f-2081-4bc3-ab49-da7e1b9e019f"
   },
   "outputs": [
    {
     "name": "stderr",
     "output_type": "stream",
     "text": [
      "[nltk_data] Downloading package stopwords to /root/nltk_data...\n",
      "[nltk_data]   Unzipping corpora/stopwords.zip.\n"
     ]
    },
    {
     "data": {
      "text/plain": [
       "True"
      ]
     },
     "execution_count": 2,
     "metadata": {},
     "output_type": "execute_result"
    }
   ],
   "source": [
    "# first importing libraries\n",
    "import base64\n",
    "import requests\n",
    "import numpy as np\n",
    "import gdown\n",
    "from zipfile import ZipFile\n",
    "import os\n",
    "\n",
    "import torch\n",
    "from torch.utils.data import Dataset\n",
    "from torchvision import datasets\n",
    "from torchvision.transforms import ToTensor\n",
    "import matplotlib.pyplot as plt\n",
    "\n",
    "import pandas as pd\n",
    "from torchvision.io import read_image\n",
    "import re\n",
    "import cv2\n",
    "from skimage.transform import resize\n",
    "from google.colab.patches import cv2_imshow\n",
    "from tqdm import tqdm\n",
    "from torch.optim import lr_scheduler\n",
    "\n",
    "\n",
    "from __future__ import print_function\n",
    "import argparse\n",
    "import numpy  as np\n",
    "from PIL import Image\n",
    "import torch\n",
    "import torch.nn as nn\n",
    "import torch.nn.functional as F\n",
    "import torchvision\n",
    "import torch.optim as optim\n",
    "from torch.utils.data import DataLoader, Dataset\n",
    "from torch.utils.data.sampler import SubsetRandomSampler\n",
    "from torchvision import transforms\n",
    "\n",
    "import time\n",
    "import os\n",
    "import copy\n",
    "import string\n",
    "\n",
    "from nltk.corpus import stopwords\n",
    "import nltk\n",
    "import itertools\n",
    "nltk.download('stopwords')\n"
   ]
  },
  {
   "cell_type": "code",
   "execution_count": null,
   "metadata": {
    "colab": {
     "base_uri": "https://localhost:8080/"
    },
    "id": "EtCUVN6eRKD6",
    "outputId": "84c659b8-1ac9-477e-cf9e-a774c9e37543"
   },
   "outputs": [
    {
     "name": "stdout",
     "output_type": "stream",
     "text": [
      "cuda\n"
     ]
    }
   ],
   "source": [
    "device = \"cuda\" if torch.cuda.is_available() else \"cpu\"\n",
    "print(device)"
   ]
  },
  {
   "cell_type": "code",
   "execution_count": null,
   "metadata": {
    "colab": {
     "base_uri": "https://localhost:8080/"
    },
    "id": "0JC1aY4fS036",
    "outputId": "87601c75-59a3-4f98-85a2-b855cc8b9e0a"
   },
   "outputs": [
    {
     "name": "stdout",
     "output_type": "stream",
     "text": [
      "Cloning into 'MSCTD'...\n",
      "remote: Enumerating objects: 1217, done.\u001b[K\n",
      "remote: Counting objects: 100% (27/27), done.\u001b[K\n",
      "remote: Compressing objects: 100% (23/23), done.\u001b[K\n",
      "remote: Total 1217 (delta 13), reused 7 (delta 3), pack-reused 1190\u001b[K\n",
      "Receiving objects: 100% (1217/1217), 102.24 MiB | 24.82 MiB/s, done.\n",
      "Resolving deltas: 100% (616/616), done.\n",
      "Updating files: 100% (934/934), done.\n"
     ]
    }
   ],
   "source": [
    "!git clone https://github.com/XL2248/MSCTD.git"
   ]
  },
  {
   "cell_type": "code",
   "execution_count": null,
   "metadata": {
    "colab": {
     "base_uri": "https://localhost:8080/"
    },
    "id": "Vsno5fNiHHEm",
    "outputId": "5b86ea3a-323f-46d7-a77c-2b5deb1bc399"
   },
   "outputs": [
    {
     "name": "stdout",
     "output_type": "stream",
     "text": [
      "Looking in indexes: https://pypi.org/simple, https://us-python.pkg.dev/colab-wheels/public/simple/\n",
      "Collecting transformers\n",
      "  Downloading transformers-4.26.0-py3-none-any.whl (6.3 MB)\n",
      "\u001b[2K     \u001b[90m━━━━━━━━━━━━━━━━━━━━━━━━━━━━━━━━━━━━━━━━\u001b[0m \u001b[32m6.3/6.3 MB\u001b[0m \u001b[31m55.2 MB/s\u001b[0m eta \u001b[36m0:00:00\u001b[0m\n",
      "\u001b[?25hRequirement already satisfied: regex!=2019.12.17 in /usr/local/lib/python3.8/dist-packages (from transformers) (2022.6.2)\n",
      "Requirement already satisfied: tqdm>=4.27 in /usr/local/lib/python3.8/dist-packages (from transformers) (4.64.1)\n",
      "Requirement already satisfied: pyyaml>=5.1 in /usr/local/lib/python3.8/dist-packages (from transformers) (6.0)\n",
      "Requirement already satisfied: numpy>=1.17 in /usr/local/lib/python3.8/dist-packages (from transformers) (1.21.6)\n",
      "Collecting tokenizers!=0.11.3,<0.14,>=0.11.1\n",
      "  Downloading tokenizers-0.13.2-cp38-cp38-manylinux_2_17_x86_64.manylinux2014_x86_64.whl (7.6 MB)\n",
      "\u001b[2K     \u001b[90m━━━━━━━━━━━━━━━━━━━━━━━━━━━━━━━━━━━━━━━━\u001b[0m \u001b[32m7.6/7.6 MB\u001b[0m \u001b[31m108.3 MB/s\u001b[0m eta \u001b[36m0:00:00\u001b[0m\n",
      "\u001b[?25hCollecting huggingface-hub<1.0,>=0.11.0\n",
      "  Downloading huggingface_hub-0.12.0-py3-none-any.whl (190 kB)\n",
      "\u001b[2K     \u001b[90m━━━━━━━━━━━━━━━━━━━━━━━━━━━━━━━━━━━━━━\u001b[0m \u001b[32m190.3/190.3 KB\u001b[0m \u001b[31m25.2 MB/s\u001b[0m eta \u001b[36m0:00:00\u001b[0m\n",
      "\u001b[?25hRequirement already satisfied: filelock in /usr/local/lib/python3.8/dist-packages (from transformers) (3.9.0)\n",
      "Requirement already satisfied: requests in /usr/local/lib/python3.8/dist-packages (from transformers) (2.25.1)\n",
      "Requirement already satisfied: packaging>=20.0 in /usr/local/lib/python3.8/dist-packages (from transformers) (23.0)\n",
      "Requirement already satisfied: typing-extensions>=3.7.4.3 in /usr/local/lib/python3.8/dist-packages (from huggingface-hub<1.0,>=0.11.0->transformers) (4.4.0)\n",
      "Requirement already satisfied: urllib3<1.27,>=1.21.1 in /usr/local/lib/python3.8/dist-packages (from requests->transformers) (1.24.3)\n",
      "Requirement already satisfied: certifi>=2017.4.17 in /usr/local/lib/python3.8/dist-packages (from requests->transformers) (2022.12.7)\n",
      "Requirement already satisfied: chardet<5,>=3.0.2 in /usr/local/lib/python3.8/dist-packages (from requests->transformers) (4.0.0)\n",
      "Requirement already satisfied: idna<3,>=2.5 in /usr/local/lib/python3.8/dist-packages (from requests->transformers) (2.10)\n",
      "Installing collected packages: tokenizers, huggingface-hub, transformers\n",
      "Successfully installed huggingface-hub-0.12.0 tokenizers-0.13.2 transformers-4.26.0\n"
     ]
    }
   ],
   "source": [
    "! pip install transformers"
   ]
  },
  {
   "cell_type": "markdown",
   "metadata": {
    "id": "uCXa4gF-QGgH"
   },
   "source": [
    "# Importing & Processing the Text & Loading the Model"
   ]
  },
  {
   "cell_type": "code",
   "execution_count": null,
   "metadata": {
    "id": "AMeIU-vbTTUv"
   },
   "outputs": [],
   "source": [
    "with open('/content/MSCTD/MSCTD_data/ende/english_train.txt') as tr:\n",
    "    text_train = [line.rstrip('\\n') for line in tr]\n",
    "\n",
    "with open('/content/MSCTD/MSCTD_data/ende/english_dev.txt') as v:\n",
    "    text_val = [line.rstrip('\\n') for line in v]\n",
    "\n",
    "with open('/content/MSCTD/MSCTD_data/ende/english_test.txt') as te:\n",
    "    text_test = [line.rstrip('\\n') for line in te]"
   ]
  },
  {
   "cell_type": "code",
   "execution_count": null,
   "metadata": {
    "colab": {
     "base_uri": "https://localhost:8080/"
    },
    "id": "6uo6YcIvaOHb",
    "outputId": "a99934b8-b378-456c-c12b-a7e43c189cd9"
   },
   "outputs": [
    {
     "name": "stdout",
     "output_type": "stream",
     "text": [
      "all possible punctuations = !\"#$%&'()*+,-./:;<=>?@[\\]^_`{|}~\n"
     ]
    }
   ],
   "source": [
    "print(f'all possible punctuations = {string.punctuation}')\n",
    "punc_remove = string.punctuation"
   ]
  },
  {
   "cell_type": "code",
   "execution_count": null,
   "metadata": {
    "id": "7Wlnunt7VXEP"
   },
   "outputs": [],
   "source": [
    "remove_translate = str.maketrans('', '', string.punctuation)"
   ]
  },
  {
   "cell_type": "code",
   "execution_count": null,
   "metadata": {
    "id": "x_DNkk1sbKlV"
   },
   "outputs": [],
   "source": [
    "train_pro = []\n",
    "for txt in text_train:\n",
    "  txt = txt.translate(remove_translate)\n",
    "  txt = txt.lower()\n",
    "  txt = txt.split()\n",
    "  filtered_words = [word for word in txt if word not in stopwords.words('english')]\n",
    "  text_final = \"\"\n",
    "  for i in range(len(filtered_words)):\n",
    "    text_final = text_final + filtered_words[i] + \" \"\n",
    "  text_final = text_final[:-1]\n",
    "  train_pro.append(text_final)\n",
    "\n",
    "\n",
    "\n",
    "test_pro = []\n",
    "for txt in text_test:\n",
    "  txt = txt.translate(remove_translate)\n",
    "  txt = txt.lower()\n",
    "  txt = txt.split()\n",
    "  filtered_words = [word for word in txt if word not in stopwords.words('english')]\n",
    "  text_final = \"\"\n",
    "  for i in range(len(filtered_words)):\n",
    "    text_final = text_final + filtered_words[i] + \" \"\n",
    "  text_final = text_final[:-1]\n",
    "  test_pro.append(text_final)\n",
    "\n",
    "  \n",
    "val_pro = []\n",
    "for txt in text_val:\n",
    "  txt = txt.translate(remove_translate)\n",
    "  txt = txt.lower()\n",
    "  txt = txt.split()\n",
    "  filtered_words = [word for word in txt if word not in stopwords.words('english')]\n",
    "  text_final = \"\"\n",
    "  for i in range(len(filtered_words)):\n",
    "    text_final = text_final + filtered_words[i] + \" \"\n",
    "  text_final = text_final[:-1]\n",
    "  val_pro.append(text_final)"
   ]
  },
  {
   "cell_type": "code",
   "execution_count": null,
   "metadata": {
    "colab": {
     "base_uri": "https://localhost:8080/"
    },
    "id": "fTqa4PmabvLD",
    "outputId": "92e6da38-b8b2-4fb0-f862-ad03de78cf82"
   },
   "outputs": [
    {
     "name": "stdout",
     "output_type": "stream",
     "text": [
      "I'm sorry. I have to tell you something,\n",
      "im sorry tell something\n",
      "I'm not happy about it either, okay? At all.\n",
      "im happy either okay\n",
      "Your pain is dramatic to me.\n",
      "pain dramatic\n"
     ]
    }
   ],
   "source": [
    "print(text_train[2])\n",
    "print(train_pro[2])\n",
    "\n",
    "print(text_test[2])\n",
    "print(test_pro[2])\n",
    "\n",
    "print(text_val[2])\n",
    "print(val_pro[2])"
   ]
  },
  {
   "cell_type": "code",
   "execution_count": null,
   "metadata": {
    "colab": {
     "base_uri": "https://localhost:8080/",
     "height": 1000,
     "referenced_widgets": [
      "6769c7ea256b456f8ff7c0ae45f8e832",
      "d64f031673454ea2becb997333669c4d",
      "dc93ff0977294ff29c47b9d7b1b0886f",
      "f347fb6ecde448059bba11a3d859aefd",
      "553e0b68f0e44b41879566452740f6e6",
      "01db04775072494284240c94555af74d",
      "48a6df9b80e8476eb428a6098b3b4099",
      "8fb980beca74442b887aff3d60a17768",
      "9dd517e0f5eb4a2ca0e1515e59397aa7",
      "42543aef88b04ff298ad0d1b4eb2a984",
      "63eb8cdd0d9f4ee4a0e1cc1c44031a6b",
      "c26e986fb6e74698872d21c68635597f",
      "7921a9eb178a42ef91402af7fb46b575",
      "8de900021e1a4f16bc13440896239095",
      "e48116e82b744491ad82ef1f2718d6b7",
      "57a084e4f73f4f8eb62ea9e80a9e806c",
      "88fd71aa31554accbae0f33e678821a8",
      "8e19d05b9510483299c4bf30d92f5016",
      "c442817556584de6bb7e6c84744711ac",
      "1a41408b43004b0e90a7ce8bcf852c97",
      "0b3f10b92de245eba6608cb5fdf4d61f",
      "c4cf34e77dbe4020abfaa20475e7e514",
      "a04a347fd77e4859b1a8234c0677aed8",
      "50f45c1b92b649ada6dc6c4842e2cd90",
      "7b10b4c10fdd4617b26418c29225a6d1",
      "3f6b1ea6b9044c49b65c29ed8b3a6a5f",
      "b417817130604d848753bf3f220cf5f0",
      "e9664d31762d4e85bd8716c7085cf835",
      "175a3e81b6084170bc899b62e79d66b5",
      "3b6e3516fef54dbb876d67953b9e5efd",
      "0a157a67e14945b8a442c05a64585f5f",
      "195565c2efa245e3ba843c8d1d7e2389",
      "eb1a673b46e14d22999bf2fc6acd1058"
     ]
    },
    "id": "Pa2BuNFT3fze",
    "outputId": "a2d13bf7-775c-4ea5-a48d-a0f6b83d3393"
   },
   "outputs": [
    {
     "name": "stdout",
     "output_type": "stream",
     "text": [
      "label2id: {'neutral': 0, 'negative': 1, 'positive': 2}\n",
      "id2label: {0: 'neutral', 1: 'negative', 2: 'positive'}\n"
     ]
    },
    {
     "data": {
      "application/vnd.jupyter.widget-view+json": {
       "model_id": "6769c7ea256b456f8ff7c0ae45f8e832",
       "version_major": 2,
       "version_minor": 0
      },
      "text/plain": [
       "Downloading (…)solve/main/vocab.txt:   0%|          | 0.00/232k [00:00<?, ?B/s]"
      ]
     },
     "metadata": {},
     "output_type": "display_data"
    },
    {
     "data": {
      "application/vnd.jupyter.widget-view+json": {
       "model_id": "c26e986fb6e74698872d21c68635597f",
       "version_major": 2,
       "version_minor": 0
      },
      "text/plain": [
       "Downloading (…)okenizer_config.json:   0%|          | 0.00/28.0 [00:00<?, ?B/s]"
      ]
     },
     "metadata": {},
     "output_type": "display_data"
    },
    {
     "data": {
      "application/vnd.jupyter.widget-view+json": {
       "model_id": "a04a347fd77e4859b1a8234c0677aed8",
       "version_major": 2,
       "version_minor": 0
      },
      "text/plain": [
       "Downloading (…)lve/main/config.json:   0%|          | 0.00/483 [00:00<?, ?B/s]"
      ]
     },
     "metadata": {},
     "output_type": "display_data"
    },
    {
     "name": "stderr",
     "output_type": "stream",
     "text": [
      "The tokenizer class you load from this checkpoint is not the same type as the class this function is called from. It may result in unexpected tokenization. \n",
      "The tokenizer class you load from this checkpoint is 'DistilBertTokenizer'. \n",
      "The class this function is called from is 'BertTokenizer'.\n",
      "You are using a model of type distilbert to instantiate a model of type bert. This is not supported for all configurations of models and can yield errors.\n"
     ]
    },
    {
     "name": "stdout",
     "output_type": "stream",
     "text": [
      "{\n",
      "  \"activation\": \"gelu\",\n",
      "  \"architectures\": [\n",
      "    \"DistilBertForMaskedLM\"\n",
      "  ],\n",
      "  \"attention_dropout\": 0.1,\n",
      "  \"attention_probs_dropout_prob\": 0.1,\n",
      "  \"classifier_dropout\": null,\n",
      "  \"dim\": 768,\n",
      "  \"dropout\": 0.1,\n",
      "  \"hidden_act\": \"gelu\",\n",
      "  \"hidden_dim\": 3072,\n",
      "  \"hidden_dropout_prob\": 0.1,\n",
      "  \"hidden_size\": 768,\n",
      "  \"id2label\": {\n",
      "    \"0\": \"neutral\",\n",
      "    \"1\": \"negative\",\n",
      "    \"2\": \"positive\"\n",
      "  },\n",
      "  \"initializer_range\": 0.02,\n",
      "  \"intermediate_size\": 3072,\n",
      "  \"label2id\": {\n",
      "    \"negative\": 1,\n",
      "    \"neutral\": 0,\n",
      "    \"positive\": 2\n",
      "  },\n",
      "  \"layer_norm_eps\": 1e-12,\n",
      "  \"max_position_embeddings\": 512,\n",
      "  \"model_type\": \"bert\",\n",
      "  \"n_heads\": 12,\n",
      "  \"n_layers\": 6,\n",
      "  \"num_attention_heads\": 12,\n",
      "  \"num_hidden_layers\": 12,\n",
      "  \"pad_token_id\": 0,\n",
      "  \"position_embedding_type\": \"absolute\",\n",
      "  \"qa_dropout\": 0.1,\n",
      "  \"seq_classif_dropout\": 0.2,\n",
      "  \"sinusoidal_pos_embds\": false,\n",
      "  \"tie_weights_\": true,\n",
      "  \"transformers_version\": \"4.26.0\",\n",
      "  \"type_vocab_size\": 2,\n",
      "  \"use_cache\": true,\n",
      "  \"vocab_size\": 30522\n",
      "}\n",
      "\n"
     ]
    }
   ],
   "source": [
    "from transformers import BertConfig, BertTokenizer,BertModel\n",
    "\n",
    "labels = [\"neutral\",\"negative\",\"positive\"]\n",
    "label2id = {label: i for i, label in enumerate(labels)}\n",
    "id2label = {v: k for k, v in label2id.items()}\n",
    "\n",
    "print(f'label2id: {label2id}')\n",
    "print(f'id2label: {id2label}')\n",
    "MODEL_NAME_OR_PATH = 'distilbert-base-uncased'\n",
    "tokenizer = BertTokenizer.from_pretrained(MODEL_NAME_OR_PATH)\n",
    "config = BertConfig.from_pretrained(\n",
    "    MODEL_NAME_OR_PATH, **{\n",
    "        'label2id': label2id,\n",
    "        'id2label': id2label,\n",
    "    })\n",
    "\n",
    "print(config.to_json_string())"
   ]
  },
  {
   "cell_type": "code",
   "execution_count": null,
   "metadata": {
    "id": "Rqnkk7E_3f1y"
   },
   "outputs": [],
   "source": [
    "from torch import nn\n",
    "class Sentiment_Bert_classifier(nn.Module):\n",
    "\n",
    "    def __init__(self, config,MODEL_NAME_OR_PATH,fine_tune):\n",
    "        super(Sentiment_Bert_classifier, self).__init__()\n",
    "\n",
    "        bert_model = BertModel.from_pretrained(MODEL_NAME_OR_PATH)\n",
    "        if (fine_tune):\n",
    "          self.bert = bert_model\n",
    "        else:\n",
    "          for param in bert_model.parameters():\n",
    "            param.requires_grad = False\n",
    "          self.bert = bert_model\n",
    "        self.dropout = nn.Dropout(config.hidden_dropout_prob)\n",
    "        self.classifier = nn.Linear(config.hidden_size, config.num_labels)\n",
    "    \n",
    "    def forward(self, input_ids, attention_mask, token_type_ids):\n",
    "        _, pooled_output = self.bert(input_ids=input_ids,attention_mask=attention_mask, token_type_ids=token_type_ids,return_dict=False)\n",
    "        \n",
    "        pooled_output = self.dropout(pooled_output)\n",
    "        logits = self.classifier(pooled_output)\n",
    "        return logits "
   ]
  },
  {
   "cell_type": "code",
   "execution_count": null,
   "metadata": {
    "colab": {
     "base_uri": "https://localhost:8080/"
    },
    "id": "oa1-yET_3f59",
    "outputId": "fa04a580-6812-45cc-f91a-6d1fa59f2985"
   },
   "outputs": [
    {
     "name": "stderr",
     "output_type": "stream",
     "text": [
      "You are using a model of type distilbert to instantiate a model of type bert. This is not supported for all configurations of models and can yield errors.\n",
      "Some weights of the model checkpoint at distilbert-base-uncased were not used when initializing BertModel: ['distilbert.transformer.layer.0.attention.k_lin.bias', 'vocab_transform.bias', 'distilbert.embeddings.LayerNorm.bias', 'distilbert.transformer.layer.5.output_layer_norm.weight', 'distilbert.transformer.layer.1.ffn.lin1.weight', 'distilbert.transformer.layer.1.output_layer_norm.weight', 'distilbert.transformer.layer.5.output_layer_norm.bias', 'distilbert.transformer.layer.3.attention.k_lin.weight', 'distilbert.embeddings.word_embeddings.weight', 'distilbert.transformer.layer.1.output_layer_norm.bias', 'distilbert.transformer.layer.3.attention.q_lin.bias', 'distilbert.transformer.layer.5.ffn.lin2.weight', 'distilbert.transformer.layer.1.sa_layer_norm.bias', 'distilbert.transformer.layer.1.attention.k_lin.weight', 'distilbert.transformer.layer.0.ffn.lin2.weight', 'distilbert.transformer.layer.0.attention.q_lin.bias', 'distilbert.transformer.layer.4.ffn.lin1.bias', 'distilbert.transformer.layer.0.sa_layer_norm.bias', 'distilbert.transformer.layer.4.attention.v_lin.weight', 'distilbert.transformer.layer.3.attention.v_lin.bias', 'distilbert.transformer.layer.1.attention.q_lin.bias', 'distilbert.transformer.layer.2.attention.k_lin.bias', 'distilbert.transformer.layer.5.sa_layer_norm.weight', 'distilbert.transformer.layer.0.output_layer_norm.weight', 'distilbert.transformer.layer.4.output_layer_norm.weight', 'distilbert.transformer.layer.5.ffn.lin1.bias', 'distilbert.transformer.layer.2.attention.q_lin.weight', 'distilbert.transformer.layer.5.attention.k_lin.weight', 'distilbert.transformer.layer.5.attention.k_lin.bias', 'distilbert.transformer.layer.2.attention.q_lin.bias', 'distilbert.transformer.layer.4.ffn.lin2.bias', 'distilbert.transformer.layer.1.ffn.lin2.bias', 'distilbert.transformer.layer.3.attention.k_lin.bias', 'distilbert.transformer.layer.1.attention.v_lin.bias', 'distilbert.transformer.layer.3.attention.out_lin.bias', 'distilbert.transformer.layer.2.attention.v_lin.weight', 'distilbert.transformer.layer.4.attention.k_lin.bias', 'distilbert.transformer.layer.3.attention.v_lin.weight', 'distilbert.transformer.layer.3.ffn.lin2.weight', 'distilbert.transformer.layer.1.sa_layer_norm.weight', 'distilbert.transformer.layer.3.ffn.lin1.bias', 'distilbert.transformer.layer.3.output_layer_norm.bias', 'distilbert.transformer.layer.3.attention.q_lin.weight', 'distilbert.transformer.layer.2.ffn.lin2.weight', 'distilbert.embeddings.LayerNorm.weight', 'distilbert.transformer.layer.0.ffn.lin1.weight', 'distilbert.transformer.layer.2.ffn.lin1.weight', 'distilbert.transformer.layer.4.sa_layer_norm.bias', 'distilbert.transformer.layer.0.attention.k_lin.weight', 'vocab_transform.weight', 'vocab_layer_norm.weight', 'distilbert.transformer.layer.1.attention.q_lin.weight', 'distilbert.transformer.layer.2.attention.v_lin.bias', 'distilbert.transformer.layer.4.ffn.lin1.weight', 'distilbert.transformer.layer.3.sa_layer_norm.bias', 'distilbert.transformer.layer.0.ffn.lin2.bias', 'distilbert.transformer.layer.0.ffn.lin1.bias', 'distilbert.transformer.layer.5.attention.q_lin.bias', 'distilbert.transformer.layer.2.ffn.lin2.bias', 'distilbert.transformer.layer.2.output_layer_norm.weight', 'distilbert.transformer.layer.4.sa_layer_norm.weight', 'vocab_projector.bias', 'distilbert.transformer.layer.4.attention.out_lin.weight', 'distilbert.transformer.layer.1.attention.out_lin.weight', 'distilbert.transformer.layer.5.attention.out_lin.weight', 'distilbert.transformer.layer.4.attention.v_lin.bias', 'distilbert.transformer.layer.5.ffn.lin2.bias', 'vocab_layer_norm.bias', 'distilbert.transformer.layer.0.attention.v_lin.weight', 'distilbert.transformer.layer.3.output_layer_norm.weight', 'distilbert.transformer.layer.5.attention.v_lin.bias', 'distilbert.transformer.layer.1.attention.k_lin.bias', 'distilbert.transformer.layer.1.ffn.lin1.bias', 'distilbert.transformer.layer.2.output_layer_norm.bias', 'distilbert.embeddings.position_embeddings.weight', 'distilbert.transformer.layer.4.output_layer_norm.bias', 'distilbert.transformer.layer.4.attention.out_lin.bias', 'distilbert.transformer.layer.0.attention.out_lin.weight', 'distilbert.transformer.layer.4.attention.q_lin.bias', 'distilbert.transformer.layer.5.sa_layer_norm.bias', 'distilbert.transformer.layer.5.ffn.lin1.weight', 'distilbert.transformer.layer.2.ffn.lin1.bias', 'distilbert.transformer.layer.2.sa_layer_norm.weight', 'distilbert.transformer.layer.4.attention.q_lin.weight', 'distilbert.transformer.layer.1.attention.v_lin.weight', 'distilbert.transformer.layer.2.attention.out_lin.weight', 'distilbert.transformer.layer.0.sa_layer_norm.weight', 'distilbert.transformer.layer.1.attention.out_lin.bias', 'distilbert.transformer.layer.1.ffn.lin2.weight', 'distilbert.transformer.layer.3.ffn.lin1.weight', 'distilbert.transformer.layer.0.attention.out_lin.bias', 'distilbert.transformer.layer.3.sa_layer_norm.weight', 'vocab_projector.weight', 'distilbert.transformer.layer.4.ffn.lin2.weight', 'distilbert.transformer.layer.2.attention.out_lin.bias', 'distilbert.transformer.layer.3.attention.out_lin.weight', 'distilbert.transformer.layer.0.attention.q_lin.weight', 'distilbert.transformer.layer.2.sa_layer_norm.bias', 'distilbert.transformer.layer.5.attention.out_lin.bias', 'distilbert.transformer.layer.3.ffn.lin2.bias', 'distilbert.transformer.layer.5.attention.q_lin.weight', 'distilbert.transformer.layer.2.attention.k_lin.weight', 'distilbert.transformer.layer.0.output_layer_norm.bias', 'distilbert.transformer.layer.5.attention.v_lin.weight', 'distilbert.transformer.layer.0.attention.v_lin.bias', 'distilbert.transformer.layer.4.attention.k_lin.weight']\n",
      "- This IS expected if you are initializing BertModel from the checkpoint of a model trained on another task or with another architecture (e.g. initializing a BertForSequenceClassification model from a BertForPreTraining model).\n",
      "- This IS NOT expected if you are initializing BertModel from the checkpoint of a model that you expect to be exactly identical (initializing a BertForSequenceClassification model from a BertForSequenceClassification model).\n",
      "Some weights of BertModel were not initialized from the model checkpoint at distilbert-base-uncased and are newly initialized: ['encoder.layer.5.attention.self.value.weight', 'encoder.layer.6.attention.self.query.weight', 'encoder.layer.4.attention.output.dense.weight', 'encoder.layer.4.attention.output.LayerNorm.bias', 'embeddings.LayerNorm.bias', 'encoder.layer.10.attention.self.key.weight', 'encoder.layer.10.attention.output.dense.bias', 'encoder.layer.9.attention.self.query.weight', 'encoder.layer.7.attention.output.LayerNorm.bias', 'encoder.layer.1.attention.output.dense.bias', 'encoder.layer.11.attention.output.LayerNorm.bias', 'encoder.layer.3.output.LayerNorm.bias', 'encoder.layer.1.output.dense.weight', 'encoder.layer.9.attention.output.LayerNorm.bias', 'encoder.layer.8.attention.self.query.bias', 'encoder.layer.7.attention.self.value.weight', 'encoder.layer.6.attention.output.LayerNorm.weight', 'encoder.layer.11.output.dense.weight', 'encoder.layer.5.output.LayerNorm.bias', 'encoder.layer.10.attention.self.value.weight', 'encoder.layer.6.attention.self.value.weight', 'encoder.layer.5.output.LayerNorm.weight', 'encoder.layer.0.attention.self.key.bias', 'encoder.layer.6.intermediate.dense.bias', 'encoder.layer.4.attention.self.value.bias', 'encoder.layer.2.intermediate.dense.weight', 'encoder.layer.11.intermediate.dense.bias', 'encoder.layer.8.attention.self.key.weight', 'encoder.layer.10.output.dense.bias', 'embeddings.position_embeddings.weight', 'encoder.layer.4.intermediate.dense.weight', 'encoder.layer.5.attention.self.value.bias', 'encoder.layer.6.attention.self.value.bias', 'encoder.layer.8.attention.output.dense.weight', 'encoder.layer.3.attention.self.query.weight', 'encoder.layer.3.attention.self.query.bias', 'encoder.layer.4.output.dense.weight', 'encoder.layer.8.output.LayerNorm.weight', 'encoder.layer.2.attention.output.dense.bias', 'encoder.layer.1.attention.self.value.weight', 'encoder.layer.9.attention.output.dense.bias', 'encoder.layer.4.attention.output.LayerNorm.weight', 'encoder.layer.1.intermediate.dense.weight', 'encoder.layer.3.attention.output.dense.weight', 'encoder.layer.7.output.LayerNorm.bias', 'encoder.layer.8.intermediate.dense.bias', 'encoder.layer.11.attention.output.dense.weight', 'encoder.layer.7.attention.self.key.weight', 'pooler.dense.bias', 'encoder.layer.0.output.dense.weight', 'encoder.layer.7.attention.self.query.bias', 'encoder.layer.5.attention.self.query.weight', 'encoder.layer.10.attention.output.dense.weight', 'encoder.layer.4.attention.self.query.weight', 'encoder.layer.10.output.LayerNorm.weight', 'encoder.layer.9.output.dense.bias', 'encoder.layer.8.output.LayerNorm.bias', 'encoder.layer.5.attention.output.LayerNorm.bias', 'encoder.layer.11.output.LayerNorm.weight', 'encoder.layer.1.attention.output.dense.weight', 'encoder.layer.2.output.dense.weight', 'encoder.layer.9.attention.self.key.bias', 'encoder.layer.3.attention.self.key.bias', 'encoder.layer.3.intermediate.dense.weight', 'encoder.layer.6.output.dense.bias', 'encoder.layer.0.intermediate.dense.bias', 'encoder.layer.7.output.LayerNorm.weight', 'encoder.layer.10.intermediate.dense.bias', 'encoder.layer.3.attention.output.LayerNorm.bias', 'encoder.layer.8.intermediate.dense.weight', 'encoder.layer.9.intermediate.dense.bias', 'encoder.layer.0.attention.self.query.weight', 'encoder.layer.11.attention.output.dense.bias', 'encoder.layer.11.attention.self.value.weight', 'encoder.layer.11.intermediate.dense.weight', 'encoder.layer.10.attention.self.query.bias', 'encoder.layer.3.intermediate.dense.bias', 'encoder.layer.4.attention.self.key.weight', 'encoder.layer.5.intermediate.dense.bias', 'encoder.layer.0.attention.self.key.weight', 'encoder.layer.11.attention.self.query.weight', 'encoder.layer.6.attention.self.key.bias', 'encoder.layer.0.attention.output.dense.weight', 'encoder.layer.2.attention.self.key.bias', 'encoder.layer.0.attention.output.LayerNorm.weight', 'encoder.layer.2.attention.self.query.bias', 'encoder.layer.6.attention.output.dense.weight', 'encoder.layer.8.output.dense.bias', 'encoder.layer.9.attention.self.value.bias', 'encoder.layer.9.output.LayerNorm.weight', 'encoder.layer.10.attention.output.LayerNorm.weight', 'encoder.layer.3.output.dense.bias', 'encoder.layer.8.attention.self.query.weight', 'encoder.layer.3.output.LayerNorm.weight', 'encoder.layer.2.output.dense.bias', 'encoder.layer.1.attention.output.LayerNorm.weight', 'encoder.layer.6.output.dense.weight', 'encoder.layer.7.attention.output.LayerNorm.weight', 'encoder.layer.1.attention.self.value.bias', 'encoder.layer.7.attention.self.query.weight', 'encoder.layer.0.attention.self.query.bias', 'encoder.layer.7.output.dense.weight', 'encoder.layer.7.attention.output.dense.bias', 'encoder.layer.11.attention.self.value.bias', 'encoder.layer.8.attention.output.dense.bias', 'encoder.layer.1.attention.self.key.bias', 'encoder.layer.2.attention.self.value.bias', 'encoder.layer.9.output.dense.weight', 'encoder.layer.9.attention.output.LayerNorm.weight', 'encoder.layer.1.attention.self.key.weight', 'encoder.layer.4.attention.output.dense.bias', 'encoder.layer.11.output.LayerNorm.bias', 'encoder.layer.1.output.LayerNorm.bias', 'encoder.layer.9.output.LayerNorm.bias', 'encoder.layer.10.attention.self.key.bias', 'encoder.layer.10.attention.self.value.bias', 'encoder.layer.2.attention.self.query.weight', 'encoder.layer.10.output.dense.weight', 'encoder.layer.11.attention.self.key.bias', 'encoder.layer.3.attention.output.LayerNorm.weight', 'encoder.layer.3.output.dense.weight', 'encoder.layer.5.output.dense.bias', 'encoder.layer.2.output.LayerNorm.bias', 'encoder.layer.2.attention.self.value.weight', 'encoder.layer.8.attention.output.LayerNorm.bias', 'encoder.layer.1.attention.output.LayerNorm.bias', 'encoder.layer.7.output.dense.bias', 'encoder.layer.2.attention.self.key.weight', 'encoder.layer.6.attention.output.LayerNorm.bias', 'encoder.layer.4.output.LayerNorm.bias', 'encoder.layer.0.attention.output.dense.bias', 'encoder.layer.4.output.dense.bias', 'encoder.layer.4.output.LayerNorm.weight', 'encoder.layer.5.attention.self.key.weight', 'encoder.layer.0.attention.output.LayerNorm.bias', 'encoder.layer.5.attention.output.dense.bias', 'encoder.layer.7.attention.self.key.bias', 'encoder.layer.1.intermediate.dense.bias', 'encoder.layer.7.intermediate.dense.weight', 'embeddings.token_type_embeddings.weight', 'encoder.layer.7.attention.output.dense.weight', 'encoder.layer.3.attention.self.key.weight', 'embeddings.LayerNorm.weight', 'encoder.layer.7.intermediate.dense.bias', 'encoder.layer.3.attention.self.value.weight', 'encoder.layer.9.attention.self.value.weight', 'encoder.layer.6.attention.self.key.weight', 'encoder.layer.1.output.dense.bias', 'encoder.layer.4.attention.self.key.bias', 'encoder.layer.8.attention.self.value.weight', 'encoder.layer.11.attention.self.query.bias', 'encoder.layer.8.output.dense.weight', 'encoder.layer.8.attention.self.value.bias', 'encoder.layer.1.output.LayerNorm.weight', 'encoder.layer.0.attention.self.value.bias', 'encoder.layer.5.attention.output.dense.weight', 'encoder.layer.9.attention.self.key.weight', 'encoder.layer.7.attention.self.value.bias', 'encoder.layer.9.intermediate.dense.weight', 'encoder.layer.10.attention.output.LayerNorm.bias', 'encoder.layer.4.intermediate.dense.bias', 'encoder.layer.0.intermediate.dense.weight', 'encoder.layer.8.attention.output.LayerNorm.weight', 'encoder.layer.10.intermediate.dense.weight', 'encoder.layer.5.output.dense.weight', 'encoder.layer.5.attention.self.key.bias', 'encoder.layer.2.attention.output.LayerNorm.weight', 'encoder.layer.9.attention.output.dense.weight', 'encoder.layer.2.output.LayerNorm.weight', 'encoder.layer.3.attention.self.value.bias', 'encoder.layer.11.attention.output.LayerNorm.weight', 'encoder.layer.10.output.LayerNorm.bias', 'encoder.layer.2.attention.output.LayerNorm.bias', 'encoder.layer.6.attention.output.dense.bias', 'encoder.layer.2.intermediate.dense.bias', 'encoder.layer.11.attention.self.key.weight', 'encoder.layer.11.output.dense.bias', 'encoder.layer.8.attention.self.key.bias', 'encoder.layer.0.output.dense.bias', 'embeddings.word_embeddings.weight', 'encoder.layer.0.output.LayerNorm.weight', 'encoder.layer.3.attention.output.dense.bias', 'encoder.layer.5.attention.self.query.bias', 'encoder.layer.9.attention.self.query.bias', 'encoder.layer.5.attention.output.LayerNorm.weight', 'encoder.layer.4.attention.self.value.weight', 'encoder.layer.6.attention.self.query.bias', 'encoder.layer.4.attention.self.query.bias', 'encoder.layer.6.output.LayerNorm.bias', 'encoder.layer.6.intermediate.dense.weight', 'encoder.layer.10.attention.self.query.weight', 'pooler.dense.weight', 'encoder.layer.1.attention.self.query.weight', 'encoder.layer.1.attention.self.query.bias', 'encoder.layer.2.attention.output.dense.weight', 'encoder.layer.0.attention.self.value.weight', 'encoder.layer.6.output.LayerNorm.weight', 'encoder.layer.0.output.LayerNorm.bias', 'encoder.layer.5.intermediate.dense.weight']\n",
      "You should probably TRAIN this model on a down-stream task to be able to use it for predictions and inference.\n"
     ]
    },
    {
     "name": "stdout",
     "output_type": "stream",
     "text": [
      "pt_model <class '__main__.Sentiment_Bert_classifier'>\n"
     ]
    }
   ],
   "source": [
    "pt_model = Sentiment_Bert_classifier(config=config,MODEL_NAME_OR_PATH = 'distilbert-base-uncased',fine_tune = True )\n",
    "pt_model = pt_model.to(device)\n",
    "\n",
    "print('pt_model', type(pt_model))"
   ]
  },
  {
   "cell_type": "code",
   "execution_count": null,
   "metadata": {
    "id": "9hG91r7H5Rij"
   },
   "outputs": [],
   "source": [
    "with open('/content/MSCTD/MSCTD_data/ende/sentiment_train.txt') as f:\n",
    "  sentiment_train = [int(line.rstrip('\\n')) for line in f]\n",
    "with open('/content/MSCTD/MSCTD_data/ende/sentiment_dev.txt') as f:\n",
    "  sentiment_dev = [int(line.rstrip('\\n')) for line in f]\n",
    "with open('/content/MSCTD/MSCTD_data/ende/sentiment_test.txt') as f:\n",
    "  sentiment_test = [int(line.rstrip('\\n')) for line in f]"
   ]
  },
  {
   "cell_type": "code",
   "execution_count": null,
   "metadata": {
    "id": "0fsWVa695RtP"
   },
   "outputs": [],
   "source": [
    "class sentiment_dataset(torch.utils.data.Dataset):\n",
    "    \"\"\" Create a PyTorch dataset for Taaghche. \"\"\"\n",
    "\n",
    "    def __init__(self, tokenizer, text ,labels, max_len=128):\n",
    "        self.text = text\n",
    "        self.labels = labels\n",
    "        self.tokenizer = tokenizer\n",
    "        self.max_len = max_len\n",
    "\n",
    "    def __len__(self):\n",
    "        return len(self.labels)\n",
    "\n",
    "    def __getitem__(self, item):\n",
    "        text= str(self.text[item])\n",
    "\n",
    "       \n",
    "        target = self.labels[item]\n",
    "\n",
    "        encoding = self.tokenizer.encode_plus(\n",
    "            text,\n",
    "            add_special_tokens=True,\n",
    "            truncation=True,\n",
    "            max_length=self.max_len,\n",
    "            return_token_type_ids=True,\n",
    "            padding='max_length',\n",
    "            return_attention_mask=True,\n",
    "            return_tensors='pt')\n",
    "        \n",
    "        inputs = {\n",
    "            'text': text,\n",
    "            'input_ids': encoding['input_ids'].flatten(),\n",
    "            'attention_mask': encoding['attention_mask'].flatten(),\n",
    "            'token_type_ids': encoding['token_type_ids'].flatten(),\n",
    "            \n",
    "        }\n",
    "\n",
    "       \n",
    "        inputs['targets'] = torch.tensor(target, dtype=torch.long)\n",
    "        \n",
    "        return inputs"
   ]
  },
  {
   "cell_type": "code",
   "execution_count": null,
   "metadata": {
    "colab": {
     "base_uri": "https://localhost:8080/",
     "height": 283,
     "referenced_widgets": [
      "6b2a421a3d1f41e9bb862fa895a839a0",
      "05900af820b3420dbe457749c6ffb350",
      "270ecaf58a694fb1a5e4ca6f951626bb",
      "cf146122533442d4b0c5e74fd6482c57",
      "f5f959165b72423aadd39f712563f4c6",
      "e27c2a811b7949feb718e171fc2c8750",
      "6b01e2f1de4941a3ae1686d57cdcdbdf",
      "c754a693fc414e5b90f013bff9fa929b",
      "f2f386fd57c94a869c957b5ef582b930",
      "213855d8aaf44e1898af6fdf75cab534",
      "3ba186f17a974673b393322b5536d266"
     ]
    },
    "id": "T8fCE6Oa9YAC",
    "outputId": "6d8171e7-b6e0-48e8-dac3-688cc781ba2e"
   },
   "outputs": [
    {
     "data": {
      "application/vnd.jupyter.widget-view+json": {
       "model_id": "6b2a421a3d1f41e9bb862fa895a839a0",
       "version_major": 2,
       "version_minor": 0
      },
      "text/plain": [
       "Downloading (…)/main/tokenizer.json:   0%|          | 0.00/466k [00:00<?, ?B/s]"
      ]
     },
     "metadata": {},
     "output_type": "display_data"
    },
    {
     "name": "stderr",
     "output_type": "stream",
     "text": [
      "Some weights of the model checkpoint at distilbert-base-uncased were not used when initializing DistilBertModel: ['vocab_projector.bias', 'vocab_transform.weight', 'vocab_layer_norm.weight', 'vocab_layer_norm.bias', 'vocab_transform.bias', 'vocab_projector.weight']\n",
      "- This IS expected if you are initializing DistilBertModel from the checkpoint of a model trained on another task or with another architecture (e.g. initializing a BertForSequenceClassification model from a BertForPreTraining model).\n",
      "- This IS NOT expected if you are initializing DistilBertModel from the checkpoint of a model that you expect to be exactly identical (initializing a BertForSequenceClassification model from a BertForSequenceClassification model).\n"
     ]
    },
    {
     "data": {
      "text/plain": [
       "['she',\n",
       " 'likes',\n",
       " 'cooking',\n",
       " 'italian',\n",
       " 'because',\n",
       " 'according',\n",
       " 'to',\n",
       " 'her',\n",
       " ',']"
      ]
     },
     "execution_count": 15,
     "metadata": {},
     "output_type": "execute_result"
    }
   ],
   "source": [
    "from transformers import AutoConfig , AutoTokenizer , AutoModel\n",
    "config = AutoConfig.from_pretrained('distilbert-base-uncased')\n",
    "\n",
    "tokenizer = AutoTokenizer.from_pretrained('distilbert-base-uncased')\n",
    "\n",
    "model = AutoModel.from_pretrained('distilbert-base-uncased')\n",
    "\n",
    "\n",
    "\n",
    "\n",
    "\n",
    "tokenizer.tokenize(text_train[34])"
   ]
  },
  {
   "cell_type": "code",
   "execution_count": null,
   "metadata": {
    "colab": {
     "base_uri": "https://localhost:8080/"
    },
    "id": "oXBCaUMz9fyK",
    "outputId": "5bbaaf77-cd1a-429b-dba1-5a876e68974c"
   },
   "outputs": [
    {
     "name": "stdout",
     "output_type": "stream",
     "text": [
      "maximum length = 19\n",
      "Keys: dict_keys(['input_ids', 'token_type_ids', 'attention_mask'])\n",
      "\n",
      "input_ids:\n",
      "tensor([[  101, 15624,  1012,   102,     0,     0,     0,     0,     0,     0,\n",
      "             0,     0,     0,     0,     0,     0,     0,     0,     0,     0,\n",
      "             0]])\n",
      "token_type_ids:\n",
      "tensor([[0, 0, 0, 0, 0, 0, 0, 0, 0, 0, 0, 0, 0, 0, 0, 0, 0, 0, 0, 0, 0]])\n",
      "attention_mask:\n",
      "tensor([[1, 1, 1, 1, 0, 0, 0, 0, 0, 0, 0, 0, 0, 0, 0, 0, 0, 0, 0, 0, 0]])\n"
     ]
    }
   ],
   "source": [
    "X = text_train\n",
    "len_max = 0;\n",
    "for i in range(len(X)):\n",
    "  x_temp = X[i].split()\n",
    "  if len(x_temp)>len_max:\n",
    "    len_max = len(x_temp)\n",
    "print(f\"maximum length = {len_max}\")\n",
    "# now tokenizing based of max length we find\n",
    "encoding = tokenizer.encode_plus(\n",
    "    X[32],\n",
    "    max_length=len_max+2,\n",
    "    truncation=True,\n",
    "    add_special_tokens=True, # Add '[CLS]' and '[SEP]'\n",
    "    return_token_type_ids=True,\n",
    "    return_attention_mask=True,\n",
    "    padding='max_length',\n",
    "    return_tensors='pt',  # Return PyTorch tensors\n",
    ")\n",
    "\n",
    "print(f'Keys: {encoding.keys()}\\n')\n",
    "for k in encoding.keys():\n",
    "    print(f'{k}:\\n{encoding[k]}')"
   ]
  },
  {
   "cell_type": "code",
   "execution_count": null,
   "metadata": {
    "id": "Qv8UDYX75Rve"
   },
   "outputs": [],
   "source": [
    "Dataset_Train = sentiment_dataset(tokenizer=tokenizer,text = train_pro,labels = sentiment_train)\n",
    "\n",
    "Dataset_Test = sentiment_dataset(tokenizer=tokenizer,text = test_pro,labels = sentiment_test)\n",
    "\n",
    "Dataset_Val = sentiment_dataset(tokenizer=tokenizer,text = val_pro,labels = sentiment_dev)"
   ]
  },
  {
   "cell_type": "code",
   "execution_count": null,
   "metadata": {
    "id": "zxMkzdz73f-Y"
   },
   "outputs": [],
   "source": [
    "#Creating Batch\n",
    "from torch.utils.data import DataLoader\n",
    "train_data_loader= DataLoader(Dataset_Train,batch_size=16,shuffle = True)\n",
    "test_data_loader= DataLoader(Dataset_Test,batch_size=16,shuffle = False)\n",
    "valid_data_loader= DataLoader(Dataset_Val,batch_size=16,shuffle = False)"
   ]
  },
  {
   "cell_type": "code",
   "execution_count": null,
   "metadata": {
    "colab": {
     "base_uri": "https://localhost:8080/"
    },
    "id": "oTnPe3hX3gEv",
    "outputId": "c0015ba0-8426-417b-b796-a9dfba5b87e5"
   },
   "outputs": [
    {
     "name": "stdout",
     "output_type": "stream",
     "text": [
      "dict_keys(['text', 'input_ids', 'attention_mask', 'token_type_ids', 'targets'])\n",
      "['getting crowded', 'dont see point youre taking unnecessary risks', 'talent show year graduated', 'oh wait minute wait minute wait minute', 'see future', 'security door thats gonna work', 'wish could', 'learn live crumbs', 'hey remember deal wanted make', 'dont', 'motion', 'look like sophie relieved', 'dont know', 'monkeys monkeys', 'mean trip says gonna win', 'oror least guy work uh']\n",
      "torch.Size([16, 128])\n",
      "tensor([  101,  2893, 10789,   102,     0,     0,     0,     0,     0,     0,\n",
      "            0,     0,     0,     0,     0,     0,     0,     0,     0,     0,\n",
      "            0,     0,     0,     0,     0,     0,     0,     0,     0,     0,\n",
      "            0,     0,     0,     0,     0,     0,     0,     0,     0,     0,\n",
      "            0,     0,     0,     0,     0,     0,     0,     0,     0,     0,\n",
      "            0,     0,     0,     0,     0,     0,     0,     0,     0,     0,\n",
      "            0,     0,     0,     0,     0,     0,     0,     0,     0,     0,\n",
      "            0,     0,     0,     0,     0,     0,     0,     0,     0,     0,\n",
      "            0,     0,     0,     0,     0,     0,     0,     0,     0,     0,\n",
      "            0,     0,     0,     0,     0,     0,     0,     0,     0,     0,\n",
      "            0,     0,     0,     0,     0,     0,     0,     0,     0,     0,\n",
      "            0,     0,     0,     0,     0,     0,     0,     0,     0,     0,\n",
      "            0,     0,     0,     0,     0,     0,     0,     0])\n",
      "torch.Size([16, 128])\n",
      "tensor([1, 1, 1, 1, 0, 0, 0, 0, 0, 0, 0, 0, 0, 0, 0, 0, 0, 0, 0, 0, 0, 0, 0, 0,\n",
      "        0, 0, 0, 0, 0, 0, 0, 0, 0, 0, 0, 0, 0, 0, 0, 0, 0, 0, 0, 0, 0, 0, 0, 0,\n",
      "        0, 0, 0, 0, 0, 0, 0, 0, 0, 0, 0, 0, 0, 0, 0, 0, 0, 0, 0, 0, 0, 0, 0, 0,\n",
      "        0, 0, 0, 0, 0, 0, 0, 0, 0, 0, 0, 0, 0, 0, 0, 0, 0, 0, 0, 0, 0, 0, 0, 0,\n",
      "        0, 0, 0, 0, 0, 0, 0, 0, 0, 0, 0, 0, 0, 0, 0, 0, 0, 0, 0, 0, 0, 0, 0, 0,\n",
      "        0, 0, 0, 0, 0, 0, 0, 0])\n",
      "torch.Size([16, 128])\n",
      "tensor([0, 0, 0, 0, 0, 0, 0, 0, 0, 0, 0, 0, 0, 0, 0, 0, 0, 0, 0, 0, 0, 0, 0, 0,\n",
      "        0, 0, 0, 0, 0, 0, 0, 0, 0, 0, 0, 0, 0, 0, 0, 0, 0, 0, 0, 0, 0, 0, 0, 0,\n",
      "        0, 0, 0, 0, 0, 0, 0, 0, 0, 0, 0, 0, 0, 0, 0, 0, 0, 0, 0, 0, 0, 0, 0, 0,\n",
      "        0, 0, 0, 0, 0, 0, 0, 0, 0, 0, 0, 0, 0, 0, 0, 0, 0, 0, 0, 0, 0, 0, 0, 0,\n",
      "        0, 0, 0, 0, 0, 0, 0, 0, 0, 0, 0, 0, 0, 0, 0, 0, 0, 0, 0, 0, 0, 0, 0, 0,\n",
      "        0, 0, 0, 0, 0, 0, 0, 0])\n",
      "torch.Size([16])\n",
      "tensor(1)\n"
     ]
    }
   ],
   "source": [
    "sample_data = next(iter(train_data_loader))\n",
    "\n",
    "print(sample_data.keys())\n",
    "\n",
    "print(sample_data['text'])\n",
    "print(sample_data['input_ids'].shape)\n",
    "print(sample_data['input_ids'][0, :])\n",
    "print(sample_data['attention_mask'].shape)\n",
    "print(sample_data['attention_mask'][0, :])\n",
    "print(sample_data['token_type_ids'].shape)\n",
    "print(sample_data['token_type_ids'][0, :])\n",
    "print(sample_data['targets'].shape)\n",
    "print(sample_data['targets'][0])"
   ]
  },
  {
   "cell_type": "code",
   "execution_count": null,
   "metadata": {
    "colab": {
     "base_uri": "https://localhost:8080/"
    },
    "id": "IlgKhYWRCBfR",
    "outputId": "5781262d-a34a-4c3d-a6b4-7de036685b55"
   },
   "outputs": [
    {
     "name": "stdout",
     "output_type": "stream",
     "text": [
      "tensor([[-0.1673,  0.1894, -0.1325],\n",
      "        [-0.1067,  0.1101, -0.4152],\n",
      "        [-0.2341,  0.0041, -0.2569],\n",
      "        [-0.1731,  0.0456, -0.5071],\n",
      "        [-0.1170,  0.3579, -0.3671]], device='cuda:0',\n",
      "       grad_fn=<SliceBackward0>)\n",
      "tensor([1, 1, 1, 1, 1], device='cuda:0')\n"
     ]
    }
   ],
   "source": [
    "# sample data output\n",
    "\n",
    "sample_data_comment = sample_data['text']\n",
    "sample_data_input_ids = sample_data['input_ids']\n",
    "sample_data_attention_mask = sample_data['attention_mask']\n",
    "sample_data_token_type_ids = sample_data['token_type_ids']\n",
    "sample_data_targets = sample_data['targets']\n",
    "\n",
    "# available for using in GPU\n",
    "sample_data_input_ids = sample_data_input_ids.to(device)\n",
    "sample_data_attention_mask = sample_data_attention_mask.to(device)\n",
    "sample_data_token_type_ids = sample_data_token_type_ids.to(device)\n",
    "sample_data_targets = sample_data_targets.to(device)\n",
    "\n",
    "\n",
    "# outputs = F.softmax(\n",
    "#     pt_model(sample_data_input_ids, sample_data_attention_mask, sample_data_token_type_ids), \n",
    "#     dim=1)\n",
    "\n",
    "outputs = pt_model(sample_data_input_ids, sample_data_attention_mask, sample_data_token_type_ids)\n",
    "_, preds = torch.max(outputs, dim=1)\n",
    "\n",
    "print(outputs[:5, :])\n",
    "print(preds[:5])"
   ]
  },
  {
   "cell_type": "markdown",
   "metadata": {
    "id": "Q3tkDH9XQGgN"
   },
   "source": [
    "# Training Model with Processed Text"
   ]
  },
  {
   "cell_type": "code",
   "execution_count": null,
   "metadata": {
    "id": "n43DaWReCBhz"
   },
   "outputs": [],
   "source": [
    "def train_model_manual(model, criterion, optimizer,scheduler,val_beark,clip, num_epochs=25):\n",
    "  \"\"\"\n",
    "  function for train our model! in this function we use dataloader directly.\n",
    "  inputs: \n",
    "      model: input model \n",
    "      criterion: desired loss function\n",
    "      optimizer: our optimizer(!)\n",
    "      scheduler: for changing learning rate after sum epochs\n",
    "      num_epochs: number of epoches\n",
    "      val_beark: threshold for early stopping, if after \"val_beark\" steps our model don't get better, we end procces\n",
    "      clip: for gradient clipping\n",
    "  output:\n",
    "      model: our trained model!\n",
    "\n",
    "\n",
    "  \"\"\"\n",
    "  train_acc = []\n",
    "  train_loss = []\n",
    "  test_acc = []\n",
    "  test_loss = []\n",
    "  since = time.time()\n",
    "\n",
    "  best_model_wts = copy.deepcopy(model.state_dict())\n",
    "  best_acc = 0.0\n",
    "  best_loss = 100000000000\n",
    "  counter_val_beark = 0\n",
    "  for epoch in range(num_epochs):\n",
    "    ### Training\n",
    "    model.train()\n",
    "    loss_train = 0\n",
    "    acc_train = 0\n",
    "    counter = 1\n",
    "    for dl in tqdm(train_data_loader, total=len(train_data_loader), desc=\"Training... \"):\n",
    "      # 1. Forward pass\n",
    "      input_ids = dl['input_ids']\n",
    "      attention_mask = dl['attention_mask']\n",
    "      token_type_ids = dl['token_type_ids']\n",
    "      targets = dl['targets']\n",
    "      input_ids = input_ids.to(device)\n",
    "      attention_mask = attention_mask.to(device)\n",
    "      token_type_ids = token_type_ids.to(device)\n",
    "      targets = targets.to(device)\n",
    " \n",
    "      outputs = model(input_ids=input_ids,attention_mask=attention_mask,token_type_ids=token_type_ids) # model outputs raw logits \n",
    "      _, preds = torch.max(outputs, 1)\n",
    "\n",
    "      # print(y_logits)\n",
    "      # 2. Calculate loss and accuracy\n",
    "      counter = counter + 1\n",
    "      loss = criterion(outputs, targets)\n",
    "      acc_train += torch.sum(preds == targets.data)\n",
    "      loss_train = loss_train + loss\n",
    "      # 3. Optimizer zero grad\n",
    "      optimizer.zero_grad()\n",
    "\n",
    "      # 4. Loss backwards\n",
    "      loss.backward()\n",
    "      if clip > 0.0:\n",
    "            nn.utils.clip_grad_norm_(model.parameters(), max_norm=clip)\n",
    "\n",
    "      # 5. Optimizer step\n",
    "      optimizer.step()\n",
    "    loss_train = loss_train/counter\n",
    "    acc_train = 100*acc_train/len(Dataset_Train)\n",
    "    train_acc.append(acc_train)\n",
    "    train_loss.append(loss_train)\n",
    "    scheduler.step()\n",
    "    ### Testing\n",
    "    loss_test = 0\n",
    "    acc_test = 0\n",
    "    counter = 1\n",
    "    model.eval()\n",
    "    with torch.inference_mode():\n",
    "      for dl in tqdm(valid_data_loader, total=len(valid_data_loader), desc=\"Validating... \"):\n",
    "      # 1. Forward pass\n",
    "        input_ids = dl['input_ids']\n",
    "        attention_mask = dl['attention_mask']\n",
    "        token_type_ids = dl['token_type_ids']\n",
    "        targets = dl['targets']\n",
    "        input_ids = input_ids.to(device)\n",
    "        attention_mask = attention_mask.to(device)\n",
    "        token_type_ids = token_type_ids.to(device)\n",
    "        targets = targets.to(device)\n",
    "        outputs = model(input_ids=input_ids,attention_mask=attention_mask,token_type_ids=token_type_ids) # model outputs raw logits \n",
    "        _, preds = torch.max(outputs, 1)\n",
    "        loss_test= criterion(outputs, targets.data)\n",
    "        acc_test += torch.sum(preds == targets.data)\n",
    "      loss_test = loss_test/counter\n",
    "      acc_test = 100*acc_test/len(Dataset_Val)\n",
    "      test_loss.append(loss_test)\n",
    "      test_acc.append(acc_test)\n",
    "    if acc_test > best_acc:\n",
    "                best_acc = acc_test\n",
    "                best_model_wts = copy.deepcopy(model.state_dict())\n",
    "    if loss_test <= best_loss:\n",
    "                best_loss = loss_test\n",
    "                counter_val_beark = 0\n",
    "    if loss_test > best_loss:\n",
    "                counter_val_beark = counter_val_beark + 1\n",
    "                if (counter_val_beark > val_beark):\n",
    "                  print(f\"early stopping happend!\")\n",
    "                  break;\n",
    "\n",
    "    # Print out what's happening\n",
    "    if epoch % 1 == 0:\n",
    "      print(f\"Epoch: {epoch} | Loss: {loss_train:.5f}, Acc: {acc_train:.2f}% | Test Loss: {loss_test:.5f}, Test Acc: {acc_test:.2f}%\") \n",
    "  time_elapsed = time.time() - since\n",
    "  print(f'Training complete in {time_elapsed // 60:.0f}m {time_elapsed % 60:.0f}s')\n",
    "  print(f'Best val Acc: {best_acc:4f}')\n",
    "\n",
    "  # load best model weights\n",
    "  model.load_state_dict(best_model_wts)\n",
    "  return model,best_loss,best_acc"
   ]
  },
  {
   "cell_type": "code",
   "execution_count": null,
   "metadata": {
    "colab": {
     "base_uri": "https://localhost:8080/"
    },
    "id": "EqObJSNNCBke",
    "outputId": "389ca373-7aff-4280-91e8-6037155889d6"
   },
   "outputs": [
    {
     "name": "stderr",
     "output_type": "stream",
     "text": [
      "Training... : 100%|██████████| 1265/1265 [06:18<00:00,  3.34it/s]\n",
      "Validating... : 100%|██████████| 317/317 [00:34<00:00,  9.07it/s]\n"
     ]
    },
    {
     "name": "stdout",
     "output_type": "stream",
     "text": [
      "Epoch: 0 | Loss: 1.10300, Acc: 38.19% | Test Loss: 0.96156, Test Acc: 38.93%\n"
     ]
    },
    {
     "name": "stderr",
     "output_type": "stream",
     "text": [
      "Training... : 100%|██████████| 1265/1265 [06:22<00:00,  3.31it/s]\n",
      "Validating... : 100%|██████████| 317/317 [00:34<00:00,  9.06it/s]\n"
     ]
    },
    {
     "name": "stdout",
     "output_type": "stream",
     "text": [
      "Epoch: 1 | Loss: 1.07109, Acc: 41.00% | Test Loss: 0.98151, Test Acc: 42.54%\n"
     ]
    },
    {
     "name": "stderr",
     "output_type": "stream",
     "text": [
      "Training... : 100%|██████████| 1265/1265 [06:21<00:00,  3.31it/s]\n",
      "Validating... : 100%|██████████| 317/317 [00:35<00:00,  9.02it/s]\n"
     ]
    },
    {
     "name": "stdout",
     "output_type": "stream",
     "text": [
      "Epoch: 2 | Loss: 1.04873, Acc: 44.58% | Test Loss: 1.18883, Test Acc: 44.76%\n"
     ]
    },
    {
     "name": "stderr",
     "output_type": "stream",
     "text": [
      "Training... : 100%|██████████| 1265/1265 [06:22<00:00,  3.31it/s]\n",
      "Validating... : 100%|██████████| 317/317 [00:35<00:00,  9.04it/s]\n"
     ]
    },
    {
     "name": "stdout",
     "output_type": "stream",
     "text": [
      "Epoch: 3 | Loss: 1.02378, Acc: 47.48% | Test Loss: 0.84635, Test Acc: 43.49%\n"
     ]
    },
    {
     "name": "stderr",
     "output_type": "stream",
     "text": [
      "Training... : 100%|██████████| 1265/1265 [06:22<00:00,  3.31it/s]\n",
      "Validating... : 100%|██████████| 317/317 [00:35<00:00,  9.03it/s]\n"
     ]
    },
    {
     "name": "stdout",
     "output_type": "stream",
     "text": [
      "Epoch: 4 | Loss: 1.00335, Acc: 49.42% | Test Loss: 1.16149, Test Acc: 47.74%\n"
     ]
    },
    {
     "name": "stderr",
     "output_type": "stream",
     "text": [
      "Training... : 100%|██████████| 1265/1265 [06:22<00:00,  3.31it/s]\n",
      "Validating... : 100%|██████████| 317/317 [00:34<00:00,  9.08it/s]\n"
     ]
    },
    {
     "name": "stdout",
     "output_type": "stream",
     "text": [
      "Epoch: 5 | Loss: 0.98243, Acc: 51.45% | Test Loss: 0.87445, Test Acc: 42.52%\n"
     ]
    },
    {
     "name": "stderr",
     "output_type": "stream",
     "text": [
      "Training... : 100%|██████████| 1265/1265 [06:22<00:00,  3.31it/s]\n",
      "Validating... : 100%|██████████| 317/317 [00:35<00:00,  9.03it/s]\n"
     ]
    },
    {
     "name": "stdout",
     "output_type": "stream",
     "text": [
      "Epoch: 6 | Loss: 0.95820, Acc: 53.91% | Test Loss: 1.28128, Test Acc: 47.74%\n"
     ]
    },
    {
     "name": "stderr",
     "output_type": "stream",
     "text": [
      "Training... : 100%|██████████| 1265/1265 [06:22<00:00,  3.31it/s]\n",
      "Validating... : 100%|██████████| 317/317 [00:35<00:00,  9.04it/s]\n"
     ]
    },
    {
     "name": "stdout",
     "output_type": "stream",
     "text": [
      "Epoch: 7 | Loss: 0.93236, Acc: 55.79% | Test Loss: 1.38143, Test Acc: 47.84%\n"
     ]
    },
    {
     "name": "stderr",
     "output_type": "stream",
     "text": [
      "Training... : 100%|██████████| 1265/1265 [06:22<00:00,  3.31it/s]\n",
      "Validating... : 100%|██████████| 317/317 [00:35<00:00,  9.03it/s]\n"
     ]
    },
    {
     "name": "stdout",
     "output_type": "stream",
     "text": [
      "Epoch: 8 | Loss: 0.91083, Acc: 57.85% | Test Loss: 0.89968, Test Acc: 48.05%\n"
     ]
    },
    {
     "name": "stderr",
     "output_type": "stream",
     "text": [
      "Training... : 100%|██████████| 1265/1265 [06:22<00:00,  3.31it/s]\n",
      "Validating... : 100%|██████████| 317/317 [00:35<00:00,  9.04it/s]\n"
     ]
    },
    {
     "name": "stdout",
     "output_type": "stream",
     "text": [
      "Epoch: 9 | Loss: 0.88006, Acc: 59.79% | Test Loss: 0.97211, Test Acc: 43.87%\n"
     ]
    },
    {
     "name": "stderr",
     "output_type": "stream",
     "text": [
      "Training... : 100%|██████████| 1265/1265 [06:22<00:00,  3.31it/s]\n",
      "Validating... : 100%|██████████| 317/317 [00:34<00:00,  9.07it/s]\n"
     ]
    },
    {
     "name": "stdout",
     "output_type": "stream",
     "text": [
      "Epoch: 10 | Loss: 0.85119, Acc: 61.77% | Test Loss: 0.97355, Test Acc: 48.21%\n"
     ]
    },
    {
     "name": "stderr",
     "output_type": "stream",
     "text": [
      "Training... : 100%|██████████| 1265/1265 [06:21<00:00,  3.31it/s]\n",
      "Validating... : 100%|██████████| 317/317 [00:34<00:00,  9.07it/s]\n"
     ]
    },
    {
     "name": "stdout",
     "output_type": "stream",
     "text": [
      "Epoch: 11 | Loss: 0.82060, Acc: 63.84% | Test Loss: 1.16667, Test Acc: 47.90%\n",
      "Training complete in 83m 23s\n",
      "Best val Acc: 48.212521\n"
     ]
    }
   ],
   "source": [
    "criterion = nn.CrossEntropyLoss()\n",
    "\n",
    "\n",
    "optimizer_conv = optim.SGD(pt_model.parameters(), lr=0.001, momentum=0.9)\n",
    "exp_lr_scheduler = lr_scheduler.StepLR(optimizer_conv, step_size=50, gamma=0.5)\n",
    "\n",
    "pt_model = pt_model.to(device)\n",
    "pt_model_trained,best_loss,best_acc = train_model_manual(pt_model, criterion, optimizer_conv,exp_lr_scheduler,20,0.0,num_epochs=12)"
   ]
  },
  {
   "cell_type": "markdown",
   "metadata": {
    "id": "8IPoBSeWQGgO"
   },
   "source": [
    "## Evaluatiing the Model with Pro Text"
   ]
  },
  {
   "cell_type": "code",
   "execution_count": null,
   "metadata": {
    "colab": {
     "base_uri": "https://localhost:8080/"
    },
    "id": "isi1zC-eMyH7",
    "outputId": "1639f766-b15e-4dd1-9d34-b88a04b6866d"
   },
   "outputs": [
    {
     "name": "stderr",
     "output_type": "stream",
     "text": [
      "Validating... : 100%|██████████| 317/317 [00:35<00:00,  8.90it/s]\n"
     ]
    }
   ],
   "source": [
    "pt_model_trained.eval()\n",
    "targets_train = []\n",
    "targets_predicted = []\n",
    "with torch.inference_mode():\n",
    "  for dl in tqdm(valid_data_loader, total=len(valid_data_loader), desc=\"Validating... \"):\n",
    "  # 1. Forward pass\n",
    "    input_ids = dl['input_ids']\n",
    "    attention_mask = dl['attention_mask']\n",
    "    token_type_ids = dl['token_type_ids']\n",
    "    targets = dl['targets']\n",
    "    input_ids = input_ids.to(device)\n",
    "    attention_mask = attention_mask.to(device)\n",
    "    token_type_ids = token_type_ids.to(device)\n",
    "    targets = targets.to(device)\n",
    "    outputs = pt_model_trained(input_ids=input_ids,attention_mask=attention_mask,token_type_ids=token_type_ids) # model outputs raw logits \n",
    "    _, preds = torch.max(outputs, 1)\n",
    "    preds = preds.cpu().detach().numpy()\n",
    "    targets = targets.cpu().detach().numpy()\n",
    "    targets_predicted.append(preds)\n",
    "    targets_train.append(targets)\n",
    "\n"
   ]
  },
  {
   "cell_type": "code",
   "execution_count": null,
   "metadata": {
    "id": "JW51i__5P4mU"
   },
   "outputs": [],
   "source": [
    "#targets_train = np.concatenate(targets_train,axis = 0)\n",
    "targets_predicted = np.concatenate(targets_predicted,axis = 0)\n",
    "targets_train = np.concatenate(targets_train,axis = 0)"
   ]
  },
  {
   "cell_type": "code",
   "execution_count": null,
   "metadata": {
    "colab": {
     "base_uri": "https://localhost:8080/"
    },
    "id": "aIiFm0E_Qdv5",
    "outputId": "23f0af95-7251-4b1f-9f76-257004b39db2"
   },
   "outputs": [
    {
     "name": "stdout",
     "output_type": "stream",
     "text": [
      "(5063,)\n",
      "(5063,)\n"
     ]
    }
   ],
   "source": [
    "print(np.shape(targets_predicted))\n",
    "print(np.shape(targets_train))"
   ]
  },
  {
   "cell_type": "code",
   "execution_count": null,
   "metadata": {
    "id": "60-xmGxvOx_s"
   },
   "outputs": [],
   "source": [
    "from sklearn.datasets import make_classification\n",
    "from sklearn.metrics import accuracy_score, f1_score, precision_score, recall_score, classification_report, confusion_matrix\n",
    "\n",
    "\n",
    "from sklearn import metrics"
   ]
  },
  {
   "cell_type": "code",
   "execution_count": null,
   "metadata": {
    "colab": {
     "base_uri": "https://localhost:8080/",
     "height": 384
    },
    "id": "tH-K4RinCBnB",
    "outputId": "7149f086-c27a-4e3b-87ee-8b138f2985b8"
   },
   "outputs": [
    {
     "name": "stdout",
     "output_type": "stream",
     "text": [
      "accuracy score on validation data: 0.48212522220027654\n",
      "f1 score on validation data: 0.46086372692056693\n",
      "precision score on validation data: 0.4981110306301781\n",
      "recall score on validation data: 0.4698018645681608\n"
     ]
    },
    {
     "data": {
      "text/plain": [
       "Text(0.5, 1.0, 'confusion matrix for val data')"
      ]
     },
     "execution_count": 27,
     "metadata": {},
     "output_type": "execute_result"
    },
    {
     "data": {
      "image/png": "[encoded data removed]",
      "text/plain": [
       "<Figure size 432x288 with 2 Axes>"
      ]
     },
     "metadata": {
      "needs_background": "light"
     },
     "output_type": "display_data"
    }
   ],
   "source": [
    "acc_test = accuracy_score(targets_train,targets_predicted)\n",
    "f1_test = f1_score(targets_train, targets_predicted, average=\"macro\")\n",
    "pre_test = precision_score(targets_train, targets_predicted, average=\"macro\")\n",
    "recall_test = recall_score(targets_train, targets_predicted, average=\"macro\")\n",
    "print(f\"accuracy score on validation data: {acc_test}\")\n",
    "print(f\"f1 score on validation data: {f1_test}\")\n",
    "print(f\"precision score on validation data: {pre_test}\")\n",
    "print(f\"recall score on validation data: {recall_test}\")\n",
    "confusion_matrix = metrics.confusion_matrix(targets_train, targets_predicted)\n",
    "\n",
    "cm_display = metrics.ConfusionMatrixDisplay(confusion_matrix = confusion_matrix, display_labels = [False, True])\n",
    "\n",
    "cm_display.plot()\n",
    "plt.title('confusion matrix for val data')"
   ]
  },
  {
   "cell_type": "code",
   "execution_count": null,
   "metadata": {
    "colab": {
     "base_uri": "https://localhost:8080/"
    },
    "id": "4Pvj-h8ZsKUT",
    "outputId": "31749c2f-63ed-4a6e-a517-cdf2b2763801"
   },
   "outputs": [
    {
     "name": "stdout",
     "output_type": "stream",
     "text": [
      "Mounted at /content/gdrive\n"
     ]
    }
   ],
   "source": [
    "from google.colab import drive\n",
    "drive.mount('/content/gdrive')"
   ]
  },
  {
   "cell_type": "code",
   "execution_count": null,
   "metadata": {
    "id": "tT-ukEwaCBun"
   },
   "outputs": [],
   "source": [
    "torch.save(pt_model_trained.state_dict(), '/content/gdrive/MyDrive/pt_model_trained_with_pro_text.pth')"
   ]
  },
  {
   "cell_type": "markdown",
   "metadata": {
    "id": "rikpE8vAm08_"
   },
   "source": [
    "# Training Model with Normal Text"
   ]
  },
  {
   "cell_type": "code",
   "execution_count": null,
   "metadata": {
    "id": "g4vOu5REmixO"
   },
   "outputs": [],
   "source": [
    "Dataset_Train = sentiment_dataset(tokenizer=tokenizer,text = text_train,labels = sentiment_train)\n",
    "\n",
    "Dataset_Test = sentiment_dataset(tokenizer=tokenizer,text = text_test,labels = sentiment_test)\n",
    "\n",
    "Dataset_Val = sentiment_dataset(tokenizer=tokenizer,text = text_val,labels = sentiment_dev)"
   ]
  },
  {
   "cell_type": "code",
   "execution_count": null,
   "metadata": {
    "id": "8l_qg3drmizu"
   },
   "outputs": [],
   "source": [
    "#Creating Batch\n",
    "from torch.utils.data import DataLoader\n",
    "train_data_loader= DataLoader(Dataset_Train,batch_size=16,shuffle = True)\n",
    "test_data_loader= DataLoader(Dataset_Test,batch_size=16,shuffle = False)\n",
    "valid_data_loader= DataLoader(Dataset_Val,batch_size=16,shuffle = False)"
   ]
  },
  {
   "cell_type": "code",
   "execution_count": null,
   "metadata": {
    "colab": {
     "base_uri": "https://localhost:8080/"
    },
    "id": "GkYVdOhTmi2b",
    "outputId": "ed91e395-62f7-4a3c-d5ce-5f29dd307534"
   },
   "outputs": [
    {
     "name": "stdout",
     "output_type": "stream",
     "text": [
      "dict_keys(['text', 'input_ids', 'attention_mask', 'token_type_ids', 'targets'])\n",
      "[\"They'll pass carbon dating, expert analysis, everything.\", 'Be thankful my son dragged you here behind his horse.', \"We'll make it to the flight deck,\", 'Yes, sir. Gentlemen, keep your lines free.', 'Thanks for that encouraging story.', '104 kilos in total.', 'If these chemicals are in the water supply in Cable Springs,', \"She's a journalist.\", 'You have been betrayed, Ronan.', \"Yes, they're watching you.\", 'Mot anymore', 'Whatever it takes.', 'That state department agent wants to meet', 'What was the name of the temp agency that sent you?', \"And if you're willing to keep torturing my kids,\", \"So whatever this was, let's put it behind us.\"]\n",
      "torch.Size([16, 128])\n",
      "tensor([ 101, 2027, 1005, 2222, 3413, 6351, 5306, 1010, 6739, 4106, 1010, 2673,\n",
      "        1012,  102,    0,    0,    0,    0,    0,    0,    0,    0,    0,    0,\n",
      "           0,    0,    0,    0,    0,    0,    0,    0,    0,    0,    0,    0,\n",
      "           0,    0,    0,    0,    0,    0,    0,    0,    0,    0,    0,    0,\n",
      "           0,    0,    0,    0,    0,    0,    0,    0,    0,    0,    0,    0,\n",
      "           0,    0,    0,    0,    0,    0,    0,    0,    0,    0,    0,    0,\n",
      "           0,    0,    0,    0,    0,    0,    0,    0,    0,    0,    0,    0,\n",
      "           0,    0,    0,    0,    0,    0,    0,    0,    0,    0,    0,    0,\n",
      "           0,    0,    0,    0,    0,    0,    0,    0,    0,    0,    0,    0,\n",
      "           0,    0,    0,    0,    0,    0,    0,    0,    0,    0,    0,    0,\n",
      "           0,    0,    0,    0,    0,    0,    0,    0])\n",
      "torch.Size([16, 128])\n",
      "tensor([1, 1, 1, 1, 1, 1, 1, 1, 1, 1, 1, 1, 1, 1, 0, 0, 0, 0, 0, 0, 0, 0, 0, 0,\n",
      "        0, 0, 0, 0, 0, 0, 0, 0, 0, 0, 0, 0, 0, 0, 0, 0, 0, 0, 0, 0, 0, 0, 0, 0,\n",
      "        0, 0, 0, 0, 0, 0, 0, 0, 0, 0, 0, 0, 0, 0, 0, 0, 0, 0, 0, 0, 0, 0, 0, 0,\n",
      "        0, 0, 0, 0, 0, 0, 0, 0, 0, 0, 0, 0, 0, 0, 0, 0, 0, 0, 0, 0, 0, 0, 0, 0,\n",
      "        0, 0, 0, 0, 0, 0, 0, 0, 0, 0, 0, 0, 0, 0, 0, 0, 0, 0, 0, 0, 0, 0, 0, 0,\n",
      "        0, 0, 0, 0, 0, 0, 0, 0])\n",
      "torch.Size([16, 128])\n",
      "tensor([0, 0, 0, 0, 0, 0, 0, 0, 0, 0, 0, 0, 0, 0, 0, 0, 0, 0, 0, 0, 0, 0, 0, 0,\n",
      "        0, 0, 0, 0, 0, 0, 0, 0, 0, 0, 0, 0, 0, 0, 0, 0, 0, 0, 0, 0, 0, 0, 0, 0,\n",
      "        0, 0, 0, 0, 0, 0, 0, 0, 0, 0, 0, 0, 0, 0, 0, 0, 0, 0, 0, 0, 0, 0, 0, 0,\n",
      "        0, 0, 0, 0, 0, 0, 0, 0, 0, 0, 0, 0, 0, 0, 0, 0, 0, 0, 0, 0, 0, 0, 0, 0,\n",
      "        0, 0, 0, 0, 0, 0, 0, 0, 0, 0, 0, 0, 0, 0, 0, 0, 0, 0, 0, 0, 0, 0, 0, 0,\n",
      "        0, 0, 0, 0, 0, 0, 0, 0])\n",
      "torch.Size([16])\n",
      "tensor(1)\n"
     ]
    }
   ],
   "source": [
    "sample_data = next(iter(train_data_loader))\n",
    "\n",
    "print(sample_data.keys())\n",
    "\n",
    "print(sample_data['text'])\n",
    "print(sample_data['input_ids'].shape)\n",
    "print(sample_data['input_ids'][0, :])\n",
    "print(sample_data['attention_mask'].shape)\n",
    "print(sample_data['attention_mask'][0, :])\n",
    "print(sample_data['token_type_ids'].shape)\n",
    "print(sample_data['token_type_ids'][0, :])\n",
    "print(sample_data['targets'].shape)\n",
    "print(sample_data['targets'][0])"
   ]
  },
  {
   "cell_type": "code",
   "execution_count": null,
   "metadata": {
    "id": "tWXCw2m9mi7b"
   },
   "outputs": [],
   "source": [
    "def train_model_manual(model, criterion, optimizer,scheduler,val_beark,clip, num_epochs=25):\n",
    "  \"\"\"\n",
    "  function for train our model! in this function we use dataloader directly.\n",
    "  inputs: \n",
    "      model: input model \n",
    "      criterion: desired loss function\n",
    "      optimizer: our optimizer(!)\n",
    "      scheduler: for changing learning rate after sum epochs\n",
    "      num_epochs: number of epoches\n",
    "      val_beark: threshold for early stopping, if after \"val_beark\" steps our model don't get better, we end procces\n",
    "      clip: for gradient clipping\n",
    "  output:\n",
    "      model: our trained model!\n",
    "\n",
    "\n",
    "  \"\"\"\n",
    "  train_acc = []\n",
    "  train_loss = []\n",
    "  test_acc = []\n",
    "  test_loss = []\n",
    "  since = time.time()\n",
    "\n",
    "  best_model_wts = copy.deepcopy(model.state_dict())\n",
    "  best_acc = 0.0\n",
    "  best_loss = 100000000000\n",
    "  counter_val_beark = 0\n",
    "  for epoch in range(num_epochs):\n",
    "    ### Training\n",
    "    model.train()\n",
    "    loss_train = 0\n",
    "    acc_train = 0\n",
    "    counter = 1\n",
    "    for dl in tqdm(train_data_loader, total=len(train_data_loader), desc=\"Training... \"):\n",
    "      # 1. Forward pass\n",
    "      input_ids = dl['input_ids']\n",
    "      attention_mask = dl['attention_mask']\n",
    "      token_type_ids = dl['token_type_ids']\n",
    "      targets = dl['targets']\n",
    "      input_ids = input_ids.to(device)\n",
    "      attention_mask = attention_mask.to(device)\n",
    "      token_type_ids = token_type_ids.to(device)\n",
    "      targets = targets.to(device)\n",
    " \n",
    "      outputs = model(input_ids=input_ids,attention_mask=attention_mask,token_type_ids=token_type_ids) # model outputs raw logits \n",
    "      _, preds = torch.max(outputs, 1)\n",
    "\n",
    "      # print(y_logits)\n",
    "      # 2. Calculate loss and accuracy\n",
    "      counter = counter + 1\n",
    "      loss = criterion(outputs, targets)\n",
    "      acc_train += torch.sum(preds == targets.data)\n",
    "      loss_train = loss_train + loss\n",
    "      # 3. Optimizer zero grad\n",
    "      optimizer.zero_grad()\n",
    "\n",
    "      # 4. Loss backwards\n",
    "      loss.backward()\n",
    "      if clip > 0.0:\n",
    "            nn.utils.clip_grad_norm_(model.parameters(), max_norm=clip)\n",
    "\n",
    "      # 5. Optimizer step\n",
    "      optimizer.step()\n",
    "    loss_train = loss_train/counter\n",
    "    acc_train = 100*acc_train/len(Dataset_Train)\n",
    "    train_acc.append(acc_train)\n",
    "    train_loss.append(loss_train)\n",
    "    scheduler.step()\n",
    "    ### Testing\n",
    "    loss_test = 0\n",
    "    acc_test = 0\n",
    "    counter = 1\n",
    "    model.eval()\n",
    "    with torch.inference_mode():\n",
    "      for dl in tqdm(valid_data_loader, total=len(valid_data_loader), desc=\"Validating... \"):\n",
    "      # 1. Forward pass\n",
    "        input_ids = dl['input_ids']\n",
    "        attention_mask = dl['attention_mask']\n",
    "        token_type_ids = dl['token_type_ids']\n",
    "        targets = dl['targets']\n",
    "        input_ids = input_ids.to(device)\n",
    "        attention_mask = attention_mask.to(device)\n",
    "        token_type_ids = token_type_ids.to(device)\n",
    "        targets = targets.to(device)\n",
    "        outputs = model(input_ids=input_ids,attention_mask=attention_mask,token_type_ids=token_type_ids) # model outputs raw logits \n",
    "        _, preds = torch.max(outputs, 1)\n",
    "        loss_test= criterion(outputs, targets.data)\n",
    "        acc_test += torch.sum(preds == targets.data)\n",
    "      loss_test = loss_test/counter\n",
    "      acc_test = 100*acc_test/len(Dataset_Val)\n",
    "      test_loss.append(loss_test)\n",
    "      test_acc.append(acc_test)\n",
    "    if acc_test > best_acc:\n",
    "                best_acc = acc_test\n",
    "                best_model_wts = copy.deepcopy(model.state_dict())\n",
    "    if loss_test <= best_loss:\n",
    "                best_loss = loss_test\n",
    "                counter_val_beark = 0\n",
    "    if loss_test > best_loss:\n",
    "                counter_val_beark = counter_val_beark + 1\n",
    "                if (counter_val_beark > val_beark):\n",
    "                  print(f\"early stopping happend!\")\n",
    "                  break;\n",
    "\n",
    "    # Print out what's happening\n",
    "    if epoch % 1 == 0:\n",
    "      print(f\"Epoch: {epoch} | Loss: {loss_train:.5f}, Acc: {acc_train:.2f}% | Test Loss: {loss_test:.5f}, Test Acc: {acc_test:.2f}%\") \n",
    "  time_elapsed = time.time() - since\n",
    "  print(f'Training complete in {time_elapsed // 60:.0f}m {time_elapsed % 60:.0f}s')\n",
    "  print(f'Best val Acc: {best_acc:4f}')\n",
    "\n",
    "  # load best model weights\n",
    "  model.load_state_dict(best_model_wts)\n",
    "  return model,best_loss,best_acc"
   ]
  },
  {
   "cell_type": "code",
   "execution_count": null,
   "metadata": {
    "colab": {
     "base_uri": "https://localhost:8080/"
    },
    "id": "vbaz-4LAmi-B",
    "outputId": "59e900d4-f9ef-4e74-f5e5-8a9483cbb455"
   },
   "outputs": [
    {
     "name": "stderr",
     "output_type": "stream",
     "text": [
      "Training... : 100%|██████████| 1265/1265 [06:46<00:00,  3.12it/s]\n",
      "Validating... : 100%|██████████| 317/317 [00:38<00:00,  8.27it/s]\n"
     ]
    },
    {
     "name": "stdout",
     "output_type": "stream",
     "text": [
      "Epoch: 0 | Loss: 1.08844, Acc: 40.62% | Test Loss: 1.37612, Test Acc: 41.42%\n"
     ]
    },
    {
     "name": "stderr",
     "output_type": "stream",
     "text": [
      "Training... : 100%|██████████| 1265/1265 [06:48<00:00,  3.10it/s]\n",
      "Validating... : 100%|██████████| 317/317 [00:38<00:00,  8.28it/s]\n"
     ]
    },
    {
     "name": "stdout",
     "output_type": "stream",
     "text": [
      "Epoch: 1 | Loss: 1.04955, Acc: 44.59% | Test Loss: 1.14460, Test Acc: 44.14%\n"
     ]
    },
    {
     "name": "stderr",
     "output_type": "stream",
     "text": [
      "Training... : 100%|██████████| 1265/1265 [06:47<00:00,  3.10it/s]\n",
      "Validating... : 100%|██████████| 317/317 [00:38<00:00,  8.27it/s]\n"
     ]
    },
    {
     "name": "stdout",
     "output_type": "stream",
     "text": [
      "Epoch: 2 | Loss: 1.02685, Acc: 47.01% | Test Loss: 1.08487, Test Acc: 46.08%\n"
     ]
    },
    {
     "name": "stderr",
     "output_type": "stream",
     "text": [
      "Training... : 100%|██████████| 1265/1265 [06:48<00:00,  3.10it/s]\n",
      "Validating... : 100%|██████████| 317/317 [00:38<00:00,  8.26it/s]\n"
     ]
    },
    {
     "name": "stdout",
     "output_type": "stream",
     "text": [
      "Epoch: 3 | Loss: 1.01051, Acc: 49.18% | Test Loss: 0.89971, Test Acc: 47.22%\n"
     ]
    },
    {
     "name": "stderr",
     "output_type": "stream",
     "text": [
      "Training... : 100%|██████████| 1265/1265 [06:48<00:00,  3.10it/s]\n",
      "Validating... : 100%|██████████| 317/317 [00:38<00:00,  8.27it/s]\n"
     ]
    },
    {
     "name": "stdout",
     "output_type": "stream",
     "text": [
      "Epoch: 4 | Loss: 0.98897, Acc: 51.29% | Test Loss: 1.15689, Test Acc: 50.03%\n"
     ]
    },
    {
     "name": "stderr",
     "output_type": "stream",
     "text": [
      "Training... : 100%|██████████| 1265/1265 [06:48<00:00,  3.09it/s]\n",
      "Validating... : 100%|██████████| 317/317 [00:38<00:00,  8.27it/s]\n"
     ]
    },
    {
     "name": "stdout",
     "output_type": "stream",
     "text": [
      "Epoch: 5 | Loss: 0.96983, Acc: 52.84% | Test Loss: 1.50617, Test Acc: 49.65%\n"
     ]
    },
    {
     "name": "stderr",
     "output_type": "stream",
     "text": [
      "Training... : 100%|██████████| 1265/1265 [06:48<00:00,  3.10it/s]\n",
      "Validating... : 100%|██████████| 317/317 [00:38<00:00,  8.27it/s]\n"
     ]
    },
    {
     "name": "stdout",
     "output_type": "stream",
     "text": [
      "Epoch: 6 | Loss: 0.94311, Acc: 55.23% | Test Loss: 1.08557, Test Acc: 51.65%\n"
     ]
    },
    {
     "name": "stderr",
     "output_type": "stream",
     "text": [
      "Training... : 100%|██████████| 1265/1265 [06:48<00:00,  3.09it/s]\n",
      "Validating... : 100%|██████████| 317/317 [00:38<00:00,  8.26it/s]\n"
     ]
    },
    {
     "name": "stdout",
     "output_type": "stream",
     "text": [
      "Epoch: 7 | Loss: 0.91729, Acc: 57.38% | Test Loss: 1.44494, Test Acc: 52.10%\n"
     ]
    },
    {
     "name": "stderr",
     "output_type": "stream",
     "text": [
      "Training... : 100%|██████████| 1265/1265 [06:48<00:00,  3.09it/s]\n",
      "Validating... : 100%|██████████| 317/317 [00:38<00:00,  8.26it/s]\n"
     ]
    },
    {
     "name": "stdout",
     "output_type": "stream",
     "text": [
      "Epoch: 8 | Loss: 0.88857, Acc: 59.20% | Test Loss: 1.21268, Test Acc: 51.31%\n"
     ]
    },
    {
     "name": "stderr",
     "output_type": "stream",
     "text": [
      "Training... : 100%|██████████| 1265/1265 [06:48<00:00,  3.10it/s]\n",
      "Validating... : 100%|██████████| 317/317 [00:38<00:00,  8.26it/s]\n"
     ]
    },
    {
     "name": "stdout",
     "output_type": "stream",
     "text": [
      "Epoch: 9 | Loss: 0.86231, Acc: 61.01% | Test Loss: 1.28705, Test Acc: 51.35%\n"
     ]
    },
    {
     "name": "stderr",
     "output_type": "stream",
     "text": [
      "Training... : 100%|██████████| 1265/1265 [06:48<00:00,  3.10it/s]\n",
      "Validating... : 100%|██████████| 317/317 [00:38<00:00,  8.27it/s]\n"
     ]
    },
    {
     "name": "stdout",
     "output_type": "stream",
     "text": [
      "Epoch: 10 | Loss: 0.83059, Acc: 62.81% | Test Loss: 1.32844, Test Acc: 51.77%\n"
     ]
    },
    {
     "name": "stderr",
     "output_type": "stream",
     "text": [
      "Training... : 100%|██████████| 1265/1265 [06:48<00:00,  3.10it/s]\n",
      "Validating... : 100%|██████████| 317/317 [00:38<00:00,  8.28it/s]\n"
     ]
    },
    {
     "name": "stdout",
     "output_type": "stream",
     "text": [
      "Epoch: 11 | Loss: 0.79762, Acc: 64.86% | Test Loss: 1.26177, Test Acc: 52.34%\n",
      "Training complete in 89m 20s\n",
      "Best val Acc: 52.340508\n"
     ]
    }
   ],
   "source": [
    "criterion = nn.CrossEntropyLoss()\n",
    "\n",
    "\n",
    "optimizer_conv = optim.SGD(pt_model.parameters(), lr=0.001, momentum=0.9)\n",
    "exp_lr_scheduler = lr_scheduler.StepLR(optimizer_conv, step_size=50, gamma=0.5)\n",
    "\n",
    "pt_model = pt_model.to(device)\n",
    "pt_model_trained,best_loss,best_acc = train_model_manual(pt_model, criterion, optimizer_conv,exp_lr_scheduler,20,0.0,num_epochs=12)"
   ]
  },
  {
   "cell_type": "markdown",
   "metadata": {
    "id": "rrOFrJrhQGgR"
   },
   "source": [
    "با توجه به اینکه عملکرد مدل با دیتای پردازش نشده بهتر است، از این مدل در ادامه استفاده کرده و همچنین نتایج آن را بر روی داده های Train و Valid و Test گزارش خواهیم کرد"
   ]
  },
  {
   "cell_type": "code",
   "execution_count": null,
   "metadata": {
    "colab": {
     "base_uri": "https://localhost:8080/"
    },
    "id": "nGjk4HmEnTBx",
    "outputId": "48be908b-0a2a-4a09-f99a-d52ef5632e5c"
   },
   "outputs": [
    {
     "name": "stderr",
     "output_type": "stream",
     "text": [
      "Validating... : 100%|██████████| 317/317 [00:38<00:00,  8.26it/s]\n"
     ]
    }
   ],
   "source": [
    "pt_model_trained.eval()\n",
    "targets_train = []\n",
    "targets_predicted = []\n",
    "with torch.inference_mode():\n",
    "  for dl in tqdm(valid_data_loader, total=len(valid_data_loader), desc=\"Validating... \"):\n",
    "  # 1. Forward pass\n",
    "    input_ids = dl['input_ids']\n",
    "    attention_mask = dl['attention_mask']\n",
    "    token_type_ids = dl['token_type_ids']\n",
    "    targets = dl['targets']\n",
    "    input_ids = input_ids.to(device)\n",
    "    attention_mask = attention_mask.to(device)\n",
    "    token_type_ids = token_type_ids.to(device)\n",
    "    targets = targets.to(device)\n",
    "    outputs = pt_model_trained(input_ids=input_ids,attention_mask=attention_mask,token_type_ids=token_type_ids) # model outputs raw logits \n",
    "    _, preds = torch.max(outputs, 1)\n",
    "    preds = preds.cpu().detach().numpy()\n",
    "    targets = targets.cpu().detach().numpy()\n",
    "    targets_predicted.append(preds)\n",
    "    targets_train.append(targets)\n",
    "\n"
   ]
  },
  {
   "cell_type": "code",
   "execution_count": null,
   "metadata": {
    "colab": {
     "base_uri": "https://localhost:8080/"
    },
    "id": "Q30xeSCmnTEa",
    "outputId": "fd00f7fa-47b9-4613-8a04-f1e90449bde1"
   },
   "outputs": [
    {
     "name": "stdout",
     "output_type": "stream",
     "text": [
      "Mounted at /content/gdrive\n"
     ]
    }
   ],
   "source": [
    "from google.colab import drive\n",
    "drive.mount('/content/gdrive')"
   ]
  },
  {
   "cell_type": "code",
   "execution_count": null,
   "metadata": {
    "id": "LjKe03WknTGv"
   },
   "outputs": [],
   "source": [
    "torch.save(pt_model_trained.state_dict(), '/content/gdrive/MyDrive/pt_model_trained_with_normal_text.pth')"
   ]
  },
  {
   "cell_type": "markdown",
   "metadata": {
    "id": "4pzI3yF1mjIF"
   },
   "source": [
    "## Evaluatiing the Model with Pro Text"
   ]
  },
  {
   "cell_type": "markdown",
   "metadata": {
    "id": "S9TMyRuhQGgS"
   },
   "source": [
    "### Evaluatiing the Model on Train Data"
   ]
  },
  {
   "cell_type": "code",
   "execution_count": null,
   "metadata": {
    "colab": {
     "base_uri": "https://localhost:8080/"
    },
    "id": "oQHvsjI_CBw-",
    "outputId": "548fd3bb-8651-48c5-ae27-521e3f52da67"
   },
   "outputs": [
    {
     "name": "stderr",
     "output_type": "stream",
     "text": [
      "Validating... : 100%|██████████| 1265/1265 [02:27<00:00,  8.58it/s]\n"
     ]
    }
   ],
   "source": [
    "pt_model_trained.eval()\n",
    "targets_train = []\n",
    "targets_predicted = []\n",
    "with torch.inference_mode():\n",
    "  for dl in tqdm(train_data_loader, total=len(train_data_loader), desc=\"Validating... \"):\n",
    "  # 1. Forward pass\n",
    "    input_ids = dl['input_ids']\n",
    "    attention_mask = dl['attention_mask']\n",
    "    token_type_ids = dl['token_type_ids']\n",
    "    targets = dl['targets']\n",
    "    input_ids = input_ids.to(device)\n",
    "    attention_mask = attention_mask.to(device)\n",
    "    token_type_ids = token_type_ids.to(device)\n",
    "    targets = targets.to(device)\n",
    "    outputs = pt_model_trained(input_ids=input_ids,attention_mask=attention_mask,token_type_ids=token_type_ids) # model outputs raw logits \n",
    "    _, preds = torch.max(outputs, 1)\n",
    "    preds = preds.cpu().detach().numpy()\n",
    "    targets = targets.cpu().detach().numpy()\n",
    "    targets_predicted.append(preds)\n",
    "    targets_train.append(targets)\n",
    "\n"
   ]
  },
  {
   "cell_type": "code",
   "execution_count": null,
   "metadata": {
    "id": "9yAbgEvtCBze"
   },
   "outputs": [],
   "source": [
    "#targets_train = np.concatenate(targets_train,axis = 0)\n",
    "targets_predicted = np.concatenate(targets_predicted,axis = 0)\n",
    "targets_train = np.concatenate(targets_train,axis = 0)"
   ]
  },
  {
   "cell_type": "code",
   "execution_count": null,
   "metadata": {
    "colab": {
     "base_uri": "https://localhost:8080/"
    },
    "id": "b9TNmUKhCB17",
    "outputId": "13f272af-a3f4-4e3d-8295-a786bbb4987c"
   },
   "outputs": [
    {
     "name": "stdout",
     "output_type": "stream",
     "text": [
      "(20240,)\n",
      "(20240,)\n"
     ]
    }
   ],
   "source": [
    "print(np.shape(targets_predicted))\n",
    "print(np.shape(targets_train))"
   ]
  },
  {
   "cell_type": "code",
   "execution_count": null,
   "metadata": {
    "id": "0vw0H24cnzsV"
   },
   "outputs": [],
   "source": [
    "from sklearn.datasets import make_classification\n",
    "from sklearn.metrics import accuracy_score, f1_score, precision_score, recall_score, classification_report, confusion_matrix\n",
    "\n",
    "\n",
    "from sklearn import metrics"
   ]
  },
  {
   "cell_type": "code",
   "execution_count": null,
   "metadata": {
    "colab": {
     "base_uri": "https://localhost:8080/",
     "height": 384
    },
    "id": "llc2KH84CB3-",
    "outputId": "15e96bd1-8787-440a-f49c-6797b744902b"
   },
   "outputs": [
    {
     "name": "stdout",
     "output_type": "stream",
     "text": [
      "accuracy score on train data: 0.7079545454545455\n",
      "f1 score on train data: 0.7069441114518503\n",
      "precision score on train data: 0.7057446282791796\n",
      "recall score on train data: 0.7116829375653594\n"
     ]
    },
    {
     "data": {
      "text/plain": [
       "Text(0.5, 1.0, 'confusion matrix for train data')"
      ]
     },
     "execution_count": 32,
     "metadata": {},
     "output_type": "execute_result"
    },
    {
     "data": {
      "image/png": "[encoded data removed]",
      "text/plain": [
       "<Figure size 432x288 with 2 Axes>"
      ]
     },
     "metadata": {
      "needs_background": "light"
     },
     "output_type": "display_data"
    }
   ],
   "source": [
    "acc_test = accuracy_score(targets_train,targets_predicted)\n",
    "f1_test = f1_score(targets_train, targets_predicted, average=\"macro\")\n",
    "pre_test = precision_score(targets_train, targets_predicted, average=\"macro\")\n",
    "recall_test = recall_score(targets_train, targets_predicted, average=\"macro\")\n",
    "print(f\"accuracy score on train data: {acc_test}\")\n",
    "print(f\"f1 score on train data: {f1_test}\")\n",
    "print(f\"precision score on train data: {pre_test}\")\n",
    "print(f\"recall score on train data: {recall_test}\")\n",
    "confusion_matrix = metrics.confusion_matrix(targets_train, targets_predicted)\n",
    "\n",
    "cm_display = metrics.ConfusionMatrixDisplay(confusion_matrix = confusion_matrix, display_labels = [False, True])\n",
    "\n",
    "cm_display.plot()\n",
    "plt.title('confusion matrix for train data')"
   ]
  },
  {
   "cell_type": "markdown",
   "metadata": {
    "id": "07b3JOZ8QGgS"
   },
   "source": [
    "### Evaluatiing the Model on Test Data"
   ]
  },
  {
   "cell_type": "code",
   "execution_count": null,
   "metadata": {
    "colab": {
     "base_uri": "https://localhost:8080/"
    },
    "id": "NOTNa4urCB6d",
    "outputId": "f0ef2cad-6fd8-4936-b2d3-12f80cf80272"
   },
   "outputs": [
    {
     "name": "stderr",
     "output_type": "stream",
     "text": [
      "Validating... : 100%|██████████| 317/317 [00:39<00:00,  8.11it/s]\n"
     ]
    }
   ],
   "source": [
    "pt_model_trained.eval()\n",
    "targets_train = []\n",
    "targets_predicted = []\n",
    "with torch.inference_mode():\n",
    "  for dl in tqdm(test_data_loader, total=len(test_data_loader), desc=\"Validating... \"):\n",
    "  # 1. Forward pass\n",
    "    input_ids = dl['input_ids']\n",
    "    attention_mask = dl['attention_mask']\n",
    "    token_type_ids = dl['token_type_ids']\n",
    "    targets = dl['targets']\n",
    "    input_ids = input_ids.to(device)\n",
    "    attention_mask = attention_mask.to(device)\n",
    "    token_type_ids = token_type_ids.to(device)\n",
    "    targets = targets.to(device)\n",
    "    outputs = pt_model_trained(input_ids=input_ids,attention_mask=attention_mask,token_type_ids=token_type_ids) # model outputs raw logits \n",
    "    _, preds = torch.max(outputs, 1)\n",
    "    preds = preds.cpu().detach().numpy()\n",
    "    targets = targets.cpu().detach().numpy()\n",
    "    targets_predicted.append(preds)\n",
    "    targets_train.append(targets)\n",
    "\n"
   ]
  },
  {
   "cell_type": "code",
   "execution_count": null,
   "metadata": {
    "id": "wdBV7lIY3gH2"
   },
   "outputs": [],
   "source": [
    "#targets_train = np.concatenate(targets_train,axis = 0)\n",
    "targets_predicted = np.concatenate(targets_predicted,axis = 0)\n",
    "targets_train = np.concatenate(targets_train,axis = 0)"
   ]
  },
  {
   "cell_type": "code",
   "execution_count": null,
   "metadata": {
    "colab": {
     "base_uri": "https://localhost:8080/"
    },
    "id": "uoUDIBtfwzHJ",
    "outputId": "7d3c5907-1511-4901-f953-38d7acc591ed"
   },
   "outputs": [
    {
     "name": "stdout",
     "output_type": "stream",
     "text": [
      "(5067,)\n",
      "(5067,)\n"
     ]
    }
   ],
   "source": [
    "print(np.shape(targets_predicted))\n",
    "print(np.shape(targets_train))"
   ]
  },
  {
   "cell_type": "code",
   "execution_count": null,
   "metadata": {
    "colab": {
     "base_uri": "https://localhost:8080/",
     "height": 384
    },
    "id": "yGwIDlJbwzJR",
    "outputId": "0fcb698e-7c01-4b7b-cb8c-b0dcef2b830a"
   },
   "outputs": [
    {
     "name": "stdout",
     "output_type": "stream",
     "text": [
      "accuracy score on test data: 0.5123347148213934\n",
      "f1 score on test data: 0.5047362258777134\n",
      "precision score on test data: 0.5091172776319263\n",
      "recall score on test data: 0.5084298098887129\n"
     ]
    },
    {
     "data": {
      "text/plain": [
       "Text(0.5, 1.0, 'confusion matrix for test data')"
      ]
     },
     "execution_count": 36,
     "metadata": {},
     "output_type": "execute_result"
    },
    {
     "data": {
      "image/png": "[encoded data removed]",
      "text/plain": [
       "<Figure size 432x288 with 2 Axes>"
      ]
     },
     "metadata": {
      "needs_background": "light"
     },
     "output_type": "display_data"
    }
   ],
   "source": [
    "acc_test = accuracy_score(targets_train,targets_predicted)\n",
    "f1_test = f1_score(targets_train, targets_predicted, average=\"macro\")\n",
    "pre_test = precision_score(targets_train, targets_predicted, average=\"macro\")\n",
    "recall_test = recall_score(targets_train, targets_predicted, average=\"macro\")\n",
    "print(f\"accuracy score on test data: {acc_test}\")\n",
    "print(f\"f1 score on test data: {f1_test}\")\n",
    "print(f\"precision score on test data: {pre_test}\")\n",
    "print(f\"recall score on test data: {recall_test}\")\n",
    "confusion_matrix = metrics.confusion_matrix(targets_train, targets_predicted)\n",
    "\n",
    "cm_display = metrics.ConfusionMatrixDisplay(confusion_matrix = confusion_matrix, display_labels = [False, True])\n",
    "\n",
    "cm_display.plot()\n",
    "plt.title('confusion matrix for test data')"
   ]
  },
  {
   "cell_type": "markdown",
   "metadata": {
    "id": "ywsQYTdbQGgT"
   },
   "source": [
    "### Evaluating the Model on Valid Data"
   ]
  },
  {
   "cell_type": "code",
   "execution_count": null,
   "metadata": {
    "colab": {
     "base_uri": "https://localhost:8080/"
    },
    "id": "FFptk6q-wzLa",
    "outputId": "37b200fe-76cf-4034-82d6-d99063a85077"
   },
   "outputs": [
    {
     "name": "stderr",
     "output_type": "stream",
     "text": [
      "Validating... : 100%|██████████| 317/317 [00:39<00:00,  8.07it/s]\n"
     ]
    }
   ],
   "source": [
    "pt_model_trained.eval()\n",
    "targets_train = []\n",
    "targets_predicted = []\n",
    "with torch.inference_mode():\n",
    "  for dl in tqdm(valid_data_loader, total=len(valid_data_loader), desc=\"Validating... \"):\n",
    "  # 1. Forward pass\n",
    "    input_ids = dl['input_ids']\n",
    "    attention_mask = dl['attention_mask']\n",
    "    token_type_ids = dl['token_type_ids']\n",
    "    targets = dl['targets']\n",
    "    input_ids = input_ids.to(device)\n",
    "    attention_mask = attention_mask.to(device)\n",
    "    token_type_ids = token_type_ids.to(device)\n",
    "    targets = targets.to(device)\n",
    "    outputs = pt_model_trained(input_ids=input_ids,attention_mask=attention_mask,token_type_ids=token_type_ids) # model outputs raw logits \n",
    "    _, preds = torch.max(outputs, 1)\n",
    "    preds = preds.cpu().detach().numpy()\n",
    "    targets = targets.cpu().detach().numpy()\n",
    "    targets_predicted.append(preds)\n",
    "    targets_train.append(targets)\n",
    "\n"
   ]
  },
  {
   "cell_type": "code",
   "execution_count": null,
   "metadata": {
    "id": "bibAlo0ewzNs"
   },
   "outputs": [],
   "source": [
    "#targets_train = np.concatenate(targets_train,axis = 0)\n",
    "targets_predicted = np.concatenate(targets_predicted,axis = 0)\n",
    "targets_train = np.concatenate(targets_train,axis = 0)"
   ]
  },
  {
   "cell_type": "code",
   "execution_count": null,
   "metadata": {
    "colab": {
     "base_uri": "https://localhost:8080/"
    },
    "id": "IV4EFNTtnO5L",
    "outputId": "74394994-e9e1-4c94-b75d-0d4812f36eae"
   },
   "outputs": [
    {
     "name": "stdout",
     "output_type": "stream",
     "text": [
      "(5063,)\n",
      "(5063,)\n"
     ]
    }
   ],
   "source": [
    "print(np.shape(targets_predicted))\n",
    "print(np.shape(targets_train))"
   ]
  },
  {
   "cell_type": "code",
   "execution_count": null,
   "metadata": {
    "colab": {
     "base_uri": "https://localhost:8080/",
     "height": 384
    },
    "id": "kIFQd769nO7b",
    "outputId": "64988af3-cf0a-46a2-90e3-d01180647e4d"
   },
   "outputs": [
    {
     "name": "stdout",
     "output_type": "stream",
     "text": [
      "accuracy score on val data: 0.5234050957930081\n",
      "f1 score on val data: 0.5220989725981453\n",
      "precision score on val data: 0.5216803796866721\n",
      "recall score on val data: 0.5233160107740867\n"
     ]
    },
    {
     "data": {
      "text/plain": [
       "Text(0.5, 1.0, 'confusion matrix for val data')"
      ]
     },
     "execution_count": 41,
     "metadata": {},
     "output_type": "execute_result"
    },
    {
     "data": {
      "image/png": "[encoded data removed]",
      "text/plain": [
       "<Figure size 432x288 with 2 Axes>"
      ]
     },
     "metadata": {
      "needs_background": "light"
     },
     "output_type": "display_data"
    }
   ],
   "source": [
    "acc_test = accuracy_score(targets_train,targets_predicted)\n",
    "f1_test = f1_score(targets_train, targets_predicted, average=\"macro\")\n",
    "pre_test = precision_score(targets_train, targets_predicted, average=\"macro\")\n",
    "recall_test = recall_score(targets_train, targets_predicted, average=\"macro\")\n",
    "print(f\"accuracy score on val data: {acc_test}\")\n",
    "print(f\"f1 score on val data: {f1_test}\")\n",
    "print(f\"precision score on val data: {pre_test}\")\n",
    "print(f\"recall score on val data: {recall_test}\")\n",
    "confusion_matrix = metrics.confusion_matrix(targets_train, targets_predicted)\n",
    "\n",
    "cm_display = metrics.ConfusionMatrixDisplay(confusion_matrix = confusion_matrix, display_labels = [False, True])\n",
    "\n",
    "cm_display.plot()\n",
    "plt.title('confusion matrix for val data')"
   ]
  },
  {
   "cell_type": "code",
   "execution_count": null,
   "metadata": {
    "id": "E0eANcl7RViI"
   },
   "outputs": [],
   "source": []
  },
  {
   "cell_type": "markdown",
   "metadata": {
    "id": "kPTfKnCztIMK"
   },
   "source": [
    "#Training More Epochs"
   ]
  },
  {
   "cell_type": "code",
   "execution_count": null,
   "metadata": {
    "colab": {
     "base_uri": "https://localhost:8080/"
    },
    "id": "187zlRcyRXup",
    "outputId": "b1e5c7e6-a687-4eda-c7c0-d11a8d91e26d"
   },
   "outputs": [
    {
     "name": "stdout",
     "output_type": "stream",
     "text": [
      "Mounted at /content/drive\n"
     ]
    }
   ],
   "source": [
    "from google.colab import drive\n",
    "drive.mount('/content/drive')"
   ]
  },
  {
   "cell_type": "code",
   "execution_count": null,
   "metadata": {
    "colab": {
     "base_uri": "https://localhost:8080/",
     "height": 194,
     "referenced_widgets": [
      "cef7b26d07db4a6ca0a22c659be04de7",
      "383c6e837c3a470da8d6e43a0ca9ea5f",
      "8340b650597b46fe9e1dfc9b155fdfbc",
      "59b41568f9f849aab687b43410e6eaf8",
      "b39b51ddc33c401cba73c305b9ae7f02",
      "09de270ae3154d34941d03a4ae93692d",
      "49d4ae01c0f14fc8b56b57f588220bf6",
      "fa7145cf7b104bffa184c0939d2105d1",
      "aee208e3f0664836b02666498cf8c0d9",
      "d281b41f51524f858352599ade71740f",
      "2a7b6f2d5759464890ac878a3ff70667"
     ]
    },
    "id": "4I_npl0mRDfO",
    "outputId": "559ae36f-69fa-4180-bd78-2ab65d30ae69"
   },
   "outputs": [
    {
     "name": "stderr",
     "output_type": "stream",
     "text": [
      "You are using a model of type distilbert to instantiate a model of type bert. This is not supported for all configurations of models and can yield errors.\n"
     ]
    },
    {
     "data": {
      "application/vnd.jupyter.widget-view+json": {
       "model_id": "cef7b26d07db4a6ca0a22c659be04de7",
       "version_major": 2,
       "version_minor": 0
      },
      "text/plain": [
       "Downloading (…)\"pytorch_model.bin\";:   0%|          | 0.00/268M [00:00<?, ?B/s]"
      ]
     },
     "metadata": {},
     "output_type": "display_data"
    },
    {
     "name": "stderr",
     "output_type": "stream",
     "text": [
      "Some weights of the model checkpoint at distilbert-base-uncased were not used when initializing BertModel: ['vocab_transform.bias', 'distilbert.transformer.layer.0.output_layer_norm.bias', 'vocab_layer_norm.weight', 'distilbert.transformer.layer.0.ffn.lin1.weight', 'distilbert.transformer.layer.0.sa_layer_norm.weight', 'distilbert.transformer.layer.5.ffn.lin1.bias', 'distilbert.transformer.layer.0.attention.v_lin.weight', 'distilbert.transformer.layer.5.attention.v_lin.weight', 'distilbert.transformer.layer.4.ffn.lin2.weight', 'distilbert.transformer.layer.5.attention.q_lin.weight', 'distilbert.transformer.layer.3.attention.out_lin.weight', 'distilbert.transformer.layer.3.ffn.lin1.bias', 'distilbert.transformer.layer.0.sa_layer_norm.bias', 'distilbert.transformer.layer.0.attention.q_lin.weight', 'distilbert.transformer.layer.1.output_layer_norm.bias', 'distilbert.transformer.layer.3.attention.q_lin.bias', 'vocab_layer_norm.bias', 'distilbert.transformer.layer.3.output_layer_norm.bias', 'distilbert.transformer.layer.2.attention.v_lin.bias', 'distilbert.transformer.layer.4.attention.out_lin.weight', 'distilbert.transformer.layer.2.attention.k_lin.weight', 'distilbert.transformer.layer.1.attention.k_lin.bias', 'distilbert.transformer.layer.2.ffn.lin2.weight', 'distilbert.transformer.layer.4.attention.out_lin.bias', 'distilbert.transformer.layer.0.attention.out_lin.bias', 'distilbert.transformer.layer.5.attention.out_lin.bias', 'distilbert.transformer.layer.5.ffn.lin2.weight', 'distilbert.transformer.layer.0.ffn.lin1.bias', 'distilbert.transformer.layer.5.output_layer_norm.bias', 'distilbert.transformer.layer.4.output_layer_norm.bias', 'distilbert.transformer.layer.4.attention.v_lin.weight', 'distilbert.transformer.layer.3.attention.v_lin.weight', 'distilbert.embeddings.LayerNorm.bias', 'distilbert.transformer.layer.5.attention.k_lin.weight', 'distilbert.transformer.layer.4.sa_layer_norm.bias', 'distilbert.transformer.layer.3.output_layer_norm.weight', 'distilbert.transformer.layer.5.sa_layer_norm.bias', 'distilbert.transformer.layer.4.ffn.lin1.weight', 'distilbert.transformer.layer.4.attention.q_lin.bias', 'distilbert.transformer.layer.5.ffn.lin2.bias', 'distilbert.transformer.layer.5.output_layer_norm.weight', 'distilbert.transformer.layer.0.attention.q_lin.bias', 'distilbert.transformer.layer.5.sa_layer_norm.weight', 'distilbert.transformer.layer.2.ffn.lin1.weight', 'distilbert.transformer.layer.1.attention.out_lin.bias', 'vocab_projector.bias', 'distilbert.transformer.layer.3.attention.k_lin.bias', 'distilbert.transformer.layer.3.attention.k_lin.weight', 'distilbert.transformer.layer.5.attention.v_lin.bias', 'distilbert.transformer.layer.4.output_layer_norm.weight', 'distilbert.transformer.layer.5.attention.q_lin.bias', 'distilbert.embeddings.position_embeddings.weight', 'vocab_transform.weight', 'distilbert.transformer.layer.0.ffn.lin2.bias', 'distilbert.transformer.layer.3.ffn.lin1.weight', 'distilbert.transformer.layer.2.attention.v_lin.weight', 'distilbert.transformer.layer.0.attention.out_lin.weight', 'distilbert.transformer.layer.1.ffn.lin2.weight', 'distilbert.transformer.layer.2.attention.out_lin.weight', 'distilbert.transformer.layer.2.sa_layer_norm.weight', 'distilbert.transformer.layer.5.attention.k_lin.bias', 'distilbert.transformer.layer.4.attention.v_lin.bias', 'distilbert.transformer.layer.4.attention.q_lin.weight', 'distilbert.transformer.layer.1.output_layer_norm.weight', 'distilbert.transformer.layer.2.attention.out_lin.bias', 'distilbert.transformer.layer.2.attention.q_lin.weight', 'distilbert.transformer.layer.1.attention.q_lin.bias', 'distilbert.transformer.layer.0.ffn.lin2.weight', 'distilbert.transformer.layer.4.sa_layer_norm.weight', 'distilbert.transformer.layer.0.attention.k_lin.weight', 'distilbert.transformer.layer.3.attention.v_lin.bias', 'distilbert.transformer.layer.5.ffn.lin1.weight', 'distilbert.transformer.layer.0.attention.k_lin.bias', 'distilbert.embeddings.word_embeddings.weight', 'vocab_projector.weight', 'distilbert.transformer.layer.1.attention.k_lin.weight', 'distilbert.transformer.layer.2.attention.k_lin.bias', 'distilbert.transformer.layer.3.sa_layer_norm.weight', 'distilbert.transformer.layer.3.ffn.lin2.bias', 'distilbert.transformer.layer.1.sa_layer_norm.bias', 'distilbert.transformer.layer.2.output_layer_norm.weight', 'distilbert.transformer.layer.1.attention.out_lin.weight', 'distilbert.transformer.layer.1.ffn.lin1.bias', 'distilbert.embeddings.LayerNorm.weight', 'distilbert.transformer.layer.0.output_layer_norm.weight', 'distilbert.transformer.layer.5.attention.out_lin.weight', 'distilbert.transformer.layer.3.attention.q_lin.weight', 'distilbert.transformer.layer.1.attention.v_lin.bias', 'distilbert.transformer.layer.2.output_layer_norm.bias', 'distilbert.transformer.layer.3.ffn.lin2.weight', 'distilbert.transformer.layer.2.attention.q_lin.bias', 'distilbert.transformer.layer.1.ffn.lin2.bias', 'distilbert.transformer.layer.3.attention.out_lin.bias', 'distilbert.transformer.layer.1.sa_layer_norm.weight', 'distilbert.transformer.layer.1.ffn.lin1.weight', 'distilbert.transformer.layer.4.ffn.lin2.bias', 'distilbert.transformer.layer.2.ffn.lin1.bias', 'distilbert.transformer.layer.1.attention.v_lin.weight', 'distilbert.transformer.layer.2.ffn.lin2.bias', 'distilbert.transformer.layer.0.attention.v_lin.bias', 'distilbert.transformer.layer.2.sa_layer_norm.bias', 'distilbert.transformer.layer.4.attention.k_lin.weight', 'distilbert.transformer.layer.1.attention.q_lin.weight', 'distilbert.transformer.layer.3.sa_layer_norm.bias', 'distilbert.transformer.layer.4.attention.k_lin.bias', 'distilbert.transformer.layer.4.ffn.lin1.bias']\n",
      "- This IS expected if you are initializing BertModel from the checkpoint of a model trained on another task or with another architecture (e.g. initializing a BertForSequenceClassification model from a BertForPreTraining model).\n",
      "- This IS NOT expected if you are initializing BertModel from the checkpoint of a model that you expect to be exactly identical (initializing a BertForSequenceClassification model from a BertForSequenceClassification model).\n",
      "Some weights of BertModel were not initialized from the model checkpoint at distilbert-base-uncased and are newly initialized: ['encoder.layer.4.attention.output.dense.weight', 'encoder.layer.0.attention.self.value.bias', 'encoder.layer.6.output.dense.bias', 'encoder.layer.4.attention.self.key.bias', 'encoder.layer.5.intermediate.dense.weight', 'encoder.layer.10.attention.self.value.weight', 'encoder.layer.8.intermediate.dense.weight', 'encoder.layer.0.attention.self.key.bias', 'encoder.layer.9.attention.output.LayerNorm.weight', 'encoder.layer.3.attention.output.LayerNorm.weight', 'encoder.layer.7.output.dense.weight', 'encoder.layer.11.output.dense.bias', 'encoder.layer.2.attention.output.LayerNorm.bias', 'encoder.layer.0.attention.output.LayerNorm.weight', 'encoder.layer.4.attention.self.value.weight', 'encoder.layer.11.output.LayerNorm.weight', 'encoder.layer.10.intermediate.dense.weight', 'encoder.layer.8.attention.self.value.weight', 'encoder.layer.4.output.LayerNorm.bias', 'encoder.layer.9.attention.self.query.weight', 'encoder.layer.10.intermediate.dense.bias', 'encoder.layer.0.attention.self.query.bias', 'encoder.layer.2.attention.self.query.weight', 'encoder.layer.8.output.LayerNorm.weight', 'encoder.layer.6.attention.output.dense.bias', 'encoder.layer.11.output.LayerNorm.bias', 'encoder.layer.4.attention.self.query.weight', 'encoder.layer.3.attention.self.key.bias', 'encoder.layer.6.output.dense.weight', 'encoder.layer.3.attention.output.dense.weight', 'encoder.layer.6.attention.self.query.weight', 'encoder.layer.4.attention.output.dense.bias', 'encoder.layer.7.attention.output.dense.bias', 'encoder.layer.8.attention.self.key.weight', 'encoder.layer.7.attention.self.value.weight', 'encoder.layer.6.attention.self.query.bias', 'encoder.layer.11.attention.self.query.weight', 'encoder.layer.2.attention.output.dense.weight', 'encoder.layer.7.attention.self.key.weight', 'encoder.layer.0.intermediate.dense.bias', 'encoder.layer.7.attention.output.LayerNorm.bias', 'encoder.layer.8.output.dense.weight', 'encoder.layer.0.attention.output.dense.bias', 'encoder.layer.2.intermediate.dense.weight', 'encoder.layer.5.attention.self.query.weight', 'encoder.layer.4.attention.output.LayerNorm.weight', 'encoder.layer.5.attention.output.dense.weight', 'encoder.layer.4.output.dense.weight', 'encoder.layer.3.attention.self.key.weight', 'encoder.layer.11.attention.output.dense.bias', 'encoder.layer.5.attention.self.key.bias', 'encoder.layer.10.attention.output.LayerNorm.weight', 'encoder.layer.9.output.dense.bias', 'encoder.layer.9.attention.output.dense.weight', 'encoder.layer.9.attention.output.dense.bias', 'encoder.layer.1.attention.self.key.bias', 'encoder.layer.1.attention.output.dense.bias', 'encoder.layer.4.intermediate.dense.weight', 'encoder.layer.10.output.LayerNorm.weight', 'encoder.layer.10.attention.self.key.bias', 'encoder.layer.6.output.LayerNorm.bias', 'encoder.layer.0.attention.self.query.weight', 'encoder.layer.3.intermediate.dense.weight', 'encoder.layer.1.output.dense.bias', 'encoder.layer.10.attention.self.value.bias', 'encoder.layer.10.attention.output.LayerNorm.bias', 'encoder.layer.7.intermediate.dense.weight', 'encoder.layer.11.attention.self.query.bias', 'encoder.layer.3.output.dense.bias', 'encoder.layer.9.output.dense.weight', 'encoder.layer.10.output.dense.weight', 'encoder.layer.6.attention.output.LayerNorm.bias', 'encoder.layer.1.attention.self.query.bias', 'encoder.layer.5.output.LayerNorm.bias', 'encoder.layer.3.intermediate.dense.bias', 'encoder.layer.11.attention.output.LayerNorm.weight', 'encoder.layer.4.attention.output.LayerNorm.bias', 'encoder.layer.7.attention.output.dense.weight', 'encoder.layer.9.output.LayerNorm.weight', 'encoder.layer.8.attention.output.LayerNorm.bias', 'embeddings.LayerNorm.bias', 'encoder.layer.2.attention.self.query.bias', 'encoder.layer.11.attention.output.LayerNorm.bias', 'encoder.layer.10.attention.self.key.weight', 'embeddings.position_embeddings.weight', 'encoder.layer.5.attention.output.dense.bias', 'encoder.layer.7.attention.self.query.weight', 'encoder.layer.1.output.LayerNorm.bias', 'encoder.layer.2.attention.self.value.weight', 'encoder.layer.10.output.dense.bias', 'encoder.layer.1.attention.self.value.weight', 'encoder.layer.4.intermediate.dense.bias', 'encoder.layer.1.output.LayerNorm.weight', 'embeddings.LayerNorm.weight', 'encoder.layer.9.attention.self.key.bias', 'encoder.layer.9.attention.self.query.bias', 'encoder.layer.6.intermediate.dense.bias', 'encoder.layer.3.attention.output.dense.bias', 'encoder.layer.5.attention.self.value.bias', 'encoder.layer.7.output.LayerNorm.bias', 'encoder.layer.2.output.dense.bias', 'encoder.layer.0.output.dense.weight', 'encoder.layer.0.attention.output.dense.weight', 'encoder.layer.7.intermediate.dense.bias', 'encoder.layer.5.attention.self.query.bias', 'encoder.layer.6.attention.output.LayerNorm.weight', 'encoder.layer.8.attention.output.dense.bias', 'encoder.layer.9.intermediate.dense.bias', 'encoder.layer.1.attention.output.LayerNorm.weight', 'encoder.layer.1.output.dense.weight', 'encoder.layer.2.output.dense.weight', 'encoder.layer.5.attention.output.LayerNorm.weight', 'encoder.layer.1.attention.self.query.weight', 'encoder.layer.3.attention.self.query.bias', 'encoder.layer.2.output.LayerNorm.bias', 'encoder.layer.7.attention.output.LayerNorm.weight', 'pooler.dense.bias', 'encoder.layer.11.intermediate.dense.weight', 'encoder.layer.4.attention.self.value.bias', 'encoder.layer.11.attention.self.key.weight', 'encoder.layer.3.attention.self.query.weight', 'encoder.layer.5.output.dense.weight', 'encoder.layer.6.attention.self.key.weight', 'encoder.layer.8.attention.self.query.bias', 'encoder.layer.0.output.LayerNorm.bias', 'encoder.layer.8.attention.self.query.weight', 'encoder.layer.9.attention.self.value.bias', 'encoder.layer.2.attention.self.value.bias', 'encoder.layer.5.intermediate.dense.bias', 'encoder.layer.9.attention.self.value.weight', 'encoder.layer.2.output.LayerNorm.weight', 'encoder.layer.2.attention.self.key.weight', 'encoder.layer.8.attention.self.value.bias', 'encoder.layer.1.attention.self.value.bias', 'encoder.layer.3.output.dense.weight', 'encoder.layer.9.attention.self.key.weight', 'encoder.layer.3.attention.output.LayerNorm.bias', 'encoder.layer.11.output.dense.weight', 'encoder.layer.6.attention.output.dense.weight', 'encoder.layer.9.attention.output.LayerNorm.bias', 'embeddings.token_type_embeddings.weight', 'encoder.layer.8.intermediate.dense.bias', 'encoder.layer.5.attention.self.value.weight', 'encoder.layer.7.output.LayerNorm.weight', 'encoder.layer.1.intermediate.dense.weight', 'encoder.layer.10.attention.self.query.bias', 'encoder.layer.5.output.dense.bias', 'encoder.layer.0.output.LayerNorm.weight', 'encoder.layer.8.output.dense.bias', 'encoder.layer.3.output.LayerNorm.bias', 'encoder.layer.10.attention.self.query.weight', 'encoder.layer.11.attention.self.value.weight', 'encoder.layer.1.attention.output.LayerNorm.bias', 'encoder.layer.3.attention.self.value.weight', 'encoder.layer.4.output.LayerNorm.weight', 'encoder.layer.8.attention.output.dense.weight', 'encoder.layer.8.output.LayerNorm.bias', 'encoder.layer.0.intermediate.dense.weight', 'encoder.layer.1.intermediate.dense.bias', 'encoder.layer.10.output.LayerNorm.bias', 'encoder.layer.7.output.dense.bias', 'encoder.layer.2.attention.output.dense.bias', 'encoder.layer.8.attention.output.LayerNorm.weight', 'encoder.layer.7.attention.self.key.bias', 'encoder.layer.6.attention.self.value.bias', 'encoder.layer.0.output.dense.bias', 'encoder.layer.11.attention.self.key.bias', 'encoder.layer.11.attention.output.dense.weight', 'encoder.layer.4.attention.self.query.bias', 'encoder.layer.4.output.dense.bias', 'encoder.layer.3.output.LayerNorm.weight', 'encoder.layer.10.attention.output.dense.weight', 'encoder.layer.9.output.LayerNorm.bias', 'pooler.dense.weight', 'encoder.layer.1.attention.output.dense.weight', 'encoder.layer.8.attention.self.key.bias', 'embeddings.word_embeddings.weight', 'encoder.layer.0.attention.self.value.weight', 'encoder.layer.5.attention.self.key.weight', 'encoder.layer.6.attention.self.key.bias', 'encoder.layer.11.attention.self.value.bias', 'encoder.layer.5.attention.output.LayerNorm.bias', 'encoder.layer.5.output.LayerNorm.weight', 'encoder.layer.6.attention.self.value.weight', 'encoder.layer.2.attention.output.LayerNorm.weight', 'encoder.layer.0.attention.self.key.weight', 'encoder.layer.6.intermediate.dense.weight', 'encoder.layer.6.output.LayerNorm.weight', 'encoder.layer.3.attention.self.value.bias', 'encoder.layer.9.intermediate.dense.weight', 'encoder.layer.1.attention.self.key.weight', 'encoder.layer.2.intermediate.dense.bias', 'encoder.layer.10.attention.output.dense.bias', 'encoder.layer.2.attention.self.key.bias', 'encoder.layer.7.attention.self.value.bias', 'encoder.layer.11.intermediate.dense.bias', 'encoder.layer.7.attention.self.query.bias', 'encoder.layer.4.attention.self.key.weight', 'encoder.layer.0.attention.output.LayerNorm.bias']\n",
      "You should probably TRAIN this model on a down-stream task to be able to use it for predictions and inference.\n"
     ]
    },
    {
     "data": {
      "text/plain": [
       "<All keys matched successfully>"
      ]
     },
     "execution_count": 21,
     "metadata": {},
     "output_type": "execute_result"
    }
   ],
   "source": [
    "pt_model = Sentiment_Bert_classifier(config=config,MODEL_NAME_OR_PATH = 'distilbert-base-uncased',fine_tune = True )\n",
    "pt_model = pt_model.to(device)\n",
    "\n",
    "pt_model.load_state_dict(torch.load(\"/content/drive/MyDrive/pt_model_trained_with_normal_text.pth\"))"
   ]
  },
  {
   "cell_type": "code",
   "execution_count": null,
   "metadata": {
    "id": "r5V2Os78RDhn"
   },
   "outputs": [],
   "source": [
    "def train_model_manual(model, criterion, optimizer,scheduler,val_beark,clip, num_epochs=25):\n",
    "  \"\"\"\n",
    "  function for train our model! in this function we use dataloader directly.\n",
    "  inputs: \n",
    "      model: input model \n",
    "      criterion: desired loss function\n",
    "      optimizer: our optimizer(!)\n",
    "      scheduler: for changing learning rate after sum epochs\n",
    "      num_epochs: number of epoches\n",
    "      val_beark: threshold for early stopping, if after \"val_beark\" steps our model don't get better, we end procces\n",
    "      clip: for gradient clipping\n",
    "  output:\n",
    "      model: our trained model!\n",
    "\n",
    "\n",
    "  \"\"\"\n",
    "  train_acc = []\n",
    "  train_loss = []\n",
    "  test_acc = []\n",
    "  test_loss = []\n",
    "  since = time.time()\n",
    "\n",
    "  best_model_wts = copy.deepcopy(model.state_dict())\n",
    "  best_acc = 0.0\n",
    "  best_loss = 100000000000\n",
    "  counter_val_beark = 0\n",
    "  for epoch in range(num_epochs):\n",
    "    ### Training\n",
    "    model.train()\n",
    "    loss_train = 0\n",
    "    acc_train = 0\n",
    "    counter = 1\n",
    "    for dl in tqdm(train_data_loader, total=len(train_data_loader), desc=\"Training... \"):\n",
    "      # 1. Forward pass\n",
    "      input_ids = dl['input_ids']\n",
    "      attention_mask = dl['attention_mask']\n",
    "      token_type_ids = dl['token_type_ids']\n",
    "      targets = dl['targets']\n",
    "      input_ids = input_ids.to(device)\n",
    "      attention_mask = attention_mask.to(device)\n",
    "      token_type_ids = token_type_ids.to(device)\n",
    "      targets = targets.to(device)\n",
    " \n",
    "      outputs = model(input_ids=input_ids,attention_mask=attention_mask,token_type_ids=token_type_ids) # model outputs raw logits \n",
    "      _, preds = torch.max(outputs, 1)\n",
    "\n",
    "      # print(y_logits)\n",
    "      # 2. Calculate loss and accuracy\n",
    "      counter = counter + 1\n",
    "      loss = criterion(outputs, targets)\n",
    "      acc_train += torch.sum(preds == targets.data)\n",
    "      loss_train = loss_train + loss\n",
    "      # 3. Optimizer zero grad\n",
    "      optimizer.zero_grad()\n",
    "\n",
    "      # 4. Loss backwards\n",
    "      loss.backward()\n",
    "      if clip > 0.0:\n",
    "            nn.utils.clip_grad_norm_(model.parameters(), max_norm=clip)\n",
    "\n",
    "      # 5. Optimizer step\n",
    "      optimizer.step()\n",
    "    loss_train = loss_train/counter\n",
    "    acc_train = 100*acc_train/len(Dataset_Train)\n",
    "    train_acc.append(acc_train)\n",
    "    train_loss.append(loss_train)\n",
    "    scheduler.step()\n",
    "    ### Testing\n",
    "    loss_test = 0\n",
    "    acc_test = 0\n",
    "    counter = 1\n",
    "    model.eval()\n",
    "    with torch.inference_mode():\n",
    "      for dl in tqdm(valid_data_loader, total=len(valid_data_loader), desc=\"Validating... \"):\n",
    "      # 1. Forward pass\n",
    "        input_ids = dl['input_ids']\n",
    "        attention_mask = dl['attention_mask']\n",
    "        token_type_ids = dl['token_type_ids']\n",
    "        targets = dl['targets']\n",
    "        input_ids = input_ids.to(device)\n",
    "        attention_mask = attention_mask.to(device)\n",
    "        token_type_ids = token_type_ids.to(device)\n",
    "        targets = targets.to(device)\n",
    "        outputs = model(input_ids=input_ids,attention_mask=attention_mask,token_type_ids=token_type_ids) # model outputs raw logits \n",
    "        _, preds = torch.max(outputs, 1)\n",
    "        loss_test= criterion(outputs, targets.data)\n",
    "        acc_test += torch.sum(preds == targets.data)\n",
    "      loss_test = loss_test/counter\n",
    "      acc_test = 100*acc_test/len(Dataset_Val)\n",
    "      test_loss.append(loss_test)\n",
    "      test_acc.append(acc_test)\n",
    "    if acc_test > best_acc:\n",
    "                best_acc = acc_test\n",
    "                best_model_wts = copy.deepcopy(model.state_dict())\n",
    "    if loss_test <= best_loss:\n",
    "                best_loss = loss_test\n",
    "                counter_val_beark = 0\n",
    "    if loss_test > best_loss:\n",
    "                counter_val_beark = counter_val_beark + 1\n",
    "                if (counter_val_beark > val_beark):\n",
    "                  print(f\"early stopping happend!\")\n",
    "                  break;\n",
    "\n",
    "    # Print out what's happening\n",
    "    if epoch % 1 == 0:\n",
    "      print(f\"Epoch: {epoch} | Loss: {loss_train:.5f}, Acc: {acc_train:.2f}% | Test Loss: {loss_test:.5f}, Test Acc: {acc_test:.2f}%\") \n",
    "  time_elapsed = time.time() - since\n",
    "  print(f'Training complete in {time_elapsed // 60:.0f}m {time_elapsed % 60:.0f}s')\n",
    "  print(f'Best val Acc: {best_acc:4f}')\n",
    "\n",
    "  # load best model weights\n",
    "  model.load_state_dict(best_model_wts)\n",
    "  return model,best_loss,best_acc"
   ]
  },
  {
   "cell_type": "code",
   "execution_count": null,
   "metadata": {
    "colab": {
     "base_uri": "https://localhost:8080/"
    },
    "id": "caNWXmOSRDkW",
    "outputId": "5305e828-6ffd-488c-d992-336f8f3de969"
   },
   "outputs": [
    {
     "name": "stderr",
     "output_type": "stream",
     "text": [
      "Training... : 100%|██████████| 1265/1265 [06:22<00:00,  3.31it/s]\n",
      "Validating... : 100%|██████████| 317/317 [00:36<00:00,  8.72it/s]\n"
     ]
    },
    {
     "name": "stdout",
     "output_type": "stream",
     "text": [
      "Epoch: 0 | Loss: 0.77226, Acc: 66.25% | Test Loss: 1.31705, Test Acc: 50.39%\n"
     ]
    },
    {
     "name": "stderr",
     "output_type": "stream",
     "text": [
      "Training... : 100%|██████████| 1265/1265 [06:33<00:00,  3.22it/s]\n",
      "Validating... : 100%|██████████| 317/317 [00:36<00:00,  8.73it/s]\n"
     ]
    },
    {
     "name": "stdout",
     "output_type": "stream",
     "text": [
      "Epoch: 1 | Loss: 0.73420, Acc: 68.70% | Test Loss: 1.18240, Test Acc: 51.43%\n"
     ]
    },
    {
     "name": "stderr",
     "output_type": "stream",
     "text": [
      "Training... : 100%|██████████| 1265/1265 [06:33<00:00,  3.21it/s]\n",
      "Validating... : 100%|██████████| 317/317 [00:36<00:00,  8.72it/s]\n"
     ]
    },
    {
     "name": "stdout",
     "output_type": "stream",
     "text": [
      "Epoch: 2 | Loss: 0.69948, Acc: 70.37% | Test Loss: 1.62297, Test Acc: 52.18%\n"
     ]
    },
    {
     "name": "stderr",
     "output_type": "stream",
     "text": [
      "Training... : 100%|██████████| 1265/1265 [06:33<00:00,  3.22it/s]\n",
      "Validating... : 100%|██████████| 317/317 [00:36<00:00,  8.71it/s]\n"
     ]
    },
    {
     "name": "stdout",
     "output_type": "stream",
     "text": [
      "Epoch: 3 | Loss: 0.65965, Acc: 72.26% | Test Loss: 1.02862, Test Acc: 50.60%\n",
      "Training complete in 28m 28s\n",
      "Best val Acc: 52.182499\n"
     ]
    }
   ],
   "source": [
    "criterion = nn.CrossEntropyLoss()\n",
    "\n",
    "\n",
    "optimizer_conv = optim.SGD(pt_model.parameters(), lr=0.001, momentum=0.9)\n",
    "exp_lr_scheduler = lr_scheduler.StepLR(optimizer_conv, step_size=50, gamma=0.5)\n",
    "\n",
    "pt_model = pt_model.to(device)\n",
    "pt_model_trained,best_loss,best_acc = train_model_manual(pt_model, criterion, optimizer_conv,exp_lr_scheduler,4,0.0,num_epochs=4)"
   ]
  },
  {
   "cell_type": "markdown",
   "metadata": {
    "id": "Wbb4uvFMtNbk"
   },
   "source": [
    "because of limitation due available ram on colan, we trained saved model seperatly for 4 more epoches but result didn't get better, so our validation accuracy can't get any better than %52"
   ]
  },
  {
   "cell_type": "markdown",
   "metadata": {
    "id": "noOxVMDWHwcS"
   },
   "source": [
    "## Comparing results:"
   ]
  },
  {
   "cell_type": "markdown",
   "metadata": {
    "id": "XF1AIgJnIOzF"
   },
   "source": [
    "in previous part, we plotes confusion matrix and reported f1-score and accuracy seperatly, so here we just compare models.\n",
    "\n",
    "it is important to note that with confusion matrix we can check that all models create all possible outputs( 0,1,2) so this accuracies are really have meaning (and model don't just predict label with most number of occurance), so we can eassily compare accracy and f1-score of models to each other to find best model.\n",
    "\n",
    "first, using tf-idf we achive around 50 percent accracy (0.4973335966818092 on validation and 0.5101638050128281 on test) and 49 f1 score(0.48446573114662045 on validation and : 0.4910082155590583 on test data, we don't use accuracy on train data because we can easily overfit our model to train data and they don't provide any information how good our model is) so we can see 10 percent increase in our accuracy compared to phase 1. it showes that this simple transform can help models like svm to learn pattern of important words (like words that have  negative meanings) and based on them predict sentiment of sentences.\n",
    "in word2vec like vectors, we achived near 49 percent accuracy (0.4765949042069919 on validation and  0.49457272547858694 on test) and 47 percent f1score (0.4683589865663042 on validation and 0.4758987712567499 on test) so we perform relativly good, main problem here is we needed to reduce dimension of our data, because for eavry word, we had a feature vector and it size is equal to number of sentences in train data, but it is also sparse, so when we used autoencoder netwrok to reduce dimension so we lose valuable information in order to have a more compact form, so it is expected to have a drop in performance, but because we use LSTM model that use both pattern of important words and structure of sentence (so it have a deeper undrestanding of sentence) we see that result stay relativly the same.\n",
    "now our two final models, LSTM which it's embedding was GloVe50, and transformer, perform (nearly) the same. \n",
    "in LSTM case, using a better embedding(because of size of dataset it trained on and also it's logic to find weights) increase our accuracy, and our model performs best when we used preprocessed data (deleting stop words, Lemmatization of text ,...) it's because that when we use LSTM , model can learn structure of sentence and when it has negative or positive meaning based on position of words(relatively to each other), but beacuse don't have very big dataset stop words can have a negative effect on them so removing them boost our performance. in this case we achive 0.53 accuracy on both test and validation and 0.53 f1 score on validation and 0.52 on test data.\n",
    "when we used transformers(distilbert) we see that when we use whole text (without removing stop words) we get better results it's becuse bert model are trained on a huge dataset without removing it stop words, so it learned distributon of words relative to each other when we have stop words. when using transformer we achive 0.5123347148213934 accuracy on validation data and 0.5234050957930081 on test data. also f1 score 0.5220989725981453 on test data and 0.5047362258777134 on validation data, so LSTM (using glove) and bert transformer performance are very close ( and because of randomness due to shuffling of train data when we train model,...) we can't compare this two models for now.\n",
    "so if we want to rank models we have something like:\n",
    "\n",
    "transformer(bert) = LSTM(glove) >tf-idf = LSTM(word2vec like)\n",
    "\n",
    "so in the end, because we couldn't find best model with high confidence, in next phase we use both transformer ans lstm using glove to predict final label, we expect that the model which has higher level information stored in it's logits will perform better there so we can compare models more easily in next phase of project."
   ]
  },
  {
   "cell_type": "code",
   "execution_count": null,
   "metadata": {
    "id": "QzEzwms4TFGY"
   },
   "outputs": [],
   "source": []
  }
 ],
 "metadata": {
  "accelerator": "GPU",
  "colab": {
   "provenance": []
  },
  "gpuClass": "standard",
  "kernelspec": {
   "display_name": "Python 3 (ipykernel)",
   "language": "python",
   "name": "python3"
  },
  "language_info": {
   "codemirror_mode": {
    "name": "ipython",
    "version": 3
   },
   "file_extension": ".py",
   "mimetype": "text/x-python",
   "name": "python",
   "nbconvert_exporter": "python",
   "pygments_lexer": "ipython3",
   "version": "3.11.5"
  },
  "widgets": {
   "application/vnd.jupyter.widget-state+json": {
    "01db04775072494284240c94555af74d": {
     "model_module": "@jupyter-widgets/base",
     "model_module_version": "1.2.0",
     "model_name": "LayoutModel",
     "state": {
      "_model_module": "@jupyter-widgets/base",
      "_model_module_version": "1.2.0",
      "_model_name": "LayoutModel",
      "_view_count": null,
      "_view_module": "@jupyter-widgets/base",
      "_view_module_version": "1.2.0",
      "_view_name": "LayoutView",
      "align_content": null,
      "align_items": null,
      "align_self": null,
      "border": null,
      "bottom": null,
      "display": null,
      "flex": null,
      "flex_flow": null,
      "grid_area": null,
      "grid_auto_columns": null,
      "grid_auto_flow": null,
      "grid_auto_rows": null,
      "grid_column": null,
      "grid_gap": null,
      "grid_row": null,
      "grid_template_areas": null,
      "grid_template_columns": null,
      "grid_template_rows": null,
      "height": null,
      "justify_content": null,
      "justify_items": null,
      "left": null,
      "margin": null,
      "max_height": null,
      "max_width": null,
      "min_height": null,
      "min_width": null,
      "object_fit": null,
      "object_position": null,
      "order": null,
      "overflow": null,
      "overflow_x": null,
      "overflow_y": null,
      "padding": null,
      "right": null,
      "top": null,
      "visibility": null,
      "width": null
     }
    },
    "05900af820b3420dbe457749c6ffb350": {
     "model_module": "@jupyter-widgets/controls",
     "model_module_version": "1.5.0",
     "model_name": "HTMLModel",
     "state": {
      "_dom_classes": [],
      "_model_module": "@jupyter-widgets/controls",
      "_model_module_version": "1.5.0",
      "_model_name": "HTMLModel",
      "_view_count": null,
      "_view_module": "@jupyter-widgets/controls",
      "_view_module_version": "1.5.0",
      "_view_name": "HTMLView",
      "description": "",
      "description_tooltip": null,
      "layout": "IPY_MODEL_e27c2a811b7949feb718e171fc2c8750",
      "placeholder": "​",
      "style": "IPY_MODEL_6b01e2f1de4941a3ae1686d57cdcdbdf",
      "value": "Downloading (…)/main/tokenizer.json: 100%"
     }
    },
    "09de270ae3154d34941d03a4ae93692d": {
     "model_module": "@jupyter-widgets/base",
     "model_module_version": "1.2.0",
     "model_name": "LayoutModel",
     "state": {
      "_model_module": "@jupyter-widgets/base",
      "_model_module_version": "1.2.0",
      "_model_name": "LayoutModel",
      "_view_count": null,
      "_view_module": "@jupyter-widgets/base",
      "_view_module_version": "1.2.0",
      "_view_name": "LayoutView",
      "align_content": null,
      "align_items": null,
      "align_self": null,
      "border": null,
      "bottom": null,
      "display": null,
      "flex": null,
      "flex_flow": null,
      "grid_area": null,
      "grid_auto_columns": null,
      "grid_auto_flow": null,
      "grid_auto_rows": null,
      "grid_column": null,
      "grid_gap": null,
      "grid_row": null,
      "grid_template_areas": null,
      "grid_template_columns": null,
      "grid_template_rows": null,
      "height": null,
      "justify_content": null,
      "justify_items": null,
      "left": null,
      "margin": null,
      "max_height": null,
      "max_width": null,
      "min_height": null,
      "min_width": null,
      "object_fit": null,
      "object_position": null,
      "order": null,
      "overflow": null,
      "overflow_x": null,
      "overflow_y": null,
      "padding": null,
      "right": null,
      "top": null,
      "visibility": null,
      "width": null
     }
    },
    "0a157a67e14945b8a442c05a64585f5f": {
     "model_module": "@jupyter-widgets/controls",
     "model_module_version": "1.5.0",
     "model_name": "ProgressStyleModel",
     "state": {
      "_model_module": "@jupyter-widgets/controls",
      "_model_module_version": "1.5.0",
      "_model_name": "ProgressStyleModel",
      "_view_count": null,
      "_view_module": "@jupyter-widgets/base",
      "_view_module_version": "1.2.0",
      "_view_name": "StyleView",
      "bar_color": null,
      "description_width": ""
     }
    },
    "0b3f10b92de245eba6608cb5fdf4d61f": {
     "model_module": "@jupyter-widgets/base",
     "model_module_version": "1.2.0",
     "model_name": "LayoutModel",
     "state": {
      "_model_module": "@jupyter-widgets/base",
      "_model_module_version": "1.2.0",
      "_model_name": "LayoutModel",
      "_view_count": null,
      "_view_module": "@jupyter-widgets/base",
      "_view_module_version": "1.2.0",
      "_view_name": "LayoutView",
      "align_content": null,
      "align_items": null,
      "align_self": null,
      "border": null,
      "bottom": null,
      "display": null,
      "flex": null,
      "flex_flow": null,
      "grid_area": null,
      "grid_auto_columns": null,
      "grid_auto_flow": null,
      "grid_auto_rows": null,
      "grid_column": null,
      "grid_gap": null,
      "grid_row": null,
      "grid_template_areas": null,
      "grid_template_columns": null,
      "grid_template_rows": null,
      "height": null,
      "justify_content": null,
      "justify_items": null,
      "left": null,
      "margin": null,
      "max_height": null,
      "max_width": null,
      "min_height": null,
      "min_width": null,
      "object_fit": null,
      "object_position": null,
      "order": null,
      "overflow": null,
      "overflow_x": null,
      "overflow_y": null,
      "padding": null,
      "right": null,
      "top": null,
      "visibility": null,
      "width": null
     }
    },
    "175a3e81b6084170bc899b62e79d66b5": {
     "model_module": "@jupyter-widgets/controls",
     "model_module_version": "1.5.0",
     "model_name": "DescriptionStyleModel",
     "state": {
      "_model_module": "@jupyter-widgets/controls",
      "_model_module_version": "1.5.0",
      "_model_name": "DescriptionStyleModel",
      "_view_count": null,
      "_view_module": "@jupyter-widgets/base",
      "_view_module_version": "1.2.0",
      "_view_name": "StyleView",
      "description_width": ""
     }
    },
    "195565c2efa245e3ba843c8d1d7e2389": {
     "model_module": "@jupyter-widgets/base",
     "model_module_version": "1.2.0",
     "model_name": "LayoutModel",
     "state": {
      "_model_module": "@jupyter-widgets/base",
      "_model_module_version": "1.2.0",
      "_model_name": "LayoutModel",
      "_view_count": null,
      "_view_module": "@jupyter-widgets/base",
      "_view_module_version": "1.2.0",
      "_view_name": "LayoutView",
      "align_content": null,
      "align_items": null,
      "align_self": null,
      "border": null,
      "bottom": null,
      "display": null,
      "flex": null,
      "flex_flow": null,
      "grid_area": null,
      "grid_auto_columns": null,
      "grid_auto_flow": null,
      "grid_auto_rows": null,
      "grid_column": null,
      "grid_gap": null,
      "grid_row": null,
      "grid_template_areas": null,
      "grid_template_columns": null,
      "grid_template_rows": null,
      "height": null,
      "justify_content": null,
      "justify_items": null,
      "left": null,
      "margin": null,
      "max_height": null,
      "max_width": null,
      "min_height": null,
      "min_width": null,
      "object_fit": null,
      "object_position": null,
      "order": null,
      "overflow": null,
      "overflow_x": null,
      "overflow_y": null,
      "padding": null,
      "right": null,
      "top": null,
      "visibility": null,
      "width": null
     }
    },
    "1a41408b43004b0e90a7ce8bcf852c97": {
     "model_module": "@jupyter-widgets/controls",
     "model_module_version": "1.5.0",
     "model_name": "ProgressStyleModel",
     "state": {
      "_model_module": "@jupyter-widgets/controls",
      "_model_module_version": "1.5.0",
      "_model_name": "ProgressStyleModel",
      "_view_count": null,
      "_view_module": "@jupyter-widgets/base",
      "_view_module_version": "1.2.0",
      "_view_name": "StyleView",
      "bar_color": null,
      "description_width": ""
     }
    },
    "213855d8aaf44e1898af6fdf75cab534": {
     "model_module": "@jupyter-widgets/base",
     "model_module_version": "1.2.0",
     "model_name": "LayoutModel",
     "state": {
      "_model_module": "@jupyter-widgets/base",
      "_model_module_version": "1.2.0",
      "_model_name": "LayoutModel",
      "_view_count": null,
      "_view_module": "@jupyter-widgets/base",
      "_view_module_version": "1.2.0",
      "_view_name": "LayoutView",
      "align_content": null,
      "align_items": null,
      "align_self": null,
      "border": null,
      "bottom": null,
      "display": null,
      "flex": null,
      "flex_flow": null,
      "grid_area": null,
      "grid_auto_columns": null,
      "grid_auto_flow": null,
      "grid_auto_rows": null,
      "grid_column": null,
      "grid_gap": null,
      "grid_row": null,
      "grid_template_areas": null,
      "grid_template_columns": null,
      "grid_template_rows": null,
      "height": null,
      "justify_content": null,
      "justify_items": null,
      "left": null,
      "margin": null,
      "max_height": null,
      "max_width": null,
      "min_height": null,
      "min_width": null,
      "object_fit": null,
      "object_position": null,
      "order": null,
      "overflow": null,
      "overflow_x": null,
      "overflow_y": null,
      "padding": null,
      "right": null,
      "top": null,
      "visibility": null,
      "width": null
     }
    },
    "270ecaf58a694fb1a5e4ca6f951626bb": {
     "model_module": "@jupyter-widgets/controls",
     "model_module_version": "1.5.0",
     "model_name": "FloatProgressModel",
     "state": {
      "_dom_classes": [],
      "_model_module": "@jupyter-widgets/controls",
      "_model_module_version": "1.5.0",
      "_model_name": "FloatProgressModel",
      "_view_count": null,
      "_view_module": "@jupyter-widgets/controls",
      "_view_module_version": "1.5.0",
      "_view_name": "ProgressView",
      "bar_style": "success",
      "description": "",
      "description_tooltip": null,
      "layout": "IPY_MODEL_c754a693fc414e5b90f013bff9fa929b",
      "max": 466062,
      "min": 0,
      "orientation": "horizontal",
      "style": "IPY_MODEL_f2f386fd57c94a869c957b5ef582b930",
      "value": 466062
     }
    },
    "2a7b6f2d5759464890ac878a3ff70667": {
     "model_module": "@jupyter-widgets/controls",
     "model_module_version": "1.5.0",
     "model_name": "DescriptionStyleModel",
     "state": {
      "_model_module": "@jupyter-widgets/controls",
      "_model_module_version": "1.5.0",
      "_model_name": "DescriptionStyleModel",
      "_view_count": null,
      "_view_module": "@jupyter-widgets/base",
      "_view_module_version": "1.2.0",
      "_view_name": "StyleView",
      "description_width": ""
     }
    },
    "383c6e837c3a470da8d6e43a0ca9ea5f": {
     "model_module": "@jupyter-widgets/controls",
     "model_module_version": "1.5.0",
     "model_name": "HTMLModel",
     "state": {
      "_dom_classes": [],
      "_model_module": "@jupyter-widgets/controls",
      "_model_module_version": "1.5.0",
      "_model_name": "HTMLModel",
      "_view_count": null,
      "_view_module": "@jupyter-widgets/controls",
      "_view_module_version": "1.5.0",
      "_view_name": "HTMLView",
      "description": "",
      "description_tooltip": null,
      "layout": "IPY_MODEL_09de270ae3154d34941d03a4ae93692d",
      "placeholder": "​",
      "style": "IPY_MODEL_49d4ae01c0f14fc8b56b57f588220bf6",
      "value": "Downloading (…)&quot;pytorch_model.bin&quot;;: 100%"
     }
    },
    "3b6e3516fef54dbb876d67953b9e5efd": {
     "model_module": "@jupyter-widgets/base",
     "model_module_version": "1.2.0",
     "model_name": "LayoutModel",
     "state": {
      "_model_module": "@jupyter-widgets/base",
      "_model_module_version": "1.2.0",
      "_model_name": "LayoutModel",
      "_view_count": null,
      "_view_module": "@jupyter-widgets/base",
      "_view_module_version": "1.2.0",
      "_view_name": "LayoutView",
      "align_content": null,
      "align_items": null,
      "align_self": null,
      "border": null,
      "bottom": null,
      "display": null,
      "flex": null,
      "flex_flow": null,
      "grid_area": null,
      "grid_auto_columns": null,
      "grid_auto_flow": null,
      "grid_auto_rows": null,
      "grid_column": null,
      "grid_gap": null,
      "grid_row": null,
      "grid_template_areas": null,
      "grid_template_columns": null,
      "grid_template_rows": null,
      "height": null,
      "justify_content": null,
      "justify_items": null,
      "left": null,
      "margin": null,
      "max_height": null,
      "max_width": null,
      "min_height": null,
      "min_width": null,
      "object_fit": null,
      "object_position": null,
      "order": null,
      "overflow": null,
      "overflow_x": null,
      "overflow_y": null,
      "padding": null,
      "right": null,
      "top": null,
      "visibility": null,
      "width": null
     }
    },
    "3ba186f17a974673b393322b5536d266": {
     "model_module": "@jupyter-widgets/controls",
     "model_module_version": "1.5.0",
     "model_name": "DescriptionStyleModel",
     "state": {
      "_model_module": "@jupyter-widgets/controls",
      "_model_module_version": "1.5.0",
      "_model_name": "DescriptionStyleModel",
      "_view_count": null,
      "_view_module": "@jupyter-widgets/base",
      "_view_module_version": "1.2.0",
      "_view_name": "StyleView",
      "description_width": ""
     }
    },
    "3f6b1ea6b9044c49b65c29ed8b3a6a5f": {
     "model_module": "@jupyter-widgets/controls",
     "model_module_version": "1.5.0",
     "model_name": "HTMLModel",
     "state": {
      "_dom_classes": [],
      "_model_module": "@jupyter-widgets/controls",
      "_model_module_version": "1.5.0",
      "_model_name": "HTMLModel",
      "_view_count": null,
      "_view_module": "@jupyter-widgets/controls",
      "_view_module_version": "1.5.0",
      "_view_name": "HTMLView",
      "description": "",
      "description_tooltip": null,
      "layout": "IPY_MODEL_195565c2efa245e3ba843c8d1d7e2389",
      "placeholder": "​",
      "style": "IPY_MODEL_eb1a673b46e14d22999bf2fc6acd1058",
      "value": " 483/483 [00:00&lt;00:00, 28.4kB/s]"
     }
    },
    "42543aef88b04ff298ad0d1b4eb2a984": {
     "model_module": "@jupyter-widgets/base",
     "model_module_version": "1.2.0",
     "model_name": "LayoutModel",
     "state": {
      "_model_module": "@jupyter-widgets/base",
      "_model_module_version": "1.2.0",
      "_model_name": "LayoutModel",
      "_view_count": null,
      "_view_module": "@jupyter-widgets/base",
      "_view_module_version": "1.2.0",
      "_view_name": "LayoutView",
      "align_content": null,
      "align_items": null,
      "align_self": null,
      "border": null,
      "bottom": null,
      "display": null,
      "flex": null,
      "flex_flow": null,
      "grid_area": null,
      "grid_auto_columns": null,
      "grid_auto_flow": null,
      "grid_auto_rows": null,
      "grid_column": null,
      "grid_gap": null,
      "grid_row": null,
      "grid_template_areas": null,
      "grid_template_columns": null,
      "grid_template_rows": null,
      "height": null,
      "justify_content": null,
      "justify_items": null,
      "left": null,
      "margin": null,
      "max_height": null,
      "max_width": null,
      "min_height": null,
      "min_width": null,
      "object_fit": null,
      "object_position": null,
      "order": null,
      "overflow": null,
      "overflow_x": null,
      "overflow_y": null,
      "padding": null,
      "right": null,
      "top": null,
      "visibility": null,
      "width": null
     }
    },
    "48a6df9b80e8476eb428a6098b3b4099": {
     "model_module": "@jupyter-widgets/controls",
     "model_module_version": "1.5.0",
     "model_name": "DescriptionStyleModel",
     "state": {
      "_model_module": "@jupyter-widgets/controls",
      "_model_module_version": "1.5.0",
      "_model_name": "DescriptionStyleModel",
      "_view_count": null,
      "_view_module": "@jupyter-widgets/base",
      "_view_module_version": "1.2.0",
      "_view_name": "StyleView",
      "description_width": ""
     }
    },
    "49d4ae01c0f14fc8b56b57f588220bf6": {
     "model_module": "@jupyter-widgets/controls",
     "model_module_version": "1.5.0",
     "model_name": "DescriptionStyleModel",
     "state": {
      "_model_module": "@jupyter-widgets/controls",
      "_model_module_version": "1.5.0",
      "_model_name": "DescriptionStyleModel",
      "_view_count": null,
      "_view_module": "@jupyter-widgets/base",
      "_view_module_version": "1.2.0",
      "_view_name": "StyleView",
      "description_width": ""
     }
    },
    "50f45c1b92b649ada6dc6c4842e2cd90": {
     "model_module": "@jupyter-widgets/controls",
     "model_module_version": "1.5.0",
     "model_name": "HTMLModel",
     "state": {
      "_dom_classes": [],
      "_model_module": "@jupyter-widgets/controls",
      "_model_module_version": "1.5.0",
      "_model_name": "HTMLModel",
      "_view_count": null,
      "_view_module": "@jupyter-widgets/controls",
      "_view_module_version": "1.5.0",
      "_view_name": "HTMLView",
      "description": "",
      "description_tooltip": null,
      "layout": "IPY_MODEL_e9664d31762d4e85bd8716c7085cf835",
      "placeholder": "​",
      "style": "IPY_MODEL_175a3e81b6084170bc899b62e79d66b5",
      "value": "Downloading (…)lve/main/config.json: 100%"
     }
    },
    "553e0b68f0e44b41879566452740f6e6": {
     "model_module": "@jupyter-widgets/base",
     "model_module_version": "1.2.0",
     "model_name": "LayoutModel",
     "state": {
      "_model_module": "@jupyter-widgets/base",
      "_model_module_version": "1.2.0",
      "_model_name": "LayoutModel",
      "_view_count": null,
      "_view_module": "@jupyter-widgets/base",
      "_view_module_version": "1.2.0",
      "_view_name": "LayoutView",
      "align_content": null,
      "align_items": null,
      "align_self": null,
      "border": null,
      "bottom": null,
      "display": null,
      "flex": null,
      "flex_flow": null,
      "grid_area": null,
      "grid_auto_columns": null,
      "grid_auto_flow": null,
      "grid_auto_rows": null,
      "grid_column": null,
      "grid_gap": null,
      "grid_row": null,
      "grid_template_areas": null,
      "grid_template_columns": null,
      "grid_template_rows": null,
      "height": null,
      "justify_content": null,
      "justify_items": null,
      "left": null,
      "margin": null,
      "max_height": null,
      "max_width": null,
      "min_height": null,
      "min_width": null,
      "object_fit": null,
      "object_position": null,
      "order": null,
      "overflow": null,
      "overflow_x": null,
      "overflow_y": null,
      "padding": null,
      "right": null,
      "top": null,
      "visibility": null,
      "width": null
     }
    },
    "57a084e4f73f4f8eb62ea9e80a9e806c": {
     "model_module": "@jupyter-widgets/base",
     "model_module_version": "1.2.0",
     "model_name": "LayoutModel",
     "state": {
      "_model_module": "@jupyter-widgets/base",
      "_model_module_version": "1.2.0",
      "_model_name": "LayoutModel",
      "_view_count": null,
      "_view_module": "@jupyter-widgets/base",
      "_view_module_version": "1.2.0",
      "_view_name": "LayoutView",
      "align_content": null,
      "align_items": null,
      "align_self": null,
      "border": null,
      "bottom": null,
      "display": null,
      "flex": null,
      "flex_flow": null,
      "grid_area": null,
      "grid_auto_columns": null,
      "grid_auto_flow": null,
      "grid_auto_rows": null,
      "grid_column": null,
      "grid_gap": null,
      "grid_row": null,
      "grid_template_areas": null,
      "grid_template_columns": null,
      "grid_template_rows": null,
      "height": null,
      "justify_content": null,
      "justify_items": null,
      "left": null,
      "margin": null,
      "max_height": null,
      "max_width": null,
      "min_height": null,
      "min_width": null,
      "object_fit": null,
      "object_position": null,
      "order": null,
      "overflow": null,
      "overflow_x": null,
      "overflow_y": null,
      "padding": null,
      "right": null,
      "top": null,
      "visibility": null,
      "width": null
     }
    },
    "59b41568f9f849aab687b43410e6eaf8": {
     "model_module": "@jupyter-widgets/controls",
     "model_module_version": "1.5.0",
     "model_name": "HTMLModel",
     "state": {
      "_dom_classes": [],
      "_model_module": "@jupyter-widgets/controls",
      "_model_module_version": "1.5.0",
      "_model_name": "HTMLModel",
      "_view_count": null,
      "_view_module": "@jupyter-widgets/controls",
      "_view_module_version": "1.5.0",
      "_view_name": "HTMLView",
      "description": "",
      "description_tooltip": null,
      "layout": "IPY_MODEL_d281b41f51524f858352599ade71740f",
      "placeholder": "​",
      "style": "IPY_MODEL_2a7b6f2d5759464890ac878a3ff70667",
      "value": " 268M/268M [00:01&lt;00:00, 163MB/s]"
     }
    },
    "63eb8cdd0d9f4ee4a0e1cc1c44031a6b": {
     "model_module": "@jupyter-widgets/controls",
     "model_module_version": "1.5.0",
     "model_name": "DescriptionStyleModel",
     "state": {
      "_model_module": "@jupyter-widgets/controls",
      "_model_module_version": "1.5.0",
      "_model_name": "DescriptionStyleModel",
      "_view_count": null,
      "_view_module": "@jupyter-widgets/base",
      "_view_module_version": "1.2.0",
      "_view_name": "StyleView",
      "description_width": ""
     }
    },
    "6769c7ea256b456f8ff7c0ae45f8e832": {
     "model_module": "@jupyter-widgets/controls",
     "model_module_version": "1.5.0",
     "model_name": "HBoxModel",
     "state": {
      "_dom_classes": [],
      "_model_module": "@jupyter-widgets/controls",
      "_model_module_version": "1.5.0",
      "_model_name": "HBoxModel",
      "_view_count": null,
      "_view_module": "@jupyter-widgets/controls",
      "_view_module_version": "1.5.0",
      "_view_name": "HBoxView",
      "box_style": "",
      "children": [
       "IPY_MODEL_d64f031673454ea2becb997333669c4d",
       "IPY_MODEL_dc93ff0977294ff29c47b9d7b1b0886f",
       "IPY_MODEL_f347fb6ecde448059bba11a3d859aefd"
      ],
      "layout": "IPY_MODEL_553e0b68f0e44b41879566452740f6e6"
     }
    },
    "6b01e2f1de4941a3ae1686d57cdcdbdf": {
     "model_module": "@jupyter-widgets/controls",
     "model_module_version": "1.5.0",
     "model_name": "DescriptionStyleModel",
     "state": {
      "_model_module": "@jupyter-widgets/controls",
      "_model_module_version": "1.5.0",
      "_model_name": "DescriptionStyleModel",
      "_view_count": null,
      "_view_module": "@jupyter-widgets/base",
      "_view_module_version": "1.2.0",
      "_view_name": "StyleView",
      "description_width": ""
     }
    },
    "6b2a421a3d1f41e9bb862fa895a839a0": {
     "model_module": "@jupyter-widgets/controls",
     "model_module_version": "1.5.0",
     "model_name": "HBoxModel",
     "state": {
      "_dom_classes": [],
      "_model_module": "@jupyter-widgets/controls",
      "_model_module_version": "1.5.0",
      "_model_name": "HBoxModel",
      "_view_count": null,
      "_view_module": "@jupyter-widgets/controls",
      "_view_module_version": "1.5.0",
      "_view_name": "HBoxView",
      "box_style": "",
      "children": [
       "IPY_MODEL_05900af820b3420dbe457749c6ffb350",
       "IPY_MODEL_270ecaf58a694fb1a5e4ca6f951626bb",
       "IPY_MODEL_cf146122533442d4b0c5e74fd6482c57"
      ],
      "layout": "IPY_MODEL_f5f959165b72423aadd39f712563f4c6"
     }
    },
    "7921a9eb178a42ef91402af7fb46b575": {
     "model_module": "@jupyter-widgets/controls",
     "model_module_version": "1.5.0",
     "model_name": "HTMLModel",
     "state": {
      "_dom_classes": [],
      "_model_module": "@jupyter-widgets/controls",
      "_model_module_version": "1.5.0",
      "_model_name": "HTMLModel",
      "_view_count": null,
      "_view_module": "@jupyter-widgets/controls",
      "_view_module_version": "1.5.0",
      "_view_name": "HTMLView",
      "description": "",
      "description_tooltip": null,
      "layout": "IPY_MODEL_88fd71aa31554accbae0f33e678821a8",
      "placeholder": "​",
      "style": "IPY_MODEL_8e19d05b9510483299c4bf30d92f5016",
      "value": "Downloading (…)okenizer_config.json: 100%"
     }
    },
    "7b10b4c10fdd4617b26418c29225a6d1": {
     "model_module": "@jupyter-widgets/controls",
     "model_module_version": "1.5.0",
     "model_name": "FloatProgressModel",
     "state": {
      "_dom_classes": [],
      "_model_module": "@jupyter-widgets/controls",
      "_model_module_version": "1.5.0",
      "_model_name": "FloatProgressModel",
      "_view_count": null,
      "_view_module": "@jupyter-widgets/controls",
      "_view_module_version": "1.5.0",
      "_view_name": "ProgressView",
      "bar_style": "success",
      "description": "",
      "description_tooltip": null,
      "layout": "IPY_MODEL_3b6e3516fef54dbb876d67953b9e5efd",
      "max": 483,
      "min": 0,
      "orientation": "horizontal",
      "style": "IPY_MODEL_0a157a67e14945b8a442c05a64585f5f",
      "value": 483
     }
    },
    "8340b650597b46fe9e1dfc9b155fdfbc": {
     "model_module": "@jupyter-widgets/controls",
     "model_module_version": "1.5.0",
     "model_name": "FloatProgressModel",
     "state": {
      "_dom_classes": [],
      "_model_module": "@jupyter-widgets/controls",
      "_model_module_version": "1.5.0",
      "_model_name": "FloatProgressModel",
      "_view_count": null,
      "_view_module": "@jupyter-widgets/controls",
      "_view_module_version": "1.5.0",
      "_view_name": "ProgressView",
      "bar_style": "success",
      "description": "",
      "description_tooltip": null,
      "layout": "IPY_MODEL_fa7145cf7b104bffa184c0939d2105d1",
      "max": 267967963,
      "min": 0,
      "orientation": "horizontal",
      "style": "IPY_MODEL_aee208e3f0664836b02666498cf8c0d9",
      "value": 267967963
     }
    },
    "88fd71aa31554accbae0f33e678821a8": {
     "model_module": "@jupyter-widgets/base",
     "model_module_version": "1.2.0",
     "model_name": "LayoutModel",
     "state": {
      "_model_module": "@jupyter-widgets/base",
      "_model_module_version": "1.2.0",
      "_model_name": "LayoutModel",
      "_view_count": null,
      "_view_module": "@jupyter-widgets/base",
      "_view_module_version": "1.2.0",
      "_view_name": "LayoutView",
      "align_content": null,
      "align_items": null,
      "align_self": null,
      "border": null,
      "bottom": null,
      "display": null,
      "flex": null,
      "flex_flow": null,
      "grid_area": null,
      "grid_auto_columns": null,
      "grid_auto_flow": null,
      "grid_auto_rows": null,
      "grid_column": null,
      "grid_gap": null,
      "grid_row": null,
      "grid_template_areas": null,
      "grid_template_columns": null,
      "grid_template_rows": null,
      "height": null,
      "justify_content": null,
      "justify_items": null,
      "left": null,
      "margin": null,
      "max_height": null,
      "max_width": null,
      "min_height": null,
      "min_width": null,
      "object_fit": null,
      "object_position": null,
      "order": null,
      "overflow": null,
      "overflow_x": null,
      "overflow_y": null,
      "padding": null,
      "right": null,
      "top": null,
      "visibility": null,
      "width": null
     }
    },
    "8de900021e1a4f16bc13440896239095": {
     "model_module": "@jupyter-widgets/controls",
     "model_module_version": "1.5.0",
     "model_name": "FloatProgressModel",
     "state": {
      "_dom_classes": [],
      "_model_module": "@jupyter-widgets/controls",
      "_model_module_version": "1.5.0",
      "_model_name": "FloatProgressModel",
      "_view_count": null,
      "_view_module": "@jupyter-widgets/controls",
      "_view_module_version": "1.5.0",
      "_view_name": "ProgressView",
      "bar_style": "success",
      "description": "",
      "description_tooltip": null,
      "layout": "IPY_MODEL_c442817556584de6bb7e6c84744711ac",
      "max": 28,
      "min": 0,
      "orientation": "horizontal",
      "style": "IPY_MODEL_1a41408b43004b0e90a7ce8bcf852c97",
      "value": 28
     }
    },
    "8e19d05b9510483299c4bf30d92f5016": {
     "model_module": "@jupyter-widgets/controls",
     "model_module_version": "1.5.0",
     "model_name": "DescriptionStyleModel",
     "state": {
      "_model_module": "@jupyter-widgets/controls",
      "_model_module_version": "1.5.0",
      "_model_name": "DescriptionStyleModel",
      "_view_count": null,
      "_view_module": "@jupyter-widgets/base",
      "_view_module_version": "1.2.0",
      "_view_name": "StyleView",
      "description_width": ""
     }
    },
    "8fb980beca74442b887aff3d60a17768": {
     "model_module": "@jupyter-widgets/base",
     "model_module_version": "1.2.0",
     "model_name": "LayoutModel",
     "state": {
      "_model_module": "@jupyter-widgets/base",
      "_model_module_version": "1.2.0",
      "_model_name": "LayoutModel",
      "_view_count": null,
      "_view_module": "@jupyter-widgets/base",
      "_view_module_version": "1.2.0",
      "_view_name": "LayoutView",
      "align_content": null,
      "align_items": null,
      "align_self": null,
      "border": null,
      "bottom": null,
      "display": null,
      "flex": null,
      "flex_flow": null,
      "grid_area": null,
      "grid_auto_columns": null,
      "grid_auto_flow": null,
      "grid_auto_rows": null,
      "grid_column": null,
      "grid_gap": null,
      "grid_row": null,
      "grid_template_areas": null,
      "grid_template_columns": null,
      "grid_template_rows": null,
      "height": null,
      "justify_content": null,
      "justify_items": null,
      "left": null,
      "margin": null,
      "max_height": null,
      "max_width": null,
      "min_height": null,
      "min_width": null,
      "object_fit": null,
      "object_position": null,
      "order": null,
      "overflow": null,
      "overflow_x": null,
      "overflow_y": null,
      "padding": null,
      "right": null,
      "top": null,
      "visibility": null,
      "width": null
     }
    },
    "9dd517e0f5eb4a2ca0e1515e59397aa7": {
     "model_module": "@jupyter-widgets/controls",
     "model_module_version": "1.5.0",
     "model_name": "ProgressStyleModel",
     "state": {
      "_model_module": "@jupyter-widgets/controls",
      "_model_module_version": "1.5.0",
      "_model_name": "ProgressStyleModel",
      "_view_count": null,
      "_view_module": "@jupyter-widgets/base",
      "_view_module_version": "1.2.0",
      "_view_name": "StyleView",
      "bar_color": null,
      "description_width": ""
     }
    },
    "a04a347fd77e4859b1a8234c0677aed8": {
     "model_module": "@jupyter-widgets/controls",
     "model_module_version": "1.5.0",
     "model_name": "HBoxModel",
     "state": {
      "_dom_classes": [],
      "_model_module": "@jupyter-widgets/controls",
      "_model_module_version": "1.5.0",
      "_model_name": "HBoxModel",
      "_view_count": null,
      "_view_module": "@jupyter-widgets/controls",
      "_view_module_version": "1.5.0",
      "_view_name": "HBoxView",
      "box_style": "",
      "children": [
       "IPY_MODEL_50f45c1b92b649ada6dc6c4842e2cd90",
       "IPY_MODEL_7b10b4c10fdd4617b26418c29225a6d1",
       "IPY_MODEL_3f6b1ea6b9044c49b65c29ed8b3a6a5f"
      ],
      "layout": "IPY_MODEL_b417817130604d848753bf3f220cf5f0"
     }
    },
    "aee208e3f0664836b02666498cf8c0d9": {
     "model_module": "@jupyter-widgets/controls",
     "model_module_version": "1.5.0",
     "model_name": "ProgressStyleModel",
     "state": {
      "_model_module": "@jupyter-widgets/controls",
      "_model_module_version": "1.5.0",
      "_model_name": "ProgressStyleModel",
      "_view_count": null,
      "_view_module": "@jupyter-widgets/base",
      "_view_module_version": "1.2.0",
      "_view_name": "StyleView",
      "bar_color": null,
      "description_width": ""
     }
    },
    "b39b51ddc33c401cba73c305b9ae7f02": {
     "model_module": "@jupyter-widgets/base",
     "model_module_version": "1.2.0",
     "model_name": "LayoutModel",
     "state": {
      "_model_module": "@jupyter-widgets/base",
      "_model_module_version": "1.2.0",
      "_model_name": "LayoutModel",
      "_view_count": null,
      "_view_module": "@jupyter-widgets/base",
      "_view_module_version": "1.2.0",
      "_view_name": "LayoutView",
      "align_content": null,
      "align_items": null,
      "align_self": null,
      "border": null,
      "bottom": null,
      "display": null,
      "flex": null,
      "flex_flow": null,
      "grid_area": null,
      "grid_auto_columns": null,
      "grid_auto_flow": null,
      "grid_auto_rows": null,
      "grid_column": null,
      "grid_gap": null,
      "grid_row": null,
      "grid_template_areas": null,
      "grid_template_columns": null,
      "grid_template_rows": null,
      "height": null,
      "justify_content": null,
      "justify_items": null,
      "left": null,
      "margin": null,
      "max_height": null,
      "max_width": null,
      "min_height": null,
      "min_width": null,
      "object_fit": null,
      "object_position": null,
      "order": null,
      "overflow": null,
      "overflow_x": null,
      "overflow_y": null,
      "padding": null,
      "right": null,
      "top": null,
      "visibility": null,
      "width": null
     }
    },
    "b417817130604d848753bf3f220cf5f0": {
     "model_module": "@jupyter-widgets/base",
     "model_module_version": "1.2.0",
     "model_name": "LayoutModel",
     "state": {
      "_model_module": "@jupyter-widgets/base",
      "_model_module_version": "1.2.0",
      "_model_name": "LayoutModel",
      "_view_count": null,
      "_view_module": "@jupyter-widgets/base",
      "_view_module_version": "1.2.0",
      "_view_name": "LayoutView",
      "align_content": null,
      "align_items": null,
      "align_self": null,
      "border": null,
      "bottom": null,
      "display": null,
      "flex": null,
      "flex_flow": null,
      "grid_area": null,
      "grid_auto_columns": null,
      "grid_auto_flow": null,
      "grid_auto_rows": null,
      "grid_column": null,
      "grid_gap": null,
      "grid_row": null,
      "grid_template_areas": null,
      "grid_template_columns": null,
      "grid_template_rows": null,
      "height": null,
      "justify_content": null,
      "justify_items": null,
      "left": null,
      "margin": null,
      "max_height": null,
      "max_width": null,
      "min_height": null,
      "min_width": null,
      "object_fit": null,
      "object_position": null,
      "order": null,
      "overflow": null,
      "overflow_x": null,
      "overflow_y": null,
      "padding": null,
      "right": null,
      "top": null,
      "visibility": null,
      "width": null
     }
    },
    "c26e986fb6e74698872d21c68635597f": {
     "model_module": "@jupyter-widgets/controls",
     "model_module_version": "1.5.0",
     "model_name": "HBoxModel",
     "state": {
      "_dom_classes": [],
      "_model_module": "@jupyter-widgets/controls",
      "_model_module_version": "1.5.0",
      "_model_name": "HBoxModel",
      "_view_count": null,
      "_view_module": "@jupyter-widgets/controls",
      "_view_module_version": "1.5.0",
      "_view_name": "HBoxView",
      "box_style": "",
      "children": [
       "IPY_MODEL_7921a9eb178a42ef91402af7fb46b575",
       "IPY_MODEL_8de900021e1a4f16bc13440896239095",
       "IPY_MODEL_e48116e82b744491ad82ef1f2718d6b7"
      ],
      "layout": "IPY_MODEL_57a084e4f73f4f8eb62ea9e80a9e806c"
     }
    },
    "c442817556584de6bb7e6c84744711ac": {
     "model_module": "@jupyter-widgets/base",
     "model_module_version": "1.2.0",
     "model_name": "LayoutModel",
     "state": {
      "_model_module": "@jupyter-widgets/base",
      "_model_module_version": "1.2.0",
      "_model_name": "LayoutModel",
      "_view_count": null,
      "_view_module": "@jupyter-widgets/base",
      "_view_module_version": "1.2.0",
      "_view_name": "LayoutView",
      "align_content": null,
      "align_items": null,
      "align_self": null,
      "border": null,
      "bottom": null,
      "display": null,
      "flex": null,
      "flex_flow": null,
      "grid_area": null,
      "grid_auto_columns": null,
      "grid_auto_flow": null,
      "grid_auto_rows": null,
      "grid_column": null,
      "grid_gap": null,
      "grid_row": null,
      "grid_template_areas": null,
      "grid_template_columns": null,
      "grid_template_rows": null,
      "height": null,
      "justify_content": null,
      "justify_items": null,
      "left": null,
      "margin": null,
      "max_height": null,
      "max_width": null,
      "min_height": null,
      "min_width": null,
      "object_fit": null,
      "object_position": null,
      "order": null,
      "overflow": null,
      "overflow_x": null,
      "overflow_y": null,
      "padding": null,
      "right": null,
      "top": null,
      "visibility": null,
      "width": null
     }
    },
    "c4cf34e77dbe4020abfaa20475e7e514": {
     "model_module": "@jupyter-widgets/controls",
     "model_module_version": "1.5.0",
     "model_name": "DescriptionStyleModel",
     "state": {
      "_model_module": "@jupyter-widgets/controls",
      "_model_module_version": "1.5.0",
      "_model_name": "DescriptionStyleModel",
      "_view_count": null,
      "_view_module": "@jupyter-widgets/base",
      "_view_module_version": "1.2.0",
      "_view_name": "StyleView",
      "description_width": ""
     }
    },
    "c754a693fc414e5b90f013bff9fa929b": {
     "model_module": "@jupyter-widgets/base",
     "model_module_version": "1.2.0",
     "model_name": "LayoutModel",
     "state": {
      "_model_module": "@jupyter-widgets/base",
      "_model_module_version": "1.2.0",
      "_model_name": "LayoutModel",
      "_view_count": null,
      "_view_module": "@jupyter-widgets/base",
      "_view_module_version": "1.2.0",
      "_view_name": "LayoutView",
      "align_content": null,
      "align_items": null,
      "align_self": null,
      "border": null,
      "bottom": null,
      "display": null,
      "flex": null,
      "flex_flow": null,
      "grid_area": null,
      "grid_auto_columns": null,
      "grid_auto_flow": null,
      "grid_auto_rows": null,
      "grid_column": null,
      "grid_gap": null,
      "grid_row": null,
      "grid_template_areas": null,
      "grid_template_columns": null,
      "grid_template_rows": null,
      "height": null,
      "justify_content": null,
      "justify_items": null,
      "left": null,
      "margin": null,
      "max_height": null,
      "max_width": null,
      "min_height": null,
      "min_width": null,
      "object_fit": null,
      "object_position": null,
      "order": null,
      "overflow": null,
      "overflow_x": null,
      "overflow_y": null,
      "padding": null,
      "right": null,
      "top": null,
      "visibility": null,
      "width": null
     }
    },
    "cef7b26d07db4a6ca0a22c659be04de7": {
     "model_module": "@jupyter-widgets/controls",
     "model_module_version": "1.5.0",
     "model_name": "HBoxModel",
     "state": {
      "_dom_classes": [],
      "_model_module": "@jupyter-widgets/controls",
      "_model_module_version": "1.5.0",
      "_model_name": "HBoxModel",
      "_view_count": null,
      "_view_module": "@jupyter-widgets/controls",
      "_view_module_version": "1.5.0",
      "_view_name": "HBoxView",
      "box_style": "",
      "children": [
       "IPY_MODEL_383c6e837c3a470da8d6e43a0ca9ea5f",
       "IPY_MODEL_8340b650597b46fe9e1dfc9b155fdfbc",
       "IPY_MODEL_59b41568f9f849aab687b43410e6eaf8"
      ],
      "layout": "IPY_MODEL_b39b51ddc33c401cba73c305b9ae7f02"
     }
    },
    "cf146122533442d4b0c5e74fd6482c57": {
     "model_module": "@jupyter-widgets/controls",
     "model_module_version": "1.5.0",
     "model_name": "HTMLModel",
     "state": {
      "_dom_classes": [],
      "_model_module": "@jupyter-widgets/controls",
      "_model_module_version": "1.5.0",
      "_model_name": "HTMLModel",
      "_view_count": null,
      "_view_module": "@jupyter-widgets/controls",
      "_view_module_version": "1.5.0",
      "_view_name": "HTMLView",
      "description": "",
      "description_tooltip": null,
      "layout": "IPY_MODEL_213855d8aaf44e1898af6fdf75cab534",
      "placeholder": "​",
      "style": "IPY_MODEL_3ba186f17a974673b393322b5536d266",
      "value": " 466k/466k [00:01&lt;00:00, 419kB/s]"
     }
    },
    "d281b41f51524f858352599ade71740f": {
     "model_module": "@jupyter-widgets/base",
     "model_module_version": "1.2.0",
     "model_name": "LayoutModel",
     "state": {
      "_model_module": "@jupyter-widgets/base",
      "_model_module_version": "1.2.0",
      "_model_name": "LayoutModel",
      "_view_count": null,
      "_view_module": "@jupyter-widgets/base",
      "_view_module_version": "1.2.0",
      "_view_name": "LayoutView",
      "align_content": null,
      "align_items": null,
      "align_self": null,
      "border": null,
      "bottom": null,
      "display": null,
      "flex": null,
      "flex_flow": null,
      "grid_area": null,
      "grid_auto_columns": null,
      "grid_auto_flow": null,
      "grid_auto_rows": null,
      "grid_column": null,
      "grid_gap": null,
      "grid_row": null,
      "grid_template_areas": null,
      "grid_template_columns": null,
      "grid_template_rows": null,
      "height": null,
      "justify_content": null,
      "justify_items": null,
      "left": null,
      "margin": null,
      "max_height": null,
      "max_width": null,
      "min_height": null,
      "min_width": null,
      "object_fit": null,
      "object_position": null,
      "order": null,
      "overflow": null,
      "overflow_x": null,
      "overflow_y": null,
      "padding": null,
      "right": null,
      "top": null,
      "visibility": null,
      "width": null
     }
    },
    "d64f031673454ea2becb997333669c4d": {
     "model_module": "@jupyter-widgets/controls",
     "model_module_version": "1.5.0",
     "model_name": "HTMLModel",
     "state": {
      "_dom_classes": [],
      "_model_module": "@jupyter-widgets/controls",
      "_model_module_version": "1.5.0",
      "_model_name": "HTMLModel",
      "_view_count": null,
      "_view_module": "@jupyter-widgets/controls",
      "_view_module_version": "1.5.0",
      "_view_name": "HTMLView",
      "description": "",
      "description_tooltip": null,
      "layout": "IPY_MODEL_01db04775072494284240c94555af74d",
      "placeholder": "​",
      "style": "IPY_MODEL_48a6df9b80e8476eb428a6098b3b4099",
      "value": "Downloading (…)solve/main/vocab.txt: 100%"
     }
    },
    "dc93ff0977294ff29c47b9d7b1b0886f": {
     "model_module": "@jupyter-widgets/controls",
     "model_module_version": "1.5.0",
     "model_name": "FloatProgressModel",
     "state": {
      "_dom_classes": [],
      "_model_module": "@jupyter-widgets/controls",
      "_model_module_version": "1.5.0",
      "_model_name": "FloatProgressModel",
      "_view_count": null,
      "_view_module": "@jupyter-widgets/controls",
      "_view_module_version": "1.5.0",
      "_view_name": "ProgressView",
      "bar_style": "success",
      "description": "",
      "description_tooltip": null,
      "layout": "IPY_MODEL_8fb980beca74442b887aff3d60a17768",
      "max": 231508,
      "min": 0,
      "orientation": "horizontal",
      "style": "IPY_MODEL_9dd517e0f5eb4a2ca0e1515e59397aa7",
      "value": 231508
     }
    },
    "e27c2a811b7949feb718e171fc2c8750": {
     "model_module": "@jupyter-widgets/base",
     "model_module_version": "1.2.0",
     "model_name": "LayoutModel",
     "state": {
      "_model_module": "@jupyter-widgets/base",
      "_model_module_version": "1.2.0",
      "_model_name": "LayoutModel",
      "_view_count": null,
      "_view_module": "@jupyter-widgets/base",
      "_view_module_version": "1.2.0",
      "_view_name": "LayoutView",
      "align_content": null,
      "align_items": null,
      "align_self": null,
      "border": null,
      "bottom": null,
      "display": null,
      "flex": null,
      "flex_flow": null,
      "grid_area": null,
      "grid_auto_columns": null,
      "grid_auto_flow": null,
      "grid_auto_rows": null,
      "grid_column": null,
      "grid_gap": null,
      "grid_row": null,
      "grid_template_areas": null,
      "grid_template_columns": null,
      "grid_template_rows": null,
      "height": null,
      "justify_content": null,
      "justify_items": null,
      "left": null,
      "margin": null,
      "max_height": null,
      "max_width": null,
      "min_height": null,
      "min_width": null,
      "object_fit": null,
      "object_position": null,
      "order": null,
      "overflow": null,
      "overflow_x": null,
      "overflow_y": null,
      "padding": null,
      "right": null,
      "top": null,
      "visibility": null,
      "width": null
     }
    },
    "e48116e82b744491ad82ef1f2718d6b7": {
     "model_module": "@jupyter-widgets/controls",
     "model_module_version": "1.5.0",
     "model_name": "HTMLModel",
     "state": {
      "_dom_classes": [],
      "_model_module": "@jupyter-widgets/controls",
      "_model_module_version": "1.5.0",
      "_model_name": "HTMLModel",
      "_view_count": null,
      "_view_module": "@jupyter-widgets/controls",
      "_view_module_version": "1.5.0",
      "_view_name": "HTMLView",
      "description": "",
      "description_tooltip": null,
      "layout": "IPY_MODEL_0b3f10b92de245eba6608cb5fdf4d61f",
      "placeholder": "​",
      "style": "IPY_MODEL_c4cf34e77dbe4020abfaa20475e7e514",
      "value": " 28.0/28.0 [00:00&lt;00:00, 773B/s]"
     }
    },
    "e9664d31762d4e85bd8716c7085cf835": {
     "model_module": "@jupyter-widgets/base",
     "model_module_version": "1.2.0",
     "model_name": "LayoutModel",
     "state": {
      "_model_module": "@jupyter-widgets/base",
      "_model_module_version": "1.2.0",
      "_model_name": "LayoutModel",
      "_view_count": null,
      "_view_module": "@jupyter-widgets/base",
      "_view_module_version": "1.2.0",
      "_view_name": "LayoutView",
      "align_content": null,
      "align_items": null,
      "align_self": null,
      "border": null,
      "bottom": null,
      "display": null,
      "flex": null,
      "flex_flow": null,
      "grid_area": null,
      "grid_auto_columns": null,
      "grid_auto_flow": null,
      "grid_auto_rows": null,
      "grid_column": null,
      "grid_gap": null,
      "grid_row": null,
      "grid_template_areas": null,
      "grid_template_columns": null,
      "grid_template_rows": null,
      "height": null,
      "justify_content": null,
      "justify_items": null,
      "left": null,
      "margin": null,
      "max_height": null,
      "max_width": null,
      "min_height": null,
      "min_width": null,
      "object_fit": null,
      "object_position": null,
      "order": null,
      "overflow": null,
      "overflow_x": null,
      "overflow_y": null,
      "padding": null,
      "right": null,
      "top": null,
      "visibility": null,
      "width": null
     }
    },
    "eb1a673b46e14d22999bf2fc6acd1058": {
     "model_module": "@jupyter-widgets/controls",
     "model_module_version": "1.5.0",
     "model_name": "DescriptionStyleModel",
     "state": {
      "_model_module": "@jupyter-widgets/controls",
      "_model_module_version": "1.5.0",
      "_model_name": "DescriptionStyleModel",
      "_view_count": null,
      "_view_module": "@jupyter-widgets/base",
      "_view_module_version": "1.2.0",
      "_view_name": "StyleView",
      "description_width": ""
     }
    },
    "f2f386fd57c94a869c957b5ef582b930": {
     "model_module": "@jupyter-widgets/controls",
     "model_module_version": "1.5.0",
     "model_name": "ProgressStyleModel",
     "state": {
      "_model_module": "@jupyter-widgets/controls",
      "_model_module_version": "1.5.0",
      "_model_name": "ProgressStyleModel",
      "_view_count": null,
      "_view_module": "@jupyter-widgets/base",
      "_view_module_version": "1.2.0",
      "_view_name": "StyleView",
      "bar_color": null,
      "description_width": ""
     }
    },
    "f347fb6ecde448059bba11a3d859aefd": {
     "model_module": "@jupyter-widgets/controls",
     "model_module_version": "1.5.0",
     "model_name": "HTMLModel",
     "state": {
      "_dom_classes": [],
      "_model_module": "@jupyter-widgets/controls",
      "_model_module_version": "1.5.0",
      "_model_name": "HTMLModel",
      "_view_count": null,
      "_view_module": "@jupyter-widgets/controls",
      "_view_module_version": "1.5.0",
      "_view_name": "HTMLView",
      "description": "",
      "description_tooltip": null,
      "layout": "IPY_MODEL_42543aef88b04ff298ad0d1b4eb2a984",
      "placeholder": "​",
      "style": "IPY_MODEL_63eb8cdd0d9f4ee4a0e1cc1c44031a6b",
      "value": " 232k/232k [00:00&lt;00:00, 1.89MB/s]"
     }
    },
    "f5f959165b72423aadd39f712563f4c6": {
     "model_module": "@jupyter-widgets/base",
     "model_module_version": "1.2.0",
     "model_name": "LayoutModel",
     "state": {
      "_model_module": "@jupyter-widgets/base",
      "_model_module_version": "1.2.0",
      "_model_name": "LayoutModel",
      "_view_count": null,
      "_view_module": "@jupyter-widgets/base",
      "_view_module_version": "1.2.0",
      "_view_name": "LayoutView",
      "align_content": null,
      "align_items": null,
      "align_self": null,
      "border": null,
      "bottom": null,
      "display": null,
      "flex": null,
      "flex_flow": null,
      "grid_area": null,
      "grid_auto_columns": null,
      "grid_auto_flow": null,
      "grid_auto_rows": null,
      "grid_column": null,
      "grid_gap": null,
      "grid_row": null,
      "grid_template_areas": null,
      "grid_template_columns": null,
      "grid_template_rows": null,
      "height": null,
      "justify_content": null,
      "justify_items": null,
      "left": null,
      "margin": null,
      "max_height": null,
      "max_width": null,
      "min_height": null,
      "min_width": null,
      "object_fit": null,
      "object_position": null,
      "order": null,
      "overflow": null,
      "overflow_x": null,
      "overflow_y": null,
      "padding": null,
      "right": null,
      "top": null,
      "visibility": null,
      "width": null
     }
    },
    "fa7145cf7b104bffa184c0939d2105d1": {
     "model_module": "@jupyter-widgets/base",
     "model_module_version": "1.2.0",
     "model_name": "LayoutModel",
     "state": {
      "_model_module": "@jupyter-widgets/base",
      "_model_module_version": "1.2.0",
      "_model_name": "LayoutModel",
      "_view_count": null,
      "_view_module": "@jupyter-widgets/base",
      "_view_module_version": "1.2.0",
      "_view_name": "LayoutView",
      "align_content": null,
      "align_items": null,
      "align_self": null,
      "border": null,
      "bottom": null,
      "display": null,
      "flex": null,
      "flex_flow": null,
      "grid_area": null,
      "grid_auto_columns": null,
      "grid_auto_flow": null,
      "grid_auto_rows": null,
      "grid_column": null,
      "grid_gap": null,
      "grid_row": null,
      "grid_template_areas": null,
      "grid_template_columns": null,
      "grid_template_rows": null,
      "height": null,
      "justify_content": null,
      "justify_items": null,
      "left": null,
      "margin": null,
      "max_height": null,
      "max_width": null,
      "min_height": null,
      "min_width": null,
      "object_fit": null,
      "object_position": null,
      "order": null,
      "overflow": null,
      "overflow_x": null,
      "overflow_y": null,
      "padding": null,
      "right": null,
      "top": null,
      "visibility": null,
      "width": null
     }
    }
   }
  }
 },
 "nbformat": 4,
 "nbformat_minor": 1
}
