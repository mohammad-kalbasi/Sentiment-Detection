{
 "cells": [
  {
   "cell_type": "code",
   "execution_count": null,
   "metadata": {
    "colab": {
     "base_uri": "https://localhost:8080/"
    },
    "id": "gfGCkKxsQ2uS",
    "outputId": "2d260190-bddd-46ae-eb8d-6bca20a0e990"
   },
   "outputs": [
    {
     "name": "stderr",
     "output_type": "stream",
     "text": [
      "[nltk_data] Downloading package stopwords to /root/nltk_data...\n",
      "[nltk_data]   Unzipping corpora/stopwords.zip.\n"
     ]
    }
   ],
   "source": [
    "# first importing libraries\n",
    "import base64\n",
    "import requests\n",
    "import numpy as np\n",
    "import gdown\n",
    "from zipfile import ZipFile\n",
    "import os\n",
    "\n",
    "import torch\n",
    "from torch.utils.data import Dataset\n",
    "from torchvision import datasets\n",
    "from torchvision.transforms import ToTensor\n",
    "import matplotlib.pyplot as plt\n",
    "\n",
    "import pandas as pd\n",
    "from torchvision.io import read_image\n",
    "import re\n",
    "import cv2\n",
    "from skimage.transform import resize\n",
    "from google.colab.patches import cv2_imshow\n",
    "from tqdm import tqdm\n",
    "from torch.optim import lr_scheduler\n",
    "\n",
    "\n",
    "from __future__ import print_function\n",
    "import argparse\n",
    "import numpy  as np\n",
    "from PIL import Image\n",
    "import torch\n",
    "import torch.nn as nn\n",
    "import torch.nn.functional as F\n",
    "import torchvision\n",
    "import torch.optim as optim\n",
    "from torch.utils.data import DataLoader, Dataset\n",
    "from torch.utils.data.sampler import SubsetRandomSampler\n",
    "from torchvision import transforms\n",
    "\n",
    "import time\n",
    "import os\n",
    "import copy\n",
    "import string\n",
    "\n",
    "from nltk.corpus import stopwords\n",
    "import nltk\n",
    "import itertools\n",
    "nltk.download('stopwords')\n",
    "\n",
    "\n",
    "\n",
    "import pandas as pd\n",
    "import numpy as np\n",
    "from sklearn.metrics import classification_report, confusion_matrix\n",
    "from sklearn.datasets import load_breast_cancer\n",
    "from sklearn.svm import SVC\n",
    "  \n",
    "from sklearn.svm import LinearSVC\n",
    "from sklearn.feature_extraction.text import TfidfVectorizer\n",
    "\n",
    "from sklearn.model_selection import GridSearchCV\n"
   ]
  },
  {
   "cell_type": "code",
   "execution_count": null,
   "metadata": {
    "colab": {
     "base_uri": "https://localhost:8080/"
    },
    "id": "EtCUVN6eRKD6",
    "outputId": "c88111ce-6aa3-4fa8-b423-04038424f89c"
   },
   "outputs": [
    {
     "name": "stdout",
     "output_type": "stream",
     "text": [
      "cuda\n"
     ]
    }
   ],
   "source": [
    "device = \"cuda\" if torch.cuda.is_available() else \"cpu\"\n",
    "print(device)"
   ]
  },
  {
   "cell_type": "code",
   "execution_count": null,
   "metadata": {
    "colab": {
     "base_uri": "https://localhost:8080/"
    },
    "id": "0JC1aY4fS036",
    "outputId": "79b840c3-86b3-437a-bd0d-9a52abdc1eb6"
   },
   "outputs": [
    {
     "name": "stdout",
     "output_type": "stream",
     "text": [
      "Cloning into 'MSCTD'...\n",
      "remote: Enumerating objects: 1217, done.\u001b[K\n",
      "remote: Counting objects: 100% (27/27), done.\u001b[K\n",
      "remote: Compressing objects: 100% (23/23), done.\u001b[K\n",
      "remote: Total 1217 (delta 13), reused 7 (delta 3), pack-reused 1190\u001b[K\n",
      "Receiving objects: 100% (1217/1217), 102.24 MiB | 25.83 MiB/s, done.\n",
      "Resolving deltas: 100% (617/617), done.\n",
      "Updating files: 100% (934/934), done.\n"
     ]
    }
   ],
   "source": [
    "!git clone https://github.com/XL2248/MSCTD.git"
   ]
  },
  {
   "cell_type": "code",
   "execution_count": null,
   "metadata": {
    "id": "AMeIU-vbTTUv"
   },
   "outputs": [],
   "source": [
    "with open('/content/MSCTD/MSCTD_data/ende/english_train.txt') as f:\n",
    "    text_file = [line.rstrip('\\n') for line in f]"
   ]
  },
  {
   "cell_type": "code",
   "execution_count": null,
   "metadata": {
    "colab": {
     "base_uri": "https://localhost:8080/"
    },
    "id": "6uo6YcIvaOHb",
    "outputId": "069e57f0-9176-4078-cd62-ee3e91993c65"
   },
   "outputs": [
    {
     "name": "stdout",
     "output_type": "stream",
     "text": [
      "all possible punctuations = !\"#$%&'()*+,-./:;<=>?@[\\]^_`{|}~\n"
     ]
    }
   ],
   "source": [
    "print(f'all possible punctuations = {string.punctuation}')\n",
    "punc_remove = string.punctuation\n",
    "remove_translate = str.maketrans('', '', string.punctuation)\n"
   ]
  },
  {
   "cell_type": "code",
   "execution_count": null,
   "metadata": {
    "id": "x_DNkk1sbKlV"
   },
   "outputs": [],
   "source": [
    "text_train_processed = []\n",
    "for txt in text_file:\n",
    "  txt = txt.translate(remove_translate)\n",
    "  txt = txt.lower()\n",
    "  txt = txt.split()\n",
    "  filtered_words = [word for word in txt if word not in stopwords.words('english')]\n",
    "  text_final = \" \".join(filtered_words)\n",
    "  text_train_processed.append(text_final)\n",
    "\n",
    "  \n"
   ]
  },
  {
   "cell_type": "code",
   "execution_count": null,
   "metadata": {
    "colab": {
     "base_uri": "https://localhost:8080/"
    },
    "id": "fTqa4PmabvLD",
    "outputId": "e4fc4d52-850f-4d20-ed89-c532ab63be72"
   },
   "outputs": [
    {
     "name": "stdout",
     "output_type": "stream",
     "text": [
      "original text:\n",
      "oh, well, that never works.\n",
      "processed text:\n",
      "oh well never works\n"
     ]
    }
   ],
   "source": [
    "print('original text:')\n",
    "print(text_file[20])\n",
    "print('processed text:')\n",
    "print(text_train_processed[20])"
   ]
  },
  {
   "cell_type": "code",
   "execution_count": null,
   "metadata": {
    "id": "Sx_96mgnW_TV"
   },
   "outputs": [],
   "source": [
    "# we do same for test and validation\n",
    "with open('/content/MSCTD/MSCTD_data/ende/english_dev.txt') as f:\n",
    "    text_file_dev = [line.rstrip('\\n') for line in f]\n",
    "text_dev_processed = []\n",
    "for txt in text_file_dev:\n",
    "  txt = txt.translate(remove_translate)\n",
    "  txt = txt.lower()\n",
    "  txt = txt.split()\n",
    "  filtered_words = [word for word in txt if word not in stopwords.words('english')]\n",
    "  text_final = \" \".join(filtered_words)\n",
    "  text_dev_processed.append(text_final)\n",
    "\n",
    "# we do same for test and validation\n",
    "with open('/content/MSCTD/MSCTD_data/ende/english_test.txt') as f:\n",
    "    text_file_test = [line.rstrip('\\n') for line in f]\n",
    "text_test_processed = []\n",
    "for txt in text_file_test:\n",
    "  txt = txt.translate(remove_translate)\n",
    "  txt = txt.lower()\n",
    "  txt = txt.split()\n",
    "  filtered_words = [word for word in txt if word not in stopwords.words('english')]\n",
    "  text_final = \" \".join(filtered_words)\n",
    "  text_test_processed.append(text_final)\n"
   ]
  },
  {
   "cell_type": "code",
   "execution_count": null,
   "metadata": {
    "colab": {
     "base_uri": "https://localhost:8080/"
    },
    "id": "ZfYujfcDkCdx",
    "outputId": "30e761dd-f281-4226-9bf9-77db6271a1a5"
   },
   "outputs": [
    {
     "name": "stdout",
     "output_type": "stream",
     "text": [
      "original text:\n",
      "We're just traveling mates.\n",
      "processed text:\n",
      "traveling mates\n",
      "\n",
      "\n",
      "original text:\n",
      "Have you named him yet?\n",
      "processed text:\n",
      "named yet\n"
     ]
    }
   ],
   "source": [
    "print('original text:')\n",
    "print(text_file_dev[20])\n",
    "print('processed text:')\n",
    "print(text_dev_processed[20])\n",
    "print('\\n')\n",
    "print('original text:')\n",
    "print(text_file_test[20])\n",
    "print('processed text:')\n",
    "print(text_test_processed[20])"
   ]
  },
  {
   "cell_type": "code",
   "execution_count": null,
   "metadata": {
    "id": "wpOyugYJjHoy"
   },
   "outputs": [],
   "source": [
    "# loading sentiments\n",
    "with open('/content/MSCTD/MSCTD_data/ende/sentiment_train.txt') as f:\n",
    "  sentiment_train = [int(line.rstrip('\\n')) for line in f]\n",
    "with open('/content/MSCTD/MSCTD_data/ende/sentiment_dev.txt') as f:\n",
    "  sentiment_dev = [int(line.rstrip('\\n')) for line in f]\n",
    "with open('/content/MSCTD/MSCTD_data/ende/sentiment_test.txt') as f:\n",
    "  sentiment_test = [int(line.rstrip('\\n')) for line in f]"
   ]
  },
  {
   "cell_type": "markdown",
   "metadata": {
    "id": "5WhQV3Wmmx-b"
   },
   "source": [
    "implementing tf-idf using sklearn"
   ]
  },
  {
   "cell_type": "markdown",
   "metadata": {
    "id": "k9oEIwbttz0Q"
   },
   "source": [
    "testing simple linear svm on proccesed and normal text to compare them, then we use grid search to find best model"
   ]
  },
  {
   "cell_type": "code",
   "execution_count": null,
   "metadata": {
    "colab": {
     "base_uri": "https://localhost:8080/"
    },
    "id": "pGf6iv9umMj2",
    "outputId": "5fab0198-aa42-4f7c-84b8-c2020e1e716b"
   },
   "outputs": [
    {
     "name": "stdout",
     "output_type": "stream",
     "text": [
      " TFIDF Vectorizer…… \n"
     ]
    }
   ],
   "source": [
    "print(\" TFIDF Vectorizer…… \")\n",
    "vectorizer= TfidfVectorizer()\n",
    "tf_x_train = vectorizer.fit_transform(text_train_processed)\n",
    "tf_x_dev = vectorizer.transform(text_dev_processed)\n",
    "tf_x_test = vectorizer.transform(text_test_processed)"
   ]
  },
  {
   "cell_type": "code",
   "execution_count": null,
   "metadata": {
    "colab": {
     "base_uri": "https://localhost:8080/"
    },
    "id": "TLAuZ_Jc4L3z",
    "outputId": "ab418b87-cb12-46ab-b20c-9d5639b76c39"
   },
   "outputs": [
    {
     "name": "stdout",
     "output_type": "stream",
     "text": [
      "shape of TF-IDF for train data = (20240, 10180)\n"
     ]
    }
   ],
   "source": [
    "print(f'shape of TF-IDF for train data = {np.shape(tf_x_train)}')"
   ]
  },
  {
   "cell_type": "code",
   "execution_count": null,
   "metadata": {
    "colab": {
     "base_uri": "https://localhost:8080/"
    },
    "id": "fRhs7pTenXSY",
    "outputId": "d54fa130-f508-4e35-d5d4-a4650feb3bcc"
   },
   "outputs": [
    {
     "data": {
      "text/plain": [
       "LinearSVC(random_state=0)"
      ]
     },
     "execution_count": 12,
     "metadata": {},
     "output_type": "execute_result"
    }
   ],
   "source": [
    "clf = LinearSVC(random_state=0)\n",
    "clf.fit(tf_x_train,sentiment_train)\n"
   ]
  },
  {
   "cell_type": "code",
   "execution_count": null,
   "metadata": {
    "colab": {
     "base_uri": "https://localhost:8080/"
    },
    "id": "phwGD05qozCu",
    "outputId": "4ca8dda3-a627-43bd-fe9f-2d75e3609570"
   },
   "outputs": [
    {
     "name": "stdout",
     "output_type": "stream",
     "text": [
      "{'0': {'precision': 0.4715138361367336, 'recall': 0.48902644907146875, 'f1-score': 0.48011049723756904, 'support': 1777}, '1': {'precision': 0.5068897637795275, 'recall': 0.5603917301414582, 'f1-score': 0.5322997416020672, 'support': 1838}, '2': {'precision': 0.5109427609427609, 'recall': 0.4191988950276243, 'f1-score': 0.460546282245827, 'support': 1448}, 'accuracy': 0.49496346039897293, 'macro avg': {'precision': 0.49644878695300737, 'recall': 0.48953902474685035, 'f1-score': 0.4909855070284877, 'support': 5063}, 'weighted avg': {'precision': 0.4956327455040223, 'recall': 0.49496346039897293, 'f1-score': 0.4934612473528969, 'support': 5063}}\n"
     ]
    }
   ],
   "source": [
    "y_dev_pred=clf.predict(tf_x_dev)\n",
    "report=classification_report(sentiment_dev, y_dev_pred,output_dict=True)\n",
    "print(report)"
   ]
  },
  {
   "cell_type": "markdown",
   "metadata": {
    "id": "50RxbNgkvc6c"
   },
   "source": [
    "for normal text"
   ]
  },
  {
   "cell_type": "code",
   "execution_count": null,
   "metadata": {
    "colab": {
     "base_uri": "https://localhost:8080/"
    },
    "id": "0WIvCg_kvedj",
    "outputId": "410e72e7-12ab-42de-8690-df15586fac12"
   },
   "outputs": [
    {
     "name": "stdout",
     "output_type": "stream",
     "text": [
      "{'0': {'precision': 0.35097768121666995, 'recall': 1.0, 'f1-score': 0.5195906432748537, 'support': 1777}, '1': {'precision': 0.0, 'recall': 0.0, 'f1-score': 0.0, 'support': 1838}, '2': {'precision': 0.0, 'recall': 0.0, 'f1-score': 0.0, 'support': 1448}, 'accuracy': 0.35097768121666995, 'macro avg': {'precision': 0.11699256040555665, 'recall': 0.3333333333333333, 'f1-score': 0.1731968810916179, 'support': 5063}, 'weighted avg': {'precision': 0.1231853327122304, 'recall': 0.35097768121666995, 'f1-score': 0.1823647191584861, 'support': 5063}}\n"
     ]
    },
    {
     "name": "stderr",
     "output_type": "stream",
     "text": [
      "/usr/local/lib/python3.8/dist-packages/sklearn/metrics/_classification.py:1318: UndefinedMetricWarning: Precision and F-score are ill-defined and being set to 0.0 in labels with no predicted samples. Use `zero_division` parameter to control this behavior.\n",
      "  _warn_prf(average, modifier, msg_start, len(result))\n",
      "/usr/local/lib/python3.8/dist-packages/sklearn/metrics/_classification.py:1318: UndefinedMetricWarning: Precision and F-score are ill-defined and being set to 0.0 in labels with no predicted samples. Use `zero_division` parameter to control this behavior.\n",
      "  _warn_prf(average, modifier, msg_start, len(result))\n",
      "/usr/local/lib/python3.8/dist-packages/sklearn/metrics/_classification.py:1318: UndefinedMetricWarning: Precision and F-score are ill-defined and being set to 0.0 in labels with no predicted samples. Use `zero_division` parameter to control this behavior.\n",
      "  _warn_prf(average, modifier, msg_start, len(result))\n"
     ]
    }
   ],
   "source": [
    "text_train_normal = []\n",
    "for txt in text_file:\n",
    "  txt = txt.translate(remove_translate)\n",
    "  txt = txt.lower()\n",
    "  text_train_normal.append(txt)\n",
    "\n",
    "\n",
    "text_dev_normal = []\n",
    "for txt in text_file_dev:\n",
    "  txt = txt.translate(remove_translate)\n",
    "  txt = txt.lower()\n",
    "  text_dev_normal.append(text_final)\n",
    "\n",
    "vectorizer= TfidfVectorizer()\n",
    "tf_x_train = vectorizer.fit_transform(text_train_normal)\n",
    "tf_x_dev = vectorizer.transform(text_dev_normal)\n",
    "\n",
    "clf = LinearSVC(random_state=0)\n",
    "clf.fit(tf_x_train,sentiment_train)\n",
    "\n",
    "y_dev_pred=clf.predict(tf_x_dev)\n",
    "report=classification_report(sentiment_dev, y_dev_pred,output_dict=True)\n",
    "print(report)"
   ]
  },
  {
   "cell_type": "code",
   "execution_count": null,
   "metadata": {
    "colab": {
     "base_uri": "https://localhost:8080/"
    },
    "id": "1VMTnWhTyyHj",
    "outputId": "f62d2db8-1008-44f8-ae52-ac68ea848a21"
   },
   "outputs": [
    {
     "data": {
      "text/plain": [
       "(20240, 10311)"
      ]
     },
     "execution_count": 36,
     "metadata": {},
     "output_type": "execute_result"
    }
   ],
   "source": [
    "np.shape(tf_x_train)"
   ]
  },
  {
   "cell_type": "markdown",
   "metadata": {
    "id": "8suvu8Xaw5iQ"
   },
   "source": [
    "as we can see, when we pre process data (removing stop words) performance becomes much better, so this way we proved that we need to remove these stop words, so from here forward we only use pre processed data"
   ]
  },
  {
   "cell_type": "code",
   "execution_count": null,
   "metadata": {
    "colab": {
     "base_uri": "https://localhost:8080/"
    },
    "id": "YQJLbKlcxifw",
    "outputId": "78eeaa7f-918a-423b-d6fe-e36d0d5927b5"
   },
   "outputs": [
    {
     "name": "stdout",
     "output_type": "stream",
     "text": [
      " TFIDF Vectorizer…… \n"
     ]
    }
   ],
   "source": [
    "print(\" TFIDF Vectorizer…… \")\n",
    "vectorizer= TfidfVectorizer()\n",
    "tf_x_train = vectorizer.fit_transform(text_train_processed)\n",
    "tf_x_dev = vectorizer.transform(text_dev_processed)\n",
    "tf_x_test = vectorizer.transform(text_test_processed)"
   ]
  },
  {
   "cell_type": "code",
   "execution_count": null,
   "metadata": {
    "colab": {
     "base_uri": "https://localhost:8080/"
    },
    "id": "1zvq6aOoyH4P",
    "outputId": "1dc1e2c2-e3b6-4435-cdbe-21d08f5a2e47"
   },
   "outputs": [
    {
     "name": "stdout",
     "output_type": "stream",
     "text": [
      "Fitting 5 folds for each of 9 candidates, totalling 45 fits\n",
      "[CV 1/5] END ........C=0.1, gamma=1, kernel=rbf;, score=0.408 total time=  24.6s\n",
      "[CV 2/5] END ........C=0.1, gamma=1, kernel=rbf;, score=0.402 total time=  24.8s\n",
      "[CV 3/5] END ........C=0.1, gamma=1, kernel=rbf;, score=0.417 total time=  24.6s\n",
      "[CV 4/5] END ........C=0.1, gamma=1, kernel=rbf;, score=0.411 total time=  24.9s\n",
      "[CV 5/5] END ........C=0.1, gamma=1, kernel=rbf;, score=0.408 total time=  24.6s\n",
      "[CV 1/5] END ......C=0.1, gamma=0.1, kernel=rbf;, score=0.390 total time=  25.4s\n",
      "[CV 2/5] END ......C=0.1, gamma=0.1, kernel=rbf;, score=0.393 total time=  24.6s\n",
      "[CV 3/5] END ......C=0.1, gamma=0.1, kernel=rbf;, score=0.395 total time=  24.7s\n",
      "[CV 4/5] END ......C=0.1, gamma=0.1, kernel=rbf;, score=0.392 total time=  24.7s\n",
      "[CV 5/5] END ......C=0.1, gamma=0.1, kernel=rbf;, score=0.392 total time=  24.8s\n",
      "[CV 1/5] END .....C=0.1, gamma=0.01, kernel=rbf;, score=0.387 total time=  24.3s\n",
      "[CV 2/5] END .....C=0.1, gamma=0.01, kernel=rbf;, score=0.387 total time=  24.2s\n",
      "[CV 3/5] END .....C=0.1, gamma=0.01, kernel=rbf;, score=0.387 total time=  24.0s\n",
      "[CV 4/5] END .....C=0.1, gamma=0.01, kernel=rbf;, score=0.387 total time=  24.8s\n",
      "[CV 5/5] END .....C=0.1, gamma=0.01, kernel=rbf;, score=0.387 total time=  24.4s\n",
      "[CV 1/5] END ..........C=1, gamma=1, kernel=rbf;, score=0.519 total time=  27.1s\n",
      "[CV 2/5] END ..........C=1, gamma=1, kernel=rbf;, score=0.494 total time=  26.9s\n",
      "[CV 3/5] END ..........C=1, gamma=1, kernel=rbf;, score=0.507 total time=  27.1s\n",
      "[CV 4/5] END ..........C=1, gamma=1, kernel=rbf;, score=0.505 total time=  27.0s\n",
      "[CV 5/5] END ..........C=1, gamma=1, kernel=rbf;, score=0.508 total time=  27.1s\n",
      "[CV 1/5] END ........C=1, gamma=0.1, kernel=rbf;, score=0.497 total time=  24.4s\n",
      "[CV 2/5] END ........C=1, gamma=0.1, kernel=rbf;, score=0.472 total time=  25.3s\n",
      "[CV 3/5] END ........C=1, gamma=0.1, kernel=rbf;, score=0.497 total time=  24.5s\n",
      "[CV 4/5] END ........C=1, gamma=0.1, kernel=rbf;, score=0.490 total time=  24.6s\n",
      "[CV 5/5] END ........C=1, gamma=0.1, kernel=rbf;, score=0.491 total time=  24.4s\n",
      "[CV 1/5] END .......C=1, gamma=0.01, kernel=rbf;, score=0.394 total time=  25.0s\n",
      "[CV 2/5] END .......C=1, gamma=0.01, kernel=rbf;, score=0.394 total time=  24.8s\n",
      "[CV 3/5] END .......C=1, gamma=0.01, kernel=rbf;, score=0.397 total time=  25.0s\n",
      "[CV 4/5] END .......C=1, gamma=0.01, kernel=rbf;, score=0.393 total time=  24.8s\n",
      "[CV 5/5] END .......C=1, gamma=0.01, kernel=rbf;, score=0.392 total time=  25.0s\n",
      "[CV 1/5] END .........C=10, gamma=1, kernel=rbf;, score=0.501 total time= 1.0min\n",
      "[CV 2/5] END .........C=10, gamma=1, kernel=rbf;, score=0.486 total time= 1.0min\n",
      "[CV 3/5] END .........C=10, gamma=1, kernel=rbf;, score=0.495 total time= 1.0min\n",
      "[CV 4/5] END .........C=10, gamma=1, kernel=rbf;, score=0.486 total time= 1.1min\n",
      "[CV 5/5] END .........C=10, gamma=1, kernel=rbf;, score=0.485 total time= 1.1min\n",
      "[CV 1/5] END .......C=10, gamma=0.1, kernel=rbf;, score=0.496 total time=  30.0s\n",
      "[CV 2/5] END .......C=10, gamma=0.1, kernel=rbf;, score=0.479 total time=  29.8s\n",
      "[CV 3/5] END .......C=10, gamma=0.1, kernel=rbf;, score=0.504 total time=  30.1s\n",
      "[CV 4/5] END .......C=10, gamma=0.1, kernel=rbf;, score=0.492 total time=  30.6s\n",
      "[CV 5/5] END .......C=10, gamma=0.1, kernel=rbf;, score=0.497 total time=  30.3s\n",
      "[CV 1/5] END ......C=10, gamma=0.01, kernel=rbf;, score=0.503 total time=  24.5s\n",
      "[CV 2/5] END ......C=10, gamma=0.01, kernel=rbf;, score=0.478 total time=  24.7s\n",
      "[CV 3/5] END ......C=10, gamma=0.01, kernel=rbf;, score=0.510 total time=  24.6s\n",
      "[CV 4/5] END ......C=10, gamma=0.01, kernel=rbf;, score=0.494 total time=  24.7s\n",
      "[CV 5/5] END ......C=10, gamma=0.01, kernel=rbf;, score=0.501 total time=  24.6s\n"
     ]
    },
    {
     "data": {
      "text/plain": [
       "GridSearchCV(estimator=SVC(),\n",
       "             param_grid={'C': [0.1, 1, 10], 'gamma': [1, 0.1, 0.01],\n",
       "                         'kernel': ['rbf']},\n",
       "             verbose=3)"
      ]
     },
     "execution_count": 38,
     "metadata": {},
     "output_type": "execute_result"
    }
   ],
   "source": [
    "# defining parameter range\n",
    "param_grid = {'C': [0.1, 1, 10], \n",
    "              'gamma': [1, 0.1, 0.01],\n",
    "              'kernel': ['rbf']} \n",
    "  \n",
    "grid = GridSearchCV(SVC(), param_grid, refit = True, verbose = 3)\n",
    "  \n",
    "# fitting the model for grid search\n",
    "grid.fit(tf_x_train, sentiment_train)"
   ]
  },
  {
   "cell_type": "code",
   "execution_count": null,
   "metadata": {
    "id": "kW--gkSH-nGO"
   },
   "outputs": [],
   "source": [
    "from sklearn.datasets import make_classification\n",
    "from sklearn.metrics import accuracy_score, f1_score, precision_score, recall_score, classification_report, confusion_matrix\n",
    "\n",
    "# We use a utility to generate artificial classification data.\n",
    "grid_predictions_train = grid.predict(tf_x_train)\n",
    "grid_predictions_validation = grid.predict(tf_x_dev)\n",
    "grid_predictions_test = grid.predict(tf_x_test)\n"
   ]
  },
  {
   "cell_type": "code",
   "execution_count": null,
   "metadata": {
    "id": "aOid2FVLAA9j"
   },
   "outputs": [],
   "source": [
    "acc_train = accuracy_score(sentiment_train,grid_predictions_train)\n",
    "f1_train = f1_score(sentiment_train, grid_predictions_train, average=\"macro\")\n",
    "pre_train = precision_score(sentiment_train, grid_predictions_train, average=\"macro\")\n",
    "recall_train = recall_score(sentiment_train, grid_predictions_train, average=\"macro\")"
   ]
  },
  {
   "cell_type": "code",
   "execution_count": null,
   "metadata": {
    "colab": {
     "base_uri": "https://localhost:8080/"
    },
    "id": "CsTQm0fUBnJ_",
    "outputId": "50e33f2c-e5ac-4e52-a857-5db27d4e0008"
   },
   "outputs": [
    {
     "name": "stdout",
     "output_type": "stream",
     "text": [
      "accuracy score on train data: 0.8638833992094862\n",
      "f1 score on train data: 0.861537768684803\n",
      "precision score on train data: 0.872976718547341\n",
      "recall score on train data: 0.8555714482399321\n"
     ]
    }
   ],
   "source": [
    "print(f\"accuracy score on train data: {acc_train}\")\n",
    "print(f\"f1 score on train data: {f1_train}\")\n",
    "print(f\"precision score on train data: {pre_train}\")\n",
    "print(f\"recall score on train data: {recall_train}\")"
   ]
  },
  {
   "cell_type": "code",
   "execution_count": null,
   "metadata": {
    "colab": {
     "base_uri": "https://localhost:8080/",
     "height": 312
    },
    "id": "-7-uCbqqC4-o",
    "outputId": "12495793-cbd8-440b-85a3-a54ad4f563f0"
   },
   "outputs": [
    {
     "data": {
      "text/plain": [
       "Text(0.5, 1.0, 'confusion matrix for train data')"
      ]
     },
     "execution_count": 45,
     "metadata": {},
     "output_type": "execute_result"
    },
    {
     "data": {
      "image/png": "[encoded data removed]",
      "text/plain": [
       "<Figure size 432x288 with 2 Axes>"
      ]
     },
     "metadata": {
      "needs_background": "light"
     },
     "output_type": "display_data"
    }
   ],
   "source": [
    "from sklearn import metrics\n",
    "\n",
    "confusion_matrix = metrics.confusion_matrix(sentiment_train, grid_predictions_train)\n",
    "\n",
    "cm_display = metrics.ConfusionMatrixDisplay(confusion_matrix = confusion_matrix, display_labels = [False, True])\n",
    "\n",
    "cm_display.plot()\n",
    "plt.title('confusion matrix for train data')"
   ]
  },
  {
   "cell_type": "code",
   "execution_count": null,
   "metadata": {
    "id": "kuMGVVcDDQks"
   },
   "outputs": [],
   "source": [
    "acc_dev = accuracy_score(sentiment_dev,grid_predictions_validation)\n",
    "f1_dev = f1_score(sentiment_dev, grid_predictions_validation, average=\"macro\")\n",
    "pre_dev = precision_score(sentiment_dev, grid_predictions_validation, average=\"macro\")\n",
    "recall_dev = recall_score(sentiment_dev, grid_predictions_validation, average=\"macro\")"
   ]
  },
  {
   "cell_type": "code",
   "execution_count": null,
   "metadata": {
    "colab": {
     "base_uri": "https://localhost:8080/"
    },
    "id": "YP7txvkNEgyf",
    "outputId": "5363d462-de47-4319-85d0-4c5fd9524037"
   },
   "outputs": [
    {
     "name": "stdout",
     "output_type": "stream",
     "text": [
      "accuracy score on validation data: 0.4973335966818092\n",
      "f1 score on validation data: 0.48446573114662045\n",
      "precision score on validation data: 0.5124741357148218\n",
      "recall score on validation data: 0.4853413752912621\n"
     ]
    }
   ],
   "source": [
    "print(f\"accuracy score on validation data: {acc_dev}\")\n",
    "print(f\"f1 score on validation data: {f1_dev}\")\n",
    "print(f\"precision score on validation data: {pre_dev}\")\n",
    "print(f\"recall score on validation data: {recall_dev}\")"
   ]
  },
  {
   "cell_type": "code",
   "execution_count": null,
   "metadata": {
    "colab": {
     "base_uri": "https://localhost:8080/",
     "height": 312
    },
    "id": "kIdi_RSwFPj2",
    "outputId": "1ade60fd-3872-4e39-8f47-8ea20f8a5ed9"
   },
   "outputs": [
    {
     "data": {
      "text/plain": [
       "Text(0.5, 1.0, 'confusion matrix for validation data')"
      ]
     },
     "execution_count": 50,
     "metadata": {},
     "output_type": "execute_result"
    },
    {
     "data": {
      "image/png": "[encoded data removed]",
      "text/plain": [
       "<Figure size 432x288 with 2 Axes>"
      ]
     },
     "metadata": {
      "needs_background": "light"
     },
     "output_type": "display_data"
    }
   ],
   "source": [
    "confusion_matrix = metrics.confusion_matrix(sentiment_dev, grid_predictions_validation)\n",
    "\n",
    "cm_display = metrics.ConfusionMatrixDisplay(confusion_matrix = confusion_matrix, display_labels = [False, True])\n",
    "\n",
    "cm_display.plot()\n",
    "plt.title('confusion matrix for validation data')"
   ]
  },
  {
   "cell_type": "markdown",
   "metadata": {
    "id": "4xKNrBZeHBGf"
   },
   "source": [
    "and finally for test data"
   ]
  },
  {
   "cell_type": "code",
   "execution_count": null,
   "metadata": {
    "id": "8aDi3xF2HC0q"
   },
   "outputs": [],
   "source": [
    "acc_test = accuracy_score(sentiment_test,grid_predictions_test)\n",
    "f1_test = f1_score(sentiment_test, grid_predictions_test, average=\"macro\")\n",
    "pre_test = precision_score(sentiment_test, grid_predictions_test, average=\"macro\")\n",
    "recall_test = recall_score(sentiment_test, grid_predictions_test, average=\"macro\")"
   ]
  },
  {
   "cell_type": "code",
   "execution_count": null,
   "metadata": {
    "colab": {
     "base_uri": "https://localhost:8080/"
    },
    "id": "oDMj0XW4HNu2",
    "outputId": "dd64bcfe-f867-49ac-baa7-85d49b208c70"
   },
   "outputs": [
    {
     "name": "stdout",
     "output_type": "stream",
     "text": [
      "accuracy score on validation data: 0.5101638050128281\n",
      "f1 score on validation data: 0.4910082155590583\n",
      "precision score on validation data: 0.5210587484915387\n",
      "recall score on validation data: 0.4956507292262362\n"
     ]
    }
   ],
   "source": [
    "print(f\"accuracy score on validation data: {acc_test}\")\n",
    "print(f\"f1 score on validation data: {f1_test}\")\n",
    "print(f\"precision score on validation data: {pre_test}\")\n",
    "print(f\"recall score on validation data: {recall_test}\")"
   ]
  },
  {
   "cell_type": "code",
   "execution_count": null,
   "metadata": {
    "colab": {
     "base_uri": "https://localhost:8080/",
     "height": 312
    },
    "id": "LIYP5-CeH620",
    "outputId": "1db1363f-6dc2-4226-8cbb-fc13620bd024"
   },
   "outputs": [
    {
     "data": {
      "text/plain": [
       "Text(0.5, 1.0, 'confusion matrix for test data')"
      ]
     },
     "execution_count": 53,
     "metadata": {},
     "output_type": "execute_result"
    },
    {
     "data": {
      "image/png": "[encoded data removed]",
      "text/plain": [
       "<Figure size 432x288 with 2 Axes>"
      ]
     },
     "metadata": {
      "needs_background": "light"
     },
     "output_type": "display_data"
    }
   ],
   "source": [
    "confusion_matrix = metrics.confusion_matrix(sentiment_test, grid_predictions_test)\n",
    "\n",
    "cm_display = metrics.ConfusionMatrixDisplay(confusion_matrix = confusion_matrix, display_labels = [False, True])\n",
    "\n",
    "cm_display.plot()\n",
    "plt.title('confusion matrix for test data')"
   ]
  },
  {
   "cell_type": "markdown",
   "metadata": {
    "id": "Jm1WzVZXvSX7"
   },
   "source": [
    "we also try logistic regression"
   ]
  },
  {
   "cell_type": "code",
   "execution_count": null,
   "metadata": {
    "id": "xvZGpWGxJInP"
   },
   "outputs": [],
   "source": [
    "from sklearn.linear_model import LogisticRegression\n",
    "clf = LogisticRegression(max_iter=1000,solver='saga')\n",
    "clf.fit(tf_x_train,sentiment_train)\n",
    "grid_predictions_train = clf.predict(tf_x_train)\n",
    "grid_predictions_validation = clf.predict(tf_x_dev)\n",
    "grid_predictions_test = clf.predict(tf_x_test)\n"
   ]
  },
  {
   "cell_type": "code",
   "execution_count": null,
   "metadata": {
    "colab": {
     "base_uri": "https://localhost:8080/",
     "height": 382
    },
    "id": "d1rJnLpaJcx9",
    "outputId": "95d51ed5-b234-4dbe-aea8-9c5281f447b7"
   },
   "outputs": [
    {
     "name": "stdout",
     "output_type": "stream",
     "text": [
      "accuracy score on train data: 0.7193675889328063\n",
      "f1 score on train data: 0.7110595440968063\n",
      "precision score on train data: 0.7253056289674813\n",
      "recall score on train data: 0.7066933773299416\n"
     ]
    },
    {
     "data": {
      "text/plain": [
       "Text(0.5, 1.0, 'confusion matrix for train data')"
      ]
     },
     "execution_count": 57,
     "metadata": {},
     "output_type": "execute_result"
    },
    {
     "data": {
      "image/png": "[encoded data removed]",
      "text/plain": [
       "<Figure size 432x288 with 2 Axes>"
      ]
     },
     "metadata": {
      "needs_background": "light"
     },
     "output_type": "display_data"
    }
   ],
   "source": [
    "acc_train = accuracy_score(sentiment_train,grid_predictions_train)\n",
    "f1_train = f1_score(sentiment_train, grid_predictions_train, average=\"macro\")\n",
    "pre_train = precision_score(sentiment_train, grid_predictions_train, average=\"macro\")\n",
    "recall_train = recall_score(sentiment_train, grid_predictions_train, average=\"macro\")\n",
    "print(f\"accuracy score on train data: {acc_train}\")\n",
    "print(f\"f1 score on train data: {f1_train}\")\n",
    "print(f\"precision score on train data: {pre_train}\")\n",
    "print(f\"recall score on train data: {recall_train}\")\n",
    "confusion_matrix = metrics.confusion_matrix(sentiment_train, grid_predictions_train)\n",
    "\n",
    "cm_display = metrics.ConfusionMatrixDisplay(confusion_matrix = confusion_matrix, display_labels = [False, True])\n",
    "\n",
    "cm_display.plot()\n",
    "plt.title('confusion matrix for train data')"
   ]
  },
  {
   "cell_type": "code",
   "execution_count": null,
   "metadata": {
    "colab": {
     "base_uri": "https://localhost:8080/",
     "height": 382
    },
    "id": "EbSKJwuNJqbN",
    "outputId": "fc8649c4-0f44-4715-ae12-800bf28116ac"
   },
   "outputs": [
    {
     "name": "stdout",
     "output_type": "stream",
     "text": [
      "accuracy score on validation data: 0.5074066758838633\n",
      "f1 score on validation data: 0.4998650008360566\n",
      "precision score on validation data: 0.515309611662341\n",
      "recall score on validation data: 0.4984498770502899\n"
     ]
    },
    {
     "data": {
      "text/plain": [
       "Text(0.5, 1.0, 'confusion matrix for validation data')"
      ]
     },
     "execution_count": 58,
     "metadata": {},
     "output_type": "execute_result"
    },
    {
     "data": {
      "image/png": "[encoded data removed]",
      "text/plain": [
       "<Figure size 432x288 with 2 Axes>"
      ]
     },
     "metadata": {
      "needs_background": "light"
     },
     "output_type": "display_data"
    }
   ],
   "source": [
    "acc_dev = accuracy_score(sentiment_dev,grid_predictions_validation)\n",
    "f1_dev = f1_score(sentiment_dev, grid_predictions_validation, average=\"macro\")\n",
    "pre_dev = precision_score(sentiment_dev, grid_predictions_validation, average=\"macro\")\n",
    "recall_dev = recall_score(sentiment_dev, grid_predictions_validation, average=\"macro\")\n",
    "print(f\"accuracy score on validation data: {acc_dev}\")\n",
    "print(f\"f1 score on validation data: {f1_dev}\")\n",
    "print(f\"precision score on validation data: {pre_dev}\")\n",
    "print(f\"recall score on validation data: {recall_dev}\")\n",
    "\n",
    "confusion_matrix = metrics.confusion_matrix(sentiment_dev, grid_predictions_validation)\n",
    "\n",
    "cm_display = metrics.ConfusionMatrixDisplay(confusion_matrix = confusion_matrix, display_labels = [False, True])\n",
    "\n",
    "cm_display.plot()\n",
    "plt.title('confusion matrix for validation data')"
   ]
  },
  {
   "cell_type": "code",
   "execution_count": null,
   "metadata": {
    "colab": {
     "base_uri": "https://localhost:8080/",
     "height": 382
    },
    "id": "mSqtD9s6KZZy",
    "outputId": "f3d66545-dbad-44b1-bf56-a600003b37ad"
   },
   "outputs": [
    {
     "name": "stdout",
     "output_type": "stream",
     "text": [
      "accuracy score on validation data: 0.5083876060785475\n",
      "f1 score on validation data: 0.49532837693401754\n",
      "precision score on validation data: 0.5145181606851917\n",
      "recall score on validation data: 0.49942611693295275\n"
     ]
    },
    {
     "data": {
      "text/plain": [
       "Text(0.5, 1.0, 'confusion matrix for test data')"
      ]
     },
     "execution_count": 59,
     "metadata": {},
     "output_type": "execute_result"
    },
    {
     "data": {
      "image/png": "[encoded data removed]",
      "text/plain": [
       "<Figure size 432x288 with 2 Axes>"
      ]
     },
     "metadata": {
      "needs_background": "light"
     },
     "output_type": "display_data"
    }
   ],
   "source": [
    "acc_test = accuracy_score(sentiment_test,grid_predictions_test)\n",
    "f1_test = f1_score(sentiment_test, grid_predictions_test, average=\"macro\")\n",
    "pre_test = precision_score(sentiment_test, grid_predictions_test, average=\"macro\")\n",
    "recall_test = recall_score(sentiment_test, grid_predictions_test, average=\"macro\")\n",
    "print(f\"accuracy score on validation data: {acc_test}\")\n",
    "print(f\"f1 score on validation data: {f1_test}\")\n",
    "print(f\"precision score on validation data: {pre_test}\")\n",
    "print(f\"recall score on validation data: {recall_test}\")\n",
    "confusion_matrix = metrics.confusion_matrix(sentiment_test, grid_predictions_test)\n",
    "\n",
    "cm_display = metrics.ConfusionMatrixDisplay(confusion_matrix = confusion_matrix, display_labels = [False, True])\n",
    "\n",
    "cm_display.plot()\n",
    "plt.title('confusion matrix for test data')"
   ]
  },
  {
   "cell_type": "markdown",
   "metadata": {
    "id": "PgJRBHitKd1a"
   },
   "source": [
    "results are close, but overall it seems that using svm is better and have higher accuracy but not by a large margin"
   ]
  },
  {
   "cell_type": "markdown",
   "metadata": {
    "id": "_syZzJJlJlVV"
   },
   "source": [
    "### word2vec like vectors"
   ]
  },
  {
   "cell_type": "markdown",
   "metadata": {
    "id": "up2loajRLj3H"
   },
   "source": [
    "for this part, we first need to reduce size of feature vecotrs, for this purpose we use auto encoder and then use encoder part to reduce dimension and train our embedding vector"
   ]
  },
  {
   "cell_type": "code",
   "execution_count": null,
   "metadata": {
    "colab": {
     "base_uri": "https://localhost:8080/"
    },
    "id": "K3jRrVpWQJVj",
    "outputId": "a69a4bb3-4e4e-477f-c839-b96af0004d00"
   },
   "outputs": [
    {
     "name": "stdout",
     "output_type": "stream",
     "text": [
      "shape of input = (10180, 20240)\n"
     ]
    }
   ],
   "source": [
    "train_auto_encoder = tf_x_train.T\n",
    "train_auto_encoder = train_auto_encoder.toarray()\n",
    "print(f'shape of input = {np.shape(train_auto_encoder)}')\n",
    "val_auto_encoder = tf_x_dev.T\n",
    "\n"
   ]
  },
  {
   "cell_type": "markdown",
   "metadata": {
    "id": "fgPFujGPQlVT"
   },
   "source": [
    "for every word we have a feature vectore and it's size is equal to number of text in train data(its big but its sparse) so we train autoencoder to reduce features to desired number"
   ]
  },
  {
   "cell_type": "code",
   "execution_count": null,
   "metadata": {
    "id": "-gGr0Xs4Ors2"
   },
   "outputs": [],
   "source": [
    "import keras\n",
    "from keras import layers\n",
    "import tensorflow as tf\n",
    "class auto_encoder:\n",
    "  def __init__(self, bottleneck_dim,num_epoch,dim_input):\n",
    "    self.bottleneck_dim = bottleneck_dim\n",
    "    self.num_epoch = num_epoch\n",
    "    self.dim_input = dim_input\n",
    "  def creat_model(self):\n",
    "    input = layers.Input(shape=(self.dim_input,))\n",
    "    e = layers.Dense(1280,activation='selu',name = 'encoder1')(input)\n",
    "    #e = layers.BatchNormalization()(e)\n",
    "    # encoder level 2\n",
    "    e = layers.Dense(640,activation='selu',name = 'encoder2')(e)\n",
    "    #e = layers.BatchNormalization()(e)\n",
    "    # bottleneck\n",
    "    bottleneck = layers.Dense(self.bottleneck_dim,activation='selu',name = 'bottleneck')(e)\n",
    "\n",
    "    d = layers.Dense(640,activation='selu',name = 'decoder1')(bottleneck)\n",
    "    #d = layers.BatchNormalization()(d)\n",
    "    # decoder level 2\n",
    "    d = layers.Dense(1280,activation='selu',name='decoder2')(d)\n",
    "    #d = layers.BatchNormalization()(d)\n",
    "    # output layer\n",
    "    output = layers.Dense(self.dim_input, activation='relu')(d) #outputs are always positive, because of that we use relu for output activation\n",
    "    self.model = keras.Model(input, output)\n",
    "  def train_model(self,X_train,y_train,X_test,y_test):\n",
    "    self.model.compile(optimizer='adam', loss='mse',)\n",
    "\n",
    "    history = self.model.fit(X_train, y_train,\n",
    "                    epochs=self.num_epoch,\n",
    "                    batch_size=256,\n",
    "                    shuffle=True,\n",
    "                  \n",
    "                    validation_data=(X_test, y_test))\n",
    "    return history,self.model\n",
    "  "
   ]
  },
  {
   "cell_type": "code",
   "execution_count": null,
   "metadata": {
    "colab": {
     "base_uri": "https://localhost:8080/"
    },
    "id": "Rknzk6gSRtgn",
    "outputId": "82d5722c-58d4-4b4f-955f-9ea7aee45663"
   },
   "outputs": [
    {
     "name": "stdout",
     "output_type": "stream",
     "text": [
      "Epoch 1/5\n",
      "40/40 [==============================] - 86s 2s/step - loss: 1.5562e-04 - val_loss: 1.1122e-04\n",
      "Epoch 2/5\n",
      "40/40 [==============================] - 72s 2s/step - loss: 1.0200e-04 - val_loss: 9.6269e-05\n",
      "Epoch 3/5\n",
      "40/40 [==============================] - 70s 2s/step - loss: 9.6340e-05 - val_loss: 9.6308e-05\n",
      "Epoch 4/5\n",
      "40/40 [==============================] - 71s 2s/step - loss: 9.6330e-05 - val_loss: 9.6302e-05\n",
      "Epoch 5/5\n",
      "40/40 [==============================] - 70s 2s/step - loss: 9.6309e-05 - val_loss: 9.6292e-05\n"
     ]
    }
   ],
   "source": [
    "n1,n2 = np.shape(train_auto_encoder)\n",
    "encoder_model = auto_encoder(200,5,n2)\n",
    "encoder_model.creat_model()\n",
    "history,autoencoder = encoder_model.train_model(train_auto_encoder,train_auto_encoder,train_auto_encoder,train_auto_encoder)\n"
   ]
  },
  {
   "cell_type": "code",
   "execution_count": null,
   "metadata": {
    "id": "arc1T_EoU3cd"
   },
   "outputs": [],
   "source": [
    "encoder = keras.Model(inputs=autoencoder.input, outputs=autoencoder.get_layer('bottleneck').output) # if we want encoder part separatly\n"
   ]
  },
  {
   "cell_type": "code",
   "execution_count": null,
   "metadata": {
    "colab": {
     "base_uri": "https://localhost:8080/"
    },
    "id": "d0DKWyOyXX1_",
    "outputId": "266d2c50-2c1b-4907-82a9-085697223c97"
   },
   "outputs": [
    {
     "name": "stdout",
     "output_type": "stream",
     "text": [
      "Mounted at /content/gdrive\n"
     ]
    }
   ],
   "source": [
    "from google.colab import drive\n",
    "drive.mount('/content/gdrive') # we use google drive to load files and save models there! so change path files based on your own data and run the code!"
   ]
  },
  {
   "cell_type": "code",
   "execution_count": null,
   "metadata": {
    "colab": {
     "base_uri": "https://localhost:8080/"
    },
    "id": "3yroLn9iXR8D",
    "outputId": "4b98b0cf-0e2c-4447-ba61-ef70d9dae79e"
   },
   "outputs": [
    {
     "name": "stderr",
     "output_type": "stream",
     "text": [
      "WARNING:tensorflow:Compiled the loaded model, but the compiled metrics have yet to be built. `model.compile_metrics` will be empty until you train or evaluate the model.\n"
     ]
    }
   ],
   "source": [
    "encoder.save(\"/content/gdrive/MyDrive/Phase_2_models/model.h5\")"
   ]
  },
  {
   "cell_type": "code",
   "execution_count": null,
   "metadata": {
    "colab": {
     "base_uri": "https://localhost:8080/"
    },
    "id": "7FpL_VAFX1tI",
    "outputId": "f8be1045-399e-4b33-a81a-a2220d595e2d"
   },
   "outputs": [
    {
     "name": "stderr",
     "output_type": "stream",
     "text": [
      "WARNING:tensorflow:No training configuration found in the save file, so the model was *not* compiled. Compile it manually.\n"
     ]
    }
   ],
   "source": [
    "# load and evaluate a saved model\n",
    "from tensorflow.keras.models import load_model\n",
    "encoder_loaded = load_model(\"/content/gdrive/MyDrive/Phase_2_models/model.h5\")\n"
   ]
  },
  {
   "cell_type": "code",
   "execution_count": null,
   "metadata": {
    "id": "ReAXsefHYUkJ"
   },
   "outputs": [],
   "source": [
    "encoded_output = encoder(train_auto_encoder)"
   ]
  },
  {
   "cell_type": "code",
   "execution_count": null,
   "metadata": {
    "colab": {
     "base_uri": "https://localhost:8080/"
    },
    "id": "KOC1a55UYnpP",
    "outputId": "23102352-a4ac-40ac-9a3c-8baed7cc42bb"
   },
   "outputs": [
    {
     "data": {
      "text/plain": [
       "TensorShape([10180, 200])"
      ]
     },
     "execution_count": 85,
     "metadata": {},
     "output_type": "execute_result"
    }
   ],
   "source": [
    "np.shape(encoded_output)"
   ]
  },
  {
   "cell_type": "code",
   "execution_count": null,
   "metadata": {
    "id": "BcfNpxXZY7dB"
   },
   "outputs": [],
   "source": [
    "from numpy import save\n",
    "save('/content/gdrive/MyDrive/Phase_2_models/data.npy', encoded_output)"
   ]
  },
  {
   "cell_type": "code",
   "execution_count": null,
   "metadata": {
    "id": "ZpZ03F1CZFu5"
   },
   "outputs": [],
   "source": [
    "from numpy import load\n",
    "\n",
    "data = load('/content/gdrive/MyDrive/Phase_2_models/data.npy')"
   ]
  },
  {
   "cell_type": "code",
   "execution_count": null,
   "metadata": {
    "colab": {
     "base_uri": "https://localhost:8080/"
    },
    "id": "2iiuMWgHghgU",
    "outputId": "6ad4e965-0baf-4904-f585-8808bbb2449e"
   },
   "outputs": [
    {
     "data": {
      "text/plain": [
       "(10180, 200)"
      ]
     },
     "execution_count": 17,
     "metadata": {},
     "output_type": "execute_result"
    }
   ],
   "source": [
    "np.shape(data)"
   ]
  },
  {
   "cell_type": "code",
   "execution_count": null,
   "metadata": {
    "id": "wdUbQzDdZmCv"
   },
   "outputs": [],
   "source": [
    "from tensorflow.keras.preprocessing.sequence import pad_sequences\n",
    "from tensorflow.keras.preprocessing.text import Tokenizer\n"
   ]
  },
  {
   "cell_type": "code",
   "execution_count": null,
   "metadata": {
    "id": "E_HSqkMtj2nR"
   },
   "outputs": [],
   "source": [
    "text_train_processed_es = text_train_processed\n",
    "for i in range(len(text_train_processed)):\n",
    "  text_train_processed[i] =  '<shr> ' + \"\".join(text_train_processed[i]) + ' <pia>'"
   ]
  },
  {
   "cell_type": "code",
   "execution_count": null,
   "metadata": {
    "colab": {
     "base_uri": "https://localhost:8080/"
    },
    "id": "NAYT77F1iu3w",
    "outputId": "453d350a-a063-4b33-8771-e4c8752e9e11"
   },
   "outputs": [
    {
     "name": "stdout",
     "output_type": "stream",
     "text": [
      "number of unique word in our created vocabulary = 10210\n",
      "{'<oov>': 1, 'shr': 2, 'pia': 3, 'im': 4, 'know': 5, 'dont': 6, 'like': 7, 'get': 8, 'oh': 9, 'right': 10, 'well': 11, 'youre': 12, 'okay': 13, 'yeah': 14, 'go': 15, 'one': 16, 'got': 17, 'thats': 18, 'gonna': 19, 'think': 20, 'want': 21, 'need': 22, 'come': 23, 'going': 24, 'see': 25, 'good': 26, 'look': 27, 'time': 28, 'back': 29, 'hey': 30, 'really': 31, 'hes': 32, 'cant': 33, 'us': 34, 'man': 35, 'mean': 36, 'didnt': 37, 'say': 38, 'take': 39, 'sorry': 40, 'something': 41, 'would': 42, 'tell': 43, 'little': 44, 'ill': 45, 'make': 46, 'could': 47, 'thing': 48, 'lets': 49, 'theres': 50, 'way': 51, 'uh': 52, 'yes': 53, 'shes': 54, 'guys': 55, 'let': 56, 'two': 57, 'ive': 58, 'never': 59, 'give': 60, 'whats': 61, 'wait': 62, 'said': 63, 'please': 64, 'thought': 65, 'much': 66, 'even': 67, 'put': 68, 'maybe': 69, 'people': 70, 'still': 71, 'help': 72, 'day': 73, 'love': 74, 'god': 75, 'anything': 76, 'talk': 77, 'theyre': 78, 'stop': 79, 'find': 80, 'thank': 81, 'sure': 82, 'nothing': 83, 'fucking': 84, 'life': 85, 'call': 86, 'guy': 87, 'shit': 88, 'everything': 89, 'work': 90, 'hell': 91, 'great': 92, 'first': 93, 'ever': 94, 'always': 95, 'told': 96, 'away': 97, 'around': 98, 'fine': 99, 'keep': 100, 'talking': 101, 'kind': 102, 'dad': 103, 'lot': 104, 'last': 105, 'made': 106, 'years': 107, 'things': 108, 'bad': 109, 'doesnt': 110, 'youve': 111, 'fuck': 112, 'house': 113, 'sir': 114, 'money': 115, 'getting': 116, 'nice': 117, 'wanna': 118, 'big': 119, 'better': 120, 'done': 121, 'home': 122, 'long': 123, 'feel': 124, 'must': 125, 'came': 126, 'um': 127, 'car': 128, 'gotta': 129, 'believe': 130, 'hear': 131, 'listen': 132, 'new': 133, 'left': 134, 'id': 135, 'leave': 136, 'actually': 137, 'every': 138, 'today': 139, 'isnt': 140, 'coming': 141, 'happened': 142, 'might': 143, 'best': 144, 'whole': 145, 'remember': 146, 'wanted': 147, 'night': 148, 'real': 149, 'head': 150, 'mind': 151, 'care': 152, 'mr': 153, 'stay': 154, 'thanks': 155, 'knew': 156, 'went': 157, 'old': 158, 'course': 159, 'father': 160, 'ask': 161, 'enough': 162, 'name': 163, 'three': 164, 'next': 165, 'wasnt': 166, 'try': 167, 'else': 168, 'someone': 169, 'guess': 170, 'show': 171, 'mom': 172, 'another': 173, 'found': 174, 'looks': 175, 'together': 176, 'pretty': 177, 'trying': 178, 'place': 179, 'wont': 180, 'wrong': 181, 'seen': 182, 'took': 183, 'hard': 184, 'boy': 185, 'family': 186, 'gone': 187, 'already': 188, 'open': 189, 'turn': 190, 'weve': 191, 'job': 192, 'world': 193, 'kill': 194, 'heard': 195, 'baby': 196, 'saw': 197, 'youll': 198, 'hold': 199, 'meet': 200, 'may': 201, 'saying': 202, 'looking': 203, 'girl': 204, 'check': 205, 'minutes': 206, 'crazy': 207, 'means': 208, 'use': 209, 'understand': 210, 'business': 211, 'huh': 212, 'son': 213, 'mother': 214, 'probably': 215, 'happen': 216, 'idea': 217, 'called': 218, 'dr': 219, 'five': 220, 'worry': 221, 'live': 222, 'dead': 223, 'exactly': 224, 'used': 225, 'ago': 226, 'watch': 227, 'hello': 228, 'room': 229, 'problem': 230, 'friend': 231, 'ok': 232, 'plan': 233, 'start': 234, 'deal': 235, 'tonight': 236, 'tomorrow': 237, 'happy': 238, 'youd': 239, 'kid': 240, 'bit': 241, 'wouldnt': 242, 'move': 243, 'phone': 244, 'hi': 245, 'making': 246, 'water': 247, 'hit': 248, 'many': 249, 'second': 250, 'run': 251, 'play': 252, 'everybody': 253, 'minute': 254, 'says': 255, 'everyone': 256, 'hours': 257, 'yet': 258, 'supposed': 259, 'friends': 260, 'important': 261, 'bring': 262, 'lost': 263, 'stuff': 264, 'thinking': 265, 'wife': 266, 'morning': 267, 'face': 268, 'since': 269, 'game': 270, 'doctor': 271, 'gave': 272, 'die': 273, 'inside': 274, 'taking': 275, 'whos': 276, 'eyes': 277, 'sit': 278, 'end': 279, 'havent': 280, 'point': 281, 'without': 282, 'sounds': 283, 'fact': 284, 'also': 285, 'days': 286, 'dude': 287, 'ready': 288, 'part': 289, 'matter': 290, 'tried': 291, 'working': 292, 'knows': 293, 'ones': 294, 'late': 295, 'fun': 296, 'school': 297, 'cut': 298, 'damn': 299, 'woman': 300, 'change': 301, 'cause': 302, 'side': 303, 'case': 304, 'ten': 305, 'shut': 306, 'clear': 307, 'hand': 308, 'number': 309, 'story': 310, 'gets': 311, 'started': 312, 'year': 313, 'line': 314, 'couple': 315, 'phil': 316, 'party': 317, 'telling': 318, 'girls': 319, 'word': 320, 'trust': 321, 'honey': 322, 'question': 323, 'wants': 324, 'needs': 325, 'beautiful': 326, 'pay': 327, 'brother': 328, 'whoa': 329, 'break': 330, 'boys': 331, 'kids': 332, 'million': 333, 'aint': 334, 'wish': 335, 'perfect': 336, 'welcome': 337, 'whatever': 338, 'walk': 339, 'four': 340, 'air': 341, 'makes': 342, 'wow': 343, 'anymore': 344, 'different': 345, 'though': 346, 'set': 347, 'write': 348, 'couldnt': 349, 'anyone': 350, 'fuckin': 351, 'save': 352, 'hot': 353, 'half': 354, 'goes': 355, 'stupid': 356, 'soon': 357, 'police': 358, 'piece': 359, 'read': 360, 'sick': 361, 'nobody': 362, 'lose': 363, 'person': 364, 'chance': 365, 'town': 366, 'fight': 367, 'heres': 368, 'hope': 369, 'news': 370, '20': 371, 'excuse': 372, 'buy': 373, 'six': 374, 'alone': 375, 'ah': 376, 'stand': 377, 'cool': 378, 'past': 379, 'door': 380, 'asking': 381, 'quite': 382, 'jesus': 383, 'max': 384, 'honor': 385, 'miss': 386, 'wake': 387, 'least': 388, 'weeks': 389, 'almost': 390, 'easy': 391, 'lady': 392, 'mike': 393, 'forget': 394, '10': 395, 'high': 396, 'eat': 397, 'asked': 398, 'funny': 399, 'ahead': 400, 'ii': 401, 'either': 402, 'captain': 403, 'box': 404, 'sophie': 405, 'em': 406, 'weekend': 407, 'girlfriend': 408, 'luke': 409, 'hour': 410, 'pick': 411, 'sense': 412, 'husband': 413, 'video': 414, 'white': 415, 'body': 416, 'blood': 417, 'race': 418, 'city': 419, 'gun': 420, 'rest': 421, 'times': 422, 'far': 423, 'moment': 424, 'young': 425, 'mine': 426, 'frenchie': 427, 'shot': 428, '100': 429, 'shoot': 430, 'hands': 431, 'met': 432, 'afraid': 433, 'true': 434, 'drink': 435, 'wheres': 436, 'comes': 437, 'finally': 438, 'week': 439, 'mrs': 440, 'lee': 441, 'hang': 442, 'itll': 443, 'behind': 444, 'entire': 445, 'able': 446, 'hate': 447, 'kidding': 448, 'worth': 449, 'men': 450, 'paper': 451, 'fault': 452, 'awesome': 453, 'army': 454, 'figure': 455, 'brought': 456, 'leonard': 457, 'hurt': 458, 'dinner': 459, 'leg': 460, 'code': 461, 'weird': 462, 'company': 463, 'waiting': 464, '30': 465, 'joke': 466, 'loved': 467, 'anyway': 468, 'future': 469, 'grand': 470, 'running': 471, 'gentlemen': 472, 'wear': 473, 'finish': 474, 'meeting': 475, 'wed': 476, 'months': 477, 'killed': 478, 'fall': 479, 'ring': 480, 'tommy': 481, 'bruce': 482, 'step': 483, 'penny': 484, 'died': 485, 'seem': 486, 'choice': 487, 'promise': 488, 'pull': 489, 'team': 490, 'sent': 491, 'book': 492, 'mess': 493, 'lou': 494, 'master': 495, 'watching': 496, 'possible': 497, 'drive': 498, 'pass': 499, 'front': 500, 'top': 501, 'win': 502, 'bag': 503, 'absolutely': 504, 'send': 505, 'war': 506, 'later': 507, 'truth': 508, 'sleep': 509, 'strange': 510, 'mate': 511, 'sweetie': 512, 'hair': 513, 'david': 514, 'station': 515, 'feet': 516, 'sometimes': 517, 'control': 518, 'bye': 519, 'seriously': 520, 'werent': 521, 'drop': 522, 'anybody': 523, 'special': 524, 'less': 525, 'tom': 526, 'arent': 527, 'thinks': 528, 'close': 529, 'fire': 530, 'worked': 531, 'boyfriend': 532, 'tobey': 533, 'fast': 534, 'busy': 535, 'outside': 536, 'picture': 537, 'child': 538, 'sweet': 539, 'slow': 540, 'lord': 541, 'human': 542, 'cannot': 543, 'dragon': 544, 'works': 545, 'sheldon': 546, 'plane': 547, 'ass': 548, 'amazing': 549, 'definitely': 550, 'worried': 551, 'throw': 552, 'yo': 553, 'camera': 554, 'speak': 555, 'street': 556, 'rules': 557, 'bunch': 558, 'early': 559, 'calling': 560, 'lie': 561, 'excited': 562, 'miles': 563, 'christmas': 564, 'death': 565, 'starting': 566, 'alex': 567, 'catch': 568, 'happens': 569, 'feeling': 570, 'wedding': 571, 'dress': 572, 'heart': 573, 'middle': 574, 'cute': 575, 'goddamn': 576, 'gus': 577, 'food': 578, 'seeing': 579, 'sound': 580, 'till': 581, 'amy': 582, 'married': 583, 'mouth': 584, 'moving': 585, 'office': 586, 'college': 587, 'security': 588, 'alive': 589, 'paid': 590, 'taken': 591, 'card': 592, 'dick': 593, 'ha': 594, 'daughter': 595, 'john': 596, 'black': 597, 'straight': 598, 'hospital': 599, 'living': 600, 'obviously': 601, 'trip': 602, 'daddy': 603, 'alright': 604, 'children': 605, 'reason': 606, 'interesting': 607, 'order': 608, 'hasnt': 609, 'pain': 610, 'happening': 611, 'tv': 612, 'brain': 613, 'playing': 614, 'anywhere': 615, 'small': 616, 'single': 617, 'somewhere': 618, 'full': 619, 'michael': 620, 'simple': 621, 'calm': 622, 'spot': 623, 'standing': 624, 'lucky': 625, 'buddy': 626, 'changed': 627, 'shell': 628, 'bird': 629, 'york': 630, 'none': 631, 'boat': 632, 'known': 633, 'pirate': 634, 'message': 635, 'listening': 636, 'touch': 637, 'serious': 638, 'favorite': 639, 'mention': 640, 'carlos': 641, 'totally': 642, 'class': 643, 'shoes': 644, 'scared': 645, 'patient': 646, 'kept': 647, 'lunch': 648, 'enjoy': 649, 'ground': 650, 'kinda': 651, 'asshole': 652, 'christ': 653, 'clean': 654, 'movie': 655, 'light': 656, 'wouldve': 657, 'follow': 658, 'fix': 659, 'jack': 660, 'caroline': 661, 'smart': 662, 'bar': 663, 'quick': 664, 'besides': 665, 'dear': 666, 'dangerous': 667, 'clothes': 668, 'power': 669, 'hows': 670, 'road': 671, 'secret': 672, 'giving': 673, 'glad': 674, 'information': 675, 'seems': 676, 'spent': 677, 'yesterday': 678, 'broke': 679, 'fell': 680, 'decided': 681, 'ladies': 682, 'poor': 683, 'push': 684, 'bed': 685, 'caught': 686, 'safe': 687, 'king': 688, 'honest': 689, 'plans': 690, 'waste': 691, '1': 692, 'luck': 693, 'imagine': 694, 'tough': 695, 'dog': 696, 'sell': 697, 'public': 698, 'explain': 699, 'blue': 700, 'somebody': 701, 'horse': 702, 'window': 703, '12': 704, 'killing': 705, 'machine': 706, 'prison': 707, 'cops': 708, 'shows': 709, 'sitting': 710, 'talked': 711, 'figured': 712, 'needed': 713, 'art': 714, 'moved': 715, 'takes': 716, 'date': 717, 'veronica': 718, 'charge': 719, 'charlie': 720, 'played': 721, 'holmes': 722, 'lived': 723, 'mark': 724, 'stuck': 725, 'sister': 726, 'cold': 727, 'coffee': 728, 'song': 729, 'nicky': 730, 'crap': 731, 'felt': 732, 'relationship': 733, 'larry': 734, 'jessie': 735, 'murder': 736, 'gaby': 737, 'yep': 738, 'swear': 739, 'shouldnt': 740, 'whether': 741, 'foot': 742, 'cash': 743, 'build': 744, 'handle': 745, 'extra': 746, 'looked': 747, 'normal': 748, 'record': 749, 'missing': 750, '15': 751, 'thousand': 752, 'cat': 753, 'area': 754, 'hmm': 755, 'bet': 756, 'holding': 757, 'theyve': 758, 'fit': 759, 'bank': 760, 'jump': 761, 'cell': 762, 'appreciate': 763, 'officer': 764, 'theyll': 765, 'pop': 766, 'dino': 767, 'driver': 768, 'sort': 769, 'beat': 770, 'ya': 771, 'teeth': 772, 'detective': 773, 'words': 774, 'couch': 775, 'fucked': 776, 'wonderful': 777, 'careful': 778, 'mountain': 779, 'pack': 780, 'nick': 781, 'martial': 782, 'francisco': 783, 'given': 784, 'likes': 785, 'meant': 786, 'short': 787, 'act': 788, 'respect': 789, 'leaving': 790, 'park': 791, 'feelings': 792, 'building': 793, 'strong': 794, 'america': 795, 'green': 796, 'ran': 797, 'taught': 798, 'bloody': 799, 'interested': 800, 'pregnant': 801, 'seconds': 802, 'accident': 803, 'bottle': 804, 'along': 805, 'ball': 806, 'parents': 807, 'protect': 808, 'dads': 809, 'quiet': 810, 'fly': 811, 'american': 812, 'marshall': 813, 'answer': 814, 'red': 815, 'hearing': 816, 'mistake': 817, 'goodbye': 818, 'birthday': 819, 'seemed': 820, 'forgot': 821, 'sword': 822, 'mustve': 823, 'department': 824, 'return': 825, 'lives': 826, 'apparently': 827, 'truck': 828, 'seat': 829, 'stopped': 830, 'forever': 831, 'certain': 832, 'train': 833, 'turned': 834, 'shall': 835, 'favor': 836, 'tape': 837, 'fill': 838, 'honestly': 839, 'bullshit': 840, 'apologize': 841, 'magic': 842, 'hill': 843, 'suit': 844, 'drinking': 845, 'huge': 846, 'test': 847, 'battle': 848, 'babe': 849, 'bigger': 850, 'butt': 851, 'san': 852, 'ronan': 853, 'quill': 854, 'according': 855, 'completely': 856, 'pressure': 857, 'clearly': 858, 'join': 859, 'george': 860, 'meredith': 861, 'dollars': 862, 'state': 863, 'spend': 864, 'grey': 865, 'quit': 866, 'super': 867, 'putting': 868, 'group': 869, 'henry': 870, 'pounds': 871, 'eh': 872, 'stick': 873, 'han': 874, 'blow': 875, 'dream': 876, 'cop': 877, 'country': 878, 'count': 879, 'lawyer': 880, 'beer': 881, 'saving': 882, 'upon': 883, 'month': 884, 'opportunity': 885, 'expecting': 886, 'using': 887, 'ears': 888, 'hat': 889, 'beast': 890, 'numbers': 891, 'bus': 892, 'beauty': 893, '11': 894, 'roger': 895, 'susan': 896, 'born': 897, 'sign': 898, 'gate': 899, 'tree': 900, 'smell': 901, '2': 902, 'forward': 903, 'crime': 904, 'general': 905, 'list': 906, 'contact': 907, 'private': 908, 'logan': 909, 'pants': 910, 'realize': 911, 'longer': 912, 'attention': 913, '50': 914, 'eating': 915, 'gift': 916, 'rich': 917, 'guilty': 918, 'bucks': 919, 'boss': 920, 'ride': 921, 'sandra': 922, 'hed': 923, 'credit': 924, 'cup': 925, 'rain': 926, 'angry': 927, 'asleep': 928, 'nose': 929, 'seven': 930, 'field': 931, 'deserve': 932, 'grow': 933, 'sleeping': 934, 'named': 935, 'owe': 936, 'manny': 937, 'president': 938, 'tired': 939, 'unless': 940, 'sean': 941, 'sad': 942, 'fair': 943, 'sam': 944, 'dark': 945, 'chris': 946, 'trauma': 947, 'ice': 948, 'ashleigh': 949, 'bree': 950, 'women': 951, 'notice': 952, 'floor': 953, 'apartment': 954, 'expect': 955, 'breaking': 956, 'worst': 957, 'professional': 958, 'razor': 959, 'runs': 960, 'dance': 961, 'throwing': 962, 'flying': 963, 'billy': 964, 'fighting': 965, 'stage': 966, 'eye': 967, 'lying': 968, 'hitting': 969, 'clue': 970, 'advised': 971, 'heading': 972, 'hole': 973, 'biggest': 974, 'flight': 975, 'oleg': 976, 'twice': 977, 'island': 978, 'weight': 979, 'total': 980, 'share': 981, 'questions': 982, 'picked': 983, 'main': 984, 'raise': 985, 'block': 986, 'wall': 987, 'report': 988, 'cars': 989, 'balls': 990, 'speed': 991, 'price': 992, 'worse': 993, 'units': 994, 'across': 995, 'london': 996, 'space': 997, 'file': 998, 'familiar': 999, 'bother': 1000, 'difficult': 1001, 'bull': 1002, 'closer': 1003, 'carrie': 1004, 'suppose': 1005, 'ugh': 1006, 'learned': 1007, 'zou': 1008, 'names': 1009, 'wild': 1010, 'hundred': 1011, 'scene': 1012, 'ou': 1013, 'music': 1014, 'walking': 1015, 'history': 1016, 'learn': 1017, 'ship': 1018, 'upset': 1019, 'trouble': 1020, 'helping': 1021, 'l': 1022, 'sue': 1023, 'proud': 1024, 'outta': 1025, 'harry': 1026, 'bastard': 1027, 'grab': 1028, 'chair': 1029, 'allowed': 1030, 'treat': 1031, 'moms': 1032, 'walter': 1033, 'north': 1034, 'paddy': 1035, 'fresh': 1036, 'brahms': 1037, 'earth': 1038, 'ooh': 1039, 'bailey': 1040, 'solo': 1041, 'arts': 1042, 'amazon': 1043, 'shawn': 1044, 'certainly': 1045, 'tank': 1046, 'sea': 1047, 'cards': 1048, 'keeping': 1049, 'starts': 1050, '60': 1051, 'hanging': 1052, 'weapon': 1053, 'chest': 1054, 'threw': 1055, 'training': 1056, 'lily': 1057, 'hurts': 1058, 'plus': 1059, 'fear': 1060, 'al': 1061, 'onto': 1062, 'major': 1063, 'watched': 1064, 'bottom': 1065, 'finished': 1066, 'broken': 1067, 'tour': 1068, 'judge': 1069, 'driving': 1070, 'lovely': 1071, 'blame': 1072, 'fake': 1073, 'become': 1074, '3': 1075, 'cost': 1076, 'de': 1077, 'wearing': 1078, 'crew': 1079, 'suspect': 1080, 'tea': 1081, 'trap': 1082, 'pocket': 1083, 'scofield': 1084, 'willing': 1085, 'mail': 1086, 'address': 1087, 'letting': 1088, 'voice': 1089, 'idiot': 1090, 'hearts': 1091, 'chose': 1092, 'dancing': 1093, 'singing': 1094, 'nope': 1095, 'quickly': 1096, 'checked': 1097, 'free': 1098, 'barely': 1099, 'present': 1100, 'shift': 1101, 'neither': 1102, 'stories': 1103, 'fathers': 1104, 'aunt': 1105, 'rare': 1106, 'interest': 1107, 'sky': 1108, 'conversation': 1109, 'puppet': 1110, 'pleasure': 1111, 'gold': 1112, 'jumped': 1113, 'calls': 1114, 'table': 1115, 'polly': 1116, 'sake': 1117, 'cats': 1118, 'lied': 1119, 'eight': 1120, 'returned': 1121, 'surprise': 1122, 'personal': 1123, 'danny': 1124, 'film': 1125, 'age': 1126, 'cmon': 1127, 'nowhere': 1128, 'decision': 1129, 'round': 1130, 'wonder': 1131, 'adam': 1132, 'bob': 1133, 'director': 1134, 'acting': 1135, 'orange': 1136, 'crunch': 1137, 'shoe': 1138, 'feels': 1139, 'itd': 1140, 'humans': 1141, 'motion': 1142, 'neck': 1143, 'problems': 1144, 'agent': 1145, 'thanking': 1146, 'ricoletti': 1147, 'mary': 1148, 'ruth': 1149, 'chan': 1150, 'poker': 1151, 'kat': 1152, 'damien': 1153, 'burns': 1154, 'wound': 1155, 'fat': 1156, 'chief': 1157, 'cristina': 1158, 'bleeding': 1159, 'usually': 1160, 'wondering': 1161, 'traffic': 1162, 'cover': 1163, 'built': 1164, 'pen': 1165, 'guest': 1166, 'skin': 1167, 'boring': 1168, 'original': 1169, 'promised': 1170, 'tickets': 1171, 'empty': 1172, 'mitchell': 1173, 'princess': 1174, 'pulled': 1175, 'lights': 1176, 'passed': 1177, 'memory': 1178, 'evidence': 1179, 'rescue': 1180, 'border': 1181, 'keeps': 1182, 'keys': 1183, 'possibly': 1184, 'someones': 1185, 'terms': 1186, 'nuts': 1187, 'dressed': 1188, 'rob': 1189, 'star': 1190, 'bullet': 1191, 'dying': 1192, 'raised': 1193, 'strength': 1194, 'everythings': 1195, 'lines': 1196, 'terrible': 1197, 'famous': 1198, 'fool': 1199, 'page': 1200, 'bear': 1201, 'pictures': 1202, 'responsible': 1203, 'instead': 1204, 'milk': 1205, 'clock': 1206, 'travel': 1207, 'joined': 1208, 'fish': 1209, 'key': 1210, 'fortune': 1211, 'keith': 1212, 'mostly': 1213, 'shame': 1214, 'choices': 1215, 'hoping': 1216, 'writing': 1217, 'letter': 1218, 'perhaps': 1219, 'offer': 1220, 'blown': 1221, 'artist': 1222, 'polish': 1223, 'romantic': 1224, 'covered': 1225, 'sold': 1226, 'staying': 1227, 'burrows': 1228, 'aye': 1229, 'books': 1230, 'experience': 1231, 'attack': 1232, 'congratulations': 1233, 'pet': 1234, 'pizza': 1235, 'radio': 1236, 'others': 1237, 'gosh': 1238, 'french': 1239, 'bought': 1240, 'basically': 1241, 'peace': 1242, 'involved': 1243, 'somehow': 1244, 'speech': 1245, 'central': 1246, 'choose': 1247, 'jay': 1248, 'ideas': 1249, 'near': 1250, 'split': 1251, 'games': 1252, 'messed': 1253, 'cheers': 1254, 'market': 1255, 'remind': 1256, 'energy': 1257, 'written': 1258, 'bomb': 1259, 'piano': 1260, 'older': 1261, 'painting': 1262, 'gospel': 1263, 'invited': 1264, 'animals': 1265, 'woods': 1266, 'tie': 1267, 'panda': 1268, 'universe': 1269, '1000': 1270, 'marry': 1271, 'folks': 1272, 'closet': 1273, 'gang': 1274, 'tall': 1275, 'saved': 1276, 'agree': 1277, 'except': 1278, 'mixed': 1279, 'ts': 1280, 'blu': 1281, 'birds': 1282, 'sophia': 1283, 'olegs': 1284, 'blake': 1285, 'ethan': 1286, 'jane': 1287, 'position': 1288, '18': 1289, 'arm': 1290, 'danger': 1291, 'belong': 1292, 'upstairs': 1293, 'shepherd': 1294, 'teach': 1295, 'owen': 1296, 'doctors': 1297, 'motherfucker': 1298, 'cares': 1299, 'knock': 1300, 'form': 1301, 'admit': 1302, 'embarrassing': 1303, 'ome': 1304, 'hide': 1305, 'press': 1306, 'brothers': 1307, 'rather': 1308, 'marriage': 1309, 'simon': 1310, 'awkward': 1311, 'depends': 1312, 'cameras': 1313, 'technically': 1314, 'operation': 1315, 'online': 1316, 'law': 1317, 'opinion': 1318, 'windows': 1319, 'proof': 1320, 'diner': 1321, 'blew': 1322, 'junior': 1323, 'prefer': 1324, 'guessing': 1325, '200': 1326, 'study': 1327, 'wine': 1328, 'vodka': 1329, 'visit': 1330, 'comfortable': 1331, 'crash': 1332, 'copy': 1333, 'engine': 1334, 'locked': 1335, 'gas': 1336, 'failed': 1337, 'howard': 1338, 'plenty': 1339, 'faster': 1340, 'julia': 1341, 'california': 1342, 'necessary': 1343, 'beth': 1344, 'commercial': 1345, 'insane': 1346, 'immediate': 1347, 'switch': 1348, 'b': 1349, 'headed': 1350, 'deep': 1351, 'prove': 1352, 'borrow': 1353, 'lead': 1354, 'within': 1355, 'email': 1356, 'bedroom': 1357, 'track': 1358, 'wet': 1359, 'disappear': 1360, 'impressive': 1361, 'cleaning': 1362, 'innocent': 1363, 'nine': 1364, 'guard': 1365, 'bathroom': 1366, 'doors': 1367, 'item': 1368, 'led': 1369, 'draw': 1370, 'awake': 1371, 'drag': 1372, 'santa': 1373, 'van': 1374, 'ow': 1375, 'guards': 1376, 'spoke': 1377, 'murdered': 1378, 'whered': 1379, 'immediately': 1380, 'action': 1381, 'purse': 1382, 'dirty': 1383, 'store': 1384, 'watson': 1385, 'bees': 1386, 'uncle': 1387, 'mum': 1388, 'solve': 1389, 'desk': 1390, 'corner': 1391, 'grace': 1392, 'auction': 1393, 'shop': 1394, 'relax': 1395, 'lads': 1396, 'winner': 1397, 'drove': 1398, 'whac': 1399, 'neighbors': 1400, 'kiss': 1401, 'rate': 1402, 'rid': 1403, 'thief': 1404, 'hero': 1405, 'piss': 1406, 'heads': 1407, 'mo': 1408, '6': 1409, 'apologies': 1410, 'mad': 1411, 'illegal': 1412, 'joking': 1413, 'research': 1414, 'monster': 1415, 'darling': 1416, 'robin': 1417, 'correct': 1418, 'brave': 1419, 'queen': 1420, 'sing': 1421, 'oil': 1422, 'literally': 1423, 'arrest': 1424, 'buyers': 1425, 'boom': 1426, 'mistakes': 1427, 'mommy': 1428, 'doll': 1429, 'ruin': 1430, 'powerful': 1431, 'third': 1432, 'horn': 1433, 'cancer': 1434, 'candy': 1435, 'claire': 1436, 'nobodys': 1437, 'guns': 1438, 'career': 1439, 'suddenly': 1440, 'fallen': 1441, 'gay': 1442, 'freak': 1443, 'destroy': 1444, 'loves': 1445, 'football': 1446, 'paul': 1447, 'type': 1448, 'percent': 1449, 'plays': 1450, 'land': 1451, 'linda': 1452, 'lamotte': 1453, 'stone': 1454, 'note': 1455, 'nearly': 1456, '5': 1457, 'kragle': 1458, 'tub': 1459, 'ralph': 1460, 'dogs': 1461, 'belongs': 1462, 'surgery': 1463, 'wishes': 1464, 'hadnt': 1465, 'south': 1466, 'pissed': 1467, 'pm': 1468, 'service': 1469, 'laugh': 1470, 'karev': 1471, 'lab': 1472, 'breath': 1473, 'shooting': 1474, 'often': 1475, 'attractive': 1476, 'sharp': 1477, 'rude': 1478, 'prepared': 1479, 'missed': 1480, 'hurry': 1481, 'internet': 1482, 'design': 1483, 'hardly': 1484, 'arms': 1485, 'rule': 1486, 'ira': 1487, 'grateful': 1488, 'image': 1489, 'kills': 1490, 'yard': 1491, 'west': 1492, 'silly': 1493, 'whatd': 1494, 'appointment': 1495, 'changes': 1496, 'taste': 1497, 'bargain': 1498, 'repeat': 1499, 'loud': 1500, 'remain': 1501, 'noise': 1502, 'hits': 1503, 'university': 1504, 'offered': 1505, 'evening': 1506, 'subject': 1507, 'parts': 1508, 'understood': 1509, 'benny': 1510, 'messing': 1511, '800': 1512, 'states': 1513, 'wings': 1514, 'dispatch': 1515, 'believed': 1516, 'puts': 1517, 'female': 1518, 'risk': 1519, 'meal': 1520, 'suspects': 1521, 'gotten': 1522, 'emails': 1523, 'program': 1524, 'breathing': 1525, 'russians': 1526, 'lawyers': 1527, 'lately': 1528, 'neptune': 1529, 'showing': 1530, 'bastards': 1531, 'ruby': 1532, 'sec': 1533, 'grown': 1534, 'murderer': 1535, 'mama': 1536, 'talent': 1537, 'monkeys': 1538, 'cake': 1539, 'afternoon': 1540, 'confession': 1541, 'sentence': 1542, 'loyalty': 1543, 'partner': 1544, 'shed': 1545, 'holy': 1546, 'everywhere': 1547, 'backup': 1548, 'site': 1549, 'club': 1550, 'maam': 1551, 'stole': 1552, 'wrapped': 1553, 'robbie': 1554, 'theft': 1555, 'situation': 1556, 'wrote': 1557, 'exact': 1558, 'imagination': 1559, 'knocked': 1560, 'likely': 1561, 'indeed': 1562, 'stomach': 1563, 'rush': 1564, 'puppets': 1565, 'nervous': 1566, 'loving': 1567, 'highly': 1568, 'chestnut': 1569, 'filthy': 1570, '25': 1571, 'brilliant': 1572, 'theory': 1573, '90': 1574, 'emergency': 1575, 'yelling': 1576, 'east': 1577, 'river': 1578, 'howd': 1579, 'robyn': 1580, 'rough': 1581, 'complicated': 1582, 'mmmhmm': 1583, 'knife': 1584, 'pills': 1585, 'closed': 1586, 'checking': 1587, 'apology': 1588, 'truly': 1589, 'vibe': 1590, 'earned': 1591, 'defense': 1592, 'whisky': 1593, 'double': 1594, 'range': 1595, 'view': 1596, '1150000': 1597, 'common': 1598, 'zero': 1599, 'ike': 1600, 'sweetheart': 1601, 'legs': 1602, 'sugar': 1603, 'turning': 1604, 'ted': 1605, 'photo': 1606, 'weather': 1607, 'ways': 1608, 'francie': 1609, 'chinese': 1610, 'somebodys': 1611, 'dating': 1612, 'whip': 1613, 'although': 1614, 'escape': 1615, 'damage': 1616, 'ms': 1617, 'warrior': 1618, 'shake': 1619, 'jason': 1620, 'families': 1621, 'growing': 1622, 'kick': 1623, 'pure': 1624, 'turns': 1625, 'mmm': 1626, 'church': 1627, 'begin': 1628, 'shouldve': 1629, 'jacket': 1630, 'sport': 1631, 'daniel': 1632, 'trial': 1633, 'property': 1634, 'ridiculous': 1635, 'liked': 1636, 'fixed': 1637, 'rocks': 1638, 'toast': 1639, 'roy': 1640, 'ifs': 1641, 'opening': 1642, 'bawk': 1643, 'process': 1644, 'dragons': 1645, 'steven': 1646, 'elbow': 1647, 'enter': 1648, 'fraud': 1649, 'support': 1650, 'stopping': 1651, 'jewel': 1652, 'access': 1653, 'spaceship': 1654, 'loose': 1655, 'ended': 1656, 'shirt': 1657, 'quinn': 1658, 'jacob': 1659, 'profile': 1660, 'orb': 1661, 'terminator': 1662, 'lion': 1663, 'comer': 1664, 'hr': 1665, 'confused': 1666, 'angle': 1667, 'investigation': 1668, 'hungry': 1669, 'mix': 1670, 'progress': 1671, 'nah': 1672, 'saturday': 1673, 'junk': 1674, 'sloan': 1675, 'due': 1676, 'easily': 1677, 'survive': 1678, 'losing': 1679, 'torres': 1680, 'heavy': 1681, 'regret': 1682, 'reputation': 1683, 'dry': 1684, 'stretch': 1685, 'jail': 1686, 'remembered': 1687, 'results': 1688, 'webber': 1689, 'ew': 1690, 'hells': 1691, 'wounds': 1692, 'prepare': 1693, 'incredible': 1694, 'former': 1695, 'successful': 1696, 'whyd': 1697, 'gives': 1698, 'bath': 1699, 'beyond': 1700, 'punch': 1701, 'champion': 1702, 'ignore': 1703, 'weak': 1704, 'introduce': 1705, 'exciting': 1706, 'shape': 1707, 'project': 1708, 'sensitive': 1709, 'matters': 1710, 'reaction': 1711, 'warn': 1712, 'map': 1713, 'sheet': 1714, 'social': 1715, 'joining': 1716, 'actress': 1717, 'direct': 1718, 'statement': 1719, 'strike': 1720, 'destroyed': 1721, 'palace': 1722, 'following': 1723, 'fried': 1724, 'chicken': 1725, 'stairs': 1726, 'pretend': 1727, 'several': 1728, 'drama': 1729, 'taliban': 1730, 'hotel': 1731, 'expensive': 1732, 'vehicle': 1733, 'dies': 1734, 'tower': 1735, 'f': 1736, 'rod': 1737, 'shh': 1738, 'medical': 1739, 'grade': 1740, 'doc': 1741, 'suffering': 1742, 'became': 1743, 'suck': 1744, 'records': 1745, 'eventually': 1746, 'pile': 1747, 'drill': 1748, 'speaking': 1749, 'wherever': 1750, 'unlike': 1751, 'lifes': 1752, 'apart': 1753, 'emily': 1754, 'pete': 1755, 'brewster': 1756, '900': 1757, 'ford': 1758, 'exist': 1759, 'joe': 1760, 'dropping': 1761, 'leon': 1762, 'drivers': 1763, 'sucks': 1764, 'forgive': 1765, 'sudden': 1766, 'arrow': 1767, 'route': 1768, 'footage': 1769, 'disappeared': 1770, 'killer': 1771, 'purpose': 1772, 'surprised': 1773, 'impressed': 1774, 'safer': 1775, 'arrived': 1776, 'golden': 1777, 'texas': 1778, 'flies': 1779, 'pit': 1780, 'bridge': 1781, 'pal': 1782, 'leaves': 1783, 'planning': 1784, '500': 1785, 'stuart': 1786, 'russian': 1787, 'reach': 1788, 'answering': 1789, '14': 1790, 'echolls': 1791, 'bonnie': 1792, 'celebrity': 1793, 'streets': 1794, 'alarm': 1795, 'marrying': 1796, 'difference': 1797, 'bike': 1798, 'awful': 1799, 'nerve': 1800, 'finding': 1801, 'signed': 1802, 'waited': 1803, '21': 1804, 'courage': 1805, 'aw': 1806, 'sources': 1807, 'web': 1808, 'bodies': 1809, 'carrot': 1810, 'tops': 1811, 'tells': 1812, 'goodness': 1813, 'kevin': 1814, 'japan': 1815, 'marks': 1816, 'breakfast': 1817, '40': 1818, 'smoke': 1819, 'accepted': 1820, 'german': 1821, 'success': 1822, 'whenever': 1823, 'ie': 1824, 'considered': 1825, 'advice': 1826, 'lincoln': 1827, 'dealing': 1828, 'bite': 1829, 'ate': 1830, 'altmann': 1831, 'prisoners': 1832, 'affair': 1833, 'allow': 1834, 'risks': 1835, 'maserati': 1836, 'especially': 1837, 'nina': 1838, 'however': 1839, 'stable': 1840, 'mcdonald': 1841, 'rock': 1842, 'vegas': 1843, 'couldve': 1844, 'bro': 1845, 'dragged': 1846, 'riders': 1847, 'andrew': 1848, 'surgeon': 1849, 'breathe': 1850, 'fucks': 1851, 'bottles': 1852, 'malt': 1853, 'mill': 1854, 'doubt': 1855, 'happiness': 1856, 'leads': 1857, 'knee': 1858, 'search': 1859, 'created': 1860, 'cowboy': 1861, 'cattle': 1862, 'competition': 1863, 'spare': 1864, 'halfway': 1865, 'traveling': 1866, 'coast': 1867, 'sexy': 1868, 'recall': 1869, 'model': 1870, 'seurat': 1871, 'drunk': 1872, 'interpol': 1873, 'kings': 1874, 'oi': 1875, 'decent': 1876, 'carbon': 1877, 'proper': 1878, 'holds': 1879, 'beginning': 1880, 'trees': 1881, 'gates': 1882, 'southjet': 1883, '227': 1884, 'margaret': 1885, 'brace': 1886, 'impact': 1887, 'rooms': 1888, 'duty': 1889, 'polite': 1890, 'sends': 1891, 'spirit': 1892, 'village': 1893, 'lake': 1894, 'divorce': 1895, 'shark': 1896, 'sisters': 1897, 'shifu': 1898, 'lap': 1899, 'curse': 1900, 'campus': 1901, 'mob': 1902, 'soul': 1903, 'science': 1904, 'airport': 1905, 'roll': 1906, 'sharing': 1907, 'luciano': 1908, 'mass': 1909, 'pulse': 1910, 'gentle': 1911, 'robbins': 1912, 'discuss': 1913, 'bringing': 1914, 'court': 1915, 'preston': 1916, 'player': 1917, 'movies': 1918, 'kicked': 1919, 'march': 1920, 'julie': 1921, 'spell': 1922, 'jexi': 1923, 'yoga': 1924, 'coach': 1925, 'performance': 1926, 'dunphy': 1927, 'system': 1928, 'garbage': 1929, 'delivery': 1930, 'government': 1931, 'fantastic': 1932, 'sample': 1933, 'ray': 1934, 'relevant': 1935, 'jungle': 1936, 'fanny': 1937, 'glitter': 1938, 'bride': 1939, 'guilt': 1940, 'level': 1941, 'obvious': 1942, 'suicide': 1943, 'collins': 1944, 'sacrifice': 1945, 'professor': 1946, 'howell': 1947, 'nancy': 1948, 'phoebe': 1949, 'prophecy': 1950, 'zap': 1951, 'wind': 1952, 'silvana': 1953, 'testify': 1954, 'trish': 1955, 'roland': 1956, 'board': 1957, 'interview': 1958, '4': 1959, 'rollie': 1960, 'dreams': 1961, 'cab': 1962, 'surface': 1963, 'cutting': 1964, 'erm': 1965, 'tapes': 1966, 'pump': 1967, 'glitch': 1968, 'stevie': 1969, 'butler': 1970, 'sand': 1971, 'noelle': 1972, 'irina': 1973, 'medal': 1974, 'turbo': 1975, 'paris': 1976, 'revenge': 1977, 'sauce': 1978, 'uses': 1979, 'cooking': 1980, 'wide': 1981, 'nest': 1982, 'begging': 1983, 'horrible': 1984, 'scary': 1985, 'bitch': 1986, 'derek': 1987, 'avery': 1988, 'selfish': 1989, 'snipers': 1990, 'ben': 1991, 'pardon': 1992, 'hunt': 1993, 'kepner': 1994, 'patients': 1995, 'er': 1996, 'scrubbing': 1997, 'sadly': 1998, 'punches': 1999, 'glass': 2000, 'knees': 2001, 'script': 2002, 'younger': 2003, 'shopping': 2004, 'cry': 2005, 'surely': 2006, 'planet': 2007, 'exploring': 2008, 'players': 2009, 'therell': 2010, 'friendly': 2011, 'local': 2012, 'dropped': 2013, 'material': 2014, 'suggest': 2015, 'release': 2016, 'mood': 2017, 'criminal': 2018, 'announcement': 2019, 'nature': 2020, 'official': 2021, 'demand': 2022, 'devils': 2023, 'miracle': 2024, 'period': 2025, 'brooklyn': 2026, 'degrees': 2027, 'degree': 2028, 'catholic': 2029, 'flat': 2030, 'legitimate': 2031, 'account': 2032, 'sets': 2033, 'post': 2034, 'armed': 2035, 'trapped': 2036, 'towards': 2037, 'wheel': 2038, 'agreed': 2039, 'smack': 2040, 'inmates': 2041, 'cells': 2042, '300': 2043, 'fence': 2044, 'pig': 2045, 'teddy': 2046, 'higher': 2047, 'pipe': 2048, 'sink': 2049, 'locations': 2050, 'tip': 2051, 'coordinates': 2052, 'math': 2053, 'explosion': 2054, 'burned': 2055, 'constantly': 2056, 'discovered': 2057, 'waitress': 2058, 'sun': 2059, 'expected': 2060, 'mount': 2061, 'kisco': 2062, 'liar': 2063, 'maverick': 2064, 'cart': 2065, 'anita': 2066, 'earlier': 2067, 'lifetime': 2068, 'cheating': 2069, 'cobra': 2070, 'fancy': 2071, 'ingram': 2072, 'bid': 2073, 'fan': 2074, 'convinced': 2075, 'importantly': 2076, 'invite': 2077, 'low': 2078, '45': 2079, 'skills': 2080, 'wealthy': 2081, 'detroit': 2082, 'todays': 2083, 'tracking': 2084, 'shoulder': 2085, 'plate': 2086, 'sending': 2087, 'racing': 2088, 'british': 2089, 'comfort': 2090, 'v': 2091, 'fifth': 2092, 'located': 2093, 'fourth': 2094, 'per': 2095, 'remaining': 2096, 'follows': 2097, 'followed': 2098, 'trace': 2099, 'self': 2100, 'thrilled': 2101, 'potential': 2102, 'mentioned': 2103, 'phones': 2104, 'sheriff': 2105, 'aware': 2106, 'tragedy': 2107, 'slide': 2108, 'collection': 2109, '09er': 2110, 'location': 2111, 'treasure': 2112, 'teacher': 2113, 'responsibility': 2114, 'convicted': 2115, 'blowing': 2116, 'lieutenant': 2117, 'confirmed': 2118, 'senior': 2119, 'knight': 2120, 'carries': 2121, 'burn': 2122, 'tests': 2123, 'entrance': 2124, 'freaking': 2125, 'giant': 2126, 'frame': 2127, 'glasses': 2128, 'hidden': 2129, 'vincent': 2130, 'earn': 2131, 'sometime': 2132, 'including': 2133, 'gia': 2134, 'photos': 2135, 'flew': 2136, 'hook': 2137, 'concerned': 2138, 'bright': 2139, 'rap': 2140, 'ruined': 2141, 'arizona': 2142, 'nights': 2143, 'victim': 2144, 'fans': 2145, 'gym': 2146, 'pickles': 2147, 'ruins': 2148, 'wasting': 2149, 'employee': 2150, 'restaurant': 2151, 'hung': 2152, 'suspicious': 2153, 'borrowed': 2154, 'logic': 2155, 'mycroft': 2156, 'ho': 2157, 'places': 2158, 'scratch': 2159, 'opened': 2160, 'signature': 2161, 'shock': 2162, 'stephen': 2163, 'episode': 2164, 'shoved': 2165, 'hm': 2166, 'normally': 2167, 'forest': 2168, 'chick': 2169, 'shots': 2170, 'enemies': 2171, 'girlfriends': 2172, 'managed': 2173, 'changing': 2174, 'companys': 2175, 'egg': 2176, 'carry': 2177, 'personality': 2178, 'asset': 2179, 'summer': 2180, 'practically': 2181, 'trophy': 2182, 'blah': 2183, 'flag': 2184, 'monkey': 2185, 'knowing': 2186, 'uncomfortable': 2187, 'aneurysm': 2188, 'e': 2189, 'prescriptions': 2190, 'pray': 2191, 'juanita': 2192, 'session': 2193, 'loosen': 2194, 'unfortunately': 2195, 'soft': 2196, 'fired': 2197, 'renee': 2198, 'gettin': 2199, 'assistant': 2200, 'protection': 2201, 'healthy': 2202, 'everybodys': 2203, 'greg': 2204, 'accept': 2205, 'valley': 2206, 'suggestion': 2207, 'gloria': 2208, 'meaning': 2209, '80': 2210, 'dunno': 2211, 'chop': 2212, 'desperate': 2213, 'answers': 2214, 'despite': 2215, 'steps': 2216, 'celebrate': 2217, 'passing': 2218, 'mexican': 2219, 'anthony': 2220, 'eve': 2221, 'cask': 2222, 'score': 2223, 'dig': 2224, 'secretary': 2225, 'lock': 2226, 'walt': 2227, 'w': 2228, 'estate': 2229, 'mission': 2230, 'powers': 2231, 'basement': 2232, 'wand': 2233, 'remote': 2234, 'reading': 2235, 'calvin': 2236, 'noticed': 2237, 'internal': 2238, 'genius': 2239, 'reality': 2240, 'disappointed': 2241, 'writer': 2242, 'dwight': 2243, 'moves': 2244, 'drug': 2245, 'deny': 2246, 'invented': 2247, 'manager': 2248, 'gary': 2249, 'actual': 2250, 'privilege': 2251, 'size': 2252, 'backpack': 2253, 'regular': 2254, 'pilots': 2255, 'poke': 2256, 'hurting': 2257, 'mothers': 2258, 'nickys': 2259, 'badass': 2260, 'differently': 2261, 'landed': 2262, 'staring': 2263, 'progressive': 2264, 'copies': 2265, 'laying': 2266, 'pages': 2267, 'lisa': 2268, 'walks': 2269, 'wil': 2270, 'bullets': 2271, 'departure': 2272, 'elevator': 2273, 'dive': 2274, 'gear': 2275, 'dump': 2276, 'fuel': 2277, 'behalf': 2278, 'stroke': 2279, 'buying': 2280, 'bars': 2281, 'prayed': 2282, 'kingdom': 2283, 'dare': 2284, 'personally': 2285, 'chosen': 2286, 'peoples': 2287, 'porch': 2288, 'cigarette': 2289, 'advantage': 2290, 'continue': 2291, 'ought': 2292, 'tiny': 2293, 'iits': 2294, 'po': 2295, 'focus': 2296, 'orders': 2297, 'bug': 2298, 'bloom': 2299, 'iron': 2300, 'wounded': 2301, 'bachelor': 2302, 'ocean': 2303, 'resident': 2304, 'beach': 2305, 'largest': 2306, 'picking': 2307, 'neighborhood': 2308, 'inform': 2309, 'exhausted': 2310, 'philips': 2311, 'happytime': 2312, 'jeez': 2313, 'edwards': 2314, 'whoever': 2315, 'incoming': 2316, 'smash': 2317, 'whoo': 2318, 'pears': 2319, 'jimmy': 2320, 'trick': 2321, 'charity': 2322, 'hunter': 2323, 'ordered': 2324, 'stevens': 2325, 'lousy': 2326, 'decide': 2327, 'emma': 2328, 'hire': 2329, 'holiday': 2330, 'yikes': 2331, 'celia': 2332, 'caused': 2333, 'soldiers': 2334, 'sucre': 2335, 'platoon': 2336, 'remove': 2337, 'cult': 2338, 'gurney': 2339, 'biting': 2340, 'karen': 2341, 'reminds': 2342, 'apple': 2343, 'tis': 2344, 'witness': 2345, 'gods': 2346, 'evil': 2347, 'experiment': 2348, 'souls': 2349, 'signs': 2350, 'pieces': 2351, 'ashamed': 2352, 'wash': 2353, 'destiny': 2354, 'crisis': 2355, 'winning': 2356, 'symbol': 2357, 'roxy': 2358, 'sat': 2359, 'fighter': 2360, 'hornet': 2361, 'spin': 2362, 'becomes': 2363, 'enemy': 2364, 'shred': 2365, 'puzzle': 2366, 'fragments': 2367, 'identity': 2368, 'kaplan': 2369, 'print': 2370, 'skip': 2371, 'songs': 2372, 'crying': 2373, 'walls': 2374, 'senses': 2375, 'excalibur': 2376, 'moons': 2377, 'attitude': 2378, 'assume': 2379, 'solving': 2380, 'emelia': 2381, 'moriarty': 2382, 'sherlock': 2383, 'agreement': 2384, 'riding': 2385, 'somethings': 2386, 'wifes': 2387, 'attorney': 2388, 'language': 2389, 'chariot': 2390, 'spoon': 2391, 'dang': 2392, 'memories': 2393, 'embarrassed': 2394, 'iraq': 2395, 'resistance': 2396, 'cohaagen': 2397, 'instructions': 2398, 'emmet': 2399, 'ye': 2400, 'superman': 2401, 'construction': 2402, 'dickens': 2403, 'cream': 2404, 'pretending': 2405, 'laketown': 2406, 'command': 2407, 'pledge': 2408, 'coin': 2409, 'religious': 2410, 'bryn': 2411, 'military': 2412, 'lips': 2413, 'comforting': 2414, 'slowly': 2415, 'nailed': 2416, 'harder': 2417, 'yardley': 2418, 'carol': 2419, 'interviewing': 2420, 'gatsby': 2421, 'dated': 2422, 'version': 2423, 'journalist': 2424, 'vega': 2425, 'dumb': 2426, 'lous': 2427, 'option': 2428, 'fhil': 2429, 'connors': 2430, 'detector': 2431, 'grabbed': 2432, 'tunnel': 2433, 'morgan': 2434, 'satan': 2435, 'z': 2436, 'jury': 2437, 'comms': 2438, 'cruise': 2439, 'natalie': 2440, 'recorded': 2441, 'earthquake': 2442, 'dam': 2443, 'community': 2444, 'drilling': 2445, 'courtney': 2446, 'fritz': 2447, 'waddell': 2448, 'deaf': 2449, 'wreckit': 2450, 'springs': 2451, 'helped': 2452, 'chunks': 2453, 'ex': 2454, 'whining': 2455, 'pool': 2456, 'gps': 2457, 'solar': 2458, 'woke': 2459, 'planes': 2460, 'tumor': 2461, 'observe': 2462, 'counting': 2463, 'recovery': 2464, 'prep': 2465, 'tight': 2466, 'lots': 2467, 'reasons': 2468, 'impression': 2469, 'wanting': 2470, 'update': 2471, 'thoughts': 2472, 'comment': 2473, 'fights': 2474, 'shits': 2475, 'lightning': 2476, 'peg': 2477, 'height': 2478, 'turkey': 2479, 'male': 2480, 'toe': 2481, 'recording': 2482, 'pussy': 2483, 'mcdonnen': 2484, 'boxing': 2485, 'meat': 2486, 'delicious': 2487, 'gambling': 2488, 'foreman': 2489, 'mermaid': 2490, 'costume': 2491, 'occurred': 2492, 'ay': 2493, 'stores': 2494, 'tone': 2495, 'standards': 2496, 'aspect': 2497, 'obit': 2498, 'vt': 2499, 'global': 2500, 'briefed': 2501, 'effects': 2502, 'threatened': 2503, 'guardian': 2504, 'buzz': 2505, 'mi5': 2506, 'alert': 2507, 'confident': 2508, 'brown': 2509, 'broadcast': 2510, 'worlds': 2511, 'guide': 2512, 'peed': 2513, 'phrase': 2514, 'sophies': 2515, 'tiffany': 2516, 'legit': 2517, 'courtroom': 2518, 'gimme': 2519, 'unknown': 2520, 'businessman': 2521, 'passenger': 2522, '104': 2523, 'kilos': 2524, 'transport': 2525, 'frank': 2526, 'transfer': 2527, 'poison': 2528, 'switched': 2529, 'cons': 2530, 'heat': 2531, 'awing': 2532, 'interests': 2533, 'rep': 2534, 'easier': 2535, 'trash': 2536, 'co': 2537, 'legally': 2538, 'meds': 2539, 'shutting': 2540, 'g': 2541, 'infections': 2542, 'negative': 2543, 'experiencing': 2544, 'gorilla': 2545, 'bay': 2546, 'rizzo': 2547, 'holes': 2548, 'english': 2549, 'tick': 2550, 'customer': 2551, 'recognize': 2552, 'friday': 2553, 'pot': 2554, 'monarch': 2555, 'vision': 2556, 'manhattan': 2557, 'status': 2558, 'grocery': 2559, 'petey': 2560, 'mall': 2561, 'england': 2562, 'surprises': 2563, 'accent': 2564, 'legal': 2565, 'united': 2566, '180': 2567, 'finn': 2568, 'heels': 2569, 'overnight': 2570, 'eagle': 2571, 'reminder': 2572, 'romeo': 2573, 'channel': 2574, 'helicopter': 2575, 'mustang': 2576, 'westbound': 2577, 'inbox': 2578, 'gorgeous': 2579, 'ghost': 2580, 'wing': 2581, 'bounty': 2582, 'shower': 2583, 'johnny': 2584, 'approaching': 2585, '150': 2586, 'rolling': 2587, 'entering': 2588, 'consider': 2589, 'lethal': 2590, 'force': 2591, 'mile': 2592, '185': 2593, 'pd': 2594, 'scylla': 2595, 'calendar': 2596, '24': 2597, 'los': 2598, '400': 2599, 'precaution': 2600, 'ip': 2601, 'server': 2602, 'agency': 2603, 'oxygen': 2604, 'linc': 2605, 'entry': 2606, 'li': 2607, 'hooked': 2608, 'chasing': 2609, 'inspection': 2610, 'fifty': 2611, 'unique': 2612, 'fifteen': 2613, 'represent': 2614, 'stars': 2615, 'walked': 2616, 'students': 2617, 'minor': 2618, 'monday': 2619, 'porcupine': 2620, 'boo': 2621, 'finals': 2622, 'blade': 2623, 'shelly': 2624, 'texting': 2625, 'partying': 2626, 'slipped': 2627, 'therapy': 2628, 'sheriffs': 2629, 'clown': 2630, 'sports': 2631, 'delight': 2632, 'vagina': 2633, 'investment': 2634, 'simply': 2635, 'kicks': 2636, 'weigh': 2637, 'dedicated': 2638, 'smoking': 2639, 'freaked': 2640, 'cobb': 2641, 'deck': 2642, 'delicate': 2643, 'bloodshed': 2644, 'solid': 2645, 'slept': 2646, 'boylan': 2647, 'described': 2648, 'betty': 2649, '80000': 2650, 'lesson': 2651, 'extremely': 2652, 'skirt': 2653, 'traced': 2654, 'chicago': 2655, '1200': 2656, 'nail': 2657, 'womans': 2658, 'standard': 2659, 'pockets': 2660, 'otherwise': 2661, 'daniels': 2662, 'iive': 2663, 'baker': 2664, 'lessons': 2665, 'portsmouth': 2666, 'pleased': 2667, 'fond': 2668, 'desire': 2669, 'letters': 2670, 'wave': 2671, 'wished': 2672, 'profession': 2673, 'observation': 2674, 'quarter': 2675, 'talented': 2676, 'upside': 2677, 'useful': 2678, 'theatre': 2679, 'devil': 2680, 'hawking': 2681, 'rainbow': 2682, 'pickle': 2683, 'hamish': 2684, 'value': 2685, 'jet': 2686, 'complaining': 2687, 'screw': 2688, 'strapped': 2689, 'wallet': 2690, 'quote': 2691, 'humor': 2692, 'suggesting': 2693, 'setting': 2694, 'object': 2695, 'nasty': 2696, 'match': 2697, 'bagel': 2698, 'massage': 2699, 'forgetting': 2700, 'sail': 2701, 'hiccup': 2702, 'beard': 2703, 'patch': 2704, 'anyhow': 2705, 'charles': 2706, 'hereby': 2707, 'adventure': 2708, 'awfully': 2709, 'creature': 2710, 'eddie': 2711, 'character': 2712, 'fruit': 2713, 'gill': 2714, 'henrys': 2715, 'aaron': 2716, 'butter': 2717, 'slice': 2718, 'effect': 2719, 'queens': 2720, 'hates': 2721, 'manners': 2722, 'jerk': 2723, 'emotional': 2724, 'amen': 2725, 'selling': 2726, 'fantasy': 2727, 'condition': 2728, 'target': 2729, 'disturbed': 2730, 'details': 2731, 'simons': 2732, 'large': 2733, 'slightly': 2734, 'obsessed': 2735, 'jangles': 2736, 'interrupt': 2737, 'ease': 2738, 'ic': 2739, 'anyways': 2740, 'embrace': 2741, 'technology': 2742, 'slip': 2743, 'moon': 2744, 'pie': 2745, 'engagement': 2746, 'grandmother': 2747, 'engaged': 2748, 'furniture': 2749, 'lung': 2750, 'lookin': 2751, 'injuries': 2752, 'square': 2753, 'takin': 2754, 'collect': 2755, 'moneys': 2756, 'violence': 2757, 'fella': 2758, 'cyrus': 2759, 'wise': 2760, 'specifically': 2761, 'joint': 2762, 'suffer': 2763, 'trained': 2764, 'thankful': 2765, 'trail': 2766, 'kidnapping': 2767, 'anthonys': 2768, 'kicking': 2769, 'wee': 2770, 'beautifully': 2771, 'casks': 2772, '100000': 2773, 'steal': 2774, 'volume': 2775, 'oak': 2776, 'albert': 2777, 'soaking': 2778, 'describe': 2779, 'european': 2780, 'smelling': 2781, 'wax': 2782, 'reports': 2783, 'nothings': 2784, 'nd': 2785, 'alarms': 2786, 'occasion': 2787, '980000': 2788, 'centre': 2789, 'cos': 2790, 'supply': 2791, 'forces': 2792, 'bend': 2793, 'shoulders': 2794, 'hurricane': 2795, 'swim': 2796, 'hoped': 2797, 'warrant': 2798, 'sensor': 2799, 'network': 2800, 'miserable': 2801, 'smile': 2802, 'yay': 2803, 'mort': 2804, 'mavbe': 2805, 'dip': 2806, 'kinds': 2807, 'contract': 2808, 'whod': 2809, 'eva': 2810, 'cook': 2811, 'enjoyed': 2812, 'workers': 2813, 'infiltrate': 2814, 'spectacle': 2815, 'birth': 2816, 'dull': 2817, 'risky': 2818, 'nerves': 2819, 'tender': 2820, 'transition': 2821, 'directly': 2822, 'villa': 2823, 'generous': 2824, 'tuesday': 2825, 'porpoise': 2826, 'itinerary': 2827, 'carrying': 2828, 'ultimately': 2829, 'brush': 2830, 'focused': 2831, 'virgil': 2832, 'warning': 2833, 'underneath': 2834, 'greedy': 2835, 'brick': 2836, 'experts': 2837, 'noodles': 2838, 'committed': 2839, 'murphy': 2840, 'brains': 2841, 'received': 2842, 'cvs': 2843, 'ticket': 2844, 'rise': 2845, 'altitude': 2846, 'pulling': 2847, 'hydraulics': 2848, 'pitch': 2849, 'pumps': 2850, 'brakes': 2851, 'union': 2852, 'booze': 2853, 'nurse': 2854, 'refrigerator': 2855, 'mayday': 2856, 'baseball': 2857, 'barry': 2858, 'event': 2859, 'loss': 2860, '17': 2861, 'confirms': 2862, 'shy': 2863, 'plants': 2864, 'jolly': 2865, 'bless': 2866, 'searching': 2867, 'nanny': 2868, 'u': 2869, 'courtesy': 2870, 'lies': 2871, 'cole': 2872, 'privacy': 2873, 'scare': 2874, 'corpse': 2875, 'skull': 2876, 'dolls': 2877, 'snap': 2878, 'swing': 2879, 'thrown': 2880, 'accomplish': 2881, 'cupcake': 2882, 'vet': 2883, 'spoken': 2884, 'jaimie': 2885, 'cocktail': 2886, 'hall': 2887, 'teaching': 2888, 'dumplings': 2889, 'chi': 2890, 'pandas': 2891, 'chickens': 2892, 'charts': 2893, 'costumes': 2894, 'signal': 2895, 'google': 2896, 'vulnerable': 2897, 'dinosaur': 2898, 'roots': 2899, 'centuries': 2900, 'lame': 2901, 'starving': 2902, 'seats': 2903, 'steam': 2904, 'hutch': 2905, 'raising': 2906, 'mm': 2907, 'nobel': 2908, 'earl': 2909, 'childhood': 2910, 'prize': 2911, 'boarding': 2912, 'apply': 2913, 'toy': 2914, 'murders': 2915, 'peter': 2916, 'partners': 2917, 'silence': 2918, 'struggling': 2919, 'rio': 2920, 'watches': 2921, 'april': 2922, 'tenor': 2923, 'tension': 2924, 'package': 2925, 'bladder': 2926, 'roommate': 2927, 'burning': 2928, 'quest': 2929, 'seattle': 2930, 'epi': 2931, 'persons': 2932, 'attending': 2933, 'assisting': 2934, 'annie': 2935, 'florida': 2936, 'citizen': 2937, 'traditional': 2938, 'dressing': 2939, 'alexander': 2940, 'tf': 2941, 'ignoring': 2942, 'torturing': 2943, 'bill': 2944, 'procedure': 2945, 'syphilis': 2946, 'operating': 2947, 'stan': 2948, 'jewish': 2949, 'promises': 2950, 'guarantee': 2951, 'halloween': 2952, '16': 2953, 'porter': 2954, 'nap': 2955, 'owner': 2956, 'separated': 2957, 'kay': 2958, 'jobryeth': 2959, 'asses': 2960, 'century': 2961, 'dee': 2962, 'angels': 2963, 'hid': 2964, 'inspire': 2965, 'diamonds': 2966, 'points': 2967, 'lists': 2968, 'salad': 2969, 'sack': 2970, 'natural': 2971, 'hairy': 2972, 'bud': 2973, 'lisp': 2974, 'thousands': 2975, 'schools': 2976, 'smug': 2977, 'rover': 2978, 'consequences': 2979, 'thatll': 2980, 'express': 2981, 'assholes': 2982, 'sonny': 2983, 'leader': 2984, 'blast': 2985, 'tigers': 2986, 'wipe': 2987, 'investigate': 2988, 'insurance': 2989, 'decisions': 2990, 'nelson': 2991, 'tacky': 2992, 'stephanie': 2993, 'trucks': 2994, 'camp': 2995, 'emotions': 2996, 'fetch': 2997, 'orson': 2998, 'blackmail': 2999, 'rick': 3000, 'washington': 3001, 'actor': 3002, 'writings': 3003, 'philosophy': 3004, 'hollywood': 3005, 'title': 3006, 'student': 3007, 'product': 3008, 'sentimental': 3009, 'complex': 3010, 'recent': 3011, 'h': 3012, 'metal': 3013, 'samples': 3014, 'bone': 3015, 'computer': 3016, 'identify': 3017, 'shredder': 3018, 'julius': 3019, 'quid': 3020, 'quo': 3021, 'rent': 3022, 'fashion': 3023, 'billion': 3024, 'settle': 3025, 'eggshell': 3026, 'perspective': 3027, 'grants': 3028, 'galaxy': 3029, 'trusting': 3030, 'priya': 3031, 'suitable': 3032, 'cocaine': 3033, 'elliot': 3034, 'adult': 3035, 'chivalric': 3036, 'enterprise': 3037, 'weapons': 3038, 'reached': 3039, 'carnival': 3040, 'tribe': 3041, 'pad': 3042, 'clay': 3043, 'lay': 3044, 'jets': 3045, 'champagne': 3046, 'assured': 3047, 'ghosts': 3048, 'detail': 3049, 'clever': 3050, 'occur': 3051, 'exists': 3052, 'theyd': 3053, 'bucking': 3054, 'screaming': 3055, 'ranch': 3056, 'jealous': 3057, 'closest': 3058, 'began': 3059, 'adrienne': 3060, 'francis': 3061, 'factory': 3062, 'direction': 3063, 'paintings': 3064, 'levinson': 3065, 'andy': 3066, 'detailed': 3067, 'achieved': 3068, 'duck': 3069, 'assets': 3070, '8': 3071, 'rose': 3072, 'activated': 3073, 'series': 3074, 'closure': 3075, 'whend': 3076, 'personnel': 3077, 'teams': 3078, 'chancellor': 3079, 'role': 3080, 'rekall': 3081, 'provide': 3082, 'shifts': 3083, 'tactical': 3084, 'octan': 3085, 'taco': 3086, 'fred': 3087, 'masterbuilder': 3088, 'masterbuilders': 3089, 'bang': 3090, 'torture': 3091, 'cloud': 3092, 'worker': 3093, 'glue': 3094, 'pilot': 3095, 'acceptable': 3096, 'morrissey': 3097, 'trade': 3098, 'loaded': 3099, 'spilled': 3100, 'winter': 3101, 'thorin': 3102, 'gems': 3103, 'aid': 3104, 'reward': 3105, 'struck': 3106, 'forced': 3107, 'dwarves': 3108, 'secretive': 3109, 'grandfather': 3110, 'claim': 3111, 'uhhuh': 3112, 'parachute': 3113, 'strategy': 3114, 'fund': 3115, 'whistler': 3116, 'corn': 3117, 'greatest': 3118, 'et': 3119, 'germans': 3120, 'gall': 3121, 'babies': 3122, 'smiling': 3123, 'officially': 3124, 'stockburn': 3125, 'ezekiel': 3126, 'valentines': 3127, 'engage': 3128, 'diego': 3129, 'saint': 3130, 'owns': 3131, 'alice': 3132, 'squirrel': 3133, 'relieved': 3134, 'drinks': 3135, 'request': 3136, '82': 3137, 'gil': 3138, 'aces': 3139, 'pollard': 3140, 'schedule': 3141, 'japanese': 3142, 'ashley': 3143, 'kelly': 3144, 'charming': 3145, 'passionate': 3146, 'papers': 3147, 'ciao': 3148, 'candle': 3149, 'berlin': 3150, 'understanding': 3151, 'oldest': 3152, 'grind': 3153, 'leak': 3154, '450': 3155, 'justice': 3156, 'threat': 3157, 'placed': 3158, 'commitment': 3159, 'drago': 3160, 'screwed': 3161, 'batteries': 3162, 'source': 3163, 'subjugated': 3164, 'basketball': 3165, 'based': 3166, 'buffalo': 3167, 'cam': 3168, 'retreat': 3169, 'rehab': 3170, 'angel': 3171, 'wednesday': 3172, 'mask': 3173, 'bones': 3174, 'massive': 3175, 'throat': 3176, 'whens': 3177, 'everett': 3178, 'recorder': 3179, 'article': 3180, 'grid': 3181, 'hut': 3182, 'americans': 3183, 'freedom': 3184, 'ambition': 3185, 'extraction': 3186, 'tt': 3187, 'gabys': 3188, 'elevators': 3189, 'bobby': 3190, 'christopher': 3191, 'oceanside': 3192, 'hood': 3193, 'ridge': 3194, 'baldwin': 3195, 'link': 3196, 'satanic': 3197, 'burnett': 3198, 'arabic': 3199, 'radios': 3200, 'axe': 3201, 'ravine': 3202, 'mikes': 3203, '8000': 3204, 'lawrence': 3205, 'quakes': 3206, 'predicting': 3207, 'ollie': 3208, 'clem': 3209, 'intelligence': 3210, 'fascist': 3211, 'scrap': 3212, 'nova': 3213, 'gamora': 3214, 'highend': 3215, 'tightknit': 3216, 'groot': 3217, 'tuxedo': 3218, 'nitro': 3219, 'michaels': 3220, 'brad': 3221, 'kiwi': 3222, 'sex': 3223, 'waffles': 3224, 'solis': 3225, 'sale': 3226, 'dab': 3227, 'dresses': 3228, 'pole': 3229, 'mitzvah': 3230, 'cupcakes': 3231, 'emerson': 3232, 'broadcasts': 3233, 'billiard': 3234, 'tiffin': 3235, 'digging': 3236, 'tire': 3237, 'valve': 3238, 'lambert': 3239, 'cable': 3240, 'trimble': 3241, 'shrek': 3242, 'italian': 3243, 'spaghetti': 3244, 'swimming': 3245, 'flares': 3246, 'battery': 3247, 'oprah': 3248, 'disneyland': 3249, 'random': 3250, 'fits': 3251, 'jackson': 3252, 'yang': 3253, 'psych': 3254, 'dissect': 3255, 'draining': 3256, 'veins': 3257, 'vein': 3258, 'suction': 3259, 'harvard': 3260, 'inappropriate': 3261, 'gallery': 3262, 'approach': 3263, 'denning': 3264, 'banker': 3265, 'bog': 3266, 'uncovered': 3267, 'abrams': 3268, 'criminals': 3269, 'theatrics': 3270, 'finishing': 3271, 'anytime': 3272, 'requires': 3273, 'athletes': 3274, 'jock': 3275, 'comedian': 3276, 'degenerate': 3277, 'replaced': 3278, 'maria': 3279, 'grit': 3280, 'percentile': 3281, 'iust': 3282, 'martini': 3283, 'heavyweight': 3284, 'superpussy': 3285, 'rape': 3286, '75': 3287, 'tricky': 3288, '5000': 3289, 'individuals': 3290, 'load': 3291, 'hunk': 3292, 'prime': 3293, 'distracted': 3294, 'negotiate': 3295, 'performer': 3296, 'someplace': 3297, 'observing': 3298, 'voluntary': 3299, 'gesture': 3300, 'chat': 3301, 'damon': 3302, 'royal': 3303, 'dan': 3304, 'functional': 3305, 'pigs': 3306, 'mmhm': 3307, 'callett': 3308, 'noel': 3309, 'style': 3310, 'mapped': 3311, 'ruled': 3312, 'whove': 3313, 'questioning': 3314, 'telly': 3315, 'ukn': 3316, 'sites': 3317, 'formal': 3318, 'respond': 3319, 'latest': 3320, 'relay': 3321, 'deadline': 3322, 'tits': 3323, 'reception': 3324, 'courier': 3325, 'plug': 3326, 'development': 3327, 'minister': 3328, 'released': 3329, 'uk': 3330, 'walkers': 3331, 'pissing': 3332, 'advising': 3333, 'insist': 3334, 'compliance': 3335, 'refuse': 3336, 'arrangements': 3337, 'midnight': 3338, 'nation': 3339, 'viewers': 3340, 'commence': 3341, 'eats': 3342, 'pushing': 3343, 'pertinent': 3344, 'sparkling': 3345, 'ounce': 3346, 'wiggle': 3347, 'hopefully': 3348, 'packages': 3349, 'proceed': 3350, '2005': 3351, 'vintage': 3352, 'assistance': 3353, 'held': 3354, 'anna': 3355, 'unpunished': 3356, 'monaco': 3357, 'headaches': 3358, 'soup': 3359, 'musketeers': 3360, 'tied': 3361, 'smarter': 3362, 'cargo': 3363, 'hatch': 3364, 'climb': 3365, 'scarf': 3366, '669': 3367, 'wasted': 3368, 'perfume': 3369, 'cobwebs': 3370, 'cleveland': 3371, 'bellick': 3372, 'popping': 3373, 'paycheck': 3374, 'oven': 3375, 'exam': 3376, 'nod': 3377, 'compromised': 3378, 'spill': 3379, 'penicillin': 3380, 'bulls': 3381, 'strategic': 3382, 'newer': 3383, 'calculated': 3384, 'dozen': 3385, 'howards': 3386, 'afford': 3387, 'wrap': 3388, 'falling': 3389, 'roads': 3390, 'locker': 3391, 'carroll': 3392, 'jules': 3393, 'costs': 3394, 'absurd': 3395, 'driven': 3396, 'hel': 3397, 'agera': 3398, 'rightseater': 3399, '44': 3400, '52': 3401, 'ditch': 3402, 'broom': 3403, 'supposedly': 3404, 'dinos': 3405, 'rue': 3406, 'ignorant': 3407, 'marathon': 3408, 'bum': 3409, '375': 3410, 'spread': 3411, 'silver': 3412, '94': 3413, 'en': 3414, 'lookout': 3415, 'visual': 3416, 'redneck': 3417, 'sped': 3418, 'stunt': 3419, 'mindblowing': 3420, 'bow': 3421, 'passion': 3422, 'vengeance': 3423, 'blonde': 3424, 'youlre': 3425, 'tart': 3426, 'drift': 3427, 'laptop': 3428, 'row': 3429, 'saleen': 3430, 'stepped': 3431, 'h1': 3432, 'ops': 3433, '103': 3434, 'add': 3435, 'donuts': 3436, 'spike': 3437, 'marker': 3438, 'confirm': 3439, 'scanners': 3440, 'catching': 3441, 'wins': 3442, 'victory': 3443, 'angeles': 3444, 'recommendations': 3445, 'arrival': 3446, 'cardholder': 3447, 'path': 3448, 'device': 3449, 'shadow': 3450, 'anaheim': 3451, 'cluster': 3452, 'reaching': 3453, '64': 3454, 'hack': 3455, 'badge': 3456, 'whose': 3457, 'leo': 3458, 'joan': 3459, 'canada': 3460, 'spy': 3461, 'clients': 3462, 'companies': 3463, 'candidates': 3464, 'license': 3465, '18th': 3466, 'heh': 3467, 'handling': 3468, 'threatening': 3469, 'speaks': 3470, 'legendary': 3471, 'mars': 3472, 'deputy': 3473, 'sponsor': 3474, 'operatic': 3475, 'tine': 3476, 'motherinlaw': 3477, 'yearbook': 3478, 'collectors': 3479, 'shine': 3480, 'valid': 3481, 'permanent': 3482, 'bail': 3483, 'hilarious': 3484, 'designated': 3485, 'adjust': 3486, 'panties': 3487, 'upper': 3488, 'bishop': 3489, 'youlll': 3490, 'graduation': 3491, 'damned': 3492, 'memorial': 3493, 'nightmare': 3494, 'stress': 3495, 'blind': 3496, 'pools': 3497, 'monica': 3498, 'pier': 3499, 'tips': 3500, 'neptunes': 3501, 'pi': 3502, 'respectable': 3503, 'cents': 3504, 'posted': 3505, 'lemon': 3506, 'anne': 3507, 'hathaway': 3508, 'bags': 3509, 'determined': 3510, '121': 3511, 'hugs': 3512, 'fiance': 3513, 'alibi': 3514, 'cracking': 3515, 'friendship': 3516, 'cared': 3517, 'tts': 3518, 'protecting': 3519, 'beards': 3520, 'adoption': 3521, 'disappears': 3522, 'awol': 3523, 'transitions': 3524, 'bench': 3525, 'disappoint': 3526, 'groceries': 3527, 'fridge': 3528, 'hawk': 3529, 'steel': 3530, 'sincerely': 3531, 'curious': 3532, 'kittens': 3533, '911': 3534, '419': 3535, 'strip': 3536, 'amber': 3537, 'topper': 3538, 'cloak': 3539, 'ambers': 3540, 'deposit': 3541, 'frost': 3542, 'waking': 3543, 'chickwich': 3544, 'becky': 3545, 'mums': 3546, 'wood': 3547, 'armonica': 3548, 'ann': 3549, 'kelmot': 3550, 'wore': 3551, 'tohn': 3552, 'fashioned': 3553, 'watsons': 3554, 'facts': 3555, 'designed': 3556, 'miniature': 3557, 'stones': 3558, 'mourning': 3559, 'dwell': 3560, 'fortunate': 3561, '93': 3562, 'stood': 3563, 'foolishness': 3564, 'circle': 3565, 'complain': 3566, 'garage': 3567, 'mates': 3568, 'conclusion': 3569, 'exile': 3570, 'terribly': 3571, 'tricks': 3572, 'succeed': 3573, 'eager': 3574, 'predicted': 3575, 'witnessed': 3576, 'actions': 3577, 'forging': 3578, 'convincing': 3579, 'error': 3580, 'decency': 3581, 'wasps': 3582, 'wiping': 3583, 'stings': 3584, 'attacked': 3585, 'watering': 3586, 'blessed': 3587, 'mighty': 3588, 'tilt': 3589, 'rehearsal': 3590, 'amys': 3591, 'swans': 3592, 'yah': 3593, 'katie': 3594, 'bidding': 3595, 'kidnapped': 3596, 'clubs': 3597, 'firing': 3598, 'guaranteed': 3599, 'elses': 3600, 'ends': 3601, 'equally': 3602, 'formidable': 3603, 'aim': 3604, 'ol': 3605, 'flower': 3606, 'lemonade': 3607, 'offend': 3608, 'lone': 3609, 'pliable': 3610, 'helmet': 3611, 'recognition': 3612, 'cal': 3613, 'larger': 3614, 'ugly': 3615, 'seas': 3616, 'cutlass': 3617, 'terror': 3618, 'bellamy': 3619, 'hoist': 3620, 'gruesome': 3621, 'bold': 3622, 'chuck': 3623, 'noises': 3624, 'deserves': 3625, 'bricks': 3626, 'ham': 3627, 'magnificent': 3628, 'flame': 3629, 'sweating': 3630, 'stealing': 3631, 'milo': 3632, 'gown': 3633, 'showed': 3634, 'brushing': 3635, 'annoying': 3636, 'ninety': 3637, 'bagels': 3638, 'maker': 3639, 'peanut': 3640, 'sandwiches': 3641, 'concern': 3642, 'ballroom': 3643, 'sos': 3644, 'receive': 3645, 'divorced': 3646, 'childbirth': 3647, 'triday': 3648, 'orc': 3649, 'stormed': 3650, 'g0': 3651, 'wha': 3652, 'p': 3653, 'humanity': 3654, 'exaggerated': 3655, 'fielding': 3656, 'medicine': 3657, 'homeless': 3658, 'decides': 3659, 'rushed': 3660, 'thoughtful': 3661, 'spending': 3662, '1100': 3663, 'settlement': 3664, 'fairview': 3665, 'theater': 3666, 'lynette': 3667, 'pamphlet': 3668, 'grating': 3669, 'cheese': 3670, 'babysitting': 3671, 'cologne': 3672, 'sorts': 3673, 'affection': 3674, 'ambitious': 3675, 'bore': 3676, 'include': 3677, 'storage': 3678, 'developing': 3679, 'stressed': 3680, 'weirdo': 3681, 'sushi': 3682, 'thou': 3683, 'decline': 3684, 'exaggerating': 3685, 'minds': 3686, 'smiley': 3687, 'residence': 3688, 'gordon': 3689, 'behold': 3690, 'brings': 3691, 'forth': 3692, 'molested': 3693, 'tracked': 3694, 'firm': 3695, 'arrested': 3696, 'irony': 3697, 'zoo': 3698, 'smaller': 3699, 'cookies': 3700, 'screenplay': 3701, 'spine': 3702, 'coupe': 3703, 'paperwork': 3704, 'k': 3705, 'tryin': 3706, 'fucker': 3707, 'sober': 3708, 'sum': 3709, 'bacon': 3710, 'curb': 3711, 'denouncing': 3712, 'ginger': 3713, 'jobs': 3714, 'shrink': 3715, 'pathetic': 3716, 'gimp': 3717, 'peek': 3718, 'molly': 3719, 'yyou': 3720, 'thug': 3721, 'rings': 3722, 'tommys': 3723, 'motherfuckers': 3724, 'includes': 3725, 'unarmed': 3726, 'waters': 3727, 'creek': 3728, 'mexicans': 3729, 'served': 3730, 'leonie': 3731, 'bonnet': 3732, 'packed': 3733, 'solemnly': 3734, 'distillery': 3735, 'twenty': 3736, 'thirty': 3737, '30000': 3738, 'coconut': 3739, 'vanilla': 3740, 'chocolate': 3741, 'carntyne': 3742, 'manchester': 3743, 'color': 3744, 'sweetness': 3745, 'coincidentally': 3746, 'cas': 3747, 'glasgow': 3748, 'dobie': 3749, 'rhino': 3750, 'reported': 3751, 'vikings': 3752, 'tasting': 3753, 'privileged': 3754, 'discovery': 3755, 'bidder': 3756, 'bids': 3757, 'advance': 3758, 'mv': 3759, 'attract': 3760, 'cone': 3761, 'mister': 3762, 'replace': 3763, 'equipment': 3764, 'walters': 3765, 'greatgreatgrandfather': 3766, 'nonsense': 3767, 'warren': 3768, 'cement': 3769, 'bernadette': 3770, 'pointed': 3771, 'battles': 3772, 'analogy': 3773, 'fitting': 3774, 'gravity': 3775, 'insulted': 3776, 'temporary': 3777, 'firearm': 3778, 'thinkin': 3779, 'classic': 3780, 'mellow': 3781, 'poof': 3782, 'anxious': 3783, 'pillow': 3784, 'fort': 3785, 'sheila': 3786, 'sally': 3787, 'partys': 3788, 'documentary': 3789, 'authentic': 3790, 'caring': 3791, 'goodbve': 3792, 'warm': 3793, 'underwear': 3794, 'whoops': 3795, 'ink': 3796, 'elton': 3797, 'thatd': 3798, 'commitments': 3799, 'client': 3800, 'typical': 3801, 'apologizing': 3802, 'welcoming': 3803, 'organised': 3804, 'leaflets': 3805, 'gareth': 3806, 'globe': 3807, 'sexist': 3808, 'marjorie': 3809, 'clive': 3810, 'planned': 3811, 'blend': 3812, 'permission': 3813, 'womens': 3814, 'rights': 3815, 'smoked': 3816, 'cigarettes': 3817, 'adventures': 3818, 'johansson': 3819, 'adventurous': 3820, 'creative': 3821, 'amount': 3822, 'acquired': 3823, 'retirement': 3824, 'hendricks': 3825, 'managing': 3826, 'tim': 3827, 'sales': 3828, 'cakes': 3829, 'tm': 3830, 'lover': 3831, 'telegram': 3832, 'valued': 3833, 'employees': 3834, 'partnership': 3835, 'deciding': 3836, 'positions': 3837, 'tune': 3838, 'poking': 3839, 'scramble': 3840, 'spying': 3841, 'boots': 3842, 'horses': 3843, 'pays': 3844, 'ironically': 3845, 'marquis': 3846, 'scrubs': 3847, 'toilet': 3848, 'frat': 3849, 'avenue': 3850, 'frightened': 3851, 'temple': 3852, 'demon': 3853, 'turtle': 3854, 'basic': 3855, 'facing': 3856, 'separate': 3857, 'bark': 3858, 'crush': 3859, 'rearview': 3860, 'hysterical': 3861, 'delighted': 3862, 'grew': 3863, 'james': 3864, 'bible': 3865, 'betray': 3866, 'cheaper': 3867, 'alcoholic': 3868, 'feed': 3869, 'loop': 3870, 'reverends': 3871, 'impress': 3872, 'jade': 3873, 'touched': 3874, 'toss': 3875, 'steals': 3876, 'duplicate': 3877, 'meanwhile': 3878, 'fakes': 3879, 'lola': 3880, 'expert': 3881, 'analysis': 3882, 'familys': 3883, 'calhoun': 3884, 'customs': 3885, 'georges': 3886, 'trembling': 3887, 'instagram': 3888, 'passengers': 3889, 'smooth': 3890, 'approved': 3891, 'stiff': 3892, 'fasten': 3893, 'seatbelts': 3894, 'atlanta': 3895, 'affirm': 3896, 'uncontrolled': 3897, 'declaring': 3898, 'belted': 3899, 'dumped': 3900, 'jammed': 3901, 'swelling': 3902, 'offended': 3903, 'condo': 3904, 'marked': 3905, 'mags': 3906, 'proven': 3907, 'bloods': 3908, 'drugs': 3909, 'beers': 3910, 'praise': 3911, 'tragic': 3912, 'savior': 3913, 'blessing': 3914, 'ellen': 3915, 'conscious': 3916, 'instinct': 3917, 'evans': 3918, 'testimony': 3919, 'gum': 3920, 'inspired': 3921, 'enjoys': 3922, 'pests': 3923, 'measures': 3924, 'shire': 3925, 'painted': 3926, 'gentleman': 3927, 'creepy': 3928, 'television': 3929, 'sees': 3930, 'tantrum': 3931, 'chanel': 3932, 'architect': 3933, 'fours': 3934, 'discussing': 3935, 'bust': 3936, 'conductor': 3937, 'ryans': 3938, 'gucci': 3939, 'shelf': 3940, 'distract': 3941, 'iii': 3942, 'rats': 3943, 'armor': 3944, 'warriors': 3945, 'legend': 3946, 'doom': 3947, 'heal': 3948, 'shook': 3949, 'yha': 3950, 'subtle': 3951, 'hug': 3952, 'viking': 3953, 'golf': 3954, 'prefers': 3955, 'scale': 3956, 'cape': 3957, 'crushed': 3958, 'annual': 3959, 'mitch': 3960, 'haley': 3961, 'warned': 3962, 'longterm': 3963, 'corporate': 3964, 'tomb': 3965, 'falls': 3966, 'carried': 3967, 'animal': 3968, 'bury': 3969, 'swarm': 3970, 'smells': 3971, 'yell': 3972, 'quickest': 3973, 'wicked': 3974, 'skiing': 3975, 'packing': 3976, 'cardboard': 3977, 'sweat': 3978, 'pea': 3979, 'creates': 3980, 'lens': 3981, 'cooper': 3982, 'marketing': 3983, 'campaign': 3984, 'members': 3985, 'anderson': 3986, 'properties': 3987, 'youtube': 3988, 'viral': 3989, 'reminding': 3990, 'houses': 3991, 'handing': 3992, 'realized': 3993, 'serve': 3994, 'committee': 3995, 'appropriate': 3996, 'drops': 3997, 'dour': 3998, 'appearance': 3999, 'yup': 4000, 'departments': 4001, 'checks': 4002, 'dues': 4003, 'bent': 4004, 'syrup': 4005, 'laws': 4006, 'chew': 4007, 'offense': 4008, 'member': 4009, 'spouse': 4010, 'makeup': 4011, 'splash': 4012, 'smelled': 4013, 'kissing': 4014, 'twohour': 4015, 'moody': 4016, 'monk': 4017, 'banana': 4018, 'papa': 4019, 'figures': 4020, 'mirror': 4021, 'taser': 4022, 'donald': 4023, 'signing': 4024, 'cleared': 4025, 'wales': 4026, '1955': 4027, 'debut': 4028, '1963': 4029, 'pavarotti': 4030, 'c': 4031, 'spoiled': 4032, 'trusted': 4033, 'fears': 4034, 'transformed': 4035, 'suffered': 4036, 'occurs': 4037, 'appear': 4038, 'beret': 4039, 'example': 4040, 'supermarket': 4041, 'boxes': 4042, 'bridesmaid': 4043, 'izzie': 4044, 'davids': 4045, 'ct': 4046, 'dana': 4047, 'hallucination': 4048, 'ookay': 4049, 'omalley': 4050, 'nicu': 4051, 'parent': 4052, 'pads': 4053, 'primary': 4054, 'faced': 4055, 'towels': 4056, 'exploding': 4057, 'stabilize': 4058, 'spinal': 4059, 'accidents': 4060, 'dial': 4061, 'injustice': 4062, 'foxglove': 4063, 'peck': 4064, 'pasta': 4065, 'brian': 4066, 'lonely': 4067, 'upstanding': 4068, 'flowers': 4069, 'lac': 4070, 'qualified': 4071, 'apron': 4072, 'byebye': 4073, 'fearless': 4074, 'cough': 4075, 'biopsy': 4076, 'colon': 4077, 'rumor': 4078, 'babys': 4079, 'residents': 4080, 'handful': 4081, 'glowinthedark': 4082, 'mans': 4083, 'steve': 4084, 'andand': 4085, 'household': 4086, 'examples': 4087, 'howie': 4088, 'austin': 4089, 'terrifying': 4090, 'serial': 4091, 'flash': 4092, 'treatment': 4093, 'complete': 4094, 'backpacks': 4095, 'effort': 4096, 'delfino': 4097, 'scavo': 4098, 'mccluskey': 4099, 'stain': 4100, 'pains': 4101, 'ax': 4102, 'foul': 4103, 'lavender': 4104, 'backyard': 4105, 'larp': 4106, 'wiccan': 4107, 'companions': 4108, 'arise': 4109, 'plusthree': 4110, 'apes': 4111, 'thy': 4112, 'tongue': 4113, 'jerks': 4114, 'fellow': 4115, 'realms': 4116, 'vampire': 4117, 'rea': 4118, 'rode': 4119, 'summoned': 4120, '16th': 4121, 'summon': 4122, 'rage': 4123, 'doth': 4124, 'hath': 4125, 'appeared': 4126, 'pork': 4127, 'arrive': 4128, 'lit': 4129, 'lanes': 4130, 'strap': 4131, 'waxing': 4132, 'appointments': 4133, 'masturbate': 4134, 'mountains': 4135, 'juilliard': 4136, 'application': 4137, 'pancakes': 4138, 'sheer': 4139, 'precious': 4140, 'perfectly': 4141, 'net': 4142, 'deliver': 4143, 'bullock': 4144, 'luckily': 4145, 'notch': 4146, 'electronics': 4147, 'dessert': 4148, 'spoons': 4149, 'orient': 4150, 'jews': 4151, 'chapter': 4152, 'dismissed': 4153, 'whites': 4154, 'flushing': 4155, 'hong': 4156, 'kong': 4157, 'bobo': 4158, 'dai': 4159, 'lo': 4160, 'authorities': 4161, 'ets': 4162, 'n': 4163, 'asian': 4164, 'bo': 4165, 'fbi': 4166, 'habit': 4167, 'hip': 4168, 'emilys': 4169, 'heck': 4170, 'faith': 4171, 'mclanden': 4172, 'foundation': 4173, 'anniversary': 4174, 'stronger': 4175, 'faiths': 4176, 'sneak': 4177, 'asks': 4178, 'heroine': 4179, 'naked': 4180, 'hormones': 4181, 'guitar': 4182, 'crimes': 4183, 'sleepwalking': 4184, 'gor': 4185, 'founders': 4186, 'cherished': 4187, 'recipe': 4188, 'katherine': 4189, 'doggy': 4190, 'treats': 4191, 'learns': 4192, 'sparkle': 4193, 'fingers': 4194, 'candles': 4195, 'daddys': 4196, 'sont': 4197, 'attended': 4198, 'classes': 4199, 'interracial': 4200, 'ban': 4201, 'lifted': 4202, 'knowledge': 4203, 'library': 4204, 'expression': 4205, 'gene': 4206, 'flip': 4207, 'bombed': 4208, 'expressed': 4209, 'teapot': 4210, 'flow': 4211, 'drip': 4212, 'folk': 4213, 'western': 4214, 'gangster': 4215, 'particularly': 4216, 'temper': 4217, 'fabulous': 4218, 'explosive': 4219, 'defeat': 4220, 'studio': 4221, 'unconscious': 4222, 'cerebral': 4223, 'ucla': 4224, 'ambulance': 4225, 'plastic': 4226, 'hodges': 4227, 'representative': 4228, 'dna': 4229, 'bodys': 4230, 'tissue': 4231, 'lalotte': 4232, 'fee': 4233, 'betterlooking': 4234, '101': 4235, 'incident': 4236, 'cartridge': 4237, 'connection': 4238, 'facial': 4239, 'sixyearold': 4240, 'arlo': 4241, 'karden': 4242, 'pro': 4243, 'devries': 4244, 'naturally': 4245, 'trains': 4246, 'bra': 4247, 'testing': 4248, 'lukes': 4249, 'cried': 4250, 'mouse': 4251, 'tickle': 4252, 'tooth': 4253, 'gotcha': 4254, 'nightmares': 4255, 'services': 4256, 'paranoia': 4257, 'circus': 4258, 'cancel': 4259, 'shortcut': 4260, 'clinical': 4261, 'martinez': 4262, 'requesting': 4263, 'priest': 4264, 'installed': 4265, 'owens': 4266, 'ancient': 4267, 'healing': 4268, 'indian': 4269, 'maguire': 4270, 'heroin': 4271, 'carefully': 4272, 'pleasant': 4273, '70': 4274, 'concentrate': 4275, 'lance': 4276, 'garden': 4277, 'drawn': 4278, 'drew': 4279, 'translate': 4280, 'among': 4281, 'allegiance': 4282, 'enslaved': 4283, 'realm': 4284, 'morgana': 4285, 'transform': 4286, 'mertin': 4287, 'mini': 4288, 'merlin': 4289, 'magical': 4290, 'hobby': 4291, 'humiliating': 4292, 'surrounded': 4293, 'sanctuary': 4294, 'flock': 4295, 'tulio': 4296, 'logging': 4297, 'swallow': 4298, 'nigel': 4299, 'mimi': 4300, 'adorable': 4301, 'banks': 4302, 'honeymoon': 4303, 'guidance': 4304, 'roberto': 4305, 'hovering': 4306, 'mornings': 4307, 'insult': 4308, 'lollipop': 4309, 'ahem': 4310, 'kitty': 4311, 'chemos': 4312, 'forge': 4313, 'trait': 4314, 'solved': 4315, 'amaze': 4316, 'envelope': 4317, 'capable': 4318, 'carmichael': 4319, 'pips': 4320, 'eustace': 4321, 'whatsoever': 4322, 'attempting': 4323, 'acquainted': 4324, 'pose': 4325, 'blows': 4326, 'somewhat': 4327, 'technique': 4328, 'addict': 4329, 'chatter': 4330, 'vote': 4331, 'fooled': 4332, 'resources': 4333, 'needing': 4334, 'pressing': 4335, 'chute': 4336, 'pbr': 4337, 'injury': 4338, 'happier': 4339, 'zoulre': 4340, 'snacks': 4341, 'generation': 4342, 'represents': 4343, 'laughed': 4344, 'kin': 4345, 'farmer': 4346, 'luiz': 4347, 'collected': 4348, 'astronomy': 4349, 'cow': 4350, '600': 4351, 'daffy': 4352, 'victoria': 4353, 'portfolio': 4354, 'choir': 4355, 'stab': 4356, 'anxiety': 4357, 'robot': 4358, 'disease': 4359, 'recovered': 4360, 'cont': 4361, 'blocked': 4362, 'erased': 4363, 'lasseter': 4364, 'spotted': 4365, 'drone': 4366, 'citizens': 4367, 'iim': 4368, 'intervention': 4369, 'exercise': 4370, 'bombing': 4371, 'moments': 4372, 'survivors': 4373, 'toll': 4374, 'matthias': 4375, 'fb': 4376, 'colony': 4377, 'hauser': 4378, 'core': 4379, 'panic': 4380, 'complaints': 4381, 'quaid': 4382, 'succeeded': 4383, 'safety': 4384, 'yall': 4385, 'mysterious': 4386, 'frustrating': 4387, 'pow': 4388, 'stool': 4389, 'ty': 4390, 'magically': 4391, 'pink': 4392, 'fellas': 4393, 'cuckooland': 4394, 'impossible': 4395, 'leading': 4396, 'disappointment': 4397, 'yellow': 4398, 'imaginative': 4399, 'wiring': 4400, 'bat': 4401, 'explode': 4402, 'zima': 4403, 'dolores': 4404, 'lassie': 4405, 'nutshell': 4406, 'spiders': 4407, 'tourists': 4408, 'defender': 4409, 'parking': 4410, 'fur': 4411, 'coats': 4412, 'recover': 4413, 'term': 4414, 'rotten': 4415, 'diaper': 4416, 'teat': 4417, 'scar': 4418, 'chips': 4419, 'recovering': 4420, 'steep': 4421, 'woody': 4422, 'routine': 4423, 'bard': 4424, 'searched': 4425, 'reclaim': 4426, 'elf': 4427, 'host': 4428, 'storm': 4429, 'homeland': 4430, 'cousin': 4431, 'vlad': 4432, 'prom': 4433, 'joes': 4434, 'cooler': 4435, 'reminders': 4436, 'statue': 4437, 'youth': 4438, 'culture': 4439, 'drivein': 4440, 'ironic': 4441, 'la': 4442, 'explaining': 4443, 'resume': 4444, 'goingaway': 4445, 'benefit': 4446, 'assist': 4447, 'tax': 4448, 'lottery': 4449, 'gap': 4450, 'bloke': 4451, 'wired': 4452, 'thered': 4453, 'keypad': 4454, 'passcode': 4455, 'breakin': 4456, 'turkish': 4457, 'consul': 4458, 'tabak': 4459, 'custody': 4460, 'hop': 4461, 'biological': 4462, 'debt': 4463, 'controlling': 4464, 'frustrate': 4465, 'uber': 4466, 'invention': 4467, 'jurassic': 4468, 'breasts': 4469, 'sticker': 4470, 'devastated': 4471, 'distressed': 4472, 'initially': 4473, 'orgasms': 4474, 'starter': 4475, 'carved': 4476, 'lefteye': 4477, 'reckon': 4478, 'windmill': 4479, 'burro': 4480, 'jackass': 4481, 'logical': 4482, 'pa': 4483, 'mystical': 4484, 'indians': 4485, 'ramon': 4486, 'yuma': 4487, 'harris': 4488, 'pecker': 4489, 'beg': 4490, 'blond': 4491, 'bean': 4492, 'rancher': 4493, 'unnecessary': 4494, 'earp': 4495, 'wyatt': 4496, 'muscles': 4497, 'bueno': 4498, 'kim': 4499, 'kanye': 4500, 'recommendation': 4501, 'walmart': 4502, 'hans': 4503, 'teller': 4504, 'waffle': 4505, 'howland': 4506, 'neurons': 4507, 'doris': 4508, 'argument': 4509, 'argue': 4510, 'soccer': 4511, 'gregg': 4512, 'app': 4513, 'sandwich': 4514, 'kitchen': 4515, 'aisle': 4516, 'defend': 4517, 'donation': 4518, 'magazine': 4519, 'drowning': 4520, 'toothpaste': 4521, 'cappuccino': 4522, 'finger': 4523, 'stud': 4524, 'enright': 4525, 'screening': 4526, 'hither': 4527, 'yon': 4528, 'holder': 4529, 'welles': 4530, 'commit': 4531, 'cushy': 4532, 'nerd': 4533, 'unbelievable': 4534, 'tuscon': 4535, 'admirable': 4536, 'desert': 4537, 'priorities': 4538, 'sooner': 4539, 'cia': 4540, 'dubious': 4541, 'museum': 4542, 'dermatologist': 4543, 'delacorte': 4544, 'diagnosed': 4545, 'connie': 4546, 'demented': 4547, 'physical': 4548, 'hunters': 4549, 'ashleighs': 4550, 'classy': 4551, 'confusing': 4552, 'button': 4553, 'pin': 4554, 'terrence': 4555, 'steadman': 4556, 'rates': 4557, 'pattern': 4558, 'distraction': 4559, 'sara': 4560, 'treaty': 4561, 'initiative': 4562, 'flagpole': 4563, '13': 4564, 'combat': 4565, 'odd': 4566, 'whispering': 4567, 'spring': 4568, 'trappers': 4569, 'spikes': 4570, 'moron': 4571, 'burst': 4572, 'wich': 4573, 'eaten': 4574, 'specific': 4575, 'attic': 4576, '2014': 4577, 'believes': 4578, 'christina': 4579, 'fusion': 4580, 'beats': 4581, 'pierce': 4582, 'assumed': 4583, 'thin': 4584, 'goldberg': 4585, 'presentation': 4586, 'failing': 4587, 'comprehension': 4588, 'fluorine': 4589, 'com': 4590, 'madrid': 4591, 'playoffs': 4592, 'justin': 4593, 'spreading': 4594, 'ust': 4595, 'yemen': 4596, 'airports': 4597, 'artery': 4598, 'charged': 4599, 'equivalent': 4600, 'ashes': 4601, 'contacted': 4602, 'wrench': 4603, 'crack': 4604, 'hangar': 4605, 'frisco': 4606, 'meetings': 4607, 'anger': 4608, 'vault': 4609, 'merry': 4610, 'reindeer': 4611, 'tobi': 4612, 'mickey': 4613, 'cooperation': 4614, 'exhaustive': 4615, 'thorough': 4616, 'j': 4617, 'background': 4618, 'gazelle': 4619, 'flair': 4620, 'storytelling': 4621, 'bouncing': 4622, 'replacement': 4623, 'fed': 4624, 'shortened': 4625, 'fay': 4626, 'shotgun': 4627, 'caller': 4628, 'subway': 4629, 'flickering': 4630, 'connect': 4631, 'radiation': 4632, 'rainmaker': 4633, 'codes': 4634, '32': 4635, 'inability': 4636, 'navy': 4637, 'youbut': 4638, 'fully': 4639, 'characters': 4640, 'azerbaijan': 4641, 'admire': 4642, 'shoulda': 4643, 'particular': 4644, 'fanatic': 4645, 'disk': 4646, 'regards': 4647, 'napoleon': 4648, 'handsome': 4649, 'betrayed': 4650, 'struggle': 4651, 'daughters': 4652, 'average': 4653, 'icu': 4654, 'deangelo': 4655, 'religion': 4656, 'witchcraft': 4657, '1993': 4658, 'misskelley': 4659, 'prop': 4660, 'arcade': 4661, 'ron': 4662, 'allen': 4663, 'bayou': 4664, 'crawled': 4665, 'defendants': 4666, 'byers': 4667, 'lucifer': 4668, 'fogleman': 4669, 'feature': 4670, 'questioned': 4671, 'occult': 4672, 'echols': 4673, 'vickis': 4674, 'items': 4675, 'washing': 4676, 'polygraph': 4677, 'synopsis': 4678, 'crowley': 4679, 'region': 4680, 'waypoint': 4681, 'redhead': 4682, 'mikey': 4683, 'peak': 4684, 'pride': 4685, 'elizabeth': 4686, 'obrien': 4687, 'cheryl': 4688, 'coffees': 4689, 'salt': 4690, 'kurt': 4691, 'emotionally': 4692, 'fortydollarsally': 4693, 'stations': 4694, 'harrison': 4695, 'rig': 4696, 'earthquakes': 4697, 'bombs': 4698, 'southern': 4699, 'quake': 4700, 'tsunami': 4701, 'andreas': 4702, 'tectonic': 4703, 'nevada': 4704, '26': 4705, 'hoover': 4706, 'faults': 4707, 'sophisticated': 4708, 'tallest': 4709, 'acted': 4710, 'caltech': 4711, 'safest': 4712, 'listened': 4713, 'evacuation': 4714, 'nico': 4715, 'hover': 4716, 'survived': 4717, 'lice': 4718, 'wakes': 4719, 'ovary': 4720, 'thee': 4721, 'ti': 4722, 'symbols': 4723, 'cock': 4724, 'draft': 4725, 'xandar': 4726, 'thanos': 4727, 'kree': 4728, 'corps': 4729, 'shiny': 4730, 'scum': 4731, 'captured': 4732, 'kyln': 4733, 'hundreds': 4734, 'outlaws': 4735, 'liquid': 4736, 'specialty': 4737, 'idiots': 4738, 'craft': 4739, 'senseless': 4740, 'percentage': 4741, 'twelve': 4742, 'beside': 4743, 'sakaaran': 4744, 'properly': 4745, 'edward': 4746, 'qualms': 4747, 'harlan': 4748, 'dale': 4749, 'attracted': 4750, 'loeb': 4751, 'loser': 4752, 'penis': 4753, 'daily': 4754, 'nsa': 4755, 'distinguished': 4756, 'shave': 4757, 'cincinnati': 4758, 'dorchen': 4759, 'subpoena': 4760, 'sliced': 4761, 'strut': 4762, 'llama': 4763, 'tries': 4764, 'raped': 4765, 'shitty': 4766, 'parenting': 4767, 'kel': 4768, 'buick': 4769, 'feeding': 4770, 'parade': 4771, 'rash': 4772, 'closing': 4773, 'bets': 4774, 'billboards': 4775, 'finds': 4776, 'lack': 4777, 'author': 4778, 'uterus': 4779, 'explore': 4780, 'assignment': 4781, 'stem': 4782, 'dragging': 4783, 'fries': 4784, 'untrustworthy': 4785, 'damaged': 4786, 'grounds': 4787, 'intimate': 4788, 'youhes': 4789, 'orthodox': 4790, 'kleins': 4791, 'honorary': 4792, 'jew': 4793, 'rivka': 4794, 'shemshelewitz': 4795, 'klein': 4796, 'channing': 4797, 'esther': 4798, 'rachael': 4799, 'tradition': 4800, 'autopsy': 4801, 'cease': 4802, 'desist': 4803, 'su': 4804, 'guacamole': 4805, 'helen': 4806, 'analyzed': 4807, 'warmed': 4808, 'worrying': 4809, 'blackleg': 4810, 'miner': 4811, 'communicate': 4812, 'boris': 4813, 'farm': 4814, 'oliver': 4815, 'forgotten': 4816, 'isabel': 4817, 'messines': 4818, 'wire': 4819, 'elsas': 4820, 'blokes': 4821, 'mud': 4822, 'cabin': 4823, 'thanksgiving': 4824, 'cardiac': 4825, 'cath': 4826, 'kirby': 4827, 'stanley': 4828, 'zachary': 4829, 'secrets': 4830, 'promotion': 4831, 'vice': 4832, 'proposed': 4833, 'feds': 4834, 'patrick': 4835, 'stripper': 4836, 'tiller': 4837, 'padre': 4838, 'neuro': 4839, 'anonymous': 4840, 'harassment': 4841, 'complaint': 4842, 'alyssa': 4843, 'mitral': 4844, 'coercion': 4845, 'edge': 4846, 'julias': 4847, 'hobo': 4848, 'oreoh': 4849, 'salmon': 4850, 'medals': 4851, 'heros': 4852, 'starbucks': 4853, 'tamp': 4854, 'ohio': 4855, 'kaniel': 4856, 'outis': 4857, 'prints': 4858, 'goat': 4859, 'gibson': 4860, 'priors': 4861, 'gibsons': 4862, 'chemicals': 4863, 'trucker': 4864, 'cody': 4865, 'conservo': 4866, 'solutions': 4867, 'drowned': 4868, 'beyonce': 4869, 'ruiz': 4870, 'jeans': 4871, 'accessory': 4872, 'grilled': 4873, 'roommates': 4874, 'uncool': 4875, 'moderate': 4876, 'intake': 4877, 'aerobics': 4878, 'overweight': 4879, 'flapping': 4880, 'manatee': 4881, 'satellites': 4882, 'hillary': 4883, 'clinton': 4884, 'updated': 4885, 'arizonas': 4886, 'refreshing': 4887, 'restraints': 4888, 'physically': 4889, 'slackjawed': 4890, 'cuckoos': 4891, '1ef': 4892, 'recur': 4893, 'cured': 4894, 'sexier': 4895, 'invaluable': 4896, 'freed': 4897, 'ross': 4898, 'sinus': 4899, 'mer': 4900, 'loner': 4901, 'sats': 4902, 'bp': 4903, '110': 4904, 'sexual': 4905, 'comments': 4906, 'brooks': 4907, 'precipice': 4908, 'pointless': 4909, 'thoughtless': 4910, 'indoors': 4911, 'unmarked': 4912, 'octavia': 4913, 'lunchtime': 4914, 'exits': 4915, 'exterior': 4916, 'tailing': 4917, 'acknowledge': 4918, 'sight': 4919, 'disaster': 4920, 'crooked': 4921, 'cahill': 4922, 'idle': 4923, 'louisiana': 4924, '1979': 4925, 'profound': 4926, 'ignorance': 4927, 'arthur': 4928, 'limits': 4929, 'yangs': 4930, 'shepherds': 4931, 'decreased': 4932, 'compression': 4933, 'dryang': 4934, 'criticize': 4935, 'surgeons': 4936, 'gag': 4937, 'heave': 4938, 'jerrys': 4939, 'grafts': 4940, 'frankenstein': 4941, 'analyze': 4942, 'entirely': 4943, 'wildly': 4944, 'magnetism': 4945, 'rematch': 4946, 'declined': 4947, 'benson': 4948, 'shipbuilders': 4949, '1987': 4950, 'spotlight': 4951, 'faded': 4952, 'dealership': 4953, 'itch': 4954, 'bristol': 4955, 'stomp': 4956, 'chingaling': 4957, 'pony': 4958, 'joey': 4959, 'nora': 4960, 'sponge': 4961, 'sandpaper': 4962, 'unfreeze': 4963, 'thati': 4964, 'thailand': 4965, '95th': 4966, 'hbo': 4967, 'videotape': 4968, 'camel': 4969, 'infinity': 4970, 'jabs': 4971, 'wilbur': 4972, 'dummy': 4973, 'meals': 4974, 'halfassed': 4975, 'yotr': 4976, 'clip': 4977, 'champs': 4978, 'mcdonnens': 4979, 'brawl': 4980, 'emerald': 4981, 'jagoff': 4982, 'colors': 4983, 'camare': 4984, 'promoter': 4985, 'conference': 4986, 'commissioner': 4987, 'promoting': 4988, '1u': 4989, 'slots': 4990, 'entertainment': 4991, 'rib': 4992, 'fought': 4993, 'unfulfilled': 4994, 'slacker': 4995, 'handsewn': 4996, 'stitched': 4997, 'lycra': 4998, 'sewing': 4999, 'spay': 5000, 'scaring': 5001, 'unusually': 5002, 'practical': 5003, 'maternity': 5004, 'honouring': 5005, 'sportsmanlike': 5006, 'cnn': 5007, 'fox': 5008, 'msnbc': 5009, 'jazeera': 5010, 'nhk': 5011, 'sarah': 5012, 'snatch': 5013, 'meera': 5014, 'upcoming': 5015, 'etc': 5016, 'practices': 5017, 'lorcan': 5018, 'paradigm': 5019, 'bibo': 5020, 'graphics': 5021, 'peppa': 5022, 'malaika': 5023, 'contingency': 5024, 'emmy': 5025, 'tranquility': 5026, 'specifies': 5027, 'handheld': 5028, 'gonzo': 5029, 'stipulations': 5030, 'fringes': 5031, 'possibility': 5032, 'deadlines': 5033, 'workable': 5034, 'embeds': 5035, 'aq': 5036, 'radicals': 5037, 'groups': 5038, 'royals': 5039, 'overall': 5040, 'hoax': 5041, 'blog': 5042, 'kidnap': 5043, 'networking': 5044, 'downing': 5045, 'surrounding': 5046, 'algorithm': 5047, 'uploaded': 5048, '316': 5049, 'nationwide': 5050, 'traceback': 5051, 'uninterrupted': 5052, 'oneway': 5053, 'uploads': 5054, 'isat': 5055, 'squad': 5056, 'helmetcam': 5057, 'lydia': 5058, 'ib7': 5059, 'trimmed': 5060, 'edges': 5061, 'twinkle': 5062, 'downton': 5063, 'abbey': 5064, 'scotland': 5065, 'contained': 5066, 'grim': 5067, 'polls': 5068, '86': 5069, 'voters': 5070, 'julians': 5071, 'rts': 5072, 'award': 5073, 'mannequin': 5074, 'julian': 5075, 'blunt': 5076, 'questionable': 5077, 'popularity': 5078, 'upload': 5079, 'insurrection': 5080, 'disgraced': 5081, 'politician': 5082, 'appears': 5083, 'bankside': 5084, 'studios': 5085, 'ratified': 5086, 'offence': 5087, 'beforehand': 5088, 'hardened': 5089, '4pm': 5090, 'approaches': 5091, 'unprecedented': 5092, 'kidnappers': 5093, 'possessing': 5094, 'complying': 5095, 'stipulated': 5096, 'acup': 5097, 'advocate': 5098, 'ryan': 5099, 'seacrest': 5100, 'kentucky': 5101, 'urinate': 5102, 'ageless': 5103, 'unicorn': 5104, 'website': 5105, 'archives': 5106, 'miracles': 5107, '36': 5108, 'cemetery': 5109, 'appreciation': 5110, 'evian': 5111, 'fallujah': 5112, 'transporter': 5113, 'employer': 5114, 'majestic': 5115, 'inspector': 5116, 'electrical': 5117, 'presumably': 5118, 'chateau': 5119, 'cheval': 5120, 'blanc': 5121, 'label': 5122, 'euros': 5123, 'gina': 5124, '49': 5125, 'qiao': 5126, '55': 5127, 'charmer': 5128, 'deed': 5129, 'documents': 5130, 'ower': 5131, 'turgin': 5132, 'authorized': 5133, 'coerced': 5134, 'voila': 5135, 'sucker': 5136, 'punched': 5137, 'bhe': 5138, 'estonian': 5139, 'rom': 5140, 'tallinn': 5141, 'touches': 5142, 'vomiting': 5143, 'convulsions': 5144, 'description': 5145, 'languedoc': 5146, 'oeccitan': 5147, 'basque': 5148, 'basoue': 5149, 'aerospace': 5150, 'industry': 5151, 'tucked': 5152, 'undressed': 5153, 'boot': 5154, 'complication': 5155, 'outrun': 5156, 'trigger': 5157, 'vial': 5158, 'rags': 5159, 'racks': 5160, 'clinic': 5161, 'jook': 5162, 'anesthetic': 5163, 'fog': 5164, 'mack': 5165, 'itdont': 5166, 'prisoner': 5167, 'exhaustion': 5168, 'overheated': 5169, 'infirmary': 5170, 'belligerent': 5171, 'refused': 5172, 'rack': 5173, 'outofcontrol': 5174, 'downand': 5175, 'execution': 5176, 'insufficient': 5177, 'theo': 5178, 'screws': 5179, 'tenderness': 5180, 'kwame': 5181, 'wallwe': 5182, 'concrete': 5183, 'rizzodoes': 5184, 'evacuating': 5185, 'bwing': 5186, 'technical': 5187, 'difficulties': 5188, 'safari': 5189, 'sledgehammer': 5190, 'tensile': 5191, 'hookes': 5192, 'elasticity': 5193, 'covers': 5194, 'pip': 5195, 'hornthe': 5196, 'x': 5197, 'dirt': 5198, 'firepower': 5199, 'riots': 5200, 'funerals': 5201, 'careers': 5202, 'tap': 5203, 'juicy': 5204, 'sorted': 5205, 'referring': 5206, 'sto': 5207, 'totaled': 5208, 'letterman': 5209, 'visions': 5210, 'allergic': 5211, 'dgoubt': 5212, 'stayed': 5213, 'cessna': 5214, 'titanium': 5215, 'alloy': 5216, 'bodied': 5217, 'poem': 5218, 'sweeter': 5219, 'turtleneck': 5220, 'payment': 5221, 'shelby': 5222, '9': 5223, 'horsepower': 5224, '58': 5225, 'liter': 5226, 'aluminum': 5227, 'hor': 5228, 'shelbys': 5229, 'ac': 5230, '260': 5231, 'cid': 5232, 'v8': 5233, 'indy': 5234, 'tobeys': 5235, 'theoretical': 5236, '230': 5237, 'nascar': 5238, '228': 5239, 'shepperton': 5240, 'por': 5241, 'uncles': 5242, 'eurospec': 5243, 'ferrari': 5244, 'koenigseg2': 5245, 'r': 5246, '270': 5247, '1ard': 5248, 'educate': 5249, 'longest': 5250, 'hosts': 5251, 'motown': 5252, 'races': 5253, 'grasshopper': 5254, 'eta': 5255, 'jiar': 5256, 'i94': 5257, 'spots': 5258, '1027': 5259, 'fangsout': 5260, 'i04': 5261, 'adamdavidtom': 5262, '4619': 5263, 'trolls': 5264, 'starcrossed': 5265, 'lovers': 5266, 'hauling': 5267, 'dove': 5268, 'fete': 5269, 'petes': 5270, 'debts': 5271, 'ticker': 5272, 'rivalry': 5273, 'speeds': 5274, 'hummer': 5275, 'funeral': 5276, 'parole': 5277, 'ipad': 5278, 'lineup': 5279, 'goch': 5280, 'sixth': 5281, 'battling': 5282, '128': 5283, 'marshalls': 5284, 'mclaren': 5285, 'hl': 5286, 'stall': 5287, 'ointment': 5288, 'chp': 5289, 'racers': 5290, 'disregard': 5291, 'strips': 5292, 'deployment': 5293, '184': 5294, '162': 5295, 'formation': 5296, 'gooch': 5297, 'vehicles': 5298, '27': 5299, 'countdown': 5300, 'begins': 5301, 'bugatti': 5302, 'chen': 5303, 'mendo': 5304, 'navarro': 5305, 'collar': 5306, 'cinderellas': 5307, 'slipper': 5308, '130': 5309, 'smokey': 5310, 'elemento': 5311, 'toby': 5312, 'lambo': 5313, 'crystal': 5314, 'click': 5315, 'feelgoods': 5316, 'nono': 5317, '716': 5318, 'scheduled': 5319, 'separately': 5320, 'content': 5321, 'bounced': 5322, 'routers': 5323, 'mails': 5324, 'squatted': 5325, 'nanosecond': 5326, 'tuxhorn': 5327, 'geek': 5328, 'commodore': 5329, 'nasa': 5330, 'servers': 5331, 'firewalls': 5332, 'lang': 5333, 'temp': 5334, 'whawhawhats': 5335, 'crowded': 5336, 'responding': 5337, 'rebooted': 5338, 'backdoor': 5339, 'oporder': 5340, 'ramifications': 5341, 'winners': 5342, 'donnie': 5343, 'worn': 5344, 'cardholders': 5345, 'senator': 5346, 'dallo': 5347, 'passports': 5348, 'sonya': 5349, 'scientist': 5350, 'windfall': 5351, 'vigilance': 5352, 'kierl': 5353, 'identified': 5354, 'kierls': 5355, 'galich': 5356, 'trumanmann': 5357, 'primarily': 5358, 'resumes': 5359, 'issued': 5360, 'investigators': 5361, 'pl': 5362, 'popped': 5363, 'lexisnexis': 5364, 'violent': 5365, 'bombarded': 5366, 'myth': 5367, 'painintheass': 5368, 'husbands': 5369, 'projector': 5370, 'dirtypicture': 5371, 'cliches': 5372, 'lyles': 5373, 'stabilizing': 5374, 'influence': 5375, 'charmed': 5376, 'ville': 5377, 'conrad': 5378, 'murray': 5379, 'batcave': 5380, 'accessories': 5381, 'labeling': 5382, 'pandora': 5383, 'figuring': 5384, 'tweet': 5385, 'texts': 5386, 'weakness': 5387, 'ringing': 5388, 'scouts': 5389, 'clint': 5390, 'eastwood': 5391, 'bjuried': 5392, 'bonnies': 5393, 'pugh': 5394, 'jetson': 5395, 'educator': 5396, 'supereasy': 5397, 'clifford': 5398, 'felons': 5399, 'pranks': 5400, 'clooney': 5401, 'thigh': 5402, 'stakes': 5403, 'bouncer': 5404, 'performed': 5405, 'medea': 5406, 'porsche': 5407, 'howdydo': 5408, 'leones': 5409, 'advisor': 5410, 'strangely': 5411, 'boating': 5412, 'stanford': 5413, 'graduated': 5414, 'takehome': 5415, 'valentina': 5416, 'screen': 5417, 'zillion': 5418, 'ripped': 5419, 'gonez0': 5420, 'posttraumatic': 5421, 'fchers': 5422, 'floats': 5423, 'videos': 5424, 'hiddencamera': 5425, 'fen': 5426, 'professions': 5427, 'lowe': 5428, 'secondbest': 5429, 'foremost': 5430, 'asshat': 5431, 'devilles': 5432, 'tablet': 5433, 'dollar': 5434, 'vinnie': 5435, 'fiddy': 5436, 'baking': 5437, 'vmars': 5438, 'circuit': 5439, 'chichi': 5440, 'trench': 5441, 'preschools': 5442, 'imdb': 5443, 'credits': 5444, 'stuffed': 5445, 'tablets': 5446, 'mtv': 5447, 'assuming': 5448, '115': 5449, 'arries': 5450, '131': 5451, 'sonofacongressman': 5452, 'trunk': 5453, 'establishing': 5454, 'painfully': 5455, 'anchor': 5456, 'martina': 5457, 'vascuez': 5458, 'prohibited': 5459, 'gathered': 5460, 'blowouts': 5461, 'flatten': 5462, 'logans': 5463, 'motivated': 5464, 'gist': 5465, 'manonman': 5466, 'witnesses': 5467, 'picturing': 5468, 'pg13': 5469, 'charges': 5470, 'epic': 5471, 'bliss': 5472, 'accepting': 5473, 'shoots': 5474, 'fennel': 5475, 'disappointing': 5476, 'squeeb': 5477, 'boston': 5478, 'unofficial': 5479, 'executionstyle': 5480, 'arrests': 5481, 'citywide': 5482, 'manhunt': 5483, 'tightlipped': 5484, 'nowadays': 5485, 'spenser': 5486, 'tropicana': 5487, '05': 5488, 'stokes': 5489, 'posting': 5490, 'firemen': 5491, 'tod': 5492, 'shocker': 5493, 'ponies': 5494, 'highbeams': 5495, 'publicist': 5496, 'greek': 5497, 'spartacus': 5498, 'limo': 5499, 'atm': 5500, 'scan': 5501, 'harold': 5502, 'drivethru': 5503, 'blenders': 5504, 'cookiesandcream': 5505, 'combo': 5506, 'sixpiece': 5507, 'blender': 5508, 'tcch': 5509, 'thursday': 5510, 'khakis': 5511, 'cubicle': 5512, 'premises': 5513, 'imim': 5514, 'confidential': 5515, 'marti': 5516, 'register': 5517, 'beckys': 5518, 'donthmm': 5519, 'cooperate': 5520, 'evan': 5521, 'frontrow': 5522, 'wwhen': 5523, 'bheb': 5524, 'sandras': 5525, 'spanking': 5526, 'rebecca': 5527, 'situations': 5528, 'halfmile': 5529, 'investigating': 5530, 'brainwashed': 5531, 'suree': 5532, 'cane': 5533, 'southwest': 5534, 'madeirg': 5535, 'wears': 5536, 'clues': 5537, 'cigar': 5538, 'prized': 5539, 'possession': 5540, 'housekeeper': 5541, 'fictional': 5542, 'fiction': 5543, 'flay': 5544, 'giants': 5545, 'sherlocksan': 5546, 'metaphysical': 5547, 'mourn': 5548, 'mourned': 5549, 'grieving': 5550, 'diogenes': 5551, 'containing': 5552, 'titles': 5553, 'piqued': 5554, 'arose': 5555, 'semblance': 5556, 'poisoned': 5557, '6reat': 5558, '102': 5559, 'subcutaneously': 5560, 'umezaki': 5561, 'sin': 5562, 'umezakis': 5563, 'journey': 5564, 'soot': 5565, 'attests': 5566, 'fortsmouth': 5567, 'favourable': 5568, 'hated': 5569, 'mechanic': 5570, 'raf': 5571, 'motor': 5572, 'tn': 5573, 'johns': 5574, 'glove': 5575, 'punishment': 5576, 'commonplace': 5577, 'ply': 5578, 'parlour': 5579, 'elsewhere': 5580, 'deception': 5581, 'glimpsed': 5582, 'antipathy': 5583, 'circumstances': 5584, 'errors': 5585, 'unavoidable': 5586, 'damning': 5587, 'patches': 5588, 'trousers': 5589, 'stonemason': 5590, 'dire': 5591, 'necessity': 5592, 'headstones': 5593, 'tames': 5594, 'munro': 5595, 'mustnt': 5596, 'drown': 5597, 'rogers': 5598, 'desperately': 5599, 'punchy': 5600, 'va': 5601, 'bellow': 5602, 'sank': 5603, 'awoke': 5604, 'goodtime': 5605, 'rousing': 5606, 'impersonation': 5607, 'offensive': 5608, 'hamill': 5609, 'officiated': 5610, 'lawful': 5611, 'wedded': 5612, 'fencing': 5613, 'outfit': 5614, 'catalog': 5615, 'fabric': 5616, 'toob125b130k': 5617, 'vogue': 5618, 'wooden': 5619, 'base': 5620, '60000': 5621, 'mcdonough': 5622, 'hesitate': 5623, 'antiques': 5624, 'unorthodox': 5625, 'yolo': 5626, 'kitsch': 5627, 'hurdles': 5628, 'pneumonia': 5629, 'increments': 5630, 'sucked': 5631, 'hymen': 5632, '225': 5633, 'bisexual': 5634, '62': 5635, 'skis': 5636, 'outgoing': 5637, 'threats': 5638, 'imminent': 5639, 'madagascar': 5640, 'ericas': 5641, 'busting': 5642, 'dissension': 5643, 'alliances': 5644, 'tia': 5645, 'heavily': 5646, 'paraphrased': 5647, 'pertains': 5648, 'buildings': 5649, 'structures': 5650, 'metaphor': 5651, 'justify': 5652, 'neatly': 5653, 'identical': 5654, 'homework': 5655, 'conversations': 5656, 'active': 5657, 'lockstep': 5658, 'dates': 5659, 'leadership': 5660, 'regime': 5661, 'emailing': 5662, 'tias': 5663, 'goose': 5664, 'photographs': 5665, 'uhoh': 5666, 'recount': 5667, 'reunion': 5668, 'wyoming': 5669, 'incarcerated': 5670, 'bouquet': 5671, 'irises': 5672, 'amends': 5673, 'ido': 5674, 'northeast': 5675, 'carving': 5676, 'recruit': 5677, 'clandestine': 5678, 'warfare': 5679, 'deals': 5680, 'scofieldburrows': 5681, 'transit': 5682, 'arrives': 5683, 'revive': 5684, 'wilcott': 5685, 'undefeated': 5686, 'underdogs': 5687, 'thethis': 5688, 'gals': 5689, 'briny': 5690, 'rogues': 5691, 'cucumber': 5692, 'finest': 5693, 'parrot': 5694, 'chests': 5695, 'booty': 5696, 'port': 5697, 'clap': 5698, 'avast': 5699, 'plague': 5700, 'geography': 5701, 'sighted': 5702, 'piracy': 5703, 'brinesoaked': 5704, 'ninth': 5705, 'lemons': 5706, 'bearded': 5707, 'lavish': 5708, 'untold': 5709, 'riches': 5710, 'nautical': 5711, 'shiver': 5712, 'timber': 5713, 'gulls': 5714, 'navel': 5715, 'banished': 5716, 'awards': 5717, 'tetanus': 5718, 'swabs': 5719, 'inseparable': 5720, 'serrano': 5721, 'ferocious': 5722, 'hippos': 5723, 'quicker': 5724, 'fascinating': 5725, 'stomachs': 5726, 'ostrich': 5727, 'endurance': 5728, 'coincidence': 5729, 'exgirlfriend': 5730, 'rielding': 5731, 'inconvenient': 5732, 'jussti': 5733, 'diamond': 5734, 'wahwah': 5735, 'youir': 5736, 'belonged': 5737, 'tilke': 5738, 'picks': 5739, 'andover': 5740, 'penn': 5741, 'nyu': 5742, '428000': 5743, 'foxtrot': 5744, 'sharon': 5745, 'condemned': 5746, 'jelly': 5747, 'mlracc': 5748, 'ruck': 5749, 'spaniel': 5750, 'tompkins': 5751, 'kane': 5752, 'academy': 5753, 'wel': 5754, 'wisconsin': 5755, 'thrice': 5756, '90t': 5757, 'iike': 5758, 'tmeven': 5759, 'klc': 5760, 'gamer': 5761, 'felicitys': 5762, 'rolls': 5763, 'regrets': 5764, 'clerkship': 5765, 'ast': 5766, 'iete': 5767, 'pill': 5768, 'popper': 5769, 'lease': 5770, 'thorn': 5771, 'nemesis': 5772, 'torment': 5773, 'mno': 5774, 'humility': 5775, 'dumping': 5776, 'empathetic': 5777, 'hedgehog': 5778, 'irrevocably': 5779, 'ca': 5780, 'instructor': 5781, 'printed': 5782, 'jumps': 5783, 'fishes': 5784, 'health': 5785, 'extend': 5786, 'wrapping': 5787, 'pointers': 5788, 'duster': 5789, 'hardearned': 5790, 'needy': 5791, 'whiny': 5792, 'tomatoes': 5793, 'bottoms': 5794, 'jewelry': 5795, 'ohh': 5796, 'prices': 5797, 'bumping': 5798, 'yorker': 5799, 'museums': 5800, 'baths': 5801, 'naps': 5802, 'conjugal': 5803, 'visits': 5804, 'faithful': 5805, 'contractor': 5806, 'abs': 5807, 'outgrow': 5808, 'distracting': 5809, 'unload': 5810, 'haul': 5811, 'scent': 5812, 'nonexistent': 5813, 'temperamental': 5814, 'sedan': 5815, 'beige': 5816, 'interior': 5817, 'cleaned': 5818, '700': 5819, 'ending': 5820, 'revised': 5821, 'staircase': 5822, 'ht': 5823, 'gordo': 5824, 'terrified': 5825, 'corporations': 5826, 'widening': 5827, 'rebuilding': 5828, 'misunderstood': 5829, 'reverse': 5830, 'haha': 5831, 'bojangles': 5832, 'sammy': 5833, 'davis': 5834, 'jr': 5835, 'simone': 5836, 'doorhalfopen': 5837, 'politely': 5838, 'alternative': 5839, 'ins': 5840, 'bys': 5841, 'misjudged': 5842, 'expresses': 5843, 'semester': 5844, 'paranoid': 5845, 'mixing': 5846, 'faut': 5847, 'heals': 5848, 'stroller': 5849, 'sis': 5850, 'factos': 5851, 'pierson': 5852, 'mosley': 5853, 'conceives': 5854, 'mischief': 5855, 'falsehood': 5856, 'treated': 5857, 'parker': 5858, 'fitch': 5859, 'fabricated': 5860, 'blocking': 5861, 'sausage': 5862, 'unboxing': 5863, 'kielbasa': 5864, 'sherry': 5865, 'colombian': 5866, 'sher': 5867, 'bartev': 5868, 'helpful': 5869, 'il': 5870, 'iphone': 5871, 'hundredth': 5872, 'meemaw': 5873, 'bake': 5874, 'sisize': 5875, 'opt': 5876, 'handmedowns': 5877, 'adults': 5878, 'bustedup': 5879, 'flatlined': 5880, 'slab': 5881, 'undead': 5882, 'vertebra': 5883, 'kudos': 5884, 'yknow': 5885, 'zombies': 5886, 'surprisingly': 5887, 'soldier': 5888, 'whilst': 5889, 'arsed': 5890, 'bedside': 5891, 'manner': 5892, '70k': 5893, 'seventy': 5894, 'lifethreatening': 5895, 'walkin': 5896, 'comin': 5897, 'avante': 5898, 'mal': 5899, '155k': 5900, 'loaned': 5901, 'doorstep': 5902, 'traveled': 5903, 'batons': 5904, 'prick': 5905, 'ak': 5906, '47': 5907, 'snag': 5908, 'thoroughbred': 5909, 'stallion': 5910, 'thimble': 5911, 'startin': 5912, 'engines': 5913, 'ringer': 5914, 'boxings': 5915, 'mma': 5916, 'bein': 5917, 'ninja': 5918, 'tellin': 5919, 'skinner': 5920, 'mistaken': 5921, 'coldblooded': 5922, 'felix': 5923, 'burger': 5924, 'ththat': 5925, 'threerun': 5926, 'leukemia': 5927, 'milly': 5928, 'busted': 5929, '250000': 5930, 'keepin': 5931, 'givin': 5932, 'watchin': 5933, 'cutty': 5934, 'americas': 5935, 'devious': 5936, 'killin': 5937, 'bores': 5938, 'grandpa': 5939, 'pond': 5940, 'twligive': 5941, 'youra': 5942, 'cope': 5943, 'alison': 5944, 'shona': 5945, 'robbies': 5946, 'lindsay': 5947, 'ribs': 5948, 'cracked': 5949, 'wrist': 5950, 'fractured': 5951, 'socket': 5952, 'squint': 5953, 'eet': 5954, 'stills': 5955, 'goddess': 5956, 'crafted': 5957, 'mairi': 5958, 'buckie': 5959, 'ave': 5960, 'noses': 5961, 'primitive': 5962, 'fags': 5963, 'aboard': 5964, 'resist': 5965, 'aerial': 5966, 'fuckino': 5967, 'spicy': 5968, 'fermentation': 5969, 'breeze': 5970, 'nutty': 5971, 'wringing': 5972, 'edinburgh': 5973, 'ranger': 5974, 'fruity': 5975, 'leather': 5976, 'associated': 5977, 'psychoballs': 5978, 'leonies': 5979, 'buke': 5980, 'passes': 5981, 'grail': 5982, 'genuine': 5983, 'awexa': 5984, 'richest': 5985, 'dealers': 5986, 'doin': 5987, 'newly': 5988, 'financial': 5989, 'membership': 5990, 'autograph': 5991, 'grandchildren': 5992, 'quaich': 5993, 'ado': 5994, 'rory': 5995, 'mcallister': 5996, 'angus': 5997, 'unusual': 5998, '960': 5999, '960000': 6000, 'telephones': 6001, '980': 6002, 'lefthand': 6003, '1120000': 6004, 'moscow': 6005, 'jim': 6006, 'swap': 6007, 'molesting': 6008, 'civilians': 6009, 'shocking': 6010, 'policeman': 6011, 'connolly': 6012, 'robert': 6013, 'braveheart': 6014, 'pouring': 6015, 'thaddeus': 6016, 'mental': 6017, 'tensions': 6018, 'fuckoff': 6019, 'stirling': 6020, 'negotiator': 6021, 'tadpole': 6022, 'raining': 6023, 'stalling': 6024, 'reat': 6025, 'cust': 6026, 'coz': 6027, 'strangers': 6028, 'semper': 6029, 'fi': 6030, 'orleans': 6031, 'alluring': 6032, 'te': 6033, 'grandparents': 6034, 'presence': 6035, 'mot': 6036, 'stark': 6037, 'shrapnel': 6038, 'subscribe': 6039, 'fascinated': 6040, 'domestic': 6041, 'officers': 6042, 'activities': 6043, 'cookin': 6044, 'juice': 6045, 'pause': 6046, 'chef': 6047, 'dumont': 6048, 'intense': 6049, 'emptied': 6050, 'chores': 6051, 'ourhands': 6052, 'gardener': 6053, 'mute': 6054, 'channelis': 6055, 'changeroni': 6056, 'llike': 6057, 'glenn': 6058, 'handwriting': 6059, 'rephrase': 6060, 'reassigned': 6061, 'sabbatical': 6062, 'nno': 6063, 'thatthats': 6064, 'siebert': 6065, 'removed': 6066, 'col': 6067, 'bankers': 6068, 'tenure': 6069, 'discharged': 6070, 'ruling': 6071, 'uninteresting': 6072, 'pointblank': 6073, 'trashing': 6074, 'chitchat': 6075, 'banged': 6076, 'harrv': 6077, 'pine': 6078, 'pee': 6079, 'worries': 6080, 'publishers': 6081, 'rubv': 6082, 'susie': 6083, 'postcards': 6084, 'tease': 6085, 'compass': 6086, 'rosenthal': 6087, 'mandi': 6088, 'films': 6089, 'grounded': 6090, 'narrative': 6091, 'peeking': 6092, 'sensual': 6093, 'olympian': 6094, 'wield': 6095, 'lightsaber': 6096, 'uhwe': 6097, 'attest': 6098, 'luckiest': 6099, 'happiest': 6100, 'wholly': 6101, 'reggie': 6102, 'tidy': 6103, 'loads': 6104, 'tours': 6105, 'etcetera': 6106, 'management': 6107, 'entitled': 6108, 'heartless': 6109, 'frigid': 6110, 'legends': 6111, 'bernie': 6112, 'commune': 6113, 'frock': 6114, 'granny': 6115, 'tangles': 6116, 'essays': 6117, 'socials': 6118, 'dances': 6119, 'evelyn': 6120, 'veteran': 6121, 'rueberstaier': 6122, 'abi': 6123, 'degrading': 6124, 'supper': 6125, 'sincerity': 6126, 'forum': 6127, 'participants': 6128, 'unappealing': 6129, 'bly': 6130, 'jones': 6131, 'pageant': 6132, 'alphabetical': 6133, 'aptitude': 6134, 'archie': 6135, 'topics': 6136, 'dissertations': 6137, 'niche': 6138, 'rethink': 6139, 'refocus': 6140, 'invasion': 6141, 'oppression': 6142, 'demonstrate': 6143, 'communal': 6144, 'swallowed': 6145, 'taxis': 6146, 'jo': 6147, 'brigade': 6148, 'scupper': 6149, 'venue': 6150, 'handholding': 6151, 'africa': 6152, 'sweden': 6153, 'christel': 6154, 'finalists': 6155, 'customary': 6156, 'hipjoint': 6157, 'assembly': 6158, 'noteworthy': 6159, 'abcs': 6160, 'zoned': 6161, 'pianos': 6162, 'downsizing': 6163, 'dotcom': 6164, 'naughton': 6165, 'mannheim': 6166, 'graphic': 6167, 'liees': 6168, 'dumbledore': 6169, 'bathed': 6170, 'arctic': 6171, 'latin': 6172, 'recited': 6173, 'verse': 6174, 'iites': 6175, 'motto': 6176, 'ias': 6177, 'oconnell': 6178, '100yearold': 6179, 'frames': 6180, 'undergo': 6181, 'candid': 6182, 'nonvital': 6183, 'publishing': 6184, 'printable': 6185, 'costly': 6186, 'cn': 6187, 'movein': 6188, '4700': 6189, 'armstrong': 6190, 'sheba': 6191, 'cramping': 6192, 'linderman': 6193, 'europe': 6194, 'oates': 6195, 'skateboard': 6196, 'oblong': 6197, 'gradual': 6198, 'fin': 6199, 'tceland': 6200, 'volcano': 6201, '2nd': 6202, 'iceland': 6203, 'ernie': 6204, 'cherry': 6205, 'homeboy': 6206, 'rodeo': 6207, 'comparison': 6208, 'lightyear': 6209, 'shout': 6210, 'rai': 6211, 'astronaut': 6212, 'floating': 6213, 'outer': 6214, 'froot': 6215, 'loops': 6216, '2311': 6217, 'robles': 6218, 'carpentry': 6219, 'locust': 6220, 'yip': 6221, 'wolowiiz': 6222, 'lesser': 6223, 'fairy': 6224, 'mario': 6225, 'consent': 6226, 'clowns': 6227, 'unintentionally': 6228, 'giggle': 6229, 'marvelous': 6230, 'buck': 6231, 'alike': 6232, 'sides': 6233, 'appleseed': 6234, 'sperm': 6235, 'revolting': 6236, 'apologized': 6237, 'fistin': 6238, 'smuggle': 6239, 'hash': 6240, 'hal': 6241, 'lad': 6242, 'paddys': 6243, 'authorize': 6244, 'surveillance': 6245, 'kit': 6246, 'manpower': 6247, 'testy': 6248, 'hypothetically': 6249, 'gee': 6250, 'nineyearold': 6251, 'prey': 6252, 'virtuous': 6253, 'hedging': 6254, 'bills': 6255, 'dives': 6256, 'motorcycle': 6257, 'dealt': 6258, '425': 6259, 'trojan': 6260, 'apprentice': 6261, 'france': 6262, 'sonofabitch': 6263, 'motherfuck': 6264, 'thirtytwo': 6265, 'turner': 6266, 'monet': 6267, 'vermeer': 6268, 'completeness': 6269, 'possess': 6270, 'singsing': 6271, 'prevent': 6272, 'rapes': 6273, 'toad': 6274, 'crunchs': 6275, 'atta': 6276, 'oneeyed': 6277, 'amish': 6278, 'carriages': 6279, 'brando': 6280, 'hoss': 6281, 'fail': 6282, 'parallel': 6283, 'stolen': 6284, 'uhh': 6285, 'predator': 6286, 'glover': 6287, 'overpaid': 6288, 'flush': 6289, 'downstairs': 6290, 'minimum': 6291, 'scrutiny': 6292, '300000': 6293, 'mortgage': 6294, 'amsterdam': 6295, 'delivers': 6296, 'chum': 6297, 'olga': 6298, 'mona': 6299, 'sculpture': 6300, 'plant': 6301, 'domenic': 6302, '1887': 6303, 'mccarthy': 6304, 'rarefied': 6305, 'celebrities': 6306, 'william': 6307, 'shatner': 6308, 'scarlett': 6309, 'wheaton': 6310, 'disorder': 6311, 'chaos': 6312, 'locomotive': 6313, 'barrier': 6314, 'prescribed': 6315, 'timmy': 6316, 'tanya': 6317, 'rifles': 6318, 'outnumbered': 6319, 'curtis': 6320, 'namgoung': 6321, 'surname': 6322, 'minsoo': 6323, 'vocabulary': 6324, 'squatting': 6325, 'kissimmee': 6326, 'thread': 6327, 'needle': 6328, 'deviate': 6329, 'climbing': 6330, 'securely': 6331, 'intentions': 6332, 'vertical': 6333, 'gears': 6334, 'descending': 6335, '21000': 6336, 'stabilizer': 6337, 'coma': 6338, 'unions': 6339, 'deana': 6340, 'knuckles': 6341, 'ratched': 6342, 'smokes': 6343, 'carton': 6344, 'pint': 6345, 'tuck': 6346, 'freezer': 6347, 'veal': 6348, 'cinnamon': 6349, 'buns': 6350, 'intoxication': 6351, 'initial': 6352, 'sheared': 6353, 'microscope': 6354, 'liquor': 6355, 'georgia': 6356, 'lenny': 6357, 'format': 6358, 'alcoholics': 6359, 'vicky': 6360, 'whitaker': 6361, 'guiding': 6362, 'fateful': 6363, 'seventeen': 6364, 'exwife': 6365, 'wheelchair': 6366, 'harling': 6367, 'mays': 6368, 'gram': 6369, 'inverted': 6370, 'audio': 6371, 'compelling': 6372, 'cockpit': 6373, 'investigative': 6374, 'summary': 6375, '934': 6376, '942': 6377, 'pitched': 6378, 'manually': 6379, 'gifts': 6380, 'phoenix': 6381, 'montana': 6382, 'countryside': 6383, 'eovs': 6384, 'tasks': 6385, 'maintain': 6386, 'fireplace': 6387, 'craftsman': 6388, 'timid': 6389, '2ood': 6390, 'meek': 6391, 'mild': 6392, 'greta': 6393, 'behaved': 6394, 'limbo': 6395, 'eighth': 6396, 'outi': 6397, 'worldfamous': 6398, 'rumors': 6399, 'pity': 6400, 'thus': 6401, 'coral': 6402, 'lipstick': 6403, 'nag': 6404, 'backis': 6405, 'swore': 6406, 'tantrums': 6407, 'smashed': 6408, 'interfere': 6409, 'affairs': 6410, 'sensible': 6411, '1t': 6412, 'sweeping': 6413, 'weekly': 6414, 'tube': 6415, 'electric': 6416, 'williamsburg': 6417, 'booth': 6418, 'waiters': 6419, '350': 6420, 'poland': 6421, 'satisfied': 6422, 'yanni': 6423, 'gollum': 6424, 'l1': 6425, 'koothrappali': 6426, 'roof': 6427, 'detecting': 6428, 'friction': 6429, 'flooded': 6430, 'tina': 6431, 'cluei': 6432, 'isa': 6433, 'sefu': 6434, 'repairing': 6435, 'b52': 6436, 'helmets': 6437, 'dolphins': 6438, 'rickshaw': 6439, 'emperor': 6440, 'hinges': 6441, 'hinge': 6442, 'impenetrable': 6443, 'easter': 6444, 'viper': 6445, 'pan': 6446, 'lotus': 6447, 'goicha': 6448, 'wisdom': 6449, 'oogways': 6450, 'ch': 6451, 'defeats': 6452, 'rediscover': 6453, 'warming': 6454, 'scroll': 6455, 'thorax': 6456, 'croc': 6457, 'creatures': 6458, 'villages': 6459, 'strongly': 6460, 'ut': 6461, 'mantis': 6462, 'noon': 6463, '2o': 6464, 'kung': 6465, 'fu': 6466, 'widows': 6467, 'freakishly': 6468, 'sizewise': 6469, '99th': 6470, 'herocon': 6471, 'panel': 6472, 'gal': 6473, 'mac': 6474, 'counter': 6475, 'trusty': 6476, 'steed': 6477, 'section': 6478, '22b': 6479, 'canyon': 6480, 'donna': 6481, 'duncan': 6482, 'stepson': 6483, 'digby': 6484, 'nonverbal': 6485, 'communication': 6486, 'panels': 6487, 'feast': 6488, 'norph': 6489, 'ogre': 6490, 'joel': 6491, 'spheres': 6492, 'tweezers': 6493, 'nussbaum': 6494, 'institute': 6495, 'mergers': 6496, 'zippin': 6497, 'sponsors': 6498, 'season': 6499, 'norphs': 6500, 'behave': 6501, 'warlike': 6502, 'thistlewit': 6503, 'auroras': 6504, 'fairies': 6505, 'sprites': 6506, 'nightfall': 6507, 'lief': 6508, 'crushing': 6509, 'branches': 6510, 'majesty': 6511, 'dignity': 6512, 'maleficent': 6513, 'pierced': 6514, 'flesh': 6515, 'depths': 6516, 'lashes': 6517, 'conall': 6518, 'extinct': 6519, 'peasants': 6520, 'moors': 6521, 'conflict': 6522, 'borra': 6523, 'swords': 6524, 'shields': 6525, 'underground': 6526, 'kingdoms': 6527, 'locusts': 6528, 'snowboards': 6529, 'emo': 6530, 'fad': 6531, 'chapters': 6532, 'compete': 6533, '830': 6534, 'slack': 6535, 'sundays': 6536, 'wachusetts': 6537, 'quash': 6538, 'rifkin': 6539, 'tomato': 6540, 'twisted': 6541, 'shat': 6542, 'shannon': 6543, 'chicks': 6544, 'eddy': 6545, 'zuckerberg': 6546, 'electronic': 6547, 'computerrelated': 6548, 'penelope': 6549, 'hottest': 6550, 'dj': 6551, 'remixes': 6552, 'mobs': 6553, 'mercury': 6554, 'locally': 6555, 'renowned': 6556, 'iris': 6557, 'socal': 6558, 'skate': 6559, 'nextlevel': 6560, 'dancers': 6561, 'firms': 6562, 'oversee': 6563, 'council': 6564, '6000000': 6565, 'becoming': 6566, 'sensation': 6567, 'announce': 6568, 'chambers': 6569, 'protein': 6570, 'earls': 6571, 'starsky': 6572, 'storeski': 6573, 'selfrespect': 6574, 'pritchett': 6575, 'mombomb': 6576, 'cozy': 6577, 'jello': 6578, 'pic': 6579, 'cage': 6580, 'anticipation': 6581, 'mediated': 6582, 'stops': 6583, 'olives': 6584, 'reporter': 6585, 'hubert': 6586, 'givens': 6587, 'editing': 6588, 'backwoods': 6589, 'behavior': 6590, 'reflect': 6591, 'highest': 6592, 'raj': 6593, 'bitchy': 6594, 'challenging': 6595, 'climate': 6596, 'scandinavia': 6597, 'latterday': 6598, 'idris': 6599, 'elba': 6600, 'congratulating': 6601, 'poachersthey': 6602, 'sweethearts': 6603, 'tijuana': 6604, 'poaching': 6605, 'hmmwhats': 6606, 'bookish': 6607, 'freeze': 6608, 'syndication': 6609, 'royalty': 6610, 'scientology': 6611, 'fluff': 6612, 'awhat': 6613, 'bleached': 6614, 'groundbreaking': 6615, 'starring': 6616, 'boner': 6617, 'worldand': 6618, 'tryingtobeacop': 6619, 'copand': 6620, 'sometimesyou': 6621, 'harassing': 6622, 'daysyoure': 6623, 'extreme': 6624, 'prejudice': 6625, 'sorryit': 6626, 'menace': 6627, 'nmurders': 6628, 'bumblypants': 6629, 'christs': 6630, 'alligator': 6631, 'mouths': 6632, 'servants': 6633, 'principal': 6634, 'cast': 6635, 'jenny': 6636, 'expuppet': 6637, 'malethree': 6638, 'fleeing': 6639, '1643': 6640, 'tasteful': 6641, 'carousel': 6642, 'arousing': 6643, 'rabbit': 6644, 'carrotis': 6645, 'trevor': 6646, 'fleshy': 6647, 'liver': 6648, 'itits': 6649, 'unethical': 6650, 'inthrew': 6651, 'ezra': 6652, 'carathe': 6653, 'cousins': 6654, 'vow': 6655, 'whatare': 6656, 'whatre': 6657, 'scratching': 6658, 'clawing': 6659, 'meand': 6660, 'carits': 6661, 'fuckingyou': 6662, 'onepartner': 6663, 'les': 6664, 'gangeven': 6665, 'fuzzy': 6666, 'iti': 6667, 'anybodys': 6668, 'rightim': 6669, 'awayim': 6670, 'jeezthis': 6671, 'investigations': 6672, 'slowslow': 6673, 'bubbles': 6674, 'booked': 6675, 'bubblesyoure': 6676, 'peach': 6677, 'itlets': 6678, 'sirthis': 6679, 'terminal': 6680, 'phildont': 6681, 'piecejust': 6682, 'fleshywhy': 6683, 'wellil': 6684, 'heyhows': 6685, 'yescall': 6686, 'oki': 6687, 'wasuhthe': 6688, 'woohoolook': 6689, 'surprisedbut': 6690, 'yeahexcept': 6691, 'awaymax': 6692, 'uhmy': 6693, 'rightill': 6694, 'heyim': 6695, 'nahive': 6696, 'daymane': 6697, 'vou': 6698, 'noit': 6699, 'wellhow': 6700, 'wham': 6701, 'quy': 6702, 'ohman': 6703, 'moneyman': 6704, 'noright': 6705, 'cet': 6706, 'cooperating': 6707, 'knowyou': 6708, 'chances': 6709, 'soheres': 6710, 'wh': 6711, 'cache': 6712, 'beforetrust': 6713, 'ohyes': 6714, 'manhe': 6715, 'maxi': 6716, 'donaldnew': 6717, 'nows': 6718, 'imitation': 6719, 'phenomenal': 6720, 'elementary': 6721, 'opera': 6722, '29th': 6723, '1961': 6724, 'casual': 6725, 'poetic': 6726, 'positive': 6727, 'sang': 6728, 'unnatural': 6729, 'photograph': 6730, 'molecules': 6731, 'vibrate': 6732, 'dreamed': 6733, 'embraced': 6734, 'tibor': 6735, 'stadiums': 6736, 'branching': 6737, 'geared': 6738, 'appeal': 6739, 'arguments': 6740, 'aria': 6741, 'repertoire': 6742, 'rehearsed': 6743, 'suggested': 6744, 'divide': 6745, 'saddest': 6746, 'determination': 6747, 'overstate': 6748, 'tidal': 6749, 'tenors': 6750, 'classical': 6751, 'disgusting': 6752, 'unthinkable': 6753, 'devote': 6754, 'italy': 6755, 'wives': 6756, 'seclusion': 6757, 'itin': 6758, 'forpavarotti': 6759, 'nowfalling': 6760, 'hecaughtit': 6761, 'topheavy': 6762, 'shellys': 6763, 'versions': 6764, 'eyesight': 6765, 'blinking': 6766, 'backordered': 6767, 'rely': 6768, 'puppy': 6769, 'moo': 6770, 'shu': 6771, 'porks': 6772, 'duodenum': 6773, 'koothrappalis': 6774, 'synchronize': 6775, 'triumph': 6776, 'gowns': 6777, 'syringe': 6778, 'syringes': 6779, '60cc': 6780, 'pinpoint': 6781, '1045': 6782, 'butts': 6783, 'threaten': 6784, 'asi': 6785, 'traumas': 6786, 'stella': 6787, 'drawings': 6788, 'artsy': 6789, 'arrange': 6790, 'popcorn': 6791, 'umbilical': 6792, 'vent': 6793, 'standby': 6794, 'laurie': 6795, 'civil': 6796, 'rational': 6797, 'suited': 6798, 'bovie': 6799, 'retraction': 6800, 'livers': 6801, 'transplant': 6802, 'resection': 6803, 'withstand': 6804, 'hospitals': 6805, 'salary': 6806, 'roar': 6807, 'mentored': 6808, 'locks': 6809, 'epidural': 6810, 'pinned': 6811, 'pager': 6812, 'dopamine': 6813, 'bottoming': 6814, 'pelvis': 6815, 'quadrant': 6816, 'bile': 6817, 'pancreatic': 6818, 'secretions': 6819, 'altman': 6820, 'whwhat': 6821, 'fractures': 6822, 'pry': 6823, 'fda': 6824, 'islet': 6825, 'aa': 6826, 'miscommunication': 6827, 'bumps': 6828, 'deer': 6829, 'gardens': 6830, 'venison': 6831, 'freshenup': 6832, 'scott': 6833, 'branding': 6834, 'advertising': 6835, 'magazines': 6836, 'articles': 6837, 'empowerment': 6838, '1905': 6839, 'poisonous': 6840, 'backs': 6841, 'wooded': 6842, 'preserve': 6843, 'cassidy': 6844, 'gunned': 6845, 'randall': 6846, 'vines': 6847, 'creaking': 6848, 'keeper': 6849, 'discreetly': 6850, 'losses': 6851, 'bankruptcy': 6852, 'dancer': 6853, 'diets': 6854, 'twigs': 6855, 'wilson': 6856, 'shakes': 6857, 'lambs': 6858, 'tail': 6859, 'vitals': 6860, 'labs': 6861, 'survey': 6862, 'revealed': 6863, 'briskly': 6864, 'scalp': 6865, 'assess': 6866, 'fellowship': 6867, 'compliment': 6868, 'umwilson': 6869, 'intestines': 6870, 'hon': 6871, 'alexanders': 6872, 'nagamaki': 6873, 'reek': 6874, 'blouse': 6875, 'puke': 6876, 'miscalculated': 6877, 'rises': 6878, 'alphonso': 6879, 'gallego': 6880, 'suburban': 6881, 'plead': 6882, 'hearings': 6883, 'alarmsand': 6884, 'screams': 6885, 'interns': 6886, 'tulane': 6887, 'pledges': 6888, 'snaking': 6889, 'mojo': 6890, 'cross': 6891, 'suture': 6892, 'franklin': 6893, 'abdomen': 6894, 'olivia': 6895, 'examination': 6896, 'ophthalmologist': 6897, 'acuity': 6898, 'georgie': 6899, 'functions': 6900, 'surgical': 6901, 'intern': 6902, 'events': 6903, 'attend': 6904, 'ovarian': 6905, 'sew': 6906, 'perforation': 6907, 'knox': 6908, 'urine': 6909, 'feces': 6910, 'maybemaybe': 6911, 'ditko': 6912, 'marvel': 6913, 'richer': 6914, 'transformer': 6915, 'lasagna': 6916, 'pound': 6917, 'cure': 6918, 'poisoning': 6919, 'hacks': 6920, 'pankauskas': 6921, 'scraped': 6922, 'goodrich': 6923, 'visible': 6924, 'pupils': 6925, 'equates': 6926, 'skipped': 6927, 'inept': 6928, 'halloweens': 6929, 'phony': 6930, 'compactor': 6931, 'iv': 6932, 'couples': 6933, 'talkin': 6934, 'nurturing': 6935, 'inner': 6936, 'cookbook': 6937, 'woo': 6938, 'sweep': 6939, 'ohyou': 6940, 'stressful': 6941, 'korea': 6942, 'porer': 6943, 'grandchild': 6944, 'spied': 6945, 'folic': 6946, 'acid': 6947, 'contracts': 6948, 'counselor': 6949, 'sergeant': 6950, 'bens': 6951, 'tackled': 6952, 'forestry': 6953, 'moods': 6954, 'nagging': 6955, 'gruff': 6956, 'baggage': 6957, 'salts': 6958, 'offering': 6959, 'livid': 6960, 'hacking': 6961, 'stump': 6962, 'boosting': 6963, 'spirits': 6964, 'oan': 6965, 'terrific': 6966, 'rhetorical': 6967, 'spermwhite': 6968, 'toyota': 6969, 'tercel': 6970, 'hex': 6971, 'towed': 6972, 'wicker': 6973, 'cosplay': 6974, 'nay': 6975, 'eric': 6976, 'animation': 6977, 'tow': 6978, 'jobreyth': 6979, 'fireworks': 6980, 'guinevere': 6981, 'perfection': 6982, 'underestimate': 6983, 'endowments': 6984, 'ia': 6985, 'dp': 6986, 'palpable': 6987, 'furry': 6988, 'fetish': 6989, 'groundthy': 6990, 'bound': 6991, 'regeneration': 6992, 'lest': 6993, 'bolt': 6994, 'scourge': 6995, 'paintball': 6996, 'crashed': 6997, 'denizens': 6998, 'elves': 6999, 'speakers': 7000, 'elvish': 7001, 'robes': 7002, 'pointy': 7003, 'freaky': 7004, 'larpers': 7005, 'marching': 7006, 'goh': 7007, 'nether': 7008, 'refer': 7009, 'scales': 7010, 'gazed': 7011, 'visage': 7012, 'moustache': 7013, 'cruel': 7014, 'backside': 7015, 'wizard': 7016, 'gunther': 7017, 'avenge': 7018, 'handwritten': 7019, 'mystic': 7020, 'internets': 7021, 'admitting': 7022, 'kwok': 7023, 'sealed': 7024, 'manor': 7025, 'cary': 7026, 'unleash': 7027, 'iforiune': 7028, 'covet': 7029, 'reap': 7030, 'spoils': 7031, 'conquest': 7032, 'matching': 7033, 'ronnys': 7034, 'await': 7035, 'rvan': 7036, 'gosling': 7037, 'damages': 7038, 'distinct': 7039, 'snaps': 7040, 'tweets': 7041, 'mongolian': 7042, 'kale': 7043, 'greens': 7044, 'dicks': 7045, 'pillars': 7046, 'ideal': 7047, 'craigslist': 7048, 'defects': 7049, 'butthole': 7050, 'hightech': 7051, 'supercomputer': 7052, 'farts': 7053, 'jh': 7054, 'furiously': 7055, 'hobbies': 7056, 'biking': 7057, 'archimedes': 7058, 'exclamation': 7059, 'eureka': 7060, 'beaten': 7061, 'nicest': 7062, 'nip': 7063, 'oranges': 7064, 'playwright': 7065, 'hamilton': 7066, 'parodies': 7067, 'papi': 7068, 'quirks': 7069, 'farther': 7070, 'brochures': 7071, 'carb': 7072, 'tackle': 7073, 'supplements': 7074, 'curtain': 7075, 'realestate': 7076, 'segment': 7077, 'artistdaughter': 7078, 'midcentury': 7079, 'restroom': 7080, 'vents': 7081, 'coldair': 7082, 'sweater': 7083, 'tends': 7084, 'chilly': 7085, 'blank': 7086, 'mozart': 7087, 'fugue': 7088, 'dwights': 7089, 'skydiving': 7090, 'pegs': 7091, 'automatically': 7092, 'buti': 7093, 'wrists': 7094, 'martha': 7095, 'stewart': 7096, 'wwwe': 7097, 'hunts': 7098, 'handled': 7099, 'snore': 7100, 'cookie': 7101, 'msg': 7102, 'chinatown': 7103, 'bursting': 7104, 'seams': 7105, 'greeks': 7106, 'squat': 7107, 'slave': 7108, 'tien': 7109, 'chau': 7110, 'immovable': 7111, 'sham': 7112, 'ricky': 7113, 'pauls': 7114, 'faul': 7115, 'collections': 7116, 'venezuelan': 7117, 'trawler': 7118, 'mahjong': 7119, 'forths': 7120, 'chung': 7121, 'ying': 7122, 'ellis': 7123, 'irish': 7124, 'italians': 7125, 'fuckedup': 7126, 'bubble': 7127, 'teresa': 7128, 'contrast': 7129, 'heirloom': 7130, 'highprofile': 7131, 'vanishes': 7132, 'implying': 7133, 'avenues': 7134, 'pr': 7135, 'blouses': 7136, 'bruise': 7137, 'smothers': 7138, 'nondenominational': 7139, 'ton': 7140, 'smiles': 7141, 'maryanne': 7142, 'chelkowsky': 7143, 'squaw': 7144, '50th': 7145, 'alumni': 7146, 'martinis': 7147, 'lane': 7148, 'ongoing': 7149, 'snuck': 7150, 'ricks': 7151, 'handy': 7152, 'silent': 7153, 'seal': 7154, 'display': 7155, 'emotion': 7156, 'overdrive': 7157, 'acoustic': 7158, 'harness': 7159, 'nails': 7160, 'safely': 7161, 'shaggy': 7162, 'sarcasm': 7163, 'collie': 7164, 'lawn': 7165, 'mower': 7166, 'roxys': 7167, 'limited': 7168, 'mashed': 7169, 'pair': 7170, 'ashvaashe': 7171, 'wok': 7172, 'ashysasha': 7173, 'catering': 7174, 'shameless': 7175, 'granite': 7176, 'itthose': 7177, 'muchim': 7178, 'ohthats': 7179, 'questionsand': 7180, 'uhi': 7181, 'goin': 7182, 'slowtoo': 7183, 'ohi': 7184, 'classyby': 7185, 'hound': 7186, 'blindits': 7187, 'wellur': 7188, 'fo': 7189, 'gabybecause': 7190, 'mmno': 7191, 'wellve': 7192, 'mehes': 7193, 'wellthats': 7194, 'ohsomething': 7195, 'yesof': 7196, 'ohsweetiei': 7197, '1959': 7198, 'immigration': 7199, 'sincere': 7200, 'taky': 7201, 'kimura': 7202, 'marriages': 7203, '1968': 7204, '1351b': 7205, 'wrestler': 7206, 'reids': 7207, 'teen': 7208, 'props': 7209, 'neighbourhood': 7210, 'wayne': 7211, 'himits': 7212, 'seasoned': 7213, 'actors': 7214, 'holistic': 7215, 'literate': 7216, 'selfknowledge': 7217, 'notations': 7218, 'passages': 7219, 'fencer': 7220, 'efficiently': 7221, 'standardised': 7222, 'jkd': 7223, '1970': 7224, 'differ': 7225, 'thumb': 7226, 'debate': 7227, 'thers': 7228, 'correlation': 7229, 'choking': 7230, 'lebell': 7231, 'grappling': 7232, 'crescent': 7233, 'athlete': 7234, 'bothers': 7235, 'choke': 7236, 'directed': 7237, 'ingredient': 7238, 'longstreet': 7239, 'creep': 7240, 'workingclass': 7241, 'ballet': 7242, 'swinging': 7243, 'miami': 7244, 'nunchakus': 7245, 'whipping': 7246, 'outlawed': 7247, 'swung': 7248, 'rubber': 7249, 'adamant': 7250, 'counsel': 7251, 'reel': 7252, 'hollywoods': 7253, 'dipping': 7254, 'lees': 7255, 'dubbing': 7256, 'oedema': 7257, 'wong': 7258, 'reassuring': 7259, 'collapse': 7260, 'frequent': 7261, 'june': 7262, 'faces': 7263, 'dilemma': 7264, 'verge': 7265, 'stardom': 7266, 'raymond': 7267, 'chow': 7268, 'shredded': 7269, 'manifest': 7270, 'appliances': 7271, 'apparel': 7272, 'bowl': 7273, 'osha': 7274, 'offices': 7275, 'graveyard': 7276, 'trex': 7277, 'wendy': 7278, 'yuck': 7279, 'glow': 7280, 'vartanns': 7281, 'goo': 7282, 'mangled': 7283, 'suggests': 7284, 'scope': 7285, 'portion': 7286, 'cranial': 7287, 'frag': 7288, 'ballistics': 7289, 'ads': 7290, 'monthly': 7291, 'reduced': 7292, 'zeroes': 7293, 'correctly': 7294, 'wesley': 7295, 'mailroom': 7296, 'string': 7297, 'sentences': 7298, 'forcefed': 7299, 'loans': 7300, 'repossessed': 7301, 'bullpen': 7302, 'purchases': 7303, 'sketchbook': 7304, 'fragment': 7305, 'previous': 7306, 'encapsulation': 7307, 'mechanism': 7308, 'chia': 7309, 'shootings': 7310, 'doe': 7311, 'alley': 7312, 'glock': 7313, 'shooter': 7314, 'catherine': 7315, 'larrys': 7316, 'dime': 7317, 'pennyante': 7318, 'dmv': 7319, 'cv': 7320, 'burglary': 7321, 'currency': 7322, 'allknowing': 7323, 'executive': 7324, 'withdrawing': 7325, 'accessed': 7326, 'accounts': 7327, 'getaway': 7328, 'idpreserve': 7329, '1ll': 7330, '1111': 7331, 'approve': 7332, 'bosoms': 7333, 'mat': 7334, 'dodo': 7335, 'elegant': 7336, 'defy': 7337, 'pushup': 7338, 'loan': 7339, 'experimental': 7340, '2148': 7341, 'highpower': 7342, 'lasers': 7343, 'contradictions': 7344, 'installments': 7345, 'higgs': 7346, 'macaroni': 7347, 'necklace': 7348, 'knicks': 7349, '70s': 7350, 'narrowed': 7351, 'swiss': 7352, 'satin': 7353, 'wwhy': 7354, 'paint': 7355, 'frog': 7356, 'ttheyre': 7357, 'charting': 7358, 'meltdowns': 7359, 'haircut': 7360, 'bangs': 7361, 'dinosaurs': 7362, 'sniffs': 7363, 'felony': 7364, 'rollsroyce': 7365, 'burt': 7366, 'reynolds': 7367, 'mannys': 7368, 'teaches': 7369, 'stranger': 7370, 'depressing': 7371, 'capandgown': 7372, 'quarterback': 7373, 'allyson': 7374, 'coolest': 7375, 'prettiest': 7376, 'accustomed': 7377, 'blessings': 7378, 'petition': 7379, 'ginny': 7380, 'canvas': 7381, 'voicemail': 7382, 'hindu': 7383, 'manu': 7384, 'rais': 7385, 'arguably': 7386, 'activity': 7387, 'stimulate': 7388, 'analogous': 7389, 'cord': 7390, 'cutim': 7391, 'responded': 7392, 'influencemr': 7393, 'contacts': 7394, 'unionpop': 7395, 'bins': 7396, 'ninetynine': 7397, 'changedmr': 7398, 'grezda': 7399, 'agoi': 7400, 'livingthe': 7401, 'scores': 7402, 'grinder': 7403, 'butcher': 7404, 'applebees': 7405, 'adapt': 7406, 'whoawhoawhoa': 7407, 'heyhey': 7408, 'onnow': 7409, 'christmastime': 7410, 'himall': 7411, 'albanians': 7412, 'businessdanny': 7413, 'problemdanny': 7414, 'isall': 7415, 'businessa': 7416, 'proposal': 7417, 'waseverybody': 7418, 'oint': 7419, 'enlisted': 7420, 'knowwhat': 7421, 'redheads': 7422, 'maureen': 7423, 'galvin': 7424, 'bamshe': 7425, 'smacked': 7426, 'thingknocked': 7427, 'detention': 7428, 'prank': 7429, 'pupil': 7430, 'greetings': 7431, 'academicians': 7432, 'kneel': 7433, 'rokas': 7434, 'danielle': 7435, 'mortes': 7436, 'milles': 7437, 'freezes': 7438, 'sunrise': 7439, 'risen': 7440, 'eclipse': 7441, 'arthurs': 7442, 'halfsister': 7443, 'greed': 7444, 'entitlement': 7445, 'mens': 7446, 'hollow': 7447, 'returns': 7448, 'underworld': 7449, 'exhausting': 7450, 'knights': 7451, 'deluded': 7452, 'kaye': 7453, 'acquaintance': 7454, 'cornerstone': 7455, 'civilized': 7456, 'society': 7457, 'slacking': 7458, 'halt': 7459, 'cornwall': 7460, 'burial': 7461, 'astrological': 7462, 'stonehenge': 7463, 'hub': 7464, 'romans': 7465, 'publics': 7466, 'permitted': 7467, 'linked': 7468, 'paleolithic': 7469, 'conveyance': 7470, 'bodmin': 7471, 'moor': 7472, 'duplication': 7473, 'cumbersome': 7474, 'hasten': 7475, 'wits': 7476, 'resolute': 7477, 'refrained': 7478, 'wanton': 7479, 'persevered': 7480, 'tintagel': 7481, 'guiet': 7482, 'battalions': 7483, 'expedition': 7484, 'center': 7485, 'rainforest': 7486, 'survival': 7487, 'janeiro': 7488, '1f': 7489, 'earths': 7490, 'endangered': 7491, 'ecosystems': 7492, 'farming': 7493, 'notes': 7494, 'audition': 7495, 'snakes': 7496, 'bia': 7497, 'fpick': 7498, 'nests': 7499, 'wildflower': 7500, 'droppings': 7501, 'supermegadope': 7502, 'cheap': 7503, 'fave': 7504, 'untamed': 7505, 'auditions': 7506, 'preview': 7507, 'chopchop': 7508, 'capoeira': 7509, 'turtles': 7510, 'karaoke': 7511, 'logs': 7512, 'zes': 7513, 'crumble': 7514, 'plucking': 7515, 'gabi': 7516, 'petite': 7517, 'destruction': 7518, 'tribes': 7519, 'gathering': 7520, 'sunset': 7521, 'tulios': 7522, 'grove': 7523, 'nut': 7524, 'flavors': 7525, 'essential': 7526, 'rehearsals': 7527, 'bell': 7528, 'glorious': 7529, 'brazil': 7530, 'tool': 7531, 'eddies': 7532, 'misunderstanding': 7533, 'goal': 7534, 'backfired': 7535, 'eduardo': 7536, 'psychoonwheels': 7537, 'medically': 7538, 'verified': 7539, 'rufus': 7540, 'wayi': 7541, 'assault': 7542, 'excitement': 7543, 'xerox': 7544, 'invading': 7545, 'invader': 7546, 'specialise': 7547, 'critical': 7548, 'inclined': 7549, 'disapproval': 7550, 'carmichaels': 7551, 'features': 7552, 'contents': 7553, 'grotesque': 7554, 'receives': 7555, 'spectre': 7556, 'avenging': 7557, 'presume': 7558, 'shadows': 7559, 'define': 7560, 'sunny': 7561, 'contrary': 7562, 'retired': 7563, 'opposition': 7564, 'concede': 7565, 'currently': 7566, 'manly': 7567, 'illustrator': 7568, 'deductions': 7569, 'occasions': 7570, 'visited': 7571, 'apartments': 7572, 'derail': 7573, 'hudsons': 7574, 'wallpaper': 7575, 'noticeable': 7576, 'shorter': 7577, 'abominable': 7578, 'lodged': 7579, 'runninq': 7580, 'immersed': 7581, 'believing': 7582, 'waistcoat': 7583, 'trance': 7584, 'user': 7585, 'alleviate': 7586, 'boredom': 7587, 'controlled': 7588, 'usage': 7589, 'fatal': 7590, 'archive': 7591, 'unsolved': 7592, 'yapping': 7593, 'bravo': 7594, 'sibling': 7595, 'remained': 7596, 'substitute': 7597, 'attempt': 7598, 'martyrs': 7599, 'missions': 7600, 'invisible': 7601, 'nonetheless': 7602, 'consumption': 7603, 'abandoned': 7604, 'penniless': 7605, 'hooper': 7606, 'buried': 7607, 'substituted': 7608, 'socalled': 7609, 'conspirators': 7610, 'moriartys': 7611, 'reallife': 7612, 'ridin': 7613, 'uke': 7614, 'threetime': 7615, 'sidelined': 7616, 'thang': 7617, 'belt': 7618, 'marcia': 7619, 'failure': 7620, 'contemporary': 7621, 'matisse': 7622, 'picasso': 7623, 'clinging': 7624, 'ilulke': 7625, 'languages': 7626, 'smelly': 7627, 'ranchers': 7628, 'creating': 7629, 'anyones': 7630, 'rider': 7631, 'brunch': 7632, 'guardians': 7633, 'astronomer': 7634, 'fighters': 7635, '92': 7636, '264': 7637, 'clearcut': 7638, 'tes': 7639, 'taxi': 7640, 'miri': 7641, 'lightheaded': 7642, 'dizzy': 7643, 'nausea': 7644, '9iven': 7645, 'circumstance': 7646, 'rethinking': 7647, 'internship': 7648, 'celebrating': 7649, 'ruthie': 7650, 'andrea': 7651, 'damiel': 7652, 'physics': 7653, 'obituary': 7654, 'sanders': 7655, 'danko': 7656, 'championship': 7657, 'numberone': 7658, 'contender': 7659, 'numberoneranked': 7660, 'mounting': 7661, 'comeback': 7662, 'juke': 7663, 'pbp': 7664, 'vhoa': 7665, 'slay': 7666, 'goliath': 7667, 'rango': 7668, 'artwork': 7669, 'sourced': 7670, 'warhol': 7671, 'pat': 7672, 'passlof': 7673, 'willem': 7674, 'xooning': 7675, 'incredibly': 7676, 'diverse': 7677, 'levinsons': 7678, 'iras': 7679, 'tras': 7680, 'beloved': 7681, 'immeasurable': 7682, 'celebrated': 7683, 'composed': 7684, 'portrait': 7685, 'production': 7686, 'shipped': 7687, 'destroying': 7688, 'fastmoving': 7689, 'supervisor': 7690, 'kissed': 7691, 'clearing': 7692, 'ee': 7693, 'eliminated': 7694, 'breach': 7695, 'fprogressive': 7696, 'momg': 7697, 'elbrot': 7698, 'echo': 7699, 'breached': 7700, 'zup': 7701, 'casualties': 7702, 'neutralize': 7703, 'wisemandesignate': 7704, 'confrontation': 7705, 'lungs': 7706, 'maid': 7707, 'landlady': 7708, 'helo': 7709, 'handcuff': 7710, 'weirdest': 7711, 'm1': 7712, 'types': 7713, 'tanks': 7714, 'xia': 7715, 'hurtful': 7716, 'conspiracies': 7717, 'masks': 7718, 'towns': 7719, 'wildfire': 7720, 'outerspace': 7721, 'cdc': 7722, 'breakout': 7723, 'outbreak': 7724, 'escaping': 7725, 'scoot': 7726, 'quinzin': 7727, 'league': 7728, 'riofloxin': 7729, 'sleepy': 7730, 'labrat': 7731, 'cum': 7732, 'twell': 7733, 'ook': 7734, 'rewards': 7735, 'hola': 7736, 'airspace': 7737, 'activating': 7738, 'spearheaded': 7739, 'shortcuts': 7740, 'unidentified': 7741, 'bashed': 7742, 'antibiotics': 7743, 'rotated': 7744, 'layered': 7745, 'exhusband': 7746, 'coax': 7747, 'intact': 7748, '745': 7749, 'visiting': 7750, 'vows': 7751, 'ufb': 7752, '630': 7753, 'scares': 7754, 'commuters': 7755, 'boarded': 7756, '144': 7757, 'rising': 7758, 'britain': 7759, 'terrorist': 7760, 'exploits': 7761, 'equality': 7762, 'overpopulation': 7763, 'continuing': 7764, 'federal': 7765, 'attributed': 7766, 'carl': 7767, 'remains': 7768, 'final': 7769, '715': 7770, 'complacency': 7771, 'talks': 7772, 'colonys': 7773, 'governor': 7774, 'efforts': 7775, 'reversal': 7776, 'elevated': 7777, 'doug': 7778, 'travis': 7779, 'implanted': 7780, 'douglas': 7781, 'loyal': 7782, 'ruthless': 7783, 'corporation': 7784, 'tuesdays': 7785, 'rulefollowing': 7786, 'gail': 7787, 'yol': 7788, 'closes': 7789, 'hardhat': 7790, 'melt': 7791, 'xoulll': 7792, 'eold': 7793, 'mixup': 7794, 'weir': 7795, 'bricksburg': 7796, 'hired': 7797, 'capturing': 7798, 'whatnot': 7799, 'infinite': 7800, 'abyss': 7801, 'nothingness': 7802, 'scon': 7803, 'bangbangbangbang': 7804, 'introducing': 7805, 'doubledecker': 7806, 'buddies': 7807, 'dumbest': 7808, 'proves': 7809, 'urpstairs': 7810, 'supergross': 7811, 'sausages': 7812, 'talons': 7813, 'squid': 7814, 'fleeting': 7815, 'glimpse': 7816, 'zeppelins': 7817, 'mechanical': 7818, 'wondrous': 7819, 'poverty': 7820, 'leeches': 7821, 'illiteracy': 7822, 'subwoofers': 7823, 'curckxooland': 7824, 'useless': 7825, 'forsaken': 7826, 'blilder': 7827, 'builder': 7828, 'generally': 7829, 'unskilled': 7830, 'cowardly': 7831, 'divided': 7832, 'abralam': 7833, 'iincoln': 7834, 'dingdong': 7835, 'ruhroh': 7836, 'gray': 7837, 'shacuille': 7838, 'oneal': 7839, 'spoil': 7840, 'gigantic': 7841, 'bedoubled': 7842, 'overlook': 7843, 'marshmallow': 7844, 'skyscraper': 7845, 'markers': 7846, 'fiece': 7847, 'ducts': 7848, 'batspaceship': 7849, 'rainbowsparkle': 7850, 'spaceships': 7851, 'perturbed': 7852, 'punctual': 7853, 'droids': 7854, 'checkers': 7855, 'dudes': 7856, 'driveon': 7857, 'zour': 7858, 'dutt': 7859, 'plunder': 7860, 'relics': 7861, 'disguises': 7862, 'sensors': 7863, 'triggered': 7864, 'sector': 7865, 'reunite': 7866, 'speaker': 7867, 'accidentally': 7868, 'wandered': 7869, 'robots': 7870, 'crowd': 7871, 'ordinary': 7872, 'generic': 7873, 'cluttering': 7874, 'mementos': 7875, 'snooping': 7876, 'folded': 7877, 'images': 7878, 'vicks': 7879, 'gnawing': 7880, 'rabies': 7881, 'bandaid': 7882, 'spencer': 7883, 'thick': 7884, 'adulthood': 7885, 'companionship': 7886, 'ivory': 7887, 'entrepreneur': 7888, 'stare': 7889, 'luka': 7890, 'butterflys': 7891, 'spleen': 7892, 'barbara': 7893, 'hills': 7894, 'parka': 7895, 'eskimos': 7896, 'eskimo': 7897, 'kessler': 7898, 'nonmotorcycle': 7899, 'mittens': 7900, 'restrictive': 7901, 'hospitality': 7902, 'ova': 7903, 'regional': 7904, 'stimpy': 7905, 'proving': 7906, 'scoundrels': 7907, 'pivot': 7908, 'filled': 7909, 'unpack': 7910, 'dreaming': 7911, 'resisting': 7912, 'onesided': 7913, 'gills': 7914, 'numbness': 7915, 'cactus': 7916, 'touching': 7917, 'wilkersons': 7918, 'confess': 7919, 'carlton': 7920, 'zombie': 7921, 'fields': 7922, 'diabolical': 7923, 'lucid': 7924, 'attacks': 7925, 'offers': 7926, 'hersch': 7927, 'rounds': 7928, 'herschels': 7929, 'criticisms': 7930, 'skilled': 7931, 'definition': 7932, 'insanity': 7933, 'leash': 7934, 'muff': 7935, 'helpless': 7936, 'tend': 7937, 'salvage': 7938, 'bom': 7939, 'bur': 7940, 'smaug': 7941, 'lands': 7942, 'wealth': 7943, 'pursued': 7944, 'bolg': 7945, 'spawn': 7946, 'azog': 7947, 'defiler': 7948, 'tauriel': 7949, 'legolas': 7950, 'hunted': 7951, 'sauron': 7952, 'dominion': 7953, 'middleearth': 7954, 'ganda': 7955, 'halls': 7956, 'hardship': 7957, 'rejoice': 7958, 'gratitude': 7959, 'misplaced': 7960, 'starlight': 7961, 'lasgalen': 7962, 'hail': 7963, 'thrain': 7964, 'robber': 7965, 'robbed': 7966, 'seek': 7967, 'rebuild': 7968, 'barter': 7969, 'birthright': 7970, 'mortal': 7971, 'wizards': 7972, 'thunder': 7973, 'armies': 7974, 'orcs': 7975, 'archers': 7976, 'bowman': 7977, 'ransom': 7978, '14th': 7979, 'obstinate': 7980, 'faithless': 7981, 'woodland': 7982, 'sprite': 7983, 'choosesto': 7984, 'smirking': 7985, 'hammering': 7986, 'sire': 7987, 'lowly': 7988, 'dwarf': 7989, 'sickness': 7990, 'neednt': 7991, 'baggins': 7992, 'dining': 7993, 'connections': 7994, 'turnover': 7995, 'halfmast': 7996, 'congressman': 7997, 'morley': 7998, 'taxes': 7999, 'whistle': 8000, 'netflix': 8001, 'shattering': 8002, 'depiction': 8003, 'remembering': 8004, 'haunt': 8005, 'icy': 8006, 'mist': 8007, 'headlights': 8008, 'bess': 8009, 'dc': 8010, 'crumbs': 8011, 'backstage': 8012, 'audience': 8013, 'focusing': 8014, 'acapulco': 8015, '2000': 8016, 'rubbermaid': 8017, 'tinas': 8018, 'pins': 8019, 'assessment': 8020, 'improvement': 8021, 'shown': 8022, 'ledge': 8023, 'hhow': 8024, 'wasit': 8025, 'intangible': 8026, 'subjective': 8027, 'traits': 8028, 'lawsuit': 8029, 'ninas': 8030, 'nnina': 8031, 'iawsuit': 8032, 'soap': 8033, 'wei': 8034, 'irma': 8035, 'innocencia': 8036, 'prudent': 8037, 'silvama': 8038, 'xes': 8039, 'popular': 8040, 'theaters': 8041, 'jt': 8042, 'touche': 8043, 'imelda': 8044, 'maylia': 8045, 'toel': 8046, 'rum': 8047, 'coke': 8048, '10000': 8049, '200000': 8050, '50000': 8051, 'proposition': 8052, 'dodgy': 8053, 'intrude': 8054, 'sod': 8055, 'grandmothers': 8056, 'caution': 8057, 'savings': 8058, '5year': 8059, 'investments': 8060, 'amiss': 8061, 'limit': 8062, 'administrative': 8063, 'liability': 8064, 'combine': 8065, 'roys': 8066, 'similar': 8067, 'investing': 8068, 'spandau': 8069, 'balloons': 8070, 'disney': 8071, 'preferable': 8072, 'cranky': 8073, 'bugger': 8074, 'tumble': 8075, 'shayla': 8076, 'courtnay': 8077, 'funds': 8078, 'roberts': 8079, 'delayed': 8080, 'entered': 8081, 'tbag': 8082, 'sona': 8083, 'algeria': 8084, 'erol': 8085, 'dash': 8086, 'tbags': 8087, 'jasper': 8088, 'potts': 8089, 'mathers': 8090, 'priority': 8091, 'benjamin': 8092, 'smalltime': 8093, 'supplier': 8094, 'dealer': 8095, 'nephew': 8096, 'benjamins': 8097, 'karl': 8098, 'youinterested': 8099, 'hellish': 8100, 'frustrated': 8101, 'teething': 8102, 'ownership': 8103, 'options': 8104, 'bites': 8105, 'maddening': 8106, 'compile': 8107, 'neil': 8108, 'sedaka': 8109, 'chess': 8110, 'avatar': 8111, 'documentaries': 8112, 'foreign': 8113, 'alfred': 8114, 'anthropologist': 8115, 'cultures': 8116, 'flood': 8117, 'remarkably': 8118, 'highachieving': 8119, 'menu': 8120, 'desserts': 8121, 'fright': 8122, 'passionately': 8123, 'ear': 8124, 'slash': 8125, 'catchers': 8126, 'mitt': 8127, 'helps': 8128, 'akin': 8129, 'grief': 8130, 'thankfully': 8131, 'mitigated': 8132, '1982': 8133, 'conversing': 8134, 'departing': 8135, 'starship': 8136, 'surrogate': 8137, 'consolation': 8138, '2003': 8139, 'stylish': 8140, 'eyeballs': 8141, 'slick': 8142, 'sounded': 8143, 'lend': 8144, 'require': 8145, 'forms': 8146, 'identification': 8147, 'madam': 8148, 'greasy': 8149, 'donkey': 8150, 'lil': 8151, 'nicked': 8152, 'biscuits': 8153, 'aiming': 8154, 'deserved': 8155, 'imported': 8156, 'fajita': 8157, 'apache': 8158, 'remedy': 8159, 'kindest': 8160, 'wisest': 8161, 'outlaw': 8162, 'eyelash': 8163, 'utah': 8164, 'dunson': 8165, 'abner': 8166, 'doubleday': 8167, 'devising': 8168, 'tenperson': 8169, 'qi': 8170, 'nineperson': 8171, 'gluing': 8172, 'stubbies': 8173, 'turquoise': 8174, 'preacher': 8175, 'dangling': 8176, 'burnin': 8177, 'guts': 8178, 'yumas': 8179, 'hint': 8180, 'onehour': 8181, 'susannah': 8182, 'custer': 8183, 'dashing': 8184, 'barber': 8185, 'regiment': 8186, 'tombstone': 8187, 'usual': 8188, 'tardyo': 8189, 'sneaky': 8190, 'gentlemans': 8191, 'bodyguards': 8192, 'dresser': 8193, 'twain': 8194, 'louis': 8195, 'chico': 8196, 'delilahs': 8197, 'whiskey': 8198, 'rockies': 8199, 'apples': 8200, 'overplay': 8201, 'ace': 8202, 'stumbled': 8203, 'ultrasound': 8204, 'kardashian': 8205, 'owned': 8206, 'minorityowned': 8207, 'category': 8208, 'native': 8209, 'favors': 8210, 'bummed': 8211, 'chase': 8212, 'selfinvolved': 8213, 'amir': 8214, 'peep': 8215, 'peeps': 8216, 'pairs': 8217, 'organtrading': 8218, 'deport': 8219, 'fedex': 8220, 'forged': 8221, 'fortunetellings': 8222, 'scam': 8223, 'uranus': 8224, 'pippa': 8225, 'middleton': 8226, 'psychic': 8227, 'iimagine': 8228, 'lvdia': 8229, 'intelligent': 8230, 'associate': 8231, 'cognitive': 8232, 'dissertation': 8233, 'argued': 8234, 'lilian': 8235, 'famously': 8236, 'seminal': 8237, 'textbook': 8238, 'nouns': 8239, 'ahha': 8240, 'remarkable': 8241, 'feat': 8242, 'mj': 8243, 'soapbox': 8244, 'thingy': 8245, 'weston': 8246, 'exchanged': 8247, 'embroidered': 8248, 'silk': 8249, 'insensitive': 8250, 'commission': 8251, 'scarves': 8252, 'quotation': 8253, 'wardrobes': 8254, 'basket': 8255, 'sundries': 8256, 'cheat': 8257, 'thirsty': 8258, 'frosty': 8259, 'noncaffeinated': 8260, 'root': 8261, 'fatherson': 8262, 'derby': 8263, 'weekends': 8264, 'rework': 8265, 'trading': 8266, 'strolled': 8267, 'outback': 8268, 'spousal': 8269, 'addicts': 8270, 'corvette': 8271, 'rendering': 8272, 'shading': 8273, 'relativity': 8274, 'hydrodynamics': 8275, 'overboard': 8276, 'bathtub': 8277, 'bon': 8278, 'voyage': 8279, 'raiesh': 8280, 'funnier': 8281, 'sendoff': 8282, 'discussed': 8283, 'bflat': 8284, 'propose': 8285, 'presented': 8286, 'hardest': 8287, 'contribute': 8288, 'bordeaux': 8289, 'ukulele': 8290, 'jokes': 8291, 'froth': 8292, 'javiers': 8293, 'javier': 8294, 'showtime': 8295, 'zack': 8296, 'tights': 8297, 'scored': 8298, 'sunday': 8299, 'gameno': 8300, 'tens': 8301, 'gambler': 8302, 'classics': 8303, 'europeans': 8304, 'kurosawa': 8305, 'favourite': 8306, 'tucson': 8307, 'republicans': 8308, 'episcopalians': 8309, 'achieve': 8310, 'hostility': 8311, 'exhilarating': 8312, 'obnoxious': 8313, 'troller': 8314, 'flanked': 8315, 'freshman': 8316, 'princeton': 8317, 'alltime': 8318, 'millstein': 8319, 'durand': 8320, 'resembles': 8321, 'yasser': 8322, 'arafat': 8323, 'vassar': 8324, 'flatchested': 8325, 'dimes': 8326, 'moonlight': 8327, 'flicks': 8328, 'volunteers': 8329, 'premed': 8330, 'paw': 8331, 'grenada': 8332, 'nevermind': 8333, 'toes': 8334, 'ethic': 8335, 'froze': 8336, 'originally': 8337, 'existential': 8338, 'steaming': 8339, 'parked': 8340, 'interviews': 8341, 'intervew': 8342, 'relaxing': 8343, 'wandering': 8344, 'hagar': 8345, 'bronchitis': 8346, 'assert': 8347, 'demanding': 8348, 'suits': 8349, 'screenwriter': 8350, 'artists': 8351, 'sounding': 8352, 'possessive': 8353, 'encouraged': 8354, 'cellphones': 8355, 'sinister': 8356, 'delightful': 8357, 'witty': 8358, 'sings': 8359, 'nicely': 8360, 'flute': 8361, 'refers': 8362, 'professionally': 8363, 'wildest': 8364, 'masterson': 8365, 'broadway': 8366, 'bookiehes': 8367, 'eccentric': 8368, 'forcing': 8369, 'aspergers': 8370, 'modern': 8371, 'weegee': 8372, 'exhibit': 8373, 'mats': 8374, 'soaked': 8375, 'beef': 8376, 'jerky': 8377, 'hampton': 8378, 'unfortunate': 8379, 'irregular': 8380, 'moles': 8381, 'hamiltons': 8382, 'chooses': 8383, 'pacing': 8384, 'carcinoma': 8385, 'limp': 8386, 'meets': 8387, 'kisses': 8388, 'judy': 8389, 'connecticut': 8390, 'unfaithful': 8391, 'filling': 8392, 'moist': 8393, 'asterix': 8394, 'tense': 8395, 'cling': 8396, 'sneezing': 8397, 'realising': 8398, 'deformities': 8399, 'paying': 8400, 'firstplace': 8401, '4h': 8402, 'griffinl': 8403, 'renounced': 8404, 'dice': 8405, 'hustler': 8406, 'gamblers': 8407, 'egyptian': 8408, 'budapest': 8409, 'modest': 8410, 'alcohol': 8411, 'havoc': 8412, 'uninhibited': 8413, 'aggressive': 8414, 'temperatures': 8415, '60s': 8416, 'cloudy': 8417, 'brighter': 8418, 'spies': 8419, 'rooting': 8420, 'ballad': 8421, 'machinery': 8422, 'incapable': 8423, 'blowout': 8424, 'gs': 8425, 'muse': 8426, 'ley': 8427, 'spelling': 8428, 'rolands': 8429, 'apologise': 8430, 'appartment': 8431, 'yeslts': 8432, 'pour': 8433, 'journalism': 8434, 'spank': 8435, 'deli': 8436, 'cashier': 8437, 'louvre': 8438, 'pooping': 8439, 'steady': 8440, 'jacuzzi': 8441, 'maids': 8442, 'dentist': 8443, 'truffle': 8444, 'townhouse': 8445, 'planleave': 8446, 'manfbi': 8447, 'rollingi': 8448, 'outhold': 8449, 'luckgilligan': 8450, 'likea': 8451, 'slight': 8452, 'blink': 8453, 'versus': 8454, 'lincolnhe': 8455, 'cutback': 8456, 'motel': 8457, 'hereburrows': 8458, 'confidence': 8459, 'aldo': 8460, 'posture': 8461, 'emphasis': 8462, 'donovan': 8463, 'platte': 8464, 'exsecret': 8465, 'spoonfeeding': 8466, 'discredited': 8467, 'cameraman': 8468, 'likeplay': 8469, 'thatwould': 8470, 'nowyeah': 8471, 'operatives': 8472, 'broker': 8473, 'environmental': 8474, 'rehabilitation': 8475, 'momentous': 8476, 'thaits': 8477, 'astrid': 8478, 'berk': 8479, 'bitter': 8480, 'itchy': 8481, 'armpit': 8482, 'timberjacks': 8483, 'avoiding': 8484, 'suns': 8485, 'shining': 8486, 'yyoure': 8487, 'coil': 8488, 'calibration': 8489, 'speeches': 8490, 'hah': 8491, 'trapping': 8492, 'thieving': 8493, 'icespitting': 8494, 'whatfist': 8495, 'shipment': 8496, 'excuses': 8497, 'hostile': 8498, 'aand': 8499, 'appreciates': 8500, 'gobbers': 8501, 'oror': 8502, 'dargo': 8503, 'fist': 8504, 'stirring': 8505, 'bludvist': 8506, 'madman': 8507, 'pens': 8508, 'stoick': 8509, 'rooftop': 8510, 'flames': 8511, 'reasoned': 8512, 'whatwhat': 8513, 'theythey': 8514, 'scholarship': 8515, 'relative': 8516, 'crosses': 8517, 'seventh': 8518, 'cello': 8519, 'february': 8520, 'genuinely': 8521, 'prototype': 8522, 'darpa': 8523, 'intentional': 8524, 'obsolescence': 8525, 'xbox': 8526, 'navigation': 8527, 'schematics': 8528, 'whacs': 8529, 'batterys': 8530, 'overheating': 8531, 'hydrogen': 8532, 'recharge': 8533, 'nickelmetal': 8534, 'hydride': 8535, 'driveway': 8536, 'drives': 8537, 'extinguisher': 8538, 'reducing': 8539, 'width': 8540, 'petco': 8541, 'mice': 8542, 'fetco': 8543, 'timecop': 8544, 'bullied': 8545, 'bait': 8546, 'chemistry': 8547, 'canceled': 8548, 'sub': 8549, 'atomic': 8550, '152': 8551, 'silicon': 8552, 'memorization': 8553, 'backwards': 8554, 'forwards': 8555, 'texted': 8556, 'trig': 8557, 'gangsta': 8558, 'nime': 8559, '41': 8560, 'jess': 8561, 'inherently': 8562, 'seventyseven': 8563, 'lollapalooza': 8564, 'xelly': 8565, '1st': 8566, '1i': 8567, 'undo': 8568, 'pact': 8569, 'raskin': 8570, 'aclanta': 8571, 'ick': 8572, 'timelines': 8573, 'crisscross': 8574, 'isil': 8575, 'jacking': 8576, 'cnotes': 8577, 'organizing': 8578, 'passage': 8579, 'rial': 8580, 'freddie': 8581, 'mercurys': 8582, 'sane': 8583, 'murderers': 8584, 'sanaa': 8585, 'anticipate': 8586, 'doubling': 8587, 'tracker': 8588, 'aks': 8589, 'di': 8590, 'runway': 8591, 'comiccon': 8592, 'seth': 8593, 'applied': 8594, 'giuseppe': 8595, 'pillows': 8596, 'hammer': 8597, 'magician': 8598, 'treble': 8599, 'downright': 8600, 'afunky': 8601, 'wreck': 8602, 'parks': 8603, 'tipped': 8604, 'zips': 8605, 'zip': 8606, 'louder': 8607, 'trumpets': 8608, 'giveandtake': 8609, 'glorias': 8610, 'snoring': 8611, 'starters': 8612, 'granola': 8613, 'schoolyard': 8614, 'delivered': 8615, 'sarcastically': 8616, 'tendency': 8617, 'wander': 8618, 'dairy': 8619, 'lukini': 8620, 'opens': 8621, 'chalice': 8622, 'spooky': 8623, 'niece': 8624, 'fertilizing': 8625, 'monsanto': 8626, 'rental': 8627, 'mustache': 8628, 'vase': 8629, 'holidays': 8630, 'festive': 8631, 'weeklong': 8632, 'vermouth': 8633, 'abstract': 8634, 'christmassy': 8635, 'robust': 8636, 'judgment': 8637, 'comatose': 8638, 'imagining': 8639, 'neighbours': 8640, 'curl': 8641, 'katrina': 8642, 'phils': 8643, 'brightest': 8644, 'crayon': 8645, 'understatement': 8646, 'perverse': 8647, 'cs': 8648, 'instantly': 8649, 'despised': 8650, 'nickname': 8651, 'bats': 8652, 'kats': 8653, 'rented': 8654, 'tux': 8655, 'unhappy': 8656, 'receptionist': 8657, 'bleak': 8658, 'musky': 8659, 'macho': 8660, 'jixe': 8661, 'skinny': 8662, 'connor': 8663, 'sheryl': 8664, 'loma': 8665, 'clueless': 8666, 'dictionary': 8667, 'whoopdeedo': 8668, 'cases': 8669, 'cindy': 8670, 'dishes': 8671, 'interviewees': 8672, 'wimp': 8673, 'margie': 8674, 'carlsen': 8675, 'riverside': 8676, 'whack': 8677, 'hillman': 8678, 'thomas': 8679, 'sleeve': 8680, 'donf': 8681, 'receipt': 8682, 'mushrooms': 8683, 'guac': 8684, '43': 8685, 'stunts': 8686, 'growth': 8687, 'sonic': 8688, 'whyin': 8689, 'suburbsthere': 8690, 'deceptive': 8691, 'sayexactly': 8692, 'dylans': 8693, 'weirdbut': 8694, 'dylan': 8695, 'wellmaybe': 8696, 'rainy': 8697, 'fundthey': 8698, 'ohhoneypeople': 8699, 'onsay': 8700, 'lineifs': 8701, 'nt': 8702, 'nonol': 8703, 'magazinesi': 8704, 'downyouve': 8705, 'somethingwhen': 8706, 'ribbon': 8707, 'freezing': 8708, 'knowl': 8709, 'cutest': 8710, 'shawl': 8711, 'boyyou': 8712, 'wannabe': 8713, 'heredo': 8714, 'cancertoo': 8715, 'liverwent': 8716, 'encouraging': 8717, 'weeksevery': 8718, 'attempts': 8719, 'katherines': 8720, 'ohhey': 8721, 'bakingand': 8722, 'surewhat': 8723, 'floursugar': 8724, '57': 8725, 'twat': 8726, 'doo': 8727, 'scratches': 8728, 'affecting': 8729, 'liza': 8730, 'piles': 8731, 'milked': 8732, 'cows': 8733, 'soak': 8734, 'sive': 8735, 'samsung': 8736, 'zara': 8737, 'shareholders': 8738, 'erect': 8739, 'maloney': 8740, 'patron': 8741, 'e100': 8742, 'ro': 8743, 'alternatively': 8744, 'wat': 8745, 'crossed': 8746, 'agressive': 8747, 'harsh': 8748, 'overseeing': 8749, 'procedures': 8750, 'counseling': 8751, 'rusty': 8752, 'forceps': 8753, '998': 8754, 'matches': 8755, 'defeated': 8756, 'builds': 8757, 'expiry': 8758, 'extended': 8759, 'trombone': 8760, 'possum': 8761, 'doubledealing': 8762, 'devildog': 8763, 'rag': 8764, 'reschedule': 8765, 'pappy': 8766, 'enjoying': 8767, 'craziest': 8768, 'mouthpiece': 8769, 'tubes': 8770, 'jerseys': 8771, 'grownups': 8772, 'arlos': 8773, 'mirial': 8774, 'ethel': 8775, 'superiors': 8776, 'ceiling': 8777, 'propellers': 8778, 'spinning': 8779, 'highway': 8780, 'gerrie': 8781, 'everetts': 8782, '38': 8783, 'cobradropping': 8784, 'carefree': 8785, 'sirviper': 8786, '31': 8787, 'radar': 8788, 'bunkers': 8789, 'warlord': 8790, 'fentagon': 8791, 'confirmation': 8792, 'pursuing': 8793, 'prosecution': 8794, 'produce': 8795, 'stalemate': 8796, 'rainmakerwhich': 8797, 'immense': 8798, 'national': 8799, 'significant': 8800, 'resign': 8801, 'commision': 8802, 'prosecutor': 8803, 'dismissal': 8804, 'millionaire': 8805, 'geopetrol': 8806, 'welltemirim': 8807, 'againokay': 8808, 'hiis': 8809, 'methis': 8810, 'planit': 8811, 'longman': 8812, 'adversarybaby': 8813, 'noman': 8814, 'lags': 8815, 'forcelike': 8816, 'nothanks': 8817, 'webster': 8818, 'lookguys': 8819, 'hereso': 8820, 'honestthe': 8821, 'kerosene': 8822, 'alreadyso': 8823, 'cowboysthis': 8824, 'welldirectors': 8825, 'rewritesyou': 8826, 'messy': 8827, 'russia': 8828, 'glide': 8829, 'zangezur': 8830, 'planesi': 8831, 'trainingright': 8832, 'yessirbut': 8833, 'technicallyyoure': 8834, 'airfield': 8835, 'manfinally': 8836, 'spunkyour': 8837, 'nosy': 8838, 'troubleremember': 8839, 'downmy': 8840, 'guestsplease': 8841, 'workso': 8842, 'vasquez': 8843, 'detain': 8844, 'greatgrandfathers': 8845, 'nowmankind': 8846, 'wereall': 8847, 'namebut': 8848, 'noi': 8849, 'patienti': 8850, 'reconstitute': 8851, 'intels': 8852, 'craig': 8853, 'moreyour': 8854, 'generalask': 8855, 'allan': 8856, 'clockcoming': 8857, 'herecobra': 8858, 'viperwhere': 8859, 'youman': 8860, 'annais': 8861, 'grachov': 8862, '25000': 8863, 'cajun': 8864, 'missiles': 8865, 'righthere': 8866, 'narrower': 8867, '20foot': 8868, 'flatter': 8869, 'nevertheless': 8870, 'playboy': 8871, 'tycoon': 8872, 'altogether': 8873, 'informacion': 8874, 'indicates': 8875, 'combina': 8876, 'tion': 8877, 'tellers': 8878, 'disappearance': 8879, 'organization': 8880, 'corrupt': 8881, 'concluded': 8882, 'counteract': 8883, 'teaming': 8884, 'peril': 8885, 'designing': 8886, 'resort': 8887, 'riussian': 8888, 'secure': 8889, 'visa': 8890, 'deveny': 8891, 'dearest': 8892, 'equity': 8893, 'aristocratic': 8894, 'protective': 8895, 'waverly': 8896, 'shipping': 8897, 'stupidly': 8898, 'invitation': 8899, 'bumped': 8900, 'waiter': 8901, 'cleansed': 8902, 'methods': 8903, 'nazi': 8904, 'gantry': 8905, 'kgbwe': 8906, 'upright': 8907, 'generators': 8908, 'tools': 8909, 'fantastically': 8910, 'unwanted': 8911, 'kitten': 8912, 'entertaining': 8913, 'telephone': 8914, 'badly': 8915, 'mummy': 8916, 'relate': 8917, 'maestro': 8918, 'modernize': 8919, 'alas': 8920, 'rudis': 8921, 'apparent': 8922, 'shortcomings': 8923, 'merged': 8924, 'oldfashioned': 8925, 'pliers': 8926, 'trackers': 8927, 'tust': 8928, 'tfs': 8929, 'whatll': 8930, 'skill': 8931, 'employment': 8932, 'secured': 8933, 'connected': 8934, 'nazis': 8935, 'luxurious': 8936, 'seize': 8937, 'unwell': 8938, 'assure': 8939, 'bugged': 8940, 'translation': 8941, 'coupler': 8942, 'enables': 8943, 'missile': 8944, 'warhead': 8945, 'converting': 8946, 'nuclear': 8947, 'redundant': 8948, 'choosing': 8949, 'equation': 8950, 'ducks': 8951, 'improv': 8952, 'reed': 8953, 'pam': 8954, 'memphis': 8955, 'tonesboro': 8956, 'val': 8957, 'appointed': 8958, 'tessie': 8959, 'recanted': 8960, 'lined': 8961, 'mentally': 8962, 'retarded': 8963, 'lax': 8964, 'investigator': 8965, 'representing': 8966, 'witches': 8967, 'salem': 8968, 'jears': 8969, 'satamic': 8970, 'scouting': 8971, 'treating': 8972, 'terry': 8973, 'stevies': 8974, 'proceeding': 8975, 'respected': 8976, 'tas': 8977, 'goddamned': 8978, 'trials': 8979, 'fry': 8980, 'parasites': 8981, 'es': 8982, 'stated': 8983, 'tolerate': 8984, 'verbal': 8985, 'outburst': 8986, 'verdicts': 8987, 'lloyd': 8988, 'deaths': 8989, 'orgies': 8990, 'concerning': 8991, 'hutcheson': 8992, 'prominently': 8993, 'prosecutions': 8994, 'bray': 8995, 'moore': 8996, 'vicki': 8997, 'worshippers': 8998, 'chanting': 8999, 'corroborate': 9000, 'se': 9001, 'jessies': 9002, 'mamas': 9003, 'jurys': 9004, 'gitchells': 9005, 'manipulations': 9006, 'gitchell': 9007, 'witch': 9008, 'targets': 9009, 'sights': 9010, 'baptized': 9011, 'sins': 9012, 'enrollment': 9013, 'columbia': 9014, 'pacific': 9015, 'flyer': 9016, 'correspondence': 9017, 'phd': 9018, 'nonaccredited': 9019, 'griffis': 9020, 'arkansas': 9021, 'arresting': 9022, 'crossexamine': 9023, 'retracted': 9024, 'suffices': 9025, 'tiein': 9026, 'conduct': 9027, 'bailiff': 9028, 'hobbs': 9029, '17th': 9030, 'videotaped': 9031, 'sewed': 9032, 'statements': 9033, 'pant': 9034, 'fd': 9035, 'depend': 9036, 'underlined': 9037, 'iwas': 9038, 'ilook': 9039, 'ped': 9040, 'zouve': 9041, 'aleister': 9042, 'indicated': 9043, 'significance': 9044, 'circumstantial': 9045, 'attorneys': 9046, 'justification': 9047, 'verdict': 9048, 'reads': 9049, 'budweiser': 9050, 'miller': 9051, '15th': 9052, '27th': 9053, 'arabian': 9054, 'melissa': 9055, 'dominos': 9056, 'tali': 9057, 'voting': 9058, 'voted': 9059, 'chichal': 9060, 'tendigit': 9061, 'throttles': 9062, 'bruno': 9063, 'fput': 9064, 'nonessential': 9065, '06': 9066, 'serpropelled': 9067, 'hadcaused': 9068, 'spectacular': 9069, 'marys': 9070, 'apprehension': 9071, 'absolute': 9072, 'lacking': 9073, 'magnify': 9074, 'rejoiced': 9075, 'amongst': 9076, 'believer': 9077, 'brendan': 9078, 'seamus': 9079, 'attendant': 9080, 'amanda': 9081, 'picnic': 9082, 'gross': 9083, 'defensive': 9084, 'yelled': 9085, 'occasional': 9086, 'achieving': 9087, 'erection': 9088, 'spends': 9089, 'nicer': 9090, 'apologetic': 9091, 'philosopher': 9092, 'jumble': 9093, 'sensations': 9094, 'penetration': 9095, 'penisvagina': 9096, 'orgasm': 9097, 'wene': 9098, 'scented': 9099, 'runner': 9100, 'lanky': 9101, 'fielder': 9102, 'respirator': 9103, 'thethat': 9104, 'recommend': 9105, 'intolerable': 9106, 'donti': 9107, 'femur': 9108, 'fracture': 9109, 'deja': 9110, 'crossfire': 9111, 'cowlateral': 9112, 'sentencing': 9113, 'lightly': 9114, 'brushes': 9115, 'strokes': 9116, 'stroked': 9117, 'adams': 9118, 'paintbrush': 9119, 'sarcastic': 9120, 'applauding': 9121, 'august': 9122, 'performers': 9123, 'compare': 9124, 'truths': 9125, 'billions': 9126, 'avis': 9127, 'renting': 9128, 'surrogacy': 9129, 'tables': 9130, 'legos': 9131, 'gestures': 9132, 'bryan': 9133, 'cooked': 9134, 'roses': 9135, '77': 9136, 'scofields': 9137, 'included': 9138, 'habeas': 9139, 'paperworks': 9140, 'rubberstamped': 9141, 'lll': 9142, 'marcus': 9143, 'rope': 9144, 'gut': 9145, 'atom': 9146, 'valdivia': 9147, 'chile': 9148, 'bam': 9149, 'lasted': 9150, 'spawned': 9151, 'leveled': 9152, 'hilo': 9153, 'hawaii': 9154, 'demarcation': 9155, 'plates': 9156, 'overdue': 9157, 'tug': 9158, 'maintenance': 9159, 'elgin': 9160, 'volleyball': 9161, 'camping': 9162, 'lowlevel': 9163, 'seismic': 9164, 'falco': 9165, '23': 9166, 'talco': 9167, '35': 9168, 'southeast': 9169, 'magnetic': 9170, 'officials': 9171, 'havasu': 9172, 'needles': 9173, 'blythe': 9174, 'laughlin': 9175, 'additional': 9176, 'lafd': 9177, 'arriving': 9178, '1430': 9179, 'prepping': 9180, 'fairly': 9181, 'underway': 9182, 'manage': 9183, 'untied': 9184, 'addition': 9185, 'skyline': 9186, 'strongest': 9187, 'riddick': 9188, 'engineering': 9189, 'picky': 9190, 'excellent': 9191, 'interrupting': 9192, 'richter': 9193, '65': 9194, '85': 9195, 'toward': 9196, 'diminish': 9197, 'independent': 9198, 'lift': 9199, 'rotary': 9200, 'pushbutton': 9201, 'nozzle': 9202, 'studies': 9203, 'jts': 9204, 'californias': 9205, 'shifted': 9206, 'movement': 9207, 'shaking': 9208, 'aftershocks': 9209, 'models': 9210, '95': 9211, 'greater': 9212, 'emphasize': 9213, 'blamed': 9214, 'coit': 9215, 'necklaces': 9216, 'begun': 9217, 'volunteer': 9218, 'nob': 9219, 'slang': 9220, 'coits': 9221, 'septal': 9222, 'hematoma': 9223, 'reservation': 9224, 'clems': 9225, 'wishing': 9226, 'pathologys': 9227, 'specimen': 9228, 'pathology': 9229, 'cdlpledge': 9230, 'foster': 9231, 'happily': 9232, 'santo': 9233, 'idomingo': 9234, 'itm': 9235, 'courses': 9236, 'indefinitely': 9237, 'mystery': 9238, '218': 9239, 'displacement': 9240, 'refugee': 9241, 'camps': 9242, 'starvation': 9243, 'overcrowding': 9244, 'data': 9245, 'undeniable': 9246, 'inactivity': 9247, 'reaping': 9248, 'sown': 9249, 'chamberlain': 9250, 'dave': 9251, 'nebula': 9252, 'losers': 9253, 'policy': 9254, 'occupational': 9255, 'hazard': 9256, 'machineheaded': 9257, 'transaction': 9258, 'outraged': 9259, 'farewell': 9260, 'backed': 9261, 'integrity': 9262, 'starlord': 9263, 'bearing': 9264, 'band': 9265, 'mercenaries': 9266, 'ravagers': 9267, 'aholes': 9268, 'ky': 9269, 'uphold': 9270, 'raccoon': 9271, 'suitcase': 9272, 'sha': 9273, 'drax': 9274, 'sole': 9275, 'wench': 9276, 'attempted': 9277, 'smokinghot': 9278, 'rajak': 9279, 'slicing': 9280, 'apprehended': 9281, 'lower': 9282, 'politics': 9283, 'alienated': 9284, 'emptyhanded': 9285, 'bands': 9286, 'aaskavariian': 9287, 'available': 9288, 'gaze': 9289, 'hopping': 9290, 'hardcore': 9291, 'joy': 9292, 'cleanse': 9293, 'buggers': 9294, 'console': 9295, 'buyer': 9296, 'carina': 9297, 'elbows': 9298, 'inbound': 9299, 'wary': 9300, 'rodent': 9301, 'regulations': 9302, 'tivan': 9303, 'fluid': 9304, 'markets': 9305, 'wallets': 9306, 'establishment': 9307, 'orloni': 9308, 'batshit': 9309, 'negotiation': 9310, 'tactic': 9311, 'tortured': 9312, 'assassin': 9313, 'fonan': 9314, 'mods': 9315, 'pods': 9316, 'brag': 9317, 'blasted': 9318, 'singlehandedly': 9319, 'nondamaging': 9320, 'lunatic': 9321, 'hadron': 9322, 'enforcer': 9323, 'rocket': 9324, 'sakes': 9325, 'minutiae': 9326, 'secondly': 9327, 'established': 9328, 'establish': 9329, 'concept': 9330, 'groots': 9331, 'yondu': 9332, 'expects': 9333, 'honorable': 9334, 'lifespan': 9335, 'reacts': 9336, 'organic': 9337, 'surge': 9338, 'ronans': 9339, 'planets': 9340, 'bockxet': 9341, 'yondus': 9342, 'disable': 9343, 'dismantling': 9344, 'rocxet': 9345, 'whistles': 9346, 'tessica': 9347, 'introduced': 9348, 'ultimate': 9349, 'claimed': 9350, 'amazingly': 9351, 'escaped': 9352, 'operative': 9353, 'shoddy': 9354, 'remorse': 9355, 'snowden': 9356, 'alexis': 9357, 'mythical': 9358, 'demons': 9359, 'tact': 9360, 'chord': 9361, 'balk': 9362, 'causing': 9363, 'whereas': 9364, '2100': 9365, 'brandnew': 9366, 'buttons': 9367, 'distractions': 9368, 'proofing': 9369, 'screeching': 9370, 'vixen': 9371, 'undone': 9372, 'reset': 9373, 'youngblood': 9374, 'rip': 9375, 'rat': 9376, 'lyrics': 9377, 'statues': 9378, 'jackofalltrades': 9379, 'ly': 9380, 'tweak': 9381, 'winkle': 9382, 'jou': 9383, 'blocks': 9384, 'pristine': 9385, 'ski': 9386, 'doovers': 9387, 'applying': 9388, 'tourniquet': 9389, 'hating': 9390, 'admiration': 9391, 'answered': 9392, '2025326': 9393, '2025': 9394, 'comedy': 9395, 'headquarters': 9396, 'tonights': 9397, 'dame': 9398, 'jennifer': 9399, 'satellite': 9400, 'iteil': 9401, 'pauricl': 9402, 'hoa': 9403, 'andre': 9404, 'agassi': 9405, 'orchestra': 9406, 'stray': 9407, 'lectures': 9408, 'backalley': 9409, 'blowjob': 9410, 'coatcheck': 9411, 'bads': 9412, 'pesky': 9413, 'doggie': 9414, 'arnolds': 9415, 'chopped': 9416, 'terminators': 9417, 'riddles': 9418, 'thold': 9419, 'tighten': 9420, 'sexyass': 9421, 'wack': 9422, 'ai': 9423, 'motivation': 9424, 'utmost': 9425, 'kindness': 9426, 'grumpy': 9427, 'wasstp': 9428, 'selfdriving': 9429, 'bu': 9430, 'ln': 9431, 'thes': 9432, 'sons': 9433, 'jerkoff': 9434, 'rad': 9435, 'fey': 9436, 'roomtemperature': 9437, 'almond': 9438, 'tangerine': 9439, 'margarita': 9440, 'apricot': 9441, '2016': 9442, 'offender': 9443, 'views': 9444, 'stryt': 9445, 'vagrant': 9446, 'horseradish': 9447, 'reds': 9448, 'neckandneck': 9449, 'taboos': 9450, 'bestiality': 9451, 'rerguson': 9452, 'dispute': 9453, 'tuft': 9454, 'grooming': 9455, 'regard': 9456, 'grays': 9457, 'chillout': 9458, 'tent': 9459, 'comfy': 9460, 'handbook': 9461, '0': 9462, 'creat': 9463, 'nicks': 9464, 'retitling': 9465, 'dummies': 9466, 'impulse': 9467, 'misleading': 9468, 'walit': 9469, 'tylenol': 9470, 'pumped': 9471, 'narcotic': 9472, 'listener': 9473, 'therapist': 9474, 'chilling': 9475, 'ether': 9476, 'cancelled': 9477, 'boogie': 9478, 'partly': 9479, 'inventor': 9480, '2015': 9481, 'superhuman': 9482, 'sotey': 9483, 'misread': 9484, 'jincoln': 9485, '1800s': 9486, 'marilyn': 9487, 'monroe': 9488, 'extraordinary': 9489, 'miraculous': 9490, 'decorations': 9491, 'tartar': 9492, 'refuses': 9493, 'baptist': 9494, 'boingo': 9495, 'hotspot': 9496, 'diet': 9497, '1998': 9498, 'luggage': 9499, 'ahh': 9500, 'veil': 9501, 'custom': 9502, 'plaza': 9503, 'placing': 9504, 'reno': 9505, 'virgin': 9506, 'tuba': 9507, 'cue': 9508, 'homes': 9509, 'escrows': 9510, 'brees': 9511, 'driveby': 9512, 'paige': 9513, 'spit': 9514, 'ad': 9515, '12000': 9516, 'notices': 9517, 'exploit': 9518, 'traumatic': 9519, 'react': 9520, 'sconces': 9521, 'doubles': 9522, 'doorway': 9523, 'thumbs': 9524, 'muppets': 9525, 'boyd': 9526, 'flirting': 9527, 'marijuana': 9528, 'venture': 9529, 'capitalist': 9530, 'nancys': 9531, 'thicker': 9532, 'tshirts': 9533, 'shamwow': 9534, 'illegitimate': 9535, 'surrendering': 9536, 'surrendered': 9537, 'korean': 9538, 'ves': 9539, 'unlikely': 9540, 'loafer': 9541, 'suede': 9542, 'paving': 9543, 'veterans': 9544, 'aside': 9545, 'crank': 9546, 'liters': 9547, 'breatheslow': 9548, 'repair': 9549, 'incorrect': 9550, 'agitated': 9551, 'consult': 9552, 'congratulation': 9553, 'bridal': 9554, 'boutique': 9555, 'richards': 9556, 'eeverything': 9557, 'fundraising': 9558, 'jessica': 9559, 'canteen': 9560, 'darkness': 9561, 'tiara': 9562, 'med': 9563, 'supporting': 9564, 'respecting': 9565, 'feelin': 9566, 'cheeseburger': 9567, 'mammogram': 9568, 'humiliation': 9569, 'scrub': 9570, 'matt': 9571, 'mexico': 9572, 'fare': 9573, 'relieve': 9574, 'elastic': 9575, 'waistband': 9576, 'irresponsible': 9577, 'lexie': 9578, 'wrecked': 9579, 'unforgivable': 9580, 'shameful': 9581, 'hangover': 9582, 'sayis': 9583, 'ar': 9584, 'imagined': 9585, 'horseback': 9586, 'dimensions': 9587, 'mode': 9588, 'explored': 9589, 'vacation': 9590, 'unflappable': 9591, 'challenge': 9592, 'harm': 9593, 'massages': 9594, 'rocking': 9595, 'physicality': 9596, 'differences': 9597, 'jis': 9598, 'aberrations': 9599, 'derive': 9600, 'electricity': 9601, 'le': 9602, 'ethani': 9603, 'ethanmy': 9604, 'shared': 9605, 'experiences': 9606, 'con': 9607, 'youl': 9608, 'sneaking': 9609, 'youi': 9610, 'toothbrush': 9611, 'lighting': 9612, 'cruising': 9613, 'singles': 9614, 'automatic': 9615, 'dryers': 9616, 'cones': 9617, 'booyah': 9618, 'presick': 9619, 'menachem': 9620, 'goldman': 9621, 'zz': 9622, 'topville': 9623, 'contingent': 9624, 'passover': 9625, 'hebrew': 9626, 'waists': 9627, 'coat': 9628, 'bubala': 9629, 'barbarians': 9630, 'hadassa': 9631, 'shmuley': 9632, 'yiddish': 9633, 'fever': 9634, 'spiked': 9635, 'preach': 9636, 'hinda': 9637, 'fagel': 9638, 'kosher': 9639, 'rabbi': 9640, 'attendance': 9641, 'implies': 9642, 'pennys': 9643, 'raisins': 9644, 'memorize': 9645, 'bran': 9646, 'leonards': 9647, 'defending': 9648, 'poltergeist': 9649, 'operated': 9650, 'guantanamo': 9651, 'discharge': 9652, '08': 9653, 'mi': 9654, 'beckerts': 9655, 'pending': 9656, 'drbailey': 9657, 'motherbaby': 9658, 'bonding': 9659, '122s': 9660, 'packet': 9661, 'shvsashcom': 9662, 'tee': 9663, 'bong': 9664, 'chin': 9665, 'lu': 9666, 'kemberly': 9667, 'ashlin': 9668, 'hyperactive': 9669, 'starve': 9670, 'garland': 9671, 'partridgeinapeartree': 9672, 'granted': 9673, 'snowy': 9674, 'puffins': 9675, 'scatter': 9676, 'grill': 9677, 'steak': 9678, 'knives': 9679, 'hypedup': 9680, 'blaming': 9681, 'pout': 9682, 'coward': 9683, 'claus': 9684, 'bingo': 9685, 'partridge': 9686, 'pear': 9687, 'enlightened': 9688, 'obligated': 9689, 'frozen': 9690, 'sleigh': 9691, 'mature': 9692, 'gingerbread': 9693, 'deodorant': 9694, 'santas': 9695, 'conscience': 9696, 'determine': 9697, 'alternating': 9698, 'sticking': 9699, 'lastminute': 9700, 'coordinating': 9701, 'troop': 9702, 'movements': 9703, 'afghanistan': 9704, 'formations': 9705, 'yhac': 9706, 'spellchecks': 9707, 'accurate': 9708, 'merediths': 9709, 'cardiff': 9710, 'aberdeen': 9711, 'belfast': 9712, 'oxford': 9713, 'slough': 9714, 'omne': 9715, 'bleed': 9716, 'bizarre': 9717, 'ambushed': 9718, 'bled': 9719, 'cripple': 9720, 'swoop': 9721, 'password': 9722, 'protected': 9723, 'civilian': 9724, 'broadcasters': 9725, 'entertain': 9726, 'indifferent': 9727, 'detached': 9728, 'silently': 9729, 'restless': 9730, 'selfentitlement': 9731, 'striking': 9732, 'empathy': 9733, 'compassion': 9734, 'blackbook': 9735, 'recruited': 9736, 'himm': 9737, 'protocol': 9738, 'billiards': 9739, 'australians': 9740, 'horsemen': 9741, 'miners': 9742, 'gunner': 9743, 'bead': 9744, 'gibraltar': 9745, 'artillerys': 9746, 'blasting': 9747, 'shelled': 9748, 'mined': 9749, 'woodward': 9750, 'claytons': 9751, 'hides': 9752, 'colin': 9753, 'moffat': 9754, 'papua': 9755, 'headhunters': 9756, 'loosened': 9757, 'girth': 9758, 'cinch': 9759, 'injured': 9760, 'darker': 9761, 'tommo': 9762, 'wipers': 9763, 'northumberland': 9764, 'fusiliers': 9765, 'corp': 9766, 'shuteye': 9767, 'strata': 9768, 'demolish': 9769, 'requisition': 9770, '105': 9771, 'sunup': 9772, '0400': 9773, 'clayton': 9774, 'artillery': 9775, 'forgota': 9776, 'hen': 9777, 'parcel': 9778, 'firstrate': 9779, 'knitter': 9780, 'recruiting': 9781, 'sap': 9782, 'slurry': 9783, 'sinking': 9784, 'clays': 9785, 'flanders': 9786, '3rd': 9787, 'canadian': 9788, 'tunnellers': 9789, 'guncotton': 9790, 'caterpillar': 9791, '70000': 9792, 'undermined': 9793, 'detonators': 9794, 'nonono': 9795, 'wells': 9796, 'levels': 9797, 'sandclay': 9798, 'seeps': 9799, 'funnels': 9800, 'manning': 9801, 'preferred': 9802, 'portfolios': 9803, 'bows': 9804, 'portraits': 9805, 'atrocious': 9806, 'crayons': 9807, 'convincingly': 9808, 'meatshapes': 9809, 'fork': 9810, 'vacations': 9811, 'learning': 9812, 'spirited': 9813, 'ladys': 9814, 'ortho': 9815, 'lunged': 9816, 'reacted': 9817, 'feeds': 9818, 'bothered': 9819, 'cadaver': 9820, 'insert': 9821, 'catheters': 9822, 'drain': 9823, 'existing': 9824, 'stripping': 9825, 'inject': 9826, 'preop': 9827, 'alaska': 9828, 'colleen': 9829, 'callie': 9830, 'ballpark': 9831, 'removing': 9832, 'aortic': 9833, 'crossclamp': 9834, 'ventricles': 9835, 'ruptured': 9836, 'naomi': 9837, 'misrepresented': 9838, 'lawsuits': 9839, 'provided': 9840, 'customers': 9841, 'subjects': 9842, 'gamble': 9843, 'smirk': 9844, 'hierarchy': 9845, 'latter': 9846, 'uncertain': 9847, 'copper': 9848, 'guinea': 9849, 'moisha': 9850, 'bosses': 9851, 'nm': 9852, 'gnu': 9853, 'umup': 9854, 'expanding': 9855, 'horizons': 9856, 'soho': 9857, 'awhile': 9858, 'landlord': 9859, 'everyones': 9860, 'pub': 9861, 'tojack': 9862, 'rita': 9863, 'bosby': 9864, 'bounce': 9865, 'fend': 9866, 'burden': 9867, 'huber': 9868, 'gabby': 9869, 'beating': 9870, 'circles': 9871, 'reciprocate': 9872, '2417': 9873, 'plumber': 9874, 'result': 9875, 'loneliness': 9876, 'strained': 9877, 'falsely': 9878, 'neanderthal': 9879, 'ana': 9880, 'ason': 9881, 'vale': 9882, 'cotton': 9883, 'tremendous': 9884, 'stationery': 9885, 'prague': 9886, 'digger': 9887, 'grandson': 9888, 'lve': 9889, 'unlocked': 9890, 'hodge': 9891, 'rex': 9892, 'nanas': 9893, 'financially': 9894, 'floras': 9895, '93rd': 9896, 'protocols': 9897, '72': 9898, 'centers': 9899, 'fyi': 9900, 'downloaded': 9901, 'saddle': 9902, 'hofstadter': 9903, 'omaha': 9904, 'restaurants': 9905, 'healer': 9906, 'twentyfive': 9907, 'spinner': 9908, 'hydraulic': 9909, 'sal': 9910, 'transporting': 9911, 'mule': 9912, 'pitt': 9913, 'convenient': 9914, 'empire': 9915, 'bottomdollar': 9916, 'retail': 9917, 'walton': 9918, 'cuts': 9919, 'mutiny': 9920, 'mcqueen': 9921, 'illiterate': 9922, 'brood': 9923, 'issue': 9924, 'authority': 9925, 'oodie': 9926, 'philadelphia': 9927, 'realise': 9928, 'county': 9929, 'dallas': 9930, 'issues': 9931, 'robs': 9932, 'scars': 9933, 'celestes': 9934, 'belly': 9935, 'whoevers': 9936, 'plain': 9937, 'unneeded': 9938, 'pension': 9939, 'permian': 9940, 'stadium': 9941, 'bubba': 9942, 'odessa': 9943, 'chewed': 9944, 'pileup': 9945, 'multiple': 9946, 'flipped': 9947, 'intraabdominal': 9948, 'bony': 9949, 'deformity': 9950, 'temporal': 9951, 'centimeter': 9952, 'abdomens': 9953, 'bargained': 9954, 'graceful': 9955, 'landing': 9956, 'fentanyl': 9957, 'pikes': 9958, 'collapsed': 9959, 'dislocation': 9960, 'treadmill': 9961, 'bedrooms': 9962, 'ang': 9963, 'miguel': 9964, 'sofia': 9965, 'devine': 9966, 'hayes': 9967, 'rectory': 9968, 'childress': 9969, 'poster': 9970, 'halfcourt': 9971, 'sideline': 9972, 'phase': 9973, 'momentum': 9974, 'cramer': 9975, 'clubfeet': 9976, 'revision': 9977, 'leah': 9978, 'mmhmm': 9979, 'cuddled': 9980, 'reopen': 9981, 'balloon': 9982, 'catheter': 9983, 'shane': 9984, 'thickened': 9985, 'curry': 9986, 'organ': 9987, 'cardiothoracic': 9988, 'appendix': 9989, 'knots': 9990, 'bailing': 9991, 'stellas': 9992, 'dede': 9993, 'barge': 9994, 'gilbert': 9995, 'grant': 9996, 'candidate': 9997, 'selection': 9998, 'stack': 9999, 'peru': 10000, 'consulting': 10001, 'terrain': 10002, 'sliding': 10003, 'puncture': 10004, 'spark': 10005, 'skid': 10006, 'gasoline': 10007, 'debris': 10008, 'detonator': 10009, 'waits': 10010, 'nitrates': 10011, 'devices': 10012, 'curved': 10013, 'partial': 10014, 'bellshaped': 10015, 'paramedics': 10016, 'holden': 10017, 'lamberts': 10018, 'rigged': 10019, 'ta': 10020, 'lsq': 10021, 'quebec': 10022, 'response': 10023, 'clicking': 10024, 'faked': 10025, 'wvatt': 10026, 'leblanc': 10027, 'grate': 10028, 'perimeter': 10029, 'predictable': 10030, 'avoid': 10031, 'jeep': 10032, 'patrol': 10033, 'tomorrows': 10034, 'simultaneously': 10035, 'glare': 10036, 'ist': 10037, 'juan': 10038, 'rulebook': 10039, 'log': 10040, 'retrace': 10041, 'stuffs': 10042, 'cooperates': 10043, 'nana': 10044, 'mercy': 10045, 'doomed': 10046, 'trimming': 10047, 'numb': 10048, 'sour': 10049, 'castle': 10050, 'oreo': 10051, 'mmkay': 10052, 'duds': 10053, 'gamejumped': 10054, 'fungeon': 10055, 'dungeon': 10056, 'vanellope': 10057, 'glitches': 10058, 'racer': 10059, 'carta': 10060, 'shuttle': 10061, 'slapped': 10062, 'cybug': 10063, 'lays': 10064, 'eggs': 10065, 'joker': 10066, 'plugged': 10067, 'carpet': 10068, 'steamcleaned': 10069, 'lore': 10070, 'taller': 10071, 'stoop': 10072, 'staten': 10073, 'cooks': 10074, 'luis': 10075, 'mami': 10076, 'como': 10077, 'esta': 10078, 'gehrigs': 10079, 'knob': 10080, 'pitcher': 10081, 'meth': 10082, 'syrups': 10083, 'powders': 10084, 'whipped': 10085, 'wharton': 10086, 'nipple': 10087, 'slap': 10088, 'cap': 10089, 'tripleshot': 10090, 'caf': 10091, 'bald': 10092, 'insecure': 10093, 'chania': 10094, 'ican': 10095, 'prosecuted': 10096, 'tightening': 10097, 'poseidon': 10098, 'rogue': 10099, 'crete': 10100, 'pentagon': 10101, 'naval': 10102, 'ships': 10103, 'teenager': 10104, 'probable': 10105, 'lshaped': 10106, 'pistol': 10107, 'shirts': 10108, 'torn': 10109, 'ambient': 10110, 'temps': 10111, '97': 10112, '107': 10113, 'pmi': 10114, 'unit': 10115, 'goats': 10116, 'develop': 10117, 'meantime': 10118, 'rightslant': 10119, 'delta': 10120, 'downloading': 10121, 'latitude': 10122, 'longitude': 10123, 'metadata': 10124, 'millimeter': 10125, 'thriving': 10126, 'livestock': 10127, 'cuyahoga': 10128, 'recently': 10129, 'crucial': 10130, 'fracking': 10131, 'scifi': 10132, 'expletive': 10133, 'slides': 10134, 'toxins': 10135, 'gasbearing': 10136, 'shale': 10137, 'millions': 10138, 'gallons': 10139, 'aquifer': 10140, 'valves': 10141, 'conservos': 10142, 'lanyard': 10143, 'hopped': 10144, 'beretta': 10145, 'codys': 10146, 'killers': 10147, 'marital': 10148, 'shaft': 10149, 'krypto': 10150, 'superdog': 10151, 'sourdough': 10152, 'bread': 10153, 'mitts': 10154, '710': 10155, 'roleplaying': 10156, 'nets': 10157, 'reserved': 10158, 'getstoned': 10159, 'stoned': 10160, 'homey': 10161, 'spray': 10162, 'weed': 10163, 'puberty': 10164, 'dusting': 10165, 'strapon': 10166, 'teased': 10167, 'attraction': 10168, 'shells': 10169, 'nearby': 10170, 'sowing': 10171, 'oats': 10172, 'downsize': 10173, 'loft': 10174, 'upandcoming': 10175, 'district': 10176, 'unsettled': 10177, 'raw': 10178, 'missouri': 10179, 'twang': 10180, 'cuffs': 10181, 'reliable': 10182, 'camazotz': 10183, 'bprd': 10184, 'getup': 10185, 'purple': 10186, 'ouch': 10187, 'disagree': 10188, 'ruizs': 10189, 'anung': 10190, 'nun': 10191, 'bells': 10192, 'bollocks': 10193, 'burnt': 10194, 'bits': 10195, 'keen': 10196, 'false': 10197, 'equivalence': 10198, 'monsters': 10199, 'dust': 10200, 'infection': 10201, 'gandalf': 10202, 'todd': 10203, 'abraham': 10204, 'undertheshirt': 10205, 'clarksonthemed': 10206, 'motif': 10207, 'purge': 10208, 'loses': 10209}\n"
     ]
    }
   ],
   "source": [
    "tokenizer = Tokenizer(oov_token='<oov>',num_words=10180)\n",
    "tokenizer.fit_on_texts(text_train_processed)\n",
    "vocab_size = len(tokenizer.word_index)+1\n",
    "print(f\"number of unique word in our created vocabulary = {vocab_size}\")\n",
    "print(tokenizer.word_index)"
   ]
  },
  {
   "cell_type": "code",
   "execution_count": null,
   "metadata": {
    "colab": {
     "base_uri": "https://localhost:8080/"
    },
    "id": "T9aR5PfKlKzO",
    "outputId": "2d3a9322-0324-4e38-f303-857c463ced3a"
   },
   "outputs": [
    {
     "name": "stdout",
     "output_type": "stream",
     "text": [
      "['admiration' 'admire' 'admit' 'admitting' 'ado' 'adoption' 'adorable'\n",
      " 'adrienne' 'ads' 'adult' 'adulthood' 'adults' 'advance' 'advantage'\n",
      " 'adventure' 'adventures' 'adventurous' 'adversarybaby' 'advertising'\n",
      " 'advice' 'advised' 'advising' 'advisor' 'advocate' 'aerial' 'aerobics'\n",
      " 'aerospace' 'affair' 'affairs' 'affecting' 'affection' 'affirm' 'afford'\n",
      " 'afghanistan' 'afraid' 'africa' 'afternoon' 'aftershocks' 'afunky'\n",
      " 'againokay']\n"
     ]
    }
   ],
   "source": [
    "vectorized = vectorizer.get_feature_names_out()\n",
    "print(vectorized[300:340])"
   ]
  },
  {
   "cell_type": "code",
   "execution_count": null,
   "metadata": {
    "id": "YktoCKXKlbqI"
   },
   "outputs": [],
   "source": [
    "reverse_target_char_index = tokenizer.index_word\n",
    "target_token_index = tokenizer.word_index"
   ]
  },
  {
   "cell_type": "code",
   "execution_count": null,
   "metadata": {
    "colab": {
     "base_uri": "https://localhost:8080/"
    },
    "id": "Bdfpy_Klm06S",
    "outputId": "4723d9a8-445f-40e6-f57a-976173059140"
   },
   "outputs": [
    {
     "name": "stderr",
     "output_type": "stream",
     "text": [
      "100%|██████████| 10180/10180 [00:32<00:00, 317.23it/s]\n"
     ]
    }
   ],
   "source": [
    "vocab_size = len(tokenizer.word_index)+1\n",
    "embedding_matrix = np.zeros((vocab_size, 201))\n",
    "embedding_matrix[0,0] = 1\n",
    "embedding_matrix[1,1] = 1\n",
    "embedding_matrix[2,2] = 1\n",
    "n1,n2 = np.shape(tf_x_train)\n",
    "for i,words in enumerate(tqdm(vectorized)):\n",
    "  chosen_text = (np.where(((tf_x_train[:,i] != 0).toarray()).squeeze())[0])\n",
    "  np.random.shuffle(chosen_text)\n",
    "  temp_index = min(3,len(chosen_text))\n",
    "  chosen_text_f = chosen_text[0:temp_index]\n",
    "  w = np.zeros((200,temp_index))\n",
    "  bias = np.zeros((temp_index,))\n",
    "  for counter_chosen, index in enumerate(chosen_text_f):\n",
    "    non_zero = (np.where(((tf_x_train[index,:] != 0).toarray()).squeeze())[0])\n",
    "    not_chosen = np.arange(n2)\n",
    "    not_chosen= np.delete(not_chosen,non_zero)\n",
    "    np.random.shuffle(not_chosen)\n",
    "    not_chosen = not_chosen[0:len(non_zero)]\n",
    "    feature_vec = np.zeros((2*len(non_zero),200))\n",
    "    feature_vec[0:len(non_zero),:] = data[non_zero,:]\n",
    "    feature_vec[len(non_zero):,:] = data[not_chosen,:]\n",
    "    y = np.zeros((2*len(non_zero),))\n",
    "    y[0:len(non_zero)] = 1\n",
    "    clf = LinearSVC(random_state=0)\n",
    "    clf.fit(feature_vec,y)\n",
    "    w[:,counter_chosen] = clf.coef_\n",
    "    bias[counter_chosen] = clf.intercept_\n",
    "  w_f = np.mean(w,axis = 1)\n",
    "  b_f = np.mean(bias)\n",
    "  index_word_embedding = target_token_index[words]\n",
    "  if index_word_embedding == 2:\n",
    "    print(words)\n",
    "\n",
    "  embedding_matrix[index_word_embedding,0:200] = w_f\n",
    "  embedding_matrix[index_word_embedding,200] = b_f\n",
    "\n",
    "\n",
    "  "
   ]
  },
  {
   "cell_type": "code",
   "execution_count": null,
   "metadata": {
    "colab": {
     "base_uri": "https://localhost:8080/"
    },
    "id": "Pbq7jIIsn6Fw",
    "outputId": "5b0ebbaa-e38e-4eb3-a5ad-5d89c6ec5da7"
   },
   "outputs": [
    {
     "name": "stdout",
     "output_type": "stream",
     "text": [
      "Max length of each line = 13\n",
      "first sample = [   2   13    4 1666    3]\n"
     ]
    }
   ],
   "source": [
    "from itertools import chain\n",
    "tokenized_txt_train = []\n",
    "MAXLEN = -1\n",
    "for i in range(len(text_train_processed)):\n",
    "  tokenized = tokenizer.texts_to_sequences(text_train_processed[i].split())\n",
    "  tokenized = list(chain.from_iterable(tokenized))\n",
    "  tokenized = np.asarray(tokenized)\n",
    "  if (len(tokenized) > MAXLEN):\n",
    "    MAXLEN = len(tokenized)\n",
    "  tokenized_txt_train.append(tokenized)\n",
    "print(f\"Max length of each line = {MAXLEN}\")\n",
    "print(f\"first sample = {tokenized_txt_train[0]}\")\n",
    "\n",
    "\n"
   ]
  },
  {
   "cell_type": "code",
   "execution_count": null,
   "metadata": {
    "colab": {
     "base_uri": "https://localhost:8080/"
    },
    "id": "N28_UiIm2bON",
    "outputId": "4985fd4e-b754-4094-b4af-3ae162aaa95f"
   },
   "outputs": [
    {
     "name": "stdout",
     "output_type": "stream",
     "text": [
      "Max length of each line = 13\n",
      "first sample = [   2 4545 3066 1622 4101    3]\n"
     ]
    }
   ],
   "source": [
    "for i in range(len(text_dev_processed)):\n",
    "  text_dev_processed[i] =  '<shr> ' + \"\".join(text_dev_processed[i]) + ' <pia>'\n",
    "tokenized_txt_dev = []\n",
    "for i in range(len(text_dev_processed)):\n",
    "  tokenized = tokenizer.texts_to_sequences(text_dev_processed[i].split())\n",
    "  tokenized = list(chain.from_iterable(tokenized))\n",
    "  tokenized = np.asarray(tokenized)\n",
    "  if (len(tokenized) > MAXLEN):\n",
    "    MAXLEN = len(tokenized)\n",
    "  tokenized_txt_dev.append(tokenized)\n",
    "print(f\"Max length of each line = {MAXLEN}\")\n",
    "print(f\"first sample = {tokenized_txt_dev[0]}\")\n"
   ]
  },
  {
   "cell_type": "code",
   "execution_count": null,
   "metadata": {
    "colab": {
     "base_uri": "https://localhost:8080/"
    },
    "id": "JxRZZsiVnu-G",
    "outputId": "e97f3dd8-a7ef-42b0-8380-5aea408d6a5d"
   },
   "outputs": [
    {
     "name": "stdout",
     "output_type": "stream",
     "text": [
      "Max length of each line = 13\n",
      "first sample = [  2 652   3]\n"
     ]
    }
   ],
   "source": [
    "for i in range(len(text_test_processed)):\n",
    "  text_test_processed[i] =  '<shr> ' + \"\".join(text_test_processed[i]) + ' <pia>'\n",
    "tokenized_txt_test = []\n",
    "for i in range(len(text_test_processed)):\n",
    "  tokenized = tokenizer.texts_to_sequences(text_test_processed[i].split())\n",
    "  tokenized = list(chain.from_iterable(tokenized))\n",
    "  tokenized = np.asarray(tokenized)\n",
    "  if (len(tokenized) > MAXLEN):\n",
    "    MAXLEN = len(tokenized)\n",
    "  tokenized_txt_test.append(tokenized)\n",
    "print(f\"Max length of each line = {MAXLEN}\")\n",
    "print(f\"first sample = {tokenized_txt_test[0]}\")\n"
   ]
  },
  {
   "cell_type": "code",
   "execution_count": null,
   "metadata": {
    "id": "U1oG1XL727Ws"
   },
   "outputs": [],
   "source": [
    "from numpy import array\n",
    "from numpy import asarray\n",
    "from numpy import zeros\n",
    "from keras.preprocessing.text import Tokenizer\n",
    "from keras_preprocessing.sequence import pad_sequences\n",
    "from keras.models import Sequential\n",
    "from keras.layers import Dense\n",
    "from keras.layers import Flatten\n",
    "from keras.layers import Embedding"
   ]
  },
  {
   "cell_type": "code",
   "execution_count": null,
   "metadata": {
    "id": "Bm5kan60273k"
   },
   "outputs": [],
   "source": [
    "e = Embedding(vocab_size, 201, weights=[embedding_matrix], trainable=False)"
   ]
  },
  {
   "cell_type": "code",
   "execution_count": null,
   "metadata": {
    "id": "3vu0qKm03Bez"
   },
   "outputs": [],
   "source": [
    "padded_all_train= pad_sequences(list(tokenized_txt_train), maxlen=MAXLEN, padding=\"post\")\n",
    "padded_all_dev = pad_sequences(list(tokenized_txt_dev), maxlen=MAXLEN, padding=\"post\")\n",
    "padded_all_test = pad_sequences(list(tokenized_txt_test), maxlen=MAXLEN, padding=\"post\")"
   ]
  },
  {
   "cell_type": "code",
   "execution_count": null,
   "metadata": {
    "colab": {
     "base_uri": "https://localhost:8080/"
    },
    "id": "yKbMYFNf3IaQ",
    "outputId": "30d79e55-809d-47f1-ec7b-a1fbda12b9de"
   },
   "outputs": [
    {
     "name": "stderr",
     "output_type": "stream",
     "text": [
      "WARNING:tensorflow:Layer lstm_1 will not use cuDNN kernels since it doesn't meet the criteria. It will use a generic GPU kernel as fallback when running on GPU.\n"
     ]
    },
    {
     "name": "stdout",
     "output_type": "stream",
     "text": [
      "Model: \"sequential_1\"\n",
      "_________________________________________________________________\n",
      " Layer (type)                Output Shape              Param #   \n",
      "=================================================================\n",
      " embedding_2 (Embedding)     (None, None, 201)         2052210   \n",
      "                                                                 \n",
      " lstm_1 (LSTM)               (None, 512)               1462272   \n",
      "                                                                 \n",
      " dense_1 (Dense)             (None, 3)                 1539      \n",
      "                                                                 \n",
      "=================================================================\n",
      "Total params: 3,516,021\n",
      "Trainable params: 1,463,811\n",
      "Non-trainable params: 2,052,210\n",
      "_________________________________________________________________\n",
      "None\n"
     ]
    }
   ],
   "source": [
    "from keras.models import Sequential\n",
    "from keras.layers import Dense, Embedding, LSTM, SpatialDropout1D,Bidirectional\n",
    "from sklearn.model_selection import train_test_split\n",
    "\n",
    "\n",
    "e = Embedding(vocab_size, 201, weights=[embedding_matrix], trainable=False)\n",
    "model = Sequential()\n",
    "model.add(e)\n",
    "model.add(LSTM(512, dropout=0.2, recurrent_dropout=0.2))\n",
    "model.add(Dense(3,activation='softmax'))\n",
    "model.compile(loss = 'categorical_crossentropy', optimizer='adam',metrics = ['accuracy'])\n",
    "print(model.summary())\n"
   ]
  },
  {
   "cell_type": "code",
   "execution_count": null,
   "metadata": {
    "id": "IpsDu2_X3RtV"
   },
   "outputs": [],
   "source": [
    "import tensorflow as tf\n",
    "sentiment_train_1hot= tf.convert_to_tensor(tf.keras.utils.to_categorical(np.asarray(sentiment_train)))\n",
    "sentiment_dev_1hot = tf.convert_to_tensor(tf.keras.utils.to_categorical(np.asarray(sentiment_dev)))"
   ]
  },
  {
   "cell_type": "code",
   "execution_count": null,
   "metadata": {
    "id": "x3kJopfg3V4f"
   },
   "outputs": [],
   "source": [
    "array_train = np.asarray(padded_all_train)\n",
    "array_dev = np.asarray(padded_all_dev)\n",
    "array_test = np.asarray(padded_all_test)"
   ]
  },
  {
   "cell_type": "code",
   "execution_count": null,
   "metadata": {
    "colab": {
     "base_uri": "https://localhost:8080/"
    },
    "id": "s0C2dOdD3aI7",
    "outputId": "5fcf76b5-9734-4c20-f3f6-ebd27d1946ed"
   },
   "outputs": [
    {
     "name": "stdout",
     "output_type": "stream",
     "text": [
      "Epoch 1/20\n",
      "317/317 [==============================] - 22s 63ms/step - loss: 1.0818 - accuracy: 0.4072 - val_loss: 1.0863 - val_accuracy: 0.3877\n",
      "Epoch 2/20\n",
      "317/317 [==============================] - 19s 61ms/step - loss: 1.0686 - accuracy: 0.4246 - val_loss: 1.1066 - val_accuracy: 0.3895\n",
      "Epoch 3/20\n",
      "317/317 [==============================] - 19s 61ms/step - loss: 1.0586 - accuracy: 0.4376 - val_loss: 1.0741 - val_accuracy: 0.4148\n",
      "Epoch 4/20\n",
      "317/317 [==============================] - 19s 61ms/step - loss: 1.0506 - accuracy: 0.4490 - val_loss: 1.0738 - val_accuracy: 0.4213\n",
      "Epoch 5/20\n",
      "317/317 [==============================] - 19s 60ms/step - loss: 1.0449 - accuracy: 0.4533 - val_loss: 1.0705 - val_accuracy: 0.4191\n",
      "Epoch 6/20\n",
      "317/317 [==============================] - 19s 61ms/step - loss: 1.0385 - accuracy: 0.4625 - val_loss: 1.0616 - val_accuracy: 0.4219\n",
      "Epoch 7/20\n",
      "317/317 [==============================] - 19s 61ms/step - loss: 1.0304 - accuracy: 0.4694 - val_loss: 1.0704 - val_accuracy: 0.4262\n",
      "Epoch 8/20\n",
      "317/317 [==============================] - 19s 60ms/step - loss: 1.0236 - accuracy: 0.4780 - val_loss: 1.0594 - val_accuracy: 0.4343\n",
      "Epoch 9/20\n",
      "317/317 [==============================] - 19s 61ms/step - loss: 1.0139 - accuracy: 0.4853 - val_loss: 1.0584 - val_accuracy: 0.4270\n",
      "Epoch 10/20\n",
      "317/317 [==============================] - 21s 67ms/step - loss: 1.0064 - accuracy: 0.4916 - val_loss: 1.0548 - val_accuracy: 0.4262\n",
      "Epoch 11/20\n",
      "317/317 [==============================] - 19s 61ms/step - loss: 0.9980 - accuracy: 0.4997 - val_loss: 1.0752 - val_accuracy: 0.4306\n",
      "Epoch 12/20\n",
      "317/317 [==============================] - 19s 60ms/step - loss: 0.9872 - accuracy: 0.5062 - val_loss: 1.0645 - val_accuracy: 0.4270\n",
      "Epoch 13/20\n",
      "317/317 [==============================] - 19s 62ms/step - loss: 0.9763 - accuracy: 0.5139 - val_loss: 1.0525 - val_accuracy: 0.4458\n",
      "Epoch 14/20\n",
      "317/317 [==============================] - 20s 62ms/step - loss: 0.9619 - accuracy: 0.5271 - val_loss: 1.0504 - val_accuracy: 0.4395\n",
      "Epoch 15/20\n",
      "317/317 [==============================] - 19s 61ms/step - loss: 0.9439 - accuracy: 0.5424 - val_loss: 1.0758 - val_accuracy: 0.4333\n",
      "Epoch 16/20\n",
      "317/317 [==============================] - 19s 61ms/step - loss: 0.9304 - accuracy: 0.5496 - val_loss: 1.0519 - val_accuracy: 0.4460\n",
      "Epoch 17/20\n",
      "317/317 [==============================] - 20s 62ms/step - loss: 0.9140 - accuracy: 0.5622 - val_loss: 1.0510 - val_accuracy: 0.4474\n",
      "Epoch 18/20\n",
      "317/317 [==============================] - 25s 79ms/step - loss: 0.8991 - accuracy: 0.5745 - val_loss: 1.0616 - val_accuracy: 0.4446\n",
      "Epoch 19/20\n",
      "317/317 [==============================] - 25s 78ms/step - loss: 0.8809 - accuracy: 0.5815 - val_loss: 1.0879 - val_accuracy: 0.4408\n",
      "Epoch 20/20\n",
      "317/317 [==============================] - 19s 60ms/step - loss: 0.8652 - accuracy: 0.5955 - val_loss: 1.0907 - val_accuracy: 0.4442\n"
     ]
    },
    {
     "data": {
      "text/plain": [
       "<keras.callbacks.History at 0x7f0d46ff0940>"
      ]
     },
     "execution_count": 35,
     "metadata": {},
     "output_type": "execute_result"
    }
   ],
   "source": [
    "batch_size = 64\n",
    "model.fit(array_train, sentiment_train_1hot,validation_data=(array_dev, sentiment_dev_1hot),epochs =20 , batch_size=batch_size, verbose = 1)"
   ]
  },
  {
   "cell_type": "markdown",
   "metadata": {
    "id": "6b8l3WXO7aoE"
   },
   "source": [
    "validation accuracy is still increasing! lets train on some more batches"
   ]
  },
  {
   "cell_type": "code",
   "execution_count": null,
   "metadata": {
    "colab": {
     "base_uri": "https://localhost:8080/"
    },
    "id": "lK0jQaz17vQW",
    "outputId": "ea1abd8f-97fe-4e6c-a323-235ecf17c489"
   },
   "outputs": [
    {
     "name": "stdout",
     "output_type": "stream",
     "text": [
      "Epoch 1/10\n",
      "317/317 [==============================] - 21s 64ms/step - loss: 0.8460 - accuracy: 0.6046 - val_loss: 1.0917 - val_accuracy: 0.4517\n",
      "Epoch 2/10\n",
      "317/317 [==============================] - 19s 61ms/step - loss: 0.8284 - accuracy: 0.6147 - val_loss: 1.0877 - val_accuracy: 0.4482\n",
      "Epoch 3/10\n",
      "317/317 [==============================] - 19s 61ms/step - loss: 0.8135 - accuracy: 0.6287 - val_loss: 1.1331 - val_accuracy: 0.4478\n",
      "Epoch 4/10\n",
      "317/317 [==============================] - 21s 67ms/step - loss: 0.7928 - accuracy: 0.6387 - val_loss: 1.1264 - val_accuracy: 0.4602\n",
      "Epoch 5/10\n",
      "317/317 [==============================] - 19s 61ms/step - loss: 0.7672 - accuracy: 0.6480 - val_loss: 1.1185 - val_accuracy: 0.4602\n",
      "Epoch 6/10\n",
      "317/317 [==============================] - 19s 61ms/step - loss: 0.7540 - accuracy: 0.6569 - val_loss: 1.1370 - val_accuracy: 0.4511\n",
      "Epoch 7/10\n",
      "317/317 [==============================] - 19s 61ms/step - loss: 0.7315 - accuracy: 0.6718 - val_loss: 1.1460 - val_accuracy: 0.4564\n",
      "Epoch 8/10\n",
      "317/317 [==============================] - 19s 61ms/step - loss: 0.7191 - accuracy: 0.6777 - val_loss: 1.1734 - val_accuracy: 0.4495\n",
      "Epoch 9/10\n",
      "317/317 [==============================] - 19s 61ms/step - loss: 0.6955 - accuracy: 0.6915 - val_loss: 1.2036 - val_accuracy: 0.4673\n",
      "Epoch 10/10\n",
      "317/317 [==============================] - 21s 66ms/step - loss: 0.6802 - accuracy: 0.6996 - val_loss: 1.2137 - val_accuracy: 0.4525\n"
     ]
    },
    {
     "data": {
      "text/plain": [
       "<keras.callbacks.History at 0x7f0d469c6eb0>"
      ]
     },
     "execution_count": 36,
     "metadata": {},
     "output_type": "execute_result"
    }
   ],
   "source": [
    "batch_size = 64\n",
    "model.fit(array_train, sentiment_train_1hot,validation_data=(array_dev, sentiment_dev_1hot),epochs =10 , batch_size=batch_size, verbose = 1)"
   ]
  },
  {
   "cell_type": "markdown",
   "metadata": {
    "id": "_vvOFwle8k8Y"
   },
   "source": [
    "so in this method test accuracy is stuck around 46, lets try to deepen the model"
   ]
  },
  {
   "cell_type": "code",
   "execution_count": null,
   "metadata": {
    "colab": {
     "base_uri": "https://localhost:8080/"
    },
    "id": "Vl85MOZY8qgC",
    "outputId": "3960faed-4bd0-43ad-9ea9-2f6c6830818b"
   },
   "outputs": [
    {
     "name": "stderr",
     "output_type": "stream",
     "text": [
      "WARNING:tensorflow:Layer lstm_6 will not use cuDNN kernels since it doesn't meet the criteria. It will use a generic GPU kernel as fallback when running on GPU.\n",
      "WARNING:tensorflow:Layer lstm_7 will not use cuDNN kernels since it doesn't meet the criteria. It will use a generic GPU kernel as fallback when running on GPU.\n"
     ]
    },
    {
     "name": "stdout",
     "output_type": "stream",
     "text": [
      "Model: \"sequential_5\"\n",
      "_________________________________________________________________\n",
      " Layer (type)                Output Shape              Param #   \n",
      "=================================================================\n",
      " embedding_6 (Embedding)     (None, None, 201)         2052210   \n",
      "                                                                 \n",
      " lstm_6 (LSTM)               (None, None, 64)          68096     \n",
      "                                                                 \n",
      " lstm_7 (LSTM)               (None, 16)                5184      \n",
      "                                                                 \n",
      " dense_4 (Dense)             (None, 3)                 51        \n",
      "                                                                 \n",
      "=================================================================\n",
      "Total params: 2,125,541\n",
      "Trainable params: 73,331\n",
      "Non-trainable params: 2,052,210\n",
      "_________________________________________________________________\n",
      "None\n"
     ]
    }
   ],
   "source": [
    "from keras.models import Sequential\n",
    "from keras.layers import Dense, Embedding, LSTM, SpatialDropout1D,Bidirectional\n",
    "from sklearn.model_selection import train_test_split\n",
    "\n",
    "\n",
    "e = Embedding(vocab_size, 201, weights=[embedding_matrix], trainable=False)\n",
    "model3 = Sequential()\n",
    "model3.add(e)\n",
    "model3.add(LSTM(64,return_sequences=True, dropout=0.2, recurrent_dropout=0.2))\n",
    "model3.add(LSTM(16, dropout=0.2, recurrent_dropout=0.2))\n",
    "model3.add(Dense(3,activation='softmax'))\n",
    "model3.compile(loss = 'categorical_crossentropy', optimizer='adam',metrics = ['accuracy'])\n",
    "print(model3.summary())"
   ]
  },
  {
   "cell_type": "code",
   "execution_count": null,
   "metadata": {
    "colab": {
     "base_uri": "https://localhost:8080/"
    },
    "id": "cm5jvoT58tPp",
    "outputId": "0da65775-4fe0-4ec2-c766-b6173b232fca"
   },
   "outputs": [
    {
     "name": "stdout",
     "output_type": "stream",
     "text": [
      "Epoch 1/30\n",
      "317/317 [==============================] - 38s 118ms/step - loss: 1.0339 - accuracy: 0.4700 - val_loss: 1.0628 - val_accuracy: 0.4260\n",
      "Epoch 2/30\n",
      "317/317 [==============================] - 37s 116ms/step - loss: 1.0319 - accuracy: 0.4734 - val_loss: 1.0575 - val_accuracy: 0.4320\n",
      "Epoch 3/30\n",
      "317/317 [==============================] - 37s 116ms/step - loss: 1.0239 - accuracy: 0.4795 - val_loss: 1.0590 - val_accuracy: 0.4320\n",
      "Epoch 4/30\n",
      "317/317 [==============================] - 37s 116ms/step - loss: 1.0183 - accuracy: 0.4857 - val_loss: 1.0542 - val_accuracy: 0.4369\n",
      "Epoch 5/30\n",
      "317/317 [==============================] - 37s 115ms/step - loss: 1.0126 - accuracy: 0.4859 - val_loss: 1.0517 - val_accuracy: 0.4491\n",
      "Epoch 6/30\n",
      "317/317 [==============================] - 39s 122ms/step - loss: 1.0058 - accuracy: 0.4974 - val_loss: 1.0613 - val_accuracy: 0.4369\n",
      "Epoch 7/30\n",
      "317/317 [==============================] - 36s 114ms/step - loss: 1.0005 - accuracy: 0.5008 - val_loss: 1.0578 - val_accuracy: 0.4363\n",
      "Epoch 8/30\n",
      "317/317 [==============================] - 37s 116ms/step - loss: 0.9883 - accuracy: 0.5125 - val_loss: 1.0828 - val_accuracy: 0.4250\n",
      "Epoch 9/30\n",
      "317/317 [==============================] - 37s 116ms/step - loss: 0.9853 - accuracy: 0.5152 - val_loss: 1.0476 - val_accuracy: 0.4428\n",
      "Epoch 10/30\n",
      "317/317 [==============================] - 36s 115ms/step - loss: 0.9753 - accuracy: 0.5243 - val_loss: 1.0506 - val_accuracy: 0.4460\n",
      "Epoch 11/30\n",
      "317/317 [==============================] - 37s 116ms/step - loss: 0.9672 - accuracy: 0.5278 - val_loss: 1.0503 - val_accuracy: 0.4418\n",
      "Epoch 12/30\n",
      "317/317 [==============================] - 38s 121ms/step - loss: 0.9576 - accuracy: 0.5372 - val_loss: 1.0511 - val_accuracy: 0.4399\n",
      "Epoch 13/30\n",
      "317/317 [==============================] - 37s 115ms/step - loss: 0.9509 - accuracy: 0.5406 - val_loss: 1.0523 - val_accuracy: 0.4480\n",
      "Epoch 14/30\n",
      "317/317 [==============================] - 36s 113ms/step - loss: 0.9421 - accuracy: 0.5477 - val_loss: 1.0579 - val_accuracy: 0.4547\n",
      "Epoch 15/30\n",
      "317/317 [==============================] - 37s 116ms/step - loss: 0.9322 - accuracy: 0.5522 - val_loss: 1.0515 - val_accuracy: 0.4507\n",
      "Epoch 16/30\n",
      "317/317 [==============================] - 37s 115ms/step - loss: 0.9273 - accuracy: 0.5587 - val_loss: 1.0456 - val_accuracy: 0.4537\n",
      "Epoch 17/30\n",
      "317/317 [==============================] - 37s 116ms/step - loss: 0.9143 - accuracy: 0.5703 - val_loss: 1.0560 - val_accuracy: 0.4521\n",
      "Epoch 18/30\n",
      "317/317 [==============================] - 38s 121ms/step - loss: 0.9083 - accuracy: 0.5726 - val_loss: 1.0646 - val_accuracy: 0.4515\n",
      "Epoch 19/30\n",
      "317/317 [==============================] - 36s 115ms/step - loss: 0.9056 - accuracy: 0.5733 - val_loss: 1.0407 - val_accuracy: 0.4675\n",
      "Epoch 20/30\n",
      "317/317 [==============================] - 37s 117ms/step - loss: 0.8936 - accuracy: 0.5812 - val_loss: 1.0703 - val_accuracy: 0.4570\n",
      "Epoch 21/30\n",
      "317/317 [==============================] - 36s 113ms/step - loss: 0.8863 - accuracy: 0.5887 - val_loss: 1.0616 - val_accuracy: 0.4622\n",
      "Epoch 22/30\n",
      "317/317 [==============================] - 36s 115ms/step - loss: 0.8793 - accuracy: 0.5909 - val_loss: 1.0696 - val_accuracy: 0.4636\n",
      "Epoch 23/30\n",
      "317/317 [==============================] - 36s 115ms/step - loss: 0.8750 - accuracy: 0.5933 - val_loss: 1.0543 - val_accuracy: 0.4744\n",
      "Epoch 24/30\n",
      "317/317 [==============================] - 36s 115ms/step - loss: 0.8661 - accuracy: 0.5960 - val_loss: 1.0488 - val_accuracy: 0.4681\n",
      "Epoch 25/30\n",
      "317/317 [==============================] - 38s 118ms/step - loss: 0.8639 - accuracy: 0.6001 - val_loss: 1.0594 - val_accuracy: 0.4628\n",
      "Epoch 26/30\n",
      "317/317 [==============================] - 36s 113ms/step - loss: 0.8552 - accuracy: 0.6038 - val_loss: 1.0561 - val_accuracy: 0.4681\n",
      "Epoch 27/30\n",
      "317/317 [==============================] - 35s 109ms/step - loss: 0.8481 - accuracy: 0.6105 - val_loss: 1.0601 - val_accuracy: 0.4685\n",
      "Epoch 28/30\n",
      "317/317 [==============================] - 35s 112ms/step - loss: 0.8421 - accuracy: 0.6118 - val_loss: 1.0776 - val_accuracy: 0.4772\n",
      "Epoch 29/30\n",
      "317/317 [==============================] - 36s 112ms/step - loss: 0.8326 - accuracy: 0.6206 - val_loss: 1.0723 - val_accuracy: 0.4760\n",
      "Epoch 30/30\n",
      "317/317 [==============================] - 36s 112ms/step - loss: 0.8329 - accuracy: 0.6193 - val_loss: 1.0710 - val_accuracy: 0.4642\n"
     ]
    },
    {
     "data": {
      "text/plain": [
       "<keras.callbacks.History at 0x7f0d1f26a430>"
      ]
     },
     "execution_count": 58,
     "metadata": {},
     "output_type": "execute_result"
    }
   ],
   "source": [
    "batch_size = 64\n",
    "model3.fit(array_train, sentiment_train_1hot,validation_data=(array_dev, sentiment_dev_1hot),epochs = 30, batch_size=batch_size, verbose = 1)"
   ]
  },
  {
   "cell_type": "markdown",
   "metadata": {
    "id": "kTrwi2UuCDbJ"
   },
   "source": [
    "so for now lets plot it's confusion matrix and also report f1 score values"
   ]
  },
  {
   "cell_type": "code",
   "execution_count": null,
   "metadata": {
    "colab": {
     "base_uri": "https://localhost:8080/"
    },
    "id": "AMlY2ycTCP0y",
    "outputId": "8c45784b-85e2-4ddd-e712-019330ae2ea4"
   },
   "outputs": [
    {
     "name": "stdout",
     "output_type": "stream",
     "text": [
      "317/317 [==============================] - 4s 11ms/step\n"
     ]
    }
   ],
   "source": [
    "y_pred = model3.predict(array_train, batch_size=64, verbose=1)\n",
    "y_pred_bool = np.argmax(y_pred, axis=1)"
   ]
  },
  {
   "cell_type": "code",
   "execution_count": null,
   "metadata": {
    "id": "Sc1i26LXCZAD"
   },
   "outputs": [],
   "source": [
    "from sklearn.datasets import make_classification\n",
    "from sklearn.metrics import accuracy_score, f1_score, precision_score, recall_score, classification_report, confusion_matrix\n",
    "\n",
    "\n",
    "from sklearn import metrics"
   ]
  },
  {
   "cell_type": "code",
   "execution_count": null,
   "metadata": {
    "colab": {
     "base_uri": "https://localhost:8080/",
     "height": 382
    },
    "id": "xORR7d0ZCZia",
    "outputId": "9c09b4c2-a034-42b5-a4c3-d95c2cbb8c39"
   },
   "outputs": [
    {
     "name": "stdout",
     "output_type": "stream",
     "text": [
      "accuracy score on train data: 0.6681324110671937\n",
      "f1 score on train data: 0.6602194259062633\n",
      "precision score on train data: 0.686536661739081\n",
      "recall score on train data: 0.6533433813755521\n"
     ]
    },
    {
     "data": {
      "text/plain": [
       "Text(0.5, 1.0, 'confusion matrix for train data')"
      ]
     },
     "execution_count": 61,
     "metadata": {},
     "output_type": "execute_result"
    },
    {
     "data": {
      "image/png": "[encoded data removed]",
      "text/plain": [
       "<Figure size 432x288 with 2 Axes>"
      ]
     },
     "metadata": {
      "needs_background": "light"
     },
     "output_type": "display_data"
    }
   ],
   "source": [
    "acc_test = accuracy_score(sentiment_train,y_pred_bool)\n",
    "f1_test = f1_score(sentiment_train, y_pred_bool, average=\"macro\")\n",
    "pre_test = precision_score(sentiment_train, y_pred_bool, average=\"macro\")\n",
    "recall_test = recall_score(sentiment_train, y_pred_bool, average=\"macro\")\n",
    "print(f\"accuracy score on train data: {acc_test}\")\n",
    "print(f\"f1 score on train data: {f1_test}\")\n",
    "print(f\"precision score on train data: {pre_test}\")\n",
    "print(f\"recall score on train data: {recall_test}\")\n",
    "confusion_matrix = metrics.confusion_matrix(sentiment_train, y_pred_bool)\n",
    "\n",
    "cm_display = metrics.ConfusionMatrixDisplay(confusion_matrix = confusion_matrix, display_labels = [0, 1,2])\n",
    "\n",
    "cm_display.plot()\n",
    "plt.title('confusion matrix for train data')"
   ]
  },
  {
   "cell_type": "code",
   "execution_count": null,
   "metadata": {
    "colab": {
     "base_uri": "https://localhost:8080/"
    },
    "id": "3Yljs0vgClqH",
    "outputId": "b847e4ba-3ccd-4911-c0c4-e931020bb6fd"
   },
   "outputs": [
    {
     "name": "stdout",
     "output_type": "stream",
     "text": [
      "80/80 [==============================] - 1s 9ms/step\n"
     ]
    }
   ],
   "source": [
    "y_pred = model3.predict(array_dev, batch_size=64, verbose=1)\n",
    "y_pred_bool = np.argmax(y_pred, axis=1)"
   ]
  },
  {
   "cell_type": "code",
   "execution_count": null,
   "metadata": {
    "colab": {
     "base_uri": "https://localhost:8080/",
     "height": 382
    },
    "id": "gRoDkM3oCwWq",
    "outputId": "79153666-f5dd-4160-8c12-e5a10d8cfbd4"
   },
   "outputs": [
    {
     "name": "stdout",
     "output_type": "stream",
     "text": [
      "accuracy score on validation data: 0.4641516887221015\n",
      "f1 score on validation data: 0.4423747759117795\n",
      "precision score on validation data: 0.4847515414573676\n",
      "recall score on validation data: 0.4498514247835104\n"
     ]
    },
    {
     "data": {
      "text/plain": [
       "Text(0.5, 1.0, 'confusion matrix for validation data')"
      ]
     },
     "execution_count": 63,
     "metadata": {},
     "output_type": "execute_result"
    },
    {
     "data": {
      "image/png": "[encoded data removed]",
      "text/plain": [
       "<Figure size 432x288 with 2 Axes>"
      ]
     },
     "metadata": {
      "needs_background": "light"
     },
     "output_type": "display_data"
    }
   ],
   "source": [
    "acc_test = accuracy_score(sentiment_dev,y_pred_bool)\n",
    "f1_test = f1_score(sentiment_dev, y_pred_bool, average=\"macro\")\n",
    "pre_test = precision_score(sentiment_dev, y_pred_bool, average=\"macro\")\n",
    "recall_test = recall_score(sentiment_dev, y_pred_bool, average=\"macro\")\n",
    "print(f\"accuracy score on validation data: {acc_test}\")\n",
    "print(f\"f1 score on validation data: {f1_test}\")\n",
    "print(f\"precision score on validation data: {pre_test}\")\n",
    "print(f\"recall score on validation data: {recall_test}\")\n",
    "confusion_matrix = metrics.confusion_matrix(sentiment_dev, y_pred_bool)\n",
    "\n",
    "cm_display = metrics.ConfusionMatrixDisplay(confusion_matrix = confusion_matrix, display_labels = [0,1,2])\n",
    "\n",
    "cm_display.plot()\n",
    "plt.title('confusion matrix for validation data')"
   ]
  },
  {
   "cell_type": "code",
   "execution_count": null,
   "metadata": {
    "colab": {
     "base_uri": "https://localhost:8080/"
    },
    "id": "iRJAyQT2DH1Z",
    "outputId": "586425b6-d0d3-417a-a2a8-c77561565c47"
   },
   "outputs": [
    {
     "name": "stdout",
     "output_type": "stream",
     "text": [
      "80/80 [==============================] - 1s 8ms/step\n"
     ]
    }
   ],
   "source": [
    "y_pred = model3.predict(array_test, batch_size=64, verbose=1)\n",
    "y_pred_bool = np.argmax(y_pred, axis=1)"
   ]
  },
  {
   "cell_type": "code",
   "execution_count": null,
   "metadata": {
    "colab": {
     "base_uri": "https://localhost:8080/",
     "height": 382
    },
    "id": "CqFtOqshDJ8_",
    "outputId": "be0413b9-1c51-462f-a46e-06eb7c7d432f"
   },
   "outputs": [
    {
     "name": "stdout",
     "output_type": "stream",
     "text": [
      "accuracy score on test data: 0.48352082099861854\n",
      "f1 score on test data: 0.4521658687453854\n",
      "precision score on test data: 0.48815035352957253\n",
      "recall score on test data: 0.45750256482503154\n"
     ]
    },
    {
     "data": {
      "text/plain": [
       "Text(0.5, 1.0, 'confusion matrix for test data')"
      ]
     },
     "execution_count": 65,
     "metadata": {},
     "output_type": "execute_result"
    },
    {
     "data": {
      "image/png": "[encoded data removed]",
      "text/plain": [
       "<Figure size 432x288 with 2 Axes>"
      ]
     },
     "metadata": {
      "needs_background": "light"
     },
     "output_type": "display_data"
    }
   ],
   "source": [
    "acc_test = accuracy_score(sentiment_test,y_pred_bool)\n",
    "f1_test = f1_score(sentiment_test, y_pred_bool, average=\"macro\")\n",
    "pre_test = precision_score(sentiment_test, y_pred_bool, average=\"macro\")\n",
    "recall_test = recall_score(sentiment_test, y_pred_bool, average=\"macro\")\n",
    "print(f\"accuracy score on test data: {acc_test}\")\n",
    "print(f\"f1 score on test data: {f1_test}\")\n",
    "print(f\"precision score on test data: {pre_test}\")\n",
    "print(f\"recall score on test data: {recall_test}\")\n",
    "confusion_matrix = metrics.confusion_matrix(sentiment_test, y_pred_bool)\n",
    "\n",
    "cm_display = metrics.ConfusionMatrixDisplay(confusion_matrix = confusion_matrix, display_labels = [0,1,2])\n",
    "\n",
    "cm_display.plot()\n",
    "plt.title('confusion matrix for test data')"
   ]
  },
  {
   "cell_type": "markdown",
   "metadata": {
    "id": "qkVmfjdTDRoL"
   },
   "source": [
    "now lets try making embedding learnable and only initialize values from our wrod2vec like embedding and make it learnable and compare results"
   ]
  },
  {
   "cell_type": "code",
   "execution_count": null,
   "metadata": {
    "colab": {
     "base_uri": "https://localhost:8080/"
    },
    "id": "V-6VYy9JDYtD",
    "outputId": "f6e01759-5549-4133-e8d0-7ec2476fc346"
   },
   "outputs": [
    {
     "name": "stderr",
     "output_type": "stream",
     "text": [
      "WARNING:tensorflow:Layer lstm_10 will not use cuDNN kernels since it doesn't meet the criteria. It will use a generic GPU kernel as fallback when running on GPU.\n",
      "WARNING:tensorflow:Layer lstm_11 will not use cuDNN kernels since it doesn't meet the criteria. It will use a generic GPU kernel as fallback when running on GPU.\n"
     ]
    },
    {
     "name": "stdout",
     "output_type": "stream",
     "text": [
      "Model: \"sequential_7\"\n",
      "_________________________________________________________________\n",
      " Layer (type)                Output Shape              Param #   \n",
      "=================================================================\n",
      " embedding_8 (Embedding)     (None, None, 201)         2052210   \n",
      "                                                                 \n",
      " lstm_10 (LSTM)              (None, None, 64)          68096     \n",
      "                                                                 \n",
      " lstm_11 (LSTM)              (None, 16)                5184      \n",
      "                                                                 \n",
      " dense_6 (Dense)             (None, 3)                 51        \n",
      "                                                                 \n",
      "=================================================================\n",
      "Total params: 2,125,541\n",
      "Trainable params: 2,125,541\n",
      "Non-trainable params: 0\n",
      "_________________________________________________________________\n",
      "None\n"
     ]
    }
   ],
   "source": [
    "from keras.models import Sequential\n",
    "from keras.layers import Dense, Embedding, LSTM, SpatialDropout1D,Bidirectional\n",
    "from sklearn.model_selection import train_test_split\n",
    "\n",
    "\n",
    "e = Embedding(vocab_size, 201, weights=[embedding_matrix], trainable=True)\n",
    "model3 = Sequential()\n",
    "model3.add(e)\n",
    "model3.add(LSTM(64,return_sequences=True, dropout=0.2, recurrent_dropout=0.2))\n",
    "model3.add(LSTM(16, dropout=0.2, recurrent_dropout=0.2))\n",
    "model3.add(Dense(3,activation='softmax'))\n",
    "model3.compile(loss = 'categorical_crossentropy', optimizer='adam',metrics = ['accuracy'])\n",
    "print(model3.summary())"
   ]
  },
  {
   "cell_type": "code",
   "execution_count": null,
   "metadata": {
    "colab": {
     "base_uri": "https://localhost:8080/"
    },
    "id": "6T07tpuJJ2Yc",
    "outputId": "c9c533a0-9d40-44f2-bc37-07a9a3178a1b"
   },
   "outputs": [
    {
     "name": "stdout",
     "output_type": "stream",
     "text": [
      "Epoch 1/30\n",
      "317/317 [==============================] - 42s 119ms/step - loss: 1.0289 - accuracy: 0.4675 - val_loss: 1.0334 - val_accuracy: 0.4768\n",
      "Epoch 2/30\n",
      "317/317 [==============================] - 40s 126ms/step - loss: 0.8724 - accuracy: 0.6077 - val_loss: 1.0373 - val_accuracy: 0.4821\n",
      "Epoch 3/30\n",
      "317/317 [==============================] - 38s 120ms/step - loss: 0.7496 - accuracy: 0.6838 - val_loss: 1.1391 - val_accuracy: 0.4766\n",
      "Epoch 4/30\n",
      "317/317 [==============================] - 37s 118ms/step - loss: 0.6645 - accuracy: 0.7221 - val_loss: 1.2282 - val_accuracy: 0.4851\n",
      "Epoch 5/30\n",
      "317/317 [==============================] - 39s 124ms/step - loss: 0.6008 - accuracy: 0.7411 - val_loss: 1.4678 - val_accuracy: 0.4782\n",
      "Epoch 6/30\n",
      "317/317 [==============================] - 37s 118ms/step - loss: 0.5531 - accuracy: 0.7585 - val_loss: 1.4821 - val_accuracy: 0.4815\n",
      "Epoch 7/30\n",
      "317/317 [==============================] - 38s 119ms/step - loss: 0.5212 - accuracy: 0.7659 - val_loss: 1.5570 - val_accuracy: 0.4803\n",
      "Epoch 8/30\n",
      "317/317 [==============================] - 38s 119ms/step - loss: 0.4959 - accuracy: 0.7770 - val_loss: 1.7105 - val_accuracy: 0.4744\n",
      "Epoch 9/30\n",
      "317/317 [==============================] - 38s 121ms/step - loss: 0.4783 - accuracy: 0.7795 - val_loss: 1.6717 - val_accuracy: 0.4788\n",
      "Epoch 10/30\n",
      "317/317 [==============================] - 38s 120ms/step - loss: 0.4574 - accuracy: 0.7892 - val_loss: 1.6988 - val_accuracy: 0.4748\n",
      "Epoch 11/30\n",
      "317/317 [==============================] - 39s 124ms/step - loss: 0.4410 - accuracy: 0.7946 - val_loss: 1.7886 - val_accuracy: 0.4794\n",
      "Epoch 12/30\n",
      "317/317 [==============================] - 37s 118ms/step - loss: 0.4240 - accuracy: 0.8001 - val_loss: 1.8741 - val_accuracy: 0.4807\n",
      "Epoch 13/30\n",
      "317/317 [==============================] - 38s 120ms/step - loss: 0.4129 - accuracy: 0.8052 - val_loss: 1.7731 - val_accuracy: 0.4829\n",
      "Epoch 14/30\n",
      "317/317 [==============================] - 37s 118ms/step - loss: 0.4013 - accuracy: 0.8139 - val_loss: 2.0002 - val_accuracy: 0.4730\n",
      "Epoch 15/30\n",
      "317/317 [==============================] - 38s 118ms/step - loss: 0.3861 - accuracy: 0.8190 - val_loss: 1.9944 - val_accuracy: 0.4784\n",
      "Epoch 16/30\n",
      "317/317 [==============================] - 38s 118ms/step - loss: 0.3738 - accuracy: 0.8230 - val_loss: 2.0386 - val_accuracy: 0.4809\n",
      "Epoch 17/30\n",
      "317/317 [==============================] - 39s 123ms/step - loss: 0.3659 - accuracy: 0.8300 - val_loss: 2.1689 - val_accuracy: 0.4869\n",
      "Epoch 18/30\n",
      "317/317 [==============================] - 38s 120ms/step - loss: 0.3557 - accuracy: 0.8326 - val_loss: 2.1874 - val_accuracy: 0.4721\n",
      "Epoch 19/30\n",
      "317/317 [==============================] - 38s 119ms/step - loss: 0.3403 - accuracy: 0.8403 - val_loss: 2.1886 - val_accuracy: 0.4734\n",
      "Epoch 20/30\n",
      "317/317 [==============================] - 37s 118ms/step - loss: 0.3363 - accuracy: 0.8412 - val_loss: 2.3916 - val_accuracy: 0.4703\n",
      "Epoch 21/30\n",
      "317/317 [==============================] - 38s 118ms/step - loss: 0.3270 - accuracy: 0.8479 - val_loss: 2.3838 - val_accuracy: 0.4800\n",
      "Epoch 22/30\n",
      "317/317 [==============================] - 39s 122ms/step - loss: 0.3152 - accuracy: 0.8524 - val_loss: 2.3459 - val_accuracy: 0.4687\n",
      "Epoch 23/30\n",
      "317/317 [==============================] - 40s 126ms/step - loss: 0.3080 - accuracy: 0.8569 - val_loss: 2.4046 - val_accuracy: 0.4762\n",
      "Epoch 24/30\n",
      "317/317 [==============================] - 38s 119ms/step - loss: 0.2995 - accuracy: 0.8607 - val_loss: 2.4921 - val_accuracy: 0.4744\n",
      "Epoch 25/30\n",
      "317/317 [==============================] - 38s 120ms/step - loss: 0.2893 - accuracy: 0.8662 - val_loss: 2.4902 - val_accuracy: 0.4752\n",
      "Epoch 26/30\n",
      "317/317 [==============================] - 38s 120ms/step - loss: 0.2826 - accuracy: 0.8715 - val_loss: 2.5780 - val_accuracy: 0.4758\n",
      "Epoch 27/30\n",
      "317/317 [==============================] - 39s 122ms/step - loss: 0.2748 - accuracy: 0.8725 - val_loss: 2.5861 - val_accuracy: 0.4798\n",
      "Epoch 28/30\n",
      "317/317 [==============================] - 39s 122ms/step - loss: 0.2686 - accuracy: 0.8767 - val_loss: 2.6876 - val_accuracy: 0.4756\n",
      "Epoch 29/30\n",
      "317/317 [==============================] - 40s 127ms/step - loss: 0.2600 - accuracy: 0.8805 - val_loss: 2.7179 - val_accuracy: 0.4736\n",
      "Epoch 30/30\n",
      "317/317 [==============================] - 38s 121ms/step - loss: 0.2547 - accuracy: 0.8838 - val_loss: 2.8924 - val_accuracy: 0.4766\n"
     ]
    },
    {
     "data": {
      "text/plain": [
       "<keras.callbacks.History at 0x7f0d1adeb0d0>"
      ]
     },
     "execution_count": 68,
     "metadata": {},
     "output_type": "execute_result"
    }
   ],
   "source": [
    "batch_size = 64\n",
    "model3.fit(array_train, sentiment_train_1hot,validation_data=(array_dev, sentiment_dev_1hot),epochs = 30, batch_size=batch_size, verbose = 1)"
   ]
  },
  {
   "cell_type": "code",
   "execution_count": null,
   "metadata": {
    "colab": {
     "base_uri": "https://localhost:8080/"
    },
    "id": "JFEGI31LO9H6",
    "outputId": "caf44353-a6bd-41ef-9cf9-85c244c7988e"
   },
   "outputs": [
    {
     "name": "stdout",
     "output_type": "stream",
     "text": [
      "317/317 [==============================] - 6s 16ms/step\n"
     ]
    }
   ],
   "source": [
    "y_pred = model3.predict(array_train, batch_size=64, verbose=1)\n",
    "y_pred_bool = np.argmax(y_pred, axis=1)"
   ]
  },
  {
   "cell_type": "code",
   "execution_count": null,
   "metadata": {
    "colab": {
     "base_uri": "https://localhost:8080/",
     "height": 382
    },
    "id": "_e9uImFWPCSX",
    "outputId": "e9f1268f-4e60-4f8e-c14d-0c69d108166e"
   },
   "outputs": [
    {
     "name": "stdout",
     "output_type": "stream",
     "text": [
      "accuracy score on train data: 0.8992094861660079\n",
      "f1 score on train data: 0.8983027085514391\n",
      "precision score on train data: 0.90162246983371\n",
      "recall score on train data: 0.8960839296896107\n"
     ]
    },
    {
     "data": {
      "text/plain": [
       "Text(0.5, 1.0, 'confusion matrix for train data')"
      ]
     },
     "execution_count": 70,
     "metadata": {},
     "output_type": "execute_result"
    },
    {
     "data": {
      "image/png": "[encoded data removed]",
      "text/plain": [
       "<Figure size 432x288 with 2 Axes>"
      ]
     },
     "metadata": {
      "needs_background": "light"
     },
     "output_type": "display_data"
    }
   ],
   "source": [
    "acc_test = accuracy_score(sentiment_train,y_pred_bool)\n",
    "f1_test = f1_score(sentiment_train, y_pred_bool, average=\"macro\")\n",
    "pre_test = precision_score(sentiment_train, y_pred_bool, average=\"macro\")\n",
    "recall_test = recall_score(sentiment_train, y_pred_bool, average=\"macro\")\n",
    "print(f\"accuracy score on train data: {acc_test}\")\n",
    "print(f\"f1 score on train data: {f1_test}\")\n",
    "print(f\"precision score on train data: {pre_test}\")\n",
    "print(f\"recall score on train data: {recall_test}\")\n",
    "confusion_matrix = metrics.confusion_matrix(sentiment_train, y_pred_bool)\n",
    "\n",
    "cm_display = metrics.ConfusionMatrixDisplay(confusion_matrix = confusion_matrix, display_labels = [0, 1,2])\n",
    "\n",
    "cm_display.plot()\n",
    "plt.title('confusion matrix for train data')"
   ]
  },
  {
   "cell_type": "code",
   "execution_count": null,
   "metadata": {
    "colab": {
     "base_uri": "https://localhost:8080/"
    },
    "id": "m6kUqsfIPGtV",
    "outputId": "8651ead5-3062-42cd-e504-5a9640fe0a36"
   },
   "outputs": [
    {
     "name": "stdout",
     "output_type": "stream",
     "text": [
      "80/80 [==============================] - 1s 9ms/step\n"
     ]
    }
   ],
   "source": [
    "y_pred = model3.predict(array_dev, batch_size=64, verbose=1)\n",
    "y_pred_bool = np.argmax(y_pred, axis=1)"
   ]
  },
  {
   "cell_type": "code",
   "execution_count": null,
   "metadata": {
    "colab": {
     "base_uri": "https://localhost:8080/",
     "height": 382
    },
    "id": "IRuaU02pPSJ6",
    "outputId": "ecf447bb-e4d9-45e7-ba3c-0ae240207f71"
   },
   "outputs": [
    {
     "name": "stdout",
     "output_type": "stream",
     "text": [
      "accuracy score on validation data: 0.4765949042069919\n",
      "f1 score on validation data: 0.4683589865663042\n",
      "precision score on validation data: 0.4751294850328606\n",
      "recall score on validation data: 0.4722873557145481\n"
     ]
    },
    {
     "data": {
      "text/plain": [
       "Text(0.5, 1.0, 'confusion matrix for validation data')"
      ]
     },
     "execution_count": 72,
     "metadata": {},
     "output_type": "execute_result"
    },
    {
     "data": {
      "image/png": "[encoded data removed]",
      "text/plain": [
       "<Figure size 432x288 with 2 Axes>"
      ]
     },
     "metadata": {
      "needs_background": "light"
     },
     "output_type": "display_data"
    }
   ],
   "source": [
    "acc_test = accuracy_score(sentiment_dev,y_pred_bool)\n",
    "f1_test = f1_score(sentiment_dev, y_pred_bool, average=\"macro\")\n",
    "pre_test = precision_score(sentiment_dev, y_pred_bool, average=\"macro\")\n",
    "recall_test = recall_score(sentiment_dev, y_pred_bool, average=\"macro\")\n",
    "print(f\"accuracy score on validation data: {acc_test}\")\n",
    "print(f\"f1 score on validation data: {f1_test}\")\n",
    "print(f\"precision score on validation data: {pre_test}\")\n",
    "print(f\"recall score on validation data: {recall_test}\")\n",
    "confusion_matrix = metrics.confusion_matrix(sentiment_dev, y_pred_bool)\n",
    "\n",
    "cm_display = metrics.ConfusionMatrixDisplay(confusion_matrix = confusion_matrix, display_labels = [0,1,2])\n",
    "\n",
    "cm_display.plot()\n",
    "plt.title('confusion matrix for validation data')"
   ]
  },
  {
   "cell_type": "code",
   "execution_count": null,
   "metadata": {
    "colab": {
     "base_uri": "https://localhost:8080/"
    },
    "id": "LhhhpUIgPaHJ",
    "outputId": "76fde717-7bbf-4da3-be0e-71b6dc2488b7"
   },
   "outputs": [
    {
     "name": "stdout",
     "output_type": "stream",
     "text": [
      "80/80 [==============================] - 2s 19ms/step\n"
     ]
    }
   ],
   "source": [
    "y_pred = model3.predict(array_test, batch_size=64, verbose=1)\n",
    "y_pred_bool = np.argmax(y_pred, axis=1)"
   ]
  },
  {
   "cell_type": "code",
   "execution_count": null,
   "metadata": {
    "colab": {
     "base_uri": "https://localhost:8080/",
     "height": 382
    },
    "id": "JPLjB6J2PgOD",
    "outputId": "7fb1cc06-4260-4313-8c14-187579e025d5"
   },
   "outputs": [
    {
     "name": "stdout",
     "output_type": "stream",
     "text": [
      "accuracy score on test data: 0.49457272547858694\n",
      "f1 score on test data: 0.4758987712567499\n",
      "precision score on test data: 0.47991475665239464\n",
      "recall score on test data: 0.47496324464502254\n"
     ]
    },
    {
     "data": {
      "text/plain": [
       "Text(0.5, 1.0, 'confusion matrix for test data')"
      ]
     },
     "execution_count": 74,
     "metadata": {},
     "output_type": "execute_result"
    },
    {
     "data": {
      "image/png": "[encoded data removed]",
      "text/plain": [
       "<Figure size 432x288 with 2 Axes>"
      ]
     },
     "metadata": {
      "needs_background": "light"
     },
     "output_type": "display_data"
    }
   ],
   "source": [
    "acc_test = accuracy_score(sentiment_test,y_pred_bool)\n",
    "f1_test = f1_score(sentiment_test, y_pred_bool, average=\"macro\")\n",
    "pre_test = precision_score(sentiment_test, y_pred_bool, average=\"macro\")\n",
    "recall_test = recall_score(sentiment_test, y_pred_bool, average=\"macro\")\n",
    "print(f\"accuracy score on test data: {acc_test}\")\n",
    "print(f\"f1 score on test data: {f1_test}\")\n",
    "print(f\"precision score on test data: {pre_test}\")\n",
    "print(f\"recall score on test data: {recall_test}\")\n",
    "confusion_matrix = metrics.confusion_matrix(sentiment_test, y_pred_bool)\n",
    "\n",
    "cm_display = metrics.ConfusionMatrixDisplay(confusion_matrix = confusion_matrix, display_labels = [0,1,2])\n",
    "\n",
    "cm_display.plot()\n",
    "plt.title('confusion matrix for test data')"
   ]
  },
  {
   "cell_type": "markdown",
   "metadata": {
    "id": "1C32zAnUPt6D"
   },
   "source": [
    "as we can see, results are pretty close even we fine tune whole embedding, which show that our initial values for them (our word2vec like vector) is somewhat good, it couldn't increase our perfromance compared to previous part (all of them are have nearly same values, we can easilly get high acuracy for train data (even more than 90 percent) but for test and validation accuracy will remain near 50 percent."
   ]
  }
 ],
 "metadata": {
  "accelerator": "GPU",
  "colab": {
   "provenance": []
  },
  "gpuClass": "standard",
  "kernelspec": {
   "display_name": "Python 3 (ipykernel)",
   "language": "python",
   "name": "python3"
  },
  "language_info": {
   "codemirror_mode": {
    "name": "ipython",
    "version": 3
   },
   "file_extension": ".py",
   "mimetype": "text/x-python",
   "name": "python",
   "nbconvert_exporter": "python",
   "pygments_lexer": "ipython3",
   "version": "3.11.5"
  }
 },
 "nbformat": 4,
 "nbformat_minor": 1
}
